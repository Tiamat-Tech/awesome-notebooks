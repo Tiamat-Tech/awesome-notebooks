{
 "cells": [
  {
   "cell_type": "markdown",
   "id": "33fcb4fa-9ddc-45cf-8876-d68304fc89cb",
   "metadata": {
    "papermill": {},
    "tags": []
   },
   "source": [
    "<img width=\"8%\" alt=\"Google Docs.png\" src=\"https://raw.githubusercontent.com/jupyter-naas/awesome-notebooks/master/.github/assets/logos/Google%20Docs.png\" style=\"border-radius: 15%\">"
   ]
  },
  {
   "cell_type": "markdown",
   "id": "d71c7b1a-2fb8-4c7f-b79b-77bdfb7df136",
   "metadata": {
    "papermill": {},
    "tags": []
   },
   "source": [
    "# Google Docs - Replace Placeholders in Document\n",
    "<a href=\"https://bit.ly/3JyWIk6\">Give Feedback</a> | <a href=\"https://github.com/jupyter-naas/awesome-notebooks/issues/new?assignees=&labels=bug&template=bug_report.md&title=Google+Docs+-+Replace+Placeholders+in+Document:+Error+short+description\">Bug report</a>"
   ]
  },
  {
   "cell_type": "markdown",
   "id": "ce6c8356-5725-496d-87da-a49909d196a5",
   "metadata": {
    "papermill": {},
    "tags": []
   },
   "source": [
    "**Tags:** #googledocs #placeholderreplacement #productivity #googledocsmagic"
   ]
  },
  {
   "cell_type": "markdown",
   "id": "79346938-e73e-4dc3-ac44-2803923a68af",
   "metadata": {
    "papermill": {},
    "tags": []
   },
   "source": [
    "**Author:** [Chris Arnold](https://chrisarnold.live/me/linkedin)"
   ]
  },
  {
   "cell_type": "markdown",
   "id": "2236b72d-12c3-4d8b-8afc-462002695d21",
   "metadata": {
    "papermill": {},
    "tags": []
   },
   "source": [
    "**Last update:** 2023-11-02 (Created: 2023-10-12)"
   ]
  },
  {
   "cell_type": "markdown",
   "id": "26b7f010-2ca3-465d-b260-de5b4d5bc580",
   "metadata": {
    "papermill": {},
    "tags": []
   },
   "source": [
    "**Description:** This notebook demonstrates how to replace placeholders in a Google Docs document, allowing you to quickly create personalized content from templates."
   ]
  },
  {
   "cell_type": "markdown",
   "id": "c0407562-255b-499c-9268-268344d702f3",
   "metadata": {
    "papermill": {},
    "tags": []
   },
   "source": [
    "**References:**\n",
    "- [Google Docs - API](https://developers.google.com/docs/api/how-tos/overview)\n",
    "- [Google Workspace - Develop on Google Workspace](https://developers.google.com/workspace/guides/get-started)"
   ]
  },
  {
   "cell_type": "markdown",
   "id": "807e4bc5-f630-4513-8237-ce154074f880",
   "metadata": {
    "papermill": {},
    "tags": []
   },
   "source": [
    "## Input"
   ]
  },
  {
   "cell_type": "markdown",
   "id": "3b17bb4d-937e-41c5-bf86-baf65e5a1a04",
   "metadata": {
    "papermill": {},
    "tags": []
   },
   "source": [
    "### Import libraries"
   ]
  },
  {
   "cell_type": "code",
   "execution_count": null,
   "id": "2770eb9a-f979-484e-8829-66a78ea68c26",
   "metadata": {
    "papermill": {},
    "tags": []
   },
   "outputs": [],
   "source": [
    "try:\n",
    "    from apiclient.discovery import build\n",
    "    from google.oauth2.service_account import Credentials\n",
    "except ModuleNotFoundError:\n",
    "    !pip install google-api-python-client\n",
    "    from apiclient.discovery import build\n",
    "    from google.oauth2.service_account import Credentials"
   ]
  },
  {
   "cell_type": "markdown",
   "id": "38be8876-c03a-4c62-9029-6f0d251bd414",
   "metadata": {
    "papermill": {},
    "tags": []
   },
   "source": [
    "### Setup variables\n",
    "**Pre-requisites** \n",
    "- You need to set up service account credentials to use Google Docs API. For detailed instructions on how to do this, please refer to the [Google Docs Python Quickstart guide](https://developers.google.com/docs/api/quickstart/python).\n",
    "- Please also ensure you have the necessary permissions to access and modify the Google Docs document. If global editor access to the document is not preferable, the document needs to be shared with the service account email (xxx@docs-temps.iam.gserviceaccount.com).\n",
    "- It is recommended that the placeholders in the documents are in the format `{{placeholder}}` (with double curly braces) to help with visibility and to avoid words that are not being placeholders from being replaced.\n",
    "\n",
    "**Mandatory** \n",
    "- `service_account_file`: JSON file containing credentials related to service account\n",
    "- `document_url` : URL of Google Doc file.\n",
    "- `placeholder`: The placeholder text.\n",
    "- `replacement_value`: The text to replace the placeholder with."
   ]
  },
  {
   "cell_type": "code",
   "execution_count": null,
   "id": "046a8b7c-91b4-4a07-bebf-cf9ff4f17872",
   "metadata": {
    "papermill": {},
    "tags": []
   },
   "outputs": [],
   "source": [
    "service_account_file = \"credentials.json\"\n",
    "document_url = \"https://docs.google.com/document/d/1gUAb3J8YED90wZVxV6j0zI18hRh4I2y9JR7BqraJ-XY/edit\"\n",
    "placeholder = \"NAME\"\n",
    "replacement_value = \"Florent\""
   ]
  },
  {
   "cell_type": "markdown",
   "id": "dd51d3d6-4aad-442e-a13f-89de1a47349f",
   "metadata": {
    "papermill": {},
    "tags": []
   },
   "source": [
    "## Model"
   ]
  },
  {
   "cell_type": "markdown",
   "id": "74889834-f1cc-4a02-aee5-72c47ac87749",
   "metadata": {
    "papermill": {},
    "tags": []
   },
   "source": [
    "### Connect to GCP"
   ]
  },
  {
   "cell_type": "markdown",
   "id": "f86a42a7-67fc-4ef2-a183-8af754debdd5",
   "metadata": {
    "papermill": {},
    "tags": []
   },
   "source": [
    "This function will create a Docs API client using the service account credentials"
   ]
  },
  {
   "cell_type": "code",
   "execution_count": null,
   "id": "38613536-2eec-4e0f-a154-76d9b0e71107",
   "metadata": {
    "papermill": {},
    "tags": []
   },
   "outputs": [],
   "source": [
    "def gcp_connect(file_path):\n",
    "    scope = \"https://www.googleapis.com/auth/documents\"\n",
    "    credentials = Credentials.from_service_account_file(file_path, scopes=[scope])\n",
    "    service = build('docs', 'v1', credentials=credentials) \n",
    "    return service\n",
    "\n",
    "service = gcp_connect(service_account_file)"
   ]
  },
  {
   "cell_type": "markdown",
   "id": "770b9375-2d34-492e-8982-f3a640d20efb",
   "metadata": {
    "papermill": {},
    "tags": []
   },
   "source": [
    "### Replace placeholder in the document"
   ]
  },
  {
   "cell_type": "code",
   "execution_count": null,
   "id": "dfc79286-971a-4bcd-a50d-e6738d09e491",
   "metadata": {
    "papermill": {},
    "tags": []
   },
   "outputs": [],
   "source": [
    "def placeholder_replacement(\n",
    "    service,\n",
    "    document_url,\n",
    "    placeholder,\n",
    "    replacement_value\n",
    "):\n",
    "    \"\"\"\n",
    "    Replace a placeholder in a Google Docs document with a replacement value.\n",
    "\n",
    "    Args:\n",
    "        service (obj): Google Docs service.\n",
    "        document_url (str): The URL of the Google Docs document.\n",
    "        placeholder (str): The placeholder text.\n",
    "        replacement_value (str): The text to replace the placeholder with.\n",
    "\n",
    "    Returns:\n",
    "        str: A message indicating the number of template occurrences replaced.\n",
    "    \"\"\"\n",
    "    document_id = document_url.split(\"/d/\")[-1].split(\"/\")[0]\n",
    "    \n",
    "    request = {\n",
    "        'replaceAllText': {\n",
    "            'containsText': {\n",
    "                'text': placeholder,\n",
    "                'matchCase': True\n",
    "            },\n",
    "            'replaceText': replacement_value\n",
    "        }\n",
    "    }\n",
    "\n",
    "    body = {\n",
    "        'requests': [request]\n",
    "    }\n",
    "    response = service.documents().batchUpdate(documentId=document_id, body=body).execute()\n",
    "    \n",
    "    occurrences_changed = response.get('replies', [{}])[0].get('replaceAllText', {}).get('occurrencesChanged', 0)\n",
    "\n",
    "    return f\"{occurrences_changed} occurrences of the placeholder '{placeholder}' have been successfully replaced!\"\n",
    "\n",
    "placeholder_replacement(\n",
    "    service,\n",
    "    document_url,\n",
    "    placeholder,\n",
    "    replacement_value\n",
    ")"
   ]
  },
  {
   "cell_type": "markdown",
   "id": "0da1ed11-2f98-4e2c-98aa-15cb8c3421c0",
   "metadata": {
    "papermill": {},
    "tags": []
   },
   "source": [
    "## Output"
   ]
  },
  {
   "cell_type": "markdown",
   "id": "4e4e4480-1371-4881-aba0-2482e23f2e7b",
   "metadata": {
    "papermill": {},
    "tags": []
   },
   "source": [
    "### Display result"
   ]
  },
  {
   "cell_type": "code",
   "execution_count": null,
   "id": "9dd91bda-a29e-4716-80e4-7928e5e9d64f",
   "metadata": {
    "papermill": {},
    "tags": []
   },
   "outputs": [],
   "source": [
    "print(\"To see the result, go to your Google Docs:\", document_url)"
   ]
  },
  {
   "cell_type": "code",
   "execution_count": null,
   "id": "dcfb98c1-0cf2-4c3d-a8e7-9a5f8b106aa1",
   "metadata": {
    "papermill": {},
    "tags": []
   },
   "outputs": [],
   "source": []
  }
 ],
 "metadata": {
  "kernelspec": {
   "display_name": "Python 3",
   "language": "python",
   "name": "python3"
  },
  "language_info": {
   "codemirror_mode": {
    "name": "ipython",
    "version": 3
   },
   "file_extension": ".py",
   "mimetype": "text/x-python",
   "name": "python",
   "nbconvert_exporter": "python",
   "pygments_lexer": "ipython3",
   "version": "3.9.6"
  },
  "naas": {
   "notebook_id": "283a57ac33532d7ea571f472dbfcb0242c13a17be156e843f806ed514305977f",
   "notebook_path": "Google Docs/Google_Docs_Replace_placeholders_in_document.ipynb"
  },
  "papermill": {
   "default_parameters": {},
   "environment_variables": {},
   "parameters": {},
   "version": "2.5.0"
  },
  "widgets": {
   "application/vnd.jupyter.widget-state+json": {
    "state": {},
    "version_major": 2,
    "version_minor": 0
   }
  }
 },
 "nbformat": 4,
 "nbformat_minor": 5
}