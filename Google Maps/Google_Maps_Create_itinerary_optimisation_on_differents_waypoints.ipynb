{
 "cells": [
  {
   "cell_type": "markdown",
   "id": "aa535dc6",
   "metadata": {
    "papermill": {},
    "tags": []
   },
   "source": [
    "<img width=\"8%\" alt=\"Google Maps.png\" src=\"https://raw.githubusercontent.com/jupyter-naas/awesome-notebooks/master/.github/assets/logos/Google%20Maps.png\" style=\"border-radius: 15%\">"
   ]
  },
  {
   "cell_type": "markdown",
   "id": "9baa5343",
   "metadata": {
    "papermill": {},
    "tags": []
   },
   "source": [
    "# Google Maps - Create itinerary optimisation on differents waypoints\n",
    "<a href=\"https://bit.ly/3JyWIk6\">Give Feedback</a> | <a href=\"https://github.com/jupyter-naas/awesome-notebooks/issues/new?assignees=&labels=bug&template=bug_report.md&title=Google+Maps+-+Create+itinerary+optimisation+on+differents+waypoints:+Error+short+description\">Bug report</a>"
   ]
  },
  {
   "cell_type": "markdown",
   "id": "6d796f78",
   "metadata": {
    "papermill": {},
    "tags": []
   },
   "source": [
    "**Tags:** #googlemaps #optimization #data #naas_drivers #operations #snippet #dataframe #google_maps_api #directions_api"
   ]
  },
  {
   "cell_type": "markdown",
   "id": "a7031597-51fe-4422-9b74-a9964fa99fb9",
   "metadata": {
    "papermill": {},
    "tags": []
   },
   "source": [
    "**Author:** [Antonio Georgiev](www.linkedin.com/in/antonio-georgiev-b672a325b)"
   ]
  },
  {
   "cell_type": "markdown",
   "id": "9f496b3b-2630-4acf-85a6-d8af48d2c3e8",
   "metadata": {
    "papermill": {},
    "tags": []
   },
   "source": [
    "**Last update:** 2023-08-08 (Created: 2023-08-08)"
   ]
  },
  {
   "cell_type": "markdown",
   "id": "naas-description",
   "metadata": {
    "papermill": {},
    "tags": [
     "description"
    ]
   },
   "source": [
    "**Description:** This template analyses a given set of waypoints, optimizes the order of visiting them, and outputs a list with the correct order. Thus, making it useful for travelers, who want to visit multiple locations most efficiently."
   ]
  },
  {
   "cell_type": "markdown",
   "id": "4f808ecf",
   "metadata": {
    "papermill": {},
    "tags": []
   },
   "source": [
    "## Input"
   ]
  },
  {
   "cell_type": "markdown",
   "id": "82aa1a24",
   "metadata": {
    "papermill": {},
    "tags": []
   },
   "source": [
    "### Import libraries"
   ]
  },
  {
   "cell_type": "code",
   "execution_count": null,
   "id": "5dd38d44",
   "metadata": {
    "papermill": {},
    "tags": []
   },
   "outputs": [],
   "source": [
    "import naas\n",
    "import folium\n",
    "try:\n",
    "    import polyline\n",
    "except ImportError:\n",
    "    !pip install polyline\n",
    "    import polyline\n",
    "from geopy.geocoders import Nominatim\n",
    "from itertools import permutations\n",
    "try:\n",
    "    import googlemaps\n",
    "except ImportError:\n",
    "    !pip install googlemaps\n",
    "    import googlemaps"
   ]
  },
  {
   "cell_type": "markdown",
   "id": "2195c4c9-e7d0-4f14-a6b3-eab68b7e65c4",
   "metadata": {
    "papermill": {},
    "tags": []
   },
   "source": [
    "### Setup variables\n",
    "**Mandatory**\n",
    "\n",
    "Pre-requisite: \n",
    "1. Follow the steps in the link - https://developers.google.com/maps/documentation/routes/cloud-setup\n",
    "2. Sign up for an account with the Routes API provider.\n",
    "3. Make sure to enable Routes API as it is in the \"Additional APIs\" section in the google cloud console.\n",
    "4. Check the available countries https://developers.google.com/maps/documentation/routes/calculate_toll_fees#toll-locations\n",
    "\n",
    "- `api_key`: This variable holds the Google Cloud Platform (GCP) API key.\n",
    "- `origin`: This variable represents the starting location for a journey.\n",
    "- `waypoints`: This variable indicates the list of differents waypoints for a journey.\n",
    "- `destination`: This variable indicates the end location or destination for a journey."
   ]
  },
  {
   "cell_type": "code",
   "execution_count": null,
   "id": "ccb3a83d-9448-40cf-ad37-45d939435e5b",
   "metadata": {
    "papermill": {},
    "tags": []
   },
   "outputs": [],
   "source": [
    "# Mandatory\n",
    "api_key = naas.secret.get(\"GCP_MAP_API_KEY\") or \"YOUR_GCP_MAP_API_KEY\"  # Read API key from the secret variable GCP_MAP_API_KEY\n",
    "origin = \"Circonvallazione Salaria, 00199, Rome RM, Italy\"\n",
    "waypoints = [\n",
    "    \"Corso Australia, 35136 Padova PD, Italy\",\n",
    "    \"Viale Jacopo dal Verme, 36100 Vicenza, VI, Italy\",\n",
    "    \"Viale Nino Bixio, 1, 31100 Treviso TV, Italy\"\n",
    "]\n",
    "destination = \"Milan, Italy\""
   ]
  },
  {
   "cell_type": "markdown",
   "id": "f0a5f069",
   "metadata": {
    "papermill": {},
    "tags": []
   },
   "source": [
    "## Model"
   ]
  },
  {
   "cell_type": "markdown",
   "id": "3c5ef12a-c817-49b4-a7c0-7167d0662e35",
   "metadata": {
    "papermill": {},
    "tags": []
   },
   "source": [
    "### Connect to Google Maps"
   ]
  },
  {
   "cell_type": "code",
   "execution_count": null,
   "id": "b969ed8e-ac60-40f2-a196-b69a996f3b96",
   "metadata": {
    "papermill": {},
    "tags": []
   },
   "outputs": [],
   "source": [
    "gmaps = googlemaps.Client(key=api_key)"
   ]
  },
  {
   "cell_type": "markdown",
   "id": "f5adfe2b-7ebe-477d-a684-dfad26b7864d",
   "metadata": {
    "papermill": {},
    "tags": []
   },
   "source": [
    "### Convert the addresses to coordinates function"
   ]
  },
  {
   "cell_type": "code",
   "execution_count": null,
   "id": "da376e90-c912-46e5-82bf-5d9ca94125b6",
   "metadata": {
    "papermill": {},
    "tags": []
   },
   "outputs": [],
   "source": [
    "def get_coordinates(locations):\n",
    "    geolocator = Nominatim(user_agent=\"geoapiExercises\")\n",
    "    coordinates = []\n",
    "    for location in locations:\n",
    "        address = geolocator.geocode(location)\n",
    "        if address:\n",
    "            coordinates.append((address.latitude, address.longitude))\n",
    "    return coordinates"
   ]
  },
  {
   "cell_type": "markdown",
   "id": "a704bd92-9e1f-4a4c-bb13-714bbcb91a6c",
   "metadata": {
    "papermill": {},
    "tags": []
   },
   "source": [
    "### Calculate total distance function"
   ]
  },
  {
   "cell_type": "code",
   "execution_count": null,
   "id": "bd81894d-af56-468c-b2da-884a462a6c5f",
   "metadata": {
    "papermill": {},
    "tags": []
   },
   "outputs": [],
   "source": [
    "def calculate_total_distance(gmaps, waypoints):\n",
    "    total_distance_meters = 0\n",
    "    for i in range(len(waypoints) - 1):\n",
    "        from_point = waypoints[i]\n",
    "        to_point = waypoints[i + 1]\n",
    "        route = gmaps.directions(from_point, to_point, mode=\"driving\", optimize_waypoints=True)\n",
    "        if route:\n",
    "            total_distance_meters += route[0][\"legs\"][0][\"distance\"][\"value\"]\n",
    "        else:\n",
    "            raise ValueError(f\"Error calculating distance between waypoints {i} and {i+1}\")\n",
    "    return total_distance_meters"
   ]
  },
  {
   "cell_type": "markdown",
   "id": "a9e1af90-c9e2-4a8e-b03d-d594926ad600",
   "metadata": {
    "papermill": {},
    "tags": []
   },
   "source": [
    "### Optimize waypoints function"
   ]
  },
  {
   "cell_type": "code",
   "execution_count": null,
   "id": "89e65f28-7aeb-4857-b16a-272876553714",
   "metadata": {
    "papermill": {},
    "tags": []
   },
   "outputs": [],
   "source": [
    "def optimize_waypoints(gmaps, waypoints):\n",
    "    min_distance = float(\"inf\")\n",
    "    optimized_order = None\n",
    "\n",
    "    for perm in permutations(waypoints[1:-1]):\n",
    "        waypoints_order = [waypoints[0]] + list(perm) + [waypoints[-1]]\n",
    "        total_distance = calculate_total_distance(gmaps, waypoints_order)\n",
    "        if total_distance < min_distance:\n",
    "            min_distance = total_distance\n",
    "            optimized_order = waypoints_order\n",
    "\n",
    "    return optimized_order"
   ]
  },
  {
   "cell_type": "markdown",
   "id": "1cc17911-a782-4a83-90ec-d31eec8d332b",
   "metadata": {
    "papermill": {},
    "tags": []
   },
   "source": [
    "### Create a map to display the route"
   ]
  },
  {
   "cell_type": "code",
   "execution_count": null,
   "id": "f6ff7054-8fee-456d-a3a1-58b932887b8e",
   "metadata": {
    "papermill": {},
    "tags": []
   },
   "outputs": [],
   "source": [
    "locations = [origin] + waypoints + [destination]\n",
    "coordinates = get_coordinates(locations)\n",
    "optimized_waypoints = optimize_waypoints(gmaps, coordinates)\n",
    "map_optimized_route = folium.Map(location=optimized_waypoints[0], zoom_start=5)\n",
    "\n",
    "for i in range(len(optimized_waypoints) - 1):\n",
    "    from_point = optimized_waypoints[i]\n",
    "    to_point = optimized_waypoints[i + 1]\n",
    "    route = gmaps.directions(from_point, to_point, mode=\"driving\", optimize_waypoints=True)\n",
    "    if route:\n",
    "        route_polyline = route[0][\"overview_polyline\"][\"points\"]\n",
    "        decoded_points = polyline.decode(route_polyline)\n",
    "        folium.PolyLine(locations=decoded_points, color='blue').add_to(map_optimized_route)\n",
    "        for i, waypoint in enumerate(optimized_waypoints):\n",
    "            location = gmaps.reverse_geocode(waypoint)\n",
    "            address = location[0][\"formatted_address\"]\n",
    "            folium.Marker(waypoint, popup=f\"Waypoint {i+1}: {address}\").add_to(map_optimized_route)\n",
    "    else:\n",
    "        raise ValueError(f\"Error calculating route between waypoints {from_point} and {to_point}\")"
   ]
  },
  {
   "cell_type": "markdown",
   "id": "6dfc80b7-fe40-46de-9a4a-1ecf546a7efc",
   "metadata": {
    "papermill": {},
    "tags": []
   },
   "source": [
    "## Output"
   ]
  },
  {
   "cell_type": "markdown",
   "id": "3d7cd7d7",
   "metadata": {
    "papermill": {},
    "tags": []
   },
   "source": [
    "### Print the optimized order of the waypoints and display the route on a map"
   ]
  },
  {
   "cell_type": "code",
   "execution_count": null,
   "id": "cfef7669",
   "metadata": {
    "papermill": {},
    "tags": []
   },
   "outputs": [],
   "source": [
    "print(\"Optimized Waypoint Order:\")\n",
    "print()\n",
    "for i, waypoint in enumerate(optimized_waypoints):\n",
    "        if isinstance(waypoint, tuple):\n",
    "            location = gmaps.reverse_geocode(waypoint)\n",
    "            address = location[0][\"formatted_address\"]\n",
    "        if i == 0:\n",
    "            print(f\"🚦 Origin: {address}\")\n",
    "        elif i == len(optimized_waypoints) - 1:\n",
    "            print(f\"🏁 Destination: {address}\")\n",
    "        else:\n",
    "            print(f\"📍 Waypoint {i}: {address}\")\n",
    "\n",
    "    # Calculate and display the total distance for the optimized order\n",
    "total_distance = calculate_total_distance(gmaps, optimized_waypoints)\n",
    "total_distance_km = total_distance / 1000\n",
    "print()\n",
    "print(f\"Total Distance: {total_distance_km:.2f} km\")\n",
    "display(map_optimized_route)"
   ]
  },
  {
   "cell_type": "code",
   "execution_count": null,
   "id": "29ce97f6-c8b2-4226-a60d-8491029e4eca",
   "metadata": {
    "papermill": {},
    "tags": []
   },
   "outputs": [],
   "source": []
  }
 ],
 "metadata": {
  "interpreter": {
   "hash": "aee8b7b246df8f9039afb4144a1f6fd8d2ca17a180786b69acc140d282b71a49"
  },
  "kernelspec": {
   "display_name": "Python 3",
   "language": "python",
   "name": "python3"
  },
  "language_info": {
   "codemirror_mode": {
    "name": "ipython",
    "version": 3
   },
   "file_extension": ".py",
   "mimetype": "text/x-python",
   "name": "python",
   "nbconvert_exporter": "python",
   "pygments_lexer": "ipython3",
   "version": "3.9.6"
  },
  "naas": {
   "notebook_id": "cad8fb307d05f4ec0dcf9a7567bc7e5c2fc50a8ec0f9537ac26299130df2987a",
   "notebook_path": "Google Maps/Google_Maps_Create_itinerary_optimisation_on_differents_waypoints.ipynb"
  },
  "papermill": {
   "default_parameters": {},
   "environment_variables": {},
   "parameters": {},
   "version": "2.3.3"
  },
  "widgets": {
   "application/vnd.jupyter.widget-state+json": {
    "state": {},
    "version_major": 2,
    "version_minor": 0
   }
  }
 },
 "nbformat": 4,
 "nbformat_minor": 5
}