{
 "cells": [
  {
   "cell_type": "markdown",
   "id": "latin-packing",
   "metadata": {
    "execution": {
     "iopub.execute_input": "2021-02-23T14:22:16.610471Z",
     "iopub.status.busy": "2021-02-23T14:22:16.610129Z",
     "iopub.status.idle": "2021-02-23T14:22:16.627784Z",
     "shell.execute_reply": "2021-02-23T14:22:16.626866Z",
     "shell.execute_reply.started": "2021-02-23T14:22:16.610384Z"
    },
    "papermill": {},
    "tags": []
   },
   "source": [
    "<img width=\"8%\" alt=\"Google Maps.png\" src=\"https://raw.githubusercontent.com/jupyter-naas/awesome-notebooks/master/.github/assets/logos/Google%20Maps.png\" style=\"border-radius: 15%\">"
   ]
  },
  {
   "cell_type": "markdown",
   "id": "compressed-wilson",
   "metadata": {
    "papermill": {},
    "tags": []
   },
   "source": [
    "# Google Maps - Create and display distance matrix\n",
    "<a href=\"https://bit.ly/3JyWIk6\">Give Feedback</a> | <a href=\"https://github.com/jupyter-naas/awesome-notebooks/issues/new?assignees=&labels=bug&template=bug_report.md&title=Google+Maps+-+Create+and+display+distance+matrix:+Error+short+description\">Bug report</a>"
   ]
  },
  {
   "cell_type": "markdown",
   "id": "cbf7f260-f739-4e8f-9074-f070af12b69f",
   "metadata": {
    "papermill": {},
    "tags": []
   },
   "source": [
    "**Tags:** #googlemaps #productivity #operations #automation #jupyternotebooks"
   ]
  },
  {
   "cell_type": "markdown",
   "id": "8af9aa79",
   "metadata": {
    "papermill": {},
    "tags": []
   },
   "source": [
    "**Author:** [Antonio Georgiev](www.linkedin.com/in/antonio-georgiev-b672a325b)"
   ]
  },
  {
   "cell_type": "markdown",
   "id": "b36dd34f-3fc2-46a4-9f53-164f2bc90572",
   "metadata": {
    "papermill": {},
    "tags": []
   },
   "source": [
    "**Last update:** 2023-08-08 (Created: 2023-08-08)"
   ]
  },
  {
   "cell_type": "markdown",
   "id": "02372be1-b4aa-485a-8e01-40e209e83880",
   "metadata": {
    "papermill": {},
    "tags": []
   },
   "source": [
    "**Description:** This notebook shows how to use the Google Maps Distance Matrix API to determine distances and trip durations between a number of different origins and destinations, giving accurate and efficient geospatial data. Furthermore, it provides a visual representation of the created matrix."
   ]
  },
  {
   "cell_type": "markdown",
   "id": "distinguished-truth",
   "metadata": {
    "papermill": {},
    "tags": []
   },
   "source": [
    "## Input"
   ]
  },
  {
   "cell_type": "markdown",
   "id": "b56e47f5-be89-4591-93ec-01e8fac50def",
   "metadata": {
    "papermill": {},
    "tags": []
   },
   "source": [
    "### Import libraries"
   ]
  },
  {
   "cell_type": "code",
   "execution_count": null,
   "id": "6b63229c-7614-4dc8-ba2a-e0b1e2f64918",
   "metadata": {
    "papermill": {},
    "tags": []
   },
   "outputs": [],
   "source": [
    "import os\n",
    "import requests\n",
    "import naas\n",
    "import folium\n",
    "import googlemaps\n",
    "import polyline\n",
    "from geopy.geocoders import Nominatim"
   ]
  },
  {
   "cell_type": "markdown",
   "id": "8b137e47-e5f6-429f-8321-3f8e4b070562",
   "metadata": {
    "papermill": {},
    "tags": []
   },
   "source": [
    "### Setup variables\n",
    "**Mandatory**\n",
    "\n",
    "Pre-requisite: \n",
    "1. Follow the steps in the link - https://developers.google.com/maps/documentation/routes/cloud-setup\n",
    "2. Sign up for an account with the Routes API provider.\n",
    "3. Make sure to enable Routes API as it is in the \"Additional APIs\" section in the google cloud console.\n",
    "4. Check the available countries https://developers.google.com/maps/documentation/routes/calculate_toll_fees#toll-locations\n",
    "\n",
    "- `api_key`: This variable holds the Google Cloud Platform (GCP) API key.\n",
    "- `origins`: This variable represents the starting locations for a journey.\n",
    "- `destinations`: This variable indicates the end location or destination for a journey.\n",
    "\n",
    "**Optional**\n",
    "- `colors`: List of colors to be used to diplay routes"
   ]
  },
  {
   "cell_type": "code",
   "execution_count": null,
   "id": "bffaf74b-3e26-408f-9a55-bb495577cdf6",
   "metadata": {
    "papermill": {},
    "tags": []
   },
   "outputs": [],
   "source": [
    "# Mandatory\n",
    "api_key = naas.secret.get(\"GCP_MAP_API_KEY\") or \"YOUR_GCP_MAP_API_KEY\"  # Read API key from the secret variable GCP_MAP_API_KEY\n",
    "origins = [\"New York, NY\"]\n",
    "destinations = [\"San Francisco, CA\", \"Miami, FL\", \"Seattle, WA\"]\n",
    "\n",
    "# Optional\n",
    "colors = ['blue', 'red', 'green', 'orange', 'purple', 'yellow']"
   ]
  },
  {
   "cell_type": "markdown",
   "id": "registered-showcase",
   "metadata": {
    "papermill": {},
    "tags": []
   },
   "source": [
    "## Model"
   ]
  },
  {
   "cell_type": "markdown",
   "id": "715fe3db-23e1-4508-af64-a7d819cf5a53",
   "metadata": {
    "papermill": {},
    "tags": []
   },
   "source": [
    "### Connect to Google Maps"
   ]
  },
  {
   "cell_type": "code",
   "execution_count": null,
   "id": "845fdf01-6fca-46c9-862c-b9ffa79e91c4",
   "metadata": {
    "papermill": {},
    "tags": []
   },
   "outputs": [],
   "source": [
    "gmaps = googlemaps.Client(key=api_key)"
   ]
  },
  {
   "cell_type": "markdown",
   "id": "4c610c4f-35c2-4685-bc9f-bb316d084db4",
   "metadata": {
    "papermill": {},
    "tags": []
   },
   "source": [
    "### Get distance matrix"
   ]
  },
  {
   "cell_type": "code",
   "execution_count": null,
   "id": "be9f606b-c55d-4185-af58-b0780d4312d2",
   "metadata": {
    "papermill": {},
    "tags": []
   },
   "outputs": [],
   "source": [
    "def get_distance_matrix(api_key, origins, destinations, mode=\"driving\", units=\"metric\"):\n",
    "    url = f\"https://maps.googleapis.com/maps/api/distancematrix/json\"\n",
    "    params = {\n",
    "        \"key\": api_key,\n",
    "        \"origins\": \"|\".join(origins),\n",
    "        \"destinations\": \"|\".join(destinations),\n",
    "        \"mode\": mode,\n",
    "        \"units\": units\n",
    "    }\n",
    "\n",
    "    response = requests.get(url, params=params)\n",
    "    data = response.json()\n",
    "\n",
    "    if data[\"status\"] == \"OK\":\n",
    "        return data[\"rows\"]\n",
    "    else:\n",
    "        print(f\"Error: {data['status']}\")\n",
    "        return None\n",
    "    \n",
    "matrix = get_distance_matrix(api_key, origins, destinations)"
   ]
  },
  {
   "cell_type": "markdown",
   "id": "c1e4c55b",
   "metadata": {
    "papermill": {},
    "tags": []
   },
   "source": [
    "## Output"
   ]
  },
  {
   "cell_type": "markdown",
   "id": "2665cb7f-1504-48d7-9d49-8b30fd80e359",
   "metadata": {
    "papermill": {},
    "tags": []
   },
   "source": [
    "### Process the data retrieved by the distance matrix "
   ]
  },
  {
   "cell_type": "code",
   "execution_count": null,
   "id": "2fafe16a-ccca-43ae-88fd-eb23af803fe6",
   "metadata": {
    "papermill": {},
    "tags": []
   },
   "outputs": [],
   "source": [
    "if matrix:\n",
    "    map_routes = folium.Map(location=[37.7749, -122.4194], zoom_start=4)\n",
    "\n",
    "    for origin in origins:\n",
    "        location = Nominatim(user_agent=\"geoapiExercises\").geocode(origin)\n",
    "        folium.Marker([location.latitude, location.longitude], popup=folium.Popup(location.address)).add_to(map_routes)\n",
    "\n",
    "    for destination in destinations:\n",
    "        location = Nominatim(user_agent=\"geoapiExercises\").geocode(destination)\n",
    "        folium.Marker([location.latitude, location.longitude], popup=folium.Popup(location.address)).add_to(map_routes)\n",
    "\n",
    "    for origin_index, origin in enumerate(matrix):\n",
    "        for destination_index, destination in enumerate(origin[\"elements\"]):\n",
    "            if \"status\" in destination and destination[\"status\"] == \"OK\":\n",
    "                origin_location = origins[origin_index]\n",
    "                destination_location = destinations[destination_index]\n",
    "                directions = gmaps.directions(origin_location, destination_location, mode=\"driving\")\n",
    "                if directions:\n",
    "                    color_index = (origin_index + destination_index) % len(colors)  # Fixed color_index calculation\n",
    "                    for step in directions[0]['legs'][0]['steps']:\n",
    "                        polyline_data = step['polyline']['points']\n",
    "                        decoded_points = polyline.decode(polyline_data)\n",
    "                        folium.PolyLine(locations=decoded_points, color=colors[color_index]).add_to(map_routes)\n",
    "\n",
    "for origin_index, origin in enumerate(matrix):\n",
    "    for destination_index, destination in enumerate(origin[\"elements\"]):\n",
    "        distance = destination[\"distance\"][\"text\"]\n",
    "        duration = destination[\"duration\"][\"text\"]\n",
    "        color_index = (origin_index + destination_index) % len(colors)\n",
    "        print(f\"🗺️ From {origins[origin_index]} to {destinations[destination_index]}\")\n",
    "        print(f\"-Route color: {colors[color_index]} \\n-Distance: {distance} \\n-Duration: {duration}\")\n",
    "        print()\n",
    "        \n",
    "map_routes"
   ]
  }
 ],
 "metadata": {
  "kernelspec": {
   "display_name": "Python 3",
   "language": "python",
   "name": "python3"
  },
  "language_info": {
   "codemirror_mode": {
    "name": "ipython",
    "version": 3
   },
   "file_extension": ".py",
   "mimetype": "text/x-python",
   "name": "python",
   "nbconvert_exporter": "python",
   "pygments_lexer": "ipython3",
   "version": "3.9.6"
  },
  "naas": {
   "notebook_id": "d41f3d68b8aab7d650b71042b444c5e5ebb1d8b4d3ca1487383f3c3aab62dc85",
   "notebook_path": "Google Maps/Google_Maps_Create_and_display_distance_matrix.ipynb"
  },
  "papermill": {
   "default_parameters": {},
   "environment_variables": {},
   "parameters": {},
   "version": "2.3.3"
  },
  "widgets": {
   "application/vnd.jupyter.widget-state+json": {
    "state": {},
    "version_major": 2,
    "version_minor": 0
   }
  }
 },
 "nbformat": 4,
 "nbformat_minor": 5
}