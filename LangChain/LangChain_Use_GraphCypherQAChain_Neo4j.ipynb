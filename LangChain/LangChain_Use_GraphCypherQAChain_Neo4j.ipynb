{
 "cells": [
  {
   "cell_type": "markdown",
   "id": "2421c271",
   "metadata": {
    "execution": {
     "iopub.execute_input": "2021-02-23T14:22:16.610471Z",
     "iopub.status.busy": "2021-02-23T14:22:16.610129Z",
     "iopub.status.idle": "2021-02-23T14:22:16.627784Z",
     "shell.execute_reply": "2021-02-23T14:22:16.626866Z",
     "shell.execute_reply.started": "2021-02-23T14:22:16.610384Z"
    },
    "papermill": {},
    "tags": []
   },
   "source": [
    "<img width=\"8%\" alt=\"LangChain.png\" src=\"https://raw.githubusercontent.com/jupyter-naas/awesome-notebooks/master/.github/assets/logos/LangChain.png\" style=\"border-radius: 15%\">"
   ]
  },
  {
   "cell_type": "markdown",
   "id": "abc5ba20",
   "metadata": {
    "papermill": {},
    "tags": []
   },
   "source": [
    "# LangChain - Use Graph Cypher QA Chain from Neo4j\n",
    "<a href=\"https://bit.ly/3JyWIk6\">Give Feedback</a> | <a href=\"https://github.com/jupyter-naas/awesome-notebooks/issues/new?assignees=&labels=bug&template=bug_report.md&title=LangChain+-+Use+Graph+Cypher+QA+Chain+from+Neo4j:+Error+short+description\">Bug report</a>"
   ]
  },
  {
   "cell_type": "markdown",
   "id": "12cf64d4",
   "metadata": {
    "papermill": {},
    "tags": []
   },
   "source": [
    "**Tags:** #langchain #neo4j #graph #knowledge"
   ]
  },
  {
   "cell_type": "markdown",
   "id": "2f7a5faf",
   "metadata": {
    "papermill": {},
    "tags": []
   },
   "source": [
    "**Author:** [Florent Ravenel](https://www.linkedin.com/in/florent-ravenel)"
   ]
  },
  {
   "cell_type": "markdown",
   "id": "93a2c11f",
   "metadata": {
    "papermill": {},
    "tags": []
   },
   "source": [
    "**Last update:** 2024-04-29 (Created: 2024-04-29)"
   ]
  },
  {
   "cell_type": "markdown",
   "id": "10f820cf",
   "metadata": {
    "papermill": {},
    "tags": []
   },
   "source": [
    "**Description:** This notebook uses GraphCypherQAChain from a Knowledge graph in Neo4j."
   ]
  },
  {
   "cell_type": "markdown",
   "id": "4411cc98",
   "metadata": {
    "papermill": {},
    "tags": []
   },
   "source": [
    "**References:**\n",
    "- [Medium - Using a Knowledge Graph to Implement a DevOps RAG Application](https://medium.com/neo4j/using-a-knowledge-graph-to-implement-a-devops-rag-application-b6ba24831b16)"
   ]
  },
  {
   "cell_type": "markdown",
   "id": "4a9b3036",
   "metadata": {
    "papermill": {},
    "tags": []
   },
   "source": [
    "## Input"
   ]
  },
  {
   "cell_type": "markdown",
   "id": "474d7122",
   "metadata": {
    "papermill": {},
    "tags": []
   },
   "source": [
    "### Import libraries"
   ]
  },
  {
   "cell_type": "code",
   "execution_count": 1,
   "id": "f422e535",
   "metadata": {
    "papermill": {},
    "tags": []
   },
   "outputs": [],
   "source": [
    "import naas\n",
    "import os\n",
    "import requests\n",
    "try:\n",
    "    from langchain.graphs import Neo4jGraph\n",
    "    from langchain.chains import RetrievalQA, GraphCypherQAChain\n",
    "except:\n",
    "    !pip install langchain==0.1.13 --user\n",
    "    from langchain.graphs import Neo4jGraph\n",
    "    from langchain.chains import RetrievalQA, GraphCypherQAChain\n",
    "try:\n",
    "    from langchain_openai import ChatOpenAI\n",
    "except:\n",
    "    !pip install langchain-openai=0.1.1 --user\n",
    "    from langchain_openai import ChatOpenAI"
   ]
  },
  {
   "cell_type": "markdown",
   "id": "77015a5d",
   "metadata": {
    "papermill": {},
    "tags": []
   },
   "source": [
    "### Setup variables"
   ]
  },
  {
   "cell_type": "code",
   "execution_count": 2,
   "id": "bb0ea3d8",
   "metadata": {
    "papermill": {},
    "tags": []
   },
   "outputs": [],
   "source": [
    "url = \"neo4j+s://a23aa9f6.databases.neo4j.io:7687\"\n",
    "username = naas.secret.get(\"NEO4J_USERNAME\")\n",
    "password = naas.secret.get(\"NEO4J_PASSWORD\")\n",
    "os.environ['OPENAI_API_KEY'] = naas.secret.get(\"OPENAI_API_KEY\")\n",
    "question = \"How much likes did the last post made?\""
   ]
  },
  {
   "cell_type": "markdown",
   "id": "1bbe1d51",
   "metadata": {
    "papermill": {},
    "tags": []
   },
   "source": [
    "## Model"
   ]
  },
  {
   "cell_type": "markdown",
   "id": "3d3fb7da",
   "metadata": {
    "papermill": {},
    "tags": []
   },
   "source": [
    "### Neo4j Graph Setup"
   ]
  },
  {
   "cell_type": "code",
   "execution_count": 3,
   "id": "f094e19e",
   "metadata": {
    "papermill": {},
    "tags": []
   },
   "outputs": [],
   "source": [
    "graph = Neo4jGraph(\n",
    "    url=url, \n",
    "    username=username,\n",
    "    password=password\n",
    ")"
   ]
  },
  {
   "cell_type": "markdown",
   "id": "07fcb2f7",
   "metadata": {
    "papermill": {},
    "tags": []
   },
   "source": [
    "### GraphCypherQAChain"
   ]
  },
  {
   "cell_type": "code",
   "execution_count": 4,
   "id": "559338ca",
   "metadata": {
    "papermill": {},
    "tags": []
   },
   "outputs": [],
   "source": [
    "graph.refresh_schema()\n",
    "\n",
    "cypher_chain = GraphCypherQAChain.from_llm(\n",
    "    cypher_llm=ChatOpenAI(temperature=0, model_name='gpt-4'),\n",
    "    qa_llm=ChatOpenAI(temperature=0),\n",
    "    graph=graph,\n",
    "    verbose=True,\n",
    ")"
   ]
  },
  {
   "cell_type": "markdown",
   "id": "a301bca4",
   "metadata": {
    "papermill": {},
    "tags": []
   },
   "source": [
    "## Output"
   ]
  },
  {
   "cell_type": "markdown",
   "id": "83302487",
   "metadata": {
    "papermill": {},
    "tags": []
   },
   "source": [
    "### Test Question"
   ]
  },
  {
   "cell_type": "code",
   "execution_count": 5,
   "id": "a2c3963b",
   "metadata": {
    "papermill": {},
    "tags": []
   },
   "outputs": [],
   "source": [
    "cypher_chain.invoke(\n",
    "    question\n",
    ")"
   ]
  },
  {
   "cell_type": "code",
   "execution_count": null,
   "id": "8e249e97",
   "metadata": {
    "papermill": {},
    "tags": []
   },
   "outputs": [],
   "source": []
  }
 ],
 "metadata": {
  "kernelspec": {
   "display_name": "Python 3",
   "language": "python",
   "name": "python3"
  },
  "language_info": {
   "codemirror_mode": {
    "name": "ipython",
    "version": 3
   },
   "file_extension": ".py",
   "mimetype": "text/x-python",
   "name": "python",
   "nbconvert_exporter": "python",
   "pygments_lexer": "ipython3",
   "version": "3.9.6"
  },
  "naas": {
   "notebook_id": "739cbadc62f3d0eeae2e626c4e2c9574ee0a7c47c3a0ddb5c5993f6c34cfad33",
   "notebook_path": "LangChain/LangChain_Use_GraphCypherQAChain_Neo4j.ipynb"
  },
  "papermill": {
   "default_parameters": {},
   "environment_variables": {},
   "parameters": {},
   "version": "2.6.0"
  }
 },
 "nbformat": 4,
 "nbformat_minor": 5
}