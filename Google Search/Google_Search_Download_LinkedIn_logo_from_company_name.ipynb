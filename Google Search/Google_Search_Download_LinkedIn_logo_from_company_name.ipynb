{
 "cells": [
  {
   "cell_type": "markdown",
   "id": "derived-intention",
   "metadata": {
    "papermill": {},
    "tags": []
   },
   "source": [
    "<img width=\"8%\" alt=\"Google Search.png\" src=\"https://raw.githubusercontent.com/jupyter-naas/awesome-notebooks/master/.github/assets/logos/Google%20Search.png\" style=\"border-radius: 15%\">"
   ]
  },
  {
   "cell_type": "markdown",
   "id": "broad-biotechnology",
   "metadata": {
    "papermill": {},
    "tags": []
   },
   "source": [
    "# Google Search - Search and Download LinkedIn logo from company names\n",
    "<a href=\"https://bit.ly/3JyWIk6\">Give Feedback</a> | <a href=\"https://github.com/jupyter-naas/awesome-notebooks/issues/new?assignees=&labels=bug&template=bug_report.md&title=Google+Search+-+Search+and+Download+LinkedIn+logo+from+company+names:+Error+short+description\">Bug report</a>"
   ]
  },
  {
   "cell_type": "markdown",
   "id": "tags_cell",
   "metadata": {
    "papermill": {},
    "tags": []
   },
   "source": [
    "**Tags:** #googlesearch #snippet #operations #url #linkedin #logo #image #download"
   ]
  },
  {
   "cell_type": "markdown",
   "id": "naas-author",
   "metadata": {
    "papermill": {},
    "tags": [
     "naas"
    ]
   },
   "source": [
    "**Author:** [Florent Ravenel](https://www.linkedin.com/in/ACoAABCNSioBW3YZHc2lBHVG0E_TXYWitQkmwog/)"
   ]
  },
  {
   "cell_type": "markdown",
   "id": "2f5dcf6f-b648-44ee-9b59-da16dc1abd49",
   "metadata": {
    "papermill": {},
    "tags": []
   },
   "source": [
    "**Last update:** 2023-11-06 (Created: 2023-11-06)"
   ]
  },
  {
   "cell_type": "markdown",
   "id": "naas-description",
   "metadata": {
    "papermill": {},
    "tags": [
     "description"
    ]
   },
   "source": [
    "**Description:** This notebook is designed to search and download the logo of a list of companies The logo that will be downloaded is the one associated with the company's LinkedIn page. In case the logo is not available on the LinkedIn company page, the notebook will not retrieve any logo."
   ]
  },
  {
   "cell_type": "markdown",
   "id": "input_cell",
   "metadata": {
    "papermill": {},
    "tags": []
   },
   "source": [
    "## Input"
   ]
  },
  {
   "cell_type": "markdown",
   "id": "7b426a4c-db44-4b15-867b-ef0d7f52c142",
   "metadata": {
    "papermill": {},
    "tags": []
   },
   "source": [
    "### Import libraries"
   ]
  },
  {
   "cell_type": "code",
   "execution_count": null,
   "id": "5db19a20-c212-47ac-9869-4f28a10e083f",
   "metadata": {
    "papermill": {},
    "tags": []
   },
   "outputs": [],
   "source": [
    "try:\n",
    "    from googlesearch import search\n",
    "except:\n",
    "    !pip install google\n",
    "    from googlesearch import search\n",
    "import re\n",
    "import naas\n",
    "from naas_drivers import linkedin\n",
    "import requests\n",
    "import os"
   ]
  },
  {
   "cell_type": "markdown",
   "id": "26884c4a-fa7d-435d-ab87-ef597ccbf159",
   "metadata": {
    "papermill": {},
    "tags": []
   },
   "source": [
    "### Setup variables\n",
    "**Mandatory**\n",
    "\n",
    "[Learn how to get your cookies on LinkedIn](https://www.notion.so/LinkedIn-driver-Get-your-cookies-d20a8e7e508e42af8a5b52e33f3dba75)\n",
    "- `li_at`: Cookie used to authenticate Members and API clients.\n",
    "- `JSESSIONID`: Cookie used for Cross Site Request Forgery (CSRF) protection and URL signature validation.\n",
    "- `companies`: List of companies\n",
    "\n",
    "**Optional**\n",
    "- `output_dir`: Output directory"
   ]
  },
  {
   "cell_type": "code",
   "execution_count": null,
   "id": "a939647a-edc3-464f-9421-ef47fd477bae",
   "metadata": {
    "papermill": {},
    "tags": []
   },
   "outputs": [],
   "source": [
    "# Mandatory\n",
    "li_at = naas.secret.get(\"LINKEDIN_LI_AT\") or \"YOUR_LINKEDIN_LI_AT\" #example: AQFAzQN_PLPR4wAAAXc-FCKmgiMit5FLdY1af3-2\n",
    "JSESSIONID = naas.secret.get(\"LINKEDIN_JSESSIONID\") or \"YOUR_LINKEDIN_JSESSIONID\" #example: ajax:8379907400220387585\n",
    "companies = [\"Naas.ai\"]\n",
    "\n",
    "# Optional\n",
    "output_dir = \"logos\""
   ]
  },
  {
   "cell_type": "markdown",
   "id": "model_cell",
   "metadata": {
    "papermill": {},
    "tags": []
   },
   "source": [
    "## Model"
   ]
  },
  {
   "cell_type": "markdown",
   "id": "627c7165-9f91-43c7-a12d-b2c608fbb862",
   "metadata": {
    "papermill": {},
    "tags": []
   },
   "source": [
    "### Get logos already in output directory"
   ]
  },
  {
   "cell_type": "code",
   "execution_count": null,
   "id": "474da93f-b13f-4a7a-a726-fbcc4b949d5e",
   "metadata": {
    "papermill": {},
    "tags": []
   },
   "outputs": [],
   "source": [
    "os.makedirs(output_dir, exist_ok=True)\n",
    "logos = os.listdir(output_dir)\n",
    "print(logos)"
   ]
  },
  {
   "cell_type": "markdown",
   "id": "output_cell",
   "metadata": {
    "papermill": {},
    "tags": []
   },
   "source": [
    "## Output"
   ]
  },
  {
   "cell_type": "markdown",
   "id": "b0eec712-3f98-4706-a547-a0d57a33e6a6",
   "metadata": {
    "execution": {
     "iopub.execute_input": "2022-03-20T14:22:19.041796Z",
     "iopub.status.busy": "2022-03-20T14:22:19.041566Z",
     "iopub.status.idle": "2022-03-20T14:22:19.044518Z",
     "shell.execute_reply": "2022-03-20T14:22:19.043859Z",
     "shell.execute_reply.started": "2022-03-20T14:22:19.041774Z"
    },
    "papermill": {},
    "tags": []
   },
   "source": [
    "### Search and Download logos"
   ]
  },
  {
   "cell_type": "code",
   "execution_count": null,
   "id": "cellular-wheat",
   "metadata": {
    "papermill": {},
    "tags": []
   },
   "outputs": [],
   "source": [
    "def get_linkedin_url(\n",
    "    company\n",
    "):\n",
    "    # Init\n",
    "    linkedin_url = None\n",
    "\n",
    "    # Create query\n",
    "    query = f\"{company}+Linkedin\"\n",
    "    print(\"Google query: \", query)\n",
    "\n",
    "    # Search in Google\n",
    "    for i in search(query, tld=\"com\", num=10, stop=10, pause=2):\n",
    "        pattern = \"https:\\/\\/.+.linkedin.com\\/company\\/.([^?])+\"\n",
    "        result = re.search(pattern, i)\n",
    "\n",
    "        # Return value if result is not None\n",
    "        if result != None:\n",
    "            linkedin_url = result.group(0).replace(\" \", \"\")\n",
    "            return linkedin_url\n",
    "    return linkedin_url\n",
    "\n",
    "def dowload_image(\n",
    "    image_url, \n",
    "    image_path\n",
    "):\n",
    "    # Send a GET request to the image URL\n",
    "    response = requests.get(image_url)\n",
    "\n",
    "    # Check if the request was successful\n",
    "    if response.status_code == 200:\n",
    "        # Get the content of the response\n",
    "        image_content = response.content\n",
    "\n",
    "        # Save the image to a file\n",
    "        with open(image_path, \"wb\") as file:\n",
    "            file.write(image_content)\n",
    "        print(\"✅ Image downloaded successfully.\")\n",
    "    else:\n",
    "        print(f\"Failed to download image. Error: {response.text}\")\n",
    "\n",
    "for x in companies:\n",
    "    print(\"- \", x)\n",
    "    file_name = x + \".png\"\n",
    "    if file_name not in logos:\n",
    "        linkedin_url = get_linkedin_url(x)\n",
    "        print(\"Company URL:\", linkedin_url)\n",
    "        if linkedin_url:\n",
    "            df = linkedin.connect(li_at, JSESSIONID).company.get_info(linkedin_url)\n",
    "            logo_url = df.loc[0, \"LOGO_URL\"]\n",
    "            if str(logo_url) != \"None\":\n",
    "                file_path = os.path.join(output_dir, file_name)\n",
    "                dowload_image(logo_url, file_path)\n",
    "            else:\n",
    "                print(\"Logo does not exists in LinkedIn\")\n",
    "    else:\n",
    "        print(\"✅ Logo already exists\")"
   ]
  },
  {
   "cell_type": "code",
   "execution_count": null,
   "id": "ab4d46dc-6347-4c54-8f6b-4ea9918ef542",
   "metadata": {
    "papermill": {},
    "tags": []
   },
   "outputs": [],
   "source": []
  }
 ],
 "metadata": {
  "kernelspec": {
   "display_name": "Python 3",
   "language": "python",
   "name": "python3"
  },
  "language_info": {
   "codemirror_mode": {
    "name": "ipython",
    "version": 3
   },
   "file_extension": ".py",
   "mimetype": "text/x-python",
   "name": "python",
   "nbconvert_exporter": "python",
   "pygments_lexer": "ipython3",
   "version": "3.9.6"
  },
  "naas": {
   "notebook_id": "9f30cf22205649840f7477233d314b69b99ef9290d285bfda62816986f1c9c45",
   "notebook_path": "Google Search/Google_Search_Download_LinkedIn_logo_from_company_name.ipynb"
  },
  "papermill": {
   "default_parameters": {},
   "environment_variables": {},
   "parameters": {},
   "version": "2.3.3"
  }
 },
 "nbformat": 4,
 "nbformat_minor": 5
}