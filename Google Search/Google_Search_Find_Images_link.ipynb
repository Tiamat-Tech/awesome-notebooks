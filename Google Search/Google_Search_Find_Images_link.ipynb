{
 "cells": [
  {
   "cell_type": "markdown",
   "id": "64f63415-62c5-4aaa-82fd-d22d03dddf29",
   "metadata": {
    "papermill": {},
    "tags": []
   },
   "source": [
    "<img width=\"8%\" alt=\"Google Search.png\" src=\"https://raw.githubusercontent.com/jupyter-naas/awesome-notebooks/master/.github/assets/logos/Google%20Search.png\" style=\"border-radius: 15%\">"
   ]
  },
  {
   "cell_type": "markdown",
   "id": "dfcebf40-d669-49d8-ba40-65a627a0b602",
   "metadata": {
    "papermill": {},
    "tags": []
   },
   "source": [
    "# Google Search - Find Images link\n",
    "<a href=\"https://bit.ly/3JyWIk6\">Give Feedback</a> | <a href=\"https://github.com/jupyter-naas/awesome-notebooks/issues/new?assignees=&labels=bug&template=bug_report.md&title=Google+Search+-+Find+Images+link:+Error+short+description\">Bug report</a>"
   ]
  },
  {
   "cell_type": "markdown",
   "id": "2a1eb623-4f46-4cc2-8b9f-3f75708a6b23",
   "metadata": {
    "papermill": {},
    "tags": []
   },
   "source": [
    "**Tags:** #googlesearch #images #link #find #python"
   ]
  },
  {
   "cell_type": "markdown",
   "id": "517a953a-9f97-4b20-938a-91b9e02ac045",
   "metadata": {
    "papermill": {},
    "tags": []
   },
   "source": [
    "**Author:** [Alton Liew](https://www.linkedin.com/in/alton-liew-749944182/)"
   ]
  },
  {
   "cell_type": "markdown",
   "id": "aadc21d7-729e-41e2-942b-6bd80b8b66f6",
   "metadata": {
    "papermill": {},
    "tags": []
   },
   "source": [
    "**Last update:** 2023-01-12 (Created: 2023-11-10)"
   ]
  },
  {
   "cell_type": "markdown",
   "id": "4c77e159-bea9-4ad0-b9a3-66e94094ddcd",
   "metadata": {
    "papermill": {},
    "tags": []
   },
   "source": [
    "**Description:** This notebook will demonstrate how to use Google Search to find images link."
   ]
  },
  {
   "cell_type": "markdown",
   "id": "c7dc55ea-2413-49e8-8bea-af330f9c3a43",
   "metadata": {
    "papermill": {},
    "tags": []
   },
   "source": [
    "**References:**\n",
    "- [Google Search Documentation](https://developers.google.com/search/docs/guides/intro-structured-data)\n",
    "- [Google Search Console](https://search.google.com/search-console/about)"
   ]
  },
  {
   "cell_type": "markdown",
   "id": "0bc2ecc4-7703-4733-8098-d40dc672cb4b",
   "metadata": {
    "papermill": {},
    "tags": []
   },
   "source": [
    "## Input"
   ]
  },
  {
   "cell_type": "markdown",
   "id": "0176d7b0-68e9-439c-9923-676ce187c227",
   "metadata": {
    "papermill": {},
    "tags": []
   },
   "source": [
    "### Import libraries"
   ]
  },
  {
   "cell_type": "code",
   "execution_count": null,
   "id": "ba3dbe0e-d857-432d-9eef-40e18253653e",
   "metadata": {
    "papermill": {},
    "tags": []
   },
   "outputs": [],
   "source": [
    "import naas\n",
    "import requests\n",
    "from IPython.display import Image, display"
   ]
  },
  {
   "cell_type": "markdown",
   "id": "4b7a8f50-760f-4abf-912a-f8db642f0f92",
   "metadata": {
    "papermill": {},
    "tags": []
   },
   "source": [
    "### Setup variables"
   ]
  },
  {
   "cell_type": "markdown",
   "id": "27869816-bf38-4224-8a42-effe3d75713e",
   "metadata": {
    "papermill": {},
    "tags": []
   },
   "source": [
    "**Pre-requisite**\n",
    "\n",
    "Get your GOOGLE API KEY\n",
    "1. Go to [Google Cloud Console](https://console.cloud.google.com/) > Create a New Project\n",
    "2. Go to \"APIs & Services\" and enable \"Custom Search API\"\n",
    "3. Go to \"APIs & Services\" > \"Credentials\", then click on \"Create credentials\" and select \"API Key\"\n",
    "4. Copy/Paste your API Key on the variable API_KEY\n",
    " \n",
    "Get your CSE ID\n",
    "1. Create an account on [Programmable Search Engine](https://programmablesearchengine.google.com/about/)\n",
    "2. Click on the \"Create a custom search engine\" button.\n",
    "3. Fill in the details for your search engine and select \"all sites\" to perform your research.\n",
    "4. Go to the Control Panel for your Programmable Search Engine and find your CSE ID\n",
    "5. Copy/Paste your CSE ID on the variable CSE_ID\n",
    "\n",
    "**Mandatory**\n",
    "- `API_KEY`: GCP Api key\n",
    "- `CSE_ID`: Programmable Search Engine ID\n",
    "- `query`: Represents the search query or term.\n",
    "\n",
    "**Optional**\n",
    "- `limit`: Represents the maximum number of search results to be returned.\n",
    "- `start_index`: Assigned the integer value `1`. Represents the starting index of the search results. "
   ]
  },
  {
   "cell_type": "code",
   "execution_count": null,
   "id": "07fbeb5e-3eaf-4bcd-bf13-a648cac8e1a1",
   "metadata": {
    "papermill": {},
    "tags": []
   },
   "outputs": [],
   "source": [
    "# Mandatory\n",
    "API_KEY = naas.secret.get(\"GCP_API_KEY\") or \"YOUR_GCP_API_KEY\"\n",
    "CSE_ID = naas.secret.get(\"CSE_ID\") or \"YOUR_CSE_ID\"\n",
    "query = 'LinkedIn logo square'\n",
    "\n",
    "# Optional\n",
    "start_index = 1"
   ]
  },
  {
   "cell_type": "markdown",
   "id": "eab0d474-706a-44bd-84df-cfb5318fcf12",
   "metadata": {
    "papermill": {},
    "tags": []
   },
   "source": [
    "## Model"
   ]
  },
  {
   "cell_type": "markdown",
   "id": "ec991942-ab2d-4083-b882-621f55d94acc",
   "metadata": {
    "papermill": {},
    "tags": []
   },
   "source": [
    "### Get Images from Google"
   ]
  },
  {
   "cell_type": "code",
   "execution_count": null,
   "id": "a4bb5dc1-0d7a-4c4a-ba2c-fd5a2bc710b2",
   "metadata": {
    "papermill": {},
    "tags": []
   },
   "outputs": [],
   "source": [
    "def get_google_images(API_KEY, CSE_ID, query, start_index):\n",
    "    url = f'https://www.googleapis.com/customsearch/v1?q={query}&key={API_KEY}&cx={CSE_ID}&searchType=image&start={start_index}'\n",
    "    response = requests.get(url)\n",
    "    data = response.json()\n",
    "    return data\n",
    "\n",
    "data = get_google_images(API_KEY, CSE_ID, query, start_index)\n",
    "print(\"Results:\", len(data.get(\"items\")))"
   ]
  },
  {
   "cell_type": "markdown",
   "id": "b118667d-df43-4617-b272-fd967d04cf05",
   "metadata": {
    "papermill": {},
    "tags": []
   },
   "source": [
    "## Output"
   ]
  },
  {
   "cell_type": "markdown",
   "id": "76cbff58-769a-4930-982a-92b58e3084c6",
   "metadata": {
    "papermill": {},
    "tags": []
   },
   "source": [
    "### Display result"
   ]
  },
  {
   "cell_type": "code",
   "execution_count": null,
   "id": "818612a1-7699-455f-9693-03a05dd9b967",
   "metadata": {
    "papermill": {},
    "tags": []
   },
   "outputs": [],
   "source": [
    "for item in data['items']:\n",
    "    url = item['link']\n",
    "    print(item['link'])\n",
    "    display(Image(url=url))"
   ]
  }
 ],
 "metadata": {
  "kernelspec": {
   "display_name": "Python 3",
   "language": "python",
   "name": "python3"
  },
  "language_info": {
   "codemirror_mode": {
    "name": "ipython",
    "version": 3
   },
   "file_extension": ".py",
   "mimetype": "text/x-python",
   "name": "python",
   "nbconvert_exporter": "python",
   "pygments_lexer": "ipython3",
   "version": "3.9.6"
  },
  "naas": {
   "notebook_id": "94268fdb7f75b8eb5e9827232c18633ef6ac49ecee5cfcb826928ce869d79ad0",
   "notebook_path": "Google Search/Google_Search_Find_Images_link.ipynb"
  },
  "papermill": {
   "default_parameters": {},
   "environment_variables": {},
   "parameters": {},
   "version": "2.5.0"
  },
  "widgets": {
   "application/vnd.jupyter.widget-state+json": {
    "state": {},
    "version_major": 2,
    "version_minor": 0
   }
  }
 },
 "nbformat": 4,
 "nbformat_minor": 5
}