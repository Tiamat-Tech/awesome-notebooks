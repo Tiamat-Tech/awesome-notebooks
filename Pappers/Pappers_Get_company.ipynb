{
 "cells": [
  {
   "cell_type": "markdown",
   "id": "2f69bd84-e93e-48fb-b67b-0137384dbd48",
   "metadata": {
    "papermill": {},
    "tags": []
   },
   "source": [
    "<img width=\"8%\" alt=\"Pappers.jpeg\" src=\"https://raw.githubusercontent.com/jupyter-naas/awesome-notebooks/master/.github/assets/logos/Pappers.jpeg\" style=\"border-radius: 15%\">"
   ]
  },
  {
   "cell_type": "markdown",
   "id": "064a2d59-0c87-42a6-9b11-bd50b1058fcf",
   "metadata": {
    "papermill": {},
    "tags": []
   },
   "source": [
    "# Pappers - Get company\n",
    "<a href=\"https://bit.ly/3JyWIk6\">Give Feedback</a> | <a href=\"https://github.com/jupyter-naas/awesome-notebooks/issues/new?assignees=&labels=bug&template=bug_report.md&title=Pappers+-+Get+company:+Error+short+description\">Bug report</a>"
   ]
  },
  {
   "cell_type": "markdown",
   "id": "feeb8964-f4e0-44c5-9213-b04bd4a95eed",
   "metadata": {
    "papermill": {},
    "tags": []
   },
   "source": [
    "**Tags:** #pappers #api #python #data #company #information"
   ]
  },
  {
   "cell_type": "markdown",
   "id": "66e4ee2e-78b1-49b5-83d7-2d1b55ee0e24",
   "metadata": {
    "papermill": {},
    "tags": []
   },
   "source": [
    "**Author:** [Florent Ravenel](https://www.linkedin.com/in/florent-ravenel/)"
   ]
  },
  {
   "cell_type": "markdown",
   "id": "0e7f4014-5008-420d-b669-c649b175960c",
   "metadata": {
    "papermill": {},
    "tags": []
   },
   "source": [
    "**Last update:** 2024-02-07 (Created: 2024-02-07)"
   ]
  },
  {
   "cell_type": "markdown",
   "id": "1bfc8edb-6ac3-4688-b858-80c855223535",
   "metadata": {
    "papermill": {},
    "tags": []
   },
   "source": [
    "**Description:** This notebook retrieves all available information about a company using the Pappers API. It demonstrates how to make API calls, handle responses and extract relevant data."
   ]
  },
  {
   "cell_type": "markdown",
   "id": "6135d899-179f-47aa-9d93-a049c1e86c2e",
   "metadata": {
    "papermill": {},
    "tags": []
   },
   "source": [
    "**References:**\n",
    "- [Pappers API Documentation](https://www.pappers.fr/api/documentation#tag/Fiche-entreprise)\n",
    "- [Python Requests Library](https://docs.python-requests.org/en/latest/)"
   ]
  },
  {
   "cell_type": "markdown",
   "id": "5c940095-0863-49a1-b0e1-7dd75f5a2ba3",
   "metadata": {
    "papermill": {},
    "tags": []
   },
   "source": [
    "## Input"
   ]
  },
  {
   "cell_type": "markdown",
   "id": "ee15d8fc-5699-41ed-902b-4ae72849daac",
   "metadata": {
    "papermill": {},
    "tags": []
   },
   "source": [
    "### Import libraries"
   ]
  },
  {
   "cell_type": "code",
   "execution_count": null,
   "id": "75cdd2cb-4fd0-45a6-88bb-9c7d5a121c71",
   "metadata": {
    "papermill": {},
    "tags": []
   },
   "outputs": [],
   "source": [
    "import requests\n",
    "import json\n",
    "import naas"
   ]
  },
  {
   "cell_type": "markdown",
   "id": "427e80ed-9b8d-474f-bbd9-de52d4e8f81d",
   "metadata": {
    "papermill": {},
    "tags": []
   },
   "source": [
    "### Setup variables\n",
    "- `api_key`: Your Pappers API key. You can get it from [here](https://www.pappers.fr/api/documentation#tag/Introduction).\n",
    "- `siren`: The SIREN number of the company you want to get information about."
   ]
  },
  {
   "cell_type": "code",
   "execution_count": null,
   "id": "ab9fb5d7-6018-4c6b-aa8d-a185824f4376",
   "metadata": {
    "papermill": {},
    "tags": []
   },
   "outputs": [],
   "source": [
    "api_key = naas.secret.get(\"PAPPERS_API_KEY\")\n",
    "siren = \"company_siren\""
   ]
  },
  {
   "cell_type": "markdown",
   "id": "f977f9ac-9ae3-4a3f-88e5-3cf82f5058e9",
   "metadata": {
    "papermill": {},
    "tags": []
   },
   "source": [
    "## Model"
   ]
  },
  {
   "cell_type": "markdown",
   "id": "b07babea-3400-4835-aad0-7c1b555e1834",
   "metadata": {
    "papermill": {},
    "tags": []
   },
   "source": [
    "### Get company information"
   ]
  },
  {
   "cell_type": "markdown",
   "id": "7976bccb-4c98-4461-8949-746c755343dc",
   "metadata": {
    "papermill": {},
    "tags": []
   },
   "source": [
    "This function makes a GET request to the Pappers API to retrieve information about a company. The response is a JSON object containing various details about the company."
   ]
  },
  {
   "cell_type": "code",
   "execution_count": null,
   "id": "96fd42f2-a196-48b6-ac85-56f755045556",
   "metadata": {
    "papermill": {},
    "tags": []
   },
   "outputs": [],
   "source": [
    "def get_company_info(api_key, siren):\n",
    "    url = f\"https://api.pappers.fr/v2/company?siren={siren}&api_token={api_key}\"\n",
    "    response = requests.get(url)\n",
    "    return response.json()\n",
    "\n",
    "company_info = get_company_info(api_key, api_key)"
   ]
  },
  {
   "cell_type": "markdown",
   "id": "37483b10-a02e-4123-8a8b-145fee2e8e3e",
   "metadata": {
    "papermill": {},
    "tags": []
   },
   "source": [
    "## Output"
   ]
  },
  {
   "cell_type": "markdown",
   "id": "58aaed4f-6506-44f3-8f76-009b99d24acb",
   "metadata": {
    "papermill": {},
    "tags": []
   },
   "source": [
    "### Display result"
   ]
  },
  {
   "cell_type": "code",
   "execution_count": null,
   "id": "12bb4b79-db8a-4bb3-8f07-e58336a4e843",
   "metadata": {
    "papermill": {},
    "tags": []
   },
   "outputs": [],
   "source": [
    "print(json.dumps(company_info, indent=4))"
   ]
  }
 ],
 "metadata": {
  "kernelspec": {
   "display_name": "Python 3",
   "language": "python",
   "name": "python3"
  },
  "language_info": {
   "codemirror_mode": {
    "name": "ipython",
    "version": 3
   },
   "file_extension": ".py",
   "mimetype": "text/x-python",
   "name": "python",
   "nbconvert_exporter": "python",
   "pygments_lexer": "ipython3",
   "version": "3.9.6"
  },
  "naas": {
   "notebook_id": "c989f1f11dba4b27bbc9be3f0ec14100d24be2838ac51e42d1cdcecf798715e8",
   "notebook_path": "Pappers/Pappers_Get_company.ipynb"
  },
  "papermill": {
   "default_parameters": {},
   "environment_variables": {},
   "parameters": {},
   "version": "2.5.0"
  },
  "widgets": {
   "application/vnd.jupyter.widget-state+json": {
    "state": {},
    "version_major": 2,
    "version_minor": 0
   }
  }
 },
 "nbformat": 4,
 "nbformat_minor": 5
}