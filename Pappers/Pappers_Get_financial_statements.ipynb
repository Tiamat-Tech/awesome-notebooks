{
 "cells": [
  {
   "cell_type": "markdown",
   "id": "ed5c3333-2006-47a4-b0ae-07d24fb91936",
   "metadata": {
    "papermill": {},
    "tags": []
   },
   "source": [
    "<img width=\"8%\" alt=\"Pappers.jpeg\" src=\"https://raw.githubusercontent.com/jupyter-naas/awesome-notebooks/master/.github/assets/logos/Pappers.jpeg\" style=\"border-radius: 15%\">"
   ]
  },
  {
   "cell_type": "markdown",
   "id": "6526b3a3-4612-4219-9b1f-889388fcdefe",
   "metadata": {
    "papermill": {},
    "tags": []
   },
   "source": [
    "# Pappers - Get financial statements\n",
    "<a href=\"https://bit.ly/3JyWIk6\">Give Feedback</a> | <a href=\"https://github.com/jupyter-naas/awesome-notebooks/issues/new?assignees=&labels=bug&template=bug_report.md&title=Pappers+-+Get+financial+statements:+Error+short+description\">Bug report</a>"
   ]
  },
  {
   "cell_type": "markdown",
   "id": "fb55429d-6a40-4601-aefe-e1fbd084ca56",
   "metadata": {
    "papermill": {},
    "tags": []
   },
   "source": [
    "**Tags:** #pappers #financialstatements #finance #data #python #api"
   ]
  },
  {
   "cell_type": "markdown",
   "id": "850df280-e93d-4975-af89-d1f80111a003",
   "metadata": {
    "papermill": {},
    "tags": []
   },
   "source": [
    "**Author:** [Florent Ravenel](https://www.linkedin.com/in/florent-ravenel/)"
   ]
  },
  {
   "cell_type": "markdown",
   "id": "13175588-a7b0-4b73-9d35-b8fb767b0693",
   "metadata": {
    "papermill": {},
    "tags": []
   },
   "source": [
    "**Last update:** 2024-02-07 (Created: 2024-02-07)"
   ]
  },
  {
   "cell_type": "markdown",
   "id": "5fb5ebc6-d41d-46de-8c34-b65159654756",
   "metadata": {
    "papermill": {},
    "tags": []
   },
   "source": [
    "**Description:** This notebook retrieves the annual accounts published by a company using the Pappers API. It provides a structured way to access financial data for analysis and decision-making purposes."
   ]
  },
  {
   "cell_type": "markdown",
   "id": "eda80a0f-001e-4f12-b463-6266619a0891",
   "metadata": {
    "papermill": {},
    "tags": []
   },
   "source": [
    "**References:**\n",
    "- [Pappers API Documentation](https://www.pappers.fr/api/documentation#tag/Comptes-annuels)\n",
    "- [Python Requests Library](https://docs.python-requests.org/en/latest/)"
   ]
  },
  {
   "cell_type": "markdown",
   "id": "0786fcd8-8825-49b1-a55c-b3ee6798b725",
   "metadata": {
    "papermill": {},
    "tags": []
   },
   "source": [
    "## Input"
   ]
  },
  {
   "cell_type": "markdown",
   "id": "d310f86e-6bc6-45ce-898a-4a3a43c05270",
   "metadata": {
    "papermill": {},
    "tags": []
   },
   "source": [
    "### Import libraries"
   ]
  },
  {
   "cell_type": "code",
   "execution_count": null,
   "id": "0ab62b97-a87b-4e2f-9bb7-bbd098c66fe5",
   "metadata": {
    "papermill": {},
    "tags": []
   },
   "outputs": [],
   "source": [
    "import requests\n",
    "import json\n",
    "import naas"
   ]
  },
  {
   "cell_type": "markdown",
   "id": "15e2bc65-52ac-4eb1-931f-798489ab196c",
   "metadata": {
    "papermill": {},
    "tags": []
   },
   "source": [
    "### Setup variables\n",
    "- `api_key`: Your Pappers API key. You can get it from [here](https://www.pappers.fr/api/documentation#tag/Comptes-annuels).\n",
    "- `company_id`: The ID of the company you want to retrieve the financial statements for."
   ]
  },
  {
   "cell_type": "code",
   "execution_count": null,
   "id": "88c2091b-7bd0-4d90-be6e-983f9c5e8c79",
   "metadata": {
    "papermill": {},
    "tags": []
   },
   "outputs": [],
   "source": [
    "api_key = naas.secret.get(\"PAPPERS_API_KEY\")\n",
    "company_id = \"your_company_id\""
   ]
  },
  {
   "cell_type": "markdown",
   "id": "f1c53e71-afff-4a42-8eb3-8cd6dcf1e43e",
   "metadata": {
    "papermill": {},
    "tags": []
   },
   "source": [
    "## Model"
   ]
  },
  {
   "cell_type": "markdown",
   "id": "efc39c17-d67c-4962-9726-f24208bcd3ea",
   "metadata": {
    "papermill": {},
    "tags": []
   },
   "source": [
    "### Get Financial Statements"
   ]
  },
  {
   "cell_type": "code",
   "execution_count": null,
   "id": "a29e003c-faab-465b-a9eb-fc076096a592",
   "metadata": {
    "papermill": {},
    "tags": []
   },
   "outputs": [],
   "source": [
    "def get_financial_statements(api_key, company_id):\n",
    "    url = f\"https://api.pappers.fr/v2/company/{company_id}/documents?api_key={api_key}\"\n",
    "    response = requests.get(url)\n",
    "    return response.json()\n",
    "\n",
    "financial_statements = get_financial_statements(api_key, company_id)"
   ]
  },
  {
   "cell_type": "markdown",
   "id": "c67cbb44-e6bf-4052-930e-ffaefcab2b4f",
   "metadata": {
    "papermill": {},
    "tags": []
   },
   "source": [
    "## Output"
   ]
  },
  {
   "cell_type": "markdown",
   "id": "40d36080-fc81-4f4a-b85a-4f55e0fb9898",
   "metadata": {
    "papermill": {},
    "tags": []
   },
   "source": [
    "### Display result"
   ]
  },
  {
   "cell_type": "code",
   "execution_count": null,
   "id": "9406347a-8ca8-4706-b466-4fe7ac85f7d6",
   "metadata": {
    "papermill": {},
    "tags": []
   },
   "outputs": [],
   "source": [
    "print(json.dumps(financial_statements, indent=4))"
   ]
  }
 ],
 "metadata": {
  "kernelspec": {
   "display_name": "Python 3",
   "language": "python",
   "name": "python3"
  },
  "language_info": {
   "codemirror_mode": {
    "name": "ipython",
    "version": 3
   },
   "file_extension": ".py",
   "mimetype": "text/x-python",
   "name": "python",
   "nbconvert_exporter": "python",
   "pygments_lexer": "ipython3",
   "version": "3.9.6"
  },
  "naas": {
   "notebook_id": "b3189896a8ee015130275250913fae694080e49567002573b6385689b610b356",
   "notebook_path": "Pappers/Pappers_Get_financial_statements.ipynb"
  },
  "papermill": {
   "default_parameters": {},
   "environment_variables": {},
   "parameters": {},
   "version": "2.5.0"
  },
  "widgets": {
   "application/vnd.jupyter.widget-state+json": {
    "state": {},
    "version_major": 2,
    "version_minor": 0
   }
  }
 },
 "nbformat": 4,
 "nbformat_minor": 5
}