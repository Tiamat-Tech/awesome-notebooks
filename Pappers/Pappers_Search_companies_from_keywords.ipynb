{
 "cells": [
  {
   "cell_type": "markdown",
   "id": "653e5291-2734-4041-b1fa-fcb43bae1e6f",
   "metadata": {
    "papermill": {},
    "tags": []
   },
   "source": [
    "<img width=\"8%\" alt=\"Pappers.jpeg\" src=\"https://raw.githubusercontent.com/jupyter-naas/awesome-notebooks/master/.github/assets/logos/Pappers.jpeg\" style=\"border-radius: 15%\">"
   ]
  },
  {
   "cell_type": "markdown",
   "id": "cfba8a1a-b2c2-4c51-a80a-94846ff5d3bc",
   "metadata": {
    "papermill": {},
    "tags": []
   },
   "source": [
    "# Pappers - Search companies from keywords\n",
    "<a href=\"https://bit.ly/3JyWIk6\">Give Feedback</a> | <a href=\"https://github.com/jupyter-naas/awesome-notebooks/issues/new?assignees=&labels=bug&template=bug_report.md&title=Pappers+-+Search+companies+from+keywords:+Error+short+description\">Bug report</a>"
   ]
  },
  {
   "cell_type": "markdown",
   "id": "09369131-78ed-437b-9916-9e8ee9ec77d1",
   "metadata": {
    "papermill": {},
    "tags": []
   },
   "source": [
    "**Tags:** #pappers #api #python #data #search #companies"
   ]
  },
  {
   "cell_type": "markdown",
   "id": "32afe41a-d3d4-4015-b8cf-0e16f7dcea6e",
   "metadata": {
    "papermill": {},
    "tags": []
   },
   "source": [
    "**Author:** [Florent Ravenel](https://www.linkedin.com/in/florent-ravenel/)"
   ]
  },
  {
   "cell_type": "markdown",
   "id": "667d9678-5019-459f-afad-fe64d887fd13",
   "metadata": {
    "papermill": {},
    "tags": []
   },
   "source": [
    "**Last update:** 2024-02-07 (Created: 2024-02-07)"
   ]
  },
  {
   "cell_type": "markdown",
   "id": "dd093409-35a3-4527-aa51-ab379479d1ec",
   "metadata": {
    "papermill": {},
    "tags": []
   },
   "source": [
    "**Description:** This notebook is designed to search for companies that match specific criteria using the Pappers API. It will guide you through the process of setting up your API key, making a request, and displaying the results."
   ]
  },
  {
   "cell_type": "markdown",
   "id": "bc2920c4-98c0-4b0c-ad3a-b9e93d0dd2bb",
   "metadata": {
    "papermill": {},
    "tags": []
   },
   "source": [
    "**References:**\n",
    "- [Pappers API Documentation](https://www.pappers.fr/api/documentation#tag/Recherche)\n",
    "- [Python Requests Library](https://docs.python-requests.org/en/latest/)"
   ]
  },
  {
   "cell_type": "markdown",
   "id": "fa7c8214-617b-4f46-9f2f-9b694591a1df",
   "metadata": {
    "papermill": {},
    "tags": []
   },
   "source": [
    "## Input"
   ]
  },
  {
   "cell_type": "markdown",
   "id": "9d94dc49-42c0-4d51-9a11-b7fe313e7e26",
   "metadata": {
    "papermill": {},
    "tags": []
   },
   "source": [
    "### Import libraries"
   ]
  },
  {
   "cell_type": "code",
   "execution_count": null,
   "id": "a8ca66a4-4a26-4b5e-8a42-ddbaee76db1e",
   "metadata": {
    "papermill": {},
    "tags": []
   },
   "outputs": [],
   "source": [
    "import naas\n",
    "import requests"
   ]
  },
  {
   "cell_type": "markdown",
   "id": "262ab07d-1d88-45ef-9325-bf61740b2dc5",
   "metadata": {
    "papermill": {},
    "tags": []
   },
   "source": [
    "### Setup variables\n",
    "- `api_key`: Your Pappers API key. You can get it from [here](https://www.pappers.fr/api/documentation#tag/Recherche).\n",
    "- `keywords`: The keywords you want to search for."
   ]
  },
  {
   "cell_type": "code",
   "execution_count": null,
   "id": "f57708be-7009-4160-86fc-3c2be11342a8",
   "metadata": {
    "papermill": {},
    "tags": []
   },
   "outputs": [],
   "source": [
    "api_key = naas.secret.get(\"PAPPERS_API_KEY\")\n",
    "keywords = \"Asgard\""
   ]
  },
  {
   "cell_type": "markdown",
   "id": "b2cfd8f7-d597-4ba0-b1cb-03c4a0fdd030",
   "metadata": {
    "papermill": {},
    "tags": []
   },
   "source": [
    "## Model"
   ]
  },
  {
   "cell_type": "markdown",
   "id": "178fd3be-bf7b-4455-8730-9c5abcf6df58",
   "metadata": {
    "papermill": {},
    "tags": []
   },
   "source": [
    "### Search Companies"
   ]
  },
  {
   "cell_type": "code",
   "execution_count": null,
   "id": "489390c3-7b78-4750-99b5-3bd514026fcc",
   "metadata": {
    "papermill": {},
    "tags": []
   },
   "outputs": [],
   "source": [
    "def search_companies(api_key, keywords):\n",
    "    url = f\"https://api.pappers.fr/v2/recherche?api_token={api_key}&q={keywords}&\"\n",
    "    res = requests.get(url)\n",
    "    return res.json()\n",
    "\n",
    "result = search_companies(api_key, keywords)\n",
    "print(len(result.get(\"resultats\")))"
   ]
  },
  {
   "cell_type": "markdown",
   "id": "d917901c-e6c6-41d9-a0e7-3832941d93d5",
   "metadata": {
    "papermill": {},
    "tags": []
   },
   "source": [
    "## Output"
   ]
  },
  {
   "cell_type": "markdown",
   "id": "283c1dde-e81d-4b9f-84f2-bde388aa1610",
   "metadata": {
    "papermill": {},
    "tags": []
   },
   "source": [
    "### Display result"
   ]
  },
  {
   "cell_type": "code",
   "execution_count": null,
   "id": "3073c09a-e9b5-4c03-b5e5-c4f834594f63",
   "metadata": {
    "papermill": {},
    "tags": []
   },
   "outputs": [],
   "source": [
    "result.get(\"resultats\")"
   ]
  }
 ],
 "metadata": {
  "kernelspec": {
   "display_name": "Python 3",
   "language": "python",
   "name": "python3"
  },
  "language_info": {
   "codemirror_mode": {
    "name": "ipython",
    "version": 3
   },
   "file_extension": ".py",
   "mimetype": "text/x-python",
   "name": "python",
   "nbconvert_exporter": "python",
   "pygments_lexer": "ipython3",
   "version": "3.9.6"
  },
  "naas": {
   "notebook_id": "dd609f304ef56ac904df66dfb2934414f31f33da76ed36dd58f5d47d166a9df1",
   "notebook_path": "Pappers/Pappers_Search_companies_from_keywords.ipynb"
  },
  "papermill": {
   "default_parameters": {},
   "environment_variables": {},
   "parameters": {},
   "version": "2.5.0"
  },
  "widgets": {
   "application/vnd.jupyter.widget-state+json": {
    "state": {},
    "version_major": 2,
    "version_minor": 0
   }
  }
 },
 "nbformat": 4,
 "nbformat_minor": 5
}