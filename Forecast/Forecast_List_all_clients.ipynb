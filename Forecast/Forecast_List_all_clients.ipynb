{
 "cells": [
  {
   "cell_type": "markdown",
   "id": "f2a47dd5-bd4b-40ae-807a-33733f54526c",
   "metadata": {
    "papermill": {},
    "tags": []
   },
   "source": [
    "<img width=\"8%\" alt=\"Forecast.png\" src=\"https://raw.githubusercontent.com/jupyter-naas/awesome-notebooks/master/.github/assets/logos/Forecast.png\" style=\"border-radius: 15%\">"
   ]
  },
  {
   "cell_type": "markdown",
   "id": "7b1332f0-6461-48ed-937b-d596e7355431",
   "metadata": {
    "papermill": {},
    "tags": []
   },
   "source": [
    "# Forecast - List all clients\n",
    "<a href=\"https://bit.ly/3JyWIk6\">Give Feedback</a> | <a href=\"https://github.com/jupyter-naas/awesome-notebooks/issues/new?assignees=&labels=bug&template=bug_report.md&title=Forecast+-+List+all+clients:+Error+short+description\">Bug report</a>"
   ]
  },
  {
   "cell_type": "markdown",
   "id": "798bab33-186a-4734-a231-29d04ee4bf74",
   "metadata": {
    "papermill": {},
    "tags": []
   },
   "source": [
    "**Tags:** #forecast #clients #api #list #python #get"
   ]
  },
  {
   "cell_type": "markdown",
   "id": "7f10c96e-15a4-4ad0-8d3f-986439cd148f",
   "metadata": {
    "papermill": {},
    "tags": []
   },
   "source": [
    "**Author:** [Landry Christensen](https://github.com/lchristensen6)"
   ]
  },
  {
   "cell_type": "markdown",
   "id": "f60cad1d-8350-41e9-b82b-46282a3bf075",
   "metadata": {
    "papermill": {},
    "tags": []
   },
   "source": [
    "**Last update:** 2023-08-08 (Created: 2023-08-08)"
   ]
  },
  {
   "cell_type": "markdown",
   "id": "fb7805d7-e41b-45a3-a8e0-531d6310b4e3",
   "metadata": {
    "papermill": {},
    "tags": []
   },
   "source": [
    "**Description:** This notebook will list all clients from the forecast API. Forecast is a service that connects to harvest and allows you to plan for allocations to harvest projects."
   ]
  },
  {
   "cell_type": "markdown",
   "id": "ab0b9e99-1655-4e11-a2c9-bbb4e391a4d6",
   "metadata": {
    "papermill": {},
    "tags": []
   },
   "source": [
    "**References:**\n",
    "- [Forecast Help Center](https://help.getharvest.com/forecast/faqs/faq-list/api/)"
   ]
  },
  {
   "cell_type": "markdown",
   "id": "40a3a19c-22a2-4303-a647-253eb78b1e7e",
   "metadata": {
    "papermill": {},
    "tags": []
   },
   "source": [
    "\n",
    "<div class=\"alert alert-info\" role=\"info\" style=\"margin: 10px\">\n",
    "<b>Disclaimer:</b><br>\n",
    "Kindly be aware that the Forecast API is currently not available for public use or documentation. If you wish to customize and utilize this template for your specific needs, please reach out to the author.\n",
    "<br>\n",
    "</div>"
   ]
  },
  {
   "cell_type": "markdown",
   "id": "c13b8aad-48a0-4802-9179-d98608369f46",
   "metadata": {
    "papermill": {},
    "tags": []
   },
   "source": [
    "## Input"
   ]
  },
  {
   "cell_type": "markdown",
   "id": "4092d0fe-1091-4865-8047-107dce67f67a",
   "metadata": {
    "papermill": {},
    "tags": []
   },
   "source": [
    "### Import libraries"
   ]
  },
  {
   "cell_type": "code",
   "execution_count": null,
   "id": "0be5433a-7621-427c-87e3-a23cde697521",
   "metadata": {
    "papermill": {},
    "tags": []
   },
   "outputs": [],
   "source": [
    "import requests\n",
    "import pandas as pd\n",
    "import naas"
   ]
  },
  {
   "cell_type": "markdown",
   "id": "c9a72c9a-516c-4cf6-9229-356ce62bd494",
   "metadata": {
    "papermill": {},
    "tags": []
   },
   "source": [
    "### Setup variables\n",
    "**Mandatory**\n",
    "\n",
    "- `account_id`: Account ID from Forecast\n",
    "- `client_id`: Client ID from Forecast\n",
    "- `client_secret`: Client Secret from Forecast\n",
    "- `refresh_token`: Refresh Token from Forecast\n",
    "\n",
    "**Optional**\n",
    "- `limit`: clients limit, to get all clients enter -1"
   ]
  },
  {
   "cell_type": "code",
   "execution_count": null,
   "id": "1146059a-d69a-46c6-877f-3b64cb3844b4",
   "metadata": {
    "papermill": {},
    "tags": []
   },
   "outputs": [],
   "source": [
    "# Mandatory\n",
    "account_id = naas.secret.get(\"FORECAST_ACCOUNT_ID\") or \"YOUR_FORECAST_ACCOUNT_ID\"\n",
    "client_id = naas.secret.get(\"FORECAST_CLIENT_ID\") or \"YOUR_FORECAST_CLIENT_ID\"\n",
    "client_secret = naas.secret.get(\"FORECAST_CLIENT_SECRET\") or \"YOUR_FORECAST_CLIENT_SECRET\"\n",
    "refresh_token = naas.secret.get(\"FORECAST_REFRESH_TOKEN\") or \"YOUR_FORECAST_REFRESH_TOKEN\"\n",
    "\n",
    "# Optional\n",
    "limit = 1000"
   ]
  },
  {
   "cell_type": "markdown",
   "id": "b6e5afde-6a5b-4813-a4a9-280c34b68790",
   "metadata": {
    "papermill": {},
    "tags": []
   },
   "source": [
    "## Model"
   ]
  },
  {
   "cell_type": "markdown",
   "id": "18b5d596-5730-4755-acd0-bf83f9da5dcf",
   "metadata": {
    "papermill": {},
    "tags": []
   },
   "source": [
    "### List all clients"
   ]
  },
  {
   "cell_type": "markdown",
   "id": "2bf3c5e8-1072-4c54-898a-7f5aa6cb9f40",
   "metadata": {
    "papermill": {},
    "tags": []
   },
   "source": [
    "This function will list all clients from the Forecast API"
   ]
  },
  {
   "cell_type": "code",
   "execution_count": null,
   "id": "3044b9c3-2ae0-432b-9227-24ed5d08c1d5",
   "metadata": {
    "papermill": {},
    "tags": []
   },
   "outputs": [],
   "source": [
    "# Get Harvest Access token\n",
    "def get_access_token():\n",
    "    res = requests.post(\n",
    "        url=\"https://id.getharvest.com/api/v2/oauth2/token\",\n",
    "        data={\n",
    "            \"client_id\": client_id,\n",
    "            \"client_secret\": client_secret,\n",
    "            \"refresh_token\": refresh_token,\n",
    "            \"grant_type\": \"refresh_token\",\n",
    "        },\n",
    "        headers={\"User-Agent\": 'Harvest-Scraper'},\n",
    "    )\n",
    "    res_json = res.json()\n",
    "    if res.status_code == 201:\n",
    "        return res_json[\"access_token\"]\n",
    "    else:\n",
    "        print(res.status_code, res.json().get(\"message\"))\n",
    "        return \"\"\n",
    "    \n",
    "def list_clients(\n",
    "    account_id,\n",
    "    access_token,\n",
    "    limit=-1,\n",
    "):\n",
    "    # Init\n",
    "    data = []\n",
    "    df = pd.DataFrame()\n",
    "    \n",
    "    # Requests\n",
    "    url = f\"https://api.forecastapp.com/clients\"\n",
    "    headers = {\n",
    "        \"Accept\": \"application/json\",\n",
    "        \"Forecast-Account-ID\": account_id,\n",
    "        \"Authorization\": \"Bearer \" + access_token,\n",
    "    }\n",
    "    \n",
    "    res = requests.get(url=url, headers=headers)\n",
    "    while True:\n",
    "        if res.status_code == 200:\n",
    "            # Get data\n",
    "            res_json = res.json()\n",
    "\n",
    "            clients = res_json.get(\"clients\")\n",
    "            for client in clients:\n",
    "                data.append(client)\n",
    "\n",
    "                # Manage limit\n",
    "                if limit != -1 and len(data) >= limit:\n",
    "                    break\n",
    "            break\n",
    "        else:\n",
    "            print(res.status_code, res.json().get(\"message\"))\n",
    "            break\n",
    "\n",
    "    # Transform in dataframes\n",
    "    df = pd.DataFrame(data)\n",
    "    return df"
   ]
  },
  {
   "cell_type": "markdown",
   "id": "9fd9975b-2db5-4c00-916b-0e08f32d1668",
   "metadata": {
    "papermill": {},
    "tags": []
   },
   "source": [
    "## Output"
   ]
  },
  {
   "cell_type": "markdown",
   "id": "536197c4-3909-4b5e-a87f-346d07c32308",
   "metadata": {
    "papermill": {},
    "tags": []
   },
   "source": [
    "### Display result"
   ]
  },
  {
   "cell_type": "code",
   "execution_count": null,
   "id": "f312a847-d9e6-4481-aca9-61ada7f96fe4",
   "metadata": {
    "papermill": {},
    "tags": []
   },
   "outputs": [],
   "source": [
    "df_clients = list_clients(\n",
    "    account_id,\n",
    "    get_access_token(),\n",
    "    limit\n",
    ")\n",
    "print(\"Row fetched:\", len(df_clients))\n",
    "df_clients.head()"
   ]
  },
  {
   "cell_type": "markdown",
   "id": "e2e7f2ab-673e-4c60-ab0a-7c1f6f09c2dc",
   "metadata": {
    "papermill": {},
    "tags": []
   },
   "source": [
    " "
   ]
  },
  {
   "cell_type": "code",
   "execution_count": null,
   "id": "9d99f3d4-849d-4383-8577-df8424516818",
   "metadata": {
    "papermill": {},
    "tags": []
   },
   "outputs": [],
   "source": []
  }
 ],
 "metadata": {
  "kernelspec": {
   "display_name": "Python 3",
   "language": "python",
   "name": "python3"
  },
  "language_info": {
   "codemirror_mode": {
    "name": "ipython",
    "version": 3
   },
   "file_extension": ".py",
   "mimetype": "text/x-python",
   "name": "python",
   "nbconvert_exporter": "python",
   "pygments_lexer": "ipython3",
   "version": "3.9.6"
  },
  "naas": {
   "notebook_id": "ec42b7671812e53369957d3aed72789a828f597c008d8b93070df4e423e92c8c",
   "notebook_path": "Forecast/Forecast_List_all_clients.ipynb"
  },
  "papermill": {
   "default_parameters": {},
   "environment_variables": {},
   "parameters": {},
   "version": "2.4.0"
  },
  "widgets": {
   "application/vnd.jupyter.widget-state+json": {
    "state": {},
    "version_major": 2,
    "version_minor": 0
   }
  }
 },
 "nbformat": 4,
 "nbformat_minor": 5
}