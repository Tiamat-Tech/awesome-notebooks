{
 "cells": [
  {
   "cell_type": "markdown",
   "id": "42fce9ae-03b7-467b-b5ba-4fd66ffc50ec",
   "metadata": {
    "papermill": {},
    "tags": []
   },
   "source": [
    "<img width=\"8%\" alt=\"Reddit.png\" src=\"https://raw.githubusercontent.com/jupyter-naas/awesome-notebooks/master/.github/assets/logos/Reddit.png\" style=\"border-radius: 15%\">"
   ]
  },
  {
   "cell_type": "markdown",
   "id": "9861bc61-3c92-41a8-8489-aba0d2196fb6",
   "metadata": {
    "papermill": {},
    "tags": []
   },
   "source": [
    "# Reddit - Search\n",
    "<a href=\"https://bit.ly/3JyWIk6\">Give Feedback</a> | <a href=\"https://github.com/jupyter-naas/awesome-notebooks/issues/new?assignees=&labels=bug&template=bug_report.md&title=Reddit+-+Search:+Error+short+description\">Bug report</a>"
   ]
  },
  {
   "cell_type": "markdown",
   "id": "89c7636e-14c1-45ab-8cbc-d6826f469f6d",
   "metadata": {
    "papermill": {},
    "tags": []
   },
   "source": [
    "**Tags:** #reddit #search #api #dev #get #python"
   ]
  },
  {
   "cell_type": "markdown",
   "id": "1138db6c-791e-4ae3-9d34-7038d3a97482",
   "metadata": {
    "papermill": {},
    "tags": []
   },
   "source": [
    "**Author:** [Maxime Jublou](https://www.linkedin.com/in/maximejublou)"
   ]
  },
  {
   "cell_type": "markdown",
   "id": "5fd2e42a-b7ea-4a4e-9a8a-f44dd737117f",
   "metadata": {
    "papermill": {},
    "tags": []
   },
   "source": [
    "**Last update:** 2023-10-10 (Created: 2023-10-10)"
   ]
  },
  {
   "cell_type": "markdown",
   "id": "ea7651e0-9bbd-4c37-84a0-f5bcf650259e",
   "metadata": {
    "papermill": {},
    "tags": []
   },
   "source": [
    "**Description:** This notebook searches Reddit for posts and comments using the Reddit API. It is usefull for organizations to quickly find relevant content on Reddit."
   ]
  },
  {
   "cell_type": "markdown",
   "id": "a45bc61b-a313-4b01-a698-30f9c16cddbd",
   "metadata": {
    "papermill": {},
    "tags": []
   },
   "source": [
    "**References:**\n",
    "- [Reddit API](https://www.reddit.com/dev/api)\n",
    "- [GET search](https://www.reddit.com/dev/api#GET_search)"
   ]
  },
  {
   "cell_type": "markdown",
   "id": "ae265cbb-ea8b-48c1-98de-6ec27b1195a1",
   "metadata": {
    "papermill": {},
    "tags": []
   },
   "source": [
    "## Input"
   ]
  },
  {
   "cell_type": "markdown",
   "id": "1720a16f-9a03-4955-a120-138d615204ca",
   "metadata": {
    "papermill": {},
    "tags": []
   },
   "source": [
    "### Import libraries"
   ]
  },
  {
   "cell_type": "code",
   "execution_count": 20,
   "id": "4415467d-e9bf-4d3a-82c1-b6c72f60fded",
   "metadata": {
    "papermill": {},
    "tags": []
   },
   "outputs": [],
   "source": [
    "import requests\n",
    "import pandas as pd\n",
    "import pydash as _"
   ]
  },
  {
   "cell_type": "markdown",
   "id": "cc11f4e7-1182-42bd-9948-e35f49e7b5c1",
   "metadata": {
    "papermill": {},
    "tags": []
   },
   "source": [
    "### Setup variables\n",
    "- **query**: The search query\n",
    "- **sort**: The type of sorting (relevance, hot, top, new, comments)\n",
    "- **time**: The time period of the results (hour, day, week, month, year, all)"
   ]
  },
  {
   "cell_type": "code",
   "execution_count": 3,
   "id": "63531d1e-521a-46f1-937f-d5d74254f99d",
   "metadata": {
    "papermill": {},
    "tags": []
   },
   "outputs": [],
   "source": [
    "query = \"data science\"\n",
    "sort = \"relevance\"\n",
    "time = \"all\""
   ]
  },
  {
   "cell_type": "markdown",
   "id": "3a978e62-60f9-4084-92fa-89c9f64f59aa",
   "metadata": {
    "papermill": {},
    "tags": []
   },
   "source": [
    "## Model"
   ]
  },
  {
   "cell_type": "markdown",
   "id": "f92542d4-ae07-4d1f-babf-ef544cbd94be",
   "metadata": {
    "papermill": {},
    "tags": []
   },
   "source": [
    "### Search Reddit"
   ]
  },
  {
   "cell_type": "markdown",
   "id": "00e5829f-517f-4684-bff5-499a538d011a",
   "metadata": {
    "papermill": {},
    "tags": []
   },
   "source": [
    "Long description of the function: This function searches Reddit for posts and comments using the Reddit API."
   ]
  },
  {
   "cell_type": "code",
   "execution_count": 9,
   "id": "941efb8e-f4d9-46c8-a101-b06c20e15b44",
   "metadata": {
    "papermill": {},
    "tags": []
   },
   "outputs": [],
   "source": [
    "url = \"https://www.reddit.com/search.json\"\n",
    "params = {\"q\": query, \"sort\": sort, \"t\": time}\n",
    "response = requests.get(url, params=params)"
   ]
  },
  {
   "cell_type": "markdown",
   "id": "da53ec13-094b-41c8-9917-35d0f0ccd8df",
   "metadata": {
    "papermill": {},
    "tags": []
   },
   "source": [
    "## Output"
   ]
  },
  {
   "cell_type": "markdown",
   "id": "f15c8b96-7ed7-48f2-85b9-f438fae9dc29",
   "metadata": {
    "papermill": {},
    "tags": []
   },
   "source": [
    "### Display result"
   ]
  },
  {
   "cell_type": "code",
   "execution_count": 11,
   "id": "d8052e5f-22c9-4043-985f-ddc80b08d081",
   "metadata": {
    "papermill": {},
    "tags": []
   },
   "outputs": [],
   "source": [
    "r = response.json()"
   ]
  },
  {
   "cell_type": "markdown",
   "id": "b2226f4d-6c96-497f-8310-ca6f87b84e5b",
   "metadata": {
    "papermill": {},
    "tags": []
   },
   "source": [
    "### Extract meaningful data and sorting by most successful content"
   ]
  },
  {
   "cell_type": "code",
   "execution_count": 37,
   "id": "3f94eff6-4b20-4d93-aed9-57a3ab1903bd",
   "metadata": {
    "papermill": {},
    "tags": []
   },
   "outputs": [],
   "source": [
    "df = pd.DataFrame([\n",
    "    {\n",
    "        'subreddit': _.get(c, 'data.subreddit'),\n",
    "        'subreddit_name_prefixed': _.get(c, 'data.subreddit_name_prefixed'),\n",
    "        'title': _.get(c, 'data.title'),\n",
    "        'selftext': _.get(c, 'data.selftext'),\n",
    "        'url': _.get(c, 'data.url'),\n",
    "        'downs': _.get(c, 'data.downs'),\n",
    "        'ups': _.get(c, 'data.ups'),\n",
    "\n",
    "    } for c in  _.get(r, 'data.children')\n",
    "])\n",
    "df.sort_values('ups', ascending=False)"
   ]
  }
 ],
 "metadata": {
  "kernelspec": {
   "display_name": "Python 3",
   "language": "python",
   "name": "python3"
  },
  "language_info": {
   "codemirror_mode": {
    "name": "ipython",
    "version": 3
   },
   "file_extension": ".py",
   "mimetype": "text/x-python",
   "name": "python",
   "nbconvert_exporter": "python",
   "pygments_lexer": "ipython3",
   "version": "3.9.6"
  },
  "naas": {
   "notebook_id": "ecda6569b4ea2f50d2b1d7ef816ef31858eb4d1f0709a063f2e2a7e7f970adfc",
   "notebook_path": "Reddit/Reddit_Search.ipynb"
  },
  "papermill": {
   "default_parameters": {},
   "environment_variables": {},
   "parameters": {},
   "version": "2.4.0"
  },
  "widgets": {
   "application/vnd.jupyter.widget-state+json": {
    "state": {},
    "version_major": 2,
    "version_minor": 0
   }
  }
 },
 "nbformat": 4,
 "nbformat_minor": 5
}