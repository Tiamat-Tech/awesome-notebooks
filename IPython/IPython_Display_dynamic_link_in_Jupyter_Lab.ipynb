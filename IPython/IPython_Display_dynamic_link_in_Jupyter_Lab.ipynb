{
 "cells": [
  {
   "cell_type": "markdown",
   "id": "d3417977-17d2-4dca-833c-1e7a8a72bd1a",
   "metadata": {
    "papermill": {},
    "tags": []
   },
   "source": [
    "<img width=\"8%\" alt=\"IPython.png\" src=\"https://raw.githubusercontent.com/jupyter-naas/awesome-notebooks/master/.github/assets/logos/IPython.png\" style=\"border-radius: 15%\">"
   ]
  },
  {
   "cell_type": "markdown",
   "id": "f56bd299-d295-4622-96da-d748d5b0b673",
   "metadata": {
    "papermill": {},
    "tags": []
   },
   "source": [
    "# IPython - Display dynamic link in Jupyter Lab\n",
    "<a href=\"https://bit.ly/3JyWIk6\">Give Feedback</a> | <a href=\"https://github.com/jupyter-naas/awesome-notebooks/issues/new?assignees=&labels=bug&template=bug_report.md&title=IPython+-+Display+dynamic+link+in+Jupyter+Lab:+Error+short+description\">Bug report</a>"
   ]
  },
  {
   "cell_type": "markdown",
   "id": "fbfe6056-3f6d-48a1-80e0-39ed210539a8",
   "metadata": {
    "papermill": {},
    "tags": []
   },
   "source": [
    "**Tags:** #ipython #jupyterlab #markdown #dynamic #link"
   ]
  },
  {
   "cell_type": "markdown",
   "id": "d4e42378-4625-4e89-9711-d495e602c290",
   "metadata": {
    "papermill": {},
    "tags": []
   },
   "source": [
    "**Author:** [Florent Ravenel](https://www.linkedin.com/in/florent-ravenel)"
   ]
  },
  {
   "cell_type": "markdown",
   "id": "57194265-ad1a-4fca-92d1-9b4ff022daa0",
   "metadata": {
    "papermill": {},
    "tags": []
   },
   "source": [
    "**Last update:** 2023-09-27 (Created: 2023-09-27)"
   ]
  },
  {
   "cell_type": "markdown",
   "id": "72faaba9-4949-4fcd-b63d-21cd75cf2949",
   "metadata": {
    "papermill": {},
    "tags": []
   },
   "source": [
    "**Description:** This notebook shows how to display a link in Jupyter Lab using Markdown syntax."
   ]
  },
  {
   "cell_type": "markdown",
   "id": "fe625730-9b03-4269-943c-c9de20916ce2",
   "metadata": {
    "papermill": {},
    "tags": []
   },
   "source": [
    "**References:**\n",
    "- [IPython](https://ipython.org/)"
   ]
  },
  {
   "cell_type": "markdown",
   "id": "df672208-f726-43af-bf02-c8c051dac810",
   "metadata": {
    "papermill": {},
    "tags": []
   },
   "source": [
    "## Input"
   ]
  },
  {
   "cell_type": "markdown",
   "id": "d92c553c-70a4-4f87-9a39-65e35be620fd",
   "metadata": {
    "papermill": {},
    "tags": []
   },
   "source": [
    "### Import libraries"
   ]
  },
  {
   "cell_type": "code",
   "execution_count": null,
   "id": "1a450962-8c7b-4970-b401-f0e23adbcd8b",
   "metadata": {
    "papermill": {},
    "tags": []
   },
   "outputs": [],
   "source": [
    "from IPython.display import Markdown"
   ]
  },
  {
   "cell_type": "markdown",
   "id": "d7cb8977-ede8-4beb-b508-69cbd16bc3ea",
   "metadata": {
    "papermill": {},
    "tags": []
   },
   "source": [
    "### Setup variables\n",
    "- `link_text`: Text to be displayed\n",
    "- `link_url`: URL of the link"
   ]
  },
  {
   "cell_type": "code",
   "execution_count": null,
   "id": "726dc433-45cc-4928-a76d-036967fb9fcd",
   "metadata": {
    "papermill": {},
    "tags": []
   },
   "outputs": [],
   "source": [
    "link_text = \"Click here\"\n",
    "link_url = \"https://example.com\""
   ]
  },
  {
   "cell_type": "markdown",
   "id": "6e45686e-fd28-4171-8410-762e944008b4",
   "metadata": {
    "papermill": {},
    "tags": []
   },
   "source": [
    "## Model"
   ]
  },
  {
   "cell_type": "markdown",
   "id": "dc5b4040-1f2a-4393-a054-1372d35f083c",
   "metadata": {
    "papermill": {},
    "tags": []
   },
   "source": [
    "### Create link using Markdown syntax"
   ]
  },
  {
   "cell_type": "code",
   "execution_count": null,
   "id": "2ebc3cb7-09bb-495f-97ae-6639ca220020",
   "metadata": {
    "papermill": {},
    "tags": []
   },
   "outputs": [],
   "source": [
    "link_markdown = f\"[{link_text}]({link_url})\""
   ]
  },
  {
   "cell_type": "markdown",
   "id": "7330d9fe-fbbf-4fe6-aee9-503ce8892130",
   "metadata": {
    "papermill": {},
    "tags": []
   },
   "source": [
    "## Output"
   ]
  },
  {
   "cell_type": "markdown",
   "id": "25dd2f40-999b-4e16-9784-6eeb23a9adea",
   "metadata": {
    "papermill": {},
    "tags": []
   },
   "source": [
    "### Display result"
   ]
  },
  {
   "cell_type": "code",
   "execution_count": null,
   "id": "8f8ee955-68b8-453e-891b-94ddc4073c9a",
   "metadata": {
    "papermill": {},
    "tags": []
   },
   "outputs": [],
   "source": [
    "Markdown(link_markdown)"
   ]
  }
 ],
 "metadata": {
  "kernelspec": {
   "display_name": "Python 3",
   "language": "python",
   "name": "python3"
  },
  "language_info": {
   "codemirror_mode": {
    "name": "ipython",
    "version": 3
   },
   "file_extension": ".py",
   "mimetype": "text/x-python",
   "name": "python",
   "nbconvert_exporter": "python",
   "pygments_lexer": "ipython3",
   "version": "3.9.6"
  },
  "naas": {
   "notebook_id": "5700cab9e7293ba8a0b3a8c5a05507f0e397b5a649dbab6e1c46d4cad7c7ee1a",
   "notebook_path": "IPython/IPython_Display_dynamic_link_in_Jupyter_Lab.ipynb"
  },
  "papermill": {
   "default_parameters": {},
   "environment_variables": {},
   "parameters": {},
   "version": "2.4.0"
  },
  "widgets": {
   "application/vnd.jupyter.widget-state+json": {
    "state": {},
    "version_major": 2,
    "version_minor": 0
   }
  }
 },
 "nbformat": 4,
 "nbformat_minor": 5
}