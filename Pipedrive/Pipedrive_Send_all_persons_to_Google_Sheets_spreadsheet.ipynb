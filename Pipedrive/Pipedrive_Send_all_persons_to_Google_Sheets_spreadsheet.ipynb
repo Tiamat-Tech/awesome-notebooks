{
 "cells": [
  {
   "cell_type": "markdown",
   "id": "71c0bc07-d10e-4777-9d07-f8069593b9dc",
   "metadata": {
    "papermill": {},
    "tags": [
     "naas"
    ]
   },
   "source": [
    "<img width=\"8%\" alt=\"Pipedrive.png\" src=\"https://raw.githubusercontent.com/jupyter-naas/awesome-notebooks/master/.github/assets/logos/Pipedrive.png\" style=\"border-radius: 15%\">"
   ]
  },
  {
   "cell_type": "markdown",
   "id": "c2297c6c-1c56-44f5-ab1b-4f358315ae4d",
   "metadata": {
    "papermill": {},
    "tags": []
   },
   "source": [
    "# Pipedrive - Send all persons to a Google Sheets spreadsheet\n",
    "<a href=\"https://bit.ly/3JyWIk6\">Give Feedback</a> | <a href=\"https://github.com/jupyter-naas/awesome-notebooks/issues/new?assignees=&labels=bug&template=bug_report.md&title=Pipedrive+-+Send+all+persons+to+a+Google+Sheets+spreadsheet:+Error+short+description\">Bug report</a>"
   ]
  },
  {
   "cell_type": "markdown",
   "id": "1528c23e-d4b5-4dae-aedd-3e0c3de7a07e",
   "metadata": {
    "papermill": {},
    "tags": []
   },
   "source": [
    "**Tags:** #pipedrive #persons #get #automation #scheduler #gsheet #googlesheets"
   ]
  },
  {
   "cell_type": "markdown",
   "id": "0f5b4999-cf8f-429b-a3b5-60abd6f0b4cb",
   "metadata": {
    "papermill": {},
    "tags": []
   },
   "source": [
    "**Author:** [Florent Ravenel](https://www.linkedin.com/in/florent-ravenel/)"
   ]
  },
  {
   "cell_type": "markdown",
   "id": "b50cf866-b0f5-45c1-9ea2-4c63d5622675",
   "metadata": {
    "papermill": {},
    "tags": []
   },
   "source": [
    "**Last update:** 2023-12-28 (Created: 2023-12-28)"
   ]
  },
  {
   "cell_type": "markdown",
   "id": "da21ae20-d8f3-41ae-b6e4-1d16e8bca2d0",
   "metadata": {
    "papermill": {},
    "tags": []
   },
   "source": [
    "**Description:** This notebook send all persons from Pipedrive to a Google Sheets spreadsheet."
   ]
  },
  {
   "cell_type": "markdown",
   "id": "6a0004b2-eb12-4dc2-b721-6b482cab7439",
   "metadata": {
    "papermill": {},
    "tags": []
   },
   "source": [
    "**References:**\n",
    "- [Pipedrive API v1 Documentation](https://developers.pipedrive.com/docs/api/v1/Persons#getPersons)\n",
    "- [Pipedrive API Authentication](https://developers.pipedrive.com/docs/api/authentication)"
   ]
  },
  {
   "cell_type": "markdown",
   "id": "906e7461-ec7c-4efe-952b-79a2fcdf2b94",
   "metadata": {
    "papermill": {},
    "tags": []
   },
   "source": [
    "## Input"
   ]
  },
  {
   "cell_type": "markdown",
   "id": "699c6ed8-1d1c-4712-b64c-34ed8b385130",
   "metadata": {
    "papermill": {},
    "tags": []
   },
   "source": [
    "### Import libraries"
   ]
  },
  {
   "cell_type": "code",
   "execution_count": null,
   "id": "771e3ddd-f295-4b44-a7d5-0873ee5be72a",
   "metadata": {
    "papermill": {},
    "tags": []
   },
   "outputs": [],
   "source": [
    "import requests\n",
    "import naas\n",
    "import pandas as pd\n",
    "from datetime import date"
   ]
  },
  {
   "cell_type": "markdown",
   "id": "0ab0d130-cbec-438c-a188-8a0cb295da4e",
   "metadata": {
    "papermill": {},
    "tags": []
   },
   "source": [
    "### Setup variables\n",
    "**Pre-requisite**\n",
    "\n",
    "- Share your Google Sheets spreadsheet with our service account : 🔗 naas-share@naas-gsheets.iam.gserviceaccount.com\n",
    "- [Get your Pipedrive API token](https://developers.pipedrive.com/docs/api/authentication)\n",
    "\n",
    "**Mandatory**\n",
    "\n",
    "- `api_token`: Pipedrive API token used to authenticate the request.\n",
    "- `spreadsheet_url`: Google Sheets spreadsheet URL\n",
    "- `sheet_name`: Google Sheets sheet name\n",
    "\n",
    "**Optional**\n",
    "- `file_path`: CSV file path to save data\n",
    "- `cron`: CRON syntax to schedule notebooks, find the syntax you need to on: https://crontab.guru/"
   ]
  },
  {
   "cell_type": "code",
   "execution_count": null,
   "id": "d6ffb591-6b88-43f6-95b7-a93de4040366",
   "metadata": {
    "papermill": {},
    "tags": []
   },
   "outputs": [],
   "source": [
    "# Mandatory\n",
    "api_token = naas.secret.get(\"PIPEDRIVE_API_KEY\") or \"YOUR_API_TOKEN\"\n",
    "spreadsheet_url = \"https://docs.google.com/spreadsheets/d/1RdwdYXDFDSFSFxxxxxxxx/edit#gid=XXXXXXXX33\"\n",
    "sheet_name = \"MY_SHEET\"\n",
    "\n",
    "# Optional\n",
    "file_path = f\"{date.today().isoformat()}_export_pipedrive_persons.csv\"\n",
    "cron = \"0 8 * * *\""
   ]
  },
  {
   "cell_type": "markdown",
   "id": "61a6835b-4526-4d1e-9e21-e2c9325f0206",
   "metadata": {
    "papermill": {},
    "tags": []
   },
   "source": [
    "## Model"
   ]
  },
  {
   "cell_type": "markdown",
   "id": "35bdc814-3909-4188-94c0-0c1faf996c1e",
   "metadata": {
    "papermill": {},
    "tags": []
   },
   "source": [
    "### Get all persons"
   ]
  },
  {
   "cell_type": "code",
   "execution_count": null,
   "id": "6810b2b3-de2c-4929-b2ff-f5d9c176ddbd",
   "metadata": {
    "papermill": {},
    "tags": []
   },
   "outputs": [],
   "source": [
    "# Flatten the nested dict\n",
    "def flatten_dict(d, parent_key='', sep='_'):\n",
    "    \"\"\"\n",
    "    Flattens a nested dictionary into a single level dictionary.\n",
    "\n",
    "    Args:\n",
    "        d (dict): A nested dictionary.\n",
    "        parent_key (str): Optional string to prefix the keys with.\n",
    "        sep (str): Optional separator to use between parent_key and child_key.\n",
    "\n",
    "    Returns:\n",
    "        dict: A flattened dictionary.\n",
    "    \"\"\"\n",
    "    items = []\n",
    "    for k, v in d.items():\n",
    "        new_key = f\"{parent_key}{sep}{k}\" if parent_key else k\n",
    "        if isinstance(v, dict):\n",
    "            items.extend(flatten_dict(v, new_key, sep=sep).items())\n",
    "        else:\n",
    "            items.append((new_key, v))\n",
    "    return dict(items)\n",
    "\n",
    "def get_all_persons(\n",
    "    api_token,\n",
    "    start=0,\n",
    "    limit=100\n",
    "):\n",
    "    # Init\n",
    "    data = []\n",
    "    \n",
    "    # Requests\n",
    "    while True:\n",
    "        api_url = f'https://api.pipedrive.com/v1/persons?api_token={api_token}&start={start}&limit={limit}'\n",
    "        res = requests.get(api_url)\n",
    "        res.raise_for_status()\n",
    "        if res.status_code == 200:\n",
    "            res_json = res.json()\n",
    "        else:\n",
    "            print(f'Failed to get all organizations. Status code: {res.status_code}')\n",
    "            break\n",
    "            \n",
    "        # Clean data\n",
    "        if res_json.get(\"success\") and res_json.get('data') is not None:\n",
    "            for r in res_json.get('data'):\n",
    "                data.append(flatten_dict(r))\n",
    "            start += 100\n",
    "        else:\n",
    "            break\n",
    "    return pd.DataFrame(data)\n",
    "        \n",
    "df = get_all_persons(api_token)\n",
    "print(\"Persons:\", len(df))\n",
    "df.head(5)"
   ]
  },
  {
   "cell_type": "markdown",
   "id": "7c89f6ac-4231-46ea-81ba-3aa90bc46f3c",
   "metadata": {
    "papermill": {},
    "tags": []
   },
   "source": [
    "## Output"
   ]
  },
  {
   "cell_type": "markdown",
   "id": "ca89baa8-b76c-4f9e-8d60-74fdfacf141d",
   "metadata": {
    "papermill": {},
    "tags": []
   },
   "source": [
    "### Save data to CSV"
   ]
  },
  {
   "cell_type": "code",
   "execution_count": null,
   "id": "4e6814d5-bfeb-413a-a4e9-7d9c70c4d95b",
   "metadata": {
    "papermill": {},
    "tags": []
   },
   "outputs": [],
   "source": [
    "df.to_csv(file_path, index=False)"
   ]
  },
  {
   "cell_type": "markdown",
   "id": "c18f9cc4-700d-4795-86a8-281d6f517de4",
   "metadata": {
    "execution": {
     "iopub.execute_input": "2023-12-28T08:17:02.814213Z",
     "iopub.status.busy": "2023-12-28T08:17:02.813935Z",
     "iopub.status.idle": "2023-12-28T08:17:02.817748Z",
     "shell.execute_reply": "2023-12-28T08:17:02.817066Z",
     "shell.execute_reply.started": "2023-12-28T08:17:02.814146Z"
    },
    "papermill": {},
    "tags": []
   },
   "source": [
    "### Send data to a Google Sheets spreadsheet"
   ]
  },
  {
   "cell_type": "code",
   "execution_count": null,
   "id": "16856bbe-d6a8-49fd-9581-303b628644c7",
   "metadata": {
    "papermill": {},
    "tags": []
   },
   "outputs": [],
   "source": [
    "gsheet.connect(spreadsheet_url).send(\n",
    "    sheet_name=sheet_name,\n",
    "    data=df,\n",
    "    append=False\n",
    ")"
   ]
  },
  {
   "cell_type": "markdown",
   "id": "7dbd2091-13e9-475f-9675-223b6daf3ea5",
   "metadata": {
    "papermill": {},
    "tags": []
   },
   "source": [
    "### Add scheduler"
   ]
  },
  {
   "cell_type": "code",
   "execution_count": null,
   "id": "e6387460-1d96-41d8-b0ab-aab76735b728",
   "metadata": {
    "papermill": {},
    "tags": []
   },
   "outputs": [],
   "source": [
    "naas.scheduler.add(cron=cron)\n",
    "\n",
    "# naas.scheduler.delete()"
   ]
  },
  {
   "cell_type": "markdown",
   "id": "5e625e87-9a42-44a4-a872-9ab557638886",
   "metadata": {
    "papermill": {},
    "tags": []
   },
   "source": [
    " "
   ]
  }
 ],
 "metadata": {
  "kernelspec": {
   "display_name": "Python 3",
   "language": "python",
   "name": "python3"
  },
  "language_info": {
   "codemirror_mode": {
    "name": "ipython",
    "version": 3
   },
   "file_extension": ".py",
   "mimetype": "text/x-python",
   "name": "python",
   "nbconvert_exporter": "python",
   "pygments_lexer": "ipython3",
   "version": "3.9.6"
  },
  "naas": {
   "notebook_id": "f6816c4d4929b13d1a4e644ff3caef37c5fb6f7d55b8ab070396c31185829124",
   "notebook_path": "Pipedrive/Pipedrive_Send_all_persons_to_Google_Sheets_spreadsheet.ipynb"
  },
  "papermill": {
   "default_parameters": {},
   "environment_variables": {},
   "parameters": {},
   "version": "2.5.0"
  },
  "widgets": {
   "application/vnd.jupyter.widget-state+json": {
    "state": {},
    "version_major": 2,
    "version_minor": 0
   }
  }
 },
 "nbformat": 4,
 "nbformat_minor": 5
}