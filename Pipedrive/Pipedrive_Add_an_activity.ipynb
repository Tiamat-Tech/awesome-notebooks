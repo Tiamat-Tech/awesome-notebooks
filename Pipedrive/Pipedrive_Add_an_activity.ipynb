{
 "cells": [
  {
   "cell_type": "markdown",
   "id": "6b6279f8-3fda-4958-8852-d954873d2763",
   "metadata": {
    "papermill": {},
    "tags": []
   },
   "source": [
    "<img width=\"8%\" alt=\"Pipedrive.png\" src=\"https://raw.githubusercontent.com/jupyter-naas/awesome-notebooks/master/.github/assets/logos/Pipedrive.png\" style=\"border-radius: 15%\">"
   ]
  },
  {
   "cell_type": "markdown",
   "id": "6cd93f7a-57ed-4f04-a36c-50ecd1f2a44a",
   "metadata": {
    "papermill": {},
    "tags": []
   },
   "source": [
    "# Pipedrive - Add an activity\n",
    "<a href=\"https://bit.ly/3JyWIk6\">Give Feedback</a> | <a href=\"https://github.com/jupyter-naas/awesome-notebooks/issues/new?assignees=&labels=bug&template=bug_report.md&title=Pipedrive+-+Add+an+activity:+Error+short+description\">Bug report</a>"
   ]
  },
  {
   "cell_type": "markdown",
   "id": "cd1ac6cb-8ac5-42ef-a876-26492952eaa1",
   "metadata": {
    "papermill": {},
    "tags": []
   },
   "source": [
    "**Tags:** #pipedrive #api #activity #add #python #automation"
   ]
  },
  {
   "cell_type": "markdown",
   "id": "5c89d1ee-4772-44e5-b9b5-d08ed54353da",
   "metadata": {
    "papermill": {},
    "tags": []
   },
   "source": [
    "**Author:** [Florent Ravenel](https://www.linkedin.com/in/florent-ravenel/)"
   ]
  },
  {
   "cell_type": "markdown",
   "id": "fc36074e-8496-4d0d-b0a2-3b5fb2ea98cf",
   "metadata": {
    "papermill": {},
    "tags": []
   },
   "source": [
    "**Last update:** 2024-03-06 (Created: 2024-03-06)"
   ]
  },
  {
   "cell_type": "markdown",
   "id": "765d68eb-ef6d-4b05-8747-588bad3df05f",
   "metadata": {
    "papermill": {},
    "tags": []
   },
   "source": [
    "**Description:** This notebook adds a new activity in Pipedrive. It includes the 'more_activities_scheduled_in_context' property in the response's additional_data, which indicates whether there are more undone activities scheduled with the same deal, person, or organization."
   ]
  },
  {
   "cell_type": "markdown",
   "id": "06ceb544-2f4c-4096-8836-f53574ccd17c",
   "metadata": {
    "papermill": {},
    "tags": []
   },
   "source": [
    "**References:**\n",
    "- [Pipedrive API Documentation](https://developers.pipedrive.com/docs/api/v1/)\n",
    "- [Pipedrive API - Add Activity](https://developers.pipedrive.com/docs/api/v1/Activities#addActivity)"
   ]
  },
  {
   "cell_type": "markdown",
   "id": "55357661-6ef3-414c-bf64-f97a1e99e7f0",
   "metadata": {
    "papermill": {},
    "tags": []
   },
   "source": [
    "## Input"
   ]
  },
  {
   "cell_type": "markdown",
   "id": "b853d0b9-3388-469a-937e-f9cd774f7cfc",
   "metadata": {
    "papermill": {},
    "tags": []
   },
   "source": [
    "### Import libraries"
   ]
  },
  {
   "cell_type": "code",
   "execution_count": null,
   "id": "3fb5a4e4-05aa-4aaa-8dff-4123eee26841",
   "metadata": {
    "papermill": {},
    "tags": []
   },
   "outputs": [],
   "source": [
    "import requests\n",
    "import json"
   ]
  },
  {
   "cell_type": "markdown",
   "id": "78a40b24-34e2-4d65-8470-b14abb3e082a",
   "metadata": {
    "papermill": {},
    "tags": []
   },
   "source": [
    "### Setup variables\n",
    "- `api_token`: Your Pipedrive API token. You can find it in your Pipedrive account settings.\n",
    "- `base_url`: The base URL for the Pipedrive API. It should be 'https://api.pipedrive.com/v1/'.\n",
    "- `activity_data`: A dictionary containing the data for the new activity. It should include keys like 'subject', 'due_date', 'due_time', etc."
   ]
  },
  {
   "cell_type": "code",
   "execution_count": null,
   "id": "459f6e1e-7b67-45a4-a06e-a7c5ff2b7f2d",
   "metadata": {
    "papermill": {},
    "tags": []
   },
   "outputs": [],
   "source": [
    "api_token = \"your_api_token\"\n",
    "base_url = \"https://api.pipedrive.com/v1/\"\n",
    "activity_data = {\n",
    "    \"subject\": \"Follow up with client\",\n",
    "    \"due_date\": \"2024-03-07\",\n",
    "    \"due_time\": \"10:00\",\n",
    "    \"type\": \"call\",\n",
    "}"
   ]
  },
  {
   "cell_type": "markdown",
   "id": "31a77208-cf3c-4585-a5c5-f5133d068042",
   "metadata": {
    "papermill": {},
    "tags": []
   },
   "source": [
    "## Model"
   ]
  },
  {
   "cell_type": "markdown",
   "id": "c756014b-b66f-4e58-83e8-b24d0164730d",
   "metadata": {
    "papermill": {},
    "tags": []
   },
   "source": [
    "### Add Activity"
   ]
  },
  {
   "cell_type": "markdown",
   "id": "dc746966-f423-4026-bfb2-d40832a546c4",
   "metadata": {
    "papermill": {},
    "tags": []
   },
   "source": [
    "This function sends a POST request to the Pipedrive API to create a new activity. The response includes the 'more_activities_scheduled_in_context' property, which indicates whether there are more undone activities scheduled with the same deal, person, or organization."
   ]
  },
  {
   "cell_type": "code",
   "execution_count": null,
   "id": "c7619c8b-4697-42fd-9e30-cd55370f4b5c",
   "metadata": {
    "papermill": {},
    "tags": []
   },
   "outputs": [],
   "source": [
    "def add_activity(api_token, base_url, activity_data):\n",
    "    url = f\"{base_url}activities?api_token={api_token}\"\n",
    "    response = requests.post(url, data=activity_data)\n",
    "    return response.json()"
   ]
  },
  {
   "cell_type": "markdown",
   "id": "b508eba7-3f26-4b41-a6f0-aaaca2e89893",
   "metadata": {
    "papermill": {},
    "tags": []
   },
   "source": [
    "## Output"
   ]
  },
  {
   "cell_type": "markdown",
   "id": "e4fa6ff2-c6b0-4588-87cf-1d62b3db6fab",
   "metadata": {
    "papermill": {},
    "tags": []
   },
   "source": [
    "### Display result"
   ]
  },
  {
   "cell_type": "code",
   "execution_count": null,
   "id": "f6ca12f7-70d6-4cd0-beb9-577b26752cce",
   "metadata": {
    "papermill": {},
    "tags": []
   },
   "outputs": [],
   "source": [
    "result = add_activity(api_token, base_url, activity_data)\n",
    "print(json.dumps(result, indent=4))"
   ]
  }
 ],
 "metadata": {
  "kernelspec": {
   "display_name": "Python 3",
   "language": "python",
   "name": "python3"
  },
  "language_info": {
   "codemirror_mode": {
    "name": "ipython",
    "version": 3
   },
   "file_extension": ".py",
   "mimetype": "text/x-python",
   "name": "python",
   "nbconvert_exporter": "python",
   "pygments_lexer": "ipython3",
   "version": "3.9.6"
  },
  "naas": {
   "notebook_id": "7acd20543c52d48508c7c40c0f66418254ce97490ba9686e8d4acb9a0093726d",
   "notebook_path": "Pipedrive/Pipedrive_Add_an_activity.ipynb"
  },
  "papermill": {
   "default_parameters": {},
   "environment_variables": {},
   "parameters": {},
   "version": "2.5.0"
  },
  "widgets": {
   "application/vnd.jupyter.widget-state+json": {
    "state": {},
    "version_major": 2,
    "version_minor": 0
   }
  }
 },
 "nbformat": 4,
 "nbformat_minor": 5
}