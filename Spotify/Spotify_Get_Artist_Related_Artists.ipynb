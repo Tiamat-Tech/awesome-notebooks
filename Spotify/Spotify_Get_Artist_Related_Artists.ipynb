{
 "cells": [
  {
   "cell_type": "markdown",
   "id": "4ce5565e-ec05-48c0-8754-eb7f1ce166fc",
   "metadata": {
    "papermill": {},
    "tags": []
   },
   "source": [
    "<img width=\"8%\" alt=\"Spotify.png\" src=\"https://raw.githubusercontent.com/jupyter-naas/awesome-notebooks/master/.github/assets/logos/Spotify.png\" style=\"border-radius: 15%\">"
   ]
  },
  {
   "cell_type": "markdown",
   "id": "4a392918-7695-463e-97f2-68d0df2341d4",
   "metadata": {
    "papermill": {},
    "tags": []
   },
   "source": [
    "# Spotify - Get Artist's Related Artists\n",
    "<a href=\"https://bit.ly/3JyWIk6\">Give Feedback</a> | <a href=\"https://github.com/jupyter-naas/awesome-notebooks/issues/new?assignees=&labels=bug&template=bug_report.md&title=Spotify+-+Get+Artist's+Related+Artists:+Error+short+description\">Bug report</a>"
   ]
  },
  {
   "cell_type": "markdown",
   "id": "047095c6-636d-43d7-a50b-d7e285d0dc01",
   "metadata": {
    "papermill": {},
    "tags": []
   },
   "source": [
    "**Tags:** #spotify #api #getartistrelatedartists #webapi #reference #uniqueid #snippet"
   ]
  },
  {
   "cell_type": "markdown",
   "id": "aa6acea3-0db6-4843-a43b-44f926d68957",
   "metadata": {
    "execution": {
     "iopub.execute_input": "2023-12-10T07:30:10.250344Z",
     "iopub.status.busy": "2023-12-10T07:30:10.249969Z",
     "iopub.status.idle": "2023-12-10T07:30:10.302347Z",
     "shell.execute_reply": "2023-12-10T07:30:10.300248Z",
     "shell.execute_reply.started": "2023-12-10T07:30:10.250248Z"
    },
    "papermill": {},
    "tags": []
   },
   "source": [
    "**Author:** [Alton Liew](https://www.linkedin.com/in/alton-liew/)"
   ]
  },
  {
   "cell_type": "markdown",
   "id": "b16aec22-53a4-4aca-841e-3042a0194d7c",
   "metadata": {
    "papermill": {},
    "tags": []
   },
   "source": [
    "**Last update:** 2023-12-10 (Created: 2023-12-10)"
   ]
  },
  {
   "cell_type": "markdown",
   "id": "5cad4eb3-1f8d-4dd8-9928-0897a60b556e",
   "metadata": {
    "papermill": {},
    "tags": []
   },
   "source": [
    "**Description:** This notebook retrieves a list of artist that are similar to provided artist."
   ]
  },
  {
   "cell_type": "markdown",
   "id": "6abd081c-132c-40b2-bbb3-9275c4f30a7c",
   "metadata": {
    "papermill": {},
    "tags": []
   },
   "source": [
    "**References:**\n",
    "- [Spotify Web API Reference - Get an Artist's related artists](https://developer.spotify.com/documentation/web-api/reference/get-an-artists-related-artists)\n",
    "- [Spotify Developer Documentation](https://developer.spotify.com/documentation/)"
   ]
  },
  {
   "cell_type": "markdown",
   "id": "9fb1e4f1-d719-4b14-9bde-882748fb5481",
   "metadata": {
    "papermill": {},
    "tags": []
   },
   "source": [
    "## Input"
   ]
  },
  {
   "cell_type": "markdown",
   "id": "fa22dd0c-a4ab-4aaf-9073-cf773d1eacf7",
   "metadata": {
    "papermill": {},
    "tags": []
   },
   "source": [
    "### Import libraries"
   ]
  },
  {
   "cell_type": "code",
   "execution_count": null,
   "id": "91495783-ad36-47ca-8172-edcf489cf61b",
   "metadata": {
    "papermill": {},
    "tags": []
   },
   "outputs": [],
   "source": [
    "try:\n",
    "    import spotipy\n",
    "except:\n",
    "    !pip install spotipy --user\n",
    "    import spotipy\n",
    "from spotipy.oauth2 import SpotifyClientCredentials\n",
    "import naas\n",
    "from IPython.display import Image, display"
   ]
  },
  {
   "cell_type": "markdown",
   "id": "6c3174ea-53d6-43aa-81ad-9e2dde1c9aba",
   "metadata": {
    "papermill": {},
    "tags": []
   },
   "source": [
    "### Setup variables\n",
    "- `client_id`: Your Spotify API client ID. [Get your client ID](https://developer.spotify.com/documentation/general/guides/app-settings/#register-your-app)\n",
    "- `client_secret`: Your Spotify API client secret. [Get your client secret](https://developer.spotify.com/documentation/general/guides/app-settings/#register-your-app)\n",
    "- `artist_id`: The unique Spotify ID for the artist. [Find the artist ID](https://developer.spotify.com/console/get-artist/)"
   ]
  },
  {
   "cell_type": "code",
   "execution_count": null,
   "id": "d8d55de6-3070-418a-a695-3f7d7402c484",
   "metadata": {
    "papermill": {},
    "tags": []
   },
   "outputs": [],
   "source": [
    "client_id = naas.secret.get(\"SPOTIFY_CLIENT_ID\") or \"YOUR_SPOTIFY_CLIENT_ID\"\n",
    "client_secret = naas.secret.get(\"SPOTIFY_CLIENT_SECRET\") or \"YOUR_SPOTIFY_CLIENT_SECRET\"\n",
    "artist_id = \"6vWDO969PvNqNYHIOW5v0m\" #beyonce"
   ]
  },
  {
   "cell_type": "markdown",
   "id": "334c2fd3-5f2a-4000-8f5f-885cf2749d51",
   "metadata": {
    "papermill": {},
    "tags": []
   },
   "source": [
    "## Model"
   ]
  },
  {
   "cell_type": "markdown",
   "id": "b49f27fc-c429-47c2-b81f-df26c442a835",
   "metadata": {
    "papermill": {},
    "tags": []
   },
   "source": [
    "### Get related artist\n",
    "* Retrieve related artists on a single artist identified by their unique Spotify ID.\n",
    "* Sets up client with client id and client secret using spotipy library and fetches information.\n",
    "* Calls the function and passes in the client ID, secret, and artist ID as parameters."
   ]
  },
  {
   "cell_type": "code",
   "execution_count": null,
   "id": "43ac681c-1b9d-4563-99fe-7cd6be38ecb1",
   "metadata": {
    "papermill": {},
    "tags": []
   },
   "outputs": [],
   "source": [
    "def get_related_artists(client_id, client_secret, artist_id):\n",
    "    data = None\n",
    "    sp = spotipy.Spotify(client_credentials_manager=SpotifyClientCredentials(client_id=client_id, client_secret=client_secret))\n",
    "    try:\n",
    "        data = sp.artist_related_artists(artist_id)['artists']\n",
    "    except spotipy.SpotifyException as e:\n",
    "        print(f\"Error retrieving artist information: {e}\")\n",
    "    return data\n",
    "\n",
    "def print_related_artists(client_id, client_secret, artist_id):\n",
    "    sp = spotipy.Spotify(client_credentials_manager=SpotifyClientCredentials(client_id=client_id, client_secret=client_secret))\n",
    "    try:\n",
    "        related_artists = sp.artist_related_artists(artist_id)['artists']\n",
    "        print(f\"Related artists:\")\n",
    "        print(\"\\n\")\n",
    "        for artist in related_artists:\n",
    "            print(f\"Name: {artist['name']}\")\n",
    "            print(f\"ID: {artist['id']}\")\n",
    "            print(f\"Link: {artist['external_urls'].get('spotify')}\")\n",
    "            display(Image(url=artist['images'][0].get(\"url\"), width=300))\n",
    "            print(\"\\n\")\n",
    "    except spotipy.SpotifyException as e:\n",
    "        print(f\"Error retrieving related artists: {e}\")\n",
    "        \n",
    "data = get_related_artists(client_id, client_secret, artist_id)\n",
    "data"
   ]
  },
  {
   "cell_type": "markdown",
   "id": "3282d64a-379b-4297-a5d3-b5de05b41724",
   "metadata": {
    "papermill": {},
    "tags": []
   },
   "source": [
    "## Output"
   ]
  },
  {
   "cell_type": "markdown",
   "id": "582dc6fd-12e1-4892-ac1f-9ee05a86cc8e",
   "metadata": {
    "papermill": {},
    "tags": []
   },
   "source": [
    "### Display result\n",
    "If artist information is available, this will print the related artists, their individual ID and Spotify link."
   ]
  },
  {
   "cell_type": "code",
   "execution_count": null,
   "id": "4f14735f-6c25-4824-ae4a-b353abfaac79",
   "metadata": {
    "papermill": {},
    "tags": []
   },
   "outputs": [],
   "source": [
    "if data:\n",
    "    # Print related artists\n",
    "    print_related_artists(client_id, client_secret, artist_id)\n",
    "else:\n",
    "    print(\"Failed to retrieve related artists.\")"
   ]
  },
  {
   "cell_type": "code",
   "execution_count": null,
   "id": "e7fca8ce-9e78-441c-bd30-859f912ef0db",
   "metadata": {
    "papermill": {},
    "tags": []
   },
   "outputs": [],
   "source": []
  }
 ],
 "metadata": {
  "kernelspec": {
   "display_name": "Python 3",
   "language": "python",
   "name": "python3"
  },
  "language_info": {
   "codemirror_mode": {
    "name": "ipython",
    "version": 3
   },
   "file_extension": ".py",
   "mimetype": "text/x-python",
   "name": "python",
   "nbconvert_exporter": "python",
   "pygments_lexer": "ipython3",
   "version": "3.9.6"
  },
  "naas": {
   "notebook_id": "53ab333a6ee9fa6dae6e9a3f4d91fba62ee6cfb8fda127fe083b94b67b544d69",
   "notebook_path": "Spotify/Spotify_Get_Artist_Related_Artists.ipynb"
  },
  "papermill": {
   "default_parameters": {},
   "environment_variables": {},
   "parameters": {},
   "version": "2.5.0"
  }
 },
 "nbformat": 4,
 "nbformat_minor": 5
}