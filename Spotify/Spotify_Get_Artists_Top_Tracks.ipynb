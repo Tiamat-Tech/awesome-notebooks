{
 "cells": [
  {
   "cell_type": "markdown",
   "id": "8e2291f3-d36d-44c3-87bf-897ff94c9eb3",
   "metadata": {
    "papermill": {},
    "tags": []
   },
   "source": [
    "<img width=\"8%\" alt=\"Spotify.png\" src=\"https://raw.githubusercontent.com/jupyter-naas/awesome-notebooks/master/.github/assets/logos/Spotify.png\" style=\"border-radius: 15%\">"
   ]
  },
  {
   "cell_type": "markdown",
   "id": "ba7d436a-2809-451b-83ad-d6c270f38b99",
   "metadata": {
    "papermill": {},
    "tags": []
   },
   "source": [
    "# Spotify - Get Artist Top Tracks\n",
    "<a href=\"https://bit.ly/3JyWIk6\">Give Feedback</a> | <a href=\"https://github.com/jupyter-naas/awesome-notebooks/issues/new?assignees=&labels=bug&template=bug_report.md&title=Spotify+-+Get+Artist+Top+Tracks:+Error+short+description\">Bug report</a>"
   ]
  },
  {
   "cell_type": "markdown",
   "id": "bb85832d-fe5a-42c0-b6a8-55d7ddcabb6f",
   "metadata": {
    "papermill": {},
    "tags": []
   },
   "source": [
    "**Tags:** #spotify #api #getartisttoptracks #webapi #reference #uniqueid #snippet"
   ]
  },
  {
   "cell_type": "markdown",
   "id": "f64cab10-78cc-4bda-a72c-7849da2d6780",
   "metadata": {
    "papermill": {},
    "tags": []
   },
   "source": [
    "**Author:** [Alton Liew](https://www.linkedin.com/in/alton-liew/)"
   ]
  },
  {
   "cell_type": "markdown",
   "id": "e6f238a0-54d8-4851-afce-89b688f7e64b",
   "metadata": {
    "papermill": {},
    "tags": []
   },
   "source": [
    "**Last update:** 2023-12-08 (Created: 2023-12-08)"
   ]
  },
  {
   "cell_type": "markdown",
   "id": "9506cddd-bb56-421b-b51a-2c8b6b49bc7b",
   "metadata": {
    "papermill": {},
    "tags": []
   },
   "source": [
    "**Description:** This notebook retrieves the top ten tracks of an artist on Spotify."
   ]
  },
  {
   "cell_type": "markdown",
   "id": "92939377-87b8-4ac5-baa7-ad9c2c673f53",
   "metadata": {
    "papermill": {},
    "tags": []
   },
   "source": [
    "**References:**\n",
    "- [Spotify Web API Reference - Get Artist's Top Tracks](https://developer.spotify.com/documentation/web-api/reference/get-an-artists-top-tracks)\n",
    "- [Spotify Developer Documentation](https://developer.spotify.com/documentation/)"
   ]
  },
  {
   "cell_type": "markdown",
   "id": "f4c249c1-ae37-44ad-988c-5ac39d340e90",
   "metadata": {
    "papermill": {},
    "tags": []
   },
   "source": [
    "## Input"
   ]
  },
  {
   "cell_type": "markdown",
   "id": "09a26cbb-770f-4cbb-b735-aeb805d5d1cb",
   "metadata": {
    "papermill": {},
    "tags": []
   },
   "source": [
    "### Import libraries"
   ]
  },
  {
   "cell_type": "code",
   "execution_count": 1,
   "id": "d4e02b0d-1892-49c6-9c8e-54ba30965d44",
   "metadata": {
    "papermill": {},
    "tags": []
   },
   "outputs": [],
   "source": [
    "try:\n",
    "    import spotipy\n",
    "except:\n",
    "    !pip install spotipy --user\n",
    "    import spotipy\n",
    "from spotipy.oauth2 import SpotifyClientCredentials\n",
    "import naas\n",
    "from IPython.display import Image, display"
   ]
  },
  {
   "cell_type": "markdown",
   "id": "07ffca4a-50d7-47f9-aa07-89b4d0d5c427",
   "metadata": {
    "execution": {
     "iopub.execute_input": "2023-12-08T03:15:00.202207Z",
     "iopub.status.busy": "2023-12-08T03:15:00.201855Z",
     "iopub.status.idle": "2023-12-08T03:15:00.213808Z",
     "shell.execute_reply": "2023-12-08T03:15:00.213100Z",
     "shell.execute_reply.started": "2023-12-08T03:15:00.202117Z"
    },
    "papermill": {},
    "tags": []
   },
   "source": [
    "### Setup variables\n",
    "- `client_id`: Your Spotify API client ID. [Get your client ID](https://developer.spotify.com/documentation/general/guides/app-settings/#register-your-app)\n",
    "- `client_secret`: Your Spotify API client secret. [Get your client secret](https://developer.spotify.com/documentation/general/guides/app-settings/#register-your-app)\n",
    "- `artist_id`: The unique Spotify ID for the artist. [Find the artist ID](https://developer.spotify.com/console/get-artist/)"
   ]
  },
  {
   "cell_type": "code",
   "execution_count": 2,
   "id": "34f09e6d-d057-4996-b268-7d101cb73c6f",
   "metadata": {
    "papermill": {},
    "tags": []
   },
   "outputs": [],
   "source": [
    "client_id = naas.secret.get(\"SPOTIFY_CLIENT_ID\") or \"YOUR_SPOTIFY_CLIENT_ID\"\n",
    "client_secret = naas.secret.get(\"SPOTIFY_CLIENT_SECRET\") or \"YOUR_SPOTIFY_CLIENT_SECRET\"\n",
    "artist_id = \"20wkVLutqVOYrc0kxFs7rA\""
   ]
  },
  {
   "cell_type": "markdown",
   "id": "8c98aef3-e91c-4698-ae4d-34d17e211e0e",
   "metadata": {
    "papermill": {},
    "tags": []
   },
   "source": [
    "## Model"
   ]
  },
  {
   "cell_type": "markdown",
   "id": "d0ee441d-be4d-4125-bc23-00e0d3fd24e5",
   "metadata": {
    "papermill": {},
    "tags": []
   },
   "source": [
    "### Get Top 10 Tracks"
   ]
  },
  {
   "cell_type": "markdown",
   "id": "bd22786c-fbe1-4005-951e-98abf11eddfc",
   "metadata": {
    "papermill": {},
    "tags": []
   },
   "source": [
    "* Retrieve the top 10 tracks of an artist through their Spotify ID.\n",
    "* Sets up client with client id and client secret using spotipy library and fetches information."
   ]
  },
  {
   "cell_type": "code",
   "execution_count": null,
   "id": "9052e5bc-2c74-466d-808e-74eee79eee88",
   "metadata": {
    "papermill": {},
    "tags": []
   },
   "outputs": [],
   "source": [
    "def get_artist(client_id, client_secret, artist_id):\n",
    "    data = None\n",
    "    sp = spotipy.Spotify(client_credentials_manager=SpotifyClientCredentials(client_id=client_id, client_secret=client_secret))\n",
    "    try:\n",
    "        data = sp.artist_top_tracks(artist_id)\n",
    "    except spotipy.SpotifyException as e:\n",
    "        print(f\"Error retrieving artist information: {e}\")\n",
    "    return data\n",
    "    \n",
    "data = get_artist(client_id, client_secret, artist_id)\n",
    "# data"
   ]
  },
  {
   "cell_type": "markdown",
   "id": "3dc5ac7c-f3a2-4993-ba16-3a3829078836",
   "metadata": {
    "papermill": {},
    "tags": []
   },
   "source": [
    "## Output"
   ]
  },
  {
   "cell_type": "markdown",
   "id": "831383ee-f7c3-447d-8eae-4174ec992dd0",
   "metadata": {
    "papermill": {},
    "tags": []
   },
   "source": [
    "### Display result"
   ]
  },
  {
   "cell_type": "markdown",
   "id": "286ca61d-3347-4f67-a92e-48757515b522",
   "metadata": {
    "papermill": {},
    "tags": []
   },
   "source": [
    "* If data is available, this will print out the required information."
   ]
  },
  {
   "cell_type": "code",
   "execution_count": 4,
   "id": "1bb7a28f-e368-4a24-b6bf-2023c3f778cc",
   "metadata": {
    "papermill": {},
    "tags": []
   },
   "outputs": [],
   "source": [
    "if data:\n",
    "    artist_name = data['tracks'][0]['artists'][0]['name']\n",
    "    print(f\"Top 10 Tracks by {artist_name}:\")\n",
    "    print(\"\\n\")\n",
    "    \n",
    "    for track in data['tracks']:\n",
    "        artist_info = {\n",
    "            \"Name\": track['name'],\n",
    "            \"Album\": track['album']['name'],\n",
    "            \"ID\": track['id'],\n",
    "            \"External URLs\": track['external_urls'].get(\"spotify\"),\n",
    "            \"Preview\": track['preview_url'],\n",
    "            \"Image\": track['album']['images'][0].get(\"url\"),\n",
    "        }\n",
    "\n",
    "        for key, value in artist_info.items():\n",
    "            if key == \"Image\":\n",
    "                display(Image(url=value, width=300))\n",
    "            else:\n",
    "                print(f\"{key}: {value}\")\n",
    "        print(\"\\n\")\n",
    "else:\n",
    "    print(\"Failed to retrieve artist information.\")"
   ]
  }
 ],
 "metadata": {
  "kernelspec": {
   "display_name": "Python 3",
   "language": "python",
   "name": "python3"
  },
  "language_info": {
   "codemirror_mode": {
    "name": "ipython",
    "version": 3
   },
   "file_extension": ".py",
   "mimetype": "text/x-python",
   "name": "python",
   "nbconvert_exporter": "python",
   "pygments_lexer": "ipython3",
   "version": "3.9.6"
  },
  "naas": {
   "notebook_id": "e2b0bc73584bc81a83acdeb190d801c591cbc012b997792962e14ca5eaeb0b9a",
   "notebook_path": "Spotify/Spotify_Get_Artists_Top_Tracks.ipynb"
  },
  "papermill": {
   "default_parameters": {},
   "environment_variables": {},
   "parameters": {},
   "version": "2.5.0"
  }
 },
 "nbformat": 4,
 "nbformat_minor": 5
}