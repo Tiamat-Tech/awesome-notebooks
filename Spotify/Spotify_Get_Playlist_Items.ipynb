{
 "cells": [
  {
   "cell_type": "markdown",
   "id": "82b11125-bd4c-4adc-b108-35892f0900bb",
   "metadata": {
    "papermill": {},
    "tags": []
   },
   "source": [
    "<img width=\"8%\" alt=\"Spotify.png\" src=\"https://raw.githubusercontent.com/jupyter-naas/awesome-notebooks/master/.github/assets/logos/Spotify.png\" style=\"border-radius: 15%\">"
   ]
  },
  {
   "cell_type": "markdown",
   "id": "d243d64b-ba70-4bd1-b2c4-01a1847cdb34",
   "metadata": {
    "papermill": {},
    "tags": []
   },
   "source": [
    "# Spotify - Get Playlist Items\n",
    "<a href=\"https://bit.ly/3JyWIk6\">Give Feedback</a> | <a href=\"https://github.com/jupyter-naas/awesome-notebooks/issues/new?assignees=&labels=bug&template=bug_report.md&title=Spotify+-+Get+Playlist+Items:+Error+short+description\">Bug report</a>"
   ]
  },
  {
   "cell_type": "markdown",
   "id": "6592f619-eb81-4534-800f-3f249d710ad9",
   "metadata": {
    "papermill": {},
    "tags": []
   },
   "source": [
    "**Tags:** #spotify #playlist #items #get #api #web"
   ]
  },
  {
   "cell_type": "markdown",
   "id": "bef30de1-ed87-49e0-89ab-d020a0b8fe06",
   "metadata": {
    "papermill": {},
    "tags": []
   },
   "source": [
    "**Author:** [Alton Liew](https://www.linkedin.com/in/alton-liew/)"
   ]
  },
  {
   "cell_type": "markdown",
   "id": "f39cd3aa-3c17-4fc5-a510-96441f152162",
   "metadata": {
    "papermill": {},
    "tags": []
   },
   "source": [
    "**Last update:** 2023-12-15 (Created: 2023-12-15)"
   ]
  },
  {
   "cell_type": "markdown",
   "id": "b3f01441-96a6-4636-8cb4-e361b7bee00c",
   "metadata": {
    "papermill": {},
    "tags": []
   },
   "source": [
    "**Description:** This notebook will get full details of the items of a playlist owned by a Spotify user."
   ]
  },
  {
   "cell_type": "markdown",
   "id": "1d9f022f-ab1e-456c-b88f-574f4966e6fb",
   "metadata": {
    "papermill": {},
    "tags": []
   },
   "source": [
    "**References:**\n",
    "- [Spotify Web API Reference - Get Playlists Tracks](https://developer.spotify.com/documentation/web-api/reference/get-playlists-tracks)\n",
    "- [Spotify Web API Reference - Get a Playlist](https://developer.spotify.com/documentation/web-api/reference/playlists/get-playlist/)"
   ]
  },
  {
   "cell_type": "markdown",
   "id": "a2267f0a-96d8-4191-b457-178046f43562",
   "metadata": {
    "papermill": {},
    "tags": []
   },
   "source": [
    "## Input"
   ]
  },
  {
   "cell_type": "markdown",
   "id": "cf1a9813-e28d-48b0-a78f-ab09fb27eda8",
   "metadata": {
    "papermill": {},
    "tags": []
   },
   "source": [
    "### Import libraries"
   ]
  },
  {
   "cell_type": "code",
   "execution_count": 1,
   "id": "ed229d43-68ce-48e8-81c7-0d7918b0217b",
   "metadata": {
    "papermill": {},
    "tags": []
   },
   "outputs": [],
   "source": [
    "try:\n",
    "    import spotipy\n",
    "except:\n",
    "    !pip install spotipy --user\n",
    "    import spotipy\n",
    "from spotipy.oauth2 import SpotifyClientCredentials\n",
    "import naas\n",
    "from IPython.display import Image, display"
   ]
  },
  {
   "cell_type": "markdown",
   "id": "cdc2072f-fa71-4dc7-ae83-30cc0e7ed297",
   "metadata": {
    "papermill": {},
    "tags": []
   },
   "source": [
    "### Setup variables\n",
    "- **user_id**: Spotify user ID\n",
    "- **playlist_id**: Spotify playlist ID"
   ]
  },
  {
   "cell_type": "code",
   "execution_count": 2,
   "id": "cbd57c53-7410-4910-b08b-fc9db017aa51",
   "metadata": {
    "papermill": {},
    "tags": []
   },
   "outputs": [],
   "source": [
    "client_id = \"YOUR_SPOTIFY_CLIENT_ID\"\n",
    "client_secret = \"YOUR_SPOTIFY_CLIENT_SECRET\"\n",
    "playlist_id = 'PLAYLIST_ID'"
   ]
  },
  {
   "cell_type": "markdown",
   "id": "4482a8de-73aa-4d1c-863c-2cb80ddf0a6a",
   "metadata": {
    "papermill": {},
    "tags": []
   },
   "source": [
    "## Model"
   ]
  },
  {
   "cell_type": "markdown",
   "id": "fc75ecae-e0fd-4fb5-b953-0cd52c0f328b",
   "metadata": {
    "papermill": {},
    "tags": []
   },
   "source": [
    "### Get playlist items"
   ]
  },
  {
   "cell_type": "markdown",
   "id": "8886f117-336c-4883-8992-f3172871fda7",
   "metadata": {
    "papermill": {},
    "tags": []
   },
   "source": [
    "Get full details of the items of a playlist owned by a Spotify user."
   ]
  },
  {
   "cell_type": "code",
   "execution_count": 3,
   "id": "3c73d3c0-a440-48ff-8916-e4a74852f7ec",
   "metadata": {
    "papermill": {},
    "tags": []
   },
   "outputs": [],
   "source": [
    "def get_playlist_items(client_id, client_secret, playlist_id):\n",
    "    client_credentials_manager = SpotifyClientCredentials(client_id=client_id, client_secret=client_secret)\n",
    "    sp = spotipy.Spotify(client_credentials_manager=client_credentials_manager)\n",
    "    results = sp.playlist_tracks(playlist_id)\n",
    "    for index, track in enumerate(results['items']):\n",
    "        track_name = track['track']['name']\n",
    "        artist_name = track['track']['artists'][0]['name']\n",
    "        image_url = track['track']['album']['images'][0]['url']\n",
    "        track_id = track['track']['id']\n",
    "        print(f\"{index + 1}. {track_name}, by {artist_name}\")\n",
    "        print(f\"   Track ID: {track_id}\")\n",
    "        display(Image(url=image_url, width=200))\n",
    "        print(\"\\n\")"
   ]
  },
  {
   "cell_type": "markdown",
   "id": "65a494bf-26e9-49be-8045-454dc7a63790",
   "metadata": {
    "papermill": {},
    "tags": []
   },
   "source": [
    "## Output"
   ]
  },
  {
   "cell_type": "markdown",
   "id": "00d49a5f-25a2-41b4-99c0-24b26ac41fde",
   "metadata": {
    "papermill": {},
    "tags": []
   },
   "source": [
    "### Display result"
   ]
  },
  {
   "cell_type": "code",
   "execution_count": 4,
   "id": "a2b43d43-6492-4e01-b101-8b1efb231234",
   "metadata": {
    "papermill": {},
    "tags": []
   },
   "outputs": [],
   "source": [
    "get_playlist_items(client_id, client_secret, playlist_id)"
   ]
  }
 ],
 "metadata": {
  "kernelspec": {
   "display_name": "Python 3",
   "language": "python",
   "name": "python3"
  },
  "language_info": {
   "codemirror_mode": {
    "name": "ipython",
    "version": 3
   },
   "file_extension": ".py",
   "mimetype": "text/x-python",
   "name": "python",
   "nbconvert_exporter": "python",
   "pygments_lexer": "ipython3",
   "version": "3.9.6"
  },
  "naas": {
   "notebook_id": "45ab66144663ad1e7ccc070755163c23ace50dac4c6b2831beab1d6559ccb0c9",
   "notebook_path": "Spotify/Spotify_Get_Playlist_Items.ipynb"
  },
  "papermill": {
   "default_parameters": {},
   "environment_variables": {},
   "parameters": {},
   "version": "2.5.0"
  },
  "widgets": {
   "application/vnd.jupyter.widget-state+json": {
    "state": {},
    "version_major": 2,
    "version_minor": 0
   }
  }
 },
 "nbformat": 4,
 "nbformat_minor": 5
}