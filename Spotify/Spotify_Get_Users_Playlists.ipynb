{
 "cells": [
  {
   "cell_type": "markdown",
   "id": "250e36e5-4fd6-46e0-ba0f-053a36a63415",
   "metadata": {
    "papermill": {},
    "tags": []
   },
   "source": [
    "<img width=\"8%\" alt=\"Spotify.png\" src=\"https://raw.githubusercontent.com/jupyter-naas/awesome-notebooks/master/.github/assets/logos/Spotify.png\" style=\"border-radius: 15%\">"
   ]
  },
  {
   "cell_type": "markdown",
   "id": "595f753b-520e-4780-bf73-3b6a304e2312",
   "metadata": {
    "papermill": {},
    "tags": []
   },
   "source": [
    "# Spotify - Get User's Playlists\n",
    "<a href=\"https://bit.ly/3JyWIk6\">Give Feedback</a> | <a href=\"https://github.com/jupyter-naas/awesome-notebooks/issues/new?assignees=&labels=bug&template=bug_report.md&title=Spotify+-+Get+User's+Playlists:+Error+short+description\">Bug report</a>"
   ]
  },
  {
   "cell_type": "markdown",
   "id": "de390462-b4cd-4754-be80-d3dc885897d2",
   "metadata": {
    "papermill": {},
    "tags": []
   },
   "source": [
    "**Tags:** #spotify #api #web-api #users-playlists #get #snippet"
   ]
  },
  {
   "cell_type": "markdown",
   "id": "24f6cc32-ebff-44f0-aa75-b410faee64ec",
   "metadata": {
    "papermill": {},
    "tags": []
   },
   "source": [
    "**Author:** [Alton Liew](https://www.linkedin.com/in/alton-liew-b099b0289/)"
   ]
  },
  {
   "cell_type": "markdown",
   "id": "094eebe7-34f8-456a-967a-e59e0c4e44b6",
   "metadata": {
    "papermill": {},
    "tags": []
   },
   "source": [
    "**Last update:** 2023-12-22 (Created: 2023-12-22)"
   ]
  },
  {
   "cell_type": "markdown",
   "id": "3e1aaf33-f2ae-487a-abf3-8dc67ce4c642",
   "metadata": {
    "papermill": {},
    "tags": []
   },
   "source": [
    "**Description:** This notebook will get a list of the playlists owned or followed by a Spotify user."
   ]
  },
  {
   "cell_type": "markdown",
   "id": "fb4fa312-cfc7-4433-9709-157d97a2888d",
   "metadata": {
    "papermill": {},
    "tags": []
   },
   "source": [
    "**References:**\n",
    "- [Spotify Web API Reference - Get User's Playlists](https://developer.spotify.com/documentation/web-api/reference/get-a-list-of-current-users-playlists)\n",
    "- [Spotify Authorization Guide](https://developer.spotify.com/documentation/general/guides/authorization-guide/)"
   ]
  },
  {
   "cell_type": "markdown",
   "id": "6a7978a7-5884-4a09-8642-ef068864d2b9",
   "metadata": {
    "papermill": {},
    "tags": []
   },
   "source": [
    "## Input"
   ]
  },
  {
   "cell_type": "markdown",
   "id": "ef8e6dec-e764-4fa7-9e2b-b52735c9717b",
   "metadata": {
    "papermill": {},
    "tags": []
   },
   "source": [
    "### Import libraries"
   ]
  },
  {
   "cell_type": "code",
   "execution_count": 1,
   "id": "cfc83d47-339b-41b9-aabe-d42ce9af75f4",
   "metadata": {
    "papermill": {},
    "tags": []
   },
   "outputs": [],
   "source": [
    "try:\n",
    "    import spotipy\n",
    "except:\n",
    "    !pip install spotipy --user\n",
    "    import spotipy\n",
    "from spotipy.oauth2 import SpotifyOAuth\n",
    "from IPython.display import Image, display"
   ]
  },
  {
   "cell_type": "markdown",
   "id": "3a67f0d6-2ad9-40c8-bfe9-8477f4c08ad6",
   "metadata": {
    "papermill": {},
    "tags": []
   },
   "source": [
    "### Setup variables\n",
    "**Mandatory**\n",
    "- `client_id`: retrieve from Spotify Developers website. https://developer.spotify.com/\n",
    "- `client_secret`: Spotify client secret from Spotify Developers website. https://developer.spotify.com/\n",
    "- `redirect_uri`: redirect user to a page for authentication. Example: \"localhost: http://localhost:8888/callback\". Make sure this is the same URI used in the Spotify Developers website."
   ]
  },
  {
   "cell_type": "code",
   "execution_count": 2,
   "id": "b1eebfe7-04d5-4316-ba3c-8b4ff1394625",
   "metadata": {
    "papermill": {},
    "tags": []
   },
   "outputs": [],
   "source": [
    "client_id = \"YOUR_SPOTIFY_CLIENT_ID\"\n",
    "client_secret = \"YOUR_SPOTIFY_CLIENT_SECRET\"\n",
    "redirect_uri = \"YOUR_REDIRECT_URI\""
   ]
  },
  {
   "cell_type": "markdown",
   "id": "e940ff23-2447-402a-b13b-cbbf0f757a62",
   "metadata": {
    "papermill": {},
    "tags": []
   },
   "source": [
    "## Model"
   ]
  },
  {
   "cell_type": "markdown",
   "id": "efaf431d-6998-478e-8c8d-94470986094b",
   "metadata": {
    "papermill": {},
    "tags": []
   },
   "source": [
    "### Get User's Playlists"
   ]
  },
  {
   "cell_type": "code",
   "execution_count": 3,
   "id": "b2da0be1-b65f-499d-bf3f-7d506bc9f3c6",
   "metadata": {
    "papermill": {},
    "tags": []
   },
   "outputs": [],
   "source": [
    "def authenticate_spotify(client_id, client_secret, redirect_uri):\n",
    "    sp = spotipy.Spotify(auth_manager=SpotifyOAuth(client_id=client_id, client_secret=client_secret, redirect_uri=redirect_uri, scope=\"user-read-recently-played\"))\n",
    "    \n",
    "    if sp.auth_manager.get_cached_token() is not None:\n",
    "        print(\"Successfully authenticated\")\n",
    "        return sp\n",
    "    else:\n",
    "        print(\"Authentication failed\")\n",
    "        auth_url = sp.auth_manager.get_authorize_url()\n",
    "        print(f\"Please visit this URL to authorize the application: {auth_url}\")\n",
    "        authorization_code = input(\"Enter the authorization code from the URL: \")\n",
    "        token_info = sp.auth_manager.get_access_token(authorization_code)\n",
    "        return sp\n",
    "    \n",
    "def get_users_playlists(sp):\n",
    "    user_id = sp.current_user()['id']\n",
    "    all_playlists = sp.current_user_playlists()\n",
    "    image_width = 300\n",
    "    \n",
    "    print(\"Owned Playlists:\")\n",
    "    for playlist in all_playlists['items']:\n",
    "        if playlist['owner']['id'] == user_id:\n",
    "            print(f\"Playlist Name: {playlist['name']}, Playlist ID: {playlist['id']}\")\n",
    "            if len(playlist['images']) > 0:\n",
    "                image_url = playlist['images'][0]['url'] \n",
    "                display(Image(url=image_url, width=image_width))\n",
    "            else:\n",
    "                print(\"No image available for this playlist\")\n",
    "            print(\"\\n\")\n",
    "        \n",
    "    print(\"Followed Playlists:\")\n",
    "    for playlist in all_playlists['items']:\n",
    "        if playlist['owner']['id'] != user_id:\n",
    "            print(f\"Playlist Name: {playlist['name']}, Playlist ID: {playlist['id']}\")\n",
    "            if len(playlist['images']) > 0:\n",
    "                image_url = playlist['images'][0]['url'] \n",
    "                display(Image(url=image_url, width=image_width))\n",
    "            else:\n",
    "                print(\"No image available for this playlist\")\n",
    "            print(\"\\n\")"
   ]
  },
  {
   "cell_type": "markdown",
   "id": "d2a55088-a462-4414-8bb8-2df2a0c3092d",
   "metadata": {
    "papermill": {},
    "tags": []
   },
   "source": [
    "## Output"
   ]
  },
  {
   "cell_type": "markdown",
   "id": "e1045bb2-a90c-40d9-859d-94f2333899d1",
   "metadata": {
    "papermill": {},
    "tags": []
   },
   "source": [
    "### Display result"
   ]
  },
  {
   "cell_type": "code",
   "execution_count": 4,
   "id": "1e52fba0-881d-43e1-8498-8d72f1600dc4",
   "metadata": {
    "papermill": {},
    "tags": []
   },
   "outputs": [],
   "source": [
    "spotify_client = authenticate_spotify(client_id, client_secret, redirect_uri)\n",
    "if spotify_client:\n",
    "    get_users_playlists(spotify_client)"
   ]
  }
 ],
 "metadata": {
  "kernelspec": {
   "display_name": "Python 3",
   "language": "python",
   "name": "python3"
  },
  "language_info": {
   "codemirror_mode": {
    "name": "ipython",
    "version": 3
   },
   "file_extension": ".py",
   "mimetype": "text/x-python",
   "name": "python",
   "nbconvert_exporter": "python",
   "pygments_lexer": "ipython3",
   "version": "3.9.6"
  },
  "naas": {
   "notebook_id": "8447c438b80adfea9589df6ee322eba965d7a16912541f958d70aba59376e396",
   "notebook_path": "Spotify/Spotify_Get_Users_Playlists.ipynb"
  },
  "papermill": {
   "default_parameters": {},
   "environment_variables": {},
   "parameters": {},
   "version": "2.5.0"
  }
 },
 "nbformat": 4,
 "nbformat_minor": 5
}