{
 "cells": [
  {
   "cell_type": "markdown",
   "id": "9f3f5a8d-95e3-46c0-b3c8-bb1b0c809638",
   "metadata": {
    "papermill": {},
    "tags": []
   },
   "source": [
    "<img width=\"8%\" alt=\"Spotify.png\" src=\"https://raw.githubusercontent.com/jupyter-naas/awesome-notebooks/master/.github/assets/logos/Spotify.png\" style=\"border-radius: 15%\">"
   ]
  },
  {
   "cell_type": "markdown",
   "id": "4410e0c8-671d-4c57-9e45-def69095174c",
   "metadata": {
    "papermill": {},
    "tags": []
   },
   "source": [
    "# Spotify - Get Artist Albums\n",
    "<a href=\"https://bit.ly/3JyWIk6\">Give Feedback</a> | <a href=\"https://github.com/jupyter-naas/awesome-notebooks/issues/new?assignees=&labels=bug&template=bug_report.md&title=Spotify+-+Get+Artist+Albums:+Error+short+description\">Bug report</a>"
   ]
  },
  {
   "cell_type": "markdown",
   "id": "7b682aed-0b32-4cda-8b16-4c91199f4d73",
   "metadata": {
    "papermill": {},
    "tags": []
   },
   "source": [
    "**Tags:** #spotify #api #getartistalbums #webapi #reference #uniqueid #snippet"
   ]
  },
  {
   "cell_type": "markdown",
   "id": "1fdbd058-a8d5-48cd-a240-90d25991d07d",
   "metadata": {
    "papermill": {},
    "tags": []
   },
   "source": [
    "**Author:** [Alton Liew](https://www.linkedin.com/in/alton-liew/)"
   ]
  },
  {
   "cell_type": "markdown",
   "id": "feb06ea5-17c3-4fd8-a136-28a81fef5579",
   "metadata": {
    "papermill": {},
    "tags": []
   },
   "source": [
    "**Last update:** 2023-12-08 (Created: 2023-12-08)"
   ]
  },
  {
   "cell_type": "markdown",
   "id": "90899fa6-ef05-4fda-90e2-a882e177ecd3",
   "metadata": {
    "papermill": {},
    "tags": []
   },
   "source": [
    "**Description:** This notebook retrieves Spotify catalog information on albums for a single artist identified by their unique Spotify ID."
   ]
  },
  {
   "cell_type": "markdown",
   "id": "4dfa12bb-eba4-44e7-a76b-49ffa550dc3e",
   "metadata": {
    "papermill": {},
    "tags": []
   },
   "source": [
    "**References:**\n",
    "- [Spotify Web API Reference - Get an Artist Albums](https://developer.spotify.com/documentation/web-api/reference/get-an-artists-albums)\n",
    "- [Spotify Developer Documentation](https://developer.spotify.com/documentation/)"
   ]
  },
  {
   "cell_type": "markdown",
   "id": "260192a0-4a6f-4e7b-ab9a-2b6425844e96",
   "metadata": {
    "papermill": {},
    "tags": []
   },
   "source": [
    "## Input"
   ]
  },
  {
   "cell_type": "markdown",
   "id": "9eb3c64e-bcca-4cd5-a0cd-e3d546222c83",
   "metadata": {
    "papermill": {},
    "tags": []
   },
   "source": [
    "### Import libraries"
   ]
  },
  {
   "cell_type": "code",
   "execution_count": null,
   "id": "4e8b5680-d730-4e3c-9e9d-de079f8ed705",
   "metadata": {
    "papermill": {},
    "tags": []
   },
   "outputs": [],
   "source": [
    "try:\n",
    "    import spotipy\n",
    "except:\n",
    "    !pip install spotipy --user\n",
    "    import spotipy\n",
    "from spotipy.oauth2 import SpotifyClientCredentials\n",
    "import naas\n",
    "from IPython.display import Image, display\n",
    "from pprint import pprint"
   ]
  },
  {
   "cell_type": "markdown",
   "id": "77734f90-6d8d-45a7-b027-1c00044f7489",
   "metadata": {
    "papermill": {},
    "tags": []
   },
   "source": [
    "### Setup variables\n",
    "- `client_id`: Your Spotify API client ID. [Get your client ID](https://developer.spotify.com/documentation/general/guides/app-settings/#register-your-app)\n",
    "- `client_secret`: Your Spotify API client secret. [Get your client secret](https://developer.spotify.com/documentation/general/guides/app-settings/#register-your-app)\n",
    "- `artist_id`: The unique Spotify ID for the artist. [Find the artist ID](https://developer.spotify.com/console/get-artist/)"
   ]
  },
  {
   "cell_type": "code",
   "execution_count": null,
   "id": "a7f9bb35-3349-4ae3-83a8-5e55bf0631b3",
   "metadata": {
    "papermill": {},
    "tags": []
   },
   "outputs": [],
   "source": [
    "client_id = naas.secret.get(\"SPOTIFY_CLIENT_ID\")\n",
    "client_secret = naas.secret.get(\"SPOTIFY_CLIENT_SECRET\")\n",
    "artist_id = \"6vWDO969PvNqNYHIOW5v0m\" #beyonce"
   ]
  },
  {
   "cell_type": "markdown",
   "id": "6b99c9e3-5a3d-4b54-8f2b-106a4b1d453c",
   "metadata": {
    "papermill": {},
    "tags": []
   },
   "source": [
    "## Model"
   ]
  },
  {
   "cell_type": "markdown",
   "id": "1fde5d5b-59e1-407f-bc5d-a1cee4136845",
   "metadata": {
    "papermill": {},
    "tags": []
   },
   "source": [
    "### Get artist albums\n",
    "* Retrieve Spotify catalog information on all albums by an artist identified by their unique Spotify ID.\n",
    "* Sets up client with client id and client secret using spotipy library and fetches information.\n",
    "* Calls the function and passes in the client ID, secret, and artist ID as parameters."
   ]
  },
  {
   "cell_type": "code",
   "execution_count": null,
   "id": "9f28e7ac-d5f6-44cf-a1bf-4c9aa80f5153",
   "metadata": {
    "papermill": {},
    "tags": []
   },
   "outputs": [],
   "source": [
    "def get_artist_albums(client_id, client_secret, artist_id):\n",
    "    data = None\n",
    "    sp = spotipy.Spotify(client_credentials_manager=SpotifyClientCredentials(client_id=client_id, client_secret=client_secret))\n",
    "    try:\n",
    "        data = sp.artist_albums(artist_id, album_type = \"album\")\n",
    "    except spotipy.SpotifyException as e:\n",
    "        print(f\"Error retrieving artist information: {e}\")\n",
    "    return data\n",
    "    \n",
    "data = get_artist_albums(client_id, client_secret, artist_id)\n",
    "# pprint(data)"
   ]
  },
  {
   "cell_type": "markdown",
   "id": "292c70c5-20e7-4939-be6f-113280253c4d",
   "metadata": {
    "papermill": {},
    "tags": []
   },
   "source": [
    "## Output"
   ]
  },
  {
   "cell_type": "markdown",
   "id": "e5d289c3-c4e9-4fce-a59e-43fd72ab9a08",
   "metadata": {
    "papermill": {},
    "tags": []
   },
   "source": [
    "### Display result\n",
    "If artist information is available, this will print out the required information."
   ]
  },
  {
   "cell_type": "code",
   "execution_count": null,
   "id": "acb13385-2511-49d4-8b15-270b5acb51d9",
   "metadata": {
    "papermill": {},
    "tags": []
   },
   "outputs": [],
   "source": [
    "if data:\n",
    "    artist_name = data['items'][0]['artists'][0]['name']\n",
    "    print(f\"Albums by {artist_name}:\")\n",
    "    print(\"\\n\")\n",
    "    for album in data['items']:\n",
    "        artist_info = {\n",
    "            \"Name\": album['name'],\n",
    "            \"ID\": album['id'],\n",
    "            \"Release Date:\": album['release_date'],\n",
    "            \"External URLs\": data['items'][0]['external_urls'].get(\"spotify\"),\n",
    "            \"Image\": album['images'][0].get(\"url\"),\n",
    "        }\n",
    "\n",
    "        for key, value in artist_info.items():\n",
    "            if key == \"Image\":\n",
    "                display(Image(url=value, width=300))\n",
    "            else:\n",
    "                print(f\"{key}: {value}\")\n",
    "        print(\"\\n\")\n",
    "else:\n",
    "    print(\"Failed to retrieve artist information.\")"
   ]
  },
  {
   "cell_type": "code",
   "execution_count": null,
   "id": "91a59eaf-9f21-40e0-a59b-10e0e8200eeb",
   "metadata": {
    "papermill": {},
    "tags": []
   },
   "outputs": [],
   "source": []
  }
 ],
 "metadata": {
  "kernelspec": {
   "display_name": "Python 3",
   "language": "python",
   "name": "python3"
  },
  "language_info": {
   "codemirror_mode": {
    "name": "ipython",
    "version": 3
   },
   "file_extension": ".py",
   "mimetype": "text/x-python",
   "name": "python",
   "nbconvert_exporter": "python",
   "pygments_lexer": "ipython3",
   "version": "3.9.6"
  },
  "naas": {
   "notebook_id": "0487ce04d4b246c7d9faf68875ff17576266baadba38c2405193005cdf583629",
   "notebook_path": "Spotify/Spotify_Get_Artist_Albums.ipynb"
  },
  "papermill": {
   "default_parameters": {},
   "environment_variables": {},
   "parameters": {},
   "version": "2.5.0"
  }
 },
 "nbformat": 4,
 "nbformat_minor": 5
}