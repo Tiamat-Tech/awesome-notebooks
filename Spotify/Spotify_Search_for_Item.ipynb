{
 "cells": [
  {
   "cell_type": "markdown",
   "id": "aed3d75a-301d-4f1e-beb0-0a20ce940d10",
   "metadata": {
    "papermill": {},
    "tags": []
   },
   "source": [
    "<img width=\"8%\" alt=\"Spotify.png\" src=\"https://raw.githubusercontent.com/jupyter-naas/awesome-notebooks/master/.github/assets/logos/Spotify.png\" style=\"border-radius: 15%\">"
   ]
  },
  {
   "cell_type": "markdown",
   "id": "70317e11-dc09-4c9f-8986-b45ed39ab1a6",
   "metadata": {
    "papermill": {},
    "tags": []
   },
   "source": [
    "# Spotify - Search for Item\n",
    "<a href=\"https://bit.ly/3JyWIk6\">Give Feedback</a> | <a href=\"https://github.com/jupyter-naas/awesome-notebooks/issues/new?assignees=&labels=bug&template=bug_report.md&title=Spotify+-+Search+for+Item:+Error+short+description\">Bug report</a>"
   ]
  },
  {
   "cell_type": "markdown",
   "id": "4b285c24-f7b8-4e88-9e4a-ab48ebf91a84",
   "metadata": {
    "papermill": {},
    "tags": []
   },
   "source": [
    "**Tags:** #spotify #search #item #catalog #api #web"
   ]
  },
  {
   "cell_type": "markdown",
   "id": "3b3230f2-bbdc-4654-93c5-45c19ffdd22e",
   "metadata": {
    "papermill": {},
    "tags": []
   },
   "source": [
    "**Author:** [Alton Liew](https://www.linkedin.com/in/alton-liew/)"
   ]
  },
  {
   "cell_type": "markdown",
   "id": "adce2f77-4b0a-4683-801e-5f00a9db2fc7",
   "metadata": {
    "papermill": {},
    "tags": []
   },
   "source": [
    "**Last update:** 2023-12-01 (Created: 2023-11-24)"
   ]
  },
  {
   "cell_type": "markdown",
   "id": "ed9703c4-d088-4dc0-9266-83d981e03f67",
   "metadata": {
    "papermill": {},
    "tags": []
   },
   "source": [
    "**Description:** This notebook provides a way to get Spotify catalog information about albums, artists, playlists, tracks, shows, episodes or audiobooks that match a keyword string. It is useful for organizations to quickly search for items in the Spotify catalog."
   ]
  },
  {
   "cell_type": "markdown",
   "id": "d0788e71-8c9d-4561-a3fe-ac046cfd4ec3",
   "metadata": {
    "papermill": {},
    "tags": []
   },
   "source": [
    "**References:**\n",
    "- [Spotify Web API Reference](https://developer.spotify.com/documentation/web-api/reference/search)\n",
    "- [Spotify Developer Documentation](https://developer.spotify.com/documentation/)"
   ]
  },
  {
   "cell_type": "markdown",
   "id": "b1e5dcae-7f45-4302-acda-dbc587d569f8",
   "metadata": {
    "papermill": {},
    "tags": []
   },
   "source": [
    "## Input"
   ]
  },
  {
   "cell_type": "markdown",
   "id": "948c95ed-d7d5-4316-8dfb-707e86058ce4",
   "metadata": {
    "papermill": {},
    "tags": []
   },
   "source": [
    "### Import libraries"
   ]
  },
  {
   "cell_type": "code",
   "execution_count": null,
   "id": "61ce8b3c-338f-4a3e-b00b-2b46310257bd",
   "metadata": {
    "papermill": {},
    "tags": []
   },
   "outputs": [],
   "source": [
    "try:\n",
    "    import spotipy\n",
    "except:\n",
    "    !pip install spotipy --user\n",
    "    import spotipy\n",
    "from spotipy.oauth2 import SpotifyClientCredentials\n",
    "import naas\n",
    "from pprint import pprint"
   ]
  },
  {
   "cell_type": "markdown",
   "id": "54d8a6b8-14bc-4edb-a815-8b95a0279b91",
   "metadata": {
    "papermill": {},
    "tags": []
   },
   "source": [
    "### Setup variables\n",
    "- `client_id`: Client ID from (https://developer.spotify.com/documentation/web-api)\n",
    "- `client_secret`: Client secret from (https://developer.spotify.com/documentation/web-api)\n",
    "- `query`: Your search query\n",
    "- `type`: Type of item to search for (album, artist, playlist, track, show, episode, audiobook)\n",
    "- `limit`: the max number of results you want to receive"
   ]
  },
  {
   "cell_type": "code",
   "execution_count": null,
   "id": "ebce991a-2bec-4447-888d-46d322bd038d",
   "metadata": {
    "papermill": {},
    "tags": []
   },
   "outputs": [],
   "source": [
    "client_id = naas.secret.get(\"SPOTIFY_CLIENT_ID\")\n",
    "client_secret = naas.secret.get(\"SPOTIFY_CLIENT_SECRET\")\n",
    "\n",
    "query = 'Beyonce'\n",
    "item_type = 'artist'\n",
    "limit = 5"
   ]
  },
  {
   "cell_type": "markdown",
   "id": "81d4b405-33de-411c-80cf-962e25d1ad61",
   "metadata": {
    "papermill": {},
    "tags": []
   },
   "source": [
    "## Model"
   ]
  },
  {
   "cell_type": "markdown",
   "id": "74d2f011-1ec0-49a7-b2d7-3b29604f6661",
   "metadata": {
    "papermill": {},
    "tags": []
   },
   "source": [
    "### Search for item"
   ]
  },
  {
   "cell_type": "markdown",
   "id": "593e1b68-7214-4376-995f-dc29c143fb3b",
   "metadata": {
    "papermill": {},
    "tags": []
   },
   "source": [
    "This function searches for an item in the Spotify catalog using the keyword string and type of item specified."
   ]
  },
  {
   "cell_type": "code",
   "execution_count": null,
   "id": "80a3ae3c-687f-446c-898a-97b4d06f90f1",
   "metadata": {
    "papermill": {},
    "tags": []
   },
   "outputs": [],
   "source": [
    "sp = spotipy.Spotify(auth_manager=SpotifyClientCredentials(client_id=client_id, client_secret=client_secret))\n",
    "\n",
    "# Function to search for items on Spotify\n",
    "def search_spotify(query, item_type=item_type, limit=limit):\n",
    "    results = None\n",
    "    types_list = [\"artist\", \"album\", \"track\", \"playlist\", \"show\", \"episode\", \"audiobook\"]\n",
    "    \n",
    "    if item_type not in types_list:\n",
    "        print(\"Not the right type please use artist, album, track, playlist, show, episode, audiobook\")\n",
    "        return None\n",
    "\n",
    "    else:\n",
    "        results = sp.search(q=query, type=item_type, limit=limit)\n",
    "    return results\n",
    "\n",
    "search_results = search_spotify(query, item_type=item_type)\n",
    "pprint(search_results)"
   ]
  },
  {
   "cell_type": "markdown",
   "id": "e7af3ca7-5b75-408f-a670-fc63180bf647",
   "metadata": {
    "papermill": {},
    "tags": []
   },
   "source": [
    "## Output"
   ]
  },
  {
   "cell_type": "markdown",
   "id": "27c42079-936e-4d7f-9051-eca9231352b9",
   "metadata": {
    "papermill": {},
    "tags": []
   },
   "source": [
    "### Display result"
   ]
  },
  {
   "cell_type": "code",
   "execution_count": null,
   "id": "1053c714-e19e-4951-a743-9db94aa1f14c",
   "metadata": {
    "papermill": {},
    "tags": []
   },
   "outputs": [],
   "source": [
    "items = search_results.get(f\"{item_type}s\").get(\"items\")\n",
    "for item in items:\n",
    "    if item:\n",
    "        print(\"Name:\", item.get(\"name\"))\n",
    "        print(\"ID:\", item.get(\"id\"))\n",
    "        print(\"Type:\", item.get(\"type\"))\n",
    "        print(\"------\")"
   ]
  }
 ],
 "metadata": {
  "kernelspec": {
   "display_name": "Python 3",
   "language": "python",
   "name": "python3"
  },
  "language_info": {
   "codemirror_mode": {
    "name": "ipython",
    "version": 3
   },
   "file_extension": ".py",
   "mimetype": "text/x-python",
   "name": "python",
   "nbconvert_exporter": "python",
   "pygments_lexer": "ipython3",
   "version": "3.9.6"
  },
  "naas": {
   "notebook_id": "803626dd8b6aa2842c43c668adbf344bb247e468bca1177e285ff62847ef32f8",
   "notebook_path": "Spotify/Spotify_Search_for_Item.ipynb"
  },
  "papermill": {
   "default_parameters": {},
   "environment_variables": {},
   "parameters": {},
   "version": "2.5.0"
  },
  "widgets": {
   "application/vnd.jupyter.widget-state+json": {
    "state": {},
    "version_major": 2,
    "version_minor": 0
   }
  }
 },
 "nbformat": 4,
 "nbformat_minor": 5
}