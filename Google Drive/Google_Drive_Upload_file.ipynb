{
 "cells": [
  {
   "cell_type": "markdown",
   "id": "reliable-framework",
   "metadata": {
    "papermill": {},
    "tags": []
   },
   "source": [
    "<img width=\"8%\" alt=\"Google Drive.png\" src=\"https://raw.githubusercontent.com/jupyter-naas/awesome-notebooks/master/.github/assets/logos/Google%20Drive.png\" style=\"border-radius: 15%\">"
   ]
  },
  {
   "cell_type": "markdown",
   "id": "first-flesh",
   "metadata": {
    "papermill": {},
    "tags": []
   },
   "source": [
    "# Google Drive - Upload file\n",
    "<a href=\"https://bit.ly/3JyWIk6\">Give Feedback</a> | <a href=\"https://github.com/jupyter-naas/awesome-notebooks/issues/new?assignees=&labels=bug&template=bug_report.md&title=Google+Drive+-+Upload+file:+Error+short+description\">Bug report</a>"
   ]
  },
  {
   "cell_type": "markdown",
   "id": "380d25e5-dff9-48b8-9ba4-02d8a378a3f0",
   "metadata": {
    "papermill": {},
    "tags": []
   },
   "source": [
    "**Tags:** #googledrive #google #drive #upload #object #python #api"
   ]
  },
  {
   "cell_type": "markdown",
   "id": "6dadd151-c64c-4e1d-a8b0-c388991d9061",
   "metadata": {
    "papermill": {},
    "tags": []
   },
   "source": [
    "**Author:** [Florent Ravenel](https://www.linkedin.com/in/florent-ravenel)"
   ]
  },
  {
   "cell_type": "markdown",
   "id": "8c17ff12-47cd-48c9-802c-fc5746a70e2d",
   "metadata": {
    "papermill": {},
    "tags": []
   },
   "source": [
    "**Last update:** 2023-09-29 (Created: 2023-09-29)"
   ]
  },
  {
   "cell_type": "markdown",
   "id": "f1e785ec-37cc-4183-9bf0-45d3bcb60fe8",
   "metadata": {
    "papermill": {},
    "tags": []
   },
   "source": [
    "**Description:** This notebook upload a file in a specific folder in a Google Drive account."
   ]
  },
  {
   "cell_type": "markdown",
   "id": "c40d71d3-b383-47bf-9f12-3cb97174a758",
   "metadata": {
    "papermill": {},
    "tags": []
   },
   "source": [
    "**References:**\n",
    "- [Google Drive API Documentation](https://developers.google.com/drive/api/v3/reference)\n",
    "- [Google Drive Python Quickstart](https://developers.google.com/drive/api/v3/quickstart/python)"
   ]
  },
  {
   "cell_type": "markdown",
   "id": "5293e6b6-e0a4-4236-9ab6-1f49e03bd61e",
   "metadata": {
    "papermill": {},
    "tags": []
   },
   "source": [
    "## Input"
   ]
  },
  {
   "cell_type": "markdown",
   "id": "54354ce2-314f-4e9b-9b27-4fbaa4b9470a",
   "metadata": {
    "papermill": {},
    "tags": []
   },
   "source": [
    "### Import libraries"
   ]
  },
  {
   "cell_type": "code",
   "execution_count": null,
   "id": "dcc7668a-6dae-46c6-9258-112ef1e0e0ce",
   "metadata": {
    "papermill": {},
    "tags": []
   },
   "outputs": [],
   "source": [
    "from google.oauth2.service_account import Credentials\n",
    "from googleapiclient.http import MediaFileUpload\n",
    "from googleapiclient.discovery import build"
   ]
  },
  {
   "cell_type": "markdown",
   "id": "14eed474-177d-4481-bc68-3df1052009ec",
   "metadata": {
    "papermill": {},
    "tags": []
   },
   "source": [
    "### Setup variables\n",
    "**Pre-requisite**\n",
    "\n",
    "You need to set up service account credentials to use Google Drive API. For detailed instructions on how to do this, please refer to the [Google Drive Python Quickstart guide](https://developers.google.com/drive/api/v3/quickstart/python).\n",
    "\n",
    "After creating the service account, you will get a client_email (found in your service account JSON file). Make sure to share your Google Drive or specific folder with this client_email.\n",
    "\n",
    "**Mandatory**\n",
    "- `service_account_file`: This is the JSON file that contains your service account credentials. You'll get this file when you create a service account.\n",
    "Sure, here's an improved version of the descriptions:\n",
    "- `folder_id`: The unique identifier of the destination folder in Google Drive where the file will be uploaded.\n",
    "- `file_name`: The designated name of the file as it will appear in Google Drive after upload.\n",
    "- `file_path`: The specific location in the local system where the file to be uploaded resides.\n",
    "- `file_type`: The format or extension of the file, indicating the file's type and nature."
   ]
  },
  {
   "cell_type": "code",
   "execution_count": null,
   "id": "39e16c43-910f-4fe9-8169-bb8e5ae0f207",
   "metadata": {
    "papermill": {},
    "tags": []
   },
   "outputs": [],
   "source": [
    "service_account_file = 'service_account.json'\n",
    "folder_id = \"1fb2bHvXiX_Luepz1NJcy-w7TMcdpZAFI\"\n",
    "file_name = \"New video\"\n",
    "file_path = \"10XwzBEJhWAjUamqtmRL-klB_-WfQ05rj.mp4\"\n",
    "file_type = \"video/mp4\""
   ]
  },
  {
   "cell_type": "markdown",
   "id": "58f24ccc-992f-4226-b222-297a71547d39",
   "metadata": {
    "papermill": {},
    "tags": []
   },
   "source": [
    "## Model"
   ]
  },
  {
   "cell_type": "markdown",
   "id": "e8231d86-3c7f-473e-99df-9ad6fbff6f21",
   "metadata": {
    "papermill": {},
    "tags": []
   },
   "source": [
    "### Connect to GCP"
   ]
  },
  {
   "cell_type": "code",
   "execution_count": null,
   "id": "bf55e0e3-a56d-46d7-b332-46f8c80cfa73",
   "metadata": {
    "papermill": {},
    "tags": []
   },
   "outputs": [],
   "source": [
    "def gcp_connect(file_path):  \n",
    "    # Load the service account credentials\n",
    "    credentials = Credentials.from_service_account_file(file_path)\n",
    "\n",
    "    # Build the service\n",
    "    service = build('drive', 'v3', credentials=credentials)\n",
    "    return service\n",
    "    \n",
    "service = gcp_connect(service_account_file)"
   ]
  },
  {
   "cell_type": "markdown",
   "id": "584a2ded-458a-4bd2-905a-1de213630d6a",
   "metadata": {
    "papermill": {},
    "tags": []
   },
   "source": [
    "### Upload file"
   ]
  },
  {
   "cell_type": "code",
   "execution_count": null,
   "id": "fd1504e2-4b7c-47b1-82ab-9835aca3f19c",
   "metadata": {
    "papermill": {},
    "tags": []
   },
   "outputs": [],
   "source": [
    "def upload_file(\n",
    "    service,\n",
    "    folder_id,\n",
    "    file_name,\n",
    "    file_path,\n",
    "    file_type,\n",
    "):\n",
    "    file_metadata = {'name': file_name, \"parents\": [folder_id]}\n",
    "    media = MediaFileUpload(\n",
    "        file_path,\n",
    "        mimetype=file_type\n",
    "    )\n",
    "    file = service.files().create(\n",
    "        body=file_metadata,\n",
    "        media_body=media,\n",
    "        fields='id'\n",
    "    ).execute()\n",
    "    print('File ID: %s' % file.get('id'))\n",
    "    return file\n",
    "\n",
    "file = upload_file(\n",
    "    service,\n",
    "    folder_id,\n",
    "    file_name,\n",
    "    file_path,\n",
    "    file_type,\n",
    ")"
   ]
  },
  {
   "cell_type": "markdown",
   "id": "8677efe4-4b2c-49b9-9006-faa79b927610",
   "metadata": {
    "papermill": {},
    "tags": []
   },
   "source": [
    "## Output"
   ]
  },
  {
   "cell_type": "markdown",
   "id": "0848c423-70cf-4188-ba13-a3827e55375e",
   "metadata": {
    "papermill": {},
    "tags": []
   },
   "source": [
    "### Display result"
   ]
  },
  {
   "cell_type": "code",
   "execution_count": null,
   "id": "c3a945cb-347f-42dd-82ef-e863ee18d97a",
   "metadata": {
    "papermill": {},
    "tags": []
   },
   "outputs": [],
   "source": [
    "file"
   ]
  },
  {
   "cell_type": "code",
   "execution_count": null,
   "id": "45a5142d-ad94-48e1-a2c6-bfff4fc3bc62",
   "metadata": {
    "papermill": {},
    "tags": []
   },
   "outputs": [],
   "source": []
  }
 ],
 "metadata": {
  "kernelspec": {
   "display_name": "Python 3",
   "language": "python",
   "name": "python3"
  },
  "language_info": {
   "codemirror_mode": {
    "name": "ipython",
    "version": 3
   },
   "file_extension": ".py",
   "mimetype": "text/x-python",
   "name": "python",
   "nbconvert_exporter": "python",
   "pygments_lexer": "ipython3",
   "version": "3.9.6"
  },
  "naas": {
   "notebook_id": "64589ac753aa62dde685129944946a4ad1501f2984631b08137d18f15d002ece",
   "notebook_path": "Google Drive/Google_Drive_Upload_file.ipynb"
  },
  "papermill": {
   "default_parameters": {},
   "environment_variables": {},
   "parameters": {},
   "version": "2.3.3"
  }
 },
 "nbformat": 4,
 "nbformat_minor": 5
}