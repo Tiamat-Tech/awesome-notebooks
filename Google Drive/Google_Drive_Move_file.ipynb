{
 "cells": [
  {
   "cell_type": "markdown",
   "id": "5f52edaa-24b0-47b1-ad38-2102da01e7ea",
   "metadata": {
    "papermill": {},
    "tags": []
   },
   "source": [
    "<img width=\"8%\" alt=\"Google Drive.png\" src=\"https://raw.githubusercontent.com/jupyter-naas/awesome-notebooks/master/.github/assets/logos/Google%20Drive.png\" style=\"border-radius: 15%\">"
   ]
  },
  {
   "cell_type": "markdown",
   "id": "210901d4-efad-467e-9c1b-7133f99edc51",
   "metadata": {
    "papermill": {},
    "tags": []
   },
   "source": [
    "# Google Drive - Move file\n",
    "<a href=\"https://bit.ly/3JyWIk6\">Give Feedback</a> | <a href=\"https://github.com/jupyter-naas/awesome-notebooks/issues/new?assignees=&labels=bug&template=bug_report.md&title=Google+Drive+-+Move+file:+Error+short+description\">Bug report</a>"
   ]
  },
  {
   "cell_type": "markdown",
   "id": "c8c92f63-7e98-4c5f-94b3-6d6329887bf5",
   "metadata": {
    "papermill": {},
    "tags": []
   },
   "source": [
    "**Tags:** #googledrive #google #drive #move #object #python #api"
   ]
  },
  {
   "cell_type": "markdown",
   "id": "39db9889-b178-401f-8fb7-2e4fcd916542",
   "metadata": {
    "papermill": {},
    "tags": []
   },
   "source": [
    "**Author:** [Florent Ravenel](https://www.linkedin.com/in/florent-ravenel)"
   ]
  },
  {
   "cell_type": "markdown",
   "id": "f5a97053-b098-4ef4-a6ab-d098727800b3",
   "metadata": {
    "papermill": {},
    "tags": []
   },
   "source": [
    "**Last update:** 2023-09-27 (Created: 2023-09-27)"
   ]
  },
  {
   "cell_type": "markdown",
   "id": "b97391b8-40c8-42f0-878a-43e1a2150cf6",
   "metadata": {
    "papermill": {},
    "tags": []
   },
   "source": [
    "**Description:** This notebook moves a file to another folder in a Google Drive account."
   ]
  },
  {
   "cell_type": "markdown",
   "id": "a830f22b-75c1-4a80-9f96-da44a0aba953",
   "metadata": {
    "papermill": {},
    "tags": []
   },
   "source": [
    "**References:**\n",
    "- [Google Drive API Documentation](https://developers.google.com/drive/api/v3/reference)\n",
    "- [Google Drive Python Quickstart](https://developers.google.com/drive/api/v3/quickstart/python)"
   ]
  },
  {
   "cell_type": "markdown",
   "id": "ec9d0770-1299-450b-8ae9-d09d19696af4",
   "metadata": {
    "papermill": {},
    "tags": []
   },
   "source": [
    "## Input"
   ]
  },
  {
   "cell_type": "markdown",
   "id": "7543855b-40fc-4b9e-98ff-d65eae66422f",
   "metadata": {
    "papermill": {},
    "tags": []
   },
   "source": [
    "### Import libraries"
   ]
  },
  {
   "cell_type": "code",
   "execution_count": null,
   "id": "0fdd3dbb-6868-4921-be2c-793d7f4465e9",
   "metadata": {
    "papermill": {},
    "tags": []
   },
   "outputs": [],
   "source": [
    "from google.oauth2.service_account import Credentials\n",
    "from googleapiclient.discovery import build"
   ]
  },
  {
   "cell_type": "markdown",
   "id": "43d5e0c3-d916-4e80-a737-8c15dd67647b",
   "metadata": {
    "papermill": {},
    "tags": []
   },
   "source": [
    "### Setup variables\n",
    "**Pre-requisite**\n",
    "\n",
    "You need to set up service account credentials to use Google Drive API. For detailed instructions on how to do this, please refer to the [Google Drive Python Quickstart guide](https://developers.google.com/drive/api/v3/quickstart/python).\n",
    "\n",
    "After creating the service account, you will get a client_email (found in your service account JSON file). Make sure to share your Google Drive or specific folder with this client_email.\n",
    "\n",
    "**Mandatory**\n",
    "- `service_account_file`: This is the JSON file that contains your service account credentials. You'll get this file when you create a service account.\n",
    "- `file_id`: Define the file ID (the file you want to move)\n",
    "- `folder_id`: Define the folder ID (the folder you want to move the file to)"
   ]
  },
  {
   "cell_type": "code",
   "execution_count": null,
   "id": "91a1b3fd-9bd9-4fcb-81fe-85bced49782e",
   "metadata": {
    "papermill": {},
    "tags": []
   },
   "outputs": [],
   "source": [
    "service_account_file = 'service_account.json'\n",
    "file_id = '10XwzBEJhWAjUamqtmRL-klB_-WfQ05rj'\n",
    "folder_id = '1ngN-HoY6llMQknDL09rKskpozql6vNYd'"
   ]
  },
  {
   "cell_type": "markdown",
   "id": "f7e932bf-1b45-4940-8cb4-c69d32826a13",
   "metadata": {
    "papermill": {},
    "tags": []
   },
   "source": [
    "## Model"
   ]
  },
  {
   "cell_type": "markdown",
   "id": "05f77548-e636-4110-88e3-621729de498e",
   "metadata": {
    "papermill": {},
    "tags": []
   },
   "source": [
    "### Connect to GCP"
   ]
  },
  {
   "cell_type": "code",
   "execution_count": null,
   "id": "5e20b7e6-ca3c-48bf-a050-c6707829911c",
   "metadata": {
    "papermill": {},
    "tags": []
   },
   "outputs": [],
   "source": [
    "def gcp_connect(file_path):  \n",
    "    # Load the service account credentials\n",
    "    credentials = Credentials.from_service_account_file(file_path)\n",
    "\n",
    "    # Build the service\n",
    "    service = build('drive', 'v3', credentials=credentials)\n",
    "    return service\n",
    "    \n",
    "service = gcp_connect(service_account_file)"
   ]
  },
  {
   "cell_type": "markdown",
   "id": "c149081a-7527-40d9-be9e-aea27274864b",
   "metadata": {
    "papermill": {},
    "tags": []
   },
   "source": [
    "### Move file"
   ]
  },
  {
   "cell_type": "code",
   "execution_count": null,
   "id": "6eb6e3b5-b4ca-4349-84b1-6205ecd4d11d",
   "metadata": {
    "papermill": {},
    "tags": []
   },
   "outputs": [],
   "source": [
    "def move_file(\n",
    "    service,\n",
    "    file_id,\n",
    "    folder_id,\n",
    "):\n",
    "    # Retrieve the existing parents to remove\n",
    "    file = service.files().get(fileId=file_id, fields='parents').execute()\n",
    "    previous_parents = \",\".join(file.get('parents'))\n",
    "\n",
    "    # Move the file to the new folder\n",
    "    file = service.files().update(\n",
    "        fileId=file_id,\n",
    "        addParents=folder_id,\n",
    "        removeParents=previous_parents,\n",
    "        fields='id, parents'\n",
    "    ).execute()\n",
    "\n",
    "    print(f\"File with ID: {file_id} has been moved to folder with ID: {folder_id}\")\n",
    "    return file_id, folder_id\n",
    "\n",
    "file_id, folder_id = move_file(\n",
    "    service,\n",
    "    file_id,\n",
    "    folder_id,\n",
    ")"
   ]
  },
  {
   "cell_type": "markdown",
   "id": "11616427-0b9d-49bb-86a1-8478bae6b703",
   "metadata": {
    "papermill": {},
    "tags": []
   },
   "source": [
    "## Output"
   ]
  },
  {
   "cell_type": "markdown",
   "id": "7d948195-81ae-4796-a0a9-e782b44e4c0e",
   "metadata": {
    "papermill": {},
    "tags": []
   },
   "source": [
    "### Display result"
   ]
  },
  {
   "cell_type": "code",
   "execution_count": null,
   "id": "5c42e249-1bbd-4b53-a2ee-d554f015b2f2",
   "metadata": {
    "papermill": {},
    "tags": []
   },
   "outputs": [],
   "source": [
    "print(file_id, folder_id)"
   ]
  },
  {
   "cell_type": "markdown",
   "id": "81063e3e-0fec-4148-b2ff-5d8b800140ae",
   "metadata": {
    "papermill": {},
    "tags": []
   },
   "source": [
    " "
   ]
  }
 ],
 "metadata": {
  "kernelspec": {
   "display_name": "Python 3",
   "language": "python",
   "name": "python3"
  },
  "language_info": {
   "codemirror_mode": {
    "name": "ipython",
    "version": 3
   },
   "file_extension": ".py",
   "mimetype": "text/x-python",
   "name": "python",
   "nbconvert_exporter": "python",
   "pygments_lexer": "ipython3",
   "version": "3.9.6"
  },
  "naas": {
   "notebook_id": "6740d8622937a01574eb71c0a2114381ab2b29d5ca8d53b32fb5aba3829b36d7",
   "notebook_path": "Google Drive/Google_Drive_Move_file.ipynb"
  },
  "papermill": {
   "default_parameters": {},
   "environment_variables": {},
   "parameters": {},
   "version": "2.4.0"
  },
  "widgets": {
   "application/vnd.jupyter.widget-state+json": {
    "state": {},
    "version_major": 2,
    "version_minor": 0
   }
  }
 },
 "nbformat": 4,
 "nbformat_minor": 5
}