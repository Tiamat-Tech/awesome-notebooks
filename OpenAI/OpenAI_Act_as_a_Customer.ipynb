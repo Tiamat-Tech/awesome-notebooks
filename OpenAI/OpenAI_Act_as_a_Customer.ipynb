{
 "cells": [
  {
   "cell_type": "markdown",
   "id": "7883002d-ec22-49f8-a947-d1491c71adb2",
   "metadata": {
    "papermill": {},
    "tags": []
   },
   "source": [
    "<img width=\"8%\" alt=\"OpenAI.png\" src=\"https://raw.githubusercontent.com/jupyter-naas/awesome-notebooks/master/.github/assets/logos/OpenAI.png\" style=\"border-radius: 15%\">"
   ]
  },
  {
   "cell_type": "markdown",
   "id": "64dd8bde-e782-44b6-814f-c2e279300c1e",
   "metadata": {
    "papermill": {},
    "tags": []
   },
   "source": [
    "# OpenAI - Act as a Customer\n",
    "<a href=\"https://bit.ly/3JyWIk6\">Give Feedback</a> | <a href=\"https://github.com/jupyter-naas/awesome-notebooks/issues/new?assignees=&labels=bug&template=bug_report.md&title=OpenAI+-+Act+as+a+Customer:+Error+short+description\">Bug report</a>"
   ]
  },
  {
   "cell_type": "markdown",
   "id": "ab5fa8fb-58d6-4ae3-9929-3d82231abc53",
   "metadata": {
    "papermill": {},
    "tags": []
   },
   "source": [
    "**Tags:** #ai #businesscoach #artificialintelligence #aitrends #aiconcepts #plugin #openai #naaschatplugin #naas #naas_driver #chat"
   ]
  },
  {
   "cell_type": "markdown",
   "id": "4fd5f3a3-4727-4267-9417-a012c7a9d6fc",
   "metadata": {
    "papermill": {},
    "tags": []
   },
   "source": [
    "**Author:** [Zihui Ouyang](https://www.linkedin.com/in/zihui-ouyang-539626227/)"
   ]
  },
  {
   "cell_type": "markdown",
   "id": "32cb73a1-a8c9-453a-9f6e-7042cae5cbcf",
   "metadata": {
    "papermill": {},
    "tags": []
   },
   "source": [
    "**Last update:** 2023-10-09 (Created: 2023-10-09)"
   ]
  },
  {
   "cell_type": "markdown",
   "id": "7165891a-1761-49ed-99b9-f56c8206eaf2",
   "metadata": {
    "papermill": {},
    "tags": []
   },
   "source": [
    "**Description:** This notebook will create a plugin to act as a customer."
   ]
  },
  {
   "cell_type": "markdown",
   "id": "6de36721-6cf8-4c6d-bc15-2e5c68a24139",
   "metadata": {
    "papermill": {},
    "tags": []
   },
   "source": [
    "**References:**\n",
    "- [OpenAI Documentation](https://openai.com/docs/)\n",
    "- [7 prompts ChatGPT indispensables](https://docs.google.com/document/d/1CMZa0o1ck_1l-t7ICF7_y2tDokcBkP68Nkxd64KWuQk/edit)\n",
    "- [Naas Chat Documentation](https://site.naas.ai/docs/platform/aI-powered-chat)\n",
    "- [Naas Chat Plugin driver](https://github.com/jupyter-naas/drivers/blob/main/naas_drivers/tools/naas_chat_plugin.py)"
   ]
  },
  {
   "cell_type": "markdown",
   "id": "41c9e650-ea5b-44c9-a621-7106851fe965",
   "metadata": {
    "papermill": {},
    "tags": []
   },
   "source": [
    "## Input"
   ]
  },
  {
   "cell_type": "markdown",
   "id": "2189b4ae-feb3-4f8f-9d49-f0730bc79625",
   "metadata": {
    "papermill": {},
    "tags": []
   },
   "source": [
    "### Import libraries"
   ]
  },
  {
   "cell_type": "code",
   "execution_count": 1,
   "id": "c31b912b-f893-4e09-b909-512e6e6fb874",
   "metadata": {
    "papermill": {},
    "tags": []
   },
   "outputs": [],
   "source": [
    "from naas_drivers import naas_chat_plugin\n",
    "from IPython.display import Markdown\n",
    "import naas\n",
    "import json"
   ]
  },
  {
   "cell_type": "markdown",
   "id": "ec20e2cc-ee0e-4ef2-b115-f8f502d691a3",
   "metadata": {
    "papermill": {},
    "tags": []
   },
   "source": [
    "### Setup Variables\n",
    "**Mandatory**\n",
    "- `name`: The name of the plugin.\n",
    "- `prompt`: The prompt for the plugin.\n",
    "\n",
    "**Optional**\n",
    "- `model`: The name of the model to be used for tokenization. Models available: \"gpt-3.5-turbo\" (limited to 4097 tokens), \"gpt-3.5-turbo-16k\" (limited to 16385 tokens), and \"gpt-4\" (limited to 8192 tokens). \n",
    "- `temperature`: The temperature parameter for the model. Default is 0.\n",
    "- `output_path`: The path where the JSON file should be saved. If not provided, it will be created from the plugin name."
   ]
  },
  {
   "cell_type": "code",
   "execution_count": 2,
   "id": "cf168d3d-305e-4dfe-81d0-a7c323b1fe77",
   "metadata": {
    "papermill": {},
    "tags": []
   },
   "outputs": [],
   "source": [
    "# Inputs\n",
    "name = \"Act as a customer\"\n",
    "model = \"gpt-4\"\n",
    "prompt = \"\"\"You will now act as a Bobby. Bobby is my company's Ideal Customer Profile.\n",
    "\n",
    "He is the CEO and Founder of a B2B agency that sells Digital Marketing services. His company employs 9 people, with a yearly revenue of 890K€ in 2022.\n",
    "\n",
    "He aims to find a way to at least double his revenues every year through:\n",
    "- Growth strategies\n",
    "- Skills development\n",
    "- Mindset updates.\n",
    "\n",
    "By chance, our product does exactly that.\n",
    "\n",
    "Using the appropriate plugin, please refer to this URL for a complete overview of our offer: https://www.scalezia.co/\n",
    "\n",
    "However, Bobby is:\n",
    "- Very cost sensitive\n",
    "- Risk averse\n",
    "- Naturally skeptic.\n",
    "\n",
    "As Bobby, I want you to:\n",
    "\n",
    "1) List me all the questions that come to your mind when introduced to my offer.\n",
    "2) For each question, give me head-ups as to what could 100% reassure you.\n",
    "3) based on this list, assess whether the aforementioned URL actually addresses those concerns.\n",
    "4) Pinpoint areas where is both manages or fails to do so.\n",
    "5) Mark the corresponding number of the question that you are referring to.\n",
    "6) Give me a mark in % that expresses how likely you are to become a client (0% = no chance ; 100% = signing up now).\n",
    "\n",
    "The end goal is for you to buy our product with 100% certainty.\n",
    "\n",
    "\"\"\"\n",
    "temperature = 1\n",
    "avatar = \"\"\n",
    "\n",
    "# Outputs\n",
    "output_path = None"
   ]
  },
  {
   "cell_type": "markdown",
   "id": "5bdd9d35-0c38-40c3-a19a-03c2b4d83649",
   "metadata": {
    "papermill": {},
    "tags": []
   },
   "source": [
    "## Model"
   ]
  },
  {
   "cell_type": "markdown",
   "id": "5e63ce38-c9fe-449f-8fb7-4102c520128b",
   "metadata": {
    "papermill": {},
    "tags": []
   },
   "source": [
    "### Create naas chat plugin\n",
    "This function will generate the plugin in JSON format and also verify if your prompt adheres to the recommended limit, which is set at 20% of the maximum tokens allowed by the model. Then, it will save your plugin in your local environment."
   ]
  },
  {
   "cell_type": "code",
   "execution_count": 3,
   "id": "3ad1c3b5-a896-4045-8864-5276fa39b7b3",
   "metadata": {
    "papermill": {},
    "tags": []
   },
   "outputs": [],
   "source": [
    "plugin_file_path = naas_chat_plugin.create_plugin(\n",
    "    name=name,\n",
    "    prompt=prompt,\n",
    "    model=model,\n",
    "    temperature=temperature,\n",
    "    output_path=output_path,\n",
    "    avatar=avatar\n",
    ")"
   ]
  },
  {
   "cell_type": "markdown",
   "id": "5dc398eb-e1ae-4eab-b9e4-66035b504c31",
   "metadata": {
    "papermill": {},
    "tags": []
   },
   "source": [
    "## Output"
   ]
  },
  {
   "cell_type": "markdown",
   "id": "56f1c5e2-7d4b-4935-93c8-4ff0fc8220a8",
   "metadata": {
    "papermill": {},
    "tags": []
   },
   "source": [
    "### Display plugin\n",
    "The cell below is tagged as 'plugin'. This tag will allow us to use this pre-prompt on our Naas Chat. NB: The plugin must be printed."
   ]
  },
  {
   "cell_type": "code",
   "execution_count": 4,
   "id": "ec4bd772-1b28-4f83-abf0-467d1e63d8ef",
   "metadata": {
    "papermill": {},
    "tags": []
   },
   "outputs": [],
   "source": [
    "with open(plugin_file_path) as json_file:\n",
    "    plugin = json.load(json_file)\n",
    "print(json.dumps(plugin))"
   ]
  },
  {
   "cell_type": "markdown",
   "id": "1fd32947-c9d7-413f-9113-3d7f3ed5d5ab",
   "metadata": {
    "papermill": {},
    "tags": []
   },
   "source": [
    "### Create asset\n",
    "This asset can be utilized by using the command `/use` in your Naas Chat or by simply clicking on the link provided in the cell below."
   ]
  },
  {
   "cell_type": "code",
   "execution_count": 5,
   "id": "6b8ee796-54d1-41f9-893a-8c8b7f849067",
   "metadata": {
    "papermill": {},
    "tags": []
   },
   "outputs": [],
   "source": [
    "plugin_url = naas.asset.add(plugin_file_path, params={\"inline\": True})"
   ]
  },
  {
   "cell_type": "markdown",
   "id": "1ba0072a-b0f1-496f-b532-b34dd3526638",
   "metadata": {
    "papermill": {},
    "tags": []
   },
   "source": [
    "### Create new chat\n",
    "You don't need to click on 'Create New Chat' everytime you update your system prompt, you can use the command `/refresh`."
   ]
  },
  {
   "cell_type": "code",
   "execution_count": 6,
   "id": "2a432994-8b64-4245-a27f-76cc419d80a6",
   "metadata": {
    "papermill": {},
    "tags": []
   },
   "outputs": [],
   "source": [
    "Markdown(f\"[Create New Chat](https://naas.ai/chat/use?plugin_url={plugin_url})\")"
   ]
  },
  {
   "cell_type": "code",
   "execution_count": null,
   "id": "98edce1f-4e28-4851-8d67-810c13804015",
   "metadata": {
    "papermill": {},
    "tags": []
   },
   "outputs": [],
   "source": []
  }
 ],
 "metadata": {
  "kernelspec": {
   "display_name": "Python 3",
   "language": "python",
   "name": "python3"
  },
  "language_info": {
   "codemirror_mode": {
    "name": "ipython",
    "version": 3
   },
   "file_extension": ".py",
   "mimetype": "text/x-python",
   "name": "python",
   "nbconvert_exporter": "python",
   "pygments_lexer": "ipython3",
   "version": "3.9.6"
  },
  "naas": {
   "notebook_id": "d93f379dbcd659b058628da026fb1e28dfe52362b3bb8d19258a05b453c335e2",
   "notebook_path": "OpenAI/OpenAI_Act_as_a_Customer.ipynb"
  },
  "papermill": {
   "default_parameters": {},
   "environment_variables": {},
   "parameters": {},
   "version": "2.4.0"
  }
 },
 "nbformat": 4,
 "nbformat_minor": 5
}