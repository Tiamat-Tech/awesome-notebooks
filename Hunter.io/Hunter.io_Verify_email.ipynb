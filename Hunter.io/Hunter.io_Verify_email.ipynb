{
 "cells": [
  {
   "cell_type": "markdown",
   "id": "84cadd0c",
   "metadata": {
    "papermill": {},
    "tags": []
   },
   "source": [
    "<img width=\"8%\" alt=\"GitHub.png\" src=\"https://cdn.prod.website-files.com/655b8092803c160e897db87b/655b8092803c160e897dc450_hunter_logo.webp\" style=\"border-radius: 15%\">"
   ]
  },
  {
   "cell_type": "markdown",
   "id": "0d43ed38",
   "metadata": {
    "papermill": {},
    "tags": []
   },
   "source": [
    "# Hunter.io - Verify email\n",
    "<a href=\"https://bit.ly/3JyWIk6\">Give Feedback</a> | <a href=\"https://github.com/jupyter-naas/awesome-notebooks/issues/new?assignees=&labels=bug&template=bug_report.md&title=GitHub+-+Add+new+issues+as+page+in+Notion+database:+Error+short+description\">Bug report</a>"
   ]
  },
  {
   "cell_type": "markdown",
   "id": "d9313642",
   "metadata": {
    "papermill": {},
    "tags": []
   },
   "source": [
    "**Tags:** #hunter.io #email #verification #automation #snippet"
   ]
  },
  {
   "cell_type": "markdown",
   "id": "8faf487c",
   "metadata": {
    "papermill": {},
    "tags": []
   },
   "source": [
    "**Author:** [Varsha Kumar](https://www.linkedin.com/in/varsha-kumar-590466305/)"
   ]
  },
  {
   "cell_type": "markdown",
   "id": "3dba1c73-548d-4008-82ad-fdb2cb376771",
   "metadata": {
    "papermill": {},
    "tags": []
   },
   "source": [
    "**Last update:** 2024-06-26 (Created: 2024-06-25)"
   ]
  },
  {
   "cell_type": "markdown",
   "id": "naas-description",
   "metadata": {
    "papermill": {},
    "tags": [
     "description"
    ]
   },
   "source": [
    "**Description:** This notebook allows users to verify an email through hunter.io."
   ]
  },
  {
   "cell_type": "markdown",
   "id": "7412988b",
   "metadata": {
    "papermill": {},
    "tags": []
   },
   "source": [
    "## Input"
   ]
  },
  {
   "cell_type": "markdown",
   "id": "b483a140",
   "metadata": {
    "papermill": {},
    "tags": []
   },
   "source": [
    "### Import libraries"
   ]
  },
  {
   "cell_type": "code",
   "execution_count": 1,
   "id": "353ef79c",
   "metadata": {
    "execution": {
     "iopub.execute_input": "2024-06-26T06:26:45.089534Z",
     "iopub.status.busy": "2024-06-26T06:26:45.089075Z",
     "iopub.status.idle": "2024-06-26T06:26:47.672815Z",
     "shell.execute_reply": "2024-06-26T06:26:47.672198Z",
     "shell.execute_reply.started": "2024-06-26T06:26:45.089462Z"
    },
    "papermill": {},
    "tags": []
   },
   "outputs": [],
   "source": [
    "import requests\n",
    "import pickle"
   ]
  },
  {
   "cell_type": "markdown",
   "id": "68b48858",
   "metadata": {
    "papermill": {},
    "tags": []
   },
   "source": [
    "### Setup variables"
   ]
  },
  {
   "cell_type": "markdown",
   "id": "b69f38ae-a69c-4360-8cf9-099cda04f098",
   "metadata": {},
   "source": [
    "- `email`: email for verification\n",
    "- `api_key`: token to get data through hunter.io\n",
    "- `file_path`: name of pickle file"
   ]
  },
  {
   "cell_type": "code",
   "execution_count": 2,
   "id": "01647a55",
   "metadata": {
    "execution": {
     "iopub.execute_input": "2024-06-26T06:26:47.674042Z",
     "iopub.status.busy": "2024-06-26T06:26:47.673804Z",
     "iopub.status.idle": "2024-06-26T06:26:47.678728Z",
     "shell.execute_reply": "2024-06-26T06:26:47.678182Z",
     "shell.execute_reply.started": "2024-06-26T06:26:47.674015Z"
    },
    "papermill": {},
    "tags": []
   },
   "outputs": [],
   "source": [
    "email = \"florent@naas.ai\"\n",
    "api_key = \"899fa50c3a6c56e8b19e37608140f327bf9xxxxx\"\n",
    "file_path = \"verification_result.pickle\""
   ]
  },
  {
   "cell_type": "markdown",
   "id": "93347abb",
   "metadata": {
    "papermill": {},
    "tags": []
   },
   "source": [
    "## Model\n"
   ]
  },
  {
   "cell_type": "markdown",
   "id": "7537ee02-afad-4d87-8883-afae67365f46",
   "metadata": {},
   "source": [
    "### Verify email"
   ]
  },
  {
   "cell_type": "code",
   "execution_count": 3,
   "id": "bb42b49d-b53e-4255-8a59-c824cd49aeac",
   "metadata": {
    "execution": {
     "iopub.execute_input": "2024-06-26T06:26:47.680893Z",
     "iopub.status.busy": "2024-06-26T06:26:47.680699Z",
     "iopub.status.idle": "2024-06-26T06:26:47.774581Z",
     "shell.execute_reply": "2024-06-26T06:26:47.773759Z",
     "shell.execute_reply.started": "2024-06-26T06:26:47.680873Z"
    },
    "tags": []
   },
   "outputs": [],
   "source": [
    "def verify_email_with_hunter(api_key, email):\n",
    "    url = f\"https://api.hunter.io/v2/email-verifier\"\n",
    "    params = {\n",
    "        'email': email,\n",
    "        'api_key': api_key\n",
    "    }\n",
    "    response = requests.get(url, params=params)\n",
    "    \n",
    "    if response.status_code == 200:\n",
    "        return response.json()\n",
    "    else:\n",
    "        return f\"Error: {response.status_code} - {response.json().get('errors', 'Unknown error')}\"\n",
    "\n",
    "# Verify the email\n",
    "verification_result = verify_email_with_hunter(email, api_key)"
   ]
  },
  {
   "cell_type": "markdown",
   "id": "b96cc59e-714e-426f-8630-df99b5454326",
   "metadata": {},
   "source": [
    "### Save to pickle"
   ]
  },
  {
   "cell_type": "code",
   "execution_count": 4,
   "id": "5878561a-ded9-4caf-a6f9-53a1cb76b352",
   "metadata": {
    "execution": {
     "iopub.execute_input": "2024-06-26T06:26:47.776305Z",
     "iopub.status.busy": "2024-06-26T06:26:47.775802Z",
     "iopub.status.idle": "2024-06-26T06:26:47.875107Z",
     "shell.execute_reply": "2024-06-26T06:26:47.874530Z",
     "shell.execute_reply.started": "2024-06-26T06:26:47.776270Z"
    }
   },
   "outputs": [],
   "source": [
    "def save_to_pickle(data, filename):\n",
    "    with open(filename, 'wb') as file:\n",
    "        pickle.dump(data, file)"
   ]
  },
  {
   "cell_type": "markdown",
   "id": "b819d06a",
   "metadata": {
    "papermill": {},
    "tags": []
   },
   "source": [
    "## Output\n"
   ]
  },
  {
   "cell_type": "markdown",
   "id": "8b6ecf57-fec4-4e72-a7b8-4985bca76c05",
   "metadata": {},
   "source": [
    "### Display result"
   ]
  },
  {
   "cell_type": "code",
   "execution_count": 5,
   "id": "5182d09a-e6d7-4d9d-9f38-eb3a9ce87cf1",
   "metadata": {
    "execution": {
     "iopub.execute_input": "2024-06-26T06:26:47.877696Z",
     "iopub.status.busy": "2024-06-26T06:26:47.877520Z",
     "iopub.status.idle": "2024-06-26T06:26:48.049499Z",
     "shell.execute_reply": "2024-06-26T06:26:48.048853Z",
     "shell.execute_reply.started": "2024-06-26T06:26:47.877677Z"
    },
    "tags": []
   },
   "outputs": [
    {
     "name": "stdout",
     "output_type": "stream",
     "text": [
      "Verification result has been saved to verification_result.pickle\n"
     ]
    }
   ],
   "source": [
    "# Save the result to a pickle file\n",
    "save_to_pickle(verification_result, file_path)\n",
    "\n",
    "print(f\"Verification result has been saved to {file_path}\")"
   ]
  },
  {
   "cell_type": "code",
   "execution_count": null,
   "id": "c0818cf8-436a-45e4-b35b-9677333d047a",
   "metadata": {},
   "outputs": [],
   "source": []
  }
 ],
 "metadata": {
  "kernelspec": {
   "display_name": "Python 3",
   "language": "python",
   "name": "python3"
  },
  "language_info": {
   "codemirror_mode": {
    "name": "ipython",
    "version": 3
   },
   "file_extension": ".py",
   "mimetype": "text/x-python",
   "name": "python",
   "nbconvert_exporter": "python",
   "pygments_lexer": "ipython3",
   "version": "3.9.6"
  },
  "naas": {
   "notebook_id": "b8a92a0e4b6e40db304564f999566443fb35e93df716ab4be5021aabba8230ee",
   "notebook_path": "GitHub/GitHub_Add_new_issues_as_page_in_Notion_database.ipynb"
  },
  "papermill": {
   "default_parameters": {},
   "environment_variables": {},
   "parameters": {},
   "version": "2.3.4"
  }
 },
 "nbformat": 4,
 "nbformat_minor": 5
}
