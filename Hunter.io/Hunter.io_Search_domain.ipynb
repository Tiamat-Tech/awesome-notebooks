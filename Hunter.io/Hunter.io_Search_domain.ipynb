{
 "cells": [
  {
   "cell_type": "markdown",
   "id": "84cadd0c",
   "metadata": {
    "papermill": {},
    "tags": []
   },
   "source": [
    "<img width=\"8%\" alt=\"Naas\" src=\"https://raw.githubusercontent.com/jupyter-naas/awesome-notebooks/master/.github/assets/logos/Naas.png\" style=\"border-radius: 15%\">"
   ]
  },
  {
   "cell_type": "markdown",
   "id": "0d43ed38",
   "metadata": {
    "papermill": {},
    "tags": []
   },
   "source": [
    "# Hunter.io - Search domain\n",
    "<a href=\"https://bit.ly/3JyWIk6\">Give Feedback</a> | <a href=\"https://github.com/jupyter-naas/awesome-notebooks/issues/new?assignees=&labels=bug&template=bug_report.md&title=Hunter.io+-+Search+domain:+Error+short+description\">Bug report</a>"
   ]
  },
  {
   "cell_type": "markdown",
   "id": "d9313642",
   "metadata": {
    "papermill": {},
    "tags": []
   },
   "source": [
    "**Tags:** #hunter.io #organization #automation #snippet"
   ]
  },
  {
   "cell_type": "markdown",
   "id": "8faf487c",
   "metadata": {
    "papermill": {},
    "tags": []
   },
   "source": [
    "**Author:** [Varsha Kumar](https://www.linkedin.com/in/varsha-kumar-590466305/)"
   ]
  },
  {
   "cell_type": "markdown",
   "id": "3dba1c73-548d-4008-82ad-fdb2cb376771",
   "metadata": {
    "papermill": {},
    "tags": []
   },
   "source": [
    "**Last update:** 2024-06-26 (Created: 2024-06-25)"
   ]
  },
  {
   "cell_type": "markdown",
   "id": "naas-description",
   "metadata": {
    "papermill": {},
    "tags": [
     "description"
    ]
   },
   "source": [
    "**Description:** This notebook allows users to retrieve organization data from a repository through hunter.io."
   ]
  },
  {
   "cell_type": "markdown",
   "id": "7412988b",
   "metadata": {
    "papermill": {},
    "tags": []
   },
   "source": [
    "## Input"
   ]
  },
  {
   "cell_type": "markdown",
   "id": "b483a140",
   "metadata": {
    "papermill": {},
    "tags": []
   },
   "source": [
    "### Import libraries"
   ]
  },
  {
   "cell_type": "code",
   "execution_count": 1,
   "id": "353ef79c",
   "metadata": {
    "papermill": {},
    "tags": []
   },
   "outputs": [],
   "source": [
    "import requests\n",
    "import pickle"
   ]
  },
  {
   "cell_type": "markdown",
   "id": "f2781aef-1c8d-4b6b-89bf-bb1a7513619b",
   "metadata": {
    "papermill": {},
    "tags": []
   },
   "source": [
    "### How to get api key"
   ]
  },
  {
   "cell_type": "markdown",
   "id": "1492a5db-0c16-4f86-bf04-e0fa76e87f16",
   "metadata": {
    "papermill": {},
    "tags": []
   },
   "source": [
    "1. Create and account with hunter.io (free plan).\n",
    "2. Go to account and settings or look up \"https://hunter.io/api-keys\".\n",
    "3. Under the tab \"API\" an exisiting key should be there. If not, click \"New key\" and create one.\n",
    "4. Copy your key and use it to retrieve anything"
   ]
  },
  {
   "cell_type": "markdown",
   "id": "68b48858",
   "metadata": {
    "papermill": {},
    "tags": []
   },
   "source": [
    "### Setup variables"
   ]
  },
  {
   "cell_type": "markdown",
   "id": "b69f38ae-a69c-4360-8cf9-099cda04f098",
   "metadata": {
    "papermill": {},
    "tags": []
   },
   "source": [
    "- `domain_name`: name of the company\n",
    "- `api_key`: token to get data through hunter.io\n",
    "- `file_path`: name of pickle file"
   ]
  },
  {
   "cell_type": "code",
   "execution_count": 2,
   "id": "01647a55",
   "metadata": {
    "papermill": {},
    "tags": []
   },
   "outputs": [],
   "source": [
    "domain_name = \"naas.ai\"\n",
    "api_key = \"899fa50c3a6c56e8b19e37608140f327bf9xxxxx\"\n",
    "file_path = f\"{domain_name}_domain.pickle\""
   ]
  },
  {
   "cell_type": "markdown",
   "id": "93347abb",
   "metadata": {
    "papermill": {},
    "tags": []
   },
   "source": [
    "## Model\n"
   ]
  },
  {
   "cell_type": "markdown",
   "id": "9baade14-7bdf-40bb-98f5-b818420dece3",
   "metadata": {
    "papermill": {},
    "tags": []
   },
   "source": [
    "### Save to pickle"
   ]
  },
  {
   "cell_type": "code",
   "execution_count": 3,
   "id": "c6043f13-3b5a-4427-9637-99ea83e71f97",
   "metadata": {
    "papermill": {},
    "tags": []
   },
   "outputs": [],
   "source": [
    "def save_to_pickle(data, filename):\n",
    "    with open(filename, 'wb') as file:\n",
    "        pickle.dump(data, file)"
   ]
  },
  {
   "cell_type": "markdown",
   "id": "a92d9ac3-b6a8-44c3-a715-614be57bed88",
   "metadata": {
    "papermill": {},
    "tags": []
   },
   "source": [
    "### Check if data already exists"
   ]
  },
  {
   "cell_type": "code",
   "execution_count": 4,
   "id": "fff67afd-c575-4b6f-9206-eeda3c4c5bd4",
   "metadata": {
    "papermill": {},
    "tags": []
   },
   "outputs": [],
   "source": [
    "data = None\n",
    "try:\n",
    "    with open(file_path, 'rb') as file:\n",
    "        data = pickle.load(file)\n",
    "    print(\"Data loaded successfully\")\n",
    "except FileNotFoundError:\n",
    "    print(\"File not found\")\n",
    "except pickle.UnpicklingError:\n",
    "    print(\"Error unpickling the file\")\n",
    "except Exception as e:\n",
    "    print(f\"An error occurred: {e}\")"
   ]
  },
  {
   "cell_type": "markdown",
   "id": "7537ee02-afad-4d87-8883-afae67365f46",
   "metadata": {
    "papermill": {},
    "tags": []
   },
   "source": [
    "### Get company details"
   ]
  },
  {
   "cell_type": "code",
   "execution_count": 5,
   "id": "bb42b49d-b53e-4255-8a59-c824cd49aeac",
   "metadata": {
    "papermill": {},
    "tags": []
   },
   "outputs": [],
   "source": [
    "def get_company_details(domain, api_key):\n",
    "    # Hunter.io API endpoint for company information\n",
    "    url = f\"https://api.hunter.io/v2/domain-search?domain={domain}&api_key={api_key}\"\n",
    "    \n",
    "    # Send GET request to the Hunter.io API\n",
    "    response = requests.get(url)\n",
    "    \n",
    "    # Check if the request was successful\n",
    "    if response.status_code == 200:\n",
    "        data = response.json()\n",
    "        if 'data' in data:\n",
    "            return data['data']\n",
    "        else:\n",
    "            return \"Company details not found\"\n",
    "    else:\n",
    "        return f\"Error: {response.status_code} - {response.json().get('errors', 'Unknown error')}\"\n",
    "\n",
    "if data is None:\n",
    "    data = get_company_details(domain_name, api_key)\n",
    "    # Writing data to a pickle file\n",
    "    try:\n",
    "        save_to_pickle(data, file_path)\n",
    "        print(f\"Data has been saved to {file_path}\")\n",
    "    except Exception as e:\n",
    "        print(f\"An error occurred while saving the data: {e}\")"
   ]
  },
  {
   "cell_type": "markdown",
   "id": "b819d06a",
   "metadata": {
    "papermill": {},
    "tags": []
   },
   "source": [
    "## Output\n"
   ]
  },
  {
   "cell_type": "markdown",
   "id": "8b6ecf57-fec4-4e72-a7b8-4985bca76c05",
   "metadata": {
    "papermill": {},
    "tags": []
   },
   "source": [
    "### Display result"
   ]
  },
  {
   "cell_type": "code",
   "execution_count": 6,
   "id": "5182d09a-e6d7-4d9d-9f38-eb3a9ce87cf1",
   "metadata": {
    "papermill": {},
    "tags": []
   },
   "outputs": [],
   "source": [
    "data"
   ]
  },
  {
   "cell_type": "code",
   "execution_count": null,
   "id": "c0818cf8-436a-45e4-b35b-9677333d047a",
   "metadata": {
    "papermill": {},
    "tags": []
   },
   "outputs": [],
   "source": []
  }
 ],
 "metadata": {
  "kernelspec": {
   "display_name": "Python 3",
   "language": "python",
   "name": "python3"
  },
  "language_info": {
   "codemirror_mode": {
    "name": "ipython",
    "version": 3
   },
   "file_extension": ".py",
   "mimetype": "text/x-python",
   "name": "python",
   "nbconvert_exporter": "python",
   "pygments_lexer": "ipython3",
   "version": "3.9.6"
  },
  "naas": {
   "notebook_id": "97e6b8653801f42d3374d8a8cbc58974ec194c61e02250808b679f1ce54d4562",
   "notebook_path": "Hunter.io/Hunter.io_Search_domain.ipynb"
  },
  "papermill": {
   "default_parameters": {},
   "environment_variables": {},
   "parameters": {},
   "version": "2.3.4"
  }
 },
 "nbformat": 4,
 "nbformat_minor": 5
}