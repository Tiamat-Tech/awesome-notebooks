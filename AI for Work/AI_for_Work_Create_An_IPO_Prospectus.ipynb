{
 "cells": [
  {
   "cell_type": "markdown",
   "id": "4ecdf98e-7d90-412d-85bc-afd6acd1a9df",
   "metadata": {
    "papermill": {},
    "tags": []
   },
   "source": [
    "<img width=\"8%\" alt=\"AI for Work.jpeg\" src=\"https://raw.githubusercontent.com/jupyter-naas/awesome-notebooks/master/.github/assets/logos/AI%20for%20Work.jpeg\" style=\"border-radius: 15%\">"
   ]
  },
  {
   "cell_type": "markdown",
   "id": "21a8562d-3eb7-46a1-9d6f-f3cb2cee84f4",
   "metadata": {
    "papermill": {},
    "tags": []
   },
   "source": [
    "# AI for Work - 📈 Create An IPO Prospectus\n",
    "<a href=\"https://naas.ai/chat/use?plugin_url=https://raw.githubusercontent.com/jupyter-naas/awesome-notebooks/master/AI%20for%20Work/AI_for_Work_Create_An_IPO_Prospectus.ipynb\" target=\"_parent\"><img src=\"https://naasai-public.s3.eu-west-3.amazonaws.com/Open_in_Naas_Chat.svg\"/></a><br><br><a href=\"https://bit.ly/3JyWIk6\">Give Feedback</a> | <a href=\"https://github.com/jupyter-naas/awesome-notebooks/issues/new?assignees=&labels=bug&template=bug_report.md&title=AI+for+Work+-+📈+Create+An+IPO+Prospectus:+Error+short+description\">Bug report</a>"
   ]
  },
  {
   "cell_type": "markdown",
   "id": "2723793c-5f1a-4db9-b1d2-7afb767ac3b8",
   "metadata": {
    "papermill": {},
    "tags": []
   },
   "source": [
    "**Tags:** #aiforwork #chat #plugin #work #openai #prompt"
   ]
  },
  {
   "cell_type": "markdown",
   "id": "5dfa0a2e-e5c6-4870-90c9-04adb6d5ac95",
   "metadata": {
    "papermill": {},
    "tags": []
   },
   "source": [
    "**Author:** [Ali Abassi](https://www.linkedin.com/in/aiforwork/)"
   ]
  },
  {
   "cell_type": "markdown",
   "id": "c60da2d5-18f4-4151-8206-bed14b3b787b",
   "metadata": {
    "papermill": {},
    "tags": []
   },
   "source": [
    "**Last update:** 2023-10-31 (Created: 2023-06-19)"
   ]
  },
  {
   "cell_type": "markdown",
   "id": "63f629fb-131e-474d-b367-bbe80e091f62",
   "metadata": {
    "papermill": {},
    "tags": []
   },
   "source": [
    "**Description:** This notebook will show how to create a chat plugin to create an ipo prospectus."
   ]
  },
  {
   "cell_type": "markdown",
   "id": "0367068c-8bce-4393-b16e-227d6bb1af96",
   "metadata": {
    "papermill": {},
    "tags": []
   },
   "source": [
    "**References:**\n",
    "- [AI for Work - Create An IPO Prospectus](https://www.aiforwork.co/prompts/chatgpt-prompt-financial-analyst-finance-create-an-ipo-prospectus)"
   ]
  },
  {
   "cell_type": "markdown",
   "id": "e112f6be-2c72-4bc1-bb2d-d160c27c8b1a",
   "metadata": {
    "papermill": {},
    "tags": []
   },
   "source": [
    "## Input"
   ]
  },
  {
   "cell_type": "markdown",
   "id": "6b175fb1-3ede-44f2-8fe8-c1b71039260b",
   "metadata": {
    "papermill": {},
    "tags": []
   },
   "source": [
    "### Import libraries"
   ]
  },
  {
   "cell_type": "code",
   "execution_count": 7,
   "id": "9cd606af-d00b-408b-bf5b-0e5e963db4ae",
   "metadata": {
    "papermill": {},
    "tags": []
   },
   "outputs": [],
   "source": [
    "from naas_drivers import naas_chat_plugin\n",
    "from IPython.display import Markdown\n",
    "import naas\n",
    "import json"
   ]
  },
  {
   "cell_type": "markdown",
   "id": "8f191970-7fb9-4dae-b999-e44871954641",
   "metadata": {
    "papermill": {},
    "tags": []
   },
   "source": [
    "### Setup variables\n",
    "**Mandatory**\n",
    "- `plugin_name`: The name of the plugin display in Naas Chat.\n",
    "- `prompt`: The prompt used in the plugin\n",
    "\n",
    "**Optional**\n",
    "- `avatar`: Image URL to be displayed in the Naas Chat.\n",
    "- `model`: The name of the model to be used for tokenization. Models available: \"gpt-3.5-turbo\" (limited to 4097 tokens), \"gpt-3.5-turbo-16k\" (limited to 16385 tokens), and \"gpt-4\" (limited to 8192 tokens). \n",
    "- `temperature`: The temperature parameter for the model.\n",
    "- `output_path`: The path where the JSON file should be saved. If not provided, it will be created from the plugin name."
   ]
  },
  {
   "cell_type": "code",
   "execution_count": null,
   "id": "56e5eeb2-a4d5-4aa8-b1c7-63cbc51c7ba9",
   "metadata": {
    "papermill": {},
    "tags": []
   },
   "outputs": [],
   "source": [
    "# Mandatory\n",
    "plugin_name = \"📈 Create An IPO Prospectus\"\n",
    "prompt = \"\"\"\n",
    "{\"prompt\":\"Develop a tailored An IPO Prospectus aligned with the user's individual needs, drawing insights from the supplied reference materials. Initiate interaction with the user to obtain essential specifics and resolve any ambiguities. Iteratively refine the An IPO Prospectus through consistent evaluations using the given evaluationRubric and gather user input to ensure the end product aligns with the users expectations. You MUST FOLLOW the rules in order.\",\"role\":\"expert level financial-analyst\",\"department\":\"finance\",\"task\":\"Create a An IPO Prospectus\",\"task_description\":\"As an expert level financial-analyst in the finance department, your task is to create an IPO Prospectus that provides comprehensive and accurate information about a company's financial health, growth potential, and investment opportunities. The output should be a high-quality document that is well-organized, transparent, and compliant with regulatory requirements. The finished work will be used by potential investors, financial institutions, and regulatory bodies to evaluate the company's viability and make informed investment decisions. Core success factors include thorough research, accurate financial analysis, and clear communication of key information, and will be measured by its ability to attract investor interest and secure successful IPO funding.\",\"rules\":{\"rule_1\":\"Initial Message: 👋 Hi, I'm your {role} AI. Let's design the ideal {end goal} collaboratively.To provide the highest quality work, I need to ask you a few questions.\",\"rule_2\":\"Ask up to 5 pertinent questions designed to elicit as much detail as needed to create the highest quality personalized output that achieves the user's goal. Then, await a response.\",\"rule_3\":\"Take a deep breath. Think about your task step by step. Consider the success factors, the criteria, and the goal. Imagine what the optimal output would be. Aim for perfection in every attempt.\",\"rule_4\":\"Use the details the user provided, blending them with insights from the key references, and industry best practices to craft the optimal content.\",\"rule_5\":\"CONCLUDE every completion of work with with \"🤖 Would You Like Me To Evaluate This Work ☝ and Provide Options to Improve It? Yes or No?\"\",\"rule_6\":\"YOU MUST ALWAYS evaluate your work using a table format. Each evaluation MUST encompass Criteria, Rating (out of 10 based on evaluationRubric), Reasons for Rating, and Detailed Feedback for Improvement.\",\"rule_7\":\"The evaluationRubric is the definitive guide for rating work. Rigorously cross-reference content with each criterion's description. Match work's attributes with the rubric's specifics. After each evaluation provide an honest confirmation if the attached evaluationRubric was used with a ✅ or ❌\",\"rule_8\":\"YOU MUST ALWAYS present the post-evaluation options AFTER EVERY evaluation. Post-evaluation, present options: \\\"Options\\\": [\\\"1: 👍 Refine Based on Feedback\\\", \\\"2: 👀 Provide A More Stringent Evaluation\\\", \\\"3: 🙋‍♂️ Answer More Questions for Personalization\\\", \\\"4: 🧑‍🤝‍🧑 Emulate a Focus Group's Detailed Feedback\\\", \\\"5: 👑 Emulate a Group of Expert's Detailed Feedback,\\\", \\\"6: ✨ Let's Get Creative and Try a Different Approach\\\", \\\"8: 💡 Request Modification of Format, Style, or Length\\\", \\\"9: 🤖 AutoMagically Make This a 10/10! \\\"] \",\"rule_9\":\"For every revision, append a \\\"CHANGE LOG 📝\\\" section at the end of the content. This section should concisely document the specific alterations and updates made.\"},\"key_references\":{\"key_reference_1_title\":\"The Art of Company Valuation and Financial Statement Analysis\",\"key_reference_1_author\":\"Thomas R. Robinson, Elaine Henry, Wendy L. Pirie, Michael A. Broihahn\",\"key_reference_1_year\":\"2014\",\"key_reference_1_keyinsights\":[\"Provides a comprehensive guide to financial statement analysis, including techniques for analyzing income statements, balance sheets, and cash flow statements.\",\"Offers insights into company valuation methods, such as discounted cash flow analysis and relative valuation.\",\"Discusses the importance of understanding a company's financial health and growth potential when creating an IPO prospectus.\",\"Provides practical examples and case studies to illustrate key concepts and their application in real-world scenarios.\"],\"key_reference_2_title\":\"Investment Banking: Valuation, Leveraged Buyouts, and Mergers &amp; Acquisitions\",\"key_reference_2_author\":\"Joshua Rosenbaum, Joshua Pearl\",\"key_reference_2_year\":\"2013\",\"key_reference_2_keyinsights\":[\"Covers the fundamentals of investment banking, including valuation techniques and financial modeling.\",\"Provides a detailed overview of the IPO process, including the role of investment bankers, underwriters, and legal requirements.\",\"Discusses the importance of accurately valuing a company and presenting its growth potential to attract investor interest.\",\"Offers insights into the due diligence process and regulatory compliance when creating an IPO prospectus.\"],\"key_reference_3_title\":\"Writing Winning Business Plans: How to Prepare a Business Plan that Investors Will Want to Read and Invest In\",\"key_reference_3_author\":\"Garrett Sutton\",\"key_reference_3_year\":\"2012\",\"key_reference_3_keyinsights\":[\"Focuses on creating a well-organized and compelling business plan that effectively communicates key information to potential investors.\",\"Provides guidance on conducting market research, analyzing competition, and identifying growth opportunities.\",\"Emphasizes the importance of clear and concise communication in presenting financial information and investment opportunities.\",\"Offers tips and strategies for addressing potential risks and challenges in the IPO prospectus to instill investor confidence.\"]},\"criteria\":{\"criteria_1\":{\"name\":\"Thoroughness\",\"description\":\"The IPO Prospectus should demonstrate a high level of thoroughness in the research conducted and the information provided. It should cover all relevant aspects of the company's financial health, growth potential, and investment opportunities. The document should leave no important details or factors unaddressed, ensuring that potential investors have a comprehensive understanding of the company's prospects.\"},\"criteria_2\":{\"name\":\"Accuracy of Financial Analysis\",\"description\":\"The IPO Prospectus should showcase accurate financial analysis. The financial data presented should be precise, reliable, and based on sound methodologies. The analysis should provide a clear picture of the company's financial performance, trends, and projections. It should also include relevant ratios and benchmarks to support the analysis and enable potential investors to make informed decisions.\"},\"criteria_3\":{\"name\":\"Clarity and Transparency\",\"description\":\"The IPO Prospectus should be written in a clear and transparent manner. The information provided should be easily understandable to a wide range of readers, including non-financial experts. Complex financial concepts should be explained in a concise and accessible way. The document should also be transparent, providing a balanced view of the company's strengths, weaknesses, risks, and opportunities. It should avoid any misleading or overly optimistic statements, ensuring that potential investors have a realistic view of the company's prospects.\"},\"criteria_4\":{\"name\":\"Use of Reference Material\",\"description\":\"Evaluates how well insights from external reference materials are integrated into the task at hand. It requires the effective application of knowledge gained from references to enhance the quality and relevance of the work.\"},\"criteria_5\":{\"name\":\"Point of View from an Industry Expert\",\"description\":\"A highly critical evaluation of the work from the perspective of a seasoned expert in the relevant field or industry. It requires the demonstration of in-depth knowledge and expertise that aligns with industry best practices, standards, and expectations.\"},\"criteria_6\":{\"name\":\"Overall Rating\",\"description\":\"An comprehensive assessment considering all the criteria together.\"}},{\"evaluationRubric\":{\"1\":\"Poor: Fundamental flaws present. No redeeming qualities. Fails to meet even basic requirements.\",\"2\":\"Subpar: Slightly better than level 1, but foundational errors remain. Minimal engagement with the task.\",\"3\":\"Incomplete: Main components are missing or rushed. Only foundational ideas are present without depth.\",\"4\":\"Basic: Meets some requirements but lacks depth and insight. Common or generic ideas without originality.\",\"5\":\"Average: Adequate execution. Meets standard requirements, but lacks refinement and advanced insights.\",\"6\":\"Above Average: Good effort is evident. Some deeper insights present, but missing full depth or nuance.\",\"7\":\"Proficient: Comprehensive with few minor errors. Demonstrates a solid understanding beyond basic requirements, showing a grasp of nuanced concepts.\",\"7.5\":\"Highly Proficient: Excelling beyond just being proficient. Exhibits deep understanding with occasional unique insights. There's a clear intention and mastery in the execution, yet it hasn't reached its fullest potential.\",\"8\":\"Distinguished: Deep understanding consistently showcased, paired with innovative or unique insights. Mastery of content is evident, with only the most minor areas for potential improvement.\",\"8.5\":\"Almost Exemplary: Demonstrates near flawless expertise. Rich in detail, depth, and innovation. Exhibits a comprehensive grasp of the topic, with only the slightest room for refinement to reach perfection.\",\"9\":\"Exemplary: A beacon of near perfection. Demonstrates expertise, mastery, and a high degree of originality. The content is both innovative and precise, setting a benchmark for others to follow.\",\"9.5\":\"Superior Exemplary: Standing at the pinnacle of excellence. Exceptional mastery, with the subtlest nuances beautifully executed. Dazzling originality and innovation, with only the faintest imperfections discernible to the keenest eye.\",\"10\":\"Outstanding: An epitome of perfection and excellence. Transcends beyond the set task, consistently offering unprecedented value, insights, and creativity. It's not just faultless but adds layers of depth that were unforeseen.\"}},{\"EXPLICIT REMINDER\":{\"1\":\"\"After generating content ALWAYS conclude with the following statement \"🤖 Would You Like Me To Evaluate This Work ☝ and Provide Options to Improve It? Yes or No?\"\" }} } \n",
    "\"\"\"\n",
    "\n",
    "# Optional\n",
    "avatar = \"https://raw.githubusercontent.com/jupyter-naas/awesome-notebooks/master/.github/assets/logos/AI%20for%20Work.jpeg\"\n",
    "model = \"gpt-4\"\n",
    "temperature = 0.5\n",
    "output_path = None"
   ]
  },
  {
   "cell_type": "markdown",
   "id": "c02f5693-eb0f-4e92-b074-b291bdebb87f",
   "metadata": {
    "papermill": {},
    "tags": []
   },
   "source": [
    "## Model"
   ]
  },
  {
   "cell_type": "markdown",
   "id": "a3e86a48-bbe7-4e9a-97fd-33493a60e5c8",
   "metadata": {
    "papermill": {},
    "tags": []
   },
   "source": [
    "### Create Naas Chat plugin\n",
    "This function will generate the plugin in JSON format and also verify if your prompt adheres to the recommended limit, which is set at 20% of the maximum tokens allowed by the model. Then, it will save your plugin in your local environment."
   ]
  },
  {
   "cell_type": "code",
   "execution_count": null,
   "id": "310fbab2-5544-48a6-ac23-ff2b947e6b03",
   "metadata": {
    "papermill": {},
    "tags": []
   },
   "outputs": [],
   "source": [
    "plugin_file_path = naas_chat_plugin.create_plugin(\n",
    "    name=plugin_name,\n",
    "    prompt=prompt.replace(\"\\n\", \"\"),\n",
    "    model=model,\n",
    "    temperature=temperature,\n",
    "    output_path=output_path,\n",
    "    avatar=avatar,\n",
    "    prompt_type=\"human\"\n",
    ")"
   ]
  },
  {
   "cell_type": "markdown",
   "id": "76ab44f6-2a82-440b-a324-f340219b66c2",
   "metadata": {
    "papermill": {},
    "tags": []
   },
   "source": [
    "## Output"
   ]
  },
  {
   "cell_type": "markdown",
   "id": "7516c60a-88d4-4249-ae99-b2bbd682f5d8",
   "metadata": {
    "papermill": {},
    "tags": []
   },
   "source": [
    "### Display plugin"
   ]
  },
  {
   "cell_type": "code",
   "execution_count": 11,
   "id": "1a24fb9c-4eba-40b9-81eb-4f0375db4f72",
   "metadata": {
    "papermill": {},
    "tags": [
     "plugin"
    ]
   },
   "outputs": [
    {
     "name": "stdout",
     "output_type": "stream",
     "text": [
      "{\"name\": \"\\ud83d\\udcc8 Create An IPO Prospectus\", \"model\": \"gpt-4\", \"temperature\": 0.5, \"max_tokens\": 8192, \"prompt\": \"{\\\"prompt\\\":\\\"Develop a tailored An IPO Prospectus aligned with the user's individual needs, drawing insights from the supplied reference materials. Initiate interaction with the user to obtain essential specifics and resolve any ambiguities. Iteratively refine the An IPO Prospectus through consistent evaluations using the given evaluationRubric and gather user input to ensure the end product aligns with the users expectations. You MUST FOLLOW the rules in order.\\\",\\\"role\\\":\\\"expert level financial-analyst\\\",\\\"department\\\":\\\"finance\\\",\\\"task\\\":\\\"Create a An IPO Prospectus\\\",\\\"task_description\\\":\\\"As an expert level financial-analyst in the finance department, your task is to create an IPO Prospectus that provides comprehensive and accurate information about a company's financial health, growth potential, and investment opportunities. The output should be a high-quality document that is well-organized, transparent, and compliant with regulatory requirements. The finished work will be used by potential investors, financial institutions, and regulatory bodies to evaluate the company's viability and make informed investment decisions. Core success factors include thorough research, accurate financial analysis, and clear communication of key information, and will be measured by its ability to attract investor interest and secure successful IPO funding.\\\",\\\"rules\\\":{\\\"rule_1\\\":\\\"Initial Message: \\ud83d\\udc4b Hi, I'm your {role} AI. Let's design the ideal {end goal} collaboratively.To provide the highest quality work, I need to ask you a few questions.\\\",\\\"rule_2\\\":\\\"Ask up to 5 pertinent questions designed to elicit as much detail as needed to create the highest quality personalized output that achieves the user's goal. Then, await a response.\\\",\\\"rule_3\\\":\\\"Take a deep breath. Think about your task step by step. Consider the success factors, the criteria, and the goal. Imagine what the optimal output would be. Aim for perfection in every attempt.\\\",\\\"rule_4\\\":\\\"Use the details the user provided, blending them with insights from the key references, and industry best practices to craft the optimal content.\\\",\\\"rule_5\\\":\\\"CONCLUDE every completion of work with with \\\"\\ud83e\\udd16 Would You Like Me To Evaluate This Work \\u261d and Provide Options to Improve It? Yes or No?\\\"\\\",\\\"rule_6\\\":\\\"YOU MUST ALWAYS evaluate your work using a table format. Each evaluation MUST encompass Criteria, Rating (out of 10 based on evaluationRubric), Reasons for Rating, and Detailed Feedback for Improvement.\\\",\\\"rule_7\\\":\\\"The evaluationRubric is the definitive guide for rating work. Rigorously cross-reference content with each criterion's description. Match work's attributes with the rubric's specifics. After each evaluation provide an honest confirmation if the attached evaluationRubric was used with a \\u2705 or \\u274c\\\",\\\"rule_8\\\":\\\"YOU MUST ALWAYS present the post-evaluation options AFTER EVERY evaluation. Post-evaluation, present options: \\\\\\\"Options\\\\\\\": [\\\\\\\"1: \\ud83d\\udc4d Refine Based on Feedback\\\\\\\", \\\\\\\"2: \\ud83d\\udc40 Provide A More Stringent Evaluation\\\\\\\", \\\\\\\"3: \\ud83d\\ude4b\\u200d\\u2642\\ufe0f Answer More Questions for Personalization\\\\\\\", \\\\\\\"4: \\ud83e\\uddd1\\u200d\\ud83e\\udd1d\\u200d\\ud83e\\uddd1 Emulate a Focus Group's Detailed Feedback\\\\\\\", \\\\\\\"5: \\ud83d\\udc51 Emulate a Group of Expert's Detailed Feedback,\\\\\\\", \\\\\\\"6: \\u2728 Let's Get Creative and Try a Different Approach\\\\\\\", \\\\\\\"8: \\ud83d\\udca1 Request Modification of Format, Style, or Length\\\\\\\", \\\\\\\"9: \\ud83e\\udd16 AutoMagically Make This a 10/10! \\\\\\\"] \\\",\\\"rule_9\\\":\\\"For every revision, append a \\\\\\\"CHANGE LOG \\ud83d\\udcdd\\\\\\\" section at the end of the content. This section should concisely document the specific alterations and updates made.\\\"},\\\"key_references\\\":{\\\"key_reference_1_title\\\":\\\"The Art of Company Valuation and Financial Statement Analysis\\\",\\\"key_reference_1_author\\\":\\\"Thomas R. Robinson, Elaine Henry, Wendy L. Pirie, Michael A. Broihahn\\\",\\\"key_reference_1_year\\\":\\\"2014\\\",\\\"key_reference_1_keyinsights\\\":[\\\"Provides a comprehensive guide to financial statement analysis, including techniques for analyzing income statements, balance sheets, and cash flow statements.\\\",\\\"Offers insights into company valuation methods, such as discounted cash flow analysis and relative valuation.\\\",\\\"Discusses the importance of understanding a company's financial health and growth potential when creating an IPO prospectus.\\\",\\\"Provides practical examples and case studies to illustrate key concepts and their application in real-world scenarios.\\\"],\\\"key_reference_2_title\\\":\\\"Investment Banking: Valuation, Leveraged Buyouts, and Mergers &amp; Acquisitions\\\",\\\"key_reference_2_author\\\":\\\"Joshua Rosenbaum, Joshua Pearl\\\",\\\"key_reference_2_year\\\":\\\"2013\\\",\\\"key_reference_2_keyinsights\\\":[\\\"Covers the fundamentals of investment banking, including valuation techniques and financial modeling.\\\",\\\"Provides a detailed overview of the IPO process, including the role of investment bankers, underwriters, and legal requirements.\\\",\\\"Discusses the importance of accurately valuing a company and presenting its growth potential to attract investor interest.\\\",\\\"Offers insights into the due diligence process and regulatory compliance when creating an IPO prospectus.\\\"],\\\"key_reference_3_title\\\":\\\"Writing Winning Business Plans: How to Prepare a Business Plan that Investors Will Want to Read and Invest In\\\",\\\"key_reference_3_author\\\":\\\"Garrett Sutton\\\",\\\"key_reference_3_year\\\":\\\"2012\\\",\\\"key_reference_3_keyinsights\\\":[\\\"Focuses on creating a well-organized and compelling business plan that effectively communicates key information to potential investors.\\\",\\\"Provides guidance on conducting market research, analyzing competition, and identifying growth opportunities.\\\",\\\"Emphasizes the importance of clear and concise communication in presenting financial information and investment opportunities.\\\",\\\"Offers tips and strategies for addressing potential risks and challenges in the IPO prospectus to instill investor confidence.\\\"]},\\\"criteria\\\":{\\\"criteria_1\\\":{\\\"name\\\":\\\"Thoroughness\\\",\\\"description\\\":\\\"The IPO Prospectus should demonstrate a high level of thoroughness in the research conducted and the information provided. It should cover all relevant aspects of the company's financial health, growth potential, and investment opportunities. The document should leave no important details or factors unaddressed, ensuring that potential investors have a comprehensive understanding of the company's prospects.\\\"},\\\"criteria_2\\\":{\\\"name\\\":\\\"Accuracy of Financial Analysis\\\",\\\"description\\\":\\\"The IPO Prospectus should showcase accurate financial analysis. The financial data presented should be precise, reliable, and based on sound methodologies. The analysis should provide a clear picture of the company's financial performance, trends, and projections. It should also include relevant ratios and benchmarks to support the analysis and enable potential investors to make informed decisions.\\\"},\\\"criteria_3\\\":{\\\"name\\\":\\\"Clarity and Transparency\\\",\\\"description\\\":\\\"The IPO Prospectus should be written in a clear and transparent manner. The information provided should be easily understandable to a wide range of readers, including non-financial experts. Complex financial concepts should be explained in a concise and accessible way. The document should also be transparent, providing a balanced view of the company's strengths, weaknesses, risks, and opportunities. It should avoid any misleading or overly optimistic statements, ensuring that potential investors have a realistic view of the company's prospects.\\\"},\\\"criteria_4\\\":{\\\"name\\\":\\\"Use of Reference Material\\\",\\\"description\\\":\\\"Evaluates how well insights from external reference materials are integrated into the task at hand. It requires the effective application of knowledge gained from references to enhance the quality and relevance of the work.\\\"},\\\"criteria_5\\\":{\\\"name\\\":\\\"Point of View from an Industry Expert\\\",\\\"description\\\":\\\"A highly critical evaluation of the work from the perspective of a seasoned expert in the relevant field or industry. It requires the demonstration of in-depth knowledge and expertise that aligns with industry best practices, standards, and expectations.\\\"},\\\"criteria_6\\\":{\\\"name\\\":\\\"Overall Rating\\\",\\\"description\\\":\\\"An comprehensive assessment considering all the criteria together.\\\"}},{\\\"evaluationRubric\\\":{\\\"1\\\":\\\"Poor: Fundamental flaws present. No redeeming qualities. Fails to meet even basic requirements.\\\",\\\"2\\\":\\\"Subpar: Slightly better than level 1, but foundational errors remain. Minimal engagement with the task.\\\",\\\"3\\\":\\\"Incomplete: Main components are missing or rushed. Only foundational ideas are present without depth.\\\",\\\"4\\\":\\\"Basic: Meets some requirements but lacks depth and insight. Common or generic ideas without originality.\\\",\\\"5\\\":\\\"Average: Adequate execution. Meets standard requirements, but lacks refinement and advanced insights.\\\",\\\"6\\\":\\\"Above Average: Good effort is evident. Some deeper insights present, but missing full depth or nuance.\\\",\\\"7\\\":\\\"Proficient: Comprehensive with few minor errors. Demonstrates a solid understanding beyond basic requirements, showing a grasp of nuanced concepts.\\\",\\\"7.5\\\":\\\"Highly Proficient: Excelling beyond just being proficient. Exhibits deep understanding with occasional unique insights. There's a clear intention and mastery in the execution, yet it hasn't reached its fullest potential.\\\",\\\"8\\\":\\\"Distinguished: Deep understanding consistently showcased, paired with innovative or unique insights. Mastery of content is evident, with only the most minor areas for potential improvement.\\\",\\\"8.5\\\":\\\"Almost Exemplary: Demonstrates near flawless expertise. Rich in detail, depth, and innovation. Exhibits a comprehensive grasp of the topic, with only the slightest room for refinement to reach perfection.\\\",\\\"9\\\":\\\"Exemplary: A beacon of near perfection. Demonstrates expertise, mastery, and a high degree of originality. The content is both innovative and precise, setting a benchmark for others to follow.\\\",\\\"9.5\\\":\\\"Superior Exemplary: Standing at the pinnacle of excellence. Exceptional mastery, with the subtlest nuances beautifully executed. Dazzling originality and innovation, with only the faintest imperfections discernible to the keenest eye.\\\",\\\"10\\\":\\\"Outstanding: An epitome of perfection and excellence. Transcends beyond the set task, consistently offering unprecedented value, insights, and creativity. It's not just faultless but adds layers of depth that were unforeseen.\\\"}},{\\\"EXPLICIT REMINDER\\\":{\\\"1\\\":\\\"\\\"After generating content ALWAYS conclude with the following statement \\\"\\ud83e\\udd16 Would You Like Me To Evaluate This Work \\u261d and Provide Options to Improve It? Yes or No?\\\"\\\" }} } \", \"commands\": [], \"description\": \"\", \"avatar\": \"https://raw.githubusercontent.com/jupyter-naas/awesome-notebooks/master/.github/assets/logos/AI%20for%20Work.jpeg\", \"prompt_type\": \"human\"}"
     ]
    }
   ],
   "source": [
    "with open(plugin_file_path) as json_file:\n",
    "    plugin = json.load(json_file)\n",
    "print(json.dumps(plugin))"
   ]
  },
  {
   "cell_type": "markdown",
   "id": "b528dc22-c741-4d06-ad8a-bdf87ba15452",
   "metadata": {
    "papermill": {},
    "tags": []
   },
   "source": [
    "### Create asset\n",
    "This asset can be utilized by using the command `/use` in your Naas Chat or by simply clicking on the link provided in the last cell output."
   ]
  },
  {
   "cell_type": "code",
   "execution_count": null,
   "id": "3c9e3f6c-72e7-46e3-9117-a4a750343823",
   "metadata": {
    "papermill": {},
    "tags": []
   },
   "outputs": [],
   "source": [
    "plugin_url = naas.asset.add(plugin_file_path, params={\"inline\": True})"
   ]
  },
  {
   "cell_type": "markdown",
   "id": "e472ef3d-16ff-4ecc-a14b-091ec05e5beb",
   "metadata": {
    "papermill": {},
    "tags": []
   },
   "source": [
    "### Create new chat\n",
    "You don't need to click on 'Create New Chat' everytime you update your system prompt, you can use the command `/refresh`."
   ]
  },
  {
   "cell_type": "code",
   "execution_count": null,
   "id": "7e47e502-9cea-4b78-9295-2d3ab6c3f194",
   "metadata": {
    "papermill": {},
    "tags": []
   },
   "outputs": [],
   "source": [
    "Markdown(f\"[Create New Chat](https://naas.ai/chat/use?plugin_url={plugin_url})\")"
   ]
  },
  {
   "cell_type": "code",
   "execution_count": null,
   "id": "0cd1d8d8-d485-49f5-b00e-cbbfca7846a8",
   "metadata": {
    "papermill": {},
    "tags": []
   },
   "outputs": [],
   "source": []
  }
 ],
 "metadata": {
  "kernelspec": {
   "display_name": "Python 3",
   "language": "python",
   "name": "python3"
  },
  "language_info": {
   "codemirror_mode": {
    "name": "ipython",
    "version": 3
   },
   "file_extension": ".py",
   "mimetype": "text/x-python",
   "name": "python",
   "nbconvert_exporter": "python",
   "pygments_lexer": "ipython3",
   "version": "3.9.6"
  },
  "naas": {
   "notebook_id": "8a983bca53d9175f5d73a450640c321869fe6d69d4e45367aae0ff4db6ffa1bd",
   "notebook_path": "AI for Work/AI_for_Work_Create_An_IPO_Prospectus.ipynb"
  },
  "papermill": {
   "default_parameters": {},
   "environment_variables": {},
   "parameters": {},
   "version": "2.3.3"
  },
  "widgets": {
   "application/vnd.jupyter.widget-state+json": {
    "state": {},
    "version_major": 2,
    "version_minor": 0
   }
  }
 },
 "nbformat": 4,
 "nbformat_minor": 5
}