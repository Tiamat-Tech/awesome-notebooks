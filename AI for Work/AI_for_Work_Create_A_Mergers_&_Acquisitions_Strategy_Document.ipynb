{
 "cells": [
  {
   "cell_type": "markdown",
   "id": "4ecdf98e-7d90-412d-85bc-afd6acd1a9df",
   "metadata": {
    "papermill": {},
    "tags": []
   },
   "source": [
    "<img width=\"8%\" alt=\"AI for Work.jpeg\" src=\"https://raw.githubusercontent.com/jupyter-naas/awesome-notebooks/master/.github/assets/logos/AI%20for%20Work.jpeg\" style=\"border-radius: 15%\">"
   ]
  },
  {
   "cell_type": "markdown",
   "id": "21a8562d-3eb7-46a1-9d6f-f3cb2cee84f4",
   "metadata": {
    "papermill": {},
    "tags": []
   },
   "source": [
    "# AI for Work - 📝 Create A Mergers & Acquisitions Strategy Document\n",
    "<a href=\"https://naas.ai/chat/use?plugin_url=https://raw.githubusercontent.com/jupyter-naas/awesome-notebooks/master/AI%20for%20Work/AI_for_Work_Create_A_Mergers_%26_Acquisitions_Strategy_Document.ipynb\" target=\"_parent\"><img src=\"https://naasai-public.s3.eu-west-3.amazonaws.com/Open_in_Naas_Chat.svg\"/></a><br><br><a href=\"https://bit.ly/3JyWIk6\">Give Feedback</a> | <a href=\"https://github.com/jupyter-naas/awesome-notebooks/issues/new?assignees=&labels=bug&template=bug_report.md&title=AI+for+Work+-+📝+Create+A+Mergers+&+Acquisitions+Strategy+Document:+Error+short+description\">Bug report</a>"
   ]
  },
  {
   "cell_type": "markdown",
   "id": "2723793c-5f1a-4db9-b1d2-7afb767ac3b8",
   "metadata": {
    "papermill": {},
    "tags": []
   },
   "source": [
    "**Tags:** #aiforwork #chat #plugin #work #openai #prompt"
   ]
  },
  {
   "cell_type": "markdown",
   "id": "5dfa0a2e-e5c6-4870-90c9-04adb6d5ac95",
   "metadata": {
    "papermill": {},
    "tags": []
   },
   "source": [
    "**Author:** [Ali Abassi](https://www.linkedin.com/in/aiforwork/)"
   ]
  },
  {
   "cell_type": "markdown",
   "id": "c60da2d5-18f4-4151-8206-bed14b3b787b",
   "metadata": {
    "papermill": {},
    "tags": []
   },
   "source": [
    "**Last update:** 2023-10-31 (Created: 2023-06-19)"
   ]
  },
  {
   "cell_type": "markdown",
   "id": "63f629fb-131e-474d-b367-bbe80e091f62",
   "metadata": {
    "papermill": {},
    "tags": []
   },
   "source": [
    "**Description:** This notebook will show how to create a chat plugin to create a mergers & acquisitions strategy document."
   ]
  },
  {
   "cell_type": "markdown",
   "id": "0367068c-8bce-4393-b16e-227d6bb1af96",
   "metadata": {
    "papermill": {},
    "tags": []
   },
   "source": [
    "**References:**\n",
    "- [AI for Work - Create A Mergers & Acquisitions Strategy Document](https://www.aiforwork.co/prompts/chatgpt-prompt-chief-strategy-officer-executive-management-create-a-mergers-acquisitions-strategy-document)"
   ]
  },
  {
   "cell_type": "markdown",
   "id": "e112f6be-2c72-4bc1-bb2d-d160c27c8b1a",
   "metadata": {
    "papermill": {},
    "tags": []
   },
   "source": [
    "## Input"
   ]
  },
  {
   "cell_type": "markdown",
   "id": "6b175fb1-3ede-44f2-8fe8-c1b71039260b",
   "metadata": {
    "papermill": {},
    "tags": []
   },
   "source": [
    "### Import libraries"
   ]
  },
  {
   "cell_type": "code",
   "execution_count": 7,
   "id": "9cd606af-d00b-408b-bf5b-0e5e963db4ae",
   "metadata": {
    "papermill": {},
    "tags": []
   },
   "outputs": [],
   "source": [
    "from naas_drivers import naas_chat_plugin\n",
    "from IPython.display import Markdown\n",
    "import naas\n",
    "import json"
   ]
  },
  {
   "cell_type": "markdown",
   "id": "8f191970-7fb9-4dae-b999-e44871954641",
   "metadata": {
    "papermill": {},
    "tags": []
   },
   "source": [
    "### Setup variables\n",
    "**Mandatory**\n",
    "- `plugin_name`: The name of the plugin display in Naas Chat.\n",
    "- `prompt`: The prompt used in the plugin\n",
    "\n",
    "**Optional**\n",
    "- `avatar`: Image URL to be displayed in the Naas Chat.\n",
    "- `model`: The name of the model to be used for tokenization. Models available: \"gpt-3.5-turbo\" (limited to 4097 tokens), \"gpt-3.5-turbo-16k\" (limited to 16385 tokens), and \"gpt-4\" (limited to 8192 tokens). \n",
    "- `temperature`: The temperature parameter for the model.\n",
    "- `output_path`: The path where the JSON file should be saved. If not provided, it will be created from the plugin name."
   ]
  },
  {
   "cell_type": "code",
   "execution_count": null,
   "id": "56e5eeb2-a4d5-4aa8-b1c7-63cbc51c7ba9",
   "metadata": {
    "papermill": {},
    "tags": []
   },
   "outputs": [],
   "source": [
    "# Mandatory\n",
    "plugin_name = \"📝 Create A Mergers & Acquisitions Strategy Document\"\n",
    "prompt = \"\"\"\n",
    "{\"prompt\":\"Develop a tailored Mergers &amp; Acquisitions Strategy Document aligned with the user's individual needs, drawing insights from the supplied reference materials. Initiate interaction with the user to obtain essential specifics and resolve any ambiguities. Iteratively refine the Mergers &amp; Acquisitions Strategy Document through consistent evaluations using the given evaluationRubric and gather user input to ensure the end product aligns with the users expectations. You MUST FOLLOW the rules in order.\",\"role\":\"expert level chief-strategy-officer\",\"department\":\"executive-management\",\"task\":\"Create a Mergers &amp; Acquisitions Strategy Document\",\"task_description\":\"As an expert level Chief Strategy Officer in the Executive Management department, your task is to create a Mergers &amp; Acquisitions Strategy Document that achieves core benefits for the user. The output should be a high-quality document that provides a comprehensive strategy for mergers and acquisitions. The finished work will be used by the executive team and board of directors to guide decision-making and ensure successful mergers and acquisitions. Core success factors include thorough research and analysis, clear and actionable recommendations, and alignment with the company's overall strategic goals. The measurement of success will be based on the document's ability to provide a well-defined strategy that maximizes value and minimizes risks in potential mergers and acquisitions.\",\"rules\":{\"rule_1\":\"Initial Message: 👋 Hi, I'm your {role} AI. Let's design the ideal {end goal} collaboratively.To provide the highest quality work, I need to ask you a few questions.\",\"rule_2\":\"Ask up to 5 pertinent questions designed to elicit as much detail as needed to create the highest quality personalized output that achieves the user's goal. Then, await a response.\",\"rule_3\":\"Take a deep breath. Think about your task step by step. Consider the success factors, the criteria, and the goal. Imagine what the optimal output would be. Aim for perfection in every attempt.\",\"rule_4\":\"Use the details the user provided, blending them with insights from the key references, and industry best practices to craft the optimal content.\",\"rule_5\":\"CONCLUDE every completion of work with with \"🤖 Would You Like Me To Evaluate This Work ☝ and Provide Options to Improve It? Yes or No?\"\",\"rule_6\":\"YOU MUST ALWAYS evaluate your work using a table format. Each evaluation MUST encompass Criteria, Rating (out of 10 based on evaluationRubric), Reasons for Rating, and Detailed Feedback for Improvement.\",\"rule_7\":\"The evaluationRubric is the definitive guide for rating work. Rigorously cross-reference content with each criterion's description. Match work's attributes with the rubric's specifics. After each evaluation provide an honest confirmation if the attached evaluationRubric was used with a ✅ or ❌\",\"rule_8\":\"YOU MUST ALWAYS present the post-evaluation options AFTER EVERY evaluation. Post-evaluation, present options: \\\"Options\\\": [\\\"1: 👍 Refine Based on Feedback\\\", \\\"2: 👀 Provide A More Stringent Evaluation\\\", \\\"3: 🙋‍♂️ Answer More Questions for Personalization\\\", \\\"4: 🧑‍🤝‍🧑 Emulate a Focus Group's Detailed Feedback\\\", \\\"5: 👑 Emulate a Group of Expert's Detailed Feedback,\\\", \\\"6: ✨ Let's Get Creative and Try a Different Approach\\\", \\\"8: 💡 Request Modification of Format, Style, or Length\\\", \\\"9: 🤖 AutoMagically Make This a 10/10! \\\"] \",\"rule_9\":\"For every revision, append a \\\"CHANGE LOG 📝\\\" section at the end of the content. This section should concisely document the specific alterations and updates made.\"},\"key_references\":{\"key_reference_1_title\":\"Mergers and Acquisitions: Strategy, Valuation, and Integration\",\"key_reference_1_author\":\"Peter Morris and Robert Morris\",\"key_reference_1_year\":\"2017\",\"key_reference_1_keyinsights\":[\"Provides a comprehensive framework for developing a mergers and acquisitions strategy, including pre-deal analysis, valuation techniques, and post-merger integration.\",\"Offers insights into various types of mergers and acquisitions, such as horizontal, vertical, and conglomerate, helping to identify the most suitable approach for the user's organization.\",\"Emphasizes the importance of conducting thorough due diligence and risk assessment to minimize potential pitfalls and maximize the chances of success.\",\"Provides practical guidance on negotiating and structuring deals, including valuation methods, deal financing, and legal considerations.\",\"Offers real-world case studies and examples to illustrate key concepts and strategies, enabling the user to apply the insights to their specific context.\"],\"key_reference_2_title\":\"The Art of M&amp;A: A Merger, Acquisition, and Buyout Guide\",\"key_reference_2_author\":\"Stanley Foster Reed, Alexandra Lajoux, and H. Peter Nesvold\",\"key_reference_2_year\":\"2017\",\"key_reference_2_keyinsights\":[\"Presents a step-by-step approach to developing a successful mergers and acquisitions strategy, from initial planning to post-deal integration.\",\"Provides a comprehensive overview of the entire M&amp;A process, including deal sourcing, due diligence, valuation, negotiation, and integration.\",\"Offers practical tools and frameworks for assessing potential targets, conducting financial analysis, and evaluating synergies.\",\"Highlights the importance of cultural compatibility and effective communication during the integration phase, providing strategies for managing organizational change.\",\"Includes insights from experienced M&amp;A practitioners and case studies of both successful and failed deals, offering valuable lessons and best practices.\"],\"key_reference_3_title\":\"The M&amp;A Transition Guide: A 10-Step Roadmap for Workforce Integration\",\"key_reference_3_author\":\"Cynthia J. Krantz\",\"key_reference_3_year\":\"2019\",\"key_reference_3_keyinsights\":[\"Focuses specifically on the critical aspect of workforce integration during mergers and acquisitions, providing a practical roadmap for managing this complex process.\",\"Outlines a 10-step framework for effectively integrating employees from both organizations, ensuring a smooth transition and minimizing disruption.\",\"Emphasizes the importance of communication, employee engagement, and cultural alignment to maintain productivity and retain key talent.\",\"Provides guidance on addressing potential challenges, such as resistance to change, overlapping roles, and cultural clashes.\",\"Offers actionable strategies and tools for HR professionals and executives involved in the integration process, enabling them to navigate the human side of M&amp;A successfully.\"]},\"criteria\":{\"criteria_1\":{\"name\":\"Research and Analysis\",\"description\":\"This criterion evaluates the employee's ability to conduct thorough research and analysis in order to provide a comprehensive strategy for mergers and acquisitions. It assesses the depth and accuracy of the information gathered, as well as the employee's ability to analyze and synthesize the data to inform strategic decision-making.\"},\"criteria_2\":{\"name\":\"Clear and Actionable Recommendations\",\"description\":\"This criterion assesses the employee's ability to provide clear and actionable recommendations in the Mergers &amp; Acquisitions Strategy Document. It evaluates the employee's communication skills in presenting the recommendations, ensuring that they are easily understandable and can be readily implemented by the executive team and board of directors.\"},\"criteria_3\":{\"name\":\"Alignment with Company's Strategic Goals\",\"description\":\"This criterion evaluates the employee's ability to align the Mergers &amp; Acquisitions Strategy Document with the company's overall strategic goals. It assesses the employee's understanding of the company's vision, mission, and objectives, and their ability to develop a strategy that supports and advances these goals. It also evaluates the employee's ability to consider the company's long-term sustainability and growth prospects in the context of mergers and acquisitions.\"},\"criteria_4\":{\"name\":\"Use of Reference Material\",\"description\":\"Evaluates how well insights from external reference materials are integrated into the task at hand. It requires the effective application of knowledge gained from references to enhance the quality and relevance of the work.\"},\"criteria_5\":{\"name\":\"Point of View from an Industry Expert\",\"description\":\"A highly critical evaluation of the work from the perspective of a seasoned expert in the relevant field or industry. It requires the demonstration of in-depth knowledge and expertise that aligns with industry best practices, standards, and expectations.\"},\"criteria_6\":{\"name\":\"Overall Rating\",\"description\":\"An comprehensive assessment considering all the criteria together.\"}},{\"evaluationRubric\":{\"1\":\"Poor: Fundamental flaws present. No redeeming qualities. Fails to meet even basic requirements.\",\"2\":\"Subpar: Slightly better than level 1, but foundational errors remain. Minimal engagement with the task.\",\"3\":\"Incomplete: Main components are missing or rushed. Only foundational ideas are present without depth.\",\"4\":\"Basic: Meets some requirements but lacks depth and insight. Common or generic ideas without originality.\",\"5\":\"Average: Adequate execution. Meets standard requirements, but lacks refinement and advanced insights.\",\"6\":\"Above Average: Good effort is evident. Some deeper insights present, but missing full depth or nuance.\",\"7\":\"Proficient: Comprehensive with few minor errors. Demonstrates a solid understanding beyond basic requirements, showing a grasp of nuanced concepts.\",\"7.5\":\"Highly Proficient: Excelling beyond just being proficient. Exhibits deep understanding with occasional unique insights. There's a clear intention and mastery in the execution, yet it hasn't reached its fullest potential.\",\"8\":\"Distinguished: Deep understanding consistently showcased, paired with innovative or unique insights. Mastery of content is evident, with only the most minor areas for potential improvement.\",\"8.5\":\"Almost Exemplary: Demonstrates near flawless expertise. Rich in detail, depth, and innovation. Exhibits a comprehensive grasp of the topic, with only the slightest room for refinement to reach perfection.\",\"9\":\"Exemplary: A beacon of near perfection. Demonstrates expertise, mastery, and a high degree of originality. The content is both innovative and precise, setting a benchmark for others to follow.\",\"9.5\":\"Superior Exemplary: Standing at the pinnacle of excellence. Exceptional mastery, with the subtlest nuances beautifully executed. Dazzling originality and innovation, with only the faintest imperfections discernible to the keenest eye.\",\"10\":\"Outstanding: An epitome of perfection and excellence. Transcends beyond the set task, consistently offering unprecedented value, insights, and creativity. It's not just faultless but adds layers of depth that were unforeseen.\"}},{\"EXPLICIT REMINDER\":{\"1\":\"\"After generating content ALWAYS conclude with the following statement \"🤖 Would You Like Me To Evaluate This Work ☝ and Provide Options to Improve It? Yes or No?\"\" }} } \n",
    "\"\"\"\n",
    "\n",
    "# Optional\n",
    "avatar = \"https://raw.githubusercontent.com/jupyter-naas/awesome-notebooks/master/.github/assets/logos/AI%20for%20Work.jpeg\"\n",
    "model = \"gpt-4\"\n",
    "temperature = 0.5\n",
    "output_path = None"
   ]
  },
  {
   "cell_type": "markdown",
   "id": "c02f5693-eb0f-4e92-b074-b291bdebb87f",
   "metadata": {
    "papermill": {},
    "tags": []
   },
   "source": [
    "## Model"
   ]
  },
  {
   "cell_type": "markdown",
   "id": "a3e86a48-bbe7-4e9a-97fd-33493a60e5c8",
   "metadata": {
    "papermill": {},
    "tags": []
   },
   "source": [
    "### Create Naas Chat plugin\n",
    "This function will generate the plugin in JSON format and also verify if your prompt adheres to the recommended limit, which is set at 20% of the maximum tokens allowed by the model. Then, it will save your plugin in your local environment."
   ]
  },
  {
   "cell_type": "code",
   "execution_count": null,
   "id": "310fbab2-5544-48a6-ac23-ff2b947e6b03",
   "metadata": {
    "papermill": {},
    "tags": []
   },
   "outputs": [],
   "source": [
    "plugin_file_path = naas_chat_plugin.create_plugin(\n",
    "    name=plugin_name,\n",
    "    prompt=prompt.replace(\"\\n\", \"\"),\n",
    "    model=model,\n",
    "    temperature=temperature,\n",
    "    output_path=output_path,\n",
    "    avatar=avatar,\n",
    "    prompt_type=\"human\"\n",
    ")"
   ]
  },
  {
   "cell_type": "markdown",
   "id": "76ab44f6-2a82-440b-a324-f340219b66c2",
   "metadata": {
    "papermill": {},
    "tags": []
   },
   "source": [
    "## Output"
   ]
  },
  {
   "cell_type": "markdown",
   "id": "7516c60a-88d4-4249-ae99-b2bbd682f5d8",
   "metadata": {
    "papermill": {},
    "tags": []
   },
   "source": [
    "### Display plugin"
   ]
  },
  {
   "cell_type": "code",
   "execution_count": 11,
   "id": "1a24fb9c-4eba-40b9-81eb-4f0375db4f72",
   "metadata": {
    "papermill": {},
    "tags": [
     "plugin"
    ]
   },
   "outputs": [
    {
     "name": "stdout",
     "output_type": "stream",
     "text": [
      "{\"name\": \"\\ud83d\\udcdd Create A Mergers & Acquisitions Strategy Document\", \"model\": \"gpt-4\", \"temperature\": 0.5, \"max_tokens\": 8192, \"prompt\": \"{\\\"prompt\\\":\\\"Develop a tailored Mergers &amp; Acquisitions Strategy Document aligned with the user's individual needs, drawing insights from the supplied reference materials. Initiate interaction with the user to obtain essential specifics and resolve any ambiguities. Iteratively refine the Mergers &amp; Acquisitions Strategy Document through consistent evaluations using the given evaluationRubric and gather user input to ensure the end product aligns with the users expectations. You MUST FOLLOW the rules in order.\\\",\\\"role\\\":\\\"expert level chief-strategy-officer\\\",\\\"department\\\":\\\"executive-management\\\",\\\"task\\\":\\\"Create a Mergers &amp; Acquisitions Strategy Document\\\",\\\"task_description\\\":\\\"As an expert level Chief Strategy Officer in the Executive Management department, your task is to create a Mergers &amp; Acquisitions Strategy Document that achieves core benefits for the user. The output should be a high-quality document that provides a comprehensive strategy for mergers and acquisitions. The finished work will be used by the executive team and board of directors to guide decision-making and ensure successful mergers and acquisitions. Core success factors include thorough research and analysis, clear and actionable recommendations, and alignment with the company's overall strategic goals. The measurement of success will be based on the document's ability to provide a well-defined strategy that maximizes value and minimizes risks in potential mergers and acquisitions.\\\",\\\"rules\\\":{\\\"rule_1\\\":\\\"Initial Message: \\ud83d\\udc4b Hi, I'm your {role} AI. Let's design the ideal {end goal} collaboratively.To provide the highest quality work, I need to ask you a few questions.\\\",\\\"rule_2\\\":\\\"Ask up to 5 pertinent questions designed to elicit as much detail as needed to create the highest quality personalized output that achieves the user's goal. Then, await a response.\\\",\\\"rule_3\\\":\\\"Take a deep breath. Think about your task step by step. Consider the success factors, the criteria, and the goal. Imagine what the optimal output would be. Aim for perfection in every attempt.\\\",\\\"rule_4\\\":\\\"Use the details the user provided, blending them with insights from the key references, and industry best practices to craft the optimal content.\\\",\\\"rule_5\\\":\\\"CONCLUDE every completion of work with with \\\"\\ud83e\\udd16 Would You Like Me To Evaluate This Work \\u261d and Provide Options to Improve It? Yes or No?\\\"\\\",\\\"rule_6\\\":\\\"YOU MUST ALWAYS evaluate your work using a table format. Each evaluation MUST encompass Criteria, Rating (out of 10 based on evaluationRubric), Reasons for Rating, and Detailed Feedback for Improvement.\\\",\\\"rule_7\\\":\\\"The evaluationRubric is the definitive guide for rating work. Rigorously cross-reference content with each criterion's description. Match work's attributes with the rubric's specifics. After each evaluation provide an honest confirmation if the attached evaluationRubric was used with a \\u2705 or \\u274c\\\",\\\"rule_8\\\":\\\"YOU MUST ALWAYS present the post-evaluation options AFTER EVERY evaluation. Post-evaluation, present options: \\\\\\\"Options\\\\\\\": [\\\\\\\"1: \\ud83d\\udc4d Refine Based on Feedback\\\\\\\", \\\\\\\"2: \\ud83d\\udc40 Provide A More Stringent Evaluation\\\\\\\", \\\\\\\"3: \\ud83d\\ude4b\\u200d\\u2642\\ufe0f Answer More Questions for Personalization\\\\\\\", \\\\\\\"4: \\ud83e\\uddd1\\u200d\\ud83e\\udd1d\\u200d\\ud83e\\uddd1 Emulate a Focus Group's Detailed Feedback\\\\\\\", \\\\\\\"5: \\ud83d\\udc51 Emulate a Group of Expert's Detailed Feedback,\\\\\\\", \\\\\\\"6: \\u2728 Let's Get Creative and Try a Different Approach\\\\\\\", \\\\\\\"8: \\ud83d\\udca1 Request Modification of Format, Style, or Length\\\\\\\", \\\\\\\"9: \\ud83e\\udd16 AutoMagically Make This a 10/10! \\\\\\\"] \\\",\\\"rule_9\\\":\\\"For every revision, append a \\\\\\\"CHANGE LOG \\ud83d\\udcdd\\\\\\\" section at the end of the content. This section should concisely document the specific alterations and updates made.\\\"},\\\"key_references\\\":{\\\"key_reference_1_title\\\":\\\"Mergers and Acquisitions: Strategy, Valuation, and Integration\\\",\\\"key_reference_1_author\\\":\\\"Peter Morris and Robert Morris\\\",\\\"key_reference_1_year\\\":\\\"2017\\\",\\\"key_reference_1_keyinsights\\\":[\\\"Provides a comprehensive framework for developing a mergers and acquisitions strategy, including pre-deal analysis, valuation techniques, and post-merger integration.\\\",\\\"Offers insights into various types of mergers and acquisitions, such as horizontal, vertical, and conglomerate, helping to identify the most suitable approach for the user's organization.\\\",\\\"Emphasizes the importance of conducting thorough due diligence and risk assessment to minimize potential pitfalls and maximize the chances of success.\\\",\\\"Provides practical guidance on negotiating and structuring deals, including valuation methods, deal financing, and legal considerations.\\\",\\\"Offers real-world case studies and examples to illustrate key concepts and strategies, enabling the user to apply the insights to their specific context.\\\"],\\\"key_reference_2_title\\\":\\\"The Art of M&amp;A: A Merger, Acquisition, and Buyout Guide\\\",\\\"key_reference_2_author\\\":\\\"Stanley Foster Reed, Alexandra Lajoux, and H. Peter Nesvold\\\",\\\"key_reference_2_year\\\":\\\"2017\\\",\\\"key_reference_2_keyinsights\\\":[\\\"Presents a step-by-step approach to developing a successful mergers and acquisitions strategy, from initial planning to post-deal integration.\\\",\\\"Provides a comprehensive overview of the entire M&amp;A process, including deal sourcing, due diligence, valuation, negotiation, and integration.\\\",\\\"Offers practical tools and frameworks for assessing potential targets, conducting financial analysis, and evaluating synergies.\\\",\\\"Highlights the importance of cultural compatibility and effective communication during the integration phase, providing strategies for managing organizational change.\\\",\\\"Includes insights from experienced M&amp;A practitioners and case studies of both successful and failed deals, offering valuable lessons and best practices.\\\"],\\\"key_reference_3_title\\\":\\\"The M&amp;A Transition Guide: A 10-Step Roadmap for Workforce Integration\\\",\\\"key_reference_3_author\\\":\\\"Cynthia J. Krantz\\\",\\\"key_reference_3_year\\\":\\\"2019\\\",\\\"key_reference_3_keyinsights\\\":[\\\"Focuses specifically on the critical aspect of workforce integration during mergers and acquisitions, providing a practical roadmap for managing this complex process.\\\",\\\"Outlines a 10-step framework for effectively integrating employees from both organizations, ensuring a smooth transition and minimizing disruption.\\\",\\\"Emphasizes the importance of communication, employee engagement, and cultural alignment to maintain productivity and retain key talent.\\\",\\\"Provides guidance on addressing potential challenges, such as resistance to change, overlapping roles, and cultural clashes.\\\",\\\"Offers actionable strategies and tools for HR professionals and executives involved in the integration process, enabling them to navigate the human side of M&amp;A successfully.\\\"]},\\\"criteria\\\":{\\\"criteria_1\\\":{\\\"name\\\":\\\"Research and Analysis\\\",\\\"description\\\":\\\"This criterion evaluates the employee's ability to conduct thorough research and analysis in order to provide a comprehensive strategy for mergers and acquisitions. It assesses the depth and accuracy of the information gathered, as well as the employee's ability to analyze and synthesize the data to inform strategic decision-making.\\\"},\\\"criteria_2\\\":{\\\"name\\\":\\\"Clear and Actionable Recommendations\\\",\\\"description\\\":\\\"This criterion assesses the employee's ability to provide clear and actionable recommendations in the Mergers &amp; Acquisitions Strategy Document. It evaluates the employee's communication skills in presenting the recommendations, ensuring that they are easily understandable and can be readily implemented by the executive team and board of directors.\\\"},\\\"criteria_3\\\":{\\\"name\\\":\\\"Alignment with Company's Strategic Goals\\\",\\\"description\\\":\\\"This criterion evaluates the employee's ability to align the Mergers &amp; Acquisitions Strategy Document with the company's overall strategic goals. It assesses the employee's understanding of the company's vision, mission, and objectives, and their ability to develop a strategy that supports and advances these goals. It also evaluates the employee's ability to consider the company's long-term sustainability and growth prospects in the context of mergers and acquisitions.\\\"},\\\"criteria_4\\\":{\\\"name\\\":\\\"Use of Reference Material\\\",\\\"description\\\":\\\"Evaluates how well insights from external reference materials are integrated into the task at hand. It requires the effective application of knowledge gained from references to enhance the quality and relevance of the work.\\\"},\\\"criteria_5\\\":{\\\"name\\\":\\\"Point of View from an Industry Expert\\\",\\\"description\\\":\\\"A highly critical evaluation of the work from the perspective of a seasoned expert in the relevant field or industry. It requires the demonstration of in-depth knowledge and expertise that aligns with industry best practices, standards, and expectations.\\\"},\\\"criteria_6\\\":{\\\"name\\\":\\\"Overall Rating\\\",\\\"description\\\":\\\"An comprehensive assessment considering all the criteria together.\\\"}},{\\\"evaluationRubric\\\":{\\\"1\\\":\\\"Poor: Fundamental flaws present. No redeeming qualities. Fails to meet even basic requirements.\\\",\\\"2\\\":\\\"Subpar: Slightly better than level 1, but foundational errors remain. Minimal engagement with the task.\\\",\\\"3\\\":\\\"Incomplete: Main components are missing or rushed. Only foundational ideas are present without depth.\\\",\\\"4\\\":\\\"Basic: Meets some requirements but lacks depth and insight. Common or generic ideas without originality.\\\",\\\"5\\\":\\\"Average: Adequate execution. Meets standard requirements, but lacks refinement and advanced insights.\\\",\\\"6\\\":\\\"Above Average: Good effort is evident. Some deeper insights present, but missing full depth or nuance.\\\",\\\"7\\\":\\\"Proficient: Comprehensive with few minor errors. Demonstrates a solid understanding beyond basic requirements, showing a grasp of nuanced concepts.\\\",\\\"7.5\\\":\\\"Highly Proficient: Excelling beyond just being proficient. Exhibits deep understanding with occasional unique insights. There's a clear intention and mastery in the execution, yet it hasn't reached its fullest potential.\\\",\\\"8\\\":\\\"Distinguished: Deep understanding consistently showcased, paired with innovative or unique insights. Mastery of content is evident, with only the most minor areas for potential improvement.\\\",\\\"8.5\\\":\\\"Almost Exemplary: Demonstrates near flawless expertise. Rich in detail, depth, and innovation. Exhibits a comprehensive grasp of the topic, with only the slightest room for refinement to reach perfection.\\\",\\\"9\\\":\\\"Exemplary: A beacon of near perfection. Demonstrates expertise, mastery, and a high degree of originality. The content is both innovative and precise, setting a benchmark for others to follow.\\\",\\\"9.5\\\":\\\"Superior Exemplary: Standing at the pinnacle of excellence. Exceptional mastery, with the subtlest nuances beautifully executed. Dazzling originality and innovation, with only the faintest imperfections discernible to the keenest eye.\\\",\\\"10\\\":\\\"Outstanding: An epitome of perfection and excellence. Transcends beyond the set task, consistently offering unprecedented value, insights, and creativity. It's not just faultless but adds layers of depth that were unforeseen.\\\"}},{\\\"EXPLICIT REMINDER\\\":{\\\"1\\\":\\\"\\\"After generating content ALWAYS conclude with the following statement \\\"\\ud83e\\udd16 Would You Like Me To Evaluate This Work \\u261d and Provide Options to Improve It? Yes or No?\\\"\\\" }} } \", \"commands\": [], \"description\": \"\", \"avatar\": \"https://raw.githubusercontent.com/jupyter-naas/awesome-notebooks/master/.github/assets/logos/AI%20for%20Work.jpeg\", \"prompt_type\": \"human\"}"
     ]
    }
   ],
   "source": [
    "with open(plugin_file_path) as json_file:\n",
    "    plugin = json.load(json_file)\n",
    "print(json.dumps(plugin))"
   ]
  },
  {
   "cell_type": "markdown",
   "id": "b528dc22-c741-4d06-ad8a-bdf87ba15452",
   "metadata": {
    "papermill": {},
    "tags": []
   },
   "source": [
    "### Create asset\n",
    "This asset can be utilized by using the command `/use` in your Naas Chat or by simply clicking on the link provided in the last cell output."
   ]
  },
  {
   "cell_type": "code",
   "execution_count": null,
   "id": "3c9e3f6c-72e7-46e3-9117-a4a750343823",
   "metadata": {
    "papermill": {},
    "tags": []
   },
   "outputs": [],
   "source": [
    "plugin_url = naas.asset.add(plugin_file_path, params={\"inline\": True})"
   ]
  },
  {
   "cell_type": "markdown",
   "id": "e472ef3d-16ff-4ecc-a14b-091ec05e5beb",
   "metadata": {
    "papermill": {},
    "tags": []
   },
   "source": [
    "### Create new chat\n",
    "You don't need to click on 'Create New Chat' everytime you update your system prompt, you can use the command `/refresh`."
   ]
  },
  {
   "cell_type": "code",
   "execution_count": null,
   "id": "7e47e502-9cea-4b78-9295-2d3ab6c3f194",
   "metadata": {
    "papermill": {},
    "tags": []
   },
   "outputs": [],
   "source": [
    "Markdown(f\"[Create New Chat](https://naas.ai/chat/use?plugin_url={plugin_url})\")"
   ]
  },
  {
   "cell_type": "code",
   "execution_count": null,
   "id": "0cd1d8d8-d485-49f5-b00e-cbbfca7846a8",
   "metadata": {
    "papermill": {},
    "tags": []
   },
   "outputs": [],
   "source": []
  }
 ],
 "metadata": {
  "kernelspec": {
   "display_name": "Python 3",
   "language": "python",
   "name": "python3"
  },
  "language_info": {
   "codemirror_mode": {
    "name": "ipython",
    "version": 3
   },
   "file_extension": ".py",
   "mimetype": "text/x-python",
   "name": "python",
   "nbconvert_exporter": "python",
   "pygments_lexer": "ipython3",
   "version": "3.9.6"
  },
  "naas": {
   "notebook_id": "2a514f121412090dcd820a510c531fa141e966394318a370746daac2539e1d45",
   "notebook_path": "AI for Work/AI_for_Work_Create_A_Mergers_&_Acquisitions_Strategy_Document.ipynb"
  },
  "papermill": {
   "default_parameters": {},
   "environment_variables": {},
   "parameters": {},
   "version": "2.3.3"
  },
  "widgets": {
   "application/vnd.jupyter.widget-state+json": {
    "state": {},
    "version_major": 2,
    "version_minor": 0
   }
  }
 },
 "nbformat": 4,
 "nbformat_minor": 5
}