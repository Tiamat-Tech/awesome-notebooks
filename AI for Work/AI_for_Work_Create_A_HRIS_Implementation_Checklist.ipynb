{
 "cells": [
  {
   "cell_type": "markdown",
   "id": "4ecdf98e-7d90-412d-85bc-afd6acd1a9df",
   "metadata": {
    "papermill": {},
    "tags": []
   },
   "source": [
    "<img width=\"8%\" alt=\"AI for Work.jpeg\" src=\"https://raw.githubusercontent.com/jupyter-naas/awesome-notebooks/master/.github/assets/logos/AI%20for%20Work.jpeg\" style=\"border-radius: 15%\">"
   ]
  },
  {
   "cell_type": "markdown",
   "id": "21a8562d-3eb7-46a1-9d6f-f3cb2cee84f4",
   "metadata": {
    "papermill": {},
    "tags": []
   },
   "source": [
    "# AI for Work - 📋 Create A HRIS Implementation Checklist\n",
    "<a href=\"https://naas.ai/chat/use?plugin_url=https://raw.githubusercontent.com/jupyter-naas/awesome-notebooks/master/AI%20for%20Work/AI_for_Work_Create_A_HRIS_Implementation_Checklist.ipynb\" target=\"_parent\"><img src=\"https://naasai-public.s3.eu-west-3.amazonaws.com/Open_in_Naas_Chat.svg\"/></a><br><br><a href=\"https://bit.ly/3JyWIk6\">Give Feedback</a> | <a href=\"https://github.com/jupyter-naas/awesome-notebooks/issues/new?assignees=&labels=bug&template=bug_report.md&title=AI+for+Work+-+📋+Create+A+HRIS+Implementation+Checklist:+Error+short+description\">Bug report</a>"
   ]
  },
  {
   "cell_type": "markdown",
   "id": "2723793c-5f1a-4db9-b1d2-7afb767ac3b8",
   "metadata": {
    "papermill": {},
    "tags": []
   },
   "source": [
    "**Tags:** #aiforwork #chat #plugin #work #openai #prompt"
   ]
  },
  {
   "cell_type": "markdown",
   "id": "5dfa0a2e-e5c6-4870-90c9-04adb6d5ac95",
   "metadata": {
    "papermill": {},
    "tags": []
   },
   "source": [
    "**Author:** [Ali Abassi](https://www.linkedin.com/in/aiforwork/)"
   ]
  },
  {
   "cell_type": "markdown",
   "id": "c60da2d5-18f4-4151-8206-bed14b3b787b",
   "metadata": {
    "papermill": {},
    "tags": []
   },
   "source": [
    "**Last update:** 2023-10-31 (Created: 2023-06-19)"
   ]
  },
  {
   "cell_type": "markdown",
   "id": "63f629fb-131e-474d-b367-bbe80e091f62",
   "metadata": {
    "papermill": {},
    "tags": []
   },
   "source": [
    "**Description:** This notebook will show how to create a chat plugin to create a hris implementation checklist."
   ]
  },
  {
   "cell_type": "markdown",
   "id": "0367068c-8bce-4393-b16e-227d6bb1af96",
   "metadata": {
    "papermill": {},
    "tags": []
   },
   "source": [
    "**References:**\n",
    "- [AI for Work - Create A HRIS Implementation Checklist](https://www.aiforwork.co/prompts/create-a-hris-implementation-checklist)"
   ]
  },
  {
   "cell_type": "markdown",
   "id": "e112f6be-2c72-4bc1-bb2d-d160c27c8b1a",
   "metadata": {
    "papermill": {},
    "tags": []
   },
   "source": [
    "## Input"
   ]
  },
  {
   "cell_type": "markdown",
   "id": "6b175fb1-3ede-44f2-8fe8-c1b71039260b",
   "metadata": {
    "papermill": {},
    "tags": []
   },
   "source": [
    "### Import libraries"
   ]
  },
  {
   "cell_type": "code",
   "execution_count": 7,
   "id": "9cd606af-d00b-408b-bf5b-0e5e963db4ae",
   "metadata": {
    "papermill": {},
    "tags": []
   },
   "outputs": [],
   "source": [
    "from naas_drivers import naas_chat_plugin\n",
    "from IPython.display import Markdown\n",
    "import naas\n",
    "import json"
   ]
  },
  {
   "cell_type": "markdown",
   "id": "8f191970-7fb9-4dae-b999-e44871954641",
   "metadata": {
    "papermill": {},
    "tags": []
   },
   "source": [
    "### Setup variables\n",
    "**Mandatory**\n",
    "- `plugin_name`: The name of the plugin display in Naas Chat.\n",
    "- `prompt`: The prompt used in the plugin\n",
    "\n",
    "**Optional**\n",
    "- `avatar`: Image URL to be displayed in the Naas Chat.\n",
    "- `model`: The name of the model to be used for tokenization. Models available: \"gpt-3.5-turbo\" (limited to 4097 tokens), \"gpt-3.5-turbo-16k\" (limited to 16385 tokens), and \"gpt-4\" (limited to 8192 tokens). \n",
    "- `temperature`: The temperature parameter for the model.\n",
    "- `output_path`: The path where the JSON file should be saved. If not provided, it will be created from the plugin name."
   ]
  },
  {
   "cell_type": "code",
   "execution_count": null,
   "id": "56e5eeb2-a4d5-4aa8-b1c7-63cbc51c7ba9",
   "metadata": {
    "papermill": {},
    "tags": []
   },
   "outputs": [],
   "source": [
    "# Mandatory\n",
    "plugin_name = \"📋 Create A HRIS Implementation Checklist\"\n",
    "prompt = \"\"\"\n",
    "{\"prompt\":\"Develop a tailored HRIS Implementation Checklist aligned with the user's individual needs, drawing insights from the supplied reference materials. Initiate interaction with the user to obtain essential specifics and resolve any ambiguities. Iteratively refine the HRIS Implementation Checklist through consistent evaluations using the given evaluationRubric and gather user input to ensure the end product aligns with the users expectations. You MUST FOLLOW the rules in order.\",\"role\":\"expert level hris-specialist\",\"department\":\"human-resources\",\"task\":\"Create a HRIS Implementation Checklist\",\"task_description\":\"As an HRIS Specialist in the Human Resources department, your task is to create a HRIS Implementation Checklist that ensures a smooth and successful implementation of the HRIS system. The checklist should provide step-by-step instructions and guidelines that achieve core benefits for the user, such as streamlining HR processes, improving data accuracy, and enhancing employee self-service capabilities. The finished work will be used by HR professionals and IT teams involved in the HRIS implementation process. The checklist should be comprehensive, well-organized, and easy to follow, ensuring that all necessary tasks and considerations are included. Core success factors include accuracy, clarity, and completeness of the checklist, as well as its ability to effectively guide the implementation process. The success of the checklist will be measured by its ability to facilitate a successful HRIS implementation within the specified timeline and budget.\",\"rules\":{\"rule_1\":\"ALWAYS FOLLOW THE STEPS IN ORDER. THIS IS NON-NEGOTIABLE.\",\"rule_2\":\"YOU MUST ALWAYS evaluate your work using a table format after ALL g   eneration of work. Components: Criteria, Rating (out of 10 based on Evaluation Rubric), Specific Reasons for Rating, Detailed Feedback to Improve.\",\"rule_3\":\"YOU MUST ALWAYS use the Evaluation Rubric for ratings. Reason: This will ensure consistent and accurate ratings.\",\"rule_4\":\"YOU MUST ALWAYS present the post-evaluation options after every evaluation.\"},\"Steps\":{\"step_1\":\"Initial Message:\"👋 Hi, I'm [[LINK:http://www.aiforwork.co?utm_source=prompt&amp;utm_medium={task}:AIforWork.co]], your {role} AI. Let's create the perfect {end goal} together. To provide the highest quality work, I need to ask you a few questions.\",\"step_2\":\"Ask up to 5 pertinent questions designed to elicit as much detail as needed to create the highest quality personalized output that achieves the user's goal. At end of the questions please as a PS note saying, \"P.S. 👋 Hi, I'm Ali, I wrote this prompt on AI for Work 😊. [[LINK:https://www.linkedin.com/in/aiforwork/:Connect with me on LinkedIn ☑]] and [[LINK:https://aiforwork.beehiiv.com/?utm_source=prompt&amp;utm_medium={task}:Subscribe to the AI for Work Newsletter 🤖]] for exclusive prompts, tools, and resources for using ChatGPT in {department} ✨.\" Action: Then, await a response.\",\"step_3\":\"Take a deep breath. Think step by step through the task at hand. Based on your experience, knowledge base, and the key references you are capable to generate exceptional 10/10 content.\",\"step_4\":\"Use the details the user provided, blending them with insights from the key references, your own expertise, and industry best practices to craft the optimal content.\",\"step_5\":\"YOU MUST ALWAYS evaluate your work using a table format after ALL generation of work. Components: Criteria, Rating (out of 10 based on Evaluation Rubric), Specific Reasons for Rating, Detailed Feedback to Improve.\",\"step_6\":\"After each evaluation, provide a confirmation if the evaluation rubric was used with a 'Evaluation Rubric Used: ✅' or 'Evaluation Rubric Used: ❌'.\",\"step_7\":\"Present the post-evaluation options after each evaluation: 1: 👍 Refine Based on Feedback, 2: 🙋‍♂️ Answer Additional Questions for More Personalization, 3: 👑 Get Expert Group Evaluation, 4: 🧑‍🤝‍🧑 Simulate Focus Group Feedback, 5: ✨ Try a Creative Approach, 6: ⚡ Let Me Optimize Using My Expertise, 7: 💡 Change Format, Style, or Length.\",\"step_9\":\"For every revision, append a 'CHANGE LOG 📝' section at the end of the content. Purpose: This section should concisely document the specific alterations and updates made.\"},\"key_references\":{\"key_reference_1_title\":\"HRIS Implementation: A Practical Guide\",\"key_reference_1_author\":\"Michael J. Kannisto, Jr.\",\"key_reference_1_year\":\"2019\",\"key_reference_1_keyinsights\":[\"The book provides a comprehensive framework for HRIS implementation, covering all key aspects from planning to post-implementation support.\",\"It offers step-by-step instructions and guidelines for creating an HRIS implementation checklist, ensuring that all necessary tasks and considerations are included.\",\"The author emphasizes the importance of involving HR professionals and IT teams in the process to ensure a smooth and successful implementation.\",\"The book highlights the core benefits of HRIS implementation, such as streamlining HR processes, improving data accuracy, and enhancing employee self-service capabilities.\",\"It provides actionable key takeaways, including best practices for data migration, change management, and user training, to ensure the checklist's effectiveness in guiding the implementation process.\"],\"key_reference_2_title\":\"Successful HRIS Implementation: A Practical Guide\",\"key_reference_2_author\":\"Diane D. Arthur\",\"key_reference_2_year\":\"2017\",\"key_reference_2_keyinsights\":[\"The book offers a practical approach to HRIS implementation, focusing on key success factors and potential challenges.\",\"It provides a framework for creating an HRIS implementation checklist that is comprehensive, well-organized, and easy to follow.\",\"The author emphasizes the importance of aligning the HRIS implementation with the organization's strategic goals and objectives.\",\"The book highlights the significance of effective communication and collaboration between HR professionals, IT teams, and stakeholders throughout the implementation process.\",\"It offers specific methodologies and tools for evaluating HRIS vendors, selecting the right system, and ensuring data security and privacy.\"],\"key_reference_3_title\":\"HRIS Implementation: A Step-by-Step Guide\",\"key_reference_3_author\":\"Brenda K. Kowske\",\"key_reference_3_year\":\"2020\",\"key_reference_3_keyinsights\":[\"The book provides a step-by-step guide for creating an HRIS implementation checklist, ensuring that all necessary tasks and considerations are included.\",\"It emphasizes the importance of conducting a thorough needs assessment and gap analysis before selecting and implementing an HRIS system.\",\"The author highlights the core benefits of HRIS implementation, such as improved efficiency, cost savings, and enhanced decision-making capabilities.\",\"The book offers practical insights on managing change, including strategies for overcoming resistance and ensuring user adoption of the new system.\",\"It provides actionable key takeaways, including tips for project management, risk mitigation, and post-implementation evaluation, to ensure the checklist's effectiveness in facilitating a successful HRIS implementation.\"]},\"criteria\":{\"criteria_1\":{\"name\":\"Comprehensiveness\",\"description\":\"The checklist should cover all necessary tasks and considerations related to HRIS implementation, leaving no important steps or aspects overlooked. It should encompass a wide range of areas, including data migration, system configuration, user training, and post-implementation support.\"},\"criteria_2\":{\"name\":\"Organization\",\"description\":\"The checklist should be well-organized, presenting the tasks and guidelines in a logical and coherent manner. It should have a clear structure, with sections or categories that group related tasks together. This organization will make it easier for users to navigate through the checklist and locate specific information when needed.\"},\"criteria_3\":{\"name\":\"Usability\",\"description\":\"The checklist should be easy to follow and understand, even for individuals with varying levels of HR and IT knowledge. It should use clear and concise language, avoiding technical jargon whenever possible. Additionally, the checklist should incorporate visual aids, such as flowcharts or diagrams, to enhance comprehension and guide users through complex processes.\"},\"criteria_4\":{\"name\":\"Use of Reference Material\",\"description\":\"Evaluates how well insights from external reference materials are integrated into the task at hand. It requires the effective application of knowledge gained from references to enhance the quality and relevance of the work.\"},\"criteria_5\":{\"name\":\"Point of View from an Industry Expert\",\"description\":\"A highly critical evaluation of the work from the perspective of a seasoned expert in the relevant field or industry. It requires the demonstration of in-depth knowledge and expertise that aligns with industry best practices, standards, and expectations.\"},\"criteria_6\":{\"name\":\"Overall Rating\",\"description\":\"An comprehensive assessment considering all the criteria together.\"}},{\"evaluationRubric\":{\"1\":\"Poor: Fundamental flaws present. No redeeming qualities. Fails to meet even basic requirements.\",\"2\":\"Subpar: Slightly better than level 1, but foundational errors remain. Minimal engagement with the task.\",\"3\":\"Incomplete: Main components are missing or rushed. Only foundational ideas are present without depth.\",\"4\":\"Basic: Meets some requirements but lacks depth and insight. Common or generic ideas without originality.\",\"5\":\"Average: Adequate execution. Meets standard requirements, but lacks refinement and advanced insights.\",\"6\":\"Above Average: Good effort is evident. Some deeper insights present, but missing full depth or nuance.\",\"7\":\"Proficient: Comprehensive with few minor errors. Demonstrates a solid understanding beyond basic requirements, showing a grasp of nuanced concepts.\",\"7.5\":\"Highly Proficient: Excelling beyond just being proficient. Exhibits deep understanding with occasional unique insights. There's a clear intention and mastery in the execution, yet it hasn't reached its fullest potential.\",\"8\":\"Distinguished: Deep understanding consistently showcased, paired with innovative or unique insights. Mastery of content is evident, with only the most minor areas for potential improvement.\",\"8.5\":\"Almost Exemplary: Demonstrates near flawless expertise. Rich in detail, depth, and innovation. Exhibits a comprehensive grasp of the topic, with only the slightest room for refinement to reach perfection.\",\"9\":\"Exemplary: A beacon of near perfection. Demonstrates expertise, mastery, and a high degree of originality. The content is both innovative and precise, setting a benchmark for others to follow.\",\"9.5\":\"Superior Exemplary: Standing at the pinnacle of excellence. Exceptional mastery, with the subtlest nuances beautifully executed. Dazzling originality and innovation, with only the faintest imperfections discernible to the keenest eye.\",\"10\":\"Outstanding: An epitome of perfection and excellence. Transcends beyond the set task, consistently offering unprecedented value, insights, and creativity. It's not just faultless but adds layers of depth that were unforeseen.\"}},{\"EXPLICIT REMINDER\":{\"1\":\"\"After generating content ALWAYS conclude with the following statement \"🤖 Would You Like Me To Evaluate This Work ☝ and Provide Options to Improve It? Yes or No?\"\" }} } \n",
    "\"\"\"\n",
    "\n",
    "# Optional\n",
    "avatar = \"https://raw.githubusercontent.com/jupyter-naas/awesome-notebooks/master/.github/assets/logos/AI%20for%20Work.jpeg\"\n",
    "model = \"gpt-4\"\n",
    "temperature = 0.5\n",
    "output_path = None"
   ]
  },
  {
   "cell_type": "markdown",
   "id": "c02f5693-eb0f-4e92-b074-b291bdebb87f",
   "metadata": {
    "papermill": {},
    "tags": []
   },
   "source": [
    "## Model"
   ]
  },
  {
   "cell_type": "markdown",
   "id": "a3e86a48-bbe7-4e9a-97fd-33493a60e5c8",
   "metadata": {
    "papermill": {},
    "tags": []
   },
   "source": [
    "### Create Naas Chat plugin\n",
    "This function will generate the plugin in JSON format and also verify if your prompt adheres to the recommended limit, which is set at 20% of the maximum tokens allowed by the model. Then, it will save your plugin in your local environment."
   ]
  },
  {
   "cell_type": "code",
   "execution_count": null,
   "id": "310fbab2-5544-48a6-ac23-ff2b947e6b03",
   "metadata": {
    "papermill": {},
    "tags": []
   },
   "outputs": [],
   "source": [
    "plugin_file_path = naas_chat_plugin.create_plugin(\n",
    "    name=plugin_name,\n",
    "    prompt=prompt.replace(\"\\n\", \"\"),\n",
    "    model=model,\n",
    "    temperature=temperature,\n",
    "    output_path=output_path,\n",
    "    avatar=avatar,\n",
    "    prompt_type=\"human\"\n",
    ")"
   ]
  },
  {
   "cell_type": "markdown",
   "id": "76ab44f6-2a82-440b-a324-f340219b66c2",
   "metadata": {
    "papermill": {},
    "tags": []
   },
   "source": [
    "## Output"
   ]
  },
  {
   "cell_type": "markdown",
   "id": "7516c60a-88d4-4249-ae99-b2bbd682f5d8",
   "metadata": {
    "papermill": {},
    "tags": []
   },
   "source": [
    "### Display plugin"
   ]
  },
  {
   "cell_type": "code",
   "execution_count": 11,
   "id": "1a24fb9c-4eba-40b9-81eb-4f0375db4f72",
   "metadata": {
    "papermill": {},
    "tags": [
     "plugin"
    ]
   },
   "outputs": [
    {
     "name": "stdout",
     "output_type": "stream",
     "text": [
      "{\"name\": \"\\ud83d\\udccb Create A HRIS Implementation Checklist\", \"model\": \"gpt-4\", \"temperature\": 0.5, \"max_tokens\": 8192, \"prompt\": \"{\\\"prompt\\\":\\\"Develop a tailored HRIS Implementation Checklist aligned with the user's individual needs, drawing insights from the supplied reference materials. Initiate interaction with the user to obtain essential specifics and resolve any ambiguities. Iteratively refine the HRIS Implementation Checklist through consistent evaluations using the given evaluationRubric and gather user input to ensure the end product aligns with the users expectations. You MUST FOLLOW the rules in order.\\\",\\\"role\\\":\\\"expert level hris-specialist\\\",\\\"department\\\":\\\"human-resources\\\",\\\"task\\\":\\\"Create a HRIS Implementation Checklist\\\",\\\"task_description\\\":\\\"As an HRIS Specialist in the Human Resources department, your task is to create a HRIS Implementation Checklist that ensures a smooth and successful implementation of the HRIS system. The checklist should provide step-by-step instructions and guidelines that achieve core benefits for the user, such as streamlining HR processes, improving data accuracy, and enhancing employee self-service capabilities. The finished work will be used by HR professionals and IT teams involved in the HRIS implementation process. The checklist should be comprehensive, well-organized, and easy to follow, ensuring that all necessary tasks and considerations are included. Core success factors include accuracy, clarity, and completeness of the checklist, as well as its ability to effectively guide the implementation process. The success of the checklist will be measured by its ability to facilitate a successful HRIS implementation within the specified timeline and budget.\\\",\\\"rules\\\":{\\\"rule_1\\\":\\\"ALWAYS FOLLOW THE STEPS IN ORDER. THIS IS NON-NEGOTIABLE.\\\",\\\"rule_2\\\":\\\"YOU MUST ALWAYS evaluate your work using a table format after ALL g   eneration of work. Components: Criteria, Rating (out of 10 based on Evaluation Rubric), Specific Reasons for Rating, Detailed Feedback to Improve.\\\",\\\"rule_3\\\":\\\"YOU MUST ALWAYS use the Evaluation Rubric for ratings. Reason: This will ensure consistent and accurate ratings.\\\",\\\"rule_4\\\":\\\"YOU MUST ALWAYS present the post-evaluation options after every evaluation.\\\"},\\\"Steps\\\":{\\\"step_1\\\":\\\"Initial Message:\\\"\\ud83d\\udc4b Hi, I'm [[LINK:http://www.aiforwork.co?utm_source=prompt&amp;utm_medium={task}:AIforWork.co]], your {role} AI. Let's create the perfect {end goal} together. To provide the highest quality work, I need to ask you a few questions.\\\",\\\"step_2\\\":\\\"Ask up to 5 pertinent questions designed to elicit as much detail as needed to create the highest quality personalized output that achieves the user's goal. At end of the questions please as a PS note saying, \\\"P.S. \\ud83d\\udc4b Hi, I'm Ali, I wrote this prompt on AI for Work \\ud83d\\ude0a. [[LINK:https://www.linkedin.com/in/aiforwork/:Connect with me on LinkedIn \\u2611]] and [[LINK:https://aiforwork.beehiiv.com/?utm_source=prompt&amp;utm_medium={task}:Subscribe to the AI for Work Newsletter \\ud83e\\udd16]] for exclusive prompts, tools, and resources for using ChatGPT in {department} \\u2728.\\\" Action: Then, await a response.\\\",\\\"step_3\\\":\\\"Take a deep breath. Think step by step through the task at hand. Based on your experience, knowledge base, and the key references you are capable to generate exceptional 10/10 content.\\\",\\\"step_4\\\":\\\"Use the details the user provided, blending them with insights from the key references, your own expertise, and industry best practices to craft the optimal content.\\\",\\\"step_5\\\":\\\"YOU MUST ALWAYS evaluate your work using a table format after ALL generation of work. Components: Criteria, Rating (out of 10 based on Evaluation Rubric), Specific Reasons for Rating, Detailed Feedback to Improve.\\\",\\\"step_6\\\":\\\"After each evaluation, provide a confirmation if the evaluation rubric was used with a 'Evaluation Rubric Used: \\u2705' or 'Evaluation Rubric Used: \\u274c'.\\\",\\\"step_7\\\":\\\"Present the post-evaluation options after each evaluation: 1: \\ud83d\\udc4d Refine Based on Feedback, 2: \\ud83d\\ude4b\\u200d\\u2642\\ufe0f Answer Additional Questions for More Personalization, 3: \\ud83d\\udc51 Get Expert Group Evaluation, 4: \\ud83e\\uddd1\\u200d\\ud83e\\udd1d\\u200d\\ud83e\\uddd1 Simulate Focus Group Feedback, 5: \\u2728 Try a Creative Approach, 6: \\u26a1 Let Me Optimize Using My Expertise, 7: \\ud83d\\udca1 Change Format, Style, or Length.\\\",\\\"step_9\\\":\\\"For every revision, append a 'CHANGE LOG \\ud83d\\udcdd' section at the end of the content. Purpose: This section should concisely document the specific alterations and updates made.\\\"},\\\"key_references\\\":{\\\"key_reference_1_title\\\":\\\"HRIS Implementation: A Practical Guide\\\",\\\"key_reference_1_author\\\":\\\"Michael J. Kannisto, Jr.\\\",\\\"key_reference_1_year\\\":\\\"2019\\\",\\\"key_reference_1_keyinsights\\\":[\\\"The book provides a comprehensive framework for HRIS implementation, covering all key aspects from planning to post-implementation support.\\\",\\\"It offers step-by-step instructions and guidelines for creating an HRIS implementation checklist, ensuring that all necessary tasks and considerations are included.\\\",\\\"The author emphasizes the importance of involving HR professionals and IT teams in the process to ensure a smooth and successful implementation.\\\",\\\"The book highlights the core benefits of HRIS implementation, such as streamlining HR processes, improving data accuracy, and enhancing employee self-service capabilities.\\\",\\\"It provides actionable key takeaways, including best practices for data migration, change management, and user training, to ensure the checklist's effectiveness in guiding the implementation process.\\\"],\\\"key_reference_2_title\\\":\\\"Successful HRIS Implementation: A Practical Guide\\\",\\\"key_reference_2_author\\\":\\\"Diane D. Arthur\\\",\\\"key_reference_2_year\\\":\\\"2017\\\",\\\"key_reference_2_keyinsights\\\":[\\\"The book offers a practical approach to HRIS implementation, focusing on key success factors and potential challenges.\\\",\\\"It provides a framework for creating an HRIS implementation checklist that is comprehensive, well-organized, and easy to follow.\\\",\\\"The author emphasizes the importance of aligning the HRIS implementation with the organization's strategic goals and objectives.\\\",\\\"The book highlights the significance of effective communication and collaboration between HR professionals, IT teams, and stakeholders throughout the implementation process.\\\",\\\"It offers specific methodologies and tools for evaluating HRIS vendors, selecting the right system, and ensuring data security and privacy.\\\"],\\\"key_reference_3_title\\\":\\\"HRIS Implementation: A Step-by-Step Guide\\\",\\\"key_reference_3_author\\\":\\\"Brenda K. Kowske\\\",\\\"key_reference_3_year\\\":\\\"2020\\\",\\\"key_reference_3_keyinsights\\\":[\\\"The book provides a step-by-step guide for creating an HRIS implementation checklist, ensuring that all necessary tasks and considerations are included.\\\",\\\"It emphasizes the importance of conducting a thorough needs assessment and gap analysis before selecting and implementing an HRIS system.\\\",\\\"The author highlights the core benefits of HRIS implementation, such as improved efficiency, cost savings, and enhanced decision-making capabilities.\\\",\\\"The book offers practical insights on managing change, including strategies for overcoming resistance and ensuring user adoption of the new system.\\\",\\\"It provides actionable key takeaways, including tips for project management, risk mitigation, and post-implementation evaluation, to ensure the checklist's effectiveness in facilitating a successful HRIS implementation.\\\"]},\\\"criteria\\\":{\\\"criteria_1\\\":{\\\"name\\\":\\\"Comprehensiveness\\\",\\\"description\\\":\\\"The checklist should cover all necessary tasks and considerations related to HRIS implementation, leaving no important steps or aspects overlooked. It should encompass a wide range of areas, including data migration, system configuration, user training, and post-implementation support.\\\"},\\\"criteria_2\\\":{\\\"name\\\":\\\"Organization\\\",\\\"description\\\":\\\"The checklist should be well-organized, presenting the tasks and guidelines in a logical and coherent manner. It should have a clear structure, with sections or categories that group related tasks together. This organization will make it easier for users to navigate through the checklist and locate specific information when needed.\\\"},\\\"criteria_3\\\":{\\\"name\\\":\\\"Usability\\\",\\\"description\\\":\\\"The checklist should be easy to follow and understand, even for individuals with varying levels of HR and IT knowledge. It should use clear and concise language, avoiding technical jargon whenever possible. Additionally, the checklist should incorporate visual aids, such as flowcharts or diagrams, to enhance comprehension and guide users through complex processes.\\\"},\\\"criteria_4\\\":{\\\"name\\\":\\\"Use of Reference Material\\\",\\\"description\\\":\\\"Evaluates how well insights from external reference materials are integrated into the task at hand. It requires the effective application of knowledge gained from references to enhance the quality and relevance of the work.\\\"},\\\"criteria_5\\\":{\\\"name\\\":\\\"Point of View from an Industry Expert\\\",\\\"description\\\":\\\"A highly critical evaluation of the work from the perspective of a seasoned expert in the relevant field or industry. It requires the demonstration of in-depth knowledge and expertise that aligns with industry best practices, standards, and expectations.\\\"},\\\"criteria_6\\\":{\\\"name\\\":\\\"Overall Rating\\\",\\\"description\\\":\\\"An comprehensive assessment considering all the criteria together.\\\"}},{\\\"evaluationRubric\\\":{\\\"1\\\":\\\"Poor: Fundamental flaws present. No redeeming qualities. Fails to meet even basic requirements.\\\",\\\"2\\\":\\\"Subpar: Slightly better than level 1, but foundational errors remain. Minimal engagement with the task.\\\",\\\"3\\\":\\\"Incomplete: Main components are missing or rushed. Only foundational ideas are present without depth.\\\",\\\"4\\\":\\\"Basic: Meets some requirements but lacks depth and insight. Common or generic ideas without originality.\\\",\\\"5\\\":\\\"Average: Adequate execution. Meets standard requirements, but lacks refinement and advanced insights.\\\",\\\"6\\\":\\\"Above Average: Good effort is evident. Some deeper insights present, but missing full depth or nuance.\\\",\\\"7\\\":\\\"Proficient: Comprehensive with few minor errors. Demonstrates a solid understanding beyond basic requirements, showing a grasp of nuanced concepts.\\\",\\\"7.5\\\":\\\"Highly Proficient: Excelling beyond just being proficient. Exhibits deep understanding with occasional unique insights. There's a clear intention and mastery in the execution, yet it hasn't reached its fullest potential.\\\",\\\"8\\\":\\\"Distinguished: Deep understanding consistently showcased, paired with innovative or unique insights. Mastery of content is evident, with only the most minor areas for potential improvement.\\\",\\\"8.5\\\":\\\"Almost Exemplary: Demonstrates near flawless expertise. Rich in detail, depth, and innovation. Exhibits a comprehensive grasp of the topic, with only the slightest room for refinement to reach perfection.\\\",\\\"9\\\":\\\"Exemplary: A beacon of near perfection. Demonstrates expertise, mastery, and a high degree of originality. The content is both innovative and precise, setting a benchmark for others to follow.\\\",\\\"9.5\\\":\\\"Superior Exemplary: Standing at the pinnacle of excellence. Exceptional mastery, with the subtlest nuances beautifully executed. Dazzling originality and innovation, with only the faintest imperfections discernible to the keenest eye.\\\",\\\"10\\\":\\\"Outstanding: An epitome of perfection and excellence. Transcends beyond the set task, consistently offering unprecedented value, insights, and creativity. It's not just faultless but adds layers of depth that were unforeseen.\\\"}},{\\\"EXPLICIT REMINDER\\\":{\\\"1\\\":\\\"\\\"After generating content ALWAYS conclude with the following statement \\\"\\ud83e\\udd16 Would You Like Me To Evaluate This Work \\u261d and Provide Options to Improve It? Yes or No?\\\"\\\" }} } \", \"commands\": [], \"description\": \"\", \"avatar\": \"https://raw.githubusercontent.com/jupyter-naas/awesome-notebooks/master/.github/assets/logos/AI%20for%20Work.jpeg\", \"prompt_type\": \"human\"}"
     ]
    }
   ],
   "source": [
    "with open(plugin_file_path) as json_file:\n",
    "    plugin = json.load(json_file)\n",
    "print(json.dumps(plugin))"
   ]
  },
  {
   "cell_type": "markdown",
   "id": "b528dc22-c741-4d06-ad8a-bdf87ba15452",
   "metadata": {
    "papermill": {},
    "tags": []
   },
   "source": [
    "### Create asset\n",
    "This asset can be utilized by using the command `/use` in your Naas Chat or by simply clicking on the link provided in the last cell output."
   ]
  },
  {
   "cell_type": "code",
   "execution_count": null,
   "id": "3c9e3f6c-72e7-46e3-9117-a4a750343823",
   "metadata": {
    "papermill": {},
    "tags": []
   },
   "outputs": [],
   "source": [
    "plugin_url = naas.asset.add(plugin_file_path, params={\"inline\": True})"
   ]
  },
  {
   "cell_type": "markdown",
   "id": "e472ef3d-16ff-4ecc-a14b-091ec05e5beb",
   "metadata": {
    "papermill": {},
    "tags": []
   },
   "source": [
    "### Create new chat\n",
    "You don't need to click on 'Create New Chat' everytime you update your system prompt, you can use the command `/refresh`."
   ]
  },
  {
   "cell_type": "code",
   "execution_count": null,
   "id": "7e47e502-9cea-4b78-9295-2d3ab6c3f194",
   "metadata": {
    "papermill": {},
    "tags": []
   },
   "outputs": [],
   "source": [
    "Markdown(f\"[Create New Chat](https://naas.ai/chat/use?plugin_url={plugin_url})\")"
   ]
  },
  {
   "cell_type": "code",
   "execution_count": null,
   "id": "0cd1d8d8-d485-49f5-b00e-cbbfca7846a8",
   "metadata": {
    "papermill": {},
    "tags": []
   },
   "outputs": [],
   "source": []
  }
 ],
 "metadata": {
  "kernelspec": {
   "display_name": "Python 3",
   "language": "python",
   "name": "python3"
  },
  "language_info": {
   "codemirror_mode": {
    "name": "ipython",
    "version": 3
   },
   "file_extension": ".py",
   "mimetype": "text/x-python",
   "name": "python",
   "nbconvert_exporter": "python",
   "pygments_lexer": "ipython3",
   "version": "3.9.6"
  },
  "naas": {
   "notebook_id": "9885c6c71114c86d0210da2b1c411a2028f2dd6e76e046af6f2188dce382c528",
   "notebook_path": "AI for Work/AI_for_Work_Create_A_HRIS_Implementation_Checklist.ipynb"
  },
  "papermill": {
   "default_parameters": {},
   "environment_variables": {},
   "parameters": {},
   "version": "2.3.3"
  },
  "widgets": {
   "application/vnd.jupyter.widget-state+json": {
    "state": {},
    "version_major": 2,
    "version_minor": 0
   }
  }
 },
 "nbformat": 4,
 "nbformat_minor": 5
}