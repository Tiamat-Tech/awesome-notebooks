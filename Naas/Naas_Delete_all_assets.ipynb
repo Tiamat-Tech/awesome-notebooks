{
 "cells": [
  {
   "cell_type": "markdown",
   "id": "9adc822f-0de4-4c31-9c49-e5d357ef99dc",
   "metadata": {
    "papermill": {},
    "tags": []
   },
   "source": [
    "<img width=\"8%\" alt=\"Naas.png\" src=\"https://raw.githubusercontent.com/jupyter-naas/awesome-notebooks/master/.github/assets/logos/Naas.png\" style=\"border-radius: 15%\">"
   ]
  },
  {
   "cell_type": "markdown",
   "id": "fcaeae35-a4ae-41fb-8da4-664ac3124302",
   "metadata": {
    "papermill": {},
    "tags": []
   },
   "source": [
    "# Naas - Delete all assets\n",
    "<a href=\"https://bit.ly/3JyWIk6\">Give Feedback</a> | <a href=\"https://github.com/jupyter-naas/awesome-notebooks/issues/new?assignees=&labels=bug&template=bug_report.md&title=Naas+-+Delete+all+assets:+Error+short+description\">Bug report</a>"
   ]
  },
  {
   "cell_type": "markdown",
   "id": "509485fb-7323-4958-85bf-64721163d3d7",
   "metadata": {
    "papermill": {},
    "tags": []
   },
   "source": [
    "**Tags:** #naas #assets #delete #snippet"
   ]
  },
  {
   "cell_type": "markdown",
   "id": "f406354c-8367-4c1b-92f0-40555b964c1a",
   "metadata": {
    "papermill": {},
    "tags": []
   },
   "source": [
    "**Author:** [Florent Ravenel](https://www.linkedin.com/in/florent-ravenel)"
   ]
  },
  {
   "cell_type": "markdown",
   "id": "288e0e75-de04-428b-88a2-748f36b4c44e",
   "metadata": {
    "papermill": {},
    "tags": []
   },
   "source": [
    "**Last update:** 2023-08-16 (Created: 2023-08-16)"
   ]
  },
  {
   "cell_type": "markdown",
   "id": "c8dd2509-cf86-4142-9173-6d22354ade30",
   "metadata": {
    "papermill": {},
    "tags": []
   },
   "source": [
    "**Description:** This notebook deletes all assets in Naas Lab."
   ]
  },
  {
   "cell_type": "markdown",
   "id": "79ca21d0-4d6e-47a2-a1ee-7899baea1590",
   "metadata": {
    "papermill": {},
    "tags": []
   },
   "source": [
    "**References:**\n",
    "- [Deleting Assets](https://site.naas.ai/docs/framework/jobs/asset/#deleting-assets)\n",
    "- [Naas Asset Documentation](https://site.naas.ai/docs/framework/jobs/asset)"
   ]
  },
  {
   "cell_type": "markdown",
   "id": "8880d1df-361d-4ecd-a535-54345f230e99",
   "metadata": {
    "papermill": {},
    "tags": []
   },
   "source": [
    "## Input"
   ]
  },
  {
   "cell_type": "markdown",
   "id": "129e1121-27b2-4777-9c5a-b01b29e4710c",
   "metadata": {
    "papermill": {},
    "tags": []
   },
   "source": [
    "### Import libraries"
   ]
  },
  {
   "cell_type": "code",
   "execution_count": 3,
   "id": "082a8950-8c7e-42c0-9512-a4eb52253106",
   "metadata": {
    "papermill": {},
    "tags": []
   },
   "outputs": [],
   "source": [
    "import naas\n",
    "import os"
   ]
  },
  {
   "cell_type": "markdown",
   "id": "edf74c54-11ea-4f44-a3fb-4cbd8947cec6",
   "metadata": {
    "papermill": {},
    "tags": []
   },
   "source": [
    "## Model"
   ]
  },
  {
   "cell_type": "markdown",
   "id": "bcd6d947-a016-4fde-97bd-90adda3b97e7",
   "metadata": {
    "papermill": {},
    "tags": []
   },
   "source": [
    "### List all assets"
   ]
  },
  {
   "cell_type": "code",
   "execution_count": 4,
   "id": "58ae88f0-1ef6-417b-bec4-34f351c7d3b8",
   "metadata": {
    "papermill": {},
    "tags": []
   },
   "outputs": [],
   "source": [
    "data = naas.asset.currents(raw=True)\n",
    "print(\"Assets fetched:\", len(data))"
   ]
  },
  {
   "cell_type": "markdown",
   "id": "0583410b-9860-4051-9f21-f7a000799701",
   "metadata": {
    "papermill": {},
    "tags": []
   },
   "source": [
    "## Output"
   ]
  },
  {
   "cell_type": "markdown",
   "id": "daee3229-303b-46fe-934b-6be433fb2511",
   "metadata": {
    "papermill": {},
    "tags": []
   },
   "source": [
    "### Delete all assets"
   ]
  },
  {
   "cell_type": "code",
   "execution_count": null,
   "id": "43b7a658-ee3e-40a4-a9ac-37b0b7673c1a",
   "metadata": {
    "papermill": {},
    "tags": []
   },
   "outputs": [],
   "source": [
    "for d in data:\n",
    "    file_name = d.get(\"path\")\n",
    "    file_path = f\"/home/ftp/{file_name}\"\n",
    "    \n",
    "    # Delele schedulers\n",
    "    naas.asset.delete(file_path)"
   ]
  }
 ],
 "metadata": {
  "kernelspec": {
   "display_name": "Python 3",
   "language": "python",
   "name": "python3"
  },
  "language_info": {
   "codemirror_mode": {
    "name": "ipython",
    "version": 3
   },
   "file_extension": ".py",
   "mimetype": "text/x-python",
   "name": "python",
   "nbconvert_exporter": "python",
   "pygments_lexer": "ipython3",
   "version": "3.9.6"
  },
  "naas": {
   "notebook_id": "ad17062d674c08958e8d52d2c391a621c91ce8ce90e01be930c7fec90dc78a84",
   "notebook_path": "Naas/Naas_Delete_all_assets.ipynb"
  },
  "papermill": {
   "default_parameters": {},
   "environment_variables": {},
   "parameters": {},
   "version": "2.4.0"
  },
  "widgets": {
   "application/vnd.jupyter.widget-state+json": {
    "state": {},
    "version_major": 2,
    "version_minor": 0
   }
  }
 },
 "nbformat": 4,
 "nbformat_minor": 5
}