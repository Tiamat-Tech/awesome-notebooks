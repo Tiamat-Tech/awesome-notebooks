{
 "cells": [
  {
   "cell_type": "markdown",
   "id": "abbf16c3-5fd9-4d2f-9997-ce0ef386ffd7",
   "metadata": {
    "papermill": {},
    "tags": []
   },
   "source": [
    "<img width=\"8%\" alt=\"Naas.png\" src=\"https://raw.githubusercontent.com/jupyter-naas/awesome-notebooks/master/.github/assets/logos/Naas.png\" style=\"border-radius: 15%\">"
   ]
  },
  {
   "cell_type": "markdown",
   "id": "98a7138e-26ef-4cb3-a0b0-8d152f66d7e3",
   "metadata": {
    "papermill": {},
    "tags": []
   },
   "source": [
    "# Naas - Add or Update Secret\n",
    "<a href=\"https://bit.ly/3JyWIk6\">Give Feedback</a> | <a href=\"https://github.com/jupyter-naas/awesome-notebooks/issues/new?assignees=&labels=bug&template=bug_report.md&title=Naas+-+Add+or+Update+Secret:+Error+short+description\">Bug report</a>"
   ]
  },
  {
   "cell_type": "markdown",
   "id": "b5675fb2-ddc4-44ca-94d4-30aae0e8d343",
   "metadata": {
    "papermill": {},
    "tags": []
   },
   "source": [
    "**Tags:** #naas #secret #add #update #operation #snippet"
   ]
  },
  {
   "cell_type": "markdown",
   "id": "3123006b-cf35-4067-8a2a-c66ea794a2bc",
   "metadata": {
    "papermill": {},
    "tags": []
   },
   "source": [
    "**Author:** [Florent Ravenel](https://www.linkedin.com/in/florent-ravenel)"
   ]
  },
  {
   "cell_type": "markdown",
   "id": "8729d2b4-bd1e-4eff-a66e-a08df3f2f99a",
   "metadata": {
    "papermill": {},
    "tags": []
   },
   "source": [
    "**Last update:** 2024-06-18 (Created: 2023-05-24)"
   ]
  },
  {
   "cell_type": "markdown",
   "id": "0b39429c-9853-4ea4-8a23-a48ac896e31f",
   "metadata": {
    "papermill": {},
    "tags": []
   },
   "source": [
    "**Description:** This notebook will show how to add or uppdate a secret to Naas."
   ]
  },
  {
   "cell_type": "markdown",
   "id": "a2b9da31-da6b-416b-b1d0-24911a5f8b29",
   "metadata": {
    "papermill": {},
    "tags": []
   },
   "source": [
    "**References:**\n",
    "- [Naas Documentation](https://docs.naas.ai/)\n",
    "- [Naas Secret Documentation](https://docs.naas.ai/features/secret)"
   ]
  },
  {
   "cell_type": "markdown",
   "id": "d3c73ec8-898d-4d9e-83db-15550a80af71",
   "metadata": {
    "papermill": {},
    "tags": []
   },
   "source": [
    "## Input"
   ]
  },
  {
   "cell_type": "markdown",
   "id": "3f337dd3-9e1b-44f8-a268-6951d37c7e7a",
   "metadata": {
    "papermill": {},
    "tags": []
   },
   "source": [
    "### Import libraries"
   ]
  },
  {
   "cell_type": "code",
   "execution_count": null,
   "id": "90760955-5133-4c1a-a43b-e3dee1a02f44",
   "metadata": {
    "papermill": {},
    "tags": []
   },
   "outputs": [],
   "source": [
    "import naas"
   ]
  },
  {
   "cell_type": "markdown",
   "id": "a69b4abe-e06d-4d14-a6e7-f2631ecdcff3",
   "metadata": {
    "papermill": {},
    "tags": []
   },
   "source": [
    "### Setup variables\n",
    "- `naas_secret_name`: Name of the secret to add\n",
    "- `naas_secret_value`: Value of the secret to add"
   ]
  },
  {
   "cell_type": "code",
   "execution_count": null,
   "id": "ddca8d9b-a981-4b11-82be-80ccd7d9b2b6",
   "metadata": {
    "papermill": {},
    "tags": []
   },
   "outputs": [],
   "source": [
    "naas_secret_name = \"YOUR_SECRET_NAME\"\n",
    "naas_secret_value = \"YOUR_SECRET_VALUE\""
   ]
  },
  {
   "cell_type": "markdown",
   "id": "844aaf24-d342-41e0-8d10-f5a751d6c8ae",
   "metadata": {
    "papermill": {},
    "tags": []
   },
   "source": [
    "## Model"
   ]
  },
  {
   "cell_type": "markdown",
   "id": "e7dc8faa-fc16-4d58-8181-43a26650674f",
   "metadata": {
    "papermill": {},
    "tags": []
   },
   "source": [
    "### Add or Update Secret"
   ]
  },
  {
   "cell_type": "code",
   "execution_count": null,
   "id": "f30c11f1-d027-4a13-86e3-49f408e46e6b",
   "metadata": {
    "papermill": {},
    "tags": []
   },
   "outputs": [],
   "source": [
    "naas.secret.add(naas_secret_name, naas_secret_value)"
   ]
  },
  {
   "cell_type": "markdown",
   "id": "2513ab2f-6ad6-467e-90d8-09812c132015",
   "metadata": {
    "papermill": {},
    "tags": []
   },
   "source": [
    "## Output"
   ]
  },
  {
   "cell_type": "markdown",
   "id": "5280ebb8-ce27-41ff-a73a-21e0701ec548",
   "metadata": {
    "papermill": {},
    "tags": []
   },
   "source": [
    "### Return your secret store in Naas\n",
    "It should get the value stored in your variable `naas_secret_value`"
   ]
  },
  {
   "cell_type": "code",
   "execution_count": null,
   "id": "40de06c9-967a-4ac9-886e-a1c943e42308",
   "metadata": {
    "papermill": {},
    "tags": []
   },
   "outputs": [],
   "source": [
    "naas.secret.get(naas_secret_name)"
   ]
  },
  {
   "cell_type": "markdown",
   "id": "466f8c5f-18cb-419f-bf40-fdcb9f48796c",
   "metadata": {
    "papermill": {},
    "tags": []
   },
   "source": [
    " "
   ]
  },
  {
   "cell_type": "code",
   "execution_count": null,
   "id": "a366c627-d2d2-43bc-b6a0-40cb24830aa8",
   "metadata": {},
   "outputs": [],
   "source": []
  }
 ],
 "metadata": {
  "kernelspec": {
   "display_name": "Python 3",
   "language": "python",
   "name": "python3"
  },
  "language_info": {
   "codemirror_mode": {
    "name": "ipython",
    "version": 3
   },
   "file_extension": ".py",
   "mimetype": "text/x-python",
   "name": "python",
   "nbconvert_exporter": "python",
   "pygments_lexer": "ipython3",
   "version": "3.9.6"
  },
  "naas": {
   "notebook_id": "9881af429a735a74f8b198299ac81dd7aa1a9f1499269d69dc4673560f47dc67",
   "notebook_path": "Naas/Naas_Add_or_Update_Secret.ipynb"
  },
  "papermill": {
   "default_parameters": {},
   "environment_variables": {},
   "parameters": {},
   "version": "2.4.0"
  },
  "widgets": {
   "application/vnd.jupyter.widget-state+json": {
    "state": {},
    "version_major": 2,
    "version_minor": 0
   }
  }
 },
 "nbformat": 4,
 "nbformat_minor": 5
}
