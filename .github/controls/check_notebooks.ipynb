{
 "cells": [
  {
   "attachments": {},
   "cell_type": "markdown",
   "id": "6933ee71-8013-4aa8-9527-6a567845e10e",
   "metadata": {},
   "source": [
    "<img width=\"10%\" alt=\"Naas\" src=\"https://landen.imgix.net/jtci2pxwjczr/assets/5ice39g4.png?w=160\"/>"
   ]
  },
  {
   "attachments": {},
   "cell_type": "markdown",
   "id": "d446a1b5-92be-4fb5-b732-3674fb19ccec",
   "metadata": {},
   "source": [
    "# CI/CD - Make sure all notebooks respects our format policy"
   ]
  },
  {
   "attachments": {},
   "cell_type": "markdown",
   "id": "21e72fae-2204-42c3-b0eb-3885fa38a589",
   "metadata": {},
   "source": [
    "**Tags:** #naas"
   ]
  },
  {
   "attachments": {},
   "cell_type": "markdown",
   "id": "a65dcb87-29c1-4092-a6dd-29e3ce143bba",
   "metadata": {},
   "source": [
    "**Author:** [Maxime Jublou](https://www.linkedin.com/in/maximejublou/)"
   ]
  },
  {
   "attachments": {},
   "cell_type": "markdown",
   "id": "deef151b-b723-46ac-ac41-1c19d29e1fc6",
   "metadata": {},
   "source": [
    "# Input"
   ]
  },
  {
   "attachments": {},
   "cell_type": "markdown",
   "id": "59b780f5-f3b8-416f-bb16-1119a40dac28",
   "metadata": {},
   "source": [
    "### Import libraries"
   ]
  },
  {
   "cell_type": "code",
   "execution_count": null,
   "id": "3790eff8-2b9b-4947-bda5-5f15b0f17e29",
   "metadata": {
    "tags": [
     "imports"
    ]
   },
   "outputs": [],
   "source": [
    "import json\n",
    "import glob\n",
    "from rich import print\n",
    "import pydash\n",
    "import re"
   ]
  },
  {
   "attachments": {},
   "cell_type": "markdown",
   "id": "0e4f6797-945a-4be4-9217-f9c11794acea",
   "metadata": {},
   "source": [
    "## Model"
   ]
  },
  {
   "attachments": {},
   "cell_type": "markdown",
   "id": "3c6d9e20-03c5-4522-90ea-36b784d2c03d",
   "metadata": {},
   "source": [
    "### Utility functions\n",
    "\n",
    "These functions are used by other to not repeat ourselves."
   ]
  },
  {
   "cell_type": "code",
   "execution_count": null,
   "id": "b0b65295-c14d-492a-a9a4-3a3da6da93a9",
   "metadata": {},
   "outputs": [],
   "source": [
    "def tag_exists(tagname, cells):\n",
    "    for cell in cells:\n",
    "        if tagname in pydash.get(cell, 'metadata.tags', []):\n",
    "            return True\n",
    "    return False\n",
    "\n",
    "def regexp_match(regex, string):\n",
    "    matches = re.finditer(regex, string, re.MULTILINE)\n",
    "    return len(list(matches)) >= 1\n",
    "\n",
    "def check_regexp(cells, regex, source):\n",
    "    cell_str = pydash.get(cells, source, '')\n",
    "    return regexp_match(regex, cell_str)\n",
    "\n",
    "def check_title_exists(cells, title):\n",
    "    for cell in cells:\n",
    "        if pydash.get(cell, 'cell_type') == 'markdown' and regexp_match(rf\"^## *{title}\", pydash.get(cell, 'source[0]')):\n",
    "            return True\n",
    "    return False"
   ]
  },
  {
   "attachments": {},
   "cell_type": "markdown",
   "id": "7ce1fed7-aac9-442b-a77e-52a062d19ce7",
   "metadata": {},
   "source": [
    "### Check functions\n",
    "\n",
    "This functions are used to check if a notebook contains the rights cells with proper formatting."
   ]
  },
  {
   "cell_type": "code",
   "execution_count": null,
   "id": "afafe8a4-572a-427f-9be6-67dca1290391",
   "metadata": {
    "tags": []
   },
   "outputs": [],
   "source": [
    "def check_naas_logo(cells):\n",
    "    logo_content = '<img width=\"10%\" alt=\"Naas\" src=\"https://landen.imgix.net/jtci2pxwjczr/assets/5ice39g4.png?w=160\"/>'\n",
    "    if pydash.get(cells, '[0].cell_type') == 'markdown' and pydash.get(cells, '[0].source[0]', '').startswith(logo_content):\n",
    "        return (True, '')\n",
    "    return (False, f'''\n",
    "    Requirements:\n",
    "        - Cell number: 1\n",
    "        - Cell type: Markdown\n",
    "        - Shape: {logo_content}\n",
    "    ''')\n",
    "\n",
    "def check_title_match_regexp(cells):\n",
    "    return (check_regexp(cells, r\"markdown\", '[1].cell_type') and check_regexp(cells, r\"^#.*-.*\", '[1].source[0]'), '''\n",
    "    Requirements:\n",
    "        - Cell number: 2\n",
    "        - Cell type: Markdown\n",
    "        - Shape: \"# something - some other thing\"\n",
    "    ''')\n",
    "\n",
    "def check_tool_tags(cells):\n",
    "    return (check_regexp(cells, r\"markdown\", '[2].cell_type') and check_regexp(cells, r\"^\\*\\*Tags:\\*\\* (#[1-9,a-z,A-Z]*( *|$))*\", '[2].source[0]'), '''\n",
    "    Requirements:\n",
    "        - Cell number: 3\n",
    "        - Cell type: Markdown\n",
    "        - Shape: \"**Tags:** #atLeastOneTool\"\n",
    "    ''')\n",
    "\n",
    "def check_author(cells):\n",
    "    return (check_regexp(cells, r\"markdown\", '[3].cell_type') and check_regexp(cells, r\"^\\*\\*Author:\\*\\* *.*\", '[3].source[0]'), '''\n",
    "    Requirements:\n",
    "        - Cell number: 4\n",
    "        - Cell type: Markdown\n",
    "        - Shape: \"**Author:** At least one author name\"\n",
    "    ''')\n",
    "\n",
    "def check_input_title_exists(cells):\n",
    "    return (check_title_exists(cells, 'Input'), '''\n",
    "    Requirements:\n",
    "        - Cell number: Any\n",
    "        - Cell type: Markdown\n",
    "        - Shape: \"## Input\"\n",
    "    ''')\n",
    "\n",
    "def check_model_title_exists(cells):\n",
    "    return (check_title_exists(cells, 'Model'), '''\n",
    "    Requirements:\n",
    "        - Cell number: Any\n",
    "        - Cell type: Markdown\n",
    "        - Shape: \"## Model\"\n",
    "    ''')\n",
    "\n",
    "def check_output_title_exists(cells):\n",
    "    return (check_title_exists(cells, 'Output'), '''\n",
    "    Requirements:\n",
    "        - Cell number: Any\n",
    "        - Cell type: Markdown\n",
    "        - Shape: \"## Output\"\n",
    "    ''')"
   ]
  },
  {
   "attachments": {},
   "cell_type": "markdown",
   "id": "40df42a5-78f7-4542-8df8-ca3e1c6fd166",
   "metadata": {},
   "source": [
    "## Output"
   ]
  },
  {
   "cell_type": "code",
   "execution_count": null,
   "id": "f46b15cf-8e4c-4af5-bd6b-d84b2fa05535",
   "metadata": {
    "tags": []
   },
   "outputs": [],
   "source": [
    "got_errors = False\n",
    "error_counter = 0\n",
    "for file in glob.glob('../../**/*.ipynb', recursive=True):\n",
    "    # Do not check notebooks in .github or at the root of the project.\n",
    "    if '.github' in file or len(file.split('/')) == 3:\n",
    "        continue\n",
    "\n",
    "    print(f\"Analyzing {file}\")\n",
    "    notebook = json.load(open(file))\n",
    "    cells = notebook.get('cells')\n",
    "    \n",
    "    filename = \"[dark_orange]\" + file.replace(\"../../\", \"\") + \"[/dark_orange]\"\n",
    "    outputs = [f'Errors found in: {filename}']\n",
    "    should_display_debug = False\n",
    "    \n",
    "    for checkf in [\n",
    "        check_title_match_regexp,\n",
    "        check_tool_tags,\n",
    "        check_author,\n",
    "        check_input_title_exists,\n",
    "        check_model_title_exists,\n",
    "        check_output_title_exists]: \n",
    "        \n",
    "        result, msg = checkf(cells)\n",
    "        if result is False:\n",
    "            should_display_debug = True\n",
    "        status_msg = \"[bright_green]OK[/bright_green]\" if result is True else f\"[bright_red]KO {msg}[/bright_red]\"\n",
    "        outputs.append(f'{checkf.__name__} ... {status_msg}')\n",
    "        \n",
    "    if should_display_debug:\n",
    "        got_errors = True\n",
    "        error_counter += 1\n",
    "        for msg in outputs:\n",
    "            print(msg)\n",
    "        print(\"\\n\")\n",
    "\n",
    "if got_errors == True:\n",
    "    print(f'[bright_red]You have {error_counter} notebooks having errors!')\n",
    "    exit(1)"
   ]
  },
  {
   "cell_type": "code",
   "execution_count": null,
   "id": "adf6ad9e-4f89-4b64-910b-b9c57f0e3918",
   "metadata": {},
   "outputs": [],
   "source": []
  }
 ],
 "metadata": {
  "kernelspec": {
   "display_name": "Python 3 (ipykernel)",
   "language": "python",
   "name": "python3"
  },
  "language_info": {
   "codemirror_mode": {
    "name": "ipython",
    "version": 3
   },
   "file_extension": ".py",
   "mimetype": "text/x-python",
   "name": "python",
   "nbconvert_exporter": "python",
   "pygments_lexer": "ipython3",
   "version": "3.9.7"
  },
  "toc-showtags": false
 },
 "nbformat": 4,
 "nbformat_minor": 5
}
