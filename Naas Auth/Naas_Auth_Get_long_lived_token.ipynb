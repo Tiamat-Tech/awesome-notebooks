{
 "cells": [
  {
   "cell_type": "markdown",
   "id": "6627b3e6-5a15-4ce1-9358-4a98b1419795",
   "metadata": {
    "papermill": {},
    "tags": []
   },
   "source": [
    "<img width=\"8%\" alt=\"Naas Auth.png\" src=\"https://raw.githubusercontent.com/jupyter-naas/awesome-notebooks/master/.github/assets/logos/Naas%20Auth.png\" style=\"border-radius: 15%\">"
   ]
  },
  {
   "cell_type": "markdown",
   "id": "20763735-eac2-4f29-8d4f-a94946ea762e",
   "metadata": {
    "papermill": {},
    "tags": []
   },
   "source": [
    "# Naas Auth - Get long lived token\n",
    "<a href=\"https://bit.ly/3JyWIk6\">Give Feedback</a> | <a href=\"https://github.com/jupyter-naas/awesome-notebooks/issues/new?assignees=&labels=bug&template=bug_report.md&title=Naas+Auth+-+Get+long+lived+token:+Error+short+description\">Bug report</a>"
   ]
  },
  {
   "cell_type": "markdown",
   "id": "c6f0fe5f-5db6-41dd-89fa-ef4113a73e00",
   "metadata": {
    "papermill": {},
    "tags": []
   },
   "source": [
    "**Tags:** #naas #auth #get #token"
   ]
  },
  {
   "cell_type": "markdown",
   "id": "8dd1614c-debd-4323-b16e-0625dd3d7884",
   "metadata": {
    "papermill": {},
    "tags": []
   },
   "source": [
    "**Author:** [Florent Ravenel](https://www.linkedin.com/in/florent-ravenel/)"
   ]
  },
  {
   "cell_type": "markdown",
   "id": "53bde611-15c7-446c-81ce-2442c823c47b",
   "metadata": {
    "papermill": {},
    "tags": []
   },
   "source": [
    "**Last update:** 2024-02-29 (Created: 2024-02-29)"
   ]
  },
  {
   "cell_type": "markdown",
   "id": "adceb20b-5fc0-4a51-a39b-25da17e58874",
   "metadata": {
    "papermill": {},
    "tags": []
   },
   "source": [
    "**Description:** This notebook demonstrates how to get a long lived token from Naas Auth API."
   ]
  },
  {
   "cell_type": "markdown",
   "id": "16efbc8a-4e18-484c-9173-2fa8dad0d774",
   "metadata": {
    "papermill": {},
    "tags": []
   },
   "source": [
    "**References:**\n",
    "- [Naas Official Website](https://naas.ai/)"
   ]
  },
  {
   "cell_type": "markdown",
   "id": "1058ec08-f2ed-483a-bbf4-663deee6b7e2",
   "metadata": {
    "papermill": {},
    "tags": []
   },
   "source": [
    "## Input"
   ]
  },
  {
   "cell_type": "markdown",
   "id": "2f877bea-4bab-44df-929c-c943dd778e4c",
   "metadata": {
    "papermill": {},
    "tags": []
   },
   "source": [
    "### Import libraries"
   ]
  },
  {
   "cell_type": "code",
   "execution_count": null,
   "id": "b3e24479-5981-48b5-a41a-3b542d89d6d3",
   "metadata": {
    "papermill": {},
    "tags": []
   },
   "outputs": [],
   "source": [
    "import requests\n",
    "import naas\n",
    "import os"
   ]
  },
  {
   "cell_type": "markdown",
   "id": "dc0235d0-0df3-4de1-8231-8164a3292869",
   "metadata": {
    "papermill": {},
    "tags": []
   },
   "source": [
    "### Setup variables\n",
    "- `jup_token`: Get jupyter token from Naas Lab account."
   ]
  },
  {
   "cell_type": "code",
   "execution_count": null,
   "id": "91304bb1-7b9c-459f-a889-6f26d5e7c6cc",
   "metadata": {
    "papermill": {},
    "tags": []
   },
   "outputs": [],
   "source": [
    "jup_token = os.environ.get('JUPYTERHUB_API_TOKEN')"
   ]
  },
  {
   "cell_type": "markdown",
   "id": "838d4dc4-0e53-42d7-8ce8-9bedb8fb5bb0",
   "metadata": {
    "papermill": {},
    "tags": []
   },
   "source": [
    "## Model"
   ]
  },
  {
   "cell_type": "markdown",
   "id": "405c6510-a68c-4f55-ad0c-80bdcff0b216",
   "metadata": {
    "papermill": {},
    "tags": []
   },
   "source": [
    "### Get long lived token"
   ]
  },
  {
   "cell_type": "code",
   "execution_count": null,
   "id": "c4eb6895-7693-453b-a59b-09e114e565a8",
   "metadata": {
    "papermill": {},
    "tags": []
   },
   "outputs": [],
   "source": [
    "def get_long_lived_token(jup_token):\n",
    "    url = f\"https://auth.naas.ai/bearer/jupyterhub/longlived?token={jup_token}\"\n",
    "    res = requests.get(url)\n",
    "    res.raise_for_status()\n",
    "    long_lived_token = res.json()['access_token']\n",
    "    return long_lived_token\n",
    "\n",
    "long_lived_token = get_long_lived_token(jup_token)"
   ]
  },
  {
   "cell_type": "markdown",
   "id": "50441b37-a89c-4fee-8cac-0317405ff007",
   "metadata": {
    "papermill": {},
    "tags": []
   },
   "source": [
    "## Output"
   ]
  },
  {
   "cell_type": "markdown",
   "id": "7a72c52c-2f6d-4acb-8579-3ea05fb16b87",
   "metadata": {
    "papermill": {},
    "tags": []
   },
   "source": [
    "### Display result"
   ]
  },
  {
   "cell_type": "code",
   "execution_count": null,
   "id": "bdf728fe-0ccb-44d2-87ef-4ac2e1e9b098",
   "metadata": {
    "papermill": {},
    "tags": []
   },
   "outputs": [],
   "source": [
    "long_lived_token = naas.secret.get('NAAS_API_TOKEN')\n",
    "if not long_lived_token:\n",
    "    long_lived_token = get_long_lived_token(jup_token)\n",
    "    # Add Naas Chat long lived token to Naas secret\n",
    "    if long_lived_token:\n",
    "        naas.secret.add('NAAS_API_TOKEN', long_lived_token)"
   ]
  },
  {
   "cell_type": "code",
   "execution_count": null,
   "id": "5098da2b-bad5-4ee7-bbf5-753f5a9546e8",
   "metadata": {
    "papermill": {},
    "tags": []
   },
   "outputs": [],
   "source": []
  }
 ],
 "metadata": {
  "kernelspec": {
   "display_name": "Python 3",
   "language": "python",
   "name": "python3"
  },
  "language_info": {
   "codemirror_mode": {
    "name": "ipython",
    "version": 3
   },
   "file_extension": ".py",
   "mimetype": "text/x-python",
   "name": "python",
   "nbconvert_exporter": "python",
   "pygments_lexer": "ipython3",
   "version": "3.9.6"
  },
  "naas": {
   "notebook_id": "03dda8a157b8704318e3c8e63dcb926a4181fa7a9ab74ef4f7b823414647a8af",
   "notebook_path": "Naas Auth/Naas_Auth_Get_long_lived_token.ipynb"
  },
  "papermill": {
   "default_parameters": {},
   "environment_variables": {},
   "parameters": {},
   "version": "2.5.0"
  },
  "widgets": {
   "application/vnd.jupyter.widget-state+json": {
    "state": {},
    "version_major": 2,
    "version_minor": 0
   }
  }
 },
 "nbformat": 4,
 "nbformat_minor": 5
}