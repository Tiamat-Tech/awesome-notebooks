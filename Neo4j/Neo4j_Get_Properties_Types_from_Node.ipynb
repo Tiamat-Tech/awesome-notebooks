{
 "cells": [
  {
   "cell_type": "markdown",
   "id": "143c505b",
   "metadata": {
    "execution": {
     "iopub.execute_input": "2021-02-23T14:22:16.610471Z",
     "iopub.status.busy": "2021-02-23T14:22:16.610129Z",
     "iopub.status.idle": "2021-02-23T14:22:16.627784Z",
     "shell.execute_reply": "2021-02-23T14:22:16.626866Z",
     "shell.execute_reply.started": "2021-02-23T14:22:16.610384Z"
    },
    "papermill": {},
    "tags": []
   },
   "source": [
    "<img width=\"8%\" alt=\"Neo4j.png\" src=\"https://raw.githubusercontent.com/jupyter-naas/awesome-notebooks/master/.github/assets/logos/Neo4j.png\" style=\"border-radius: 15%\">"
   ]
  },
  {
   "cell_type": "markdown",
   "id": "bafb077c",
   "metadata": {
    "papermill": {},
    "tags": []
   },
   "source": [
    "# Neo4j - Get Properties Types from Node\n",
    "<a href=\"https://bit.ly/3JyWIk6\">Give Feedback</a> | <a href=\"https://github.com/jupyter-naas/awesome-notebooks/issues/new?assignees=&labels=bug&template=bug_report.md&title=Neo4j+-+Get+Properties+Types+from+Node:+Error+short+description\">Bug report</a>"
   ]
  },
  {
   "cell_type": "markdown",
   "id": "cb407ea8",
   "metadata": {
    "papermill": {},
    "tags": []
   },
   "source": [
    "**Tags:** #neo4j #knowledgegraph #node #snippet"
   ]
  },
  {
   "cell_type": "markdown",
   "id": "3fa65002",
   "metadata": {
    "papermill": {},
    "tags": []
   },
   "source": [
    "**Author:** [Florent Ravenel](https://www.linkedin.com/in/florent-ravenel)"
   ]
  },
  {
   "cell_type": "markdown",
   "id": "c7851585",
   "metadata": {
    "papermill": {},
    "tags": []
   },
   "source": [
    "**Last update:** 2024-05-22 (Created: 2024-05-22)"
   ]
  },
  {
   "cell_type": "markdown",
   "id": "188a2da0",
   "metadata": {
    "papermill": {},
    "tags": []
   },
   "source": [
    "**Description:** This notebook retrieve the types of properties from a given node in Neo4j."
   ]
  },
  {
   "cell_type": "markdown",
   "id": "498e71dd",
   "metadata": {
    "papermill": {},
    "tags": []
   },
   "source": [
    "## Input"
   ]
  },
  {
   "cell_type": "markdown",
   "id": "d2366b9a",
   "metadata": {
    "papermill": {},
    "tags": []
   },
   "source": [
    "### Import libraries"
   ]
  },
  {
   "cell_type": "code",
   "execution_count": null,
   "id": "61e8eabc-4c9f-4314-bc1e-3c09b4c3266c",
   "metadata": {
    "papermill": {},
    "tags": []
   },
   "outputs": [],
   "source": [
    "from neo4j import GraphDatabase"
   ]
  },
  {
   "cell_type": "markdown",
   "id": "4acf67a5",
   "metadata": {
    "papermill": {},
    "tags": []
   },
   "source": [
    "### Setup variables\n",
    "- `url`: URL of the database\n",
    "- `user`: Username for the database\n",
    "- `password`: Password for the database\n",
    "- `node_type`: Type of nodes to retrieve properties from"
   ]
  },
  {
   "cell_type": "code",
   "execution_count": null,
   "id": "e98a53eb",
   "metadata": {
    "papermill": {},
    "tags": []
   },
   "outputs": [],
   "source": [
    "url = \"bolt://localhost:7687\"\n",
    "user = \"neo4j\"\n",
    "password = \"password\"\n",
    "node_type = \"Person\"  # The type of nodes to retrieve properties from"
   ]
  },
  {
   "cell_type": "markdown",
   "id": "f91368ae",
   "metadata": {
    "papermill": {},
    "tags": []
   },
   "source": [
    "## Model"
   ]
  },
  {
   "cell_type": "markdown",
   "id": "f1fa2ed4-5944-41e1-99f9-0fb2288e0683",
   "metadata": {
    "papermill": {},
    "tags": []
   },
   "source": [
    "### Connect to GraphDatabase"
   ]
  },
  {
   "cell_type": "code",
   "execution_count": null,
   "id": "c4f3bf28-1661-4a17-98c0-02140aead632",
   "metadata": {
    "papermill": {},
    "tags": []
   },
   "outputs": [],
   "source": [
    "driver = GraphDatabase.driver(url, auth=(username, password))"
   ]
  },
  {
   "cell_type": "markdown",
   "id": "6223fb35",
   "metadata": {
    "papermill": {},
    "tags": []
   },
   "source": [
    "### Retrieve the types of properties from given nodes in Neo4j"
   ]
  },
  {
   "cell_type": "code",
   "execution_count": null,
   "id": "c164f0e3-3c2d-4c5d-ae5c-71df38cb4223",
   "metadata": {
    "papermill": {},
    "tags": []
   },
   "outputs": [],
   "source": [
    "# Function to retrieve the types of properties from given nodes in Neo4j\n",
    "def get_property_types(tx, node_type):\n",
    "    cypher_query = f\"MATCH (n:{node_type}) RETURN properties(n) AS properties LIMIT 1\"\n",
    "    result = tx.run(cypher_query)\n",
    "    # Get the first record\n",
    "    record = result.single()\n",
    "    # Get the properties from the record\n",
    "    properties = record['properties']\n",
    "    # Get the types of the properties\n",
    "    property_types = {key: type(value).__name__ for key, value in properties.items()}\n",
    "    return property_types\n",
    "\n",
    "# Use the driver to create a session and run the function\n",
    "with driver.session() as session:\n",
    "    property_types = session.execute_read(get_property_types, node_type)"
   ]
  },
  {
   "cell_type": "markdown",
   "id": "8dfea0ee",
   "metadata": {
    "papermill": {},
    "tags": []
   },
   "source": [
    "## Output"
   ]
  },
  {
   "cell_type": "markdown",
   "id": "a4fbaf59-fb42-4814-a176-e968ea7a4c94",
   "metadata": {
    "papermill": {},
    "tags": []
   },
   "source": [
    "### Display result"
   ]
  },
  {
   "cell_type": "code",
   "execution_count": null,
   "id": "9f2697ee-8545-48e3-b611-70d5969718d1",
   "metadata": {
    "papermill": {},
    "tags": []
   },
   "outputs": [],
   "source": [
    "print(property_types)"
   ]
  }
 ],
 "metadata": {
  "kernelspec": {
   "display_name": "Python 3",
   "language": "python",
   "name": "python3"
  },
  "language_info": {
   "codemirror_mode": {
    "name": "ipython",
    "version": 3
   },
   "file_extension": ".py",
   "mimetype": "text/x-python",
   "name": "python",
   "nbconvert_exporter": "python",
   "pygments_lexer": "ipython3",
   "version": "3.9.6"
  },
  "naas": {
   "notebook_id": "59cab25146c2f04a1e37bb44624a6aadf9229f966adce1304ade90ce942d16e8",
   "notebook_path": "Neo4j/Neo4j_Get_Properties_Types_from_Node.ipynb"
  },
  "papermill": {
   "default_parameters": {},
   "environment_variables": {},
   "parameters": {},
   "version": "2.6.0"
  }
 },
 "nbformat": 4,
 "nbformat_minor": 5
}