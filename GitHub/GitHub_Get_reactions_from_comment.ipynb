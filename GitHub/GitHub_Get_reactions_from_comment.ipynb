{
 "cells": [
  {
   "cell_type": "markdown",
   "id": "84cadd0c",
   "metadata": {
    "papermill": {},
    "tags": []
   },
   "source": [
    "<img width=\"8%\" alt=\"GitHub.png\" src=\"https://raw.githubusercontent.com/jupyter-naas/awesome-notebooks/master/.github/assets/logos/GitHub.png\" style=\"border-radius: 15%\">"
   ]
  },
  {
   "cell_type": "markdown",
   "id": "0d43ed38",
   "metadata": {
    "papermill": {},
    "tags": []
   },
   "source": [
    "# GitHub - Get reactions from comment\n",
    "<a href=\"https://bit.ly/3JyWIk6\">Give Feedback</a> | <a href=\"https://github.com/jupyter-naas/awesome-notebooks/issues/new?assignees=&labels=bug&template=bug_report.md&title=GitHub+-+Get+reactions+from+comment:+Error+short+description\">Bug report</a>"
   ]
  },
  {
   "cell_type": "markdown",
   "id": "d9313642",
   "metadata": {
    "papermill": {},
    "tags": []
   },
   "source": [
    "**Tags:** #github #reactions #automation #snippet"
   ]
  },
  {
   "cell_type": "markdown",
   "id": "8faf487c",
   "metadata": {
    "papermill": {},
    "tags": []
   },
   "source": [
    "**Author:** [Varsha Kumar](https://www.linkedin.com/in/varsha-kumar-590466305/)"
   ]
  },
  {
   "cell_type": "markdown",
   "id": "3dba1c73-548d-4008-82ad-fdb2cb376771",
   "metadata": {
    "papermill": {},
    "tags": []
   },
   "source": [
    "**Last update:** 2024-06-05 (Created: 2024-06-04)"
   ]
  },
  {
   "cell_type": "markdown",
   "id": "naas-description",
   "metadata": {
    "papermill": {},
    "tags": [
     "description"
    ]
   },
   "source": [
    "**Description:** This notebook allows users to retrieve the reactions from a comment."
   ]
  },
  {
   "cell_type": "markdown",
   "id": "7412988b",
   "metadata": {
    "papermill": {},
    "tags": []
   },
   "source": [
    "## Input"
   ]
  },
  {
   "cell_type": "markdown",
   "id": "b483a140",
   "metadata": {
    "papermill": {},
    "tags": []
   },
   "source": [
    "### Import libraries"
   ]
  },
  {
   "cell_type": "code",
   "execution_count": null,
   "id": "353ef79c",
   "metadata": {
    "papermill": {},
    "tags": []
   },
   "outputs": [],
   "source": [
    "import requests\n",
    "import pandas as pd\n",
    "import naas_python"
   ]
  },
  {
   "cell_type": "markdown",
   "id": "68b48858",
   "metadata": {
    "papermill": {},
    "tags": []
   },
   "source": [
    "### Setup variables\n",
    "- `github_token`: personal token creates\n",
    "- `reaction_url`: link to the comments reaction data"
   ]
  },
  {
   "cell_type": "code",
   "execution_count": null,
   "id": "01647a55",
   "metadata": {
    "papermill": {},
    "tags": []
   },
   "outputs": [],
   "source": [
    "github_token = naas_python.secret.get(\"GITHUB_TOKEN\").value\n",
    "reactions_url = \"https://api.github.com/repos/pola-rs/polars/issues/comments/2144455441/reactions\""
   ]
  },
  {
   "cell_type": "markdown",
   "id": "93347abb",
   "metadata": {
    "papermill": {},
    "tags": []
   },
   "source": [
    "## Model\n"
   ]
  },
  {
   "cell_type": "markdown",
   "id": "a3e91a67-b462-4dcc-a049-a8d68941f2df",
   "metadata": {
    "papermill": {},
    "tags": []
   },
   "source": [
    "### Get comment reactions"
   ]
  },
  {
   "cell_type": "code",
   "execution_count": null,
   "id": "29e87112-879c-439c-87b3-3065f9a91085",
   "metadata": {
    "papermill": {},
    "tags": []
   },
   "outputs": [],
   "source": [
    "def get_comment_reactions(reactions_url):\n",
    "    headers = {\n",
    "        'Authorization': f'token {github_token}',\n",
    "        'Accept': 'application/vnd.github.squirrel-girl-preview+json'  # Required for reactions API\n",
    "    }\n",
    "\n",
    "    response = requests.get(reactions_url, headers=headers)\n",
    "    print(f\"Requesting: {reactions_url}\")\n",
    "\n",
    "    if response.status_code == 200:\n",
    "        return response.json()\n",
    "    else:\n",
    "        print(f\"Failed to fetch reactions: {response.status_code} - {response.text}\")\n",
    "        return []\n",
    "    \n",
    "reactions = get_comment_reactions(reactions_url)"
   ]
  },
  {
   "cell_type": "markdown",
   "id": "b819d06a",
   "metadata": {
    "papermill": {},
    "tags": []
   },
   "source": [
    "## Output\n"
   ]
  },
  {
   "cell_type": "markdown",
   "id": "8b6ecf57-fec4-4e72-a7b8-4985bca76c05",
   "metadata": {
    "papermill": {},
    "tags": []
   },
   "source": [
    "### Display result"
   ]
  },
  {
   "cell_type": "code",
   "execution_count": null,
   "id": "947ce69b-f636-4ac4-abd9-4254fca3f897",
   "metadata": {
    "papermill": {},
    "tags": []
   },
   "outputs": [],
   "source": [
    "def print_reaction_types_table(reactions):\n",
    "    if reactions:\n",
    "        reaction_types = {\n",
    "            '+1': 0,\n",
    "            '-1': 0,\n",
    "            'laugh': 0,\n",
    "            'hooray': 0,\n",
    "            'confused': 0,\n",
    "            'heart': 0,\n",
    "            'rocket': 0,\n",
    "            'eyes': 0\n",
    "        }\n",
    "        \n",
    "        for reaction in reactions:\n",
    "            reaction_content = reaction['content']\n",
    "            if reaction_content in reaction_types:\n",
    "                reaction_types[reaction_content] += 1\n",
    "\n",
    "        # Convert the reaction types to a DataFrame\n",
    "        reaction_data = pd.DataFrame(list(reaction_types.items()), columns=['Reaction Type', 'Count'])\n",
    "        \n",
    "        # Filter out reactions with a count of 0\n",
    "        filtered_reaction_data = reaction_data[reaction_data['Count'] > 0]\n",
    "        \n",
    "        print(filtered_reaction_data)\n",
    "    else:\n",
    "        print(\"No reactions found or failed to fetch reactions.\")\n",
    "        \n",
    "print_reaction_types_table(reactions)"
   ]
  },
  {
   "cell_type": "code",
   "execution_count": null,
   "id": "5182d09a-e6d7-4d9d-9f38-eb3a9ce87cf1",
   "metadata": {
    "papermill": {},
    "tags": []
   },
   "outputs": [],
   "source": []
  }
 ],
 "metadata": {
  "kernelspec": {
   "display_name": "Python 3",
   "language": "python",
   "name": "python3"
  },
  "language_info": {
   "codemirror_mode": {
    "name": "ipython",
    "version": 3
   },
   "file_extension": ".py",
   "mimetype": "text/x-python",
   "name": "python",
   "nbconvert_exporter": "python",
   "pygments_lexer": "ipython3",
   "version": "3.9.6"
  },
  "naas": {
   "notebook_id": "467b37319a750c60c24fa4540cc71299c2b6c9c16e345cff0bff7f011c87b83a",
   "notebook_path": "GitHub/GitHub_Get_reactions_from_comment.ipynb"
  },
  "papermill": {
   "default_parameters": {},
   "environment_variables": {},
   "parameters": {},
   "version": "2.3.4"
  }
 },
 "nbformat": 4,
 "nbformat_minor": 5
}