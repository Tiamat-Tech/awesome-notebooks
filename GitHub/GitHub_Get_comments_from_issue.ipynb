{
 "cells": [
  {
   "cell_type": "markdown",
   "id": "84cadd0c",
   "metadata": {
    "papermill": {},
    "tags": []
   },
   "source": [
    "<img width=\"8%\" alt=\"GitHub.png\" src=\"https://raw.githubusercontent.com/jupyter-naas/awesome-notebooks/master/.github/assets/logos/GitHub.png\" style=\"border-radius: 15%\">"
   ]
  },
  {
   "cell_type": "markdown",
   "id": "0d43ed38",
   "metadata": {
    "papermill": {},
    "tags": []
   },
   "source": [
    "# GitHub - Get comments from issue\n",
    "<a href=\"https://bit.ly/3JyWIk6\">Give Feedback</a> | <a href=\"https://github.com/jupyter-naas/awesome-notebooks/issues/new?assignees=&labels=bug&template=bug_report.md&title=GitHub+-+Get+comments+from+issue:+Error+short+description\">Bug report</a>"
   ]
  },
  {
   "cell_type": "markdown",
   "id": "d9313642",
   "metadata": {
    "papermill": {},
    "tags": []
   },
   "source": [
    "**Tags:** #github #comments #issue #automation #snippet"
   ]
  },
  {
   "cell_type": "markdown",
   "id": "8faf487c",
   "metadata": {
    "papermill": {},
    "tags": []
   },
   "source": [
    "**Author:** [Varsha Kumar](https://www.linkedin.com/in/varsha-kumar-590466305/)"
   ]
  },
  {
   "cell_type": "markdown",
   "id": "3dba1c73-548d-4008-82ad-fdb2cb376771",
   "metadata": {
    "papermill": {},
    "tags": []
   },
   "source": [
    "**Last update:** 2024-06-05 (Created: 2024-06-04)"
   ]
  },
  {
   "cell_type": "markdown",
   "id": "naas-description",
   "metadata": {
    "papermill": {},
    "tags": [
     "description"
    ]
   },
   "source": [
    "**Description:** This notebook allows users to retrieve the comments from an issue."
   ]
  },
  {
   "cell_type": "markdown",
   "id": "7412988b",
   "metadata": {
    "papermill": {},
    "tags": []
   },
   "source": [
    "## Input"
   ]
  },
  {
   "cell_type": "markdown",
   "id": "b483a140",
   "metadata": {
    "papermill": {},
    "tags": []
   },
   "source": [
    "### Import libraries"
   ]
  },
  {
   "cell_type": "code",
   "execution_count": null,
   "id": "353ef79c",
   "metadata": {
    "papermill": {},
    "tags": []
   },
   "outputs": [],
   "source": [
    "import requests\n",
    "import re\n",
    "import pandas as pd\n",
    "import naas_python"
   ]
  },
  {
   "cell_type": "markdown",
   "id": "68b48858",
   "metadata": {
    "papermill": {},
    "tags": []
   },
   "source": [
    "### Setup variables\n",
    "- `github_token`: personal token creates\n",
    "- `issue_url`: link to the chosen issue"
   ]
  },
  {
   "cell_type": "code",
   "execution_count": null,
   "id": "01647a55",
   "metadata": {
    "papermill": {},
    "tags": []
   },
   "outputs": [],
   "source": [
    "github_token = naas_python.secret.get(\"GITHUB_TOKEN\").value\n",
    "issue_url = \"https://github.com/pola-rs/polars/issues/16661\""
   ]
  },
  {
   "cell_type": "markdown",
   "id": "93347abb",
   "metadata": {
    "papermill": {},
    "tags": []
   },
   "source": [
    "## Model\n"
   ]
  },
  {
   "cell_type": "markdown",
   "id": "2027bb2d-b721-4d6e-97ea-c3e5d1b4ea4d",
   "metadata": {
    "papermill": {},
    "tags": []
   },
   "source": [
    "### Get issues comments"
   ]
  },
  {
   "cell_type": "code",
   "execution_count": null,
   "id": "29e87112-879c-439c-87b3-3065f9a91085",
   "metadata": {
    "papermill": {},
    "tags": []
   },
   "outputs": [],
   "source": [
    "def extract_repo_details(issue_url):\n",
    "    # Extract owner, repo name, and issue number from the issue URL\n",
    "    match = re.match(r'https://github\\.com/(?P<owner>[^/]+)/(?P<repo>[^/]+)/issues/(?P<number>\\d+)', issue_url)\n",
    "    if not match:\n",
    "        raise ValueError(\"Invalid issue URL\")\n",
    "    return match.group('owner'), match.group('repo'), match.group('number')\n",
    "\n",
    "def get_issue_comments(issue_url):\n",
    "    # Extract repo details\n",
    "    repo_owner, repo_name, issue_number = extract_repo_details(issue_url)\n",
    "    \n",
    "    # GitHub API URL to get issue comments\n",
    "    api_url = f\"https://api.github.com/repos/{repo_owner}/{repo_name}/issues/{issue_number}/comments\"\n",
    "    headers = {\n",
    "        'Authorization': f'token {github_token}',\n",
    "        'Accept': 'application/vnd.github.v3+json'\n",
    "    }\n",
    "\n",
    "    response = requests.get(api_url, headers=headers)\n",
    "    \n",
    "    if response.status_code == 200:\n",
    "        return response.json()\n",
    "    else:\n",
    "        print(f\"Failed to fetch comments: {response.status_code}\")\n",
    "        return []\n",
    "    \n",
    "comments = get_issue_comments(issue_url)"
   ]
  },
  {
   "cell_type": "markdown",
   "id": "b819d06a",
   "metadata": {
    "papermill": {},
    "tags": []
   },
   "source": [
    "## Output\n"
   ]
  },
  {
   "cell_type": "markdown",
   "id": "0bfe3031-0b86-47db-b47d-7510df4610a7",
   "metadata": {
    "papermill": {},
    "tags": []
   },
   "source": [
    "### Display result"
   ]
  },
  {
   "cell_type": "code",
   "execution_count": null,
   "id": "947ce69b-f636-4ac4-abd9-4254fca3f897",
   "metadata": {
    "papermill": {},
    "tags": []
   },
   "outputs": [],
   "source": [
    "data = []\n",
    "if len(comments) > 0:\n",
    "    for comment in comments:\n",
    "        comment_id = comment['id']\n",
    "        comment_body = comment['body']\n",
    "        comment_created_at = comment['created_at']\n",
    "        user_id = comment['user']['id']\n",
    "        comment_user_login = comment['user']['login']\n",
    "        reaction_count = comment['reactions']['total_count']\n",
    "\n",
    "        data.append({\n",
    "            \"COMMENT_ID\": comment_id,\n",
    "            \"CONTENT\": comment_body,\n",
    "            \"DATE_TIME\": comment_created_at,\n",
    "            \"CREATOR_LOGIN\": comment_user_login,\n",
    "            \"USER_ID\": user_id,\n",
    "            \"REACTIONS_COUNT\": reaction_count\n",
    "        }) \n",
    "df = pd.DataFrame(data)\n",
    "df"
   ]
  }
 ],
 "metadata": {
  "kernelspec": {
   "display_name": "Python 3",
   "language": "python",
   "name": "python3"
  },
  "language_info": {
   "codemirror_mode": {
    "name": "ipython",
    "version": 3
   },
   "file_extension": ".py",
   "mimetype": "text/x-python",
   "name": "python",
   "nbconvert_exporter": "python",
   "pygments_lexer": "ipython3",
   "version": "3.9.6"
  },
  "naas": {
   "notebook_id": "ffa9ec397627a5161532496b3f988508b06786a99a43f9f97ce2e53d500f2be3",
   "notebook_path": "GitHub/GitHub_Get_comments_from_issue.ipynb"
  },
  "papermill": {
   "default_parameters": {},
   "environment_variables": {},
   "parameters": {},
   "version": "2.3.4"
  }
 },
 "nbformat": 4,
 "nbformat_minor": 5
}