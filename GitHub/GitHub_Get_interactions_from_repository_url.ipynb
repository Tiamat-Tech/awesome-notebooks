{
 "cells": [
  {
   "cell_type": "markdown",
   "id": "84cadd0c",
   "metadata": {
    "papermill": {},
    "tags": []
   },
   "source": [
    "<img width=\"8%\" alt=\"GitHub.png\" src=\"https://raw.githubusercontent.com/jupyter-naas/awesome-notebooks/master/.github/assets/logos/GitHub.png\" style=\"border-radius: 15%\">"
   ]
  },
  {
   "cell_type": "markdown",
   "id": "0d43ed38",
   "metadata": {
    "papermill": {},
    "tags": []
   },
   "source": [
    "# GitHub - Get interactions from repository url\n",
    "<a href=\"https://bit.ly/3JyWIk6\">Give Feedback</a> | <a href=\"https://github.com/jupyter-naas/awesome-notebooks/issues/new?assignees=&labels=bug&template=bug_report.md&title=GitHub+-+Get+interactions+from+repository+url:+Error+short+description\">Bug report</a>"
   ]
  },
  {
   "cell_type": "markdown",
   "id": "d9313642",
   "metadata": {
    "papermill": {},
    "tags": []
   },
   "source": [
    "**Tags:** #github #issues #reaction #comment #creator #assignees #automation"
   ]
  },
  {
   "cell_type": "markdown",
   "id": "8faf487c",
   "metadata": {
    "papermill": {},
    "tags": []
   },
   "source": [
    "**Author:** [Varsha Kumar](https://www.linkedin.com/in/varsha-kumar-590466305/)"
   ]
  },
  {
   "cell_type": "markdown",
   "id": "3dba1c73-548d-4008-82ad-fdb2cb376771",
   "metadata": {
    "papermill": {},
    "tags": []
   },
   "source": [
    "**Last update:** 2024-06-17 (Created: 2024-06-11)"
   ]
  },
  {
   "cell_type": "markdown",
   "id": "naas-description",
   "metadata": {
    "papermill": {},
    "tags": [
     "description"
    ]
   },
   "source": [
    "**Description:** This notebook allows users to retrieve interaction data from issues on a given repository."
   ]
  },
  {
   "cell_type": "markdown",
   "id": "7412988b",
   "metadata": {
    "papermill": {},
    "tags": []
   },
   "source": [
    "## Input"
   ]
  },
  {
   "cell_type": "markdown",
   "id": "08d67409-3dac-4e9b-bbe5-985c2010b916",
   "metadata": {
    "papermill": {},
    "tags": []
   },
   "source": [
    "### Import libraries"
   ]
  },
  {
   "cell_type": "code",
   "execution_count": 1,
   "id": "353ef79c",
   "metadata": {
    "papermill": {},
    "tags": []
   },
   "outputs": [],
   "source": [
    "import requests\n",
    "import re\n",
    "import pandas as pd\n",
    "import naas_python as naas\n",
    "from urllib.parse import urlparse\n",
    "import time\n",
    "import plotly.express as px\n",
    "from naas_drivers import github\n",
    "import ipywidgets as widgets\n",
    "from IPython.display import display, clear_output"
   ]
  },
  {
   "cell_type": "markdown",
   "id": "68b48858",
   "metadata": {
    "papermill": {},
    "tags": []
   },
   "source": [
    "### Setup variables\n",
    "- `github_token`: personal token creates\n",
    "- `repo_url`: link to the chosen github repo\n",
    "- `output_csv`: output to excel file"
   ]
  },
  {
   "cell_type": "code",
   "execution_count": 3,
   "id": "01647a55",
   "metadata": {
    "papermill": {},
    "tags": []
   },
   "outputs": [],
   "source": [
    "github_token = naas.secret.get(\"GITHUB_TOKEN\").value\n",
    "repo_url = \"https://github.com/jupyter-naas/workspace\"\n",
    "output_csv = f\"{repo_url.split('github.com/')[1].replace('/', '_')}_interactions.csv\"\n",
    "print(output_csv)"
   ]
  },
  {
   "cell_type": "markdown",
   "id": "93347abb",
   "metadata": {
    "papermill": {},
    "tags": []
   },
   "source": [
    "## Model"
   ]
  },
  {
   "cell_type": "markdown",
   "id": "9b3d4abb-f7f9-49f4-a237-4e622eb0be8e",
   "metadata": {
    "papermill": {},
    "tags": []
   },
   "source": [
    "### Get issues and the issue type"
   ]
  },
  {
   "cell_type": "code",
   "execution_count": 4,
   "id": "c432c612-892a-409a-bfaf-7b2fa9d5d4ca",
   "metadata": {
    "papermill": {},
    "tags": []
   },
   "outputs": [],
   "source": [
    "def get_github_owner_repo(repo_url):\n",
    "    parts = repo_url.rstrip('/').split('/')\n",
    "    owner = parts[-2]\n",
    "    repo = parts[-1]\n",
    "    return owner, repo\n",
    "\n",
    "def get_issues(owner, repo, token, limit=1000):\n",
    "    api_url = f\"https://api.github.com/repos/{owner}/{repo}/issues\"\n",
    "\n",
    "    headers = {\n",
    "        'Authorization': f'token {token}',\n",
    "        'Accept': 'application/vnd.github.v3+json'\n",
    "    }\n",
    "\n",
    "    issues = []\n",
    "    page = 1\n",
    "\n",
    "    while len(issues) < limit:\n",
    "        response = requests.get(api_url, headers=headers, params={'per_page': 100, 'page': page})\n",
    "        if response.status_code != 200:\n",
    "            raise Exception(f\"Error: {response.status_code} - {response.text}\")\n",
    "\n",
    "        page_issues = response.json()\n",
    "        if not page_issues:\n",
    "            break\n",
    "\n",
    "        issues.extend(page_issues)\n",
    "        if len(issues) >= limit:\n",
    "            issues = issues[:limit]\n",
    "            break\n",
    "\n",
    "        page += 1\n",
    "\n",
    "    return issues"
   ]
  },
  {
   "cell_type": "markdown",
   "id": "c44d0487-7974-4041-a5d9-3dddafb177ba",
   "metadata": {
    "papermill": {},
    "tags": []
   },
   "source": [
    "### Get interactions from issues"
   ]
  },
  {
   "cell_type": "code",
   "execution_count": 5,
   "id": "25515662-6221-4d31-bce9-e811ab1a70c6",
   "metadata": {
    "papermill": {},
    "tags": []
   },
   "outputs": [],
   "source": [
    "# Get organization owner(s)\n",
    "def get_repository_info(repo_url, token):\n",
    "    headers = {\n",
    "        'Authorization': f'token {token}',\n",
    "        'Accept': 'application/vnd.github.v3+json'\n",
    "    }\n",
    "\n",
    "    response = requests.get(repo_url, headers=headers)\n",
    "    if response.status_code != 200:\n",
    "        raise Exception(f\"Error: {response.status_code} - {response.text}\")\n",
    "\n",
    "    repo_data = response.json()\n",
    "    return repo_data\n",
    "\n",
    "def get_organization_members(org_name, token, role='all'):\n",
    "    api_url = f\"https://api.github.com/orgs/{org_name}/members\"\n",
    "    headers = {\n",
    "        'Authorization': f'token {token}',\n",
    "        'Accept': 'application/vnd.github.v3+json'\n",
    "    }\n",
    "    params = {'role': role}\n",
    "\n",
    "    response = requests.get(api_url, headers=headers, params=params)\n",
    "    if response.status_code != 200:\n",
    "        raise Exception(f\"Error: {response.status_code} - {response.text}\")\n",
    "\n",
    "    members = response.json()\n",
    "    return members\n",
    "\n",
    "def get_organization_owners(org_name, token):\n",
    "    owners = get_organization_members(org_name, token, role='admin')\n",
    "    return owners\n",
    "\n",
    "# Get pull request commit(s)\n",
    "def get_pull_request_commits(pull_request_url, token):\n",
    "    headers = {\n",
    "        'Authorization': f'token {token}',\n",
    "        'Accept': 'application/vnd.github.v3+json'\n",
    "    }\n",
    "\n",
    "    response = requests.get(pull_request_url + \"/commits\", headers=headers)\n",
    "    if response.status_code != 200:\n",
    "        raise Exception(f\"Error: {response.status_code} - {response.text}\")\n",
    "\n",
    "    commits = response.json()\n",
    "    return commits\n",
    "\n",
    "# Get comments and reactions from issues\n",
    "def get_all_comments(api_url, personal_access_token):\n",
    "    # Set up headers with personal access token for authentication\n",
    "    headers = {\n",
    "        'Authorization': f'token {personal_access_token}',\n",
    "        'Accept': 'application/vnd.github.v3+json'\n",
    "    }\n",
    "\n",
    "    # Get comments for the issue\n",
    "    response = requests.get(api_url + '/comments', headers=headers)\n",
    "    if response.status_code != 200:\n",
    "        raise Exception(f\"Error fetching comments from GitHub: {response.status_code} {response.reason}\")\n",
    "    comments = response.json()\n",
    "\n",
    "    return comments\n",
    "\n",
    "def get_comment_reactions(comment_url, personal_access_token):\n",
    "    headers = {\n",
    "        \"Authorization\": f\"token {personal_access_token}\",\n",
    "        \"Accept\": \"application/vnd.github.squirrel-girl-preview+json\"\n",
    "    }\n",
    "    # Get reactions for the issue\n",
    "    response = requests.get(comment_url + \"/reactions\", headers=headers)\n",
    "    response.raise_for_status()\n",
    "    return response.json()"
   ]
  },
  {
   "cell_type": "markdown",
   "id": "b819d06a",
   "metadata": {
    "papermill": {},
    "tags": []
   },
   "source": [
    "### Get table of interactions"
   ]
  },
  {
   "cell_type": "code",
   "execution_count": 6,
   "id": "9c8fcf83-0e5f-4b5f-857d-6356c066f78a",
   "metadata": {
    "papermill": {},
    "tags": []
   },
   "outputs": [],
   "source": [
    "data = []\n",
    "def get_interactions(\n",
    "    url,\n",
    "    uid,\n",
    "    issue_state,\n",
    "    owners,\n",
    "    contributors,\n",
    "    interaction_type,\n",
    "    content,\n",
    "    time,\n",
    "    user_login,\n",
    "    user_id\n",
    "):\n",
    "    return {\n",
    "        \"URL\": url,\n",
    "        \"ID\": uid,\n",
    "        \"ISSUE_STATE\": issue_state,\n",
    "        \"ORGANIZATION_OWNER(S)\": owners,\n",
    "        \"CONTRIBUTOR(S)\": participants,\n",
    "        \"INTERACTION_TYPE\": interaction_type,\n",
    "        \"CONTENT\": content,\n",
    "        \"DATE_TIME\": time,\n",
    "        \"USER_LOGIN\": user_login,\n",
    "        \"USER_ID\": user_id,\n",
    "    }\n",
    "    \n",
    "owner, repo = get_github_owner_repo(repo_url)\n",
    "issues = get_issues(owner, repo, github_token)\n",
    "    \n",
    "for issue in issues:\n",
    "\n",
    "    # Get contributors for issue\n",
    "    participants = set()\n",
    "    \n",
    "    # Get organization owners for issue\n",
    "    repo_url = '/'.join(issue['url'].split('/')[:-2])\n",
    "    repo_data = get_repository_info(repo_url, github_token)\n",
    "    owners_output = \"\"\n",
    "    if 'organization' in repo_data['owner']['type'].lower():\n",
    "        org_name = repo_data['owner']['login']\n",
    "        owners = get_organization_owners(org_name, github_token)\n",
    "        for owner in owners:\n",
    "            if (owners.index(owner) != len(owners)-1):\n",
    "                owners_output += f\"{owner['login']}, \"\n",
    "            else:\n",
    "                owners_output += f\"{owner['login']}\"\n",
    "    else:\n",
    "        owners_output = \"NONE\"\n",
    "    \n",
    "    # Basic issue data\n",
    "    issue_state = issue['state']\n",
    "    is_pull_request = 'pull_request' in issue\n",
    "    issue_state = 'Pull Request' if is_pull_request else issue_state\n",
    "    issue_number = issue['number']\n",
    "    issue_url = issue['url']\n",
    "    issue_content = issue['title']\n",
    "    issue_time = issue['created_at']\n",
    "    issue_user_login = issue['user']['login']\n",
    "    issue_user_id = issue['user']['id']\n",
    "    participants.add(issue['user']['login'])\n",
    "\n",
    "    # Get creator\n",
    "    data_creator = get_interactions(\n",
    "        issue_url,\n",
    "        str(issue_number) + \"_\" +  str(issue_user_id),\n",
    "        issue_state,\n",
    "        owners_output,\n",
    "        participants,\n",
    "        \"CREATOR\",\n",
    "        issue_content,\n",
    "        issue_time,\n",
    "        issue_user_login,\n",
    "        issue_user_id,\n",
    "    )\n",
    "    data.append(data_creator)\n",
    "    \n",
    "    # Get Assignees\n",
    "    if len(issue['assignees']) > 0:\n",
    "        for assignee in issue['assignees']:\n",
    "            participants.add(assignee['login'])\n",
    "            data_assignee = get_interactions(\n",
    "                issue_url,\n",
    "                str(issue_number) + \"_\" + str(assignee['id']),\n",
    "                issue_state,\n",
    "                owners_output,\n",
    "                participants,\n",
    "                \"ASSIGNEE\",\n",
    "                issue_content,\n",
    "                issue_time,\n",
    "                assignee['login'],\n",
    "                assignee['id'],\n",
    "            )\n",
    "            data.append(data_assignee)\n",
    "            \n",
    "    # Get comments\n",
    "    comments = get_all_comments(issue_url, github_token)\n",
    "    for comment in comments:\n",
    "        comment_id = comment['id']\n",
    "        comment_body = comment['body']\n",
    "        comment_created_at = comment['created_at']\n",
    "        comment_user_login = comment['user']['login']\n",
    "        comment_user_id = comment['user']['id']\n",
    "        participants.add(comment['user']['login'])\n",
    "        data_comment = get_interactions(\n",
    "            issue_url,\n",
    "            str(issue_number) + \"_\" + str(comment_id),\n",
    "            issue_state,\n",
    "            owners_output,\n",
    "            participants,\n",
    "            \"COMMENT\",\n",
    "            comment_body,\n",
    "            comment_created_at,\n",
    "            comment_user_login,\n",
    "            comment_user_id,\n",
    "        )\n",
    "        \n",
    "        data.append(data_comment)\n",
    "        #print (comment)\n",
    "        reactions = get_comment_reactions(comment['url'], github_token)\n",
    "        if len(reactions) > 0:\n",
    "            for reaction in reactions:\n",
    "                reaction_id = reaction['id']\n",
    "                reaction_body = reaction['content']\n",
    "                reaction_created_at = reaction['created_at']\n",
    "                reaction_user_login = reaction['user']['login']\n",
    "                reaction_user_id = reaction['user']['id']\n",
    "                participants.add(reaction['user']['login'])\n",
    "                data_reaction = get_interactions(\n",
    "                    issue_url,\n",
    "                    str(issue_number) + \"_\" + str(reaction_id),\n",
    "                    issue_state,\n",
    "                    owners_output,\n",
    "                    participants,\n",
    "                    \"REACTION\",\n",
    "                    reaction_body,\n",
    "                    reaction_created_at,\n",
    "                    reaction_user_login,\n",
    "                    reaction_user_id,\n",
    "                )\n",
    "                data.append(data_reaction)\n",
    "                \n",
    "        if (issue_state == 'Pull Request'):\n",
    "            pull_request_url = issue['pull_request']['url']\n",
    "            commits = get_pull_request_commits(pull_request_url, github_token)\n",
    "            for commit in commits:\n",
    "                commit_id = commit['node_id']\n",
    "                commit_body = commit['commit']['message']\n",
    "                commit_created_at = commit['commit']['author']['date']\n",
    "                commit_user_login = commit['author']['login']\n",
    "                commit_user_id = commit['author']['id']\n",
    "                participants.add(commit['author']['login'])\n",
    "                data_commits = get_interactions(\n",
    "                    issue_url,\n",
    "                    str(issue_number) + \"_\" + str(commit_id),\n",
    "                    issue_state,\n",
    "                    owners_output,\n",
    "                    participants,\n",
    "                    \"COMMIT\",\n",
    "                    commit_body,\n",
    "                    commit_created_at,\n",
    "                    commit_user_login,\n",
    "                    commit_user_id,\n",
    "                )\n",
    "                data.append(data_commits)\n",
    "        \n",
    "df = pd.DataFrame(data)"
   ]
  },
  {
   "cell_type": "markdown",
   "id": "bcc68d67-5ee5-4bc7-8af5-fbf1951afe9c",
   "metadata": {
    "papermill": {},
    "tags": []
   },
   "source": [
    "## Output"
   ]
  },
  {
   "cell_type": "markdown",
   "id": "99326698-b159-4d99-a808-2e0a0265edf4",
   "metadata": {
    "papermill": {},
    "tags": []
   },
   "source": [
    "### Save DataFrame to csv"
   ]
  },
  {
   "cell_type": "code",
   "execution_count": 7,
   "id": "a4262376-54fc-4a0e-bd37-b9a6749b60d2",
   "metadata": {
    "papermill": {},
    "tags": []
   },
   "outputs": [],
   "source": [
    "df.to_csv(output_csv, index=False)"
   ]
  },
  {
   "cell_type": "code",
   "execution_count": null,
   "id": "948d5678-df40-4864-aa1c-8f44418003df",
   "metadata": {
    "papermill": {},
    "tags": []
   },
   "outputs": [],
   "source": []
  }
 ],
 "metadata": {
  "kernelspec": {
   "display_name": "Python 3",
   "language": "python",
   "name": "python3"
  },
  "language_info": {
   "codemirror_mode": {
    "name": "ipython",
    "version": 3
   },
   "file_extension": ".py",
   "mimetype": "text/x-python",
   "name": "python",
   "nbconvert_exporter": "python",
   "pygments_lexer": "ipython3",
   "version": "3.9.6"
  },
  "naas": {
   "notebook_id": "0369876d88e7acff580e5ceaebbce2ce667b463435a32a5d22908e0372522e4a",
   "notebook_path": "GitHub/GitHub_Get_interactions_from_repository_url.ipynb"
  },
  "papermill": {
   "default_parameters": {},
   "environment_variables": {},
   "parameters": {},
   "version": "2.3.4"
  }
 },
 "nbformat": 4,
 "nbformat_minor": 5
}