{
 "cells": [
  {
   "cell_type": "markdown",
   "id": "84cadd0c",
   "metadata": {
    "papermill": {},
    "tags": []
   },
   "source": [
    "<img width=\"8%\" alt=\"GitHub.png\" src=\"https://raw.githubusercontent.com/jupyter-naas/awesome-notebooks/master/.github/assets/logos/GitHub.png\" style=\"border-radius: 15%\">"
   ]
  },
  {
   "cell_type": "markdown",
   "id": "0d43ed38",
   "metadata": {
    "papermill": {},
    "tags": []
   },
   "source": [
    "# GitHub - Get an organization\n",
    "<a href=\"https://bit.ly/3JyWIk6\">Give Feedback</a> | <a href=\"https://github.com/jupyter-naas/awesome-notebooks/issues/new?assignees=&labels=bug&template=bug_report.md&title=GitHub+-+Get+an+organization:+Error+short+description\">Bug report</a>"
   ]
  },
  {
   "cell_type": "markdown",
   "id": "d9313642",
   "metadata": {
    "papermill": {},
    "tags": []
   },
   "source": [
    "**Tags:** #github #organization #automation #snippet"
   ]
  },
  {
   "cell_type": "markdown",
   "id": "8faf487c",
   "metadata": {
    "papermill": {},
    "tags": []
   },
   "source": [
    "**Author:** [Varsha Kumar](https://www.linkedin.com/in/varsha-kumar-590466305/)"
   ]
  },
  {
   "cell_type": "markdown",
   "id": "3dba1c73-548d-4008-82ad-fdb2cb376771",
   "metadata": {
    "papermill": {},
    "tags": []
   },
   "source": [
    "**Last update:** 2024-06-25 (Created: 2024-06-18)"
   ]
  },
  {
   "cell_type": "markdown",
   "id": "naas-description",
   "metadata": {
    "papermill": {},
    "tags": [
     "description"
    ]
   },
   "source": [
    "**Description:** This notebook allows users to retrieve organization data from a repository."
   ]
  },
  {
   "cell_type": "markdown",
   "id": "7412988b",
   "metadata": {
    "papermill": {},
    "tags": []
   },
   "source": [
    "## Input"
   ]
  },
  {
   "cell_type": "markdown",
   "id": "b483a140",
   "metadata": {
    "papermill": {},
    "tags": []
   },
   "source": [
    "### Import libraries"
   ]
  },
  {
   "cell_type": "code",
   "execution_count": 1,
   "id": "353ef79c",
   "metadata": {
    "papermill": {},
    "tags": []
   },
   "outputs": [],
   "source": [
    "import requests\n",
    "import re\n",
    "import pandas as pd\n",
    "import naas"
   ]
  },
  {
   "cell_type": "markdown",
   "id": "68b48858",
   "metadata": {
    "papermill": {},
    "tags": []
   },
   "source": [
    "### Setup variables"
   ]
  },
  {
   "cell_type": "markdown",
   "id": "b69f38ae-a69c-4360-8cf9-099cda04f098",
   "metadata": {
    "papermill": {},
    "tags": []
   },
   "source": [
    "- `github_token`: personal token\n",
    "- `repo_url`: link to the chosen github repo\n",
    "- `company_name`: name of the company\n",
    "- `api_key`: token to get linkedin\n",
    "- `output_csv`: excel file"
   ]
  },
  {
   "cell_type": "code",
   "execution_count": 2,
   "id": "01647a55",
   "metadata": {
    "papermill": {},
    "tags": []
   },
   "outputs": [],
   "source": [
    "github_token = naas.secret.get(\"GITHUB_TOKEN\")\n",
    "repo_url = \"https://github.com/jupyter-naas/awesome-notebooks\"\n",
    "company_name = \"naas.ai\"\n",
    "api_key = \"899fa50c3a6c56e8b19e37608140f327bf9bf807\"\n",
    "output_csv = f\"{repo_url.split('github.com/')[1].replace('/', '_')}_organization.csv\""
   ]
  },
  {
   "cell_type": "markdown",
   "id": "93347abb",
   "metadata": {
    "papermill": {},
    "tags": []
   },
   "source": [
    "## Model\n"
   ]
  },
  {
   "cell_type": "markdown",
   "id": "7537ee02-afad-4d87-8883-afae67365f46",
   "metadata": {
    "papermill": {},
    "tags": []
   },
   "source": [
    "### Get github details"
   ]
  },
  {
   "cell_type": "code",
   "execution_count": 3,
   "id": "bb42b49d-b53e-4255-8a59-c824cd49aeac",
   "metadata": {
    "papermill": {},
    "tags": []
   },
   "outputs": [],
   "source": [
    "def get_repo_details(repo_url, token):\n",
    "    # Extract the repo path from the URL\n",
    "    repo_path = repo_url.replace(\"https://github.com/\", \"\")\n",
    "    \n",
    "    # GitHub API endpoint for repository details\n",
    "    api_url = f\"https://api.github.com/repos/{repo_path}\"\n",
    "    \n",
    "    # Headers with the authorization token\n",
    "    headers = {\n",
    "        \"Authorization\": f\"token {token}\"\n",
    "    }\n",
    "    \n",
    "    # Send GET request to the GitHub API\n",
    "    response = requests.get(api_url, headers=headers)\n",
    "    \n",
    "    # Check if the request was successful\n",
    "    if response.status_code == 200:\n",
    "        repo_details = response.json()\n",
    "        return repo_details\n",
    "    else:\n",
    "        return f\"Error: {response.status_code} - {response.json()['message']}\"\n",
    "repo_details = get_repo_details(repo_url, github_token)\n",
    "    \n",
    "def get_company_details(domain, api_key):\n",
    "    # Hunter.io API endpoint for company information\n",
    "    url = f\"https://api.hunter.io/v2/domain-search?domain={domain}&api_key={api_key}\"\n",
    "    \n",
    "    # Send GET request to the Hunter.io API\n",
    "    response = requests.get(url)\n",
    "    \n",
    "    # Check if the request was successful\n",
    "    if response.status_code == 200:\n",
    "        data = response.json()\n",
    "        if 'data' in data:\n",
    "            return data['data']\n",
    "        else:\n",
    "            return \"Company details not found\"\n",
    "    else:\n",
    "        return f\"Error: {response.status_code} - {response.json().get('errors', 'Unknown error')}\"\n",
    "    \n",
    "linkedin_details = get_company_details(company_name, api_key)"
   ]
  },
  {
   "cell_type": "markdown",
   "id": "b819d06a",
   "metadata": {
    "papermill": {},
    "tags": []
   },
   "source": [
    "## Output\n"
   ]
  },
  {
   "cell_type": "markdown",
   "id": "8b6ecf57-fec4-4e72-a7b8-4985bca76c05",
   "metadata": {
    "papermill": {},
    "tags": []
   },
   "source": [
    "### Display result"
   ]
  },
  {
   "cell_type": "code",
   "execution_count": 4,
   "id": "5182d09a-e6d7-4d9d-9f38-eb3a9ce87cf1",
   "metadata": {
    "papermill": {},
    "tags": []
   },
   "outputs": [],
   "source": [
    "data = []\n",
    "\n",
    "data.append({\n",
    "    \"URL\": repo_details[\"url\"],\n",
    "    \"NAME\": repo_details[\"name\"],\n",
    "    \"ID\": repo_details[\"id\"],\n",
    "    \"OWNER_LOGIN\": repo_details[\"owner\"][\"login\"],\n",
    "    \"OWNER_ID\": repo_details[\"owner\"][\"id\"],\n",
    "    \"DESCRIPTION\": repo_details[\"description\"],\n",
    "    \"CREATED_AT\": repo_details[\"created_at\"],\n",
    "    \"TOPICS\": repo_details[\"topics\"],\n",
    "    \"NUMBER_OF_OPEN_ISSUES\": repo_details[\"open_issues\"],\n",
    "    \"LINKEDIN_URL\": linkedin_details[\"linkedin\"],\n",
    "    \"LINKEDIN_DESCRIPTION\": linkedin_details[\"description\"],\n",
    "    \"INDUSTRY\": linkedin_details[\"industry\"],\n",
    "    \"TECHNOLOGIES\": linkedin_details[\"technologies\"],\n",
    "    \"CITY\": linkedin_details[\"city\"],\n",
    "    \"HEADCOUNT\": linkedin_details[\"headcount\"],\n",
    "    \"COMPANY_TYPE\": linkedin_details[\"company_type\"]\n",
    "})\n",
    "\n",
    "df = pd.DataFrame(data)\n",
    "df"
   ]
  },
  {
   "cell_type": "markdown",
   "id": "53724dc4-3314-45dc-9401-6899f485a70e",
   "metadata": {
    "papermill": {},
    "tags": []
   },
   "source": [
    "### Save dataframe to csv"
   ]
  },
  {
   "cell_type": "code",
   "execution_count": 5,
   "id": "5699155d-b0e3-40a5-b4bc-bbbecb4473a3",
   "metadata": {
    "papermill": {},
    "tags": []
   },
   "outputs": [],
   "source": [
    "df.to_csv(output_csv, index=False)"
   ]
  },
  {
   "cell_type": "code",
   "execution_count": null,
   "id": "2e04049a-dcbc-405f-811d-c0b6668ebc15",
   "metadata": {
    "papermill": {},
    "tags": []
   },
   "outputs": [],
   "source": []
  }
 ],
 "metadata": {
  "kernelspec": {
   "display_name": "Python 3",
   "language": "python",
   "name": "python3"
  },
  "language_info": {
   "codemirror_mode": {
    "name": "ipython",
    "version": 3
   },
   "file_extension": ".py",
   "mimetype": "text/x-python",
   "name": "python",
   "nbconvert_exporter": "python",
   "pygments_lexer": "ipython3",
   "version": "3.9.6"
  },
  "naas": {
   "notebook_id": "1d53d1d646b47ba8dc5fcc2ebf0fd26741862ab2b073a613b9ef8079f29a675c",
   "notebook_path": "GitHub/GitHub_Get_an_organization.ipynb"
  },
  "papermill": {
   "default_parameters": {},
   "environment_variables": {},
   "parameters": {},
   "version": "2.3.4"
  }
 },
 "nbformat": 4,
 "nbformat_minor": 5
}