{
 "cells": [
  {
   "cell_type": "markdown",
   "id": "84cadd0c",
   "metadata": {
    "papermill": {},
    "tags": []
   },
   "source": [
    "<img width=\"8%\" alt=\"GitHub.png\" src=\"https://raw.githubusercontent.com/jupyter-naas/awesome-notebooks/master/.github/assets/logos/GitHub.png\" style=\"border-radius: 15%\">"
   ]
  },
  {
   "cell_type": "markdown",
   "id": "0d43ed38",
   "metadata": {
    "papermill": {},
    "tags": []
   },
   "source": [
    "# GitHub - Get an organization\n",
    "<a href=\"https://bit.ly/3JyWIk6\">Give Feedback</a> | <a href=\"https://github.com/jupyter-naas/awesome-notebooks/issues/new?assignees=&labels=bug&template=bug_report.md&title=GitHub+-+Add+new+issues+as+page+in+Notion+database:+Error+short+description\">Bug report</a>"
   ]
  },
  {
   "cell_type": "markdown",
   "id": "d9313642",
   "metadata": {
    "papermill": {},
    "tags": []
   },
   "source": [
    "**Tags:** #github #organization #automation #snippet"
   ]
  },
  {
   "cell_type": "markdown",
   "id": "8faf487c",
   "metadata": {
    "papermill": {},
    "tags": []
   },
   "source": [
    "**Author:** [Varsha Kumar](https://www.linkedin.com/in/varsha-kumar-590466305/)"
   ]
  },
  {
   "cell_type": "markdown",
   "id": "3dba1c73-548d-4008-82ad-fdb2cb376771",
   "metadata": {
    "papermill": {},
    "tags": []
   },
   "source": [
    "**Last update:** 2024-06-25 (Created: 2024-06-18)"
   ]
  },
  {
   "cell_type": "markdown",
   "id": "naas-description",
   "metadata": {
    "papermill": {},
    "tags": [
     "description"
    ]
   },
   "source": [
    "**Description:** This notebook allows users to retrieve organization data from a repository."
   ]
  },
  {
   "cell_type": "markdown",
   "id": "7412988b",
   "metadata": {
    "papermill": {},
    "tags": []
   },
   "source": [
    "## Input"
   ]
  },
  {
   "cell_type": "markdown",
   "id": "b483a140",
   "metadata": {
    "papermill": {},
    "tags": []
   },
   "source": [
    "### Import libraries"
   ]
  },
  {
   "cell_type": "code",
   "execution_count": 1,
   "id": "353ef79c",
   "metadata": {
    "execution": {
     "iopub.execute_input": "2024-06-25T13:15:25.095593Z",
     "iopub.status.busy": "2024-06-25T13:15:25.095157Z",
     "iopub.status.idle": "2024-06-25T13:15:27.766596Z",
     "shell.execute_reply": "2024-06-25T13:15:27.765726Z",
     "shell.execute_reply.started": "2024-06-25T13:15:25.095525Z"
    },
    "papermill": {},
    "tags": []
   },
   "outputs": [],
   "source": [
    "import requests\n",
    "import re\n",
    "import pandas as pd\n",
    "import naas"
   ]
  },
  {
   "cell_type": "markdown",
   "id": "68b48858",
   "metadata": {
    "papermill": {},
    "tags": []
   },
   "source": [
    "### Setup variables"
   ]
  },
  {
   "cell_type": "markdown",
   "id": "b69f38ae-a69c-4360-8cf9-099cda04f098",
   "metadata": {},
   "source": [
    "- `github_token`: personal token\n",
    "- `repo_url`: link to the chosen github repo\n",
    "- `company_name`: name of the company\n",
    "- `api_key`: token to get linkedin\n",
    "- `output_csv`: excel file"
   ]
  },
  {
   "cell_type": "code",
   "execution_count": 2,
   "id": "01647a55",
   "metadata": {
    "execution": {
     "iopub.execute_input": "2024-06-25T13:15:27.768674Z",
     "iopub.status.busy": "2024-06-25T13:15:27.768234Z",
     "iopub.status.idle": "2024-06-25T13:15:30.852511Z",
     "shell.execute_reply": "2024-06-25T13:15:30.851843Z",
     "shell.execute_reply.started": "2024-06-25T13:15:27.768640Z"
    },
    "papermill": {},
    "tags": []
   },
   "outputs": [],
   "source": [
    "github_token = naas.secret.get(\"GITHUB_TOKEN\")\n",
    "repo_url = \"https://github.com/jupyter-naas/awesome-notebooks\"\n",
    "company_name = \"naas.ai\"\n",
    "api_key = \"899fa50c3a6c56e8b19e37608140f327bf9bf807\"\n",
    "output_csv = f\"{repo_url.split('github.com/')[1].replace('/', '_')}_organization.csv\""
   ]
  },
  {
   "cell_type": "markdown",
   "id": "93347abb",
   "metadata": {
    "papermill": {},
    "tags": []
   },
   "source": [
    "## Model\n"
   ]
  },
  {
   "cell_type": "markdown",
   "id": "7537ee02-afad-4d87-8883-afae67365f46",
   "metadata": {},
   "source": [
    "### Get github details"
   ]
  },
  {
   "cell_type": "code",
   "execution_count": 3,
   "id": "bb42b49d-b53e-4255-8a59-c824cd49aeac",
   "metadata": {
    "execution": {
     "iopub.execute_input": "2024-06-25T13:15:30.853950Z",
     "iopub.status.busy": "2024-06-25T13:15:30.853707Z",
     "iopub.status.idle": "2024-06-25T13:15:31.263746Z",
     "shell.execute_reply": "2024-06-25T13:15:31.262986Z",
     "shell.execute_reply.started": "2024-06-25T13:15:30.853917Z"
    },
    "tags": []
   },
   "outputs": [],
   "source": [
    "def get_repo_details(repo_url, token):\n",
    "    # Extract the repo path from the URL\n",
    "    repo_path = repo_url.replace(\"https://github.com/\", \"\")\n",
    "    \n",
    "    # GitHub API endpoint for repository details\n",
    "    api_url = f\"https://api.github.com/repos/{repo_path}\"\n",
    "    \n",
    "    # Headers with the authorization token\n",
    "    headers = {\n",
    "        \"Authorization\": f\"token {token}\"\n",
    "    }\n",
    "    \n",
    "    # Send GET request to the GitHub API\n",
    "    response = requests.get(api_url, headers=headers)\n",
    "    \n",
    "    # Check if the request was successful\n",
    "    if response.status_code == 200:\n",
    "        repo_details = response.json()\n",
    "        return repo_details\n",
    "    else:\n",
    "        return f\"Error: {response.status_code} - {response.json()['message']}\"\n",
    "repo_details = get_repo_details(repo_url, github_token)\n",
    "    \n",
    "def get_company_details(domain, api_key):\n",
    "    # Hunter.io API endpoint for company information\n",
    "    url = f\"https://api.hunter.io/v2/domain-search?domain={domain}&api_key={api_key}\"\n",
    "    \n",
    "    # Send GET request to the Hunter.io API\n",
    "    response = requests.get(url)\n",
    "    \n",
    "    # Check if the request was successful\n",
    "    if response.status_code == 200:\n",
    "        data = response.json()\n",
    "        if 'data' in data:\n",
    "            return data['data']\n",
    "        else:\n",
    "            return \"Company details not found\"\n",
    "    else:\n",
    "        return f\"Error: {response.status_code} - {response.json().get('errors', 'Unknown error')}\"\n",
    "    \n",
    "linkedin_details = get_company_details(company_name, api_key)"
   ]
  },
  {
   "cell_type": "markdown",
   "id": "b819d06a",
   "metadata": {
    "papermill": {},
    "tags": []
   },
   "source": [
    "## Output\n"
   ]
  },
  {
   "cell_type": "markdown",
   "id": "8b6ecf57-fec4-4e72-a7b8-4985bca76c05",
   "metadata": {},
   "source": [
    "### Display result"
   ]
  },
  {
   "cell_type": "code",
   "execution_count": 4,
   "id": "5182d09a-e6d7-4d9d-9f38-eb3a9ce87cf1",
   "metadata": {
    "execution": {
     "iopub.execute_input": "2024-06-25T13:15:31.267186Z",
     "iopub.status.busy": "2024-06-25T13:15:31.266948Z",
     "iopub.status.idle": "2024-06-25T13:15:31.293783Z",
     "shell.execute_reply": "2024-06-25T13:15:31.292934Z",
     "shell.execute_reply.started": "2024-06-25T13:15:31.267161Z"
    },
    "tags": []
   },
   "outputs": [
    {
     "data": {
      "text/html": [
       "<div>\n",
       "<style scoped>\n",
       "    .dataframe tbody tr th:only-of-type {\n",
       "        vertical-align: middle;\n",
       "    }\n",
       "\n",
       "    .dataframe tbody tr th {\n",
       "        vertical-align: top;\n",
       "    }\n",
       "\n",
       "    .dataframe thead th {\n",
       "        text-align: right;\n",
       "    }\n",
       "</style>\n",
       "<table border=\"1\" class=\"dataframe\">\n",
       "  <thead>\n",
       "    <tr style=\"text-align: right;\">\n",
       "      <th></th>\n",
       "      <th>URL</th>\n",
       "      <th>NAME</th>\n",
       "      <th>ID</th>\n",
       "      <th>OWNER_LOGIN</th>\n",
       "      <th>OWNER_ID</th>\n",
       "      <th>DESCRIPTION</th>\n",
       "      <th>CREATED_AT</th>\n",
       "      <th>TOPICS</th>\n",
       "      <th>NUMBER_OF_OPEN_ISSUES</th>\n",
       "      <th>LINKEDIN_URL</th>\n",
       "      <th>LINKEDIN_DESCRIPTION</th>\n",
       "      <th>INDUSTRY</th>\n",
       "      <th>TECHNOLOGIES</th>\n",
       "      <th>CITY</th>\n",
       "      <th>HEADCOUNT</th>\n",
       "      <th>COMPANY_TYPE</th>\n",
       "    </tr>\n",
       "  </thead>\n",
       "  <tbody>\n",
       "    <tr>\n",
       "      <th>0</th>\n",
       "      <td>https://api.github.com/repos/jupyter-naas/awes...</td>\n",
       "      <td>awesome-notebooks</td>\n",
       "      <td>299951448</td>\n",
       "      <td>jupyter-naas</td>\n",
       "      <td>71603764</td>\n",
       "      <td>A powerful data &amp; AI notebook templates catalo...</td>\n",
       "      <td>2020-09-30T14:44:55Z</td>\n",
       "      <td>[awesome, awesome-list, hacktoberfest, hacktob...</td>\n",
       "      <td>135</td>\n",
       "      <td>https://linkedin.com/company/naas-ai</td>\n",
       "      <td>Naas.ai is a data science platform that allows...</td>\n",
       "      <td>Software Development</td>\n",
       "      <td>[express, google-analytics, google-tag-manager...</td>\n",
       "      <td>Paris</td>\n",
       "      <td>1-10</td>\n",
       "      <td>privately held</td>\n",
       "    </tr>\n",
       "  </tbody>\n",
       "</table>\n",
       "</div>"
      ],
      "text/plain": [
       "                                                 URL               NAME  \\\n",
       "0  https://api.github.com/repos/jupyter-naas/awes...  awesome-notebooks   \n",
       "\n",
       "          ID   OWNER_LOGIN  OWNER_ID  \\\n",
       "0  299951448  jupyter-naas  71603764   \n",
       "\n",
       "                                         DESCRIPTION            CREATED_AT  \\\n",
       "0  A powerful data & AI notebook templates catalo...  2020-09-30T14:44:55Z   \n",
       "\n",
       "                                              TOPICS  NUMBER_OF_OPEN_ISSUES  \\\n",
       "0  [awesome, awesome-list, hacktoberfest, hacktob...                    135   \n",
       "\n",
       "                           LINKEDIN_URL  \\\n",
       "0  https://linkedin.com/company/naas-ai   \n",
       "\n",
       "                                LINKEDIN_DESCRIPTION              INDUSTRY  \\\n",
       "0  Naas.ai is a data science platform that allows...  Software Development   \n",
       "\n",
       "                                        TECHNOLOGIES   CITY HEADCOUNT  \\\n",
       "0  [express, google-analytics, google-tag-manager...  Paris      1-10   \n",
       "\n",
       "     COMPANY_TYPE  \n",
       "0  privately held  "
      ]
     },
     "execution_count": 4,
     "metadata": {},
     "output_type": "execute_result"
    }
   ],
   "source": [
    "data = []\n",
    "\n",
    "data.append({\n",
    "    \"URL\": repo_details[\"url\"],\n",
    "    \"NAME\": repo_details[\"name\"],\n",
    "    \"ID\": repo_details[\"id\"],\n",
    "    \"OWNER_LOGIN\": repo_details[\"owner\"][\"login\"],\n",
    "    \"OWNER_ID\": repo_details[\"owner\"][\"id\"],\n",
    "    \"DESCRIPTION\": repo_details[\"description\"],\n",
    "    \"CREATED_AT\": repo_details[\"created_at\"],\n",
    "    \"TOPICS\": repo_details[\"topics\"],\n",
    "    \"NUMBER_OF_OPEN_ISSUES\": repo_details[\"open_issues\"],\n",
    "    \"LINKEDIN_URL\": linkedin_details[\"linkedin\"],\n",
    "    \"LINKEDIN_DESCRIPTION\": linkedin_details[\"description\"],\n",
    "    \"INDUSTRY\": linkedin_details[\"industry\"],\n",
    "    \"TECHNOLOGIES\": linkedin_details[\"technologies\"],\n",
    "    \"CITY\": linkedin_details[\"city\"],\n",
    "    \"HEADCOUNT\": linkedin_details[\"headcount\"],\n",
    "    \"COMPANY_TYPE\": linkedin_details[\"company_type\"]\n",
    "})\n",
    "\n",
    "df = pd.DataFrame(data)\n",
    "df"
   ]
  },
  {
   "cell_type": "markdown",
   "id": "53724dc4-3314-45dc-9401-6899f485a70e",
   "metadata": {},
   "source": [
    "### Save dataframe to csv"
   ]
  },
  {
   "cell_type": "code",
   "execution_count": 5,
   "id": "5699155d-b0e3-40a5-b4bc-bbbecb4473a3",
   "metadata": {
    "execution": {
     "iopub.execute_input": "2024-06-25T13:15:31.295331Z",
     "iopub.status.busy": "2024-06-25T13:15:31.294998Z",
     "iopub.status.idle": "2024-06-25T13:15:31.397629Z",
     "shell.execute_reply": "2024-06-25T13:15:31.396954Z",
     "shell.execute_reply.started": "2024-06-25T13:15:31.295296Z"
    },
    "tags": []
   },
   "outputs": [],
   "source": [
    "df.to_csv(output_csv, index=False)"
   ]
  },
  {
   "cell_type": "code",
   "execution_count": null,
   "id": "2e04049a-dcbc-405f-811d-c0b6668ebc15",
   "metadata": {},
   "outputs": [],
   "source": []
  }
 ],
 "metadata": {
  "kernelspec": {
   "display_name": "Python 3",
   "language": "python",
   "name": "python3"
  },
  "language_info": {
   "codemirror_mode": {
    "name": "ipython",
    "version": 3
   },
   "file_extension": ".py",
   "mimetype": "text/x-python",
   "name": "python",
   "nbconvert_exporter": "python",
   "pygments_lexer": "ipython3",
   "version": "3.9.6"
  },
  "naas": {
   "notebook_id": "b8a92a0e4b6e40db304564f999566443fb35e93df716ab4be5021aabba8230ee",
   "notebook_path": "GitHub/GitHub_Add_new_issues_as_page_in_Notion_database.ipynb"
  },
  "papermill": {
   "default_parameters": {},
   "environment_variables": {},
   "parameters": {},
   "version": "2.3.4"
  }
 },
 "nbformat": 4,
 "nbformat_minor": 5
}
