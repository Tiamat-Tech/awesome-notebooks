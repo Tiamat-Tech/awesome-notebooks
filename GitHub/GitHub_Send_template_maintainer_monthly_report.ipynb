{
 "cells": [
  {
   "cell_type": "markdown",
   "id": "ada9f2a9-8daa-4b89-a03c-ffcdae2fd220",
   "metadata": {
    "papermill": {},
    "tags": []
   },
   "source": [
    "<img width=\"8%\" alt=\"GitHub.png\" src=\"https://raw.githubusercontent.com/jupyter-naas/awesome-notebooks/master/.github/assets/logos/GitHub.png\" style=\"border-radius: 15%\">"
   ]
  },
  {
   "cell_type": "markdown",
   "id": "373a7231-6f7d-47da-b3cd-6b8f5250223a",
   "metadata": {
    "papermill": {},
    "tags": []
   },
   "source": [
    "# GitHub - Send template maintainer monthly report\n",
    "<a href=\"https://bit.ly/3JyWIk6\">Give Feedback</a> | <a href=\"https://github.com/jupyter-naas/awesome-notebooks/issues/new?assignees=&labels=bug&template=bug_report.md&title=GitHub+-+Send+template+maintainer+monthly+report:+Error+short+description\">Bug report</a>"
   ]
  },
  {
   "cell_type": "markdown",
   "id": "611b4f12-8112-4e0f-b6ac-5bb96855fa7f",
   "metadata": {
    "papermill": {},
    "tags": []
   },
   "source": [
    "**Tags:** #github #issues #merged #rest #api #snippet #operations #email #awesomenotebooks #maintainer"
   ]
  },
  {
   "cell_type": "markdown",
   "id": "7903a6e2-70c3-4149-8279-c603417a7836",
   "metadata": {
    "papermill": {},
    "tags": []
   },
   "source": [
    "**Author:** [Benjamin Filly](https://www.linkedin.com/in/benjamin-filly-05427727a/)"
   ]
  },
  {
   "cell_type": "markdown",
   "id": "1a7a6048-1548-4cbe-b908-0a5279535847",
   "metadata": {
    "papermill": {},
    "tags": []
   },
   "source": [
    "**Last update:** 2023-07-24 (Created: 2023-07-24)"
   ]
  },
  {
   "cell_type": "markdown",
   "id": "4e3aadfe-6d61-41b9-80f2-a790718018ee",
   "metadata": {
    "papermill": {},
    "tags": []
   },
   "source": [
    "**Description:** This notebook retrieves data to ascertain the sponsorships provided by Naas for template maintainers and dispatches a notification on every 7th day of the month, as well as the last three days. It incorporates the monthly count of issue closed with estimates, and the number of Pull Requests reviewed within the month."
   ]
  },
  {
   "cell_type": "markdown",
   "id": "2b5dcc40-1fac-47c9-b577-26229548f2b1",
   "metadata": {
    "papermill": {},
    "tags": []
   },
   "source": [
    "**References:**\n",
    "- [GitHub REST API Documentation](https://docs.github.com/en/rest/issues/issues?apiVersion=2022-11-28#update-an-issue)\n",
    "- [os](https://docs.python.org/3/library/os.html)\n",
    "- [json](https://docs.python.org/3/library/json.html)\n",
    "- [datetime](https://docs.python.org/3/library/datetime.html)\n",
    "- [pandas](https://pandas.pydata.org/docs/)\n",
    "- [requests](https://docs.python-requests.org/en/latest/)"
   ]
  },
  {
   "cell_type": "markdown",
   "id": "892d0dd8-86b4-4788-86ac-a8a34a29cb94",
   "metadata": {
    "papermill": {},
    "tags": []
   },
   "source": [
    "## Input"
   ]
  },
  {
   "cell_type": "markdown",
   "id": "727b3406-2d41-41ff-aad6-10007bda4a69",
   "metadata": {
    "papermill": {},
    "tags": []
   },
   "source": [
    "### Import libraries"
   ]
  },
  {
   "cell_type": "code",
   "execution_count": null,
   "id": "d897d321-fa8c-4012-a743-b8178d9d41c1",
   "metadata": {
    "papermill": {},
    "tags": []
   },
   "outputs": [],
   "source": [
    "import pandas as pd\n",
    "from github import Github\n",
    "from datetime import datetime, timezone\n",
    "import requests\n",
    "from bs4 import BeautifulSoup\n",
    "from IPython.display import display, HTML\n",
    "import numpy as np\n",
    "from datetime import datetime\n",
    "import naas\n",
    "from naas_drivers import naasauth, emailbuilder\n",
    "import warnings\n",
    "warnings.filterwarnings(\"ignore\")"
   ]
  },
  {
   "cell_type": "markdown",
   "id": "18a7ce29-9182-4b79-8f5f-5032b8b8774f",
   "metadata": {
    "papermill": {},
    "tags": []
   },
   "source": [
    "### Setup variables\n",
    "**Mandatory**\n",
    "\n",
    "- `github_token`: [GitHub token](https://help.github.com/en/github/authenticating-to-github/creating-a-personal-access-token-for-the-command-line)\n",
    "- `contributor_profile`: GitHub username of the contributor\n",
    "\n",
    "**Optional**\n",
    "\n",
    "- `repo_name`: name of the repository in two part: owner_name/repository_name\n",
    "- `estimates_view_url`:Url of the project where the estimated are located\n",
    "- `cron`: cron params for naas scheduler change it using [Crontab](https://crontab.guru/)\n",
    "- `email_to`: This variable is used for storing a list of email addresses that will receive the notification email\n",
    "- `email_from`:  Email sender: Replace with your email account or notification@naas.ai\n",
    "- `subject`: Email subject"
   ]
  },
  {
   "cell_type": "code",
   "execution_count": null,
   "id": "ad68a533-dfdb-44ba-b1f8-860bbe5c8d08",
   "metadata": {
    "papermill": {},
    "tags": []
   },
   "outputs": [],
   "source": [
    "# Mandatory\n",
    "github_token = naas.secret.get(\"GITHUB_TOKEN\") or \"YOUR_GITHUB_TOKEN\"\n",
    "contributor_profile = \"FlorentLvr\"\n",
    "\n",
    "# Optional\n",
    "scenario = \"This Month\" #\"Last month\"\n",
    "repo_name = \"jupyter-naas/awesome-notebooks\" #Example: jupyter-naas/awesome-notebooks\n",
    "estimates_view_url = \"https://github.com/orgs/jupyter-naas/projects/10/views/20\" #example: https://github.com/orgs/jupyter-naas/projects/10/views/20\n",
    "cron = \"0 0 7,14,21,28,30,31 * *\" # At 00:00 on every day-of-month from 28 through 31\n",
    "email_to = [naasauth.connect().user.me().get(\"username\")] # List to emails address of the receiver(s)\n",
    "email_from = \"notification@naas.ai\"\n",
    "subject = \"Templates Maintainer Monthly Report\""
   ]
  },
  {
   "cell_type": "markdown",
   "id": "ef6aae6b-fe4b-4bc9-955b-533690997ea9",
   "metadata": {
    "papermill": {},
    "tags": []
   },
   "source": [
    "## Model"
   ]
  },
  {
   "cell_type": "markdown",
   "id": "528c059d-c5dc-4379-b364-5d8ca8bf7af9",
   "metadata": {
    "papermill": {},
    "tags": []
   },
   "source": [
    "### Connect to GitHub repo"
   ]
  },
  {
   "cell_type": "code",
   "execution_count": null,
   "id": "97cb8cb4-24e5-411c-a27a-ff58a355d3d4",
   "metadata": {
    "papermill": {},
    "tags": []
   },
   "outputs": [],
   "source": [
    "# Connect to the GitHub API using pygithub library\n",
    "g = Github(github_token)\n",
    "\n",
    "# Get the repository\n",
    "repo = g.get_repo(repo_name)"
   ]
  },
  {
   "cell_type": "markdown",
   "id": "24803d7e-669a-461f-9baa-27cffaf3797f",
   "metadata": {
    "papermill": {},
    "tags": []
   },
   "source": [
    "### Get PRs merged on scenario"
   ]
  },
  {
   "cell_type": "code",
   "execution_count": null,
   "id": "4b0b3db0-acdb-46cc-9248-e3eb8cfa0cc2",
   "metadata": {
    "papermill": {},
    "tags": []
   },
   "outputs": [],
   "source": [
    "# Create scenario to filter PRs\n",
    "def get_scenario(scenario):\n",
    "    # Init\n",
    "    current_date = datetime.now(timezone.utc)\n",
    "    date_scenario = current_date\n",
    "    \n",
    "    # Get date from scenario\n",
    "    if scenario == \"Last Month\":\n",
    "        month_scenario = current_date.month - 1  \n",
    "        date_scenario = current_date.replace(month=month_scenario)\n",
    "    return date_scenario\n",
    "\n",
    "scenario_filter = get_scenario(scenario)\n",
    "\n",
    "# Get PRs closed\n",
    "pull_requests = repo.get_pulls(state='closed', sort='updated', direction='desc')\n",
    "print(\"✅ Pull Requests closed:\", pull_requests.totalCount)\n",
    "\n",
    "# Get PRs merged on scenario\n",
    "merged_pr = []\n",
    "for pr in pull_requests:\n",
    "    # Get PRs merged\n",
    "    if pr.merged_at:\n",
    "        merged_at = pr.merged_at.strftime(\"%Y%m\")\n",
    "        \n",
    "        # Get PRs merged on scenario\n",
    "        if int(merged_at) == int(scenario_filter.strftime(\"%Y%m\")):\n",
    "            merged_pr.append(pr)\n",
    "        if int(merged_at) < int(scenario_filter.strftime(\"%Y%m\")):\n",
    "            break\n",
    "            \n",
    "print(f\"📌 Pull Requests merged on {scenario_filter.strftime('%Y-%m')}:\", len(merged_pr))"
   ]
  },
  {
   "cell_type": "markdown",
   "id": "fe2043a3-0093-4105-8017-ca527f28e624",
   "metadata": {
    "papermill": {},
    "tags": []
   },
   "source": [
    "### Get PRs assigned and reviewed by contributor"
   ]
  },
  {
   "cell_type": "code",
   "execution_count": null,
   "id": "e973208f-b299-4e07-a5e4-dbde4c2ef38f",
   "metadata": {
    "papermill": {},
    "tags": []
   },
   "outputs": [],
   "source": [
    "assigned_pr = []\n",
    "reviewed_pr = []\n",
    "\n",
    "for pr in merged_pr:\n",
    "    # Get PRs assigned\n",
    "    if pr.assignee and pr.assignee.login == contributor_profile:\n",
    "        assigned_pr.append(pr)\n",
    "        \n",
    "    # Get PRs reviewed\n",
    "    if pr.requested_reviewers:\n",
    "        for r in pr.requested_reviewers:\n",
    "            if r.login == contributor_profile:\n",
    "                reviewed_pr.append(pr)\n",
    "\n",
    "print(f\"🧑‍💻 Pull Requests assigned:\", len(assigned_pr))\n",
    "print(f\"👀 Pull Requests reviewed:\", len(reviewed_pr))"
   ]
  },
  {
   "cell_type": "markdown",
   "id": "b97ec4af-a6b2-41e8-a29e-c65fffd9d037",
   "metadata": {
    "papermill": {},
    "tags": []
   },
   "source": [
    "### Get estimates from project view"
   ]
  },
  {
   "cell_type": "code",
   "execution_count": null,
   "id": "59c0b2c9-9dc8-4071-bbca-d6fffed67a68",
   "metadata": {
    "papermill": {},
    "tags": []
   },
   "outputs": [],
   "source": [
    "# Init\n",
    "data_bs4 = []\n",
    "\n",
    "# Get HTML from URL\n",
    "response = requests.get(estimates_view_url)\n",
    "html = response.text\n",
    "\n",
    "# Parse HTML\n",
    "soup = BeautifulSoup(html, \"html.parser\")\n",
    "\n",
    "# Get cards\n",
    "elements = soup.find_all(\"script\", {\"id\": \"memex-items-data\"})\n",
    "\n",
    "# Iterate over the elements and split their text\n",
    "for element in elements:\n",
    "    text = element.text\n",
    "    split_text = text.split('{\"contentId\":')[1:]  # Split the text as needed\n",
    "    \n",
    "    # Split the soup for each element\n",
    "    for s in split_text:\n",
    "        s = s.split('\"memexProjectColumnId\":')[1:]\n",
    "        # Get the values using splits\n",
    "        title = s[0].split('\"raw\":\"')[-1].split('\"')[0]\n",
    "        issue_number = s[0].split('\"number\":')[-1].split(',')[0]\n",
    "        assignees = s[1].split('\"login\":\"')[-1].split('\"')[0]\n",
    "        PR_url = s[2].split('\"url\":\"')[-1].split('\"')[0]\n",
    "        estimate = s[3].split('\"value\":')[-1].split('}')[0]\n",
    "        \n",
    "        # Handle possible error\n",
    "        if not str(issue_number).isdigit():\n",
    "            issue_number = \"❌ Error\"\n",
    "        \n",
    "        # Create a dictionary with the values\n",
    "        tmp_bs4 = {\n",
    "            \"Title\": title,\n",
    "            \"Issue Number\": issue_number,\n",
    "            \"Assignees\": assignees,\n",
    "            \"PR URL\": PR_url,\n",
    "            \"Estimate\": estimate,\n",
    "        }\n",
    "        # Append the dictionary to the data list\n",
    "        data_bs4.append(tmp_bs4)\n",
    "\n",
    "# Create a DataFrame from the data list\n",
    "df_estimates = pd.DataFrame(data_bs4)     \n",
    "print(\"✅ Row fetched on estimates view:\", len(df_estimates))\n",
    "# df_estimates.head(1)"
   ]
  },
  {
   "cell_type": "markdown",
   "id": "f14411e4-400a-4eeb-974c-d209794b3b39",
   "metadata": {
    "papermill": {},
    "tags": []
   },
   "source": [
    "### Calculate estimates on issue closed"
   ]
  },
  {
   "cell_type": "code",
   "execution_count": null,
   "id": "6fb9b47e-b774-4955-8b5b-0a4ffff0b49d",
   "metadata": {
    "papermill": {},
    "tags": []
   },
   "outputs": [],
   "source": [
    "# Store the relevant information in a DataFrame\n",
    "data = []\n",
    "total_estimate = 0\n",
    "filtered_df_init = pd.DataFrame()\n",
    "\n",
    "for pr in assigned_pr:\n",
    "    tmp = {\n",
    "        \"title\": pr.title,\n",
    "        \"number\": pr.number,\n",
    "        \"url\": pr.html_url,\n",
    "        \"assignee\": pr.assignee.login,\n",
    "        \"created_at\": pr.created_at.isoformat(),\n",
    "        \"updated_at\": pr.updated_at.isoformat(),\n",
    "        \"merged_at\": pr.merged_at.isoformat(),\n",
    "    }\n",
    "    data.append(tmp)\n",
    "df_pr = pd.DataFrame(data)\n",
    "\n",
    "if len(df_pr) > 0:\n",
    "    # Filter df_init with the URLs from df_pr\n",
    "    filtered_df_init = df_estimates[df_estimates[\"PR URL\"].isin(df_pr[\"url\"])]\n",
    "    filtered_df_init['Estimate'] = filtered_df_init['Estimate'].str.replace(\"null\", \"0\")\n",
    "\n",
    "    # Set the display option for max column width to ensure the link is fully displayed\n",
    "    pd.set_option('display.max_colwidth', None)\n",
    "\n",
    "    # Convert the \"PR URL\" column values into clickable links using HTML formatting\n",
    "    filtered_df_init[\"PR URL\"] = filtered_df_init[\"PR URL\"].apply(lambda x: f'<a href=\"{x}\">{x}</a>')\n",
    "\n",
    "    # Calculate the total of the \"Estimate\" column and convert it to an integer\n",
    "    total_estimate = int(filtered_df_init[\"Estimate\"].astype(float).sum())\n",
    "\n",
    "    # Display the DataFrame with clickable links and format the \"Estimate\" column as integers\n",
    "    filtered_df_init[\"Estimate\"] = filtered_df_init[\"Estimate\"].astype(float).astype(int)\n",
    "    filtered_df_init[\"Email_List\"] = filtered_df_init[\"Title\"] + \": \" + filtered_df_init[\"Estimate\"].astype(str)\n",
    "    display(HTML(filtered_df_init.to_html(escape=False, index=False)))\n",
    "\n",
    "# Separate sentence with emoji for the total estimate\n",
    "print(f\"\\n🚀 The total estimate is: {total_estimate}\")"
   ]
  },
  {
   "cell_type": "markdown",
   "id": "79755e02-a51e-4857-ab66-e1064bb9d9dd",
   "metadata": {
    "papermill": {},
    "tags": []
   },
   "source": [
    "### Creating the E-mail\n",
    "We used `Naas_emailbuilder_demo.ipynb` to create our email."
   ]
  },
  {
   "cell_type": "code",
   "execution_count": null,
   "id": "b9311339-e5f0-4ed2-a347-43aceec3382d",
   "metadata": {
    "papermill": {},
    "tags": []
   },
   "outputs": [],
   "source": [
    "# Sample logo URL\n",
    "logo_img = \"https://landen.imgix.net/jtci2pxwjczr/assets/5ice39g4.png?w=186\"\n",
    "\n",
    "# Get the current date\n",
    "scenario_display = scenario_filter.strftime(\"%B %Y\")\n",
    "\n",
    "# Convert the \"Estimate\" column values to string\n",
    "sum_estimates = 0\n",
    "list_issues = []\n",
    "if len(filtered_df_init) > 0:\n",
    "    sum_estimates = filtered_df_init[\"Estimate\"].astype(int).sum()\n",
    "    list_issues = [emailbuilder.link(row[\"PR URL\"], row[\"Email_List\"]) for index, row in filtered_df_init.iterrows()]\n",
    "list_prs = [emailbuilder.link(pr.html_url, pr.title) for pr in reviewed_pr]\n",
    "\n",
    "reward_issues_merged = sum_estimates * 5\n",
    "reward_prs_reviewed = len(list_prs) * 10\n",
    "rewards =  reward_issues_merged + reward_prs_reviewed\n",
    "\n",
    "# Define the content for the email using the email builder\n",
    "email_content = {\n",
    "#     \"element\": naas_drivers.emailbuilder.title(f'<div {center_style}>📝 Report on templates created for {contributor_profile}</div>'),\n",
    "    \"heading\": emailbuilder.heading(f'Monthly Report - {scenario_display}'),\n",
    "    \"intro\": emailbuilder.text(f\"Hi {contributor_profile},\"),\n",
    "    \"reward\": emailbuilder.text(f'💵 Here is the reward your contribution as templates maintainer: {rewards}$'),\n",
    "    \"reward_det\": emailbuilder.list([f\"Issues closed by PRs merged: {reward_issues_merged} $\", f\"PRs reviewed: {reward_prs_reviewed} $\"]),\n",
    "    \"contrib\": emailbuilder.text(f'Please find below the detail of your contributions.'),\n",
    "    \"assign\": emailbuilder.text(f'🧑‍💻 Issues closed by PRs merged: {len(filtered_df_init)} (Total estimates: {sum_estimates})'),\n",
    "    \"assign_list\": emailbuilder.list(list_issues),\n",
    "    \"review\": emailbuilder.text(f'👀💻 PRs reviewed: {len(reviewed_pr)}'),\n",
    "    \"review_list\": emailbuilder.list(list_prs),\n",
    "    \"footer\": emailbuilder.footer_company(naas=True),\n",
    "}\n",
    "\n",
    "# Generate the email content as HTML\n",
    "content = emailbuilder.generate(display=\"iframe\", **email_content)"
   ]
  },
  {
   "cell_type": "markdown",
   "id": "04c0ae0c-1d5b-49bf-beab-f3d7f57d13a4",
   "metadata": {
    "papermill": {},
    "tags": []
   },
   "source": [
    "## Output"
   ]
  },
  {
   "cell_type": "markdown",
   "id": "b840ab64-0a49-420e-aff7-e15d45c28636",
   "metadata": {
    "papermill": {},
    "tags": []
   },
   "source": [
    "### Send email"
   ]
  },
  {
   "cell_type": "code",
   "execution_count": null,
   "id": "216048d6-3c43-45ac-812a-081354e441b0",
   "metadata": {
    "papermill": {},
    "tags": []
   },
   "outputs": [],
   "source": [
    "# Send the email using naas.notification\n",
    "naas.notification.send(email_to=email_to, subject=subject, html=content, email_from=email_from)"
   ]
  },
  {
   "cell_type": "markdown",
   "id": "6588288f-c9e0-4950-a322-2a733b27ab06",
   "metadata": {
    "papermill": {},
    "tags": []
   },
   "source": [
    "### Add scheduler"
   ]
  },
  {
   "cell_type": "code",
   "execution_count": null,
   "id": "178b1e5a-a74b-408c-bf4b-fa5aaa03caad",
   "metadata": {
    "papermill": {},
    "tags": []
   },
   "outputs": [],
   "source": [
    "naas.scheduler.add(cron=cron)"
   ]
  },
  {
   "cell_type": "markdown",
   "id": "8626fe95-eb67-4da1-ba0a-a97042ad090e",
   "metadata": {
    "papermill": {},
    "tags": []
   },
   "source": [
    " "
   ]
  }
 ],
 "metadata": {
  "kernelspec": {
   "display_name": "Python 3",
   "language": "python",
   "name": "python3"
  },
  "language_info": {
   "codemirror_mode": {
    "name": "ipython",
    "version": 3
   },
   "file_extension": ".py",
   "mimetype": "text/x-python",
   "name": "python",
   "nbconvert_exporter": "python",
   "pygments_lexer": "ipython3",
   "version": "3.9.6"
  },
  "naas": {
   "notebook_id": "c10a991b52bbeb12828cfcc922d3d1126bc807071ecf6038d593adbe94fbc6e8",
   "notebook_path": "GitHub/GitHub_Send_template_maintainer_monthly_report.ipynb"
  },
  "papermill": {
   "default_parameters": {},
   "environment_variables": {},
   "parameters": {},
   "version": "2.4.0"
  },
  "widgets": {
   "application/vnd.jupyter.widget-state+json": {
    "state": {},
    "version_major": 2,
    "version_minor": 0
   }
  }
 },
 "nbformat": 4,
 "nbformat_minor": 5
}