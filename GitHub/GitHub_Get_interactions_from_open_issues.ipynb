{
 "cells": [
  {
   "cell_type": "markdown",
   "id": "84cadd0c",
   "metadata": {
    "papermill": {},
    "tags": []
   },
   "source": [
    "<img width=\"8%\" alt=\"GitHub.png\" src=\"https://raw.githubusercontent.com/jupyter-naas/awesome-notebooks/master/.github/assets/logos/GitHub.png\" style=\"border-radius: 15%\">"
   ]
  },
  {
   "cell_type": "markdown",
   "id": "0d43ed38",
   "metadata": {
    "papermill": {},
    "tags": []
   },
   "source": [
    "# GitHub - Get interactions from open issues\n",
    "<a href=\"https://bit.ly/3JyWIk6\">Give Feedback</a> | <a href=\"https://github.com/jupyter-naas/awesome-notebooks/issues/new?assignees=&labels=bug&template=bug_report.md&title=GitHub+-+Get+interactions+from+open+issues:+Error+short+description\">Bug report</a>"
   ]
  },
  {
   "cell_type": "markdown",
   "id": "d9313642",
   "metadata": {
    "papermill": {},
    "tags": []
   },
   "source": [
    "**Tags:** #github #openIssues #reaction #comment #creator #assignees #automation"
   ]
  },
  {
   "cell_type": "markdown",
   "id": "8faf487c",
   "metadata": {
    "papermill": {},
    "tags": []
   },
   "source": [
    "**Author:** [Varsha Kumar](https://www.linkedin.com/in/varsha-kumar-590466305/)"
   ]
  },
  {
   "cell_type": "markdown",
   "id": "3dba1c73-548d-4008-82ad-fdb2cb376771",
   "metadata": {
    "papermill": {},
    "tags": []
   },
   "source": [
    "**Last update:** 2024-06-10 (Created: 2024-06-04)"
   ]
  },
  {
   "cell_type": "markdown",
   "id": "naas-description",
   "metadata": {
    "papermill": {},
    "tags": [
     "description"
    ]
   },
   "source": [
    "**Description:** This notebook allows users to retrieve all comments, reactions and creator/assignee data from open issues on a given repository."
   ]
  },
  {
   "cell_type": "markdown",
   "id": "7412988b",
   "metadata": {
    "papermill": {},
    "tags": []
   },
   "source": [
    "## Input"
   ]
  },
  {
   "cell_type": "code",
   "execution_count": 1,
   "id": "353ef79c",
   "metadata": {
    "papermill": {},
    "tags": []
   },
   "outputs": [],
   "source": [
    "import requests\n",
    "import re\n",
    "import pandas as pd\n",
    "import naas_python as naas\n",
    "from urllib.parse import urlparse\n",
    "import time\n",
    "import plotly.express as px\n",
    "from naas_drivers import github"
   ]
  },
  {
   "cell_type": "markdown",
   "id": "68b48858",
   "metadata": {
    "papermill": {},
    "tags": []
   },
   "source": [
    "### Setup variables\n",
    "- `github_token`: personal token creates\n",
    "- `github_url`: link to the chosen github repo\n",
    "- `state`: type of issue"
   ]
  },
  {
   "cell_type": "code",
   "execution_count": 2,
   "id": "01647a55",
   "metadata": {
    "papermill": {},
    "tags": []
   },
   "outputs": [],
   "source": [
    "github_token = naas.secret.get(\"GITHUB_TOKEN\").value\n",
    "repo_url = \"https://github.com/jupyter-naas/awesome-notebooks\"\n",
    "state = 'open'\n",
    "output_csv = f\"{repo_url.split('github.com/')[1].replace('/', '_')}_{state}_issues.csv\""
   ]
  },
  {
   "cell_type": "markdown",
   "id": "93347abb",
   "metadata": {
    "papermill": {},
    "tags": []
   },
   "source": [
    "## Model"
   ]
  },
  {
   "cell_type": "markdown",
   "id": "a1465f96-d485-49ef-9a33-d649ae970ce1",
   "metadata": {
    "papermill": {},
    "tags": []
   },
   "source": [
    "### Filter on open issues without pull requests"
   ]
  },
  {
   "cell_type": "code",
   "execution_count": 3,
   "id": "efd6342d-9bb9-4618-8264-44ae069bb02c",
   "metadata": {
    "papermill": {},
    "tags": []
   },
   "outputs": [],
   "source": [
    "def get_filtered_open_issues(github_url, personal_access_token):\n",
    "    # Parse the GitHub URL to get the owner and repo name\n",
    "    parsed_url = urlparse(github_url)\n",
    "    path_parts = parsed_url.path.strip('/').split('/')\n",
    "    \n",
    "    if len(path_parts) != 2:\n",
    "        raise ValueError(\"Invalid GitHub URL. It should be in the format: https://github.com/owner/repo\")\n",
    "    \n",
    "    owner, repo = path_parts\n",
    "    \n",
    "    # GitHub API URL for issues\n",
    "    api_url = f\"https://api.github.com/repos/{owner}/{repo}/issues\"\n",
    "    \n",
    "    # Set up headers with personal access token for authentication\n",
    "    headers = {\n",
    "        'Authorization': f'token {personal_access_token}',\n",
    "        'Accept': 'application/vnd.github.v3+json'\n",
    "    }\n",
    "    \n",
    "    # Set up parameters to get only open issues\n",
    "    params = {\n",
    "        'state': state,\n",
    "        'filter': 'all',\n",
    "        'per_page': 100  # Set the number of issues per page to 100 (maximum allowed by GitHub API)\n",
    "    }\n",
    "    \n",
    "    # Initialize an empty list to store all open issues excluding pull requests\n",
    "    filtered_issues = []\n",
    "    \n",
    "    # Pagination to fetch all issues\n",
    "    page = 1\n",
    "    while True:\n",
    "        params['page'] = page\n",
    "        response = requests.get(api_url, headers=headers, params=params)\n",
    "        \n",
    "        if response.status_code != 200:\n",
    "            raise Exception(f\"Error fetching issues from GitHub: {response.status_code} {response.reason}\")\n",
    "        \n",
    "        issues = response.json()\n",
    "        if not issues:\n",
    "            break\n",
    "        \n",
    "        # Filter out pull requests from the issues\n",
    "        for issue in issues:\n",
    "            if 'pull_request' not in issue:\n",
    "                filtered_issues.append(issue)\n",
    "        \n",
    "        page += 1\n",
    "    \n",
    "    return filtered_issues\n",
    "\n",
    "\n",
    "filtered_issues = get_filtered_open_issues(repo_url, github_token)"
   ]
  },
  {
   "cell_type": "markdown",
   "id": "c44d0487-7974-4041-a5d9-3dddafb177ba",
   "metadata": {
    "papermill": {},
    "tags": []
   },
   "source": [
    "### Get interactions from issues"
   ]
  },
  {
   "cell_type": "code",
   "execution_count": 4,
   "id": "25515662-6221-4d31-bce9-e811ab1a70c6",
   "metadata": {
    "papermill": {},
    "tags": []
   },
   "outputs": [],
   "source": [
    "# Get comments and reactions from issues\n",
    "def get_all_comments(api_url, personal_access_token):\n",
    "    # Set up headers with personal access token for authentication\n",
    "    headers = {\n",
    "        'Authorization': f'token {personal_access_token}',\n",
    "        'Accept': 'application/vnd.github.v3+json'\n",
    "    }\n",
    "\n",
    "    # Get comments for the issue\n",
    "    response = requests.get(api_url + '/comments', headers=headers)\n",
    "    if response.status_code != 200:\n",
    "        raise Exception(f\"Error fetching comments from GitHub: {response.status_code} {response.reason}\")\n",
    "    comments = response.json()\n",
    "\n",
    "    return comments\n",
    "\n",
    "def get_comment_reactions(comment_url, personal_access_token):\n",
    "    headers = {\n",
    "        \"Authorization\": f\"token {personal_access_token}\",\n",
    "        \"Accept\": \"application/vnd.github.squirrel-girl-preview+json\"\n",
    "    }\n",
    "    # Get reactions for the issue\n",
    "    response = requests.get(comment_url + \"/reactions\", headers=headers)\n",
    "    response.raise_for_status()\n",
    "    return response.json()\n",
    "    \n",
    "def get_interactions(\n",
    "    url,\n",
    "    uid,\n",
    "    interaction_type,\n",
    "    content,\n",
    "    time,\n",
    "    user_login,\n",
    "    user_id,\n",
    "):\n",
    "    return {\n",
    "        \"URL\": url,\n",
    "        \"ID\": uid,\n",
    "        \"TYPE\": interaction_type,\n",
    "        \"CONTENT\": content,\n",
    "        \"DATE_TIME\": time,\n",
    "        \"USER_LOGIN\": user_login,\n",
    "        \"USER_ID\": user_id,\n",
    "    }"
   ]
  },
  {
   "cell_type": "markdown",
   "id": "b819d06a",
   "metadata": {
    "papermill": {},
    "tags": []
   },
   "source": [
    "## Output\n",
    "### Display table of interactions"
   ]
  },
  {
   "cell_type": "code",
   "execution_count": 5,
   "id": "9c8fcf83-0e5f-4b5f-857d-6356c066f78a",
   "metadata": {
    "papermill": {},
    "tags": []
   },
   "outputs": [],
   "source": [
    "data = []\n",
    "    \n",
    "for issue in filtered_issues:\n",
    "    # Creator\n",
    "    issue_number = issue['number']\n",
    "    issue_url = issue['url']\n",
    "    issue_content = issue['title']\n",
    "    issue_time = issue['created_at']\n",
    "    issue_user_login = issue['user']['login']\n",
    "    issue_user_id = issue['user']['id']\n",
    "\n",
    "    # Get creator\n",
    "    data_creator = get_interactions(\n",
    "        issue_url,\n",
    "        str(issue_number) + \"_\" +  str(issue_user_id),\n",
    "        \"CREATOR\",\n",
    "        issue_content,\n",
    "        issue_time,\n",
    "        issue_user_login,\n",
    "        issue_user_id,\n",
    "    )\n",
    "    data.append(data_creator)\n",
    "    \n",
    "    # Get Assignees\n",
    "    if len(issue['assignees']) > 0:\n",
    "        for assignee in issue['assignees']:\n",
    "            data_assignee = get_interactions(\n",
    "                issue_url,\n",
    "                str(issue_number) + \"_\" + str(assignee['id']),\n",
    "                \"ASSIGNEE\",\n",
    "                issue_content,\n",
    "                issue_time,\n",
    "                assignee['login'],\n",
    "                assignee['id'],\n",
    "            )\n",
    "            data.append(data_assignee)\n",
    "            \n",
    "    # Get comments\n",
    "    comments = get_all_comments(issue_url, github_token)\n",
    "    for comment in comments:\n",
    "        comment_id = comment['id']\n",
    "        comment_body = comment['body']\n",
    "        comment_created_at = comment['created_at']\n",
    "        comment_user_login = comment['user']['login']\n",
    "        comment_user_id = comment['user']['id']\n",
    "        data_comment = get_interactions(\n",
    "            issue_url,\n",
    "            comment_id,\n",
    "            \"COMMENT\",\n",
    "            comment_body,\n",
    "            comment_created_at,\n",
    "            comment_user_login,\n",
    "            comment_user_id,\n",
    "        )\n",
    "        \n",
    "        data.append(data_comment)\n",
    "        #print (comment)\n",
    "        reactions = get_comment_reactions(comment['url'], github_token)\n",
    "        if len(reactions) > 0:\n",
    "            for reaction in reactions:\n",
    "                reaction_id = reaction['id']\n",
    "                reaction_body = reaction['content']\n",
    "                reaction_created_at = reaction['created_at']\n",
    "                reaction_user_login = reaction['user']['login']\n",
    "                reaction_user_id = reaction['user']['id']\n",
    "                data_reaction = get_interactions(\n",
    "                    issue_url,\n",
    "                    reaction_id,\n",
    "                    \"REACTION\",\n",
    "                    reaction_body,\n",
    "                    reaction_created_at,\n",
    "                    reaction_user_login,\n",
    "                    reaction_user_id,\n",
    "                )\n",
    "                data.append(data_reaction)\n",
    "df = pd.DataFrame(data)\n",
    "print(len(df))\n",
    "df.head(1)"
   ]
  },
  {
   "cell_type": "markdown",
   "id": "99326698-b159-4d99-a808-2e0a0265edf4",
   "metadata": {
    "papermill": {},
    "tags": []
   },
   "source": [
    "### Save DataFrame to csv"
   ]
  },
  {
   "cell_type": "code",
   "execution_count": 6,
   "id": "a4262376-54fc-4a0e-bd37-b9a6749b60d2",
   "metadata": {
    "papermill": {},
    "tags": []
   },
   "outputs": [],
   "source": [
    "# df.to_csv(output_csv, index=False)"
   ]
  },
  {
   "cell_type": "markdown",
   "id": "08e3ea7e-b513-4208-a73e-4e510c20d0a4",
   "metadata": {
    "papermill": {},
    "tags": []
   },
   "source": [
    "### Display table with interactions count"
   ]
  },
  {
   "cell_type": "code",
   "execution_count": 6,
   "id": "58ead729-b221-4d54-8f0f-ca728550c505",
   "metadata": {
    "papermill": {},
    "tags": []
   },
   "outputs": [],
   "source": [
    "def get_interactions(df):\n",
    "    # Groupby and count\n",
    "    df = df.groupby([\"USER_LOGIN\"], as_index=False).agg({\"ID\": \"count\"})\n",
    "\n",
    "    # Cleaning\n",
    "    df = df.rename(columns={\"ID\": \"NUMBER_OF_INTERACTIONS\"})\n",
    "    return df.sort_values(by=\"NUMBER_OF_INTERACTIONS\", ascending=False).reset_index(drop=True)\n",
    "\n",
    "\n",
    "df_statistics = get_interactions(df)\n",
    "pd.DataFrame(df_statistics)"
   ]
  },
  {
   "cell_type": "markdown",
   "id": "b1f2d5fc-4d27-40a4-b198-deb35a049bfa",
   "metadata": {
    "papermill": {},
    "tags": []
   },
   "source": [
    "### Display on bar chart"
   ]
  },
  {
   "cell_type": "code",
   "execution_count": 7,
   "id": "44f46f37-b447-430b-8e8f-3d4206c51ab4",
   "metadata": {
    "papermill": {},
    "tags": []
   },
   "outputs": [],
   "source": [
    "def create_barchart(df, url):\n",
    "    # Get repository\n",
    "    repository = url.split(\"/\")[-1]\n",
    "\n",
    "    # Sort df\n",
    "    df = df.sort_values(by=\"NUMBER_OF_INTERACTIONS\")\n",
    "\n",
    "    # Calc commits\n",
    "    interactions = df.NUMBER_OF_INTERACTIONS.sum()\n",
    "\n",
    "    # Create fig\n",
    "    fig = px.bar(\n",
    "        df,\n",
    "        y=\"USER_LOGIN\",\n",
    "        x=\"NUMBER_OF_INTERACTIONS\",\n",
    "        orientation=\"h\",\n",
    "        title=f\"GitHub - {repository} : Issue interactions by user <br><span style='font-size: 13px;'>Total interactions: {interactions}</span>\",\n",
    "        text=\"NUMBER_OF_INTERACTIONS\",\n",
    "        labels={\"USER_LOGIN\": \"Login\", \"NUMBER_OF_INTERACTIONS\": \"Number of Interactions\"},\n",
    "    )\n",
    "    fig.update_traces(marker_color=\"black\")\n",
    "    fig.update_layout(\n",
    "        plot_bgcolor=\"#ffffff\",\n",
    "        width=1200,\n",
    "        height=800,\n",
    "        font=dict(family=\"Arial\", size=14, color=\"black\"),\n",
    "        paper_bgcolor=\"white\",\n",
    "        xaxis_title=None,\n",
    "        xaxis_showticklabels=False,\n",
    "        yaxis_title=None,\n",
    "        margin_pad=10,\n",
    "    )\n",
    "    fig.show()\n",
    "    return fig\n",
    "\n",
    "\n",
    "fig = create_barchart(df_statistics, repo_url)"
   ]
  },
  {
   "cell_type": "markdown",
   "id": "719581e9-158b-402d-aeaa-e1e8715abb92",
   "metadata": {
    "papermill": {},
    "tags": []
   },
   "source": [
    "### Display table with top user data "
   ]
  },
  {
   "cell_type": "code",
   "execution_count": 13,
   "id": "fa61edd6-fcd2-435d-ade5-c81465310ecc",
   "metadata": {
    "papermill": {},
    "tags": []
   },
   "outputs": [],
   "source": [
    "# Get top user\n",
    "top_user = df_statistics.at[0, 'USER_LOGIN']\n",
    "\n",
    "# Get number of creations, assignments, comments, and reactions\n",
    "top_user_creations = ((df['USER_LOGIN'] == top_user) & (df['TYPE'] == 'CREATOR')).sum()\n",
    "\n",
    "top_user_assignees = ((df['USER_LOGIN'] == top_user) & (df['TYPE'] == 'ASSIGNEE')).sum()\n",
    "\n",
    "top_user_comments = ((df['USER_LOGIN'] == top_user) & (df['TYPE'] == 'COMMENT')).sum()\n",
    "\n",
    "top_user_reactions = ((df['USER_LOGIN'] == top_user) & (df['TYPE'] == 'REACTION')).sum()\n",
    "\n",
    "top_user_data = []\n",
    "top_user_data.append({\n",
    "    \"TYPE\": \"Creations\",\n",
    "    \"AMOUNT\": top_user_creations\n",
    "})\n",
    "\n",
    "top_user_data.append({\n",
    "    \"TYPE\": \"Assignments\",\n",
    "    \"AMOUNT\": top_user_assignees\n",
    "})\n",
    "\n",
    "top_user_data.append({\n",
    "    \"TYPE\": \"Comments\",\n",
    "    \"AMOUNT\": top_user_comments\n",
    "})\n",
    "\n",
    "top_user_data.append({\n",
    "    \"TYPE\": \"Reactions\",\n",
    "    \"AMOUNT\": top_user_reactions\n",
    "})\n",
    "\n",
    "df_top_user_data = pd.DataFrame(top_user_data)\n",
    "df_top_user_data"
   ]
  },
  {
   "cell_type": "markdown",
   "id": "0ea1065e-3757-47a8-87c7-e28a790bf31f",
   "metadata": {
    "papermill": {},
    "tags": []
   },
   "source": [
    "### Display on bar chart"
   ]
  },
  {
   "cell_type": "code",
   "execution_count": 17,
   "id": "d4711f15-3933-4625-a55f-d79c8ea551eb",
   "metadata": {
    "papermill": {},
    "tags": []
   },
   "outputs": [],
   "source": [
    "def create_barchart(df, user, url):\n",
    "    \n",
    "    repository = url.split(\"/\")[-1]\n",
    "    \n",
    "    # Sort df\n",
    "    df = df.sort_values(by=\"AMOUNT\")\n",
    "\n",
    "    # Calc commits\n",
    "    interactions = df.AMOUNT.sum()\n",
    "\n",
    "    # Create fig\n",
    "    fig = px.bar(\n",
    "        df,\n",
    "        y=\"TYPE\",\n",
    "        x=\"AMOUNT\",\n",
    "        orientation=\"h\",\n",
    "        title=f\"GitHub - {repository} : Issue interactions by top user <br><span style='font-size: 13px;'>Total interactions: {interactions}<br>Top user: {user}</span>\",\n",
    "        text=\"AMOUNT\",\n",
    "        labels={\"TYPE\": \"type\", \"AMOUNT\": \"amount\"},\n",
    "    )\n",
    "    fig.update_traces(marker_color=\"black\")\n",
    "    fig.update_layout(\n",
    "        plot_bgcolor=\"#ffffff\",\n",
    "        width=1200,\n",
    "        height=800,\n",
    "        font=dict(family=\"Arial\", size=14, color=\"black\"),\n",
    "        paper_bgcolor=\"white\",\n",
    "        xaxis_title=None,\n",
    "        xaxis_showticklabels=False,\n",
    "        yaxis_title=None,\n",
    "        margin_pad=10,\n",
    "    )\n",
    "    fig.show()\n",
    "    return fig\n",
    "\n",
    "\n",
    "fig = create_barchart(df_top_user_data, top_user, repo_url)"
   ]
  },
  {
   "cell_type": "code",
   "execution_count": null,
   "id": "a72f7407-823e-4bce-8723-20622ff564f7",
   "metadata": {
    "papermill": {},
    "tags": []
   },
   "outputs": [],
   "source": []
  }
 ],
 "metadata": {
  "kernelspec": {
   "display_name": "Python 3",
   "language": "python",
   "name": "python3"
  },
  "language_info": {
   "codemirror_mode": {
    "name": "ipython",
    "version": 3
   },
   "file_extension": ".py",
   "mimetype": "text/x-python",
   "name": "python",
   "nbconvert_exporter": "python",
   "pygments_lexer": "ipython3",
   "version": "3.9.6"
  },
  "naas": {
   "notebook_id": "319c2576ddc21bd3f895ce8dd9bed8b99a100bfd409e91107758d7ce8e7b9cd9",
   "notebook_path": "GitHub/GitHub_Get_interactions_from_open_issues.ipynb"
  },
  "papermill": {
   "default_parameters": {},
   "environment_variables": {},
   "parameters": {},
   "version": "2.3.4"
  }
 },
 "nbformat": 4,
 "nbformat_minor": 5
}