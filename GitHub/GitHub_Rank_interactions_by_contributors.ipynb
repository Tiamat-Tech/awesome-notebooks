{
 "cells": [
  {
   "cell_type": "markdown",
   "id": "84cadd0c",
   "metadata": {
    "papermill": {},
    "tags": []
   },
   "source": [
    "<img width=\"8%\" alt=\"GitHub.png\" src=\"https://raw.githubusercontent.com/jupyter-naas/awesome-notebooks/master/.github/assets/logos/GitHub.png\" style=\"border-radius: 15%\">"
   ]
  },
  {
   "cell_type": "markdown",
   "id": "0d43ed38",
   "metadata": {
    "papermill": {},
    "tags": []
   },
   "source": [
    "# GitHub - Rank interactions by contributors\n",
    "<a href=\"https://bit.ly/3JyWIk6\">Give Feedback</a> | <a href=\"https://github.com/jupyter-naas/awesome-notebooks/issues/new?assignees=&labels=bug&template=bug_report.md&title=GitHub+-+Rank+interactions+by+contributors:+Error+short+description\">Bug report</a>"
   ]
  },
  {
   "cell_type": "markdown",
   "id": "d9313642",
   "metadata": {
    "papermill": {},
    "tags": []
   },
   "source": [
    "**Tags:** #github #reaction #comment #creator #assignees #automation"
   ]
  },
  {
   "cell_type": "markdown",
   "id": "8faf487c",
   "metadata": {
    "papermill": {},
    "tags": []
   },
   "source": [
    "**Author:** [Varsha Kumar](https://www.linkedin.com/in/varsha-kumar-590466305/)"
   ]
  },
  {
   "cell_type": "markdown",
   "id": "3dba1c73-548d-4008-82ad-fdb2cb376771",
   "metadata": {
    "papermill": {},
    "tags": []
   },
   "source": [
    "**Last update:** 2024-06-17 (Created: 2024-06-04)"
   ]
  },
  {
   "cell_type": "markdown",
   "id": "naas-description",
   "metadata": {
    "papermill": {},
    "tags": [
     "description"
    ]
   },
   "source": [
    "**Description:** This notebook ranks all interactions made by contributors in a repository."
   ]
  },
  {
   "cell_type": "markdown",
   "id": "7412988b",
   "metadata": {
    "papermill": {},
    "tags": []
   },
   "source": [
    "## Input"
   ]
  },
  {
   "cell_type": "code",
   "execution_count": 1,
   "id": "353ef79c",
   "metadata": {
    "papermill": {},
    "tags": []
   },
   "outputs": [],
   "source": [
    "import requests\n",
    "import re\n",
    "import pandas as pd\n",
    "import naas_python as naas\n",
    "from urllib.parse import urlparse\n",
    "import time\n",
    "import plotly.express as px\n",
    "from naas_drivers import github\n",
    "import ipywidgets as widgets\n",
    "from IPython.display import display\n",
    "from IPython.display import display, clear_output"
   ]
  },
  {
   "cell_type": "markdown",
   "id": "68b48858",
   "metadata": {
    "papermill": {},
    "tags": []
   },
   "source": [
    "### Setup variables\n",
    "- `github_token`: personal token creates\n",
    "- `github_url`: link to the chosen github repo\n",
    "- `input_csv`: excel file"
   ]
  },
  {
   "cell_type": "code",
   "execution_count": 2,
   "id": "01647a55",
   "metadata": {
    "papermill": {},
    "tags": []
   },
   "outputs": [],
   "source": [
    "github_token = naas.secret.get(\"GITHUB_TOKEN\").value\n",
    "repo_url = \"https://github.com/jupyter-naas/workspace\"\n",
    "input_csv = \"jupyter-naas_workspace_interactions.csv\""
   ]
  },
  {
   "cell_type": "markdown",
   "id": "93347abb",
   "metadata": {
    "papermill": {},
    "tags": []
   },
   "source": [
    "## Model"
   ]
  },
  {
   "cell_type": "markdown",
   "id": "718e4c74-7ae6-432c-9e4f-f369239f78a5",
   "metadata": {
    "papermill": {},
    "tags": []
   },
   "source": [
    "### Reads excel file"
   ]
  },
  {
   "cell_type": "code",
   "execution_count": 3,
   "id": "410cdf20-83eb-48db-8d9c-523d2b8c0a6d",
   "metadata": {
    "papermill": {},
    "tags": []
   },
   "outputs": [],
   "source": [
    "df = pd.read_csv(input_csv)"
   ]
  },
  {
   "cell_type": "markdown",
   "id": "08e3ea7e-b513-4208-a73e-4e510c20d0a4",
   "metadata": {
    "papermill": {},
    "tags": []
   },
   "source": [
    "### Ranks contributors by interactions"
   ]
  },
  {
   "cell_type": "code",
   "execution_count": 4,
   "id": "58ead729-b221-4d54-8f0f-ca728550c505",
   "metadata": {
    "papermill": {},
    "tags": []
   },
   "outputs": [],
   "source": [
    "def get_interactions(df):\n",
    "    # Groupby and count\n",
    "    df = df.groupby([\"USER_LOGIN\"], as_index=False).agg({\"ID\": \"count\"})\n",
    "\n",
    "    # Cleaning\n",
    "    df = df.rename(columns={\"ID\": \"NUMBER_OF_INTERACTIONS\"})\n",
    "    return df.sort_values(by=\"NUMBER_OF_INTERACTIONS\", ascending=False).reset_index(drop=True)\n",
    "\n",
    "\n",
    "df_statistics = get_interactions(df)\n",
    "pd.DataFrame(df_statistics)"
   ]
  },
  {
   "cell_type": "markdown",
   "id": "0301eedb-6ed3-4fe7-943a-c40f0849f33b",
   "metadata": {
    "papermill": {},
    "tags": []
   },
   "source": [
    "### Create barchart for rankings"
   ]
  },
  {
   "cell_type": "code",
   "execution_count": 5,
   "id": "5d3f856b-05e1-4512-a690-389b20b82c92",
   "metadata": {
    "papermill": {},
    "tags": []
   },
   "outputs": [],
   "source": [
    "def create_ranking_barchart(df, url):\n",
    "    # Get repository\n",
    "    repository = url.split(\"/\")[-1]\n",
    "\n",
    "    # Sort df\n",
    "    df = df.sort_values(by=\"NUMBER_OF_INTERACTIONS\")\n",
    "\n",
    "    # Calc commits\n",
    "    interactions = df.NUMBER_OF_INTERACTIONS.sum()\n",
    "\n",
    "    # Create fig\n",
    "    fig = px.bar(\n",
    "        df,\n",
    "        y=\"USER_LOGIN\",\n",
    "        x=\"NUMBER_OF_INTERACTIONS\",\n",
    "        orientation=\"h\",\n",
    "        title=f\"GitHub - {repository} : Issue interactions by user <br><span style='font-size: 13px;'>Total interactions: {interactions}</span>\",\n",
    "        text=\"NUMBER_OF_INTERACTIONS\",\n",
    "        labels={\"USER_LOGIN\": \"Login\", \"NUMBER_OF_INTERACTIONS\": \"Number of Interactions\"},\n",
    "    )\n",
    "    fig.update_traces(marker_color=\"black\")\n",
    "    fig.update_layout(\n",
    "        plot_bgcolor=\"#ffffff\",\n",
    "        width=1000,\n",
    "        height=1200,\n",
    "        font=dict(family=\"Arial\", size=14, color=\"black\"),\n",
    "        paper_bgcolor=\"white\",\n",
    "        xaxis_title=None,\n",
    "        xaxis_showticklabels=False,\n",
    "        yaxis_title=None,\n",
    "        margin_pad=10,\n",
    "    )\n",
    "    fig.show()\n",
    "    return fig"
   ]
  },
  {
   "cell_type": "markdown",
   "id": "a05a3ea1-7719-49ec-baf1-f95c2b881caa",
   "metadata": {
    "papermill": {},
    "tags": []
   },
   "source": [
    "### Create barchart for selected user"
   ]
  },
  {
   "cell_type": "code",
   "execution_count": 6,
   "id": "9fb5f1b1-17fc-4872-87ba-3229daf9a0ba",
   "metadata": {
    "papermill": {},
    "tags": []
   },
   "outputs": [],
   "source": [
    "def create_selected_user_barchart(df, user, url):\n",
    "    \n",
    "    repository = url.split(\"/\")[-1]\n",
    "    \n",
    "    # Sort df\n",
    "    df = df.sort_values(by=\"AMOUNT\")\n",
    "\n",
    "    # Calc commits\n",
    "    interactions = df.AMOUNT.sum()\n",
    "\n",
    "    # Create fig\n",
    "    fig = px.bar(\n",
    "        df,\n",
    "        y=\"TYPE\",\n",
    "        x=\"AMOUNT\",\n",
    "        orientation=\"h\",\n",
    "        title=f\"GitHub - {repository} : Issue interactions by user <br><span style='font-size: 13px;'>Total interactions: {interactions}<br>User: {user}</span>\",\n",
    "        text=\"AMOUNT\",\n",
    "        labels={\"TYPE\": \"type\", \"AMOUNT\": \"amount\"},\n",
    "    )\n",
    "    fig.update_traces(marker_color=\"black\")\n",
    "    fig.update_layout(\n",
    "        plot_bgcolor=\"#ffffff\",\n",
    "        width=1000,\n",
    "        height=800,\n",
    "        font=dict(family=\"Arial\", size=14, color=\"black\"),\n",
    "        paper_bgcolor=\"white\",\n",
    "        xaxis_title=None,\n",
    "        xaxis_showticklabels=False,\n",
    "        yaxis_title=None,\n",
    "        margin_pad=10,\n",
    "    )\n",
    "    fig.show()\n",
    "    return fig"
   ]
  },
  {
   "cell_type": "markdown",
   "id": "b819d06a",
   "metadata": {
    "papermill": {},
    "tags": []
   },
   "source": [
    "## Output"
   ]
  },
  {
   "cell_type": "markdown",
   "id": "b1f2d5fc-4d27-40a4-b198-deb35a049bfa",
   "metadata": {
    "papermill": {},
    "tags": []
   },
   "source": [
    "### Display rankings on bar chart"
   ]
  },
  {
   "cell_type": "code",
   "execution_count": 7,
   "id": "44f46f37-b447-430b-8e8f-3d4206c51ab4",
   "metadata": {
    "papermill": {},
    "tags": []
   },
   "outputs": [],
   "source": [
    "fig = create_ranking_barchart(df_statistics, repo_url)"
   ]
  },
  {
   "cell_type": "markdown",
   "id": "b903a382-0ed9-452f-84ec-f5376c21e1e5",
   "metadata": {
    "papermill": {},
    "tags": []
   },
   "source": [
    "### Display dropdown menu with selected user data"
   ]
  },
  {
   "cell_type": "code",
   "execution_count": 8,
   "id": "ffdf7b88-fbe8-4009-aaad-6f825bb0a9f0",
   "metadata": {
    "papermill": {},
    "tags": []
   },
   "outputs": [],
   "source": [
    "user_dropdown = widgets.Dropdown(\n",
    "    options=df_statistics['USER_LOGIN'].unique(),\n",
    "    description='User:',\n",
    "    disabled=False,\n",
    ")\n",
    "\n",
    "def Dropdown_Menu(value):\n",
    "\n",
    "    x = list(df_statistics['USER_LOGIN'].unique())\n",
    "\n",
    "    pos = x.index(value)\n",
    "    user = x[pos]\n",
    "\n",
    "    user_creations = ((df['USER_LOGIN'] == user) & (df['INTERACTION_TYPE'] == 'CREATOR')).sum()\n",
    "\n",
    "    user_assignees = ((df['USER_LOGIN'] == user) & (df['INTERACTION_TYPE'] == 'ASSIGNEE')).sum()\n",
    "\n",
    "    user_comments = ((df['USER_LOGIN'] == user) & (df['INTERACTION_TYPE'] == 'COMMENT')).sum()\n",
    "\n",
    "    user_reactions = ((df['USER_LOGIN'] == user) & (df['INTERACTION_TYPE'] == 'REACTION')).sum()\n",
    "\n",
    "    user_commits = ((df['USER_LOGIN'] == user) & (df['INTERACTION_TYPE'] == 'COMMIT')).sum()\n",
    "\n",
    "    user_data = []\n",
    "    user_data.append({\n",
    "        \"TYPE\": \"Creations\",\n",
    "        \"AMOUNT\": user_creations\n",
    "    })\n",
    "\n",
    "    user_data.append({\n",
    "        \"TYPE\": \"Assignments\",\n",
    "        \"AMOUNT\": user_assignees\n",
    "    })\n",
    "\n",
    "    user_data.append({\n",
    "        \"TYPE\": \"Comments\",\n",
    "        \"AMOUNT\": user_comments\n",
    "    })\n",
    "\n",
    "    user_data.append({\n",
    "        \"TYPE\": \"Reactions\",\n",
    "        \"AMOUNT\": user_reactions\n",
    "    })\n",
    "\n",
    "    user_data.append({\n",
    "        \"TYPE\": \"Commits\",\n",
    "        \"AMOUNT\": user_commits\n",
    "    })\n",
    "\n",
    "    df_user_data = pd.DataFrame(user_data)\n",
    "    fig = create_selected_user_barchart(df_user_data, user, repo_url)\n",
    "    \n",
    "\n",
    "widgets.interact(Dropdown_Menu, value=user_dropdown) "
   ]
  },
  {
   "cell_type": "code",
   "execution_count": null,
   "id": "4a835779-50fb-455c-bf81-0c3d6e15c507",
   "metadata": {
    "papermill": {},
    "tags": []
   },
   "outputs": [],
   "source": []
  }
 ],
 "metadata": {
  "kernelspec": {
   "display_name": "Python 3",
   "language": "python",
   "name": "python3"
  },
  "language_info": {
   "codemirror_mode": {
    "name": "ipython",
    "version": 3
   },
   "file_extension": ".py",
   "mimetype": "text/x-python",
   "name": "python",
   "nbconvert_exporter": "python",
   "pygments_lexer": "ipython3",
   "version": "3.9.6"
  },
  "naas": {
   "notebook_id": "924785f18f87ee19aeb86e4af16adf197b0d989e59ac1761ddff5be2c3823dd9",
   "notebook_path": "GitHub/GitHub_Rank_interactions_by_contributors.ipynb"
  },
  "papermill": {
   "default_parameters": {},
   "environment_variables": {},
   "parameters": {},
   "version": "2.3.4"
  }
 },
 "nbformat": 4,
 "nbformat_minor": 5
}