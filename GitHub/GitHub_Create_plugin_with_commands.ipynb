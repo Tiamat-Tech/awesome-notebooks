{
 "cells": [
  {
   "cell_type": "markdown",
   "id": "a92ad770-55bd-450c-8e6e-de64c0347cdd",
   "metadata": {
    "papermill": {},
    "tags": []
   },
   "source": [
    "<img width=\"8%\" alt=\"GitHub.png\" src=\"https://raw.githubusercontent.com/jupyter-naas/awesome-notebooks/master/.github/assets/logos/GitHub.png\" style=\"border-radius: 15%\">"
   ]
  },
  {
   "cell_type": "markdown",
   "id": "a5b2c509-2c29-49e8-af91-4f3f1e386da3",
   "metadata": {
    "papermill": {},
    "tags": []
   },
   "source": [
    "# GitHub - Create plugin with commands\n",
    "<a href=\"https://bit.ly/3JyWIk6\">Give Feedback</a> | <a href=\"https://github.com/jupyter-naas/awesome-notebooks/issues/new?assignees=&labels=bug&template=bug_report.md&title=GitHub+-+Create+plugin+with+commands:+Error+short+description\">Bug report</a>"
   ]
  },
  {
   "cell_type": "markdown",
   "id": "d77fe283-4edd-42d3-a909-8e207d4b842f",
   "metadata": {
    "papermill": {},
    "tags": []
   },
   "source": [
    "**Tags:** #github #naaschatplugin #naas #naas_driver"
   ]
  },
  {
   "cell_type": "markdown",
   "id": "b90f2d91-c886-4e36-8265-b09d06bb1c7f",
   "metadata": {
    "papermill": {},
    "tags": []
   },
   "source": [
    "**Author:** [Florent Ravenel](https://www.linkedin.com/in/florent-ravenel)"
   ]
  },
  {
   "cell_type": "markdown",
   "id": "6bbf7807-dda4-4b8a-b016-fe258a0fa33f",
   "metadata": {
    "papermill": {},
    "tags": []
   },
   "source": [
    "**Last update:** 2023-09-28 (Created: 2023-09-28)"
   ]
  },
  {
   "cell_type": "markdown",
   "id": "214749fe-7f0b-4755-b7ea-1d200c234cc6",
   "metadata": {
    "papermill": {},
    "tags": []
   },
   "source": [
    "**Description:** This notebook creates a Naas Chat plugin using commands from GitHub templates."
   ]
  },
  {
   "cell_type": "markdown",
   "id": "a1329bea-ad80-4981-874c-8776b11f89a8",
   "metadata": {
    "papermill": {},
    "tags": []
   },
   "source": [
    "**References:**\n",
    "- [Naas Chat Documentation](https://site.naas.ai/docs/platform/aI-powered-chat)\n",
    "- [Naas Chat Plugin driver](https://github.com/jupyter-naas/drivers/blob/main/naas_drivers/tools/naas_chat_plugin.py)"
   ]
  },
  {
   "cell_type": "markdown",
   "id": "cff349c8-2816-4ae4-9229-027c068eeb51",
   "metadata": {
    "papermill": {},
    "tags": []
   },
   "source": [
    "## Input"
   ]
  },
  {
   "cell_type": "markdown",
   "id": "80266a9e-fe54-4f3e-aeb2-01483bbc53f9",
   "metadata": {
    "papermill": {},
    "tags": []
   },
   "source": [
    "### Import libraries"
   ]
  },
  {
   "cell_type": "code",
   "execution_count": null,
   "id": "cc038b10-2679-42bc-909e-09a298339df4",
   "metadata": {
    "papermill": {},
    "tags": []
   },
   "outputs": [],
   "source": [
    "import os\n",
    "import naas\n",
    "from naas_drivers import naas_chat_plugin\n",
    "from IPython.display import Markdown"
   ]
  },
  {
   "cell_type": "markdown",
   "id": "e930da4d-39a2-424e-8808-77fd0a3829bf",
   "metadata": {
    "papermill": {},
    "tags": []
   },
   "source": [
    "### Setup variables\n",
    "**Mandatory**\n",
    "- `name`: The name of the plugin.\n",
    "- `system_prompt`: The system prompt for the plugin.\n",
    "- `input_dir`: The path where the webhooks should be stored. By default, you can access all templates in your Naas Lab in \"/home/ftp/__templates__/\"\n",
    "\n",
    "**Optional**\n",
    "- `body`: This variable stores the body to be send by the webhook.\n",
    "- `model`: The name of the model to be used for tokenization. Default is \"gpt-3.5-turbo-16k\".\n",
    "- `temperature`: The temperature parameter for the model. Default is 0.\n",
    "- `output_path`: The path where the JSON file should be saved. If not provided, it will be created from the plugin name."
   ]
  },
  {
   "cell_type": "code",
   "execution_count": null,
   "id": "6cf9bd9b-ce83-45a5-ab0f-15c978458b42",
   "metadata": {
    "papermill": {},
    "tags": []
   },
   "outputs": [],
   "source": [
    "# Mandatory\n",
    "name = \"GitHub Agent\"\n",
    "system_prompt = f\"You are a GitHub assistant. Start presenting yourself and tell the user the commands they could use: [COMMANDS]\"\n",
    "input_dir = \"/home/ftp/__templates__\"\n",
    "\n",
    "# Optional\n",
    "body = {}\n",
    "model = \"gpt-3.5-turbo-16k\"\n",
    "temperature = 0\n",
    "output_path = None"
   ]
  },
  {
   "cell_type": "markdown",
   "id": "9070993a-eec9-4f78-a7f9-2e18c743a20d",
   "metadata": {
    "papermill": {},
    "tags": []
   },
   "source": [
    "## Model"
   ]
  },
  {
   "cell_type": "markdown",
   "id": "3f79c338-3c58-4d6a-8240-250b11afd155",
   "metadata": {
    "papermill": {},
    "tags": []
   },
   "source": [
    "### Push Webhook to production\n",
    "Webhook URL to be included in command of your Naas Chat plugin."
   ]
  },
  {
   "cell_type": "code",
   "execution_count": null,
   "id": "f7a13fc3-a8fb-44c5-8405-a519291f4abb",
   "metadata": {
    "papermill": {},
    "tags": []
   },
   "outputs": [],
   "source": [
    "webhook_url1 = naas.webhook.add(f\"{input_dir}/GitHub/GitHub_Connect_from_Naas_Chat.ipynb\", params={\"inline\": True})\n",
    "webhook_url2 = naas.webhook.add(f\"{input_dir}/GitHub/GitHub_Create_Issue_from_Naas_Chat.ipynb\", params={\"inline\": True})"
   ]
  },
  {
   "cell_type": "markdown",
   "id": "0a3b559d-4396-48f8-ab6e-e59734e527be",
   "metadata": {
    "papermill": {},
    "tags": []
   },
   "source": [
    "### Create command\n",
    "Modify payload with parameters"
   ]
  },
  {
   "cell_type": "code",
   "execution_count": null,
   "id": "d871551d-3603-4c88-9545-ea2c42fa6021",
   "metadata": {
    "papermill": {},
    "tags": []
   },
   "outputs": [],
   "source": [
    "commands = [\n",
    "    {\n",
    "        \"name\": \"GitHub_Connect_from_Naas_Chat\",\n",
    "        \"action\": {\n",
    "          \"request_type\": \"POST\",\n",
    "          \"url\": webhook_url1,\n",
    "          \"payload\": {\n",
    "              \"secret_value\": {\n",
    "                  \"type\": \"str\",\n",
    "                  \"description\": \"GitHub token to be add as secret\",\n",
    "                  \"default\": \"\"\n",
    "              },\n",
    "              \"github_url\": {\n",
    "                  \"type\": \"str\",\n",
    "                  \"description\": \"GitHub organization html URL\",\n",
    "                  \"default\": \"\"\n",
    "              },\n",
    "          }\n",
    "        }\n",
    "    },\n",
    "    {\n",
    "        \"name\": \"GitHub_Create_Issue_from_Naas_Chat\",\n",
    "        \"action\": {\n",
    "          \"request_type\": \"POST\",\n",
    "          \"url\": webhook_url2,\n",
    "          \"payload\": {\n",
    "              \"repo_url\": {\n",
    "                  \"type\": \"str\",\n",
    "                  \"description\": \"GitHub repository URL. By default, https://github.com/jupyter-naas/awesome-notebooks\",\n",
    "                  \"default\": \"https://github.com/jupyter-naas/awesome-notebooks\"\n",
    "              },\n",
    "              \"title\": {\n",
    "                  \"type\": \"str\",\n",
    "                  \"description\": \"Issue title to create template such as Tool + Action verb like GitHub - Create Issue\",\n",
    "                  \"default\": \"\"\n",
    "              },\n",
    "              \"description\": {\n",
    "                  \"type\": \"str\",\n",
    "                  \"description\": \"Issue description\",\n",
    "                  \"default\": \"\"\n",
    "              },\n",
    "              \"assignee\": {\n",
    "                  \"type\": \"str\",\n",
    "                  \"description\": \"Optional: Profile to be assigned to task\",\n",
    "                  \"default\": \"\"\n",
    "              },\n",
    "              \"label\": {\n",
    "                  \"type\": \"str\",\n",
    "                  \"description\": \"Optional: good first issue, enhancement, fix\",\n",
    "                  \"default\": \"\"\n",
    "              },\n",
    "          }\n",
    "        }\n",
    "    }\n",
    "]"
   ]
  },
  {
   "cell_type": "markdown",
   "id": "81ce4521-731f-42cb-8ace-0e7611c750b3",
   "metadata": {
    "papermill": {},
    "tags": []
   },
   "source": [
    "## Output"
   ]
  },
  {
   "cell_type": "markdown",
   "id": "2d959298-e04a-459f-85d9-1b12bb5754c9",
   "metadata": {
    "papermill": {},
    "tags": []
   },
   "source": [
    "### Create Naas Chat plugin\n",
    "This function will generate the plugin in JSON format and also verify if your prompt adheres to the recommended limit, which is set at 20% of the maximum tokens allowed by the model. Then, it will save your plugin in your local environment."
   ]
  },
  {
   "cell_type": "code",
   "execution_count": null,
   "id": "ac0af791-9f6d-4da8-82d0-1defed0bc59f",
   "metadata": {
    "papermill": {},
    "tags": []
   },
   "outputs": [],
   "source": [
    "plugin_file_path = naas_chat_plugin.create_plugin(\n",
    "    name=name,\n",
    "    prompt=system_prompt.replace(\"[COMMANDS]\", \", \".join([x.get(\"name\") for x in commands])),\n",
    "    model=model,\n",
    "    temperature=temperature,\n",
    "    output_path=output_path,\n",
    "    commands=commands\n",
    ")"
   ]
  },
  {
   "cell_type": "markdown",
   "id": "34b625a0-f39b-4c7e-82f5-cc58a11ec902",
   "metadata": {
    "papermill": {},
    "tags": []
   },
   "source": [
    "### Create asset\n",
    "This asset can be utilized by using the command `/use` in your Naas Chat or by simply clicking on the link provided in the cell below."
   ]
  },
  {
   "cell_type": "code",
   "execution_count": null,
   "id": "39437f23-bcf8-40df-9538-32b3cac1c8fb",
   "metadata": {
    "papermill": {},
    "tags": []
   },
   "outputs": [],
   "source": [
    "plugin_url = naas.asset.add(plugin_file_path, params={\"inline\": True})"
   ]
  },
  {
   "cell_type": "markdown",
   "id": "bfc2ad1e-e2be-4896-8c19-3c9e5a100322",
   "metadata": {
    "papermill": {},
    "tags": []
   },
   "source": [
    "### Create new chat\n",
    "You don't need to click on 'Create New Chat' everytime you update your system prompt, you can use the command `/refresh`."
   ]
  },
  {
   "cell_type": "code",
   "execution_count": null,
   "id": "ea0bc155-93f5-49d9-ba34-613340d2ea2f",
   "metadata": {
    "papermill": {},
    "tags": []
   },
   "outputs": [],
   "source": [
    "Markdown(f\"[Create New Chat](https://naas.ai/chat/use?plugin_url={plugin_url})\")"
   ]
  },
  {
   "cell_type": "code",
   "execution_count": null,
   "id": "720c23a6-0b39-474a-8176-fcc17372b687",
   "metadata": {
    "papermill": {},
    "tags": []
   },
   "outputs": [],
   "source": []
  }
 ],
 "metadata": {
  "kernelspec": {
   "display_name": "Python 3",
   "language": "python",
   "name": "python3"
  },
  "language_info": {
   "codemirror_mode": {
    "name": "ipython",
    "version": 3
   },
   "file_extension": ".py",
   "mimetype": "text/x-python",
   "name": "python",
   "nbconvert_exporter": "python",
   "pygments_lexer": "ipython3",
   "version": "3.9.6"
  },
  "naas": {
   "notebook_id": "d376a4cfdf00d1197e0cd54cf4e801052d22a6e15133079bf4d3ff56c29fc5a0",
   "notebook_path": "GitHub/GitHub_Create_plugin_with_commands.ipynb"
  },
  "papermill": {
   "default_parameters": {},
   "environment_variables": {},
   "parameters": {},
   "version": "2.4.0"
  },
  "widgets": {
   "application/vnd.jupyter.widget-state+json": {
    "state": {},
    "version_major": 2,
    "version_minor": 0
   }
  }
 },
 "nbformat": 4,
 "nbformat_minor": 5
}