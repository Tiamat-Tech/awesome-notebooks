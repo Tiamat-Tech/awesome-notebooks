{
 "cells": [
  {
   "cell_type": "markdown",
   "id": "ced3929c-7d03-49d2-94f7-c186bf6ee7a3",
   "metadata": {
    "papermill": {},
    "tags": []
   },
   "source": [
    "<img width=\"8%\" alt=\"GitHub.png\" src=\"https://raw.githubusercontent.com/jupyter-naas/awesome-notebooks/master/.github/assets/logos/GitHub.png\" style=\"border-radius: 15%\">"
   ]
  },
  {
   "cell_type": "markdown",
   "id": "b00c39ca-3d99-48c6-8e7c-b1462f696749",
   "metadata": {
    "papermill": {},
    "tags": []
   },
   "source": [
    "# GitHub - Get profile from user\n",
    "<a href=\"https://bit.ly/3JyWIk6\">Give Feedback</a> | <a href=\"https://github.com/jupyter-naas/awesome-notebooks/issues/new?assignees=&labels=bug&template=bug_report.md&title=GitHub+-+Get+profile+from+user:+Error+short+description\">Bug report</a>"
   ]
  },
  {
   "cell_type": "markdown",
   "id": "a1c9f0e8-a8b5-4ede-9656-295a2f8b1680",
   "metadata": {
    "papermill": {},
    "tags": []
   },
   "source": [
    "**Tags:** #github #user #profile #operations #snippet #dataframe"
   ]
  },
  {
   "cell_type": "markdown",
   "id": "623fd0d5-6b2f-4dd4-ab2c-35c918e3de45",
   "metadata": {
    "papermill": {},
    "tags": []
   },
   "source": [
    "**Author:** [Varsha Kumar](https://www.linkedin.com/in/varsha-kumar-590466305/)"
   ]
  },
  {
   "cell_type": "markdown",
   "id": "8b19baa3-f323-4c42-87ea-d99663ca4875",
   "metadata": {
    "papermill": {},
    "tags": []
   },
   "source": [
    "**Last update:** 2024-06-25 (Created: 2022-03-18)"
   ]
  },
  {
   "cell_type": "markdown",
   "id": "naas-description",
   "metadata": {
    "papermill": {},
    "tags": [
     "description"
    ]
   },
   "source": [
    "**Description:** This notebook provides a way to retrieve a user's profile information from GitHub."
   ]
  },
  {
   "cell_type": "markdown",
   "id": "3d06b4aa-5607-475d-a5c7-d4896f02efbb",
   "metadata": {
    "papermill": {},
    "tags": []
   },
   "source": [
    "## Input"
   ]
  },
  {
   "cell_type": "markdown",
   "id": "1a3276ae-5b97-4737-ba44-0b748c4ad216",
   "metadata": {
    "papermill": {},
    "tags": []
   },
   "source": [
    "### Import libraries"
   ]
  },
  {
   "cell_type": "code",
   "execution_count": 1,
   "id": "120e7d13-d71b-4faa-8d71-416c2fa0c2c6",
   "metadata": {
    "execution": {
     "iopub.execute_input": "2024-06-25T13:13:18.880510Z",
     "iopub.status.busy": "2024-06-25T13:13:18.880055Z",
     "iopub.status.idle": "2024-06-25T13:13:25.406452Z",
     "shell.execute_reply": "2024-06-25T13:13:25.405750Z",
     "shell.execute_reply.started": "2024-06-25T13:13:18.880427Z"
    },
    "papermill": {},
    "tags": []
   },
   "outputs": [],
   "source": [
    "from naas_drivers import github\n",
    "import naas\n",
    "import requests\n",
    "import pandas as pd"
   ]
  },
  {
   "cell_type": "markdown",
   "id": "d8c845b7-ef77-4ba2-877b-66eca1116c7e",
   "metadata": {
    "papermill": {},
    "tags": []
   },
   "source": [
    "### Setup variables"
   ]
  },
  {
   "cell_type": "markdown",
   "id": "6c1d574c-c48c-489a-9e32-baaea89f76bd",
   "metadata": {},
   "source": [
    "- `github_username`: user profile\n",
    "- `GITHUB_TOKEN`: token to access github information\n",
    "- `output_csv`: excel file"
   ]
  },
  {
   "cell_type": "code",
   "execution_count": 3,
   "id": "d34cda87-0ba2-4992-bb11-506cd6a4e52b",
   "metadata": {
    "execution": {
     "iopub.execute_input": "2024-06-25T13:14:13.396619Z",
     "iopub.status.busy": "2024-06-25T13:14:13.396365Z",
     "iopub.status.idle": "2024-06-25T13:14:14.564488Z",
     "shell.execute_reply": "2024-06-25T13:14:14.563808Z",
     "shell.execute_reply.started": "2024-06-25T13:14:13.396591Z"
    },
    "papermill": {},
    "tags": []
   },
   "outputs": [],
   "source": [
    "github_username = \"FlorentLvr\"\n",
    "GITHUB_TOKEN = naas.secret.get(\"GITHUB_TOKEN\")\n",
    "output_csv = f\"{github_username}_profile.csv\""
   ]
  },
  {
   "cell_type": "markdown",
   "id": "65bb6473-255b-4cc8-a821-dca6c828b269",
   "metadata": {
    "papermill": {},
    "tags": []
   },
   "source": [
    "## Model"
   ]
  },
  {
   "cell_type": "markdown",
   "id": "0a64c86c-4ce4-4b6d-b289-c8981e1a8831",
   "metadata": {
    "papermill": {},
    "tags": []
   },
   "source": [
    "### Get profile from user"
   ]
  },
  {
   "cell_type": "code",
   "execution_count": 4,
   "id": "08bf3c6d-fe4d-41c9-980c-96259ef20598",
   "metadata": {
    "execution": {
     "iopub.execute_input": "2024-06-25T13:14:15.765905Z",
     "iopub.status.busy": "2024-06-25T13:14:15.765671Z",
     "iopub.status.idle": "2024-06-25T13:14:16.350195Z",
     "shell.execute_reply": "2024-06-25T13:14:16.349649Z",
     "shell.execute_reply.started": "2024-06-25T13:14:15.765880Z"
    },
    "papermill": {},
    "tags": []
   },
   "outputs": [
    {
     "name": "stdout",
     "output_type": "stream",
     "text": [
      "Email not found in GitHub profile. Checking commit history...\n",
      "Found emails: {'48032461+FlorentLvr@users.noreply.github.com', 'florent@naas.ai', 'florent.frvservices@gmail.com'}\n"
     ]
    },
    {
     "data": {
      "text/plain": [
       "{'login': 'FlorentLvr',\n",
       " 'id': 48032461,\n",
       " 'node_id': 'MDQ6VXNlcjQ4MDMyNDYx',\n",
       " 'avatar_url': 'https://avatars.githubusercontent.com/u/48032461?v=4',\n",
       " 'gravatar_id': '',\n",
       " 'url': 'https://api.github.com/users/FlorentLvr',\n",
       " 'html_url': 'https://github.com/FlorentLvr',\n",
       " 'followers_url': 'https://api.github.com/users/FlorentLvr/followers',\n",
       " 'following_url': 'https://api.github.com/users/FlorentLvr/following{/other_user}',\n",
       " 'gists_url': 'https://api.github.com/users/FlorentLvr/gists{/gist_id}',\n",
       " 'starred_url': 'https://api.github.com/users/FlorentLvr/starred{/owner}{/repo}',\n",
       " 'subscriptions_url': 'https://api.github.com/users/FlorentLvr/subscriptions',\n",
       " 'organizations_url': 'https://api.github.com/users/FlorentLvr/orgs',\n",
       " 'repos_url': 'https://api.github.com/users/FlorentLvr/repos',\n",
       " 'events_url': 'https://api.github.com/users/FlorentLvr/events{/privacy}',\n",
       " 'received_events_url': 'https://api.github.com/users/FlorentLvr/received_events',\n",
       " 'type': 'User',\n",
       " 'site_admin': False,\n",
       " 'name': 'Florent',\n",
       " 'company': '@jupyter-naas',\n",
       " 'blog': '',\n",
       " 'location': None,\n",
       " 'email': None,\n",
       " 'hireable': None,\n",
       " 'bio': None,\n",
       " 'twitter_username': None,\n",
       " 'public_repos': 1,\n",
       " 'public_gists': 0,\n",
       " 'followers': 27,\n",
       " 'following': 5,\n",
       " 'created_at': '2019-02-26T20:34:19Z',\n",
       " 'updated_at': '2024-01-18T14:50:35Z'}"
      ]
     },
     "execution_count": 4,
     "metadata": {},
     "output_type": "execute_result"
    }
   ],
   "source": [
    "def get_github_user_info(username, token=None):\n",
    "    url = f\"https://api.github.com/users/{username}\"\n",
    "    headers = {\"Authorization\": f\"token {token}\"} if token else {}\n",
    "    response = requests.get(url, headers=headers)\n",
    "    if response.status_code == 200:\n",
    "        return response.json()\n",
    "    else:\n",
    "        return None\n",
    "\n",
    "def get_commit_emails(username, token=None):\n",
    "    url = f\"https://api.github.com/users/{username}/events/public\"\n",
    "    headers = {\"Authorization\": f\"token {token}\"} if token else {}\n",
    "    response = requests.get(url, headers=headers)\n",
    "    emails = set()\n",
    "    \n",
    "    if response.status_code == 200:\n",
    "        events = response.json()\n",
    "        for event in events:\n",
    "            if event['type'] == 'PushEvent':\n",
    "                for commit in event['payload']['commits']:\n",
    "                    emails.add(commit['author']['email'])\n",
    "        return emails\n",
    "    else:\n",
    "        return f\"Error: {response.status_code} - {response.json().get('message', 'Unknown error')}\"\n",
    "\n",
    "\n",
    "# Fetch basic GitHub user information\n",
    "github_user_info = get_github_user_info(github_username, GITHUB_TOKEN)\n",
    "\n",
    "if github_user_info:\n",
    "    email = github_user_info.get('email')\n",
    "    if email:\n",
    "        print(f\"Email: {email}\")\n",
    "    else:\n",
    "        print(\"Email not found in GitHub profile. Checking commit history...\")\n",
    "        # If no email is found in the profile, check commit history\n",
    "        emails = get_commit_emails(github_username, GITHUB_TOKEN)\n",
    "        if isinstance(emails, set):\n",
    "            if emails:\n",
    "                print(f\"Found emails: {emails}\")\n",
    "            else:\n",
    "                print(\"No emails found in commit history.\")\n",
    "        else:\n",
    "            print(emails)\n",
    "else:\n",
    "    print(\"GitHub user not found.\")\n",
    "    \n",
    "github_user_info"
   ]
  },
  {
   "cell_type": "markdown",
   "id": "9297c876-48d2-4d7e-9b02-522bd5ecbfe4",
   "metadata": {
    "papermill": {},
    "tags": []
   },
   "source": [
    "## Output"
   ]
  },
  {
   "cell_type": "markdown",
   "id": "2e2f2b40-e65d-4c19-84d8-0392e01182f3",
   "metadata": {
    "papermill": {},
    "tags": []
   },
   "source": [
    "### Display result"
   ]
  },
  {
   "cell_type": "code",
   "execution_count": 5,
   "id": "7f433f48-09db-4e0b-b55d-ce07909899a7",
   "metadata": {
    "execution": {
     "iopub.execute_input": "2024-06-25T13:14:17.764555Z",
     "iopub.status.busy": "2024-06-25T13:14:17.764226Z",
     "iopub.status.idle": "2024-06-25T13:14:17.791103Z",
     "shell.execute_reply": "2024-06-25T13:14:17.790384Z",
     "shell.execute_reply.started": "2024-06-25T13:14:17.764518Z"
    },
    "papermill": {},
    "tags": []
   },
   "outputs": [
    {
     "data": {
      "text/html": [
       "<div>\n",
       "<style scoped>\n",
       "    .dataframe tbody tr th:only-of-type {\n",
       "        vertical-align: middle;\n",
       "    }\n",
       "\n",
       "    .dataframe tbody tr th {\n",
       "        vertical-align: top;\n",
       "    }\n",
       "\n",
       "    .dataframe thead th {\n",
       "        text-align: right;\n",
       "    }\n",
       "</style>\n",
       "<table border=\"1\" class=\"dataframe\">\n",
       "  <thead>\n",
       "    <tr style=\"text-align: right;\">\n",
       "      <th></th>\n",
       "      <th>LOGIN</th>\n",
       "      <th>ID</th>\n",
       "      <th>NODE_ID</th>\n",
       "      <th>TYPE</th>\n",
       "      <th>NAME</th>\n",
       "      <th>COMPANY</th>\n",
       "      <th>LOCATION</th>\n",
       "      <th>EMAILS_IF_FOUND</th>\n",
       "      <th>HIREABLE</th>\n",
       "      <th>BIO</th>\n",
       "      <th>TWITTER_USERNAME</th>\n",
       "      <th>PUBLIC_REPOS</th>\n",
       "      <th>PUBLIC_GISTS</th>\n",
       "      <th>FOLLOWERS</th>\n",
       "      <th>FOLLOWING</th>\n",
       "      <th>CREATED_AT</th>\n",
       "      <th>UPDATED_AT</th>\n",
       "    </tr>\n",
       "  </thead>\n",
       "  <tbody>\n",
       "    <tr>\n",
       "      <th>0</th>\n",
       "      <td>FlorentLvr</td>\n",
       "      <td>48032461</td>\n",
       "      <td>MDQ6VXNlcjQ4MDMyNDYx</td>\n",
       "      <td>User</td>\n",
       "      <td>Florent</td>\n",
       "      <td>@jupyter-naas</td>\n",
       "      <td>None</td>\n",
       "      <td>{48032461+FlorentLvr@users.noreply.github.com,...</td>\n",
       "      <td>None</td>\n",
       "      <td>None</td>\n",
       "      <td>None</td>\n",
       "      <td>1</td>\n",
       "      <td>0</td>\n",
       "      <td>27</td>\n",
       "      <td>5</td>\n",
       "      <td>2019-02-26T20:34:19Z</td>\n",
       "      <td>2024-01-18T14:50:35Z</td>\n",
       "    </tr>\n",
       "  </tbody>\n",
       "</table>\n",
       "</div>"
      ],
      "text/plain": [
       "        LOGIN        ID               NODE_ID  TYPE     NAME        COMPANY  \\\n",
       "0  FlorentLvr  48032461  MDQ6VXNlcjQ4MDMyNDYx  User  Florent  @jupyter-naas   \n",
       "\n",
       "  LOCATION                                    EMAILS_IF_FOUND HIREABLE   BIO  \\\n",
       "0     None  {48032461+FlorentLvr@users.noreply.github.com,...     None  None   \n",
       "\n",
       "  TWITTER_USERNAME  PUBLIC_REPOS  PUBLIC_GISTS  FOLLOWERS  FOLLOWING  \\\n",
       "0             None             1             0         27          5   \n",
       "\n",
       "             CREATED_AT            UPDATED_AT  \n",
       "0  2019-02-26T20:34:19Z  2024-01-18T14:50:35Z  "
      ]
     },
     "execution_count": 5,
     "metadata": {},
     "output_type": "execute_result"
    }
   ],
   "source": [
    "data = []\n",
    "\n",
    "data.append({\n",
    "    \"LOGIN\": github_user_info[\"login\"],\n",
    "    \"ID\": github_user_info[\"id\"],\n",
    "    \"NODE_ID\": github_user_info[\"node_id\"],\n",
    "    \"TYPE\": github_user_info[\"type\"],\n",
    "    \"NAME\": github_user_info[\"name\"],\n",
    "    \"COMPANY\": github_user_info[\"company\"],\n",
    "    \"LOCATION\": github_user_info[\"location\"],\n",
    "    \"EMAILS_IF_FOUND\": emails,\n",
    "    \"HIREABLE\": github_user_info[\"hireable\"],\n",
    "    \"BIO\": github_user_info[\"bio\"],\n",
    "    \"TWITTER_USERNAME\": github_user_info[\"twitter_username\"],\n",
    "    \"PUBLIC_REPOS\": github_user_info[\"public_repos\"],\n",
    "    \"PUBLIC_GISTS\": github_user_info[\"public_gists\"],\n",
    "    \"FOLLOWERS\": github_user_info[\"followers\"],\n",
    "    \"FOLLOWING\": github_user_info[\"following\"],\n",
    "    \"CREATED_AT\": github_user_info[\"created_at\"],\n",
    "    \"UPDATED_AT\": github_user_info[\"updated_at\"],\n",
    "})\n",
    "\n",
    "df = pd.DataFrame(data)\n",
    "df"
   ]
  },
  {
   "cell_type": "markdown",
   "id": "5f87c6c5-6af6-4b75-a2b8-0257c198dcab",
   "metadata": {},
   "source": [
    "### Save dataframe to csv"
   ]
  },
  {
   "cell_type": "code",
   "execution_count": 7,
   "id": "620e50ee-ec7f-47ca-a49f-3fd59ae60058",
   "metadata": {
    "execution": {
     "iopub.execute_input": "2024-06-25T13:14:33.151402Z",
     "iopub.status.busy": "2024-06-25T13:14:33.151105Z",
     "iopub.status.idle": "2024-06-25T13:14:33.175194Z",
     "shell.execute_reply": "2024-06-25T13:14:33.174505Z",
     "shell.execute_reply.started": "2024-06-25T13:14:33.151371Z"
    },
    "tags": []
   },
   "outputs": [],
   "source": [
    "df.to_csv(output_csv, index=False)"
   ]
  },
  {
   "cell_type": "code",
   "execution_count": null,
   "id": "7b59bc5b-349b-4cba-996c-67ca4ef4b086",
   "metadata": {},
   "outputs": [],
   "source": []
  }
 ],
 "metadata": {
  "kernelspec": {
   "display_name": "Python 3",
   "language": "python",
   "name": "python3"
  },
  "language_info": {
   "codemirror_mode": {
    "name": "ipython",
    "version": 3
   },
   "file_extension": ".py",
   "mimetype": "text/x-python",
   "name": "python",
   "nbconvert_exporter": "python",
   "pygments_lexer": "ipython3",
   "version": "3.9.6"
  },
  "naas": {
   "notebook_id": "567fd994f272de8dda30cabbcd7b893fea10b7cd949e94decd11cfa77224af3e",
   "notebook_path": "GitHub/GitHub_Get_profile_from_user.ipynb"
  },
  "papermill": {
   "default_parameters": {},
   "environment_variables": {},
   "parameters": {},
   "version": "2.3.3"
  }
 },
 "nbformat": 4,
 "nbformat_minor": 5
}
