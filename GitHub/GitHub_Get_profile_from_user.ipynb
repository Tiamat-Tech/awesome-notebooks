{
 "cells": [
  {
   "cell_type": "markdown",
   "id": "ced3929c-7d03-49d2-94f7-c186bf6ee7a3",
   "metadata": {
    "papermill": {},
    "tags": []
   },
   "source": [
    "<img width=\"8%\" alt=\"GitHub.png\" src=\"https://raw.githubusercontent.com/jupyter-naas/awesome-notebooks/master/.github/assets/logos/GitHub.png\" style=\"border-radius: 15%\">"
   ]
  },
  {
   "cell_type": "markdown",
   "id": "b00c39ca-3d99-48c6-8e7c-b1462f696749",
   "metadata": {
    "papermill": {},
    "tags": []
   },
   "source": [
    "# GitHub - Get profile from user\n",
    "<a href=\"https://bit.ly/3JyWIk6\">Give Feedback</a> | <a href=\"https://github.com/jupyter-naas/awesome-notebooks/issues/new?assignees=&labels=bug&template=bug_report.md&title=GitHub+-+Get+profile+from+user:+Error+short+description\">Bug report</a>"
   ]
  },
  {
   "cell_type": "markdown",
   "id": "a1c9f0e8-a8b5-4ede-9656-295a2f8b1680",
   "metadata": {
    "papermill": {},
    "tags": []
   },
   "source": [
    "**Tags:** #github #user #profile #operations #snippet #dataframe"
   ]
  },
  {
   "cell_type": "markdown",
   "id": "623fd0d5-6b2f-4dd4-ab2c-35c918e3de45",
   "metadata": {
    "papermill": {},
    "tags": []
   },
   "source": [
    "**Author:** [Varsha Kumar](https://www.linkedin.com/in/varsha-kumar-590466305/)"
   ]
  },
  {
   "cell_type": "markdown",
   "id": "8b19baa3-f323-4c42-87ea-d99663ca4875",
   "metadata": {
    "papermill": {},
    "tags": []
   },
   "source": [
    "**Last update:** 2024-06-25 (Created: 2022-03-18)"
   ]
  },
  {
   "cell_type": "markdown",
   "id": "naas-description",
   "metadata": {
    "papermill": {},
    "tags": [
     "description"
    ]
   },
   "source": [
    "**Description:** This notebook provides a way to retrieve a user's profile information from GitHub."
   ]
  },
  {
   "cell_type": "markdown",
   "id": "3d06b4aa-5607-475d-a5c7-d4896f02efbb",
   "metadata": {
    "papermill": {},
    "tags": []
   },
   "source": [
    "## Input"
   ]
  },
  {
   "cell_type": "markdown",
   "id": "1a3276ae-5b97-4737-ba44-0b748c4ad216",
   "metadata": {
    "papermill": {},
    "tags": []
   },
   "source": [
    "### Import libraries"
   ]
  },
  {
   "cell_type": "code",
   "execution_count": 1,
   "id": "120e7d13-d71b-4faa-8d71-416c2fa0c2c6",
   "metadata": {
    "papermill": {},
    "tags": []
   },
   "outputs": [],
   "source": [
    "from naas_drivers import github\n",
    "import naas\n",
    "import requests\n",
    "import pandas as pd"
   ]
  },
  {
   "cell_type": "markdown",
   "id": "d8c845b7-ef77-4ba2-877b-66eca1116c7e",
   "metadata": {
    "papermill": {},
    "tags": []
   },
   "source": [
    "### Setup variables"
   ]
  },
  {
   "cell_type": "markdown",
   "id": "6c1d574c-c48c-489a-9e32-baaea89f76bd",
   "metadata": {
    "papermill": {},
    "tags": []
   },
   "source": [
    "- `github_username`: user profile\n",
    "- `GITHUB_TOKEN`: token to access github information\n",
    "- `output_csv`: excel file"
   ]
  },
  {
   "cell_type": "code",
   "execution_count": 3,
   "id": "d34cda87-0ba2-4992-bb11-506cd6a4e52b",
   "metadata": {
    "papermill": {},
    "tags": []
   },
   "outputs": [],
   "source": [
    "github_username = \"FlorentLvr\"\n",
    "GITHUB_TOKEN = naas.secret.get(\"GITHUB_TOKEN\")\n",
    "output_csv = f\"{github_username}_profile.csv\""
   ]
  },
  {
   "cell_type": "markdown",
   "id": "65bb6473-255b-4cc8-a821-dca6c828b269",
   "metadata": {
    "papermill": {},
    "tags": []
   },
   "source": [
    "## Model"
   ]
  },
  {
   "cell_type": "markdown",
   "id": "0a64c86c-4ce4-4b6d-b289-c8981e1a8831",
   "metadata": {
    "papermill": {},
    "tags": []
   },
   "source": [
    "### Get profile from user"
   ]
  },
  {
   "cell_type": "code",
   "execution_count": 4,
   "id": "08bf3c6d-fe4d-41c9-980c-96259ef20598",
   "metadata": {
    "papermill": {},
    "tags": []
   },
   "outputs": [],
   "source": [
    "def get_github_user_info(username, token=None):\n",
    "    url = f\"https://api.github.com/users/{username}\"\n",
    "    headers = {\"Authorization\": f\"token {token}\"} if token else {}\n",
    "    response = requests.get(url, headers=headers)\n",
    "    if response.status_code == 200:\n",
    "        return response.json()\n",
    "    else:\n",
    "        return None\n",
    "\n",
    "def get_commit_emails(username, token=None):\n",
    "    url = f\"https://api.github.com/users/{username}/events/public\"\n",
    "    headers = {\"Authorization\": f\"token {token}\"} if token else {}\n",
    "    response = requests.get(url, headers=headers)\n",
    "    emails = set()\n",
    "    \n",
    "    if response.status_code == 200:\n",
    "        events = response.json()\n",
    "        for event in events:\n",
    "            if event['type'] == 'PushEvent':\n",
    "                for commit in event['payload']['commits']:\n",
    "                    emails.add(commit['author']['email'])\n",
    "        return emails\n",
    "    else:\n",
    "        return f\"Error: {response.status_code} - {response.json().get('message', 'Unknown error')}\"\n",
    "\n",
    "\n",
    "# Fetch basic GitHub user information\n",
    "github_user_info = get_github_user_info(github_username, GITHUB_TOKEN)\n",
    "\n",
    "if github_user_info:\n",
    "    email = github_user_info.get('email')\n",
    "    if email:\n",
    "        print(f\"Email: {email}\")\n",
    "    else:\n",
    "        print(\"Email not found in GitHub profile. Checking commit history...\")\n",
    "        # If no email is found in the profile, check commit history\n",
    "        emails = get_commit_emails(github_username, GITHUB_TOKEN)\n",
    "        if isinstance(emails, set):\n",
    "            if emails:\n",
    "                print(f\"Found emails: {emails}\")\n",
    "            else:\n",
    "                print(\"No emails found in commit history.\")\n",
    "        else:\n",
    "            print(emails)\n",
    "else:\n",
    "    print(\"GitHub user not found.\")\n",
    "    \n",
    "github_user_info"
   ]
  },
  {
   "cell_type": "markdown",
   "id": "9297c876-48d2-4d7e-9b02-522bd5ecbfe4",
   "metadata": {
    "papermill": {},
    "tags": []
   },
   "source": [
    "## Output"
   ]
  },
  {
   "cell_type": "markdown",
   "id": "2e2f2b40-e65d-4c19-84d8-0392e01182f3",
   "metadata": {
    "papermill": {},
    "tags": []
   },
   "source": [
    "### Display result"
   ]
  },
  {
   "cell_type": "code",
   "execution_count": 5,
   "id": "7f433f48-09db-4e0b-b55d-ce07909899a7",
   "metadata": {
    "papermill": {},
    "tags": []
   },
   "outputs": [],
   "source": [
    "data = []\n",
    "\n",
    "data.append({\n",
    "    \"LOGIN\": github_user_info[\"login\"],\n",
    "    \"ID\": github_user_info[\"id\"],\n",
    "    \"NODE_ID\": github_user_info[\"node_id\"],\n",
    "    \"TYPE\": github_user_info[\"type\"],\n",
    "    \"NAME\": github_user_info[\"name\"],\n",
    "    \"COMPANY\": github_user_info[\"company\"],\n",
    "    \"LOCATION\": github_user_info[\"location\"],\n",
    "    \"EMAILS_IF_FOUND\": emails,\n",
    "    \"HIREABLE\": github_user_info[\"hireable\"],\n",
    "    \"BIO\": github_user_info[\"bio\"],\n",
    "    \"TWITTER_USERNAME\": github_user_info[\"twitter_username\"],\n",
    "    \"PUBLIC_REPOS\": github_user_info[\"public_repos\"],\n",
    "    \"PUBLIC_GISTS\": github_user_info[\"public_gists\"],\n",
    "    \"FOLLOWERS\": github_user_info[\"followers\"],\n",
    "    \"FOLLOWING\": github_user_info[\"following\"],\n",
    "    \"CREATED_AT\": github_user_info[\"created_at\"],\n",
    "    \"UPDATED_AT\": github_user_info[\"updated_at\"],\n",
    "})\n",
    "\n",
    "df = pd.DataFrame(data)\n",
    "df"
   ]
  },
  {
   "cell_type": "markdown",
   "id": "5f87c6c5-6af6-4b75-a2b8-0257c198dcab",
   "metadata": {
    "papermill": {},
    "tags": []
   },
   "source": [
    "### Save dataframe to csv"
   ]
  },
  {
   "cell_type": "code",
   "execution_count": 7,
   "id": "620e50ee-ec7f-47ca-a49f-3fd59ae60058",
   "metadata": {
    "papermill": {},
    "tags": []
   },
   "outputs": [],
   "source": [
    "df.to_csv(output_csv, index=False)"
   ]
  },
  {
   "cell_type": "code",
   "execution_count": null,
   "id": "7b59bc5b-349b-4cba-996c-67ca4ef4b086",
   "metadata": {
    "papermill": {},
    "tags": []
   },
   "outputs": [],
   "source": []
  }
 ],
 "metadata": {
  "kernelspec": {
   "display_name": "Python 3",
   "language": "python",
   "name": "python3"
  },
  "language_info": {
   "codemirror_mode": {
    "name": "ipython",
    "version": 3
   },
   "file_extension": ".py",
   "mimetype": "text/x-python",
   "name": "python",
   "nbconvert_exporter": "python",
   "pygments_lexer": "ipython3",
   "version": "3.9.6"
  },
  "naas": {
   "notebook_id": "567fd994f272de8dda30cabbcd7b893fea10b7cd949e94decd11cfa77224af3e",
   "notebook_path": "GitHub/GitHub_Get_profile_from_user.ipynb"
  },
  "papermill": {
   "default_parameters": {},
   "environment_variables": {},
   "parameters": {},
   "version": "2.3.3"
  }
 },
 "nbformat": 4,
 "nbformat_minor": 5
}