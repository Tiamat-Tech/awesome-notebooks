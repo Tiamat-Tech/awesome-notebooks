{
 "cells": [
  {
   "cell_type": "markdown",
   "id": "e04c2a66-0232-4311-8445-d69e43f287e7",
   "metadata": {
    "execution": {
     "iopub.execute_input": "2022-01-07T21:15:57.009861Z",
     "iopub.status.busy": "2022-01-07T21:15:57.009532Z",
     "iopub.status.idle": "2022-01-07T21:15:57.013136Z",
     "shell.execute_reply": "2022-01-07T21:15:57.012559Z",
     "shell.execute_reply.started": "2022-01-07T21:15:57.009826Z"
    },
    "papermill": {},
    "tags": []
   },
   "source": [
    "<img width=\"8%\" alt=\"TikTok.png\" src=\"https://raw.githubusercontent.com/jupyter-naas/awesome-notebooks/master/.github/assets/logos/TikTok.png\" style=\"border-radius: 15%\">"
   ]
  },
  {
   "cell_type": "markdown",
   "id": "47c20033-2e43-4c30-9d89-6fd47bfa98e9",
   "metadata": {
    "papermill": {},
    "tags": []
   },
   "source": [
    "# TikTok - Get liked videos by profile\n",
    "<a href=\"https://bit.ly/3JyWIk6\">Give Feedback</a> | <a href=\"https://github.com/jupyter-naas/awesome-notebooks/issues/new?assignees=&labels=bug&template=bug_report.md&title=TikTok+-+Get+liked+videos+by+profile:+Error+short+description\">Bug report</a>"
   ]
  },
  {
   "cell_type": "markdown",
   "id": "6ec59f5e-ac9e-4ab0-a0e9-51b01b38dcaa",
   "metadata": {
    "papermill": {},
    "tags": []
   },
   "source": [
    "**Tags:** #tiktok #videos #snippet #content"
   ]
  },
  {
   "cell_type": "markdown",
   "id": "c40e4f30-0b07-4a3b-b39b-7cb460053f74",
   "metadata": {
    "papermill": {},
    "tags": []
   },
   "source": [
    "**Author:** [Alex Nodeland](https://www.linkedin.com/in/alexnodeland/)"
   ]
  },
  {
   "cell_type": "markdown",
   "id": "6861607a-c840-4f0e-b03c-346e3351972a",
   "metadata": {
    "papermill": {},
    "tags": []
   },
   "source": [
    "**Last update:** 2023-06-21 (Created: 2022-06-21)"
   ]
  },
  {
   "cell_type": "markdown",
   "id": "naas-description",
   "metadata": {
    "papermill": {},
    "tags": [
     "description"
    ]
   },
   "source": [
    "**Description:** This notebook provides a script to retrieve a list of the liked videos of a given user on the popular social media platform, TikTok."
   ]
  },
  {
   "cell_type": "markdown",
   "id": "618b546f-943a-498c-9eb6-637a1e992f21",
   "metadata": {
    "papermill": {},
    "tags": []
   },
   "source": [
    "## Input"
   ]
  },
  {
   "cell_type": "markdown",
   "id": "91fc2ccf-9a27-40f4-bb62-df542a468bc6",
   "metadata": {
    "execution": {
     "iopub.execute_input": "2022-01-08T05:48:50.458541Z",
     "iopub.status.busy": "2022-01-08T05:48:50.458187Z",
     "iopub.status.idle": "2022-01-08T05:48:50.465249Z",
     "shell.execute_reply": "2022-01-08T05:48:50.464699Z",
     "shell.execute_reply.started": "2022-01-08T05:48:50.458451Z"
    },
    "papermill": {},
    "tags": []
   },
   "source": [
    "### Import libraries"
   ]
  },
  {
   "cell_type": "code",
   "execution_count": null,
   "id": "4f6774a6-ff96-4c39-87a7-69a1fd3777cc",
   "metadata": {
    "papermill": {},
    "tags": []
   },
   "outputs": [],
   "source": [
    "import time\n",
    "import csv\n",
    "import sys\n",
    "import pandas as pd\n",
    "try:\n",
    "    from selenium import webdriver\n",
    "    from selenium.webdriver.common.by import By\n",
    "    from selenium.webdriver.support.ui import WebDriverWait\n",
    "    from selenium.webdriver.support import expected_conditions as EC\n",
    "except:\n",
    "    %pip install selenium --user\n",
    "    %pip install PyTikTokAPI --user\n",
    "    from selenium import webdriver\n",
    "    from selenium.webdriver.common.by import By\n",
    "    from selenium.webdriver.support.ui import WebDriverWait\n",
    "    from selenium.webdriver.support import expected_conditions as EC\n",
    "try:\n",
    "    from bs4 import BeautifulSoup\n",
    "except:\n",
    "    %pip install beautifulsoup4 --user\n",
    "    from bs4 import BeautifulSoup"
   ]
  },
  {
   "cell_type": "markdown",
   "id": "958d3406-bf4c-48b9-b56b-ad4dad7caaae",
   "metadata": {
    "papermill": {},
    "tags": []
   },
   "source": [
    "### Setup variables\n",
    "\n",
    "**Mandatory**\n",
    "- `USERNAME`: The username of the TikTok user whose liked videos you want to retrieve.\n",
    "\n",
    "**Optional**\n",
    "- `LIMIT`: The maximum number of liked videos to retrieve. Default is None (no limit)."
   ]
  },
  {
   "cell_type": "code",
   "execution_count": null,
   "id": "1a91eab8",
   "metadata": {
    "papermill": {},
    "tags": []
   },
   "outputs": [],
   "source": [
    "#Mandatory\n",
    "USERNAME = '<username>'\n",
    "\n",
    "#Optional\n",
    "LIMIT = 100"
   ]
  },
  {
   "cell_type": "markdown",
   "id": "43fff853-fdf1-4949-a781-43b31e65cce9",
   "metadata": {
    "papermill": {},
    "tags": []
   },
   "source": [
    "## Model"
   ]
  },
  {
   "cell_type": "markdown",
   "id": "da6d5ea2",
   "metadata": {
    "papermill": {},
    "tags": []
   },
   "source": [
    "### Web automations"
   ]
  },
  {
   "cell_type": "code",
   "execution_count": null,
   "id": "f40d0a0b",
   "metadata": {
    "papermill": {},
    "tags": []
   },
   "outputs": [],
   "source": [
    "def click_liked_tab(driver):\n",
    "    try:\n",
    "        liked_tab = WebDriverWait(driver, 10).until(\n",
    "            EC.element_to_be_clickable((By.CSS_SELECTOR, \"p[data-e2e='liked-tab']\"))\n",
    "        )\n",
    "        liked_tab.click()\n",
    "        print(\"Clicked on Liked tab successfully\")\n",
    "    except Exception as e:\n",
    "        print(f\"Failed to click on Liked tab: {e}\")\n",
    "\n",
    "def scroll_to_load_all_videos(driver, max_scrolls=10):\n",
    "    last_height = driver.execute_script(\"return document.body.scrollHeight\")\n",
    "    scrolls = 0\n",
    "    \n",
    "    while scrolls < max_scrolls:\n",
    "        driver.execute_script(\"window.scrollTo(0, document.body.scrollHeight);\")\n",
    "        time.sleep(2)  # Wait for page to load\n",
    "        \n",
    "        new_height = driver.execute_script(\"return document.body.scrollHeight\")\n",
    "        if new_height == last_height:\n",
    "            break\n",
    "        last_height = new_height\n",
    "        scrolls += 1\n",
    "        print(f\"Scroll {scrolls}/{max_scrolls} completed\")"
   ]
  },
  {
   "cell_type": "markdown",
   "id": "43d26535",
   "metadata": {
    "papermill": {},
    "tags": []
   },
   "source": [
    "### Scraping"
   ]
  },
  {
   "cell_type": "code",
   "execution_count": null,
   "id": "60ff8ee3",
   "metadata": {
    "papermill": {},
    "tags": []
   },
   "outputs": [],
   "source": [
    "def find_video_elements(soup):\n",
    "    # Strategy 1: Look for the main container with data-e2e attribute\n",
    "    main_container = soup.find('div', attrs={'data-e2e': 'user-liked-item-list'})\n",
    "    if main_container:\n",
    "        # Find all direct child divs that contain video items\n",
    "        videos = main_container.find_all('div', attrs={'data-e2e': 'user-liked-item'}, recursive=False)\n",
    "        if videos:\n",
    "            return videos\n",
    "\n",
    "    # Strategy 2: If the main container isn't found, search for video items directly\n",
    "    videos = soup.find_all('div', attrs={'data-e2e': 'user-liked-item'})\n",
    "    if videos:\n",
    "        return videos\n",
    "\n",
    "    # Strategy 3: Look for divs with specific class and role\n",
    "    videos = soup.find_all('div', class_=lambda x: x and 'DivContainer' in x, attrs={'role': 'button', 'aria-label': 'Watch in full screen'})\n",
    "    if videos:\n",
    "        return videos\n",
    "\n",
    "    # Strategy 4: Fallback to a more general approach\n",
    "    videos = soup.find_all('div', class_=lambda x: x and ('ItemContainer' in x or 'VideoFeed' in x))\n",
    "    return videos\n",
    "\n",
    "def extract_video_info(video_element):\n",
    "    try:\n",
    "        video_link = video_element.find('a')['href']\n",
    "        return {'url': video_link}\n",
    "    except Exception as e:\n",
    "        print(f\"Error extracting video info: {e}\")\n",
    "        return None"
   ]
  },
  {
   "cell_type": "markdown",
   "id": "be6a2481",
   "metadata": {
    "papermill": {},
    "tags": []
   },
   "source": [
    "### Script"
   ]
  },
  {
   "cell_type": "code",
   "execution_count": null,
   "id": "e9a0144c",
   "metadata": {
    "papermill": {},
    "tags": []
   },
   "outputs": [],
   "source": [
    "def main(username, limit=None):\n",
    "    driver = webdriver.Chrome()\n",
    "    \n",
    "    # Navigate directly to the user's profile\n",
    "    driver.get(f\"https://www.tiktok.com/@{username}\")\n",
    "    print(f\"Navigated to https://www.tiktok.com/@{username}\")\n",
    "\n",
    "    # Click on the Liked tab\n",
    "    click_liked_tab(driver)\n",
    "\n",
    "    # Scroll to load more videos\n",
    "    scroll_to_load_all_videos(driver)\n",
    "\n",
    "    page_source = driver.page_source\n",
    "    soup = BeautifulSoup(page_source, 'html.parser')\n",
    "\n",
    "    videos = find_video_elements(soup)\n",
    "    print(f\"Found {len(videos)} videos\")\n",
    "\n",
    "    # Create a DataFrame to store video information\n",
    "    video_data = []\n",
    "\n",
    "    for video in videos:\n",
    "        if limit and len(video_data) >= limit:\n",
    "            break\n",
    "        video_info = extract_video_info(video)\n",
    "        if video_info:\n",
    "            video_data.append(video_info)\n",
    "\n",
    "    df = pd.DataFrame(video_data)\n",
    "    df.to_csv(f'{username}_liked_videos.csv', index=False, encoding='utf-8')\n",
    "    print(f\"Data saved to {username}_liked_videos.csv\")\n",
    "\n",
    "    driver.quit()\n",
    "\n",
    "    return df"
   ]
  },
  {
   "cell_type": "markdown",
   "id": "5f6714c5",
   "metadata": {
    "papermill": {},
    "tags": []
   },
   "source": [
    "## Output"
   ]
  },
  {
   "cell_type": "markdown",
   "id": "4295fc59",
   "metadata": {
    "papermill": {},
    "tags": []
   },
   "source": [
    "### Get liked videos"
   ]
  },
  {
   "cell_type": "code",
   "execution_count": null,
   "id": "08eaaac0",
   "metadata": {
    "papermill": {},
    "tags": []
   },
   "outputs": [],
   "source": [
    "liked_videos = main(USERNAME, LIMIT)\n",
    "liked_videos"
   ]
  }
 ],
 "metadata": {
  "kernelspec": {
   "display_name": "Python 3",
   "language": "python",
   "name": "python3"
  },
  "language_info": {
   "codemirror_mode": {
    "name": "ipython",
    "version": 3
   },
   "file_extension": ".py",
   "mimetype": "text/x-python",
   "name": "python",
   "nbconvert_exporter": "python",
   "pygments_lexer": "ipython3",
   "version": "3.11.5"
  },
  "naas": {
   "notebook_id": "c323c8613df0735bf7578b470ac3cc4c2cb4a8e40fba3760a3000c77c752b018",
   "notebook_path": "TikTok/TikTok_Get_liked_videos.ipynb"
  },
  "papermill": {
   "default_parameters": {},
   "environment_variables": {},
   "parameters": {},
   "version": "2.3.4"
  }
 },
 "nbformat": 4,
 "nbformat_minor": 5
}