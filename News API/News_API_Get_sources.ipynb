{
 "cells": [
  {
   "cell_type": "markdown",
   "id": "c3656a22-e3e4-4789-9b61-f5f5ad8f4cff",
   "metadata": {
    "papermill": {},
    "tags": []
   },
   "source": [
    "<img width=\"8%\" alt=\"News API.png\" src=\"https://raw.githubusercontent.com/jupyter-naas/awesome-notebooks/master/.github/assets/logos/News%20API.png\" style=\"border-radius: 15%\">"
   ]
  },
  {
   "cell_type": "markdown",
   "id": "3dd4e1a5-cbc0-4a51-b334-673a5c3f9557",
   "metadata": {
    "papermill": {},
    "tags": []
   },
   "source": [
    "# News API - Get sources\n",
    "<a href=\"https://bit.ly/3JyWIk6\">Give Feedback</a> | <a href=\"https://github.com/jupyter-naas/awesome-notebooks/issues/new?assignees=&labels=bug&template=bug_report.md&title=News+API+-+Get+sources:+Error+short+description\">Bug report</a>"
   ]
  },
  {
   "cell_type": "markdown",
   "id": "c50db227-1bfd-4075-ae0d-71ad67280216",
   "metadata": {
    "papermill": {},
    "tags": []
   },
   "source": [
    "**Tags:** #newsapi #python #api #data #news #sources"
   ]
  },
  {
   "cell_type": "markdown",
   "id": "60b9ee1b-8be6-49a4-a26e-be734a393064",
   "metadata": {
    "papermill": {},
    "tags": []
   },
   "source": [
    "**Author:** [Florent Ravenel](https://www.linkedin.com/in/florent-ravenel/)"
   ]
  },
  {
   "cell_type": "markdown",
   "id": "6a598f13-a735-4894-b453-9305717a06e5",
   "metadata": {
    "papermill": {},
    "tags": []
   },
   "source": [
    "**Last update:** 2024-02-07 (Created: 2024-02-07)"
   ]
  },
  {
   "cell_type": "markdown",
   "id": "c9afea1c-8a4b-40e7-b267-79aeb96dc63b",
   "metadata": {
    "papermill": {},
    "tags": []
   },
   "source": [
    "**Description:** This notebook demonstrates how to use the News API to get news sources. It provides a step-by-step guide on how to retrieve and display the news sources using Python."
   ]
  },
  {
   "cell_type": "markdown",
   "id": "717390cf-d5d6-4bba-bb7a-b45438a83c8e",
   "metadata": {
    "papermill": {},
    "tags": []
   },
   "source": [
    "**References:**\n",
    "- [News API Documentation](https://newsapi.org/docs/client-libraries/python)\n",
    "- [Python Requests Library](https://docs.python-requests.org/en/latest/)"
   ]
  },
  {
   "cell_type": "markdown",
   "id": "75805c96-307b-4504-b612-9b54c9dade4e",
   "metadata": {
    "papermill": {},
    "tags": []
   },
   "source": [
    "## Input"
   ]
  },
  {
   "cell_type": "markdown",
   "id": "f24f9fc9-b98a-46cc-8cfc-c3991bc1dec8",
   "metadata": {
    "papermill": {},
    "tags": []
   },
   "source": [
    "### Import libraries"
   ]
  },
  {
   "cell_type": "code",
   "execution_count": 12,
   "id": "1fff7a75-4cb4-4039-ad42-22250bee8184",
   "metadata": {
    "papermill": {},
    "tags": []
   },
   "outputs": [],
   "source": [
    "import naas\n",
    "import requests"
   ]
  },
  {
   "cell_type": "markdown",
   "id": "d4596a5b-4c1a-4328-93f0-4c5be03231f6",
   "metadata": {
    "papermill": {},
    "tags": []
   },
   "source": [
    "### Setup variables\n",
    "- `api_key`: Your News API key. You can get it from [here](https://newsapi.org/register)."
   ]
  },
  {
   "cell_type": "code",
   "execution_count": 13,
   "id": "973dcb30-e8da-4980-af7f-e01fdf8991af",
   "metadata": {
    "papermill": {},
    "tags": []
   },
   "outputs": [],
   "source": [
    "api_key = naas.secret.get(\"NEWS_API_API_KEY\")"
   ]
  },
  {
   "cell_type": "markdown",
   "id": "3299ca5d-b907-4581-97a2-b9b5f9e5aa74",
   "metadata": {
    "papermill": {},
    "tags": []
   },
   "source": [
    "## Model"
   ]
  },
  {
   "cell_type": "markdown",
   "id": "8ec8614a-214d-4d25-aee9-89b5ff31c60a",
   "metadata": {
    "papermill": {},
    "tags": []
   },
   "source": [
    "### Get News API sources"
   ]
  },
  {
   "cell_type": "code",
   "execution_count": 14,
   "id": "214b47e0-3659-430d-be6b-7e8efcd39034",
   "metadata": {
    "papermill": {},
    "tags": []
   },
   "outputs": [],
   "source": [
    "def get_sources(api_key):\n",
    "    url = \"https://newsapi.org/v2/sources\"\n",
    "    headers = {\"Authorization\": f\"Bearer {api_key}\"}\n",
    "    res = requests.get(url, headers=headers)\n",
    "    return res.json()\n",
    "\n",
    "res_json = get_sources(api_key)"
   ]
  },
  {
   "cell_type": "markdown",
   "id": "30498664-b64b-448d-990b-9e5b710e8c61",
   "metadata": {
    "papermill": {},
    "tags": []
   },
   "source": [
    "## Output"
   ]
  },
  {
   "cell_type": "markdown",
   "id": "045de092-bb59-4e69-a9df-b7f5b1cf6e7a",
   "metadata": {
    "papermill": {},
    "tags": []
   },
   "source": [
    "### Display result"
   ]
  },
  {
   "cell_type": "code",
   "execution_count": 17,
   "id": "3bac2ed6-d226-4702-9f1f-e0a8ac6a47bc",
   "metadata": {
    "papermill": {},
    "tags": []
   },
   "outputs": [],
   "source": [
    "res_json.get(\"sources\")"
   ]
  },
  {
   "cell_type": "code",
   "execution_count": null,
   "id": "30ce9f71-08fb-468d-a985-cc5a11632933",
   "metadata": {
    "papermill": {},
    "tags": []
   },
   "outputs": [],
   "source": []
  },
  {
   "cell_type": "code",
   "execution_count": null,
   "id": "a180c6aa-c35f-45e8-820a-d95f516c65cc",
   "metadata": {
    "papermill": {},
    "tags": []
   },
   "outputs": [],
   "source": []
  }
 ],
 "metadata": {
  "kernelspec": {
   "display_name": "Python 3",
   "language": "python",
   "name": "python3"
  },
  "language_info": {
   "codemirror_mode": {
    "name": "ipython",
    "version": 3
   },
   "file_extension": ".py",
   "mimetype": "text/x-python",
   "name": "python",
   "nbconvert_exporter": "python",
   "pygments_lexer": "ipython3",
   "version": "3.9.6"
  },
  "naas": {
   "notebook_id": "5debcd4be2690c843577c4f96c935234f1da5315cae30f77fa9491c5139d69f0",
   "notebook_path": "News API/News_API_Get_sources.ipynb"
  },
  "papermill": {
   "default_parameters": {},
   "environment_variables": {},
   "parameters": {},
   "version": "2.5.0"
  },
  "widgets": {
   "application/vnd.jupyter.widget-state+json": {
    "state": {},
    "version_major": 2,
    "version_minor": 0
   }
  }
 },
 "nbformat": 4,
 "nbformat_minor": 5
}