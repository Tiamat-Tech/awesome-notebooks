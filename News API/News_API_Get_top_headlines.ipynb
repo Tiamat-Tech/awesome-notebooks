{
 "cells": [
  {
   "cell_type": "markdown",
   "id": "1c5746df-717f-4ade-a9b3-b09dcabdf3e7",
   "metadata": {
    "papermill": {},
    "tags": []
   },
   "source": [
    "<img width=\"8%\" alt=\"News API.png\" src=\"https://raw.githubusercontent.com/jupyter-naas/awesome-notebooks/master/.github/assets/logos/News%20API.png\" style=\"border-radius: 15%\">"
   ]
  },
  {
   "cell_type": "markdown",
   "id": "7e82edc3-7e27-4386-88e6-c614c2da589d",
   "metadata": {
    "papermill": {},
    "tags": []
   },
   "source": [
    "# News API - Get top headlines\n",
    "<a href=\"https://bit.ly/3JyWIk6\">Give Feedback</a> | <a href=\"https://github.com/jupyter-naas/awesome-notebooks/issues/new?assignees=&labels=bug&template=bug_report.md&title=News+API+-+Get+top+headlines:+Error+short+description\">Bug report</a>"
   ]
  },
  {
   "cell_type": "markdown",
   "id": "88eceaca-10c6-4498-8471-fcf2453531de",
   "metadata": {
    "papermill": {},
    "tags": []
   },
   "source": [
    "**Tags:** #newsapi #python #api #headlines #news #data"
   ]
  },
  {
   "cell_type": "markdown",
   "id": "b38f46f9-3600-4650-a6b5-ca6856e11826",
   "metadata": {
    "papermill": {},
    "tags": []
   },
   "source": [
    "**Author:** [Florent Ravenel](https://www.linkedin.com/in/florent-ravenel/)"
   ]
  },
  {
   "cell_type": "markdown",
   "id": "21846723-3216-4482-8e7d-d8f432d55893",
   "metadata": {
    "papermill": {},
    "tags": []
   },
   "source": [
    "**Last update:** 2024-02-07 (Created: 2024-02-07)"
   ]
  },
  {
   "cell_type": "markdown",
   "id": "53976797-e11c-40c0-8286-10f9e661ab9d",
   "metadata": {
    "papermill": {},
    "tags": []
   },
   "source": [
    "**Description:** This notebook demonstrates how to use the News API to fetch the top headlines. It provides a step-by-step guide on how to set up the necessary variables, call the API, and display the results."
   ]
  },
  {
   "cell_type": "markdown",
   "id": "4cdf2239-4845-486b-96d9-8f18bd1fa7f8",
   "metadata": {
    "papermill": {},
    "tags": []
   },
   "source": [
    "**References:**\n",
    "- [News API Documentation](https://newsapi.org/docs/client-libraries/python)\n",
    "- [Python Requests Library](https://docs.python-requests.org/en/latest/)"
   ]
  },
  {
   "cell_type": "markdown",
   "id": "eea1895a-ad41-4009-902e-ec008e402b60",
   "metadata": {
    "papermill": {},
    "tags": []
   },
   "source": [
    "## Input"
   ]
  },
  {
   "cell_type": "markdown",
   "id": "d5bc1ca8-0048-4514-ab3f-0c5e9a7102ff",
   "metadata": {
    "papermill": {},
    "tags": []
   },
   "source": [
    "### Import libraries"
   ]
  },
  {
   "cell_type": "code",
   "execution_count": null,
   "id": "36b7b272-0216-4fcf-af10-289e929a1749",
   "metadata": {
    "papermill": {},
    "tags": []
   },
   "outputs": [],
   "source": [
    "import naas\n",
    "import requests"
   ]
  },
  {
   "cell_type": "markdown",
   "id": "fbd585b4-0266-4cc5-a038-67ac2ded505b",
   "metadata": {
    "papermill": {},
    "tags": []
   },
   "source": [
    "### Setup variables\n",
    "- `api_key`: Your News API key. You can get it from [here](https://newsapi.org/register).\n",
    "- `q`: Query to perform"
   ]
  },
  {
   "cell_type": "code",
   "execution_count": null,
   "id": "70f3f4f4-6551-441f-bd7e-62b63f31932b",
   "metadata": {
    "papermill": {},
    "tags": []
   },
   "outputs": [],
   "source": [
    "api_key = naas.secret.get(\"NEWS_API_API_KEY\")\n",
    "q = \"bitcoin\""
   ]
  },
  {
   "cell_type": "markdown",
   "id": "13d1fe02-b8f5-41cf-8e28-7a630e61b0db",
   "metadata": {
    "papermill": {},
    "tags": []
   },
   "source": [
    "## Model"
   ]
  },
  {
   "cell_type": "markdown",
   "id": "5b723ae0-2860-4f1b-8098-a53fa49baabb",
   "metadata": {
    "papermill": {},
    "tags": []
   },
   "source": [
    "### Fetch Top Headlines"
   ]
  },
  {
   "cell_type": "code",
   "execution_count": null,
   "id": "1a510bd8-7d21-41cc-a4f4-5aa36413d9da",
   "metadata": {
    "papermill": {},
    "tags": []
   },
   "outputs": [],
   "source": [
    "def fetch_top_headlines(api_key, q):\n",
    "    url = f\"https://newsapi.org/v2/top-headlines?q={q}\"\n",
    "    headers = {\"Authorization\": f\"Bearer {api_key}\"}\n",
    "    res = requests.get(url, headers=headers)\n",
    "    return res.json()\n",
    "\n",
    "res_json = fetch_top_headlines(api_key, q)\n",
    "res_json"
   ]
  },
  {
   "cell_type": "markdown",
   "id": "60ac55dc-5a48-434d-9137-0f7636da8f0e",
   "metadata": {
    "papermill": {},
    "tags": []
   },
   "source": [
    "## Output"
   ]
  },
  {
   "cell_type": "markdown",
   "id": "0014a451-1ee3-4f2b-a0ff-aa4a1ede8d4b",
   "metadata": {
    "papermill": {},
    "tags": []
   },
   "source": [
    "### Display result"
   ]
  },
  {
   "cell_type": "code",
   "execution_count": null,
   "id": "f4176393-68c8-416f-a566-0ab0b005ab68",
   "metadata": {
    "papermill": {},
    "tags": []
   },
   "outputs": [],
   "source": [
    "res_json.get(\"articles\")"
   ]
  }
 ],
 "metadata": {
  "kernelspec": {
   "display_name": "Python 3",
   "language": "python",
   "name": "python3"
  },
  "language_info": {
   "codemirror_mode": {
    "name": "ipython",
    "version": 3
   },
   "file_extension": ".py",
   "mimetype": "text/x-python",
   "name": "python",
   "nbconvert_exporter": "python",
   "pygments_lexer": "ipython3",
   "version": "3.9.6"
  },
  "naas": {
   "notebook_id": "9ddc98316f3a5110b8b364341b24d72a570cd941ae59d333715427d8d107f1b2",
   "notebook_path": "News API/News_API_Get_top_headlines.ipynb"
  },
  "papermill": {
   "default_parameters": {},
   "environment_variables": {},
   "parameters": {},
   "version": "2.5.0"
  },
  "widgets": {
   "application/vnd.jupyter.widget-state+json": {
    "state": {},
    "version_major": 2,
    "version_minor": 0
   }
  }
 },
 "nbformat": 4,
 "nbformat_minor": 5
}