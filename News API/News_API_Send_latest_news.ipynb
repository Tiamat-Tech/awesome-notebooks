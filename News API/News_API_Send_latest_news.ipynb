{
 "cells": [
  {
   "cell_type": "markdown",
   "id": "demographic-egyptian",
   "metadata": {
    "papermill": {},
    "tags": []
   },
   "source": [
    "<img width=\"8%\" alt=\"News API.png\" src=\"https://raw.githubusercontent.com/jupyter-naas/awesome-notebooks/master/.github/assets/logos/News%20API.png\" style=\"border-radius: 15%\">"
   ]
  },
  {
   "cell_type": "markdown",
   "id": "headed-macintosh",
   "metadata": {
    "papermill": {},
    "tags": []
   },
   "source": [
    "# News API - Send latest news\n",
    "<a href=\"https://bit.ly/3JyWIk6\">Give Feedback</a> | <a href=\"https://github.com/jupyter-naas/awesome-notebooks/issues/new?assignees=&labels=bug&template=bug_report.md&title=News+API+-+Send+latest+news:+Error+short+description\">Bug report</a>"
   ]
  },
  {
   "cell_type": "markdown",
   "id": "a30f003d-2fdc-4413-a369-a590bf010afb",
   "metadata": {
    "papermill": {},
    "tags": []
   },
   "source": [
    "**Tags:** #newsapi #news #emailbrief #automation #notification #opendata #email #image #html #text"
   ]
  },
  {
   "cell_type": "markdown",
   "id": "naas-author",
   "metadata": {
    "papermill": {},
    "tags": [
     "naas"
    ]
   },
   "source": [
    "**Author:** [Jeremy Ravenel](https://www.linkedin.com/in/ACoAAAJHE7sB5OxuKHuzguZ9L6lfDHqw--cdnJg/)"
   ]
  },
  {
   "cell_type": "markdown",
   "id": "8d1a61ab-29ee-4aaa-b365-fb0b2926bcfb",
   "metadata": {
    "papermill": {},
    "tags": []
   },
   "source": [
    "**Last update:** 2024-02-07 (Created: 2021-05-10)"
   ]
  },
  {
   "cell_type": "markdown",
   "id": "naas-description",
   "metadata": {
    "papermill": {},
    "tags": [
     "description"
    ]
   },
   "source": [
    "**Description:** This notebook send latest news on given topics."
   ]
  },
  {
   "cell_type": "markdown",
   "id": "input_cell",
   "metadata": {
    "papermill": {},
    "tags": []
   },
   "source": [
    "## Input"
   ]
  },
  {
   "cell_type": "markdown",
   "id": "import_cell",
   "metadata": {
    "papermill": {},
    "tags": []
   },
   "source": [
    "### Import libraries"
   ]
  },
  {
   "cell_type": "code",
   "execution_count": null,
   "id": "37601b3e-c134-421c-93b1-7fcd6392d318",
   "metadata": {
    "papermill": {},
    "tags": []
   },
   "outputs": [],
   "source": [
    "from naas_drivers import newsapi, emailbuilder\n",
    "import naas"
   ]
  },
  {
   "cell_type": "markdown",
   "id": "adequate-russia",
   "metadata": {
    "execution": {
     "iopub.execute_input": "2021-05-10T12:14:10.484033Z",
     "iopub.status.busy": "2021-05-10T12:14:10.483793Z",
     "iopub.status.idle": "2021-05-10T12:14:10.487045Z",
     "shell.execute_reply": "2021-05-10T12:14:10.486350Z",
     "shell.execute_reply.started": "2021-05-10T12:14:10.484009Z"
    },
    "papermill": {},
    "tags": []
   },
   "source": [
    "### Setup variables"
   ]
  },
  {
   "cell_type": "code",
   "execution_count": null,
   "id": "weighted-boards",
   "metadata": {
    "papermill": {},
    "tags": []
   },
   "outputs": [],
   "source": [
    "# Inputs\n",
    "query = \"data, automation, AI\"  # newsapi query\n",
    "\n",
    "# Outputs\n",
    "your_email = \"florent@naas.ai\"\n",
    "email_subject = \"News scheduled from Naas Lab\"\n",
    "email_from = \"notifications@naas.ai\"\n",
    "cron = \"0 8 * * *\""
   ]
  },
  {
   "cell_type": "markdown",
   "id": "model_cell",
   "metadata": {
    "papermill": {},
    "tags": []
   },
   "source": [
    "## Model"
   ]
  },
  {
   "cell_type": "markdown",
   "id": "waiting-jimmy",
   "metadata": {
    "papermill": {},
    "tags": []
   },
   "source": [
    "### Use NewsAPI drivers to get data"
   ]
  },
  {
   "cell_type": "code",
   "execution_count": null,
   "id": "adult-rescue",
   "metadata": {
    "papermill": {},
    "tags": []
   },
   "outputs": [],
   "source": [
    "df = newsapi.connect().get(q=query)\n",
    "df"
   ]
  },
  {
   "cell_type": "markdown",
   "id": "protective-procedure",
   "metadata": {
    "papermill": {},
    "tags": []
   },
   "source": [
    "### Prep data"
   ]
  },
  {
   "cell_type": "code",
   "execution_count": null,
   "id": "successful-display",
   "metadata": {
    "papermill": {},
    "tags": []
   },
   "outputs": [],
   "source": [
    "# rename columns match the field required by Naas emailbuilder drivers\n",
    "df.rename(columns={\"title\": \"text\"}, inplace=True)\n",
    "df.rename(columns={\"link\": \"row_link\"}, inplace=True)\n",
    "\n",
    "table_news_email = df[:10]\n",
    "table_news_email = table_news_email[[\"text\", \"row_link\"]]\n",
    "table_news_email"
   ]
  },
  {
   "cell_type": "markdown",
   "id": "swedish-colorado",
   "metadata": {
    "papermill": {},
    "tags": []
   },
   "source": [
    "### Create HTML content"
   ]
  },
  {
   "cell_type": "code",
   "execution_count": null,
   "id": "sudden-suspect",
   "metadata": {
    "papermill": {},
    "tags": []
   },
   "outputs": [],
   "source": [
    "links = []\n",
    "ht_str = \"<ul>\"\n",
    "for i in range(len(table_news_email)):\n",
    "    val = (\n",
    "        \"<li>\"\n",
    "        + \"<a href=\"\n",
    "        + '\"'\n",
    "        + table_news_email[\"row_link\"][i]\n",
    "        + '\"'\n",
    "        + \">\"\n",
    "        + table_news_email[\"text\"][i]\n",
    "        + \"</a>\"\n",
    "        + \"</li>\"\n",
    "    )\n",
    "    ht_str = ht_str + \"\\n\" + val\n",
    "ht_str = ht_str + \"\\n\" + \"</ul>\"\n",
    "\n",
    "email_content = emailbuilder.generate(\n",
    "    display=\"iframe\",\n",
    "    title=f\"🌏 NewsAPI brief\",\n",
    "    subtitle=f\"<b>Topics</b>: {query}\",\n",
    "    table_1=ht_str,\n",
    "    text=\"Source: <a>https://newsapi.org/</a>\",\n",
    ")"
   ]
  },
  {
   "cell_type": "markdown",
   "id": "output_cell",
   "metadata": {
    "papermill": {},
    "tags": []
   },
   "source": [
    "## Output"
   ]
  },
  {
   "cell_type": "markdown",
   "id": "animal-helen",
   "metadata": {
    "papermill": {},
    "tags": []
   },
   "source": [
    "### Send email"
   ]
  },
  {
   "cell_type": "code",
   "execution_count": null,
   "id": "8ab43373-9f32-4bc3-bde8-b9e3b10ead1a",
   "metadata": {
    "papermill": {},
    "tags": []
   },
   "outputs": [],
   "source": [
    "naas.notification.send(\n",
    "    email_to=your_email,\n",
    "    subject=email_subject,\n",
    "    html=email_content,\n",
    "    email_from=email_from,\n",
    ")"
   ]
  },
  {
   "cell_type": "markdown",
   "id": "middle-barrel",
   "metadata": {
    "papermill": {},
    "tags": []
   },
   "source": [
    "### Add Scheduler"
   ]
  },
  {
   "cell_type": "code",
   "execution_count": null,
   "id": "basic-general",
   "metadata": {
    "papermill": {},
    "tags": []
   },
   "outputs": [],
   "source": [
    "naas.scheduler.add(cron=cron)\n",
    "\n",
    "# Uncomment the line below and run the cell to delete your scheduler\n",
    "# naas.scheduler.delete()"
   ]
  }
 ],
 "metadata": {
  "kernelspec": {
   "display_name": "Python 3",
   "language": "python",
   "name": "python3"
  },
  "language_info": {
   "codemirror_mode": {
    "name": "ipython",
    "version": 3
   },
   "file_extension": ".py",
   "mimetype": "text/x-python",
   "name": "python",
   "nbconvert_exporter": "python",
   "pygments_lexer": "ipython3",
   "version": "3.9.6"
  },
  "naas": {
   "notebook_id": "aee1eea6c2f3e3f4d62615d0860a483d9d3467ec78b9a17161063dbcb28366f9",
   "notebook_path": "News API/News_API_Send_latest_news.ipynb"
  },
  "papermill": {
   "default_parameters": {},
   "environment_variables": {},
   "parameters": {},
   "version": "2.3.3"
  },
  "widgets": {
   "application/vnd.jupyter.widget-state+json": {
    "state": {},
    "version_major": 2,
    "version_minor": 0
   }
  }
 },
 "nbformat": 4,
 "nbformat_minor": 5
}