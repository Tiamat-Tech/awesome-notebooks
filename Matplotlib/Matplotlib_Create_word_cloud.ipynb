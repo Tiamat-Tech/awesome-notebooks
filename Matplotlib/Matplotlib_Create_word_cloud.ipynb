{
 "cells": [
  {
   "cell_type": "markdown",
   "id": "79a35886-019f-463b-968c-6e94749d0f8f",
   "metadata": {
    "papermill": {},
    "tags": []
   },
   "source": [
    "<img width=\"8%\" alt=\"Matplotlib.png\" src=\"https://raw.githubusercontent.com/jupyter-naas/awesome-notebooks/master/.github/assets/logos/Matplotlib.png\" style=\"border-radius: 15%\">"
   ]
  },
  {
   "cell_type": "markdown",
   "id": "df83bb4c-c53c-44cd-8dff-5b1898982b55",
   "metadata": {
    "papermill": {},
    "tags": []
   },
   "source": [
    "# Matplotlib - Create word cloud\n",
    "<a href=\"https://bit.ly/3JyWIk6\">Give Feedback</a> | <a href=\"https://github.com/jupyter-naas/awesome-notebooks/issues/new?assignees=&labels=bug&template=bug_report.md&title=Matplotlib+-+Create+word+cloud:+Error+short+description\">Bug report</a>"
   ]
  },
  {
   "cell_type": "markdown",
   "id": "51e4b584-3d33-44be-a4ea-95910f35feba",
   "metadata": {
    "papermill": {},
    "tags": []
   },
   "source": [
    "**Tags:** #matplotlib #wordcloud #python #visualization #dataanalysis #datascience"
   ]
  },
  {
   "cell_type": "markdown",
   "id": "86efaa01-5ac2-4cb5-abdf-12589b22f3a7",
   "metadata": {
    "papermill": {},
    "tags": []
   },
   "source": [
    "**Author:** [Florent Ravenel](https://www.linkedin.com/in/florent-ravenel/)"
   ]
  },
  {
   "cell_type": "markdown",
   "id": "21d59db4-4539-4ed1-8e49-2093435181a4",
   "metadata": {
    "papermill": {},
    "tags": []
   },
   "source": [
    "**Last update:** 2024-02-26 (Created: 2024-02-26)"
   ]
  },
  {
   "cell_type": "markdown",
   "id": "5fa653c8-2b10-4825-a0b3-d4f41316a3cb",
   "metadata": {
    "papermill": {},
    "tags": []
   },
   "source": [
    "**Description:** This notebook demonstrates how to create a word cloud using Matplotlib. It provides a step-by-step guide on how to generate a word cloud from a given text data, which is a popular way to visualize high-frequency words in a dataset. The result is a word cloud image that visualizes the frequency of words in the given text data. The size of each word in the image corresponds to its frequency in the text data."
   ]
  },
  {
   "cell_type": "markdown",
   "id": "d525957e-f2b0-403e-aa1e-58aabc8543fa",
   "metadata": {
    "papermill": {},
    "tags": []
   },
   "source": [
    "**References:**\n",
    "- [Matplotlib Documentation](https://matplotlib.org/stable/contents.html)\n",
    "- [WordCloud for Python documentation](https://amueller.github.io/word_cloud/)"
   ]
  },
  {
   "cell_type": "markdown",
   "id": "b1904333-3641-474a-b944-83fc1c144e98",
   "metadata": {
    "papermill": {},
    "tags": []
   },
   "source": [
    "## Input"
   ]
  },
  {
   "cell_type": "markdown",
   "id": "bf6c637e-2e97-4611-995c-a32e19e7b5aa",
   "metadata": {
    "papermill": {},
    "tags": []
   },
   "source": [
    "### Import libraries"
   ]
  },
  {
   "cell_type": "code",
   "execution_count": null,
   "id": "e3ca6efa-d889-44a6-a665-1abed616c2b2",
   "metadata": {
    "papermill": {},
    "tags": []
   },
   "outputs": [],
   "source": [
    "import matplotlib.pyplot as plt\n",
    "from wordcloud import WordCloud\n",
    "import naas"
   ]
  },
  {
   "cell_type": "markdown",
   "id": "e106d224-f47c-4036-accf-a8502c680a49",
   "metadata": {
    "papermill": {},
    "tags": []
   },
   "source": [
    "### Setup variables\n",
    "- `text_data`: Text data from which the word cloud will be generated. It can be a string or a list of strings.\n",
    "- `background_color`: Background color.\n",
    "- `image_output`: Image output path."
   ]
  },
  {
   "cell_type": "code",
   "execution_count": null,
   "id": "93e858f8-01ef-4023-8b7a-63a62551c427",
   "metadata": {
    "papermill": {},
    "tags": []
   },
   "outputs": [],
   "source": [
    "text_data = \"This is a sample text data for creating a word cloud. This text data is used as an example to demonstrate how to create a word cloud using Matplotlib.\"\n",
    "background_color = \"black\"\n",
    "image_output = \"Worldcould.png\""
   ]
  },
  {
   "cell_type": "markdown",
   "id": "1e9c6c6a-2bb0-4ca5-8a8a-a5f52276815b",
   "metadata": {
    "papermill": {},
    "tags": []
   },
   "source": [
    "## Model"
   ]
  },
  {
   "cell_type": "markdown",
   "id": "6d27d10b-7030-4c51-a31b-add74e02e44e",
   "metadata": {
    "papermill": {},
    "tags": []
   },
   "source": [
    "### Create Word Cloud"
   ]
  },
  {
   "cell_type": "markdown",
   "id": "0170f5de-0895-461a-bec5-6913533407df",
   "metadata": {
    "papermill": {},
    "tags": []
   },
   "source": [
    "Here, we will create a word cloud from the text data. The `WordCloud` function from the `wordcloud` library is used to generate the word cloud. The `generate` method is then called on the `WordCloud` object, passing the text data as an argument. The word cloud is then displayed using the `imshow` function from `matplotlib.pyplot`."
   ]
  },
  {
   "cell_type": "code",
   "execution_count": null,
   "id": "68a6347f-fcb0-4fd3-8c1f-3b197ba3d38e",
   "metadata": {
    "papermill": {},
    "tags": []
   },
   "outputs": [],
   "source": [
    "# Create a WordCloud object\n",
    "wordcloud = WordCloud(background_color=background_color, collocations=False).generate(text_data)\n",
    "\n",
    "# Display the generated image\n",
    "plt.imshow(wordcloud, interpolation=\"bilinear\")\n",
    "plt.axis(\"off\")\n",
    "plt.show()"
   ]
  },
  {
   "cell_type": "markdown",
   "id": "ff856b60-26a3-41a8-b406-0ec429df1e27",
   "metadata": {
    "papermill": {},
    "tags": []
   },
   "source": [
    "## Output"
   ]
  },
  {
   "cell_type": "markdown",
   "id": "b8fada11-b507-4522-ba43-24a00a9e9960",
   "metadata": {
    "papermill": {},
    "tags": []
   },
   "source": [
    "### Save and share your word cloud in image"
   ]
  },
  {
   "cell_type": "code",
   "execution_count": null,
   "id": "641a1f5c-f82d-41e3-9006-0495c3830a5b",
   "metadata": {
    "papermill": {},
    "tags": []
   },
   "outputs": [],
   "source": [
    "# Save your image in PNG\n",
    "wordcloud.to_file(image_output)\n",
    "\n",
    "# Share output with naas\n",
    "naas.asset.add(image_output)"
   ]
  },
  {
   "cell_type": "code",
   "execution_count": null,
   "id": "c3cc4b04-7e76-4a10-ba48-5875a2d587c5",
   "metadata": {
    "papermill": {},
    "tags": []
   },
   "outputs": [],
   "source": []
  }
 ],
 "metadata": {
  "kernelspec": {
   "display_name": "Python 3",
   "language": "python",
   "name": "python3"
  },
  "language_info": {
   "codemirror_mode": {
    "name": "ipython",
    "version": 3
   },
   "file_extension": ".py",
   "mimetype": "text/x-python",
   "name": "python",
   "nbconvert_exporter": "python",
   "pygments_lexer": "ipython3",
   "version": "3.9.6"
  },
  "naas": {
   "notebook_id": "7f98128600691d50b63a846b11b5f750e728fa30c8da2c6b8ab9768dceaebe08",
   "notebook_path": "Matplotlib/Matplotlib_Create_word_cloud.ipynb"
  },
  "papermill": {
   "default_parameters": {},
   "environment_variables": {},
   "parameters": {},
   "version": "2.5.0"
  },
  "widgets": {
   "application/vnd.jupyter.widget-state+json": {
    "state": {},
    "version_major": 2,
    "version_minor": 0
   }
  }
 },
 "nbformat": 4,
 "nbformat_minor": 5
}