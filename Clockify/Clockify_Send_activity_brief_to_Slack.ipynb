{
 "cells": [
  {
   "cell_type": "markdown",
   "id": "389e6be9-1a6e-4fcb-b091-e31607ec8da6",
   "metadata": {
    "papermill": {},
    "tags": []
   },
   "source": [
    "<img width=\"8%\" alt=\"Clockify.png\" src=\"https://raw.githubusercontent.com/jupyter-naas/awesome-notebooks/master/.github/assets/logos/Clockify.png\" style=\"border-radius: 15%\">"
   ]
  },
  {
   "cell_type": "markdown",
   "id": "36722081-8746-486c-a539-6a65f45732bb",
   "metadata": {
    "papermill": {},
    "tags": []
   },
   "source": [
    "# Clockify - Send activity brief to Slack\n",
    "<a href=\"https://bit.ly/3JyWIk6\">Give Feedback</a> | <a href=\"https://github.com/jupyter-naas/awesome-notebooks/issues/new?assignees=&labels=bug&template=bug_report.md&title=Clockify+-+Send+activity+brief+to+Slack:+Error+short+description\">Bug report</a>"
   ]
  },
  {
   "cell_type": "markdown",
   "id": "933b1463-8fc8-40a3-ba4f-19db5253599b",
   "metadata": {
    "papermill": {},
    "tags": []
   },
   "source": [
    "**Tags:** #clockify #slack #activity #brief #daily #weekly #automation"
   ]
  },
  {
   "cell_type": "markdown",
   "id": "e0beb301-9271-41a4-b16a-ce2fee7db1c9",
   "metadata": {
    "papermill": {},
    "tags": []
   },
   "source": [
    "**Author:** [Florent Ravenel](https://www.linkedin.com/in/florent-ravenel/)"
   ]
  },
  {
   "cell_type": "markdown",
   "id": "61596618-5ddf-4f83-8b0a-239e72060930",
   "metadata": {
    "papermill": {},
    "tags": []
   },
   "source": [
    "**Last update:** 2023-11-16 (Created: 2023-11-16)"
   ]
  },
  {
   "cell_type": "markdown",
   "id": "80cd984b-9345-452c-ad44-72dcdc8b26e1",
   "metadata": {
    "papermill": {},
    "tags": []
   },
   "source": [
    "**Description:** This notebook automates the process of sending a daily activity brief from Clockify to Slack. If today is Monday, the script will send the activity report from last week to Slack. For Tuesday to Friday, it will send a brief of the previous day's activity."
   ]
  },
  {
   "cell_type": "markdown",
   "id": "63f4b2ee-8ec6-45e1-8c74-4c2b27dcddbc",
   "metadata": {
    "papermill": {},
    "tags": []
   },
   "source": [
    "**References:**\n",
    "- [Clockify API Documentation](https://docs.clockify.me/#tag/Time-entry/operation/getTimeEntries)\n",
    "- [Slack App](https://api.slack.com/apps)"
   ]
  },
  {
   "cell_type": "markdown",
   "id": "00b0e091-c767-46dd-a237-6fc6870db301",
   "metadata": {
    "papermill": {},
    "tags": []
   },
   "source": [
    "## Input"
   ]
  },
  {
   "cell_type": "markdown",
   "id": "e438858a-f719-4698-93c8-c25bf52964a4",
   "metadata": {
    "papermill": {},
    "tags": []
   },
   "source": [
    "### Import libraries"
   ]
  },
  {
   "cell_type": "code",
   "execution_count": null,
   "id": "12b0fc1f-a48f-46dc-80c1-a8f93858ede9",
   "metadata": {
    "papermill": {},
    "tags": []
   },
   "outputs": [],
   "source": [
    "import requests\n",
    "import naas\n",
    "import pandas as pd\n",
    "from datetime import datetime, date, timedelta, time\n",
    "from naas_drivers import slack"
   ]
  },
  {
   "cell_type": "markdown",
   "id": "7439537e-b364-4c06-a551-1ba2207c0cdc",
   "metadata": {
    "papermill": {},
    "tags": []
   },
   "source": [
    "### Setup variables\n",
    "**Pre-requisite**\n",
    "- [Create Slack App](https://api.slack.com/apps)\n",
    "- In \"Auth & Permissions\" section, add user token Scopes: `chat:write`, `groups:write`, `files:write`\n",
    "- [Get your Clockify API key](https://clockify.me/user/settings)\n",
    "**Mandatory**\n",
    "- `api_key`: Clockify API key\n",
    "- `workspace_id`: ID of the workspace\n",
    "- `user_id`: ID of the user to get time entries from\n",
    "- `slack_token`: User Slack token\n",
    "- `slack_channel`: the channel where you wish to send the message\n",
    "\n",
    "**Optional**\n",
    "- `cron`: This variable represents the CRON syntax used to run the scheduler. More information here: https://crontab.guru/#0_12,18_*_*_1-5"
   ]
  },
  {
   "cell_type": "code",
   "execution_count": null,
   "id": "736cfc94-75e5-4efa-b17e-c164df51dd30",
   "metadata": {
    "papermill": {},
    "tags": []
   },
   "outputs": [],
   "source": [
    "# Mandatory\n",
    "api_key = naas.secret.get(\"CLOCKIFY_API_KEY\") or \"YOUR_API_KEY\"\n",
    "workspace_id = \"626f9e3b36c2670314c0386e\" #\"<WORKSPACE_ID>\"\n",
    "user_id = \"626fa819f87fd71e0e1f392c\"\n",
    "slack_token = naas.secret.get(\"SLACK_USER_TOKEN\")\n",
    "slack_channel = \"core-team-chat\"\n",
    "\n",
    "# Optional\n",
    "cron = \"0 8 * * 1-5\""
   ]
  },
  {
   "cell_type": "markdown",
   "id": "d746baad-e9ae-4c52-8899-b3ce918f55cc",
   "metadata": {
    "papermill": {},
    "tags": []
   },
   "source": [
    "## Model"
   ]
  },
  {
   "cell_type": "markdown",
   "id": "a5723154-f799-41a7-88ca-763b03ab01eb",
   "metadata": {
    "papermill": {},
    "tags": []
   },
   "source": [
    "### Get start date and end date"
   ]
  },
  {
   "cell_type": "code",
   "execution_count": null,
   "id": "4e46d328-ff65-492a-ae20-8c1371756e8d",
   "metadata": {
    "papermill": {},
    "tags": []
   },
   "outputs": [],
   "source": [
    "today = date.today() \n",
    "\n",
    "# Get the weekday as an integer (Monday is 0 and Sunday is 6)\n",
    "weekday = today.weekday()\n",
    "print(\"Weekday:\", weekday)\n",
    "\n",
    "if weekday == 0:\n",
    "    days_to_subtract = (weekday) % 7 + 7\n",
    "    first_day_of_last_week = today - timedelta(days=days_to_subtract)\n",
    "    start_date = first_day_of_last_week.strftime(\"%Y-%m-%d\")\n",
    "    end_date = datetime.combine((first_day_of_last_week + timedelta(days=6)), datetime.max.time()).astimezone().isoformat()\n",
    "elif weekday in [1, 2, 3, 4]:\n",
    "    start_date = (today - timedelta(days=1)).strftime(\"%Y-%m-%d\")\n",
    "    end_date = datetime.combine((datetime.now() - timedelta(days=1)), datetime.max.time()).astimezone().isoformat()\n",
    "print(\"Start date:\", start_date)\n",
    "print(\"End date:\", end_date)"
   ]
  },
  {
   "cell_type": "markdown",
   "id": "788921c8-02d4-48a6-b22f-13ce210b6988",
   "metadata": {
    "papermill": {},
    "tags": []
   },
   "source": [
    "### Function: Flatten the nested dict"
   ]
  },
  {
   "cell_type": "code",
   "execution_count": null,
   "id": "539b5ca1-b3ee-4fd4-bb30-6b55965eac3b",
   "metadata": {
    "papermill": {},
    "tags": []
   },
   "outputs": [],
   "source": [
    "# Flatten the nested dict\n",
    "def flatten_dict(d, parent_key='', sep='_'):\n",
    "    \"\"\"\n",
    "    Flattens a nested dictionary into a single level dictionary.\n",
    "\n",
    "    Args:\n",
    "        d (dict): A nested dictionary.\n",
    "        parent_key (str): Optional string to prefix the keys with.\n",
    "        sep (str): Optional separator to use between parent_key and child_key.\n",
    "\n",
    "    Returns:\n",
    "        dict: A flattened dictionary.\n",
    "    \"\"\"\n",
    "    items = []\n",
    "    for k, v in d.items():\n",
    "        new_key = f\"{parent_key}{sep}{k}\" if parent_key else k\n",
    "        if isinstance(v, dict):\n",
    "            items.extend(flatten_dict(v, new_key, sep=sep).items())\n",
    "        else:\n",
    "            items.append((new_key, v))\n",
    "    return dict(items)"
   ]
  },
  {
   "cell_type": "markdown",
   "id": "fea09d38-f442-4255-ad62-fefd51f9f443",
   "metadata": {
    "papermill": {},
    "tags": []
   },
   "source": [
    "### Function: Get referentials from workspace"
   ]
  },
  {
   "cell_type": "code",
   "execution_count": null,
   "id": "c61ded79-99f1-4826-b3ab-81f1ea474c87",
   "metadata": {
    "papermill": {},
    "tags": []
   },
   "outputs": [],
   "source": [
    "def get_data(api_key, workspace_id, endpoint):\n",
    "    # Init\n",
    "    page = 1\n",
    "    df = pd.DataFrame()\n",
    "    \n",
    "    while True:\n",
    "        # Requests\n",
    "        url = f\"https://api.clockify.me/api/v1/workspaces/{workspace_id}/{endpoint}\"\n",
    "        headers = {\n",
    "            \"X-Api-Key\": api_key\n",
    "        }\n",
    "        params = {\n",
    "            \"page\": page,\n",
    "            \"page-size\": 100\n",
    "        }\n",
    "        res = requests.get(url, headers=headers, params=params)\n",
    "        data = res.json()\n",
    "        if len(data) > 0:\n",
    "            for d in data:\n",
    "                res = flatten_dict(d)\n",
    "                tmp_df = pd.DataFrame([res])\n",
    "                df = pd.concat([df, tmp_df])\n",
    "        else:\n",
    "            break\n",
    "        page += 1\n",
    "    return df.reset_index(drop=True)"
   ]
  },
  {
   "cell_type": "markdown",
   "id": "440de640-7a97-466a-b305-c960960ed815",
   "metadata": {
    "papermill": {},
    "tags": []
   },
   "source": [
    "### Get time entries"
   ]
  },
  {
   "cell_type": "code",
   "execution_count": null,
   "id": "e03c86de-820a-4bfa-b7ec-9ef24543330f",
   "metadata": {
    "papermill": {},
    "tags": []
   },
   "outputs": [],
   "source": [
    "def get_time_entries(\n",
    "    api_key,\n",
    "    workspace_id,\n",
    "    user_id,\n",
    "    start_date,\n",
    "    end_date\n",
    "):\n",
    "    # Init\n",
    "    start_date = datetime.strptime(start_date, \"%Y-%m-%d\").astimezone().isoformat() # Format date\n",
    "    page = 1\n",
    "    df = pd.DataFrame()\n",
    "    \n",
    "    # Get raw data\n",
    "    while True:\n",
    "        url = f\"https://api.clockify.me/api/v1/workspaces/{workspace_id}/user/{user_id}/time-entries\"\n",
    "        headers = {\"X-Api-Key\": api_key}\n",
    "        params = {\n",
    "            \"start\": start_date,\n",
    "            \"end\": end_date,\n",
    "            \"page\": page,\n",
    "            \"page-size\": 100\n",
    "        }\n",
    "        res = requests.get(url, headers=headers, params=params)\n",
    "        data = res.json()\n",
    "        if len(data) > 0:\n",
    "            for d in data:\n",
    "                res = flatten_dict(d)\n",
    "                tmp_df = pd.DataFrame([res])\n",
    "                df = pd.concat([df, tmp_df]).reset_index(drop=True)\n",
    "        else:\n",
    "            break\n",
    "        page += 1\n",
    "    return df.reset_index(drop=True)\n",
    "\n",
    "# Get entries\n",
    "database = get_time_entries(api_key, workspace_id, user_id, start_date, end_date)\n",
    "print(\"Time entries fetched:\", len(database))\n",
    "database#.head(3)"
   ]
  },
  {
   "cell_type": "markdown",
   "id": "fc522760-7f46-40a7-8973-d66996bc513f",
   "metadata": {
    "papermill": {},
    "tags": []
   },
   "source": [
    "### Get all projects"
   ]
  },
  {
   "cell_type": "code",
   "execution_count": null,
   "id": "9f8225c9-f72e-4cf0-92ed-944a2230c26d",
   "metadata": {
    "papermill": {},
    "tags": []
   },
   "outputs": [],
   "source": [
    "df_projects = get_data(api_key, workspace_id, \"projects\")\n",
    "df_projects = df_projects.rename(columns={\"id\": \"projectId\", \"name\": \"projectName\"})\n",
    "df_projects = df_projects[[\"projectId\", \"projectName\", \"clientId\"]]\n",
    "print(\"Projects fetched:\", len(df_projects))\n",
    "df_projects.head(1)"
   ]
  },
  {
   "cell_type": "markdown",
   "id": "5a387182-8635-420f-85f3-42854c2095a9",
   "metadata": {
    "papermill": {},
    "tags": []
   },
   "source": [
    "### Get all clients"
   ]
  },
  {
   "cell_type": "code",
   "execution_count": null,
   "id": "09d12b5e-074c-43bd-acb3-26cffdedfba8",
   "metadata": {
    "papermill": {},
    "tags": []
   },
   "outputs": [],
   "source": [
    "df_clients = get_data(api_key, workspace_id, \"clients\")\n",
    "df_clients = df_clients.rename(columns={\"id\": \"clientId\", \"name\": \"clientName\"})\n",
    "df_clients = df_clients[[\"clientId\", \"clientName\"]]\n",
    "print(\"Clients fetched:\", len(df_clients))\n",
    "df_clients.head(1)"
   ]
  },
  {
   "cell_type": "markdown",
   "id": "9f56677e-8176-4075-97cf-2f6e79fcac1e",
   "metadata": {
    "papermill": {},
    "tags": []
   },
   "source": [
    "### Create database\n",
    "Enrich data with referentials from workspace"
   ]
  },
  {
   "cell_type": "code",
   "execution_count": null,
   "id": "4b471447-25bc-435f-9054-e199e6366e2f",
   "metadata": {
    "papermill": {},
    "tags": []
   },
   "outputs": [],
   "source": [
    "def create_database(\n",
    "    df_init,\n",
    "    df_projects,\n",
    "    df_clients,\n",
    "    filters=None\n",
    "):\n",
    "    # Init\n",
    "    df = df_init.copy()\n",
    "    \n",
    "    # Final DB\n",
    "    df = pd.merge(df, df_projects, how=\"left\", on=\"projectId\")\n",
    "    df = pd.merge(df, df_clients, how=\"left\", on=\"clientId\")\n",
    "    df[\"timeduration_Hours\"] = round((pd.to_datetime(df[\"timeInterval_end\"]) - pd.to_datetime(df[\"timeInterval_start\"])).dt.total_seconds() / 3600, 2)\n",
    "\n",
    "    # Select column\n",
    "    to_group = [\n",
    "        \"clientName\",\n",
    "        \"projectName\",\n",
    "        \"description\",\n",
    "    ]\n",
    "    to_agg = {\n",
    "        \"timeduration_Hours\": \"sum\" \n",
    "    }\n",
    "    df = df.groupby(to_group, as_index=False).agg(to_agg)\n",
    "    return df\n",
    "    \n",
    "df_slack = create_database(\n",
    "    database,\n",
    "    df_projects,\n",
    "    df_clients,\n",
    ")\n",
    "print(df_slack.timeduration_Hours.sum())\n",
    "df_slack"
   ]
  },
  {
   "cell_type": "markdown",
   "id": "70af6cc5-2dcf-4473-ad45-abdd4463dbf2",
   "metadata": {
    "papermill": {},
    "tags": []
   },
   "source": [
    "### Create Slack blocks"
   ]
  },
  {
   "cell_type": "code",
   "execution_count": null,
   "id": "474fd1df-43f1-44ce-8a4c-f36f71ee672f",
   "metadata": {
    "papermill": {},
    "tags": []
   },
   "outputs": [],
   "source": [
    "blocks = [\n",
    "    {\n",
    "        \"type\": \"section\",\n",
    "        \"text\": {\n",
    "            \"type\": \"mrkdwn\",\n",
    "            \"text\": f\"*Here is my brief of yesterday activity: {start_date}*\",\n",
    "        }\n",
    "    }\n",
    "]\n",
    "\n",
    "clients = df_slack.clientName.unique()\n",
    "for client in clients:\n",
    "    # Filter on clients\n",
    "    tmp_df = df_slack[df_slack[\"clientName\"] == client].reset_index(drop=True)\n",
    "    total = round(tmp_df.timeduration_Hours.sum())\n",
    "    \n",
    "    # Get clients\n",
    "    blocks.append({\"type\": \"section\", \"text\": {\"type\": \"mrkdwn\", \"text\": f\"*{client} : {total} hours*\"}})\n",
    "    \n",
    "    # Get project details\n",
    "    bullet_points = []\n",
    "    for row in tmp_df.itertuples():\n",
    "        project_name = row.projectName\n",
    "        description = row.description\n",
    "        hours = row.timeduration_Hours\n",
    "        bullet_points.append(f\"• {project_name}: {description} ({hours} hours)\")\n",
    "        \n",
    "    for b in bullet_points:\n",
    "        blocks.append({\"type\": \"section\", \"text\": {\"type\": \"mrkdwn\", \"text\": b}})\n",
    "        \n",
    "blocks"
   ]
  },
  {
   "cell_type": "markdown",
   "id": "3cb6fdc2-6362-40dd-a5e9-91bb23cd500c",
   "metadata": {
    "papermill": {},
    "tags": []
   },
   "source": [
    "## Output"
   ]
  },
  {
   "cell_type": "markdown",
   "id": "e7e25766-2ce9-4f72-a925-ee4bc4c5031b",
   "metadata": {
    "papermill": {},
    "tags": []
   },
   "source": [
    "### Send message to Slack"
   ]
  },
  {
   "cell_type": "code",
   "execution_count": null,
   "id": "5d22aa13-1a2f-45c0-8fac-4f148828c629",
   "metadata": {
    "papermill": {},
    "tags": []
   },
   "outputs": [],
   "source": [
    "slack.connect(slack_token).send(slack_channel, text=\"\", blocks=blocks)"
   ]
  },
  {
   "cell_type": "markdown",
   "id": "7bcec3e2-f77a-4053-9055-e3ffed6de3d9",
   "metadata": {
    "papermill": {},
    "tags": []
   },
   "source": [
    "### Add scheduler"
   ]
  },
  {
   "cell_type": "code",
   "execution_count": null,
   "id": "ce43e5fb-323b-47ec-b308-8c320e426280",
   "metadata": {
    "papermill": {},
    "tags": []
   },
   "outputs": [],
   "source": [
    "naas.scheduler.add(cron=cron)\n",
    "\n",
    "# naas.scheduler.delete()"
   ]
  }
 ],
 "metadata": {
  "kernelspec": {
   "display_name": "Python 3",
   "language": "python",
   "name": "python3"
  },
  "language_info": {
   "codemirror_mode": {
    "name": "ipython",
    "version": 3
   },
   "file_extension": ".py",
   "mimetype": "text/x-python",
   "name": "python",
   "nbconvert_exporter": "python",
   "pygments_lexer": "ipython3",
   "version": "3.9.6"
  },
  "naas": {
   "notebook_id": "b70b89322fb620d44a18ad1c12b3d5d4a3e0f5ea04498377cb84664f72d48045",
   "notebook_path": "Clockify/Clockify_Send_activity_brief_to_Slack.ipynb"
  },
  "papermill": {
   "default_parameters": {},
   "environment_variables": {},
   "parameters": {},
   "version": "2.5.0"
  },
  "widgets": {
   "application/vnd.jupyter.widget-state+json": {
    "state": {},
    "version_major": 2,
    "version_minor": 0
   }
  }
 },
 "nbformat": 4,
 "nbformat_minor": 5
}