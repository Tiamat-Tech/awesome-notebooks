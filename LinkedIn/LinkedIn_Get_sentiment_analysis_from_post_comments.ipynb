{
 "cells": [
  {
   "cell_type": "markdown",
   "id": "08e60f0b-15df-4b1e-bafb-8fdd9ba86794",
   "metadata": {
    "papermill": {},
    "tags": []
   },
   "source": [
    "<img width=\"8%\" alt=\"LinkedIn.png\" src=\"https://raw.githubusercontent.com/jupyter-naas/awesome-notebooks/master/.github/assets/logos/LinkedIn.png\" style=\"border-radius: 15%\">"
   ]
  },
  {
   "cell_type": "markdown",
   "id": "bf47ced8-b6e7-4462-9e1f-ce408f6038a5",
   "metadata": {
    "papermill": {},
    "tags": []
   },
   "source": [
    "# LinkedIn - Get sentiment analysis from post comments\n",
    "<a href=\"https://bit.ly/3JyWIk6\">Give Feedback</a> | <a href=\"https://github.com/jupyter-naas/awesome-notebooks/issues/new?assignees=&labels=bug&template=bug_report.md&title=LinkedIn+-+Get+sentiment+analysis+from+post+comments:+Error+short+description\">Bug report</a>"
   ]
  },
  {
   "cell_type": "markdown",
   "id": "83f92798-691c-459c-91ae-bc6007dd24ec",
   "metadata": {
    "papermill": {},
    "tags": []
   },
   "source": [
    "**Tags:** #linkedin #sentimentanalysis #api #python #nlp #textanalysis"
   ]
  },
  {
   "cell_type": "markdown",
   "id": "f460a276-b2c7-44a4-a670-93641a1fcbdc",
   "metadata": {
    "papermill": {},
    "tags": []
   },
   "source": [
    "**Author:** [Florent Ravenel](https://www.linkedin.com/in/florent-ravenel)"
   ]
  },
  {
   "cell_type": "markdown",
   "id": "1da37b2b-8529-49e6-a8ed-74ab9c5ce97c",
   "metadata": {
    "papermill": {},
    "tags": []
   },
   "source": [
    "**Last update:** 2023-08-10 (Created: 2023-08-10)"
   ]
  },
  {
   "cell_type": "markdown",
   "id": "6f62a79a-0f8f-4890-8fdf-8ded2c562ef6",
   "metadata": {
    "papermill": {},
    "tags": []
   },
   "source": [
    "**Description:** This notebook provides a sentiment analysis of comments from LinkedIn post. This is useful to understand the sentiment of their posts and the reactions of their followers. The five adjectives that will be used to analyze comment sentiment on LinkedIn are the following:\n",
    "- \"Praise\" - This is for highly positive comments that express admiration or approval. These comments often include compliments or positive feedback.\n",
    "- \"Supportive\" - This is for positive comments that may not necessarily contain high praise but show agreement, support, or encouragement.\n",
    "- \"Neutral\" - This is for comments that are neither positive nor negative, often factual statements or questions without any clear positive or negative connotations.\n",
    "- \"Constructive\" - This is for comments that may seem negative but are intended to provide constructive feedback or suggest improvements.\n",
    "- \"Disapproving\" - This is for comments that express disagreement, criticism, or negative feedback."
   ]
  },
  {
   "cell_type": "markdown",
   "id": "28e6b361-c9e0-48ab-99ca-7ef45b731ab0",
   "metadata": {
    "papermill": {},
    "tags": []
   },
   "source": [
    "\n",
    "<div class=\"alert alert-info\" role=\"info\" style=\"margin: 10px\">\n",
    "<b>Disclaimer:</b><br>\n",
    "This code is in no way affiliated with, authorized, maintained, sponsored or endorsed by Linkedin or any of its affiliates or subsidiaries. It uses an independent and unofficial API. Use at your own risk.\n",
    "\n",
    "This project violates Linkedin's User Agreement Section 8.2, and because of this, Linkedin may (and will) temporarily or permanently ban your account. We are not responsible for your account being banned.\n",
    "<br>\n",
    "</div>"
   ]
  },
  {
   "cell_type": "markdown",
   "id": "d09ff026-4c5b-4050-acfc-d081790e509b",
   "metadata": {
    "papermill": {},
    "tags": []
   },
   "source": [
    "## Input"
   ]
  },
  {
   "cell_type": "markdown",
   "id": "ed49a3d0-5ada-423a-82ea-0beffb8c37e1",
   "metadata": {
    "papermill": {},
    "tags": []
   },
   "source": [
    "### Import libraries"
   ]
  },
  {
   "cell_type": "code",
   "execution_count": null,
   "id": "d91e3b95-0e16-4840-8ac5-52fd6b3af807",
   "metadata": {
    "papermill": {},
    "tags": []
   },
   "outputs": [],
   "source": [
    "from naas_drivers import linkedin\n",
    "try:\n",
    "    import openai\n",
    "except:\n",
    "    !pip install openai --user\n",
    "    import openai\n",
    "import pandas as pd\n",
    "from datetime import datetime\n",
    "import naas\n",
    "import plotly.express as px"
   ]
  },
  {
   "cell_type": "markdown",
   "id": "9d0231d3-96cc-47ab-9334-c4d1e310517a",
   "metadata": {
    "papermill": {},
    "tags": []
   },
   "source": [
    "### Setup variables\n",
    "**Mandatory**\n",
    "\n",
    "[Learn how to get your cookies on LinkedIn](https://www.notion.so/LinkedIn-driver-Get-your-cookies-d20a8e7e508e42af8a5b52e33f3dba75)\n",
    "- `li_at`: Cookie used to authenticate Members and API clients\n",
    "- `JSESSIONID`: Cookie used for Cross Site Request Forgery (CSRF) protection and URL signature validation\n",
    "- `post_url`: This variable represents the post URL from LinkedIn\n",
    "\n",
    "[Get your OpenAI API key here](https://openai.com/docs/api-overview/)\n",
    "- `openai_api_key`: OpenAI API key.\n",
    "\n",
    "**Optional**\n",
    "- `prompt`: This is the text prompt that you want to send to the OpenAI API.\n",
    "- `model`: ID of the model to use. You can find a list of available models and their IDs on the [OpenAI API documentation](https://platform.openai.com/docs/models/overview).\n",
    "- `temperature` (Defaults to 1): This is a value that controls the level of randomness in the generated text. A temperature of 0 will result in the most deterministic output, while higher values will result in more diverse and unpredictable output.\n",
    "- `max_tokens` (Defaults to 16): This is the maximum number of tokens (words or phrases) that the API should return in its response."
   ]
  },
  {
   "cell_type": "code",
   "execution_count": null,
   "id": "229d37b5-b748-4b80-af2d-c31cb11f57ef",
   "metadata": {
    "papermill": {},
    "tags": []
   },
   "outputs": [],
   "source": [
    "# Mandatory\n",
    "li_at = naas.secret.get(\"LINKEDIN_LI_AT\") or \"YOUR_LINKEDIN_LI_AT\" #example: AQFAzQN_PLPR4wAAAXc-FCKmgiMit5FLdY1af3-2\n",
    "JSESSIONID = naas.secret.get(\"LINKEDIN_JSESSIONID\") or \"YOUR_LINKEDIN_JSESSIONID\" #example: ajax:8379907400220387585\n",
    "post_url = \"https://www.linkedin.com/xxxx\"\n",
    "openai_api_key = naas.secret.get(name=\"OPENAI_API_KEY\") or \"ENTER_YOUR_OPENAI_API_KEY\"\n",
    "\n",
    "# Optional\n",
    "prompt = f\"\"\"\n",
    "In this task, you are required to analyze the sentiment of a comment made on a LinkedIn post. \n",
    "Your role is to determine whether the sentiment of the comment is \"Praise\", \"Supportive\", \"Neutral\", \"Constructive\", or \"Disapproving\".\n",
    "Here is the comment that you need to analyze: \"[COMMENT]\"\n",
    "Your response should strictly be one of the following: \"Praise\", \"Supportive\", \"Neutral\", \"Constructive\", or \"Disapproving\".\n",
    "\"\"\"\n",
    "model = \"text-davinci-003\"\n",
    "temperature = 0.2\n",
    "max_tokens = 100"
   ]
  },
  {
   "cell_type": "markdown",
   "id": "0b0e69cd-b7ca-45e4-97ed-f1ab0dbc53e1",
   "metadata": {
    "papermill": {},
    "tags": []
   },
   "source": [
    "## Model"
   ]
  },
  {
   "cell_type": "markdown",
   "id": "ad32453f-f853-4b82-b72d-a2e099d1b9c8",
   "metadata": {
    "papermill": {},
    "tags": []
   },
   "source": [
    "### Get post comments"
   ]
  },
  {
   "cell_type": "code",
   "execution_count": null,
   "id": "31f68845-6ca7-427f-8920-2749ea990316",
   "metadata": {
    "papermill": {},
    "tags": []
   },
   "outputs": [],
   "source": [
    "df_comments = linkedin.connect(li_at, JSESSIONID).post.get_comments(post_url)\n",
    "print(\"Comments fetched:\", len(df_comments))\n",
    "df_comments.head(1)"
   ]
  },
  {
   "cell_type": "markdown",
   "id": "b707bae9-571a-479c-8f78-cb204e0766da",
   "metadata": {
    "papermill": {},
    "tags": []
   },
   "source": [
    "### Analyze sentiment"
   ]
  },
  {
   "cell_type": "markdown",
   "id": "f65cd149-f3b3-4d55-81d9-4e867510caea",
   "metadata": {
    "papermill": {},
    "tags": []
   },
   "source": [
    "This function uses the TextBlob library to analyze the sentiment of a comment. It takes a comment as an argument and returns the sentiment score."
   ]
  },
  {
   "cell_type": "code",
   "execution_count": null,
   "id": "dcc81ea9-d36c-4a59-a56c-0d2d956a3065",
   "metadata": {
    "papermill": {},
    "tags": []
   },
   "outputs": [],
   "source": [
    "def get_sentiment(\n",
    "    prompt,\n",
    "    model,\n",
    "    temperature,\n",
    "    max_tokens,\n",
    "):  \n",
    "    # Create completion\n",
    "    response = openai.Completion.create(\n",
    "        model=model,\n",
    "        prompt=prompt,\n",
    "        temperature=temperature,\n",
    "        max_tokens=max_tokens,\n",
    "    )\n",
    "    \n",
    "    # Extract the generated text\n",
    "    result = response[\"choices\"][0][\"text\"].replace(\"Answer:\", \"\").strip()\n",
    "    return result\n",
    "\n",
    "\n",
    "# Connect with OpenAI API key\n",
    "openai.api_key = openai_api_key\n",
    "\n",
    "# Loop on comments\n",
    "for index, row in df_comments.iterrows():\n",
    "    # Init\n",
    "    comment = row[\"TEXT\"].strip()\n",
    "    fullname = row[\"FULLNAME\"]\n",
    "    occupation = row[\"OCCUPATION\"]\n",
    "    comment_likes = row[\"LIKES\"]\n",
    "    print(\"Comment:\", comment, f\"({comment_likes} likes)\")\n",
    "    print(f\"Made by: {fullname} - {occupation}\")\n",
    "\n",
    "    # Get sentiment\n",
    "    comment_prompt = prompt.replace(\"[COMMENT]\", comment)\n",
    "    sentiment = get_sentiment(comment_prompt, model, temperature, max_tokens)\n",
    "    print(\"Sentiment:\", sentiment)\n",
    "    print()\n",
    "    df_comments.loc[index, \"SENTIMENT\"] = sentiment"
   ]
  },
  {
   "cell_type": "markdown",
   "id": "727a66d9-90c6-48cf-9463-557a1aaf20f4",
   "metadata": {
    "execution": {
     "iopub.execute_input": "2023-08-11T09:27:14.791788Z",
     "iopub.status.busy": "2023-08-11T09:27:14.791491Z",
     "iopub.status.idle": "2023-08-11T09:27:14.799026Z",
     "shell.execute_reply": "2023-08-11T09:27:14.798455Z",
     "shell.execute_reply.started": "2023-08-11T09:27:14.791754Z"
    },
    "papermill": {},
    "tags": []
   },
   "source": [
    "### Save dataframe in CSV"
   ]
  },
  {
   "cell_type": "code",
   "execution_count": null,
   "id": "0ef4dbae-a004-4287-9862-1cfe8e9492ba",
   "metadata": {
    "papermill": {},
    "tags": []
   },
   "outputs": [],
   "source": [
    "def save_df(df, file_name=None):\n",
    "    if not file_name:\n",
    "        activity_id = df.loc[0, \"POST_URL\"].split(\":activity:\")[-1]\n",
    "        file_name = f\"{datetime.now().strftime('%Y%m%d%H%M%S')}_comments_post_{activity_id}.csv\"\n",
    "    df.to_csv(file_name, index=False)\n",
    "    \n",
    "save_df(df_comments)"
   ]
  },
  {
   "cell_type": "markdown",
   "id": "5d127eb0-c24d-4478-84c6-2840e4169db0",
   "metadata": {
    "papermill": {},
    "tags": []
   },
   "source": [
    "## Output"
   ]
  },
  {
   "cell_type": "markdown",
   "id": "094358ec-e39e-4035-b407-01a38833cbe8",
   "metadata": {
    "papermill": {},
    "tags": []
   },
   "source": [
    "### Analyze result"
   ]
  },
  {
   "cell_type": "code",
   "execution_count": null,
   "id": "c09d2045-867f-4233-b312-f5ac5f0ffea9",
   "metadata": {
    "papermill": {},
    "tags": []
   },
   "outputs": [],
   "source": [
    "def analyze_sentiment(df_init):\n",
    "    # Init\n",
    "    df = df_init.copy()\n",
    "    \n",
    "    # Groupby\n",
    "    to_group = [\"SENTIMENT\"]\n",
    "    to_agg = {\n",
    "        \"POST_URL\": \"count\",\n",
    "        \"LIKES\": \"sum\",\n",
    "    }\n",
    "    to_rename = {\n",
    "        \"POST_URL\": \"SENTIMENT_COUNT\",\n",
    "        \"LIKES\": \"COMMENT_LIKES\",\n",
    "    }\n",
    "    df = df.groupby(to_group, as_index=False).agg(to_agg).rename(columns=to_rename)\n",
    "    \n",
    "    # Order result\n",
    "    categories = [\"Praise\", \"Supportive\", \"Neutral\", \"Constructive\", \"Disapproving\"]\n",
    "    df['SENTIMENT'] = pd.Categorical(df['SENTIMENT'], categories=categories, ordered=True)\n",
    "    df = df.sort_values('SENTIMENT')\n",
    "    \n",
    "    # Calculate score by adding comment likes\n",
    "    df[\"SCORE\"] = df[\"SENTIMENT_COUNT\"] + df[\"COMMENT_LIKES\"]\n",
    "    return df.reset_index(drop=True)\n",
    "\n",
    "df_sentiment = analyze_sentiment(df_comments)\n",
    "df_sentiment"
   ]
  },
  {
   "cell_type": "markdown",
   "id": "f629bde9-c9a5-4d20-ae9e-23012c1a7f45",
   "metadata": {
    "papermill": {},
    "tags": []
   },
   "source": [
    "### Create Pie chart by sentiment distribution"
   ]
  },
  {
   "cell_type": "code",
   "execution_count": null,
   "id": "07b8eb71-a33d-4e9c-8b46-0177820f9fa8",
   "metadata": {
    "papermill": {},
    "tags": []
   },
   "outputs": [],
   "source": [
    "def create_pie_chart(df, labels_column, values_column, title):\n",
    "    \"\"\"\n",
    "    Create a pie chart using Plotly.\n",
    "\n",
    "    Parameters:\n",
    "    df (pandas.DataFrame): The DataFrame containing the data.\n",
    "    labels_column (str): The name of the column to use as labels.\n",
    "    values_column (str): The name of the column to use as values.\n",
    "    title (str): The title of the chart.\n",
    "    \"\"\"\n",
    "    # Define color map\n",
    "    color_map = {\n",
    "        'Praise': 'green',\n",
    "        'Supportive': 'lime',\n",
    "        'Neutral': 'gray',\n",
    "        'Constructive': 'orange',\n",
    "        'Disapproving': 'red',\n",
    "    }\n",
    "    # Define the order of the categories\n",
    "    category_order = ['Praise', 'Supportive', 'Neutral', 'Constructive', 'Disapproving']\n",
    "\n",
    "    fig = px.pie(\n",
    "        df,\n",
    "        names=labels_column,\n",
    "        values=values_column,\n",
    "        title=title,\n",
    "        color=labels_column, \n",
    "        color_discrete_map=color_map,\n",
    "        category_orders={labels_column: category_order},\n",
    "        hole=.3\n",
    "    )\n",
    "    fig.update_traces(textinfo='value+percent')\n",
    "    fig.show()\n",
    "    \n",
    "create_pie_chart(df_sentiment, 'SENTIMENT', 'SENTIMENT_COUNT', 'Sentiment Distribution')\n",
    "create_pie_chart(df_sentiment, 'SENTIMENT', 'SCORE', 'True Sentiment Distribution')"
   ]
  },
  {
   "cell_type": "code",
   "execution_count": null,
   "id": "ff02709e-eeac-4730-9bb9-d04c7d4f3af3",
   "metadata": {
    "papermill": {},
    "tags": []
   },
   "outputs": [],
   "source": []
  }
 ],
 "metadata": {
  "kernelspec": {
   "display_name": "Python 3",
   "language": "python",
   "name": "python3"
  },
  "language_info": {
   "codemirror_mode": {
    "name": "ipython",
    "version": 3
   },
   "file_extension": ".py",
   "mimetype": "text/x-python",
   "name": "python",
   "nbconvert_exporter": "python",
   "pygments_lexer": "ipython3",
   "version": "3.9.6"
  },
  "naas": {
   "notebook_id": "14515451ee7c352417fc76bfd5acc3163dd04872ac20feb2a0a18fe0bda7db51",
   "notebook_path": "LinkedIn/LinkedIn_Get_sentiment_analysis_from_post_comments.ipynb"
  },
  "papermill": {
   "default_parameters": {},
   "environment_variables": {},
   "parameters": {},
   "version": "2.4.0"
  },
  "widgets": {
   "application/vnd.jupyter.widget-state+json": {
    "state": {},
    "version_major": 2,
    "version_minor": 0
   }
  }
 },
 "nbformat": 4,
 "nbformat_minor": 5
}