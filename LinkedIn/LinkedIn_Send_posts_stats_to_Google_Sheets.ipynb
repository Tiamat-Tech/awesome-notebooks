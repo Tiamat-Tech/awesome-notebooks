{
 "cells": [
  {
   "cell_type": "markdown",
   "id": "recreational-precipitation",
   "metadata": {
    "execution": {
     "iopub.execute_input": "2021-01-25T08:00:35.294800Z",
     "iopub.status.busy": "2021-01-25T08:00:35.294557Z",
     "iopub.status.idle": "2021-01-25T08:00:35.307281Z",
     "shell.execute_reply": "2021-01-25T08:00:35.306468Z",
     "shell.execute_reply.started": "2021-01-25T08:00:35.294775Z"
    },
    "papermill": {},
    "tags": []
   },
   "source": [
    "<img width=\"8%\" alt=\"LinkedIn.png\" src=\"https://raw.githubusercontent.com/jupyter-naas/awesome-notebooks/master/.github/assets/logos/LinkedIn.png\" style=\"border-radius: 15%\">"
   ]
  },
  {
   "cell_type": "markdown",
   "id": "anticipated-teach",
   "metadata": {
    "papermill": {},
    "tags": []
   },
   "source": [
    "# LinkedIn - Send posts stats to a Google Sheets spreadsheet\n",
    "<a href=\"https://bit.ly/3JyWIk6\">Give Feedback</a> | <a href=\"https://github.com/jupyter-naas/awesome-notebooks/issues/new?assignees=&labels=bug&template=bug_report.md&title=LinkedIn+-+Send+posts+stats+to+a+Google+Sheets+spreadsheet:+Error+short+description\">Bug report</a>"
   ]
  },
  {
   "cell_type": "markdown",
   "id": "6f9a2cbe-a573-488b-88aa-c505a38b3ef5",
   "metadata": {
    "papermill": {},
    "tags": []
   },
   "source": [
    "**Tags:** #linkedin #profile #post #stats #naas_drivers #automation #content #googlesheets"
   ]
  },
  {
   "cell_type": "markdown",
   "id": "412447a1-7aba-4cdf-afec-b5a94515b619",
   "metadata": {
    "papermill": {},
    "tags": []
   },
   "source": [
    "**Author:** [Florent Ravenel](https://www.linkedin.com/in/florent-ravenel/)"
   ]
  },
  {
   "cell_type": "markdown",
   "id": "bfa3fe54-f7b1-46c4-b991-2706e44d0825",
   "metadata": {
    "papermill": {},
    "tags": []
   },
   "source": [
    "**Last update:** 2023-11-30 (Created: 2022-03-17)"
   ]
  },
  {
   "cell_type": "markdown",
   "id": "naas-description",
   "metadata": {
    "papermill": {},
    "tags": [
     "description"
    ]
   },
   "source": [
    "**Description:** This notebook automates the process of sending LinkedIn posts to a Google Sheet for easy tracking and analysis."
   ]
  },
  {
   "cell_type": "markdown",
   "id": "59815de1-c85c-40fc-968d-94989692ee90",
   "metadata": {
    "papermill": {},
    "tags": []
   },
   "source": [
    "\n",
    "<div class=\"alert alert-info\" role=\"info\" style=\"margin: 10px\">\n",
    "<b>Disclaimer:</b><br>\n",
    "This code is in no way affiliated with, authorized, maintained, sponsored or endorsed by Linkedin or any of its affiliates or subsidiaries. It uses an independent and unofficial API. Use at your own risk.\n",
    "\n",
    "This project violates Linkedin's User Agreement Section 8.2, and because of this, Linkedin may (and will) temporarily or permanently ban your account. We are not responsible for your account being banned.\n",
    "<br>\n",
    "</div>"
   ]
  },
  {
   "cell_type": "markdown",
   "id": "attractive-bandwidth",
   "metadata": {
    "papermill": {},
    "tags": []
   },
   "source": [
    "## Input"
   ]
  },
  {
   "cell_type": "markdown",
   "id": "import_cell",
   "metadata": {
    "papermill": {},
    "tags": []
   },
   "source": [
    "### Import libraries"
   ]
  },
  {
   "cell_type": "code",
   "execution_count": null,
   "id": "dangerous-christianity",
   "metadata": {
    "papermill": {},
    "tags": []
   },
   "outputs": [],
   "source": [
    "from naas_drivers import linkedin, gsheet\n",
    "import naas\n",
    "import pandas as pd"
   ]
  },
  {
   "cell_type": "markdown",
   "id": "f2f585a4-3bdd-45f8-a603-95de9f748719",
   "metadata": {
    "papermill": {},
    "tags": []
   },
   "source": [
    "### Setup variables\n",
    "**Pre-requisite**\n",
    "\n",
    "- [Get your cookies on LinkedIn](https://www.notion.so/LinkedIn-driver-Get-your-cookies-d20a8e7e508e42af8a5b52e33f3dba75)\n",
    "- Share your Google Sheets spreadsheet with our service account : 🔗 naas-share@naas-gsheets.iam.gserviceaccount.com\n",
    "\n",
    "**Mandatory**\n",
    "- `li_at`: Cookie used to authenticate Members and API clients\n",
    "- `JSESSIONID`: Cookie used for Cross Site Request Forgery (CSRF) protection and URL signature validation\n",
    "- `linkedin_url`: This variable represents the LinkedIn profile URL.\n",
    "- `spreadsheet_url`: Google Sheets spreadsheet URL\n",
    "- `sheet_name`: Google Sheets sheet name\n",
    "\n",
    "**Optional**\n",
    "- `cron`: This variable represents the CRON syntax used to run the scheduler. More information here: https://crontab.guru/#0_12,18_*_*_1-5\n",
    "- `limit`: number of posts to be retrieved."
   ]
  },
  {
   "cell_type": "code",
   "execution_count": null,
   "id": "7ad91b7b-ca80-473c-87cc-55343b751aa0",
   "metadata": {
    "papermill": {},
    "tags": []
   },
   "outputs": [],
   "source": [
    "# Mandatory\n",
    "li_at = naas.secret.get(\"LINKEDIN_LI_AT\") or \"YOUR_COOKIE_LI_AT\"\n",
    "JSESSIONID = naas.secret.get(\"LINKEDIN_JSESSIONID\") or \"YOUR_COOKIE_JSESSIONID\"\n",
    "linkedin_url = \"https://www.linkedin.com/in/xxxxx/\"  # EXAMPLE \"https://www.linkedin.com/in/XXXXXX/\"\n",
    "spreadsheet_url = \"https://docs.google.com/spreadsheets/d/XXXXXXXXXXXXXXXXXXXX\"\n",
    "sheet_name = \"LK_POSTS_FEED\"\n",
    "\n",
    "# Optional\n",
    "cron = \"0 12,18 * * 1-5\" #At minute 0 past hour 12 and 18 on every day-of-week from Monday through Friday.\n",
    "limit = 10"
   ]
  },
  {
   "cell_type": "markdown",
   "id": "polished-prior",
   "metadata": {
    "papermill": {},
    "tags": []
   },
   "source": [
    "## Model"
   ]
  },
  {
   "cell_type": "markdown",
   "id": "8a6e952a-e72b-42c1-9c5a-6eb65d309453",
   "metadata": {
    "papermill": {},
    "tags": []
   },
   "source": [
    "### Get data from Google Sheet"
   ]
  },
  {
   "cell_type": "code",
   "execution_count": null,
   "id": "de936b53-52bb-4589-96f0-fc0157ac5e0b",
   "metadata": {
    "papermill": {},
    "tags": []
   },
   "outputs": [],
   "source": [
    "df_gsheet = gsheet.connect(spreadsheet_url).get(sheet_name=sheet_name)\n",
    "df_gsheet"
   ]
  },
  {
   "cell_type": "markdown",
   "id": "7298f063-3ea6-464b-a3ef-ee158e584f5b",
   "metadata": {
    "execution": {
     "iopub.execute_input": "2022-01-24T11:24:35.716122Z",
     "iopub.status.busy": "2022-01-24T11:24:35.715845Z",
     "iopub.status.idle": "2022-01-24T11:24:35.719349Z",
     "shell.execute_reply": "2022-01-24T11:24:35.718736Z",
     "shell.execute_reply.started": "2022-01-24T11:24:35.716056Z"
    },
    "papermill": {},
    "tags": []
   },
   "source": [
    "### Get new posts and update last posts stats"
   ]
  },
  {
   "cell_type": "code",
   "execution_count": null,
   "id": "miniature-manitoba",
   "metadata": {
    "papermill": {},
    "tags": []
   },
   "outputs": [],
   "source": [
    "def get_new_posts(\n",
    "    df_gsheet,\n",
    "    li_at,\n",
    "    JSESSIONID,\n",
    "    linkedin_url,\n",
    "    key=\"POST_URL\",\n",
    "    limit=10,\n",
    "    sleep=False\n",
    "):\n",
    "    # Get updated posts\n",
    "    df = linkedin.connect(li_at, JSESSIONID).profile.get_posts_feed(\n",
    "        linkedin_url,\n",
    "        limit=limit,\n",
    "        sleep=sleep\n",
    "    )\n",
    "    df = pd.concat([df, df_gsheet]).drop_duplicates(key, keep=\"first\")\n",
    "    return df\n",
    "\n",
    "df_new = get_new_posts(\n",
    "    df_gsheet,\n",
    "    li_at,\n",
    "    JSESSIONID,\n",
    "    linkedin_url,\n",
    "    limit=limit\n",
    ")\n",
    "print(\"Posts:\", len(df_new))\n",
    "df_new"
   ]
  },
  {
   "cell_type": "markdown",
   "id": "comic-sucking",
   "metadata": {
    "papermill": {},
    "tags": []
   },
   "source": [
    "## Output"
   ]
  },
  {
   "cell_type": "markdown",
   "id": "killing-trust",
   "metadata": {
    "papermill": {},
    "tags": []
   },
   "source": [
    "### Send to Google Sheet"
   ]
  },
  {
   "cell_type": "code",
   "execution_count": null,
   "id": "urban-agency",
   "metadata": {
    "papermill": {},
    "tags": []
   },
   "outputs": [],
   "source": [
    "gsheet.connect(spreadsheet_url).send(df_new, sheet_name=sheet_name, append=False)"
   ]
  },
  {
   "cell_type": "markdown",
   "id": "f51a6905-b141-4335-b5e8-d4d98758cba6",
   "metadata": {
    "papermill": {},
    "tags": []
   },
   "source": [
    "### Add scheduler"
   ]
  },
  {
   "cell_type": "code",
   "execution_count": null,
   "id": "536b4e95-8a9a-428b-aa99-2c3452e48850",
   "metadata": {
    "papermill": {},
    "tags": []
   },
   "outputs": [],
   "source": [
    "naas.scheduler.add(cron=\"0 8 * * *\")\n",
    "\n",
    "# -> To delete your scheduler, please uncomment the line below and execute this cell\n",
    "# naas.scheduler.delete()"
   ]
  }
 ],
 "metadata": {
  "kernelspec": {
   "display_name": "Python 3",
   "language": "python",
   "name": "python3"
  },
  "language_info": {
   "codemirror_mode": {
    "name": "ipython",
    "version": 3
   },
   "file_extension": ".py",
   "mimetype": "text/x-python",
   "name": "python",
   "nbconvert_exporter": "python",
   "pygments_lexer": "ipython3",
   "version": "3.9.6"
  },
  "naas": {
   "notebook_id": "0874f6dc0036545d3845b0f44075e13398cdb518193fcff08650a9d23cc98545",
   "notebook_path": "LinkedIn/LinkedIn_Send_posts_stats_to_Google_Sheets.ipynb"
  },
  "papermill": {
   "default_parameters": {},
   "environment_variables": {},
   "parameters": {},
   "version": "2.3.3"
  },
  "widgets": {
   "application/vnd.jupyter.widget-state+json": {
    "state": {},
    "version_major": 2,
    "version_minor": 0
   }
  }
 },
 "nbformat": 4,
 "nbformat_minor": 5
}