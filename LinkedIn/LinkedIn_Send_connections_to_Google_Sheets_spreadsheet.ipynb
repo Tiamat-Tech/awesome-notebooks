{
 "cells": [
  {
   "cell_type": "markdown",
   "id": "fresh-danish",
   "metadata": {
    "execution": {
     "iopub.execute_input": "2021-01-25T08:00:35.294800Z",
     "iopub.status.busy": "2021-01-25T08:00:35.294557Z",
     "iopub.status.idle": "2021-01-25T08:00:35.307281Z",
     "shell.execute_reply": "2021-01-25T08:00:35.306468Z",
     "shell.execute_reply.started": "2021-01-25T08:00:35.294775Z"
    },
    "papermill": {},
    "tags": []
   },
   "source": [
    "<img width=\"8%\" alt=\"LinkedIn.png\" src=\"https://raw.githubusercontent.com/jupyter-naas/awesome-notebooks/master/.github/assets/logos/LinkedIn.png\" style=\"border-radius: 15%\">"
   ]
  },
  {
   "cell_type": "markdown",
   "id": "federal-pixel",
   "metadata": {
    "papermill": {},
    "tags": []
   },
   "source": [
    "# LinkedIn - Send connections to a Google Sheets spreadsheet\n",
    "<a href=\"https://bit.ly/3JyWIk6\">Give Feedback</a> | <a href=\"https://github.com/jupyter-naas/awesome-notebooks/issues/new?assignees=&labels=bug&template=bug_report.md&title=LinkedIn+-+Send+connections+to+a+Google+Sheets+spreadsheet:+Error+short+description\">Bug report</a>"
   ]
  },
  {
   "cell_type": "markdown",
   "id": "be29252a-5f47-44cc-a178-c734ab5f042b",
   "metadata": {
    "papermill": {},
    "tags": []
   },
   "source": [
    "**Tags:** #linkedin #network #connections #naas_drivers #csv #automation #content #googlesheets"
   ]
  },
  {
   "cell_type": "markdown",
   "id": "ce9b6fcd-b307-40ba-b872-668562f81947",
   "metadata": {
    "papermill": {},
    "tags": []
   },
   "source": [
    "**Author:** [Florent Ravenel](https://www.linkedin.com/in/florent-ravenel/)"
   ]
  },
  {
   "cell_type": "markdown",
   "id": "02c00e37-24dd-4518-99f5-ad11a694e159",
   "metadata": {
    "papermill": {},
    "tags": []
   },
   "source": [
    "**Last update:** 2023-10-16 (Created: 2023-10-16)"
   ]
  },
  {
   "cell_type": "markdown",
   "id": "naas-description",
   "metadata": {
    "papermill": {},
    "tags": [
     "description"
    ]
   },
   "source": [
    "**Description:** This notebook will show how to send LinkedIn connections to a Google Sheets spreadsheet. It is usefull for organizations to keep track of their contacts and build relationships."
   ]
  },
  {
   "cell_type": "markdown",
   "id": "26876dd3-0abc-4e15-8d7b-2c9d42f9a615",
   "metadata": {
    "papermill": {},
    "tags": []
   },
   "source": [
    "\n",
    "<div class=\"alert alert-info\" role=\"info\" style=\"margin: 10px\">\n",
    "<b>Disclaimer:</b><br>\n",
    "This code is in no way affiliated with, authorized, maintained, sponsored or endorsed by Linkedin or any of its affiliates or subsidiaries. It uses an independent and unofficial API. Use at your own risk.\n",
    "\n",
    "This project violates Linkedin's User Agreement Section 8.2, and because of this, Linkedin may (and will) temporarily or permanently ban your account. We are not responsible for your account being banned.\n",
    "<br>\n",
    "</div>"
   ]
  },
  {
   "cell_type": "markdown",
   "id": "normal-rochester",
   "metadata": {
    "papermill": {},
    "tags": []
   },
   "source": [
    "## Input"
   ]
  },
  {
   "cell_type": "markdown",
   "id": "import_cell",
   "metadata": {
    "papermill": {},
    "tags": []
   },
   "source": [
    "### Import libraries"
   ]
  },
  {
   "cell_type": "code",
   "execution_count": null,
   "id": "recreational-season",
   "metadata": {
    "papermill": {},
    "tags": []
   },
   "outputs": [],
   "source": [
    "from naas_drivers import linkedin, gsheet\n",
    "import naas\n",
    "import pandas as pd"
   ]
  },
  {
   "cell_type": "markdown",
   "id": "28d46265-4963-4fd0-b631-2c4e9c096f24",
   "metadata": {
    "papermill": {},
    "tags": []
   },
   "source": [
    "### Setup variables\n",
    "**Mandatory**\n",
    "\n",
    "[Learn how to get your cookies on LinkedIn](https://www.notion.so/LinkedIn-driver-Get-your-cookies-d20a8e7e508e42af8a5b52e33f3dba75)\n",
    "- `li_at`: Cookie used to authenticate Members and API clients\n",
    "- `JSESSIONID`: Cookie used for Cross Site Request Forgery (CSRF) protection and URL signature validation\n",
    "- `spreadsheet_url`: Google Sheet Spreadsheet URL. Please make sure you shared it with our service account to connect : naas-share@naas-gsheets.iam.gserviceaccount.com\n",
    "- `sheet_name`: Sheet name. Please create it before sending data into it\n",
    "\n",
    "**Optional**\n",
    "\n",
    "- `limit`: This refers to the quantity of connections you wish to retrieve. If you intend to fetch all connections, use -1. Please note that retrieving all connections might be time-consuming.\n"
   ]
  },
  {
   "cell_type": "code",
   "execution_count": null,
   "id": "9719c9a8-fe22-4241-a5b0-3ae1b44f572e",
   "metadata": {
    "papermill": {},
    "tags": []
   },
   "outputs": [],
   "source": [
    "# Mandatory\n",
    "li_at = naas.secret.get(\"LINKEDIN_LI_AT\") or \"YOUR_LINKEDIN_LI_AT\" #example: AQFAzQN_PLPR4wAAAXc-FCKmgiMit5FLdY1af3-2\n",
    "JSESSIONID = naas.secret.get(\"LINKEDIN_JSESSIONID\") or \"YOUR_LINKEDIN_JSESSIONID\" #example: ajax:8379907400220387585\n",
    "spreadsheet_url = \"https://docs.google.com/spreadsheets/d/1wMEQdG57eKhpSIYdtK9XVmTMbYD6ovIAy2V9XQanom8/edit#gid=579782200\"\n",
    "sheet_name = \"New Sheet\"\n",
    "\n",
    "# Optional\n",
    "limit = 100"
   ]
  },
  {
   "cell_type": "markdown",
   "id": "pediatric-emerald",
   "metadata": {
    "papermill": {},
    "tags": []
   },
   "source": [
    "## Model"
   ]
  },
  {
   "cell_type": "markdown",
   "id": "e57aaf6f-1f33-44c4-83d9-1c5fcee2cdaf",
   "metadata": {
    "papermill": {},
    "tags": []
   },
   "source": [
    "### Get data from Google Sheet spreadsheet"
   ]
  },
  {
   "cell_type": "code",
   "execution_count": null,
   "id": "c2cda8c8-c740-49df-b7ab-dd15f96a9021",
   "metadata": {
    "papermill": {},
    "tags": []
   },
   "outputs": [],
   "source": [
    "df_gsheet = gsheet.connect(spreadsheet_url).get(sheet_name=sheet_name)\n",
    "df_gsheet"
   ]
  },
  {
   "cell_type": "markdown",
   "id": "c610dc29-c831-4219-abb7-7d9de2737749",
   "metadata": {
    "papermill": {},
    "tags": []
   },
   "source": [
    "### Get new connections"
   ]
  },
  {
   "cell_type": "code",
   "execution_count": null,
   "id": "a781400f-412b-428e-b9c8-c869f8f6a3a2",
   "metadata": {
    "papermill": {},
    "tags": []
   },
   "outputs": [],
   "source": [
    "def get_new_connections(\n",
    "    li_at,\n",
    "    JSESSIONID,\n",
    "    limit,\n",
    "    df_gsheet,\n",
    "    key=\"PROFILE_ID\"\n",
    "):\n",
    "    profiles = []\n",
    "    if len(df_gsheet) > 0:\n",
    "        profiles = df_gsheet[key].unique()\n",
    "    else:\n",
    "        df = linkedin.connect(li_at, JSESSIONID).network.get_connections(limit=limit)\n",
    "        return df\n",
    "\n",
    "    # Get new\n",
    "    df_new = pd.DataFrame()\n",
    "    update = True\n",
    "    while update:\n",
    "        start = 0\n",
    "        df = linkedin.connect(li_at, JSESSIONID).network.get_connections(\n",
    "            start=start, count=100, limit=limit\n",
    "        )\n",
    "        new_profiles = df[key].unique()\n",
    "        for i, p in enumerate(new_profiles):\n",
    "            if p in profiles:\n",
    "                update = False\n",
    "                df = df[:i]\n",
    "                break\n",
    "        start += 100\n",
    "        df_new = pd.concat([df_new, df])\n",
    "    return df_new\n",
    "\n",
    "df_new = get_new_connections(\n",
    "    li_at,\n",
    "    JSESSIONID,\n",
    "    limit,\n",
    "    df_gsheet,\n",
    ")\n",
    "print(\"New connections:\", len(df_new))\n",
    "df_new.head(1)"
   ]
  },
  {
   "cell_type": "markdown",
   "id": "piano-stylus",
   "metadata": {
    "papermill": {},
    "tags": []
   },
   "source": [
    "## Output"
   ]
  },
  {
   "cell_type": "markdown",
   "id": "0bbe4f5f-0962-4f32-b2b9-ddd9f2183093",
   "metadata": {
    "papermill": {},
    "tags": []
   },
   "source": [
    "### Send to Google Sheet"
   ]
  },
  {
   "cell_type": "code",
   "execution_count": null,
   "id": "a995ab0f-eb82-4dc2-8741-c397255702b3",
   "metadata": {
    "papermill": {},
    "tags": []
   },
   "outputs": [],
   "source": [
    "gsheet.connect(spreadsheet_url).send(df_new, sheet_name=sheet_name, append=True)"
   ]
  },
  {
   "cell_type": "code",
   "execution_count": null,
   "id": "8ca4243a-152b-40c5-b6ea-3bb3f268c1c9",
   "metadata": {
    "papermill": {},
    "tags": []
   },
   "outputs": [],
   "source": []
  }
 ],
 "metadata": {
  "kernelspec": {
   "display_name": "Python 3",
   "language": "python",
   "name": "python3"
  },
  "language_info": {
   "codemirror_mode": {
    "name": "ipython",
    "version": 3
   },
   "file_extension": ".py",
   "mimetype": "text/x-python",
   "name": "python",
   "nbconvert_exporter": "python",
   "pygments_lexer": "ipython3",
   "version": "3.9.6"
  },
  "naas": {
   "notebook_id": "f2a2fb0823c86a27fa0d4b71e59e33c8b2c0d2709c1d063d356dd24ef0214517",
   "notebook_path": "LinkedIn/LinkedIn_Send_connections_to_Google_Sheets_spreadsheet.ipynb"
  },
  "papermill": {
   "default_parameters": {},
   "environment_variables": {},
   "parameters": {},
   "version": "2.3.3"
  },
  "widgets": {
   "application/vnd.jupyter.widget-state+json": {
    "state": {},
    "version_major": 2,
    "version_minor": 0
   }
  }
 },
 "nbformat": 4,
 "nbformat_minor": 5
}