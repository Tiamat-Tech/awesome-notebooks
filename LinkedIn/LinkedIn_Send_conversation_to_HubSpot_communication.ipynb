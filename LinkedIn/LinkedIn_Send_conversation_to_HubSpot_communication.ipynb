{
 "cells": [
  {
   "cell_type": "markdown",
   "id": "corresponding-inspection",
   "metadata": {
    "execution": {
     "iopub.execute_input": "2021-01-25T08:00:35.294800Z",
     "iopub.status.busy": "2021-01-25T08:00:35.294557Z",
     "iopub.status.idle": "2021-01-25T08:00:35.307281Z",
     "shell.execute_reply": "2021-01-25T08:00:35.306468Z",
     "shell.execute_reply.started": "2021-01-25T08:00:35.294775Z"
    },
    "papermill": {},
    "tags": []
   },
   "source": [
    "<img width=\"8%\" alt=\"LinkedIn.png\" src=\"https://raw.githubusercontent.com/jupyter-naas/awesome-notebooks/master/.github/assets/logos/LinkedIn.png\" style=\"border-radius: 15%\">"
   ]
  },
  {
   "cell_type": "markdown",
   "id": "smooth-empire",
   "metadata": {
    "papermill": {},
    "tags": []
   },
   "source": [
    "# LinkedIn - Send conversation to HubSpot communication\n",
    "<a href=\"https://bit.ly/3JyWIk6\">Give Feedback</a> | <a href=\"https://github.com/jupyter-naas/awesome-notebooks/issues/new?assignees=&labels=bug&template=bug_report.md&title=LinkedIn+-+Send+conversation+to+HubSpot+communication:+Error+short+description\">Bug report</a>"
   ]
  },
  {
   "cell_type": "markdown",
   "id": "b9ae9ea3-f575-4ffc-b3c9-285569effca5",
   "metadata": {
    "papermill": {},
    "tags": []
   },
   "source": [
    "**Tags:** #linkedin #message #naas_drivers #content #snippet #dataframe"
   ]
  },
  {
   "cell_type": "markdown",
   "id": "1a958a79-fd53-4f43-8bdf-8ba026979057",
   "metadata": {
    "papermill": {},
    "tags": []
   },
   "source": [
    "**Author:** [Florent Ravenel](https://www.linkedin.com/in/florent-ravenel/)"
   ]
  },
  {
   "cell_type": "markdown",
   "id": "00dd374c-bbc5-43e5-b6cb-238de1764b55",
   "metadata": {
    "papermill": {},
    "tags": []
   },
   "source": [
    "**Last update:** 2023-08-31 (Created: 2023-08-31)"
   ]
  },
  {
   "cell_type": "markdown",
   "id": "naas-description",
   "metadata": {
    "papermill": {},
    "tags": [
     "description"
    ]
   },
   "source": [
    "**Description:** This notebook send a LinkedIn conversation with all messages to a contact HubSpot communication."
   ]
  },
  {
   "cell_type": "markdown",
   "id": "20b22065-5ac0-41f1-a21b-248758fd3cb7",
   "metadata": {
    "papermill": {},
    "tags": []
   },
   "source": [
    "\n",
    "<div class=\"alert alert-info\" role=\"info\" style=\"margin: 10px\">\n",
    "<b>Disclaimer:</b><br>\n",
    "This code is in no way affiliated with, authorized, maintained, sponsored or endorsed by Linkedin or any of its affiliates or subsidiaries. It uses an independent and unofficial API. Use at your own risk.\n",
    "\n",
    "This project violates Linkedin's User Agreement Section 8.2, and because of this, Linkedin may (and will) temporarily or permanently ban your account. We are not responsible for your account being banned.\n",
    "<br>\n",
    "</div>"
   ]
  },
  {
   "cell_type": "markdown",
   "id": "moderate-honey",
   "metadata": {
    "papermill": {},
    "tags": []
   },
   "source": [
    "## Input"
   ]
  },
  {
   "cell_type": "markdown",
   "id": "import_cell",
   "metadata": {
    "papermill": {},
    "tags": []
   },
   "source": [
    "### Import libraries"
   ]
  },
  {
   "cell_type": "code",
   "execution_count": null,
   "id": "changed-romance",
   "metadata": {
    "papermill": {},
    "tags": []
   },
   "outputs": [],
   "source": [
    "from naas_drivers import linkedin\n",
    "import naas\n",
    "from datetime import datetime, timezone\n",
    "import requests\n",
    "import pandas as pd"
   ]
  },
  {
   "cell_type": "markdown",
   "id": "continental-xerox",
   "metadata": {
    "papermill": {},
    "tags": []
   },
   "source": [
    "### Setup variables\n",
    "**Mandatory**\n",
    "\n",
    "[Learn how to get your cookies on LinkedIn](https://www.notion.so/LinkedIn-driver-Get-your-cookies-d20a8e7e508e42af8a5b52e33f3dba75)\n",
    "- `li_at`: Cookie used to authenticate Members and API clients.\n",
    "- `JSESSIONID`: Cookie used for Cross Site Request Forgery (CSRF) protection and URL signature validation.\n",
    "- `conversation_url`: LinkedIn conversation URL\n",
    "\n",
    "[Get your HubSpot Access token](https://knowledge.hubspot.com/articles/kcs_article/integrations/how-do-i-get-my-hubspot-api-key)\n",
    "- `hs_access_token`: This variable stores an access token used for accessing the HubSpot API.\n",
    "- `contact_id`: This variable stores the HubSpot contact ID that will be associated to the communication.\n",
    "\n",
    "**Optional**\n",
    "- `limit`: Number of conversations to be retrieved. Max limit is 600."
   ]
  },
  {
   "cell_type": "code",
   "execution_count": null,
   "id": "diverse-maximum",
   "metadata": {
    "papermill": {},
    "tags": []
   },
   "outputs": [],
   "source": [
    "# Mandatory\n",
    "li_at = naas.secret.get(\"LINKEDIN_LI_AT\") or \"YOUR_LINKEDIN_LI_AT\" #example: AQFAzQN_PLPR4wAAAXc-FCKmgiMit5FLdY1af3-2\n",
    "JSESSIONID = naas.secret.get(\"LINKEDIN_JSESSIONID\") or \"YOUR_LINKEDIN_JSESSIONID\" #example: ajax:8379907400220387585\n",
    "conversation_url = \"https://www.linkedin.com/messaging/thread/2-YzRhNGMxMjAtNGFiMy01ZmFiLWI3YTYtMWNkNmQ0YzJhMGU3XzAwMA==/\"\n",
    "hs_access_token = naas.secret.get(\"HS_ACCESS_TOKEN\") or \"YOUR_HS_ACCESS_TOKEN\"\n",
    "contact_id = \"308551\"\n",
    "\n",
    "# Optional\n",
    "limit = 40"
   ]
  },
  {
   "cell_type": "markdown",
   "id": "inappropriate-theory",
   "metadata": {
    "execution": {
     "iopub.execute_input": "2021-05-15T10:12:55.887028Z",
     "iopub.status.busy": "2021-05-15T10:12:55.886761Z",
     "iopub.status.idle": "2021-05-15T10:12:55.899441Z",
     "shell.execute_reply": "2021-05-15T10:12:55.898476Z",
     "shell.execute_reply.started": "2021-05-15T10:12:55.886964Z"
    },
    "papermill": {},
    "tags": []
   },
   "source": [
    "## Model"
   ]
  },
  {
   "cell_type": "markdown",
   "id": "devoted-warrant",
   "metadata": {
    "papermill": {},
    "tags": []
   },
   "source": [
    "### Get messages from a LinkedIn conversation"
   ]
  },
  {
   "cell_type": "code",
   "execution_count": null,
   "id": "cf14e2ee-fde8-48e8-816e-b2598cee4f30",
   "metadata": {
    "papermill": {},
    "tags": []
   },
   "outputs": [],
   "source": [
    "df = linkedin.connect(li_at, JSESSIONID).message.get_messages(conversation_url=conversation_url, limit=limit)\n",
    "print(\"Row fetched:\", len(df))\n",
    "df.head(1)"
   ]
  },
  {
   "cell_type": "markdown",
   "id": "40771406-fd49-46ac-8022-8fb83c8d25ce",
   "metadata": {
    "papermill": {},
    "tags": []
   },
   "source": [
    "### Get existings communications associated to contact ID"
   ]
  },
  {
   "cell_type": "code",
   "execution_count": null,
   "id": "04d0d8af-1b2f-440a-99f1-807753d07cf7",
   "metadata": {
    "papermill": {},
    "tags": []
   },
   "outputs": [],
   "source": [
    "def delete_communication(\n",
    "    token,\n",
    "    object_id,\n",
    "\n",
    "):\n",
    "    # Requests\n",
    "    headers = {\n",
    "        \"Content-Type\": \"application/json\",\n",
    "        \"Authorization\": f\"Bearer {token}\"\n",
    "    }\n",
    "    url = f\"https://api.hubapi.com/crm/v3/objects/Communications/{object_id}\"\n",
    "\n",
    "    # Response\n",
    "    res = requests.delete(url, headers=headers)\n",
    "    if res.status_code == 204:\n",
    "        print(f\"Communication '{object_id}' successfully deleted!\")\n",
    "    else:\n",
    "        print(res.text)\n",
    "    return res\n",
    "\n",
    "def get_association_from_contact(\n",
    "    token,\n",
    "    contact_id,\n",
    "    endpoint,\n",
    "):\n",
    "    # Init\n",
    "    results = []\n",
    "    \n",
    "    # Requests\n",
    "    headers = {\n",
    "        \"Content-Type\": \"application/json\",\n",
    "        \"Authorization\": f\"Bearer {token}\"\n",
    "    }\n",
    "    url = f\"https://api.hubapi.com/crm/v4/objects/contacts/{contact_id}/associations/{endpoint}\"\n",
    "    \n",
    "    # Response\n",
    "    res = requests.get(url, headers=headers)\n",
    "    if res.status_code == 200:\n",
    "        results = res.json().get(\"results\")\n",
    "    return results\n",
    "\n",
    "def retrieve_object_details(\n",
    "    token,\n",
    "    object_id,\n",
    "    object_type,\n",
    "    properties=None,\n",
    "):\n",
    "    # Init\n",
    "    data = []\n",
    "    params = {\n",
    "        \"archived\": \"false\"\n",
    "    }\n",
    "    \n",
    "    # Requests\n",
    "    if properties:\n",
    "        params[\"properties\"] = properties\n",
    "    headers = {\n",
    "        \"Content-Type\": \"application/json\",\n",
    "        \"Authorization\": f\"Bearer {token}\"\n",
    "    }\n",
    "    url = f\"https://api.hubapi.com/crm/v3/objects/{object_type}/{object_id}\"\n",
    "    \n",
    "    # Response\n",
    "    res = requests.get(url, headers=headers, params=params)\n",
    "    if res.status_code == 200:\n",
    "        data = res.json().get(\"properties\")\n",
    "    else:\n",
    "        print(res.text)\n",
    "    return pd.DataFrame([data])\n",
    "\n",
    "def create_activity_df(\n",
    "    token,\n",
    "    contact_id,\n",
    "    activity,\n",
    "    properties_dict=None,\n",
    "):\n",
    "    # Init\n",
    "    df = pd.DataFrame()\n",
    "    if not properties_dict:\n",
    "        properties_dict = {\n",
    "            \"hs_object_id\": \"activity_hs_id\",\n",
    "            \"hs_lastmodifieddate\": \"activity_date\",\n",
    "            \"hs_body_preview\": \"activity_content\"\n",
    "        }\n",
    "    properties = [x for x in properties_dict]\n",
    "    \n",
    "    # List activities\n",
    "    data = get_association_from_contact(\n",
    "        token,\n",
    "        contact_id,\n",
    "        activity\n",
    "    )\n",
    "    for d in data:\n",
    "        object_id = d.get(\"toObjectId\")\n",
    "#         res = delete_communication(hs_access_token, object_id)\n",
    "        tmp_df = retrieve_object_details(\n",
    "            token,\n",
    "            object_id,\n",
    "            activity,\n",
    "            properties\n",
    "        )\n",
    "        if len(tmp_df) > 0:\n",
    "            tmp_df = tmp_df[properties]\n",
    "        df = pd.concat([df, tmp_df])\n",
    "    if len(df) > 0:\n",
    "        df = df.rename(columns=properties_dict)\n",
    "        if 'activity_type' not in df:\n",
    "            df.insert(loc=1, column=\"activity_type\", value=activity.upper())\n",
    "    return df.reset_index(drop=True)\n",
    "\n",
    "properties_dict = {\n",
    "    \"hs_object_id\": \"activity_hs_id\",\n",
    "    \"hs_unique_id\": \"message_id\",\n",
    "    \"hs_timestamp\": \"activity_date\",\n",
    "    \"hs_communication_channel_type\": \"activity_type\",\n",
    "    \"hs_body_preview\": \"activity_content\"\n",
    "}\n",
    "\n",
    "df_communications = create_activity_df(\n",
    "    hs_access_token,\n",
    "    contact_id,\n",
    "    \"communications\",\n",
    "    properties_dict\n",
    ")\n",
    "print(\"Communications:\", len(df_communications))\n",
    "df_communications"
   ]
  },
  {
   "cell_type": "markdown",
   "id": "approved-greek",
   "metadata": {
    "papermill": {},
    "tags": []
   },
   "source": [
    "## Output"
   ]
  },
  {
   "cell_type": "markdown",
   "id": "e694fab2-23ee-4006-877c-b89527c9ce26",
   "metadata": {
    "papermill": {},
    "tags": []
   },
   "source": [
    "### Create communication"
   ]
  },
  {
   "cell_type": "code",
   "execution_count": null,
   "id": "9db7f9a6-6400-4ab9-9c43-9d0503c1ba5f",
   "metadata": {
    "papermill": {},
    "tags": []
   },
   "outputs": [],
   "source": [
    "def create_communication(\n",
    "    api_key,\n",
    "    communication_body,\n",
    "    contact_id,\n",
    "    communication_datetime,\n",
    "    message_id,\n",
    "    channel_type=None,\n",
    "):\n",
    "    # Init\n",
    "    data = []\n",
    "    \n",
    "    # Get the current timestamp in UTC\n",
    "    if not communication_datetime:\n",
    "        communication_datetime = datetime.utcnow()\n",
    "        \n",
    "    hs_timestamp = communication_datetime.replace(tzinfo=timezone.utc).strftime(\"%s\") + \"000\"\n",
    "    \n",
    "    # Requests\n",
    "    url = \"https://api.hubapi.com/crm/v3/objects/Communications\"\n",
    "    payload = {\n",
    "        \"properties\":\n",
    "        {\n",
    "            \"hs_communication_channel_type\": channel_type,\n",
    "            \"hs_communication_logged_from\": \"CRM\",\n",
    "            \"hs_communication_body\": communication_body,\n",
    "            \"hs_timestamp\": hs_timestamp,\n",
    "            \"hs_unique_id\": message_id\n",
    "        },\n",
    "        \"associations\": [\n",
    "            {\n",
    "                \"to\": {\"id\": contact_id},\n",
    "                \"types\": [\n",
    "                    {\n",
    "                        \"associationCategory\": \"HUBSPOT_DEFINED\",\n",
    "                        \"associationTypeId\": 81 #contact\n",
    "                    }\n",
    "                ]\n",
    "            }\n",
    "        ]\n",
    "    }\n",
    "\n",
    "    headers = {\n",
    "        'accept': \"application/json\",\n",
    "        'content-type': \"application/json\",\n",
    "        'authorization': f\"Bearer {api_key}\"\n",
    "    }\n",
    "\n",
    "    # Response\n",
    "    res = requests.post(url, headers=headers, json=payload)\n",
    "    if res.status_code == 201:\n",
    "        data = res.json()\n",
    "    else:\n",
    "        print(res.text)\n",
    "    return data\n",
    "\n",
    "message_ids = []\n",
    "if len(df_communications) > 0:\n",
    "    message_ids = df_communications[\"message_id\"].tolist():\n",
    "\n",
    "for row in df.itertuples():\n",
    "    message = row.MESSAGE.replace('\\n', '')\n",
    "    message_id = row.MESSAGE_ID\n",
    "    fullname = row.FULLNAME\n",
    "    message_sent_at = row.MESSAGE_SENT_AT\n",
    "    if message != \"\" and not message_id in message_ids:\n",
    "        communication_body = f\"{fullname}: {message}\"\n",
    "        communication_datetime = datetime.strptime(message_sent_at, \"%Y-%m-%d %H:%M:%S\")\n",
    "        print(f\"{message_sent_at} - {communication_body}\")\n",
    "        data = create_communication(\n",
    "            hs_access_token,\n",
    "            communication_body,\n",
    "            contact_id,\n",
    "            communication_datetime,\n",
    "            message_id,\n",
    "            \"LINKEDIN_MESSAGE\",\n",
    "        )"
   ]
  }
 ],
 "metadata": {
  "kernelspec": {
   "display_name": "Python 3",
   "language": "python",
   "name": "python3"
  },
  "language_info": {
   "codemirror_mode": {
    "name": "ipython",
    "version": 3
   },
   "file_extension": ".py",
   "mimetype": "text/x-python",
   "name": "python",
   "nbconvert_exporter": "python",
   "pygments_lexer": "ipython3",
   "version": "3.9.6"
  },
  "naas": {
   "notebook_id": "87b880ff840a772458fb40959783a6f1c58c8ade4b163685888a411f3096a25e",
   "notebook_path": "LinkedIn/LinkedIn_Send_conversation_to_HubSpot_communication.ipynb"
  },
  "papermill": {
   "default_parameters": {},
   "environment_variables": {},
   "parameters": {},
   "version": "2.3.3"
  },
  "widgets": {
   "application/vnd.jupyter.widget-state+json": {
    "state": {},
    "version_major": 2,
    "version_minor": 0
   }
  }
 },
 "nbformat": 4,
 "nbformat_minor": 5
}