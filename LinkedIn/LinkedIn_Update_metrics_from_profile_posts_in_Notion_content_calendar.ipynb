{
 "cells": [
  {
   "cell_type": "markdown",
   "id": "9123d12a",
   "metadata": {
    "papermill": {},
    "tags": []
   },
   "source": [
    "<img width=\"8%\" alt=\"LinkedIn.png\" src=\"https://raw.githubusercontent.com/jupyter-naas/awesome-notebooks/master/.github/assets/logos/LinkedIn.png\" style=\"border-radius: 15%\">"
   ]
  },
  {
   "cell_type": "markdown",
   "id": "08335725",
   "metadata": {
    "papermill": {},
    "tags": []
   },
   "source": [
    "# LinkedIn - Update metrics from posts in Notion content calendar\n",
    "<a href=\"https://bit.ly/3JyWIk6\">Give Feedback</a> | <a href=\"https://github.com/jupyter-naas/awesome-notebooks/issues/new?assignees=&labels=bug&template=bug_report.md&title=LinkedIn+-+Update+metrics+from+posts+in+Notion+content+calendar:+Error+short+description\">Bug report</a>"
   ]
  },
  {
   "cell_type": "markdown",
   "id": "e717bb38",
   "metadata": {
    "papermill": {},
    "tags": []
   },
   "source": [
    "**Tags:** #linkedin #profile #post #feed #naas_drivers #notion #automation #analytics #naas #scheduler #content #plotly #html #csv #image"
   ]
  },
  {
   "cell_type": "markdown",
   "id": "fece88f2-a877-433e-b864-51730b0a17eb",
   "metadata": {
    "papermill": {},
    "tags": []
   },
   "source": [
    "**Author:** [Florent Ravenel](https://www.linkedin.com/in/florent-ravenel/)"
   ]
  },
  {
   "cell_type": "markdown",
   "id": "02e9842f-27d3-4322-a3d4-643480c22f84",
   "metadata": {
    "papermill": {},
    "tags": []
   },
   "source": [
    "**Last update:** 2023-10-04 (Created: 2022-03-22)"
   ]
  },
  {
   "cell_type": "markdown",
   "id": "naas-description",
   "metadata": {
    "papermill": {},
    "tags": [
     "description"
    ]
   },
   "source": [
    "**Description:** This notebook allows users to track the performance of their LinkedIn posts by automatically updating metrics from their Notion content calendar."
   ]
  },
  {
   "cell_type": "markdown",
   "id": "ab5d3522-0b6c-4c52-910b-919ac47b369f",
   "metadata": {
    "papermill": {},
    "tags": []
   },
   "source": [
    "\n",
    "<div class=\"alert alert-info\" role=\"info\" style=\"margin: 10px\">\n",
    "<b>Disclaimer:</b><br>\n",
    "This code is in no way affiliated with, authorized, maintained, sponsored or endorsed by Linkedin or any of its affiliates or subsidiaries. It uses an independent and unofficial API. Use at your own risk.\n",
    "\n",
    "This project violates Linkedin's User Agreement Section 8.2, and because of this, Linkedin may (and will) temporarily or permanently ban your account. We are not responsible for your account being banned.\n",
    "<br>\n",
    "</div>"
   ]
  },
  {
   "cell_type": "markdown",
   "id": "40310297",
   "metadata": {
    "papermill": {},
    "tags": []
   },
   "source": [
    "## Input"
   ]
  },
  {
   "cell_type": "markdown",
   "id": "af373ec1",
   "metadata": {
    "papermill": {},
    "tags": []
   },
   "source": [
    "### Import libraries\n",
    "Here below is the list of tools needed."
   ]
  },
  {
   "cell_type": "code",
   "execution_count": null,
   "id": "92a75b4f",
   "metadata": {
    "papermill": {},
    "tags": []
   },
   "outputs": [],
   "source": [
    "import naas\n",
    "from naas_drivers import linkedin, notion\n",
    "from datetime import datetime\n",
    "import pandas as pd\n",
    "import os\n",
    "import requests"
   ]
  },
  {
   "cell_type": "markdown",
   "id": "b32c35f7",
   "metadata": {
    "papermill": {},
    "tags": []
   },
   "source": [
    "### Setup variables\n",
    "\n",
    "**Pre-requisite**\n",
    "- Configure naas integration into your Notion\n",
    "- Duplicate <a href=\"https://naas-official.notion.site/724fec443b134f288b356001bb1543bd?v=c82a8005a5bf4862b7c967a9689aa799\">content calendar template</a>\n",
    "- Share integration on the template\n",
    "\n",
    "**Mandatory**\n",
    "\n",
    "[Learn how to get your cookies on LinkedIn](https://www.notion.so/LinkedIn-driver-Get-your-cookies-d20a8e7e508e42af8a5b52e33f3dba75)\n",
    "- `li_at`: Cookie used to authenticate Members and API clients\n",
    "- `JSESSIONID`: Cookie used for Cross Site Request Forgery (CSRF) protection and URL signature validation\n",
    "- `linkedin_url`: This variable represents the profile URL from LinkedIn\n",
    "- `notion_token`: This variable represents the notion token shared with the database\n",
    "- `notion_database_url`: This variable represents the database URL\n",
    "\n",
    "**Optional**\n",
    "- `csv_output`: CSV file path to be saved in your local.\n",
    "- `limit`: The initial number of posts to be fetched during the first execution.\n",
    "- `update`: The number of posts to be refreshed in each update.\n",
    "- `cron`: This variable represents the CRON syntax used to run the scheduler. More information here: https://crontab.guru/#0_12,18_*_*_1-5\n",
    "- `refresh_interval`: This variable sets the minimum time interval (in minutes) for data refresh when using this template manually. This helps to prevent excessive calls to the LinkedIn API."
   ]
  },
  {
   "cell_type": "code",
   "execution_count": null,
   "id": "e33c2341",
   "metadata": {
    "papermill": {},
    "tags": []
   },
   "outputs": [],
   "source": [
    "# Mandatory\n",
    "li_at = naas.secret.get(\"LINKEDIN_LI_AT\") or \"YOUR_LINKEDIN_LI_AT\" #example: AQFAzQN_PLPR4wAAAXc-FCKmgiMit5FLdY1af3-2\n",
    "JSESSIONID = naas.secret.get(\"LINKEDIN_JSESSIONID\") or \"YOUR_LINKEDIN_JSESSIONID\" #example: ajax:8379907400220387585\n",
    "linkedin_url = \"https://www.linkedin.com/in/xxxxx/\" # EXAMPLE \"https://www.linkedin.com/in/myprofile/\"\n",
    "notion_token = \"ENTER_YOUR_NOTION_TOKEN_HERE\" # EXAMPLE : \"secret_eaLtxxxxxxxzuBPQvParsFxxxxxxx\"\n",
    "notion_database_url = \"ENTER_YOUR_NOTION_DATABASE_URL_HERE\"  # EXAMPLE : \"https://www.notion.so/naas-official/fc64df2aae7f4796963d14edec816xxxxx\"\n",
    "\n",
    "# Optional\n",
    "csv_output = f\"LINKEDIN_POSTS_{linkedin_url.split('https://www.linkedin.com/in/')[-1].split('/')[0]}.csv\"\n",
    "limit = 5\n",
    "update = 3\n",
    "cron = \"0 8 * * *\"\n",
    "refresh_interval = 30"
   ]
  },
  {
   "cell_type": "markdown",
   "id": "e26e1292",
   "metadata": {
    "papermill": {},
    "tags": []
   },
   "source": [
    "## Model"
   ]
  },
  {
   "cell_type": "markdown",
   "id": "87c342d4-46af-41ec-aefb-2cd5477fe861",
   "metadata": {
    "execution": {
     "iopub.execute_input": "2022-01-24T11:24:35.716122Z",
     "iopub.status.busy": "2022-01-24T11:24:35.715845Z",
     "iopub.status.idle": "2022-01-24T11:24:35.719349Z",
     "shell.execute_reply": "2022-01-24T11:24:35.718736Z",
     "shell.execute_reply.started": "2022-01-24T11:24:35.716056Z"
    },
    "papermill": {},
    "tags": []
   },
   "source": [
    "### Get your posts from CSV"
   ]
  },
  {
   "cell_type": "code",
   "execution_count": null,
   "id": "f3650336-3938-41ee-9115-6e9d1c88ece1",
   "metadata": {
    "papermill": {},
    "tags": []
   },
   "outputs": [],
   "source": [
    "def read_csv(file_path):\n",
    "    try:\n",
    "        df = pd.read_csv(file_path)\n",
    "    except FileNotFoundError as e:\n",
    "        # Empty dataframe returned\n",
    "        return pd.DataFrame()\n",
    "    return df\n",
    "\n",
    "df_posts_init = read_csv(csv_output)\n",
    "print(\"✅ Posts:\", len(df_posts_init))\n",
    "df_posts_init.head(1)"
   ]
  },
  {
   "cell_type": "markdown",
   "id": "cb8ae3d4-4aa6-4cf5-8553-651f4336f3ef",
   "metadata": {
    "papermill": {},
    "tags": []
   },
   "source": [
    "### Get or update last posts "
   ]
  },
  {
   "cell_type": "code",
   "execution_count": null,
   "id": "71cfac17-4ee9-432b-9d06-ea1500c77ad7",
   "metadata": {
    "papermill": {},
    "tags": []
   },
   "outputs": [],
   "source": [
    "def update_posts(\n",
    "    li_at,\n",
    "    JSESSIONID,\n",
    "    df_posts,\n",
    "    linkedin_url,\n",
    "    limit=5,\n",
    "    update=3,\n",
    "    refresh_interval=60,\n",
    "    key=\"POST_URL\",\n",
    "):\n",
    "    # Init output\n",
    "    df = pd.DataFrame()\n",
    "    df_new = pd.DataFrame()\n",
    "\n",
    "    # Init df posts is empty then return entire database\n",
    "    if len(df_posts) > 0:\n",
    "        if \"DATE_EXTRACT\" in df_posts.columns:\n",
    "            last_update_date = df_posts[\"DATE_EXTRACT\"].max()\n",
    "            time_last_update = datetime.now() - datetime.strptime(\n",
    "                last_update_date, \"%Y-%m-%d %H:%M:%S\"\n",
    "            )\n",
    "            minute_last_update = time_last_update.total_seconds() / 60\n",
    "            if minute_last_update > refresh_interval:\n",
    "                # If df posts not empty get the last X posts (new and already existing)\n",
    "                df_new = linkedin.connect(li_at, JSESSIONID).profile.get_posts_feed(\n",
    "                    linkedin_url,\n",
    "                    limit=update\n",
    "                )\n",
    "            else:\n",
    "                print(\n",
    "                    f\"🛑 Nothing to update. Last update done {int(minute_last_update)} minutes ago.\"\n",
    "                )\n",
    "    else:\n",
    "        df_new = linkedin.connect(li_at, JSESSIONID).profile.get_posts_feed(\n",
    "            linkedin_url,\n",
    "            limit=limit\n",
    "        )\n",
    "\n",
    "    # Concat, save database in CSV and dependency in production\n",
    "    df = pd.concat([df_new, df_posts]).drop_duplicates(key, keep=\"first\")\n",
    "\n",
    "    # Return all posts\n",
    "    print(f\"✅ Updated posts:\", len(df))\n",
    "    return df.reset_index(drop=True)\n",
    "\n",
    "df_posts = update_posts(\n",
    "    li_at,\n",
    "    JSESSIONID,\n",
    "    df_posts_init,\n",
    "    linkedin_url,\n",
    "    limit=limit,\n",
    "    update=update,\n",
    "    refresh_interval=refresh_interval\n",
    ")\n",
    "df_posts.head(1)"
   ]
  },
  {
   "cell_type": "markdown",
   "id": "314887be-77bc-47c1-bd2c-d0274dc42279",
   "metadata": {
    "papermill": {},
    "tags": []
   },
   "source": [
    "### Save DataFrame in CSV and send to production"
   ]
  },
  {
   "cell_type": "code",
   "execution_count": null,
   "id": "3842f9e6-f23d-4db3-ac91-a5fd908fbd25",
   "metadata": {
    "papermill": {},
    "tags": []
   },
   "outputs": [],
   "source": [
    "# Save dataframe in CSV\n",
    "df_posts.to_csv(csv_output, index=False)\n",
    "\n",
    "# Send CSV to production (It could be used with other scripts)\n",
    "naas.dependency.add(csv_output)"
   ]
  },
  {
   "cell_type": "markdown",
   "id": "bc49a0d2-4552-477c-8825-fbcc4087dcba",
   "metadata": {
    "execution": {
     "iopub.execute_input": "2023-05-03T09:04:47.364499Z",
     "iopub.status.busy": "2023-05-03T09:04:47.364268Z",
     "iopub.status.idle": "2023-05-03T09:04:47.369192Z",
     "shell.execute_reply": "2023-05-03T09:04:47.368658Z",
     "shell.execute_reply.started": "2023-05-03T09:04:47.364475Z"
    },
    "papermill": {},
    "tags": []
   },
   "source": [
    "### Get Notion database"
   ]
  },
  {
   "cell_type": "code",
   "execution_count": null,
   "id": "e448a49b-0016-44ff-b3ee-de84e19a1b60",
   "metadata": {
    "papermill": {},
    "tags": []
   },
   "outputs": [],
   "source": [
    "def get_notion_db(notion_database, key, token):\n",
    "    # Init\n",
    "    df_output = pd.DataFrame()\n",
    "    if not notion_database.startswith(\"https://www.notion.so/\"):\n",
    "        return df_output\n",
    "    \n",
    "    # Get database\n",
    "    database_id = notion_database.split(\"/\")[-1].split(\"?v=\")[0]\n",
    "    pages = notion.connect(token).database.query(database_id, query={})\n",
    "    \n",
    "    # Loop on page\n",
    "    for page in pages:\n",
    "        # Get page_id\n",
    "        page_id = page.id\n",
    "        \n",
    "        # Create dataframe from page\n",
    "        df = page.df()\n",
    "        \n",
    "        # Remove empty pages\n",
    "        page_title = df.loc[df.Name == key, \"Value\"].values[0]\n",
    "        if page_title == \"\":\n",
    "            notion.connect(token).blocks.delete(page_id)\n",
    "            print(f\"Page '{page_id}' empty => removed from database\")\n",
    "        else:\n",
    "            # Pivot rows to columns\n",
    "            columns = df[\"Name\"].unique().tolist()\n",
    "            new_df = df.copy()\n",
    "            new_df = new_df.drop(\"Type\", axis=1)\n",
    "            new_df = new_df.T\n",
    "            for i, c in enumerate(new_df.columns):\n",
    "                new_df = new_df.rename(columns={c: columns[i]})\n",
    "            new_df = new_df.drop(\"Name\").reset_index(drop=True)\n",
    "\n",
    "            # Add page ID\n",
    "            new_df[\"PAGE_ID\"] = page_id\n",
    "\n",
    "            # Concat dataframe\n",
    "            df_output = pd.concat([df_output, new_df])\n",
    "    return df_output\n",
    "\n",
    "df_notion = get_notion_db(\n",
    "    notion_database_url,\n",
    "    \"Name\",\n",
    "    notion_token\n",
    ")\n",
    "print(\"✅ Notion DB:\", len(df_notion))\n",
    "df_notion.head(1)"
   ]
  },
  {
   "cell_type": "markdown",
   "id": "26a9dad9-bb99-4ed3-9084-6c98667988d4",
   "metadata": {
    "papermill": {},
    "tags": []
   },
   "source": [
    "### Get rows to be updated"
   ]
  },
  {
   "cell_type": "code",
   "execution_count": null,
   "id": "be4b9ef3-400e-4df4-8ca8-c25549eee5bc",
   "metadata": {
    "papermill": {},
    "tags": []
   },
   "outputs": [],
   "source": [
    "def get_updated_rows(\n",
    "    df_posts,\n",
    "    df_notion,\n",
    "    force_update,\n",
    "):\n",
    "    # Init\n",
    "    df = df_posts.copy()\n",
    "    \n",
    "    # Check if df is not empty\n",
    "    if len(df) == 0:\n",
    "        return pd.DataFrame()\n",
    "    \n",
    "    # Cleaning and filter\n",
    "    df.COMPANY_MENTION = df.COMPANY_MENTION.fillna(\"\")\n",
    "    df.PROFILE_MENTION = df.PROFILE_MENTION.fillna(\"\")\n",
    "    df = df.fillna(\"None\")\n",
    "    df = df[df[\"ACTIVITY_ID\"].astype(str) != \"None\"]\n",
    "\n",
    "    # Get page ID\n",
    "    engagements = {}\n",
    "    page_ids = {}\n",
    "    if len(df_notion) > 0:\n",
    "        df_notion[\"Score\"] = df_notion[\"Views\"].fillna(\"0\").astype(float) + df_notion[\"Likes\"].fillna(\"0\").astype(float) + df_notion[\"Comments\"].fillna(\"0\").astype(float) + df_notion[\"Shares\"].fillna(\"0\").astype(float)\n",
    "        for index, row in df_notion.iterrows():\n",
    "            engagements[row[\"Post URL\"]] = row[\"Score\"]\n",
    "            page_ids[row[\"Post URL\"]] = row[\"PAGE_ID\"]\n",
    "    df[\"Score\"] = df[\"POST_URL\"].map(engagements)\n",
    "    df[\"PAGE_ID\"] = df[\"POST_URL\"].map(page_ids).fillna(\"None\")\n",
    "    \n",
    "    # Return all rows if force update is True or notion database empty\n",
    "    if force_update:\n",
    "        return df.reset_index(drop=True)\n",
    "    \n",
    "    # Check Score\n",
    "    df[\"SCORE\"] = df[\"VIEWS\"] + df[\"COMMENTS\"] + df[\"LIKES\"] + df[\"SHARES\"]\n",
    "    df = df[df[\"SCORE\"].astype(float) != df[\"Score\"].astype(float)]\n",
    "    return df.reset_index(drop=True)\n",
    "\n",
    "df_update = get_updated_rows(df_posts, df_notion, False)\n",
    "print(\"✅ Rows to update:\", len(df_update))\n",
    "df_update.head(len(df_update))"
   ]
  },
  {
   "cell_type": "markdown",
   "id": "7d42c4ae",
   "metadata": {
    "papermill": {},
    "tags": []
   },
   "source": [
    "## Output"
   ]
  },
  {
   "cell_type": "markdown",
   "id": "1376aeb4-64d2-400c-b69a-074cb6ebe9fd",
   "metadata": {
    "papermill": {},
    "tags": []
   },
   "source": [
    "### Update posts in Notion"
   ]
  },
  {
   "cell_type": "code",
   "execution_count": null,
   "id": "aaff28ff",
   "metadata": {
    "papermill": {},
    "tags": []
   },
   "outputs": [],
   "source": [
    "def update_dynamic_properties(page, row):\n",
    "    # Page properties : dynamic\n",
    "    page.number(\"Engagment score\", float(row.ENGAGEMENT_SCORE))\n",
    "    page.number(\"Views\", int(row.VIEWS))\n",
    "    page.number(\"Likes\", int(row.LIKES))\n",
    "    page.number(\"Comments\", int(row.COMMENTS))\n",
    "    page.number(\"Shares\", int(row.SHARES))\n",
    "    return page\n",
    "\n",
    "def update_content_notion(df, notion_database, notion_token):\n",
    "    # Init\n",
    "    if len(df) == 0:\n",
    "        print(f\"🛑 Nothing to update in Notion.\")\n",
    "        return\n",
    "    database_id = notion_database.split(\"/\")[-1].split(\"?v=\")[0]\n",
    "    \n",
    "    # Loop in data\n",
    "    for i, row in df.iterrows():\n",
    "        # Init\n",
    "        page_id = row.PAGE_ID\n",
    "        title = row.TITLE\n",
    "        content_title = row.CONTENT_TITLE\n",
    "        if str(title) == \"None\" and str(content_title) != \"None\":\n",
    "            title = f\"Repost - {content_title}\"\n",
    "        elif str(title) == \"None\" and str(content_title) == \"None\":\n",
    "            title = \"Repost\"\n",
    "        post_url = row.POST_URL\n",
    "        print(f\"➡️ Start update for '{title}'\")\n",
    "        print(f\"🔗 Post URL: {post_url}\")\n",
    "\n",
    "        # Create or update page\n",
    "        try:\n",
    "            if str(page_id) == \"None\":\n",
    "                # Create new page in notion\n",
    "                page = notion.connect(notion_token).Page.new(database_id=database_id).create()\n",
    "                page.title(\"Name\", title)\n",
    "                print(f\"✅ Page created in Notion.\")\n",
    "\n",
    "                # Page properties : static\n",
    "                page.date(\"Publication Date\", row.PUBLISHED_DATE)\n",
    "                page.select(\"Content type\", row.CONTENT)\n",
    "                page.select(\"Platform\", \"LinkedIn\")\n",
    "                page.select(\"Status\", \"Published ✨\")\n",
    "                page.select(\"Author\", row.AUTHOR_NAME)\n",
    "                profile_mention = row.PROFILE_MENTION\n",
    "                if str(profile_mention) != \"None\":\n",
    "                    if len(profile_mention) > 2:\n",
    "                        page.rich_text(\"Profile mention\", profile_mention)\n",
    "                company_mention = row.COMPANY_MENTION\n",
    "                if str(company_mention) != \"None\":\n",
    "                    if len(company_mention) > 2:\n",
    "                        page.rich_text(\"Company mention\", company_mention)\n",
    "                page.number(\"Nb hashtags\", int(row.TAGS_COUNT))\n",
    "                tags = row.TAGS\n",
    "                if str(tags) == \"None\":\n",
    "                    tags = \"\"\n",
    "                else:\n",
    "                    if len(tags) < 2:\n",
    "                        tags = \"\"\n",
    "                page.rich_text(\"Hashtags\", tags)\n",
    "                page.number(\"Nb emojis\", int(row.EMOJIS_COUNT))\n",
    "                emojis = row.EMOJIS\n",
    "                if str(emojis) == \"None\":\n",
    "                    emojis = \"\"\n",
    "                else:\n",
    "                    if len(emojis) < 2:\n",
    "                        emojis = \"\"\n",
    "                page.rich_text(\"Emojis\", emojis)\n",
    "                page.number(\"Nb links\", int(row.LINKS_COUNT))\n",
    "                links = row.LINKS\n",
    "                if str(links) == \"None\":\n",
    "                    if len(links) > 2:\n",
    "                        page.link(\"Links\", links)\n",
    "                page.number(\"Nb characters\", int(row.CHARACTER_COUNT))\n",
    "                page.link(\"Post URL\", post_url)\n",
    "                content_url = row.CONTENT_URL\n",
    "                if str(content_url) != \"None\":\n",
    "                    page.link(\"Content URL\", content_url)\n",
    "                print(\"✅ Static data updated in page properties.\")\n",
    "\n",
    "                # Page blocks text\n",
    "                text = row.TEXT\n",
    "                if str(text) != \"None\":\n",
    "                    split_text = text.split(\"\\n\")\n",
    "                    for t in split_text:\n",
    "                        page.paragraph(t)\n",
    "                    print(\"✅ Post updated in page blocks.\")\n",
    "                    \n",
    "                # Add linkedin logo as page icon\n",
    "                notion.client.pages.update(\n",
    "                    page_id=page.id, icon={\"type\": \"external\", \"external\": {\"url\": \"https://upload.wikimedia.org/wikipedia/commons/thumb/c/ca/LinkedIn_logo_initials.png/800px-LinkedIn_logo_initials.png\"}}\n",
    "                )\n",
    "                print(f\"✅ Icon successfully updated in page.\")\n",
    "\n",
    "                # Add image to background\n",
    "                image_url = row.IMAGE_URL\n",
    "                if str(image_url) != \"None\":\n",
    "                    if image_url.startswith(\"https://media\"):\n",
    "                        notion.client.pages.update(\n",
    "                            page_id=page.id, cover={\"type\": \"external\", \"external\": {\"url\": image_url}}\n",
    "                        )\n",
    "                        print(f\"✅ Background successfully updated in page.\")\n",
    "            else:\n",
    "                page = notion.connect(notion_token).page.get(page_id)\n",
    "\n",
    "            # Page properties : dynamic\n",
    "            page = update_dynamic_properties(page, row)\n",
    "\n",
    "            # Update page\n",
    "            page.update()\n",
    "            print(f\"✅ Post stats updated in page properties.\")\n",
    "        except Exception as e:\n",
    "            print(f\"❌ Error creating page '{title}' in Notion\", e)\n",
    "            print(row)\n",
    "            raise(e)\n",
    "                \n",
    "update_content_notion(df_update, notion_database_url, notion_token)"
   ]
  },
  {
   "cell_type": "markdown",
   "id": "80d24d5d-30e5-47d8-bb2d-7d536293bb5b",
   "metadata": {
    "papermill": {},
    "tags": []
   },
   "source": [
    "### Add scheduler"
   ]
  },
  {
   "cell_type": "code",
   "execution_count": null,
   "id": "2a965324-a6ed-4a1d-8448-26baeb8c295a",
   "metadata": {
    "papermill": {},
    "tags": []
   },
   "outputs": [],
   "source": [
    "# the default settings below will make the notebook run everyday at 8:00\n",
    "# for information on changing this setting, please check https://crontab.guru/ for information on the required CRON syntax\n",
    "naas.scheduler.add(cron=cron)\n",
    "\n",
    "# to de-schedule this notebook, simply run the following command:\n",
    "# naas.scheduler.delete()"
   ]
  },
  {
   "cell_type": "code",
   "execution_count": null,
   "id": "6ab10a56-634c-4f12-a325-8abcaec90157",
   "metadata": {
    "papermill": {},
    "tags": []
   },
   "outputs": [],
   "source": []
  }
 ],
 "metadata": {
  "interpreter": {
   "hash": "e7370f93d1d0cde622a1f8e1c04877d8463912d04d973331ad4851f04de6915a"
  },
  "kernelspec": {
   "display_name": "Python 3",
   "language": "python",
   "name": "python3"
  },
  "language_info": {
   "codemirror_mode": {
    "name": "ipython",
    "version": 3
   },
   "file_extension": ".py",
   "mimetype": "text/x-python",
   "name": "python",
   "nbconvert_exporter": "python",
   "pygments_lexer": "ipython3",
   "version": "3.9.6"
  },
  "naas": {
   "notebook_id": "aad75b5a182f646c5bc2dcd4236d669c4fc8e74c4cb27043cad9ed69e5baa5fb",
   "notebook_path": "LinkedIn/LinkedIn_Update_metrics_from_profile_posts_in_Notion_content_calendar.ipynb"
  },
  "papermill": {
   "default_parameters": {},
   "environment_variables": {},
   "parameters": {},
   "version": "2.3.4"
  }
 },
 "nbformat": 4,
 "nbformat_minor": 5
}