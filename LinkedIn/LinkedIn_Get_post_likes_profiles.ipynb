{
 "cells": [
  {
   "cell_type": "markdown",
   "id": "encouraging-netherlands",
   "metadata": {
    "execution": {
     "iopub.execute_input": "2021-01-25T08:00:35.294800Z",
     "iopub.status.busy": "2021-01-25T08:00:35.294557Z",
     "iopub.status.idle": "2021-01-25T08:00:35.307281Z",
     "shell.execute_reply": "2021-01-25T08:00:35.306468Z",
     "shell.execute_reply.started": "2021-01-25T08:00:35.294775Z"
    },
    "papermill": {},
    "tags": []
   },
   "source": [
    "<img width=\"8%\" alt=\"LinkedIn.png\" src=\"https://raw.githubusercontent.com/jupyter-naas/awesome-notebooks/master/.github/assets/logos/LinkedIn.png\" style=\"border-radius: 15%\">"
   ]
  },
  {
   "cell_type": "markdown",
   "id": "suitable-timer",
   "metadata": {
    "papermill": {},
    "tags": []
   },
   "source": [
    "# LinkedIn - Get post likes profiles\n",
    "<a href=\"https://bit.ly/3JyWIk6\">Give Feedback</a> | <a href=\"https://github.com/jupyter-naas/awesome-notebooks/issues/new?assignees=&labels=bug&template=bug_report.md&title=LinkedIn+-+Get+post+likes+profiles:+Error+short+description\">Bug report</a>"
   ]
  },
  {
   "cell_type": "markdown",
   "id": "5fa9ce33-c79a-4c6d-adf4-d3a6f479f27d",
   "metadata": {
    "papermill": {},
    "tags": []
   },
   "source": [
    "**Tags:** #linkedin #post #likes #naas_drivers #content #snippet #dataframe"
   ]
  },
  {
   "cell_type": "markdown",
   "id": "82d7f76c-a6e5-49d7-9129-5049975fe992",
   "metadata": {
    "papermill": {},
    "tags": []
   },
   "source": [
    "**Author:** [Florent Ravenel](https://www.linkedin.com/in/florent-ravenel/)"
   ]
  },
  {
   "cell_type": "markdown",
   "id": "52b28bd4-2167-4d10-bbef-020aa6393b15",
   "metadata": {
    "papermill": {},
    "tags": []
   },
   "source": [
    "**Last update:** 2023-11-13 (Created: 2021-06-17)"
   ]
  },
  {
   "cell_type": "markdown",
   "id": "naas-description",
   "metadata": {
    "papermill": {},
    "tags": [
     "description"
    ]
   },
   "source": [
    "**Description:** This notebook retrieves information about the profiles of people who have liked a specific post on LinkedIn. This feature provides insights into the individuals who have engaged with a post, allowing users to view their profiles and potentially connect with them or engage in further conversations. The data is structured in a DataFrame with the following columns:\n",
    "\n",
    "- `PROFILE_ID`: The unique identifier for each LinkedIn profile.\n",
    "- `PROFILE_URL`: The URL of the individual's LinkedIn profile.\n",
    "- `PUBLIC_ID`: The public identifier visible in the URL of the user's LinkedIn profile.\n",
    "- `FIRSTNAME`: The first name of the LinkedIn user.\n",
    "- `LASTNAME`: The last name of the LinkedIn user.\n",
    "- `FULLNAME`: The full name of the LinkedIn user.\n",
    "- `OCCUPATION`: The professional title or job role of the LinkedIn user.\n",
    "- `PROFILE_PICTURE`: The URL of the LinkedIn user's profile picture.\n",
    "- `BACKGROUND_PICTURE`: The URL of the LinkedIn user's background picture.\n",
    "- `PROFILE_TYPE`: The type of LinkedIn profile (e.g., individual, company).\n",
    "- `REACTION_TYPE`: The type of reaction (like, love, insightful, etc.) the user has given to the post.\n",
    "- `POST_URL`: The URL of the LinkedIn post that received the reaction.\n",
    "- `DATE_EXTRACT`: The timestamp of when the reaction data was extracted."
   ]
  },
  {
   "cell_type": "markdown",
   "id": "59565c01-4b88-4ae2-aba4-1eeb09832527",
   "metadata": {
    "papermill": {},
    "tags": []
   },
   "source": [
    "\n",
    "<div class=\"alert alert-info\" role=\"info\" style=\"margin: 10px\">\n",
    "<b>Disclaimer:</b><br>\n",
    "This code is in no way affiliated with, authorized, maintained, sponsored or endorsed by Linkedin or any of its affiliates or subsidiaries. It uses an independent and unofficial API. Use at your own risk.\n",
    "\n",
    "This project violates Linkedin's User Agreement Section 8.2, and because of this, Linkedin may (and will) temporarily or permanently ban your account. We are not responsible for your account being banned.\n",
    "<br>\n",
    "</div>"
   ]
  },
  {
   "cell_type": "markdown",
   "id": "progressive-measure",
   "metadata": {
    "papermill": {},
    "tags": []
   },
   "source": [
    "## Input"
   ]
  },
  {
   "cell_type": "markdown",
   "id": "7156e1b3-25f2-4130-9d12-f738bea654e3",
   "metadata": {
    "papermill": {},
    "tags": []
   },
   "source": [
    "### Import libraries"
   ]
  },
  {
   "cell_type": "code",
   "execution_count": null,
   "id": "b2d0ab9d-4c42-4afc-984a-59ae70e1de14",
   "metadata": {
    "papermill": {},
    "tags": []
   },
   "outputs": [],
   "source": [
    "import naas\n",
    "from naas_drivers import linkedin"
   ]
  },
  {
   "cell_type": "markdown",
   "id": "bce1d589-0f43-4ad1-a68e-65c147cef90a",
   "metadata": {
    "papermill": {},
    "tags": []
   },
   "source": [
    "### Setup variables\n",
    "[Learn how to get your cookies on LinkedIn](https://www.notion.so/LinkedIn-driver-Get-your-cookies-d20a8e7e508e42af8a5b52e33f3dba75)\n",
    "- `li_at`: Cookie used to authenticate Members and API clients.\n",
    "- `JSESSIONID`: Cookie used for Cross Site Request Forgery (CSRF) protection and URL signature validation.\n",
    "- `linkedin_url`: This variable represents the LinkedIn post URL."
   ]
  },
  {
   "cell_type": "code",
   "execution_count": null,
   "id": "fc230654-e980-4430-a19d-fa5889fe94ec",
   "metadata": {
    "papermill": {},
    "tags": []
   },
   "outputs": [],
   "source": [
    "li_at = naas.secret.get(\"LINKEDIN_LI_AT\") or \"YOUR_LINKEDIN_LI_AT\" #example: AQFAzQN_PLPR4wAAAXc-FCKmgiMit5FLdY1af3-2\n",
    "JSESSIONID = naas.secret.get(\"LINKEDIN_JSESSIONID\") or \"YOUR_LINKEDIN_JSESSIONID\" #example: ajax:8379907400220387585\n",
    "linkedin_url = \"\" "
   ]
  },
  {
   "cell_type": "markdown",
   "id": "475cdb40-f6cf-4cf4-8fc7-86762f784b94",
   "metadata": {
    "papermill": {},
    "tags": []
   },
   "source": [
    "## Model"
   ]
  },
  {
   "cell_type": "markdown",
   "id": "93d60aac-9bee-416d-a5c7-74c9b577fbd2",
   "metadata": {
    "execution": {
     "iopub.execute_input": "2021-05-15T10:12:55.887028Z",
     "iopub.status.busy": "2021-05-15T10:12:55.886761Z",
     "iopub.status.idle": "2021-05-15T10:12:55.899441Z",
     "shell.execute_reply": "2021-05-15T10:12:55.898476Z",
     "shell.execute_reply.started": "2021-05-15T10:12:55.886964Z"
    },
    "papermill": {},
    "tags": []
   },
   "source": [
    "### Get reactions"
   ]
  },
  {
   "cell_type": "code",
   "execution_count": null,
   "id": "ee200239-14d7-409e-abce-8622fb742e41",
   "metadata": {
    "papermill": {},
    "tags": []
   },
   "outputs": [],
   "source": [
    "df = linkedin.connect(li_at, JSESSIONID).post.get_likes(linkedin_url)\n",
    "print(\"Likes:\", len(df))\n",
    "df.head(1)"
   ]
  },
  {
   "cell_type": "markdown",
   "id": "4defb664-85da-4a89-8627-e4824eb0fc4d",
   "metadata": {
    "papermill": {},
    "tags": []
   },
   "source": [
    "## Output"
   ]
  },
  {
   "cell_type": "markdown",
   "id": "d2342782-ed2d-42bf-9cdc-04fd03deef88",
   "metadata": {
    "papermill": {},
    "tags": []
   },
   "source": [
    "### Display result"
   ]
  },
  {
   "cell_type": "code",
   "execution_count": null,
   "id": "e94299ba-78a3-426b-a577-260544f310fc",
   "metadata": {
    "papermill": {},
    "tags": []
   },
   "outputs": [],
   "source": [
    "df"
   ]
  }
 ],
 "metadata": {
  "kernelspec": {
   "display_name": "Python 3",
   "language": "python",
   "name": "python3"
  },
  "language_info": {
   "codemirror_mode": {
    "name": "ipython",
    "version": 3
   },
   "file_extension": ".py",
   "mimetype": "text/x-python",
   "name": "python",
   "nbconvert_exporter": "python",
   "pygments_lexer": "ipython3",
   "version": "3.9.6"
  },
  "naas": {
   "notebook_id": "c667560e638075092c1f0067cb915aa7d1d1ceee2e2f778570a65c82cc56ff1d",
   "notebook_path": "LinkedIn/LinkedIn_Get_post_likes_profiles.ipynb"
  },
  "papermill": {
   "default_parameters": {},
   "environment_variables": {},
   "parameters": {},
   "version": "2.3.3"
  },
  "widgets": {
   "application/vnd.jupyter.widget-state+json": {
    "state": {},
    "version_major": 2,
    "version_minor": 0
   }
  }
 },
 "nbformat": 4,
 "nbformat_minor": 5
}