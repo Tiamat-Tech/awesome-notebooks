{
 "cells": [
  {
   "cell_type": "markdown",
   "id": "e2bf1abc-2ee3-4604-8a4d-18acd3ab8f31",
   "metadata": {
    "papermill": {},
    "tags": []
   },
   "source": [
    "<img width=\"8%\" alt=\"LinkedIn.png\" src=\"https://raw.githubusercontent.com/jupyter-naas/awesome-notebooks/master/.github/assets/logos/LinkedIn.png\" style=\"border-radius: 15%\">"
   ]
  },
  {
   "cell_type": "markdown",
   "id": "e3959cb1-9017-4d05-b08d-97e008a29ade",
   "metadata": {
    "papermill": {},
    "tags": []
   },
   "source": [
    "# LinkedIn - Get post interactions\n",
    "<a href=\"https://bit.ly/3JyWIk6\">Give Feedback</a> | <a href=\"https://github.com/jupyter-naas/awesome-notebooks/issues/new?assignees=&labels=bug&template=bug_report.md&title=LinkedIn+-+Get+post+interactions:+Error+short+description\">Bug report</a>"
   ]
  },
  {
   "cell_type": "markdown",
   "id": "82ff42b8-0f7b-4b06-8063-25b660dd9da5",
   "metadata": {
    "papermill": {},
    "tags": []
   },
   "source": [
    "**Tags:** #linkedin #post #likes #comments #interactions #profiles #naas_drivers #growth #notification #automation"
   ]
  },
  {
   "cell_type": "markdown",
   "id": "c516d560-7745-41c2-9816-c222198d5146",
   "metadata": {
    "papermill": {},
    "tags": []
   },
   "source": [
    "**Author:** [Florent Ravenel](https://www.linkedin.com/in/florent-ravenel/)"
   ]
  },
  {
   "cell_type": "markdown",
   "id": "a0cfd3b8-09be-4ce4-b793-56a95e6ccbd8",
   "metadata": {
    "papermill": {},
    "tags": []
   },
   "source": [
    "**Last update:** 2023-12-12 (Created: 2023-12-12)"
   ]
  },
  {
   "cell_type": "markdown",
   "id": "f8f518fc-9338-416f-b713-519e03b545a3",
   "metadata": {
    "papermill": {},
    "tags": []
   },
   "source": [
    "**Description:** This notebook retrieves information about the profiles of people who have liked or commented a specific post on LinkedIn rank them with a scoring on the interaction, try to extract the company name from the occupation and send an email recap with all data extracted in an Excel file."
   ]
  },
  {
   "cell_type": "markdown",
   "id": "27d01ba3-6b50-4a32-89d9-28325fa7a0f0",
   "metadata": {
    "papermill": {},
    "tags": []
   },
   "source": [
    "\n",
    "<div class=\"alert alert-info\" role=\"info\" style=\"margin: 10px\">\n",
    "<b>Disclaimer:</b><br>\n",
    "This code is in no way affiliated with, authorized, maintained, sponsored or endorsed by Linkedin or any of its affiliates or subsidiaries. It uses an independent and unofficial API. Use at your own risk.\n",
    "\n",
    "This project violates Linkedin's User Agreement Section 8.2, and because of this, Linkedin may (and will) temporarily or permanently ban your account. We are not responsible for your account being banned.\n",
    "<br>\n",
    "</div>"
   ]
  },
  {
   "cell_type": "markdown",
   "id": "1f3dbeb5-1797-42cd-9a9a-4a7738bd8a0d",
   "metadata": {
    "papermill": {},
    "tags": []
   },
   "source": [
    "## Input"
   ]
  },
  {
   "cell_type": "markdown",
   "id": "09e6ad9a-3fff-4ae4-9e29-6a926917d319",
   "metadata": {
    "papermill": {},
    "tags": []
   },
   "source": [
    "### Import libraries"
   ]
  },
  {
   "cell_type": "code",
   "execution_count": null,
   "id": "e15128cb-76d8-4ce6-b77e-6abd689663e5",
   "metadata": {
    "papermill": {},
    "tags": []
   },
   "outputs": [],
   "source": [
    "import naas\n",
    "from naas_drivers import linkedin\n",
    "import pandas as pd\n",
    "import openai\n",
    "import markdown2"
   ]
  },
  {
   "cell_type": "markdown",
   "id": "1d38adab-2045-4df1-b1d1-3e45c28b8190",
   "metadata": {
    "papermill": {},
    "tags": []
   },
   "source": [
    "### Setup variables\n",
    "**Pre-requisite**\n",
    "- [Get your cookies on LinkedIn](https://www.notion.so/LinkedIn-driver-Get-your-cookies-d20a8e7e508e42af8a5b52e33f3dba75)\n",
    "\n",
    "**Mandatory**\n",
    "- `openai_api_key`: Your OpenAI api key\n",
    "- `li_at`: Cookie used to authenticate Members and API clients.\n",
    "- `JSESSIONID`: Cookie used for Cross Site Request Forgery (CSRF) protection and URL signature validation.\n",
    "- `linkedin_url`: This variable represents the LinkedIn post URL.\n",
    "- `email_to`: List of email to send the notification."
   ]
  },
  {
   "cell_type": "code",
   "execution_count": null,
   "id": "b3f096aa-c4eb-4258-8082-058b44232df7",
   "metadata": {
    "papermill": {},
    "tags": []
   },
   "outputs": [],
   "source": [
    "# Mandatory\n",
    "openai_api_key = naas.secret.get(\"OPENAI_API_KEY\") or \"YOUR_OPENAI_API_KEY\"\n",
    "li_at = naas.secret.get(\"LINKEDIN_LI_AT\") or \"YOUR_LINKEDIN_LI_AT\" #example: AQFAzQN_PLPR4wAAAXc-FCKmgiMit5FLdY1af3-2\n",
    "JSESSIONID = naas.secret.get(\"LINKEDIN_JSESSIONID\") or \"YOUR_LINKEDIN_JSESSIONID\" #example: ajax:8379907400220387585\n",
    "linkedin_url = \"\"\n",
    "email_to = []\n",
    "\n",
    "# Optional\n",
    "name = linkedin_url.split(\"posts/\")[1].split(\"?\")[0]\n",
    "csv_stats = f\"{name}_stats.csv\"\n",
    "csv_reactions = f\"{name}_reactions.csv\"\n",
    "csv_comments = f\"{name}_comments.csv\"\n",
    "csv_interactions = f\"{name}_interactions.csv\"\n",
    "csv_profiles = f\"{name}_profiles.csv\"\n",
    "excel_output = f\"{name}.xlsx\"\n",
    "email_content_md = f\"{name}.md\""
   ]
  },
  {
   "cell_type": "markdown",
   "id": "92970a40-33cb-4a6f-99e5-f5bf94b16b40",
   "metadata": {
    "papermill": {},
    "tags": []
   },
   "source": [
    "## Model"
   ]
  },
  {
   "cell_type": "markdown",
   "id": "aa60db08-fae9-4b4f-a92e-eca42051e1eb",
   "metadata": {
    "papermill": {},
    "tags": []
   },
   "source": [
    "### Get post stats"
   ]
  },
  {
   "cell_type": "code",
   "execution_count": null,
   "id": "18cb5d6c-af34-428d-98da-cd7aa3419e15",
   "metadata": {
    "papermill": {},
    "tags": []
   },
   "outputs": [],
   "source": [
    "try:\n",
    "    df_stats = pd.read_csv(csv_stats)\n",
    "except Exception as e:\n",
    "    print(e)\n",
    "    df_stats = linkedin.connect(li_at, JSESSIONID).post.get_stats(linkedin_url)\n",
    "    df_stats.to_csv(csv_stats, index=False)\n",
    "    \n",
    "if len(df_stats) > 0:\n",
    "    title = df_stats.loc[0, 'TITLE']\n",
    "    author = df_stats.loc[0, 'AUTHOR_NAME']\n",
    "    published_at = df_stats.loc[0, 'SUBDESCRIPTION'].replace(\" • \", \" \").strip() + \" ago\"\n",
    "    views = df_stats.loc[0, 'VIEWS']\n",
    "    likes = df_stats.loc[0, 'LIKES']\n",
    "    comments = df_stats.loc[0, 'COMMENTS']\n",
    "    shares = df_stats.loc[0, 'SHARES']\n",
    "    print(f\"Post published by {author}, {published_at}: '{title}'\")\n",
    "    print(\n",
    "        \"\\n\\t👀 Impressions\\t\",\n",
    "        views,\n",
    "        \"\\n\\t👍 Likes\\t\",\n",
    "        likes,\n",
    "        \"\\n\\t💬 Comments\\t\",\n",
    "        comments,\n",
    "        \"\\n\\t⏩ Shares\\t\",\n",
    "        shares,\n",
    "    )"
   ]
  },
  {
   "cell_type": "markdown",
   "id": "1a7237fa-b30d-415c-9adc-983a8d283051",
   "metadata": {
    "execution": {
     "iopub.execute_input": "2021-05-15T10:12:55.887028Z",
     "iopub.status.busy": "2021-05-15T10:12:55.886761Z",
     "iopub.status.idle": "2021-05-15T10:12:55.899441Z",
     "shell.execute_reply": "2021-05-15T10:12:55.898476Z",
     "shell.execute_reply.started": "2021-05-15T10:12:55.886964Z"
    },
    "papermill": {},
    "tags": []
   },
   "source": [
    "### Get reactions"
   ]
  },
  {
   "cell_type": "code",
   "execution_count": null,
   "id": "0fb99b1a-418a-4d84-9884-e0f49b290e88",
   "metadata": {
    "papermill": {},
    "tags": []
   },
   "outputs": [],
   "source": [
    "try:\n",
    "    df_reactions = pd.read_csv(csv_reactions)\n",
    "except Exception as e:\n",
    "    print(e)\n",
    "    df_reactions = linkedin.connect(li_at, JSESSIONID).post.get_likes(linkedin_url)\n",
    "    df_reactions.to_csv(csv_reactions, index=False)\n",
    "\n",
    "print(\"Reactions:\", len(df_reactions))\n",
    "df_reactions.head(1)"
   ]
  },
  {
   "cell_type": "markdown",
   "id": "c7fbd27e-e10b-4ed3-82ea-af0eaff80273",
   "metadata": {
    "execution": {
     "iopub.execute_input": "2021-05-15T10:12:55.887028Z",
     "iopub.status.busy": "2021-05-15T10:12:55.886761Z",
     "iopub.status.idle": "2021-05-15T10:12:55.899441Z",
     "shell.execute_reply": "2021-05-15T10:12:55.898476Z",
     "shell.execute_reply.started": "2021-05-15T10:12:55.886964Z"
    },
    "papermill": {},
    "tags": []
   },
   "source": [
    "### Get comments"
   ]
  },
  {
   "cell_type": "code",
   "execution_count": null,
   "id": "7a0970fd-94bf-4b95-90e5-e2cba9a1d3b9",
   "metadata": {
    "papermill": {},
    "tags": []
   },
   "outputs": [],
   "source": [
    "try:\n",
    "    df_comments = pd.read_csv(csv_comments)\n",
    "except Exception as e:\n",
    "    print(e)\n",
    "    df_comments = linkedin.connect(li_at, JSESSIONID).post.get_comments(linkedin_url)\n",
    "    df_comments.to_csv(csv_comments, index=False)\n",
    "\n",
    "print(\"Comments:\", len(df_comments))\n",
    "df_comments.head(1)"
   ]
  },
  {
   "cell_type": "markdown",
   "id": "171cf9cc-ca81-47ce-acc3-83f56d3b98de",
   "metadata": {
    "papermill": {},
    "tags": []
   },
   "source": [
    "### Create interactions dataset"
   ]
  },
  {
   "cell_type": "code",
   "execution_count": null,
   "id": "43f097ad-5ade-41c5-bb8c-865774bffe77",
   "metadata": {
    "papermill": {},
    "tags": []
   },
   "outputs": [],
   "source": [
    "def create_interactions_dataset(\n",
    "    entity,\n",
    "    content_title,\n",
    "    published_at,\n",
    "    df_reactions,\n",
    "    df_comments,\n",
    "):\n",
    "    # Df reactions\n",
    "    data_reaction = {\n",
    "        \"ENTITY\": entity,\n",
    "        \"SCENARIO\": published_at,\n",
    "        \"FIRSTNAME\": df_reactions[\"FIRSTNAME\"],\n",
    "        \"LASTNAME\": df_reactions[\"LASTNAME\"],\n",
    "        \"FULLNAME\": df_reactions[\"FULLNAME\"],\n",
    "        \"OCCUPATION\": df_reactions[\"OCCUPATION\"],\n",
    "        \"INTERACTION\": \"POST_REACTION\",\n",
    "        \"INTERACTION_CONTENT\": df_reactions[\"REACTION_TYPE\"],\n",
    "        \"INTERACTION_SCORE\": 1,\n",
    "        \"PROFILE_URL\": df_reactions[\"PROFILE_URL\"],\n",
    "        \"PUBLIC_ID\": df_reactions[\"PUBLIC_ID\"],\n",
    "        \"CONTENT_TITLE\": content_title,\n",
    "        \"CONTENT_URL\": df_reactions[\"POST_URL\"],\n",
    "        \"DATE_EXTRACT\": df_reactions[\"DATE_EXTRACT\"],\n",
    "    }\n",
    "    df1 = pd.DataFrame(data_reaction)\n",
    "    \n",
    "    # Df comments\n",
    "    data_comment = {\n",
    "        \"ENTITY\": entity,\n",
    "        \"SCENARIO\": published_at,\n",
    "        \"FIRSTNAME\": df_comments[\"FIRSTNAME\"],\n",
    "        \"LASTNAME\": df_comments[\"LASTNAME\"],\n",
    "        \"FULLNAME\": df_comments[\"FULLNAME\"],\n",
    "        \"OCCUPATION\": df_comments[\"OCCUPATION\"],\n",
    "        \"INTERACTION\": \"POST_COMMENT\",\n",
    "        \"INTERACTION_CONTENT\": df_comments[\"TEXT\"],\n",
    "        \"INTERACTION_SCORE\": 3,\n",
    "        \"PROFILE_URL\": df_comments[\"PROFILE_URL\"],\n",
    "        \"PUBLIC_ID\": df_comments[\"PUBLIC_ID\"],\n",
    "        \"CONTENT_TITLE\": content_title,\n",
    "        \"CONTENT_URL\": df_comments[\"POST_URL\"],\n",
    "        \"DATE_EXTRACT\": df_comments[\"DATE_EXTRACT\"],\n",
    "    }\n",
    "    df2 = pd.DataFrame(data_comment)\n",
    "    \n",
    "    # Concat df\n",
    "    df = pd.concat([df1, df2]).reset_index(drop=True)\n",
    "    \n",
    "    # Exclude Entity from Full name\n",
    "    df = df[df[\"FULLNAME\"] != entity]\n",
    "    return df.reset_index(drop=True)\n",
    "\n",
    "df_interactions = create_interactions_dataset(\n",
    "    author,\n",
    "    title,\n",
    "    published_at,\n",
    "    df_reactions,\n",
    "    df_comments,\n",
    ")\n",
    "df_interactions.to_csv(csv_interactions, index=False)\n",
    "print('🗂️ Interactions:', len(df_interactions))\n",
    "df_interactions.head(5)"
   ]
  },
  {
   "cell_type": "markdown",
   "id": "0e4292c9-c33e-4f9e-91dc-8e99843b0ec5",
   "metadata": {
    "papermill": {},
    "tags": []
   },
   "source": [
    "### Create profiles dataset"
   ]
  },
  {
   "cell_type": "code",
   "execution_count": null,
   "id": "18bff651-2e5f-46d3-9427-f4c2e94c9fc1",
   "metadata": {
    "papermill": {},
    "tags": []
   },
   "outputs": [],
   "source": [
    "prompt_company = \"\"\"\n",
    "I will give you the occupation from a profile I get from LinkedIn, you will return the company you can extract from by checking the word after 'at' or '@'.\n",
    "If you don't find it return \"NA\"\n",
    "Don't put the results into quotes.\n",
    "\"\"\"\n",
    "\n",
    "def create_chat_completion(\n",
    "    openai_api_key,\n",
    "    prompt,\n",
    "    message\n",
    "):\n",
    "    # Init\n",
    "    openai.api_key = openai_api_key\n",
    "    \n",
    "    # Get response\n",
    "    response = openai.ChatCompletion.create(\n",
    "        model=\"gpt-4\",\n",
    "        temperature=0,\n",
    "        messages=[\n",
    "            {\n",
    "                \"role\": \"system\",\n",
    "                \"content\": prompt\n",
    "            },\n",
    "            {\n",
    "                \"role\": \"user\",\n",
    "                \"content\": message\n",
    "            }\n",
    "        ]\n",
    "    )\n",
    "    return response['choices'][0]['message']['content']\n",
    "\n",
    "def create_profiles_dataset(\n",
    "    df,\n",
    "):\n",
    "    # Groupby\n",
    "    to_group = [\n",
    "        \"ENTITY\",\n",
    "        \"SCENARIO\",\n",
    "        \"FIRSTNAME\",\n",
    "        \"LASTNAME\",\n",
    "        \"FULLNAME\",\n",
    "        \"OCCUPATION\",\n",
    "        \"PROFILE_URL\",\n",
    "    ]\n",
    "    to_agg = {\n",
    "        \"INTERACTION_SCORE\": \"sum\"\n",
    "    }\n",
    "    # Concat df\n",
    "    df = df.groupby(to_group, as_index=False).agg(to_agg)\n",
    "    df.insert(loc=5, column=\"COMPANY\", value=\"NA\")\n",
    "    df[\"COMPANY\"] = df.apply(lambda row: create_chat_completion(openai_api_key, prompt_company, row[\"OCCUPATION\"]), axis=1)\n",
    "    df = df.sort_values(by=\"INTERACTION_SCORE\", ascending=False)\n",
    "    return df.reset_index(drop=True)\n",
    "\n",
    "df_profiles = create_profiles_dataset(df_interactions)\n",
    "df_profiles.to_csv(csv_profiles, index=False)\n",
    "print('Profiles:', len(df_profiles))\n",
    "df_profiles.head(10)"
   ]
  },
  {
   "cell_type": "markdown",
   "id": "181e07e4-809b-46bd-96b9-222800603870",
   "metadata": {
    "papermill": {},
    "tags": []
   },
   "source": [
    "## Output"
   ]
  },
  {
   "cell_type": "markdown",
   "id": "3602f8d0-5b62-4cbd-8b8b-422d2f378ed3",
   "metadata": {
    "papermill": {},
    "tags": []
   },
   "source": [
    "### Save data to Excel"
   ]
  },
  {
   "cell_type": "code",
   "execution_count": null,
   "id": "64c0e250-d3c6-43b3-aa04-e877286726c0",
   "metadata": {
    "papermill": {},
    "tags": []
   },
   "outputs": [],
   "source": [
    "# Create a dictionary with sheet names as keys and corresponding dataframes as values\n",
    "sheet_data = {\n",
    "    'Profiles': df_profiles,\n",
    "    'Stats': df_stats,\n",
    "    'Interactions': df_interactions,\n",
    "    'Reactions': df_reactions,\n",
    "    'Comments': df_comments,\n",
    "}\n",
    "\n",
    "# Create a Pandas Excel writer using the openpyxl engine\n",
    "writer = pd.ExcelWriter(excel_output, engine='openpyxl')\n",
    "\n",
    "# Iterate through the sheet_data dictionary and save each sheet to the Excel file\n",
    "for sheet_name, df in sheet_data.items():\n",
    "    df.to_excel(writer, sheet_name=sheet_name, index=False)\n",
    "\n",
    "# Save the Excel file\n",
    "writer.save()"
   ]
  },
  {
   "cell_type": "markdown",
   "id": "9617c554-826d-41f6-a5c8-96d1b87ac04c",
   "metadata": {
    "papermill": {},
    "tags": []
   },
   "source": [
    "### Create Email template"
   ]
  },
  {
   "cell_type": "code",
   "execution_count": null,
   "id": "d527a268-1187-4439-a0c6-8240a0b347c7",
   "metadata": {
    "papermill": {},
    "tags": []
   },
   "outputs": [],
   "source": [
    "%%writefile $email_content_md\n",
    "Hello,\n",
    "\n",
    "Post published by AUTHOR, PUBLISHED: <a target='_blank' href='POST'>'TITLE'</a>.<br>\n",
    "\n",
    "- 👍 Likes: LIKES\n",
    "- 💬 Comments: COMMENTS\n",
    "- ⏩ Shares: SHARES\n",
    "\n",
    "Please find attached the data in Excel.<br>\n",
    "\n",
    "Have a nice day.\n",
    "<br>"
   ]
  },
  {
   "cell_type": "markdown",
   "id": "03913559-35cd-40de-a4ad-df111da5740e",
   "metadata": {
    "papermill": {},
    "tags": []
   },
   "source": [
    "### Create Email content"
   ]
  },
  {
   "cell_type": "code",
   "execution_count": null,
   "id": "12a28867-ac54-4d5f-809d-231241b72014",
   "metadata": {
    "papermill": {},
    "tags": []
   },
   "outputs": [],
   "source": [
    "content = open(email_content_md, \"r\").read()\n",
    "email_content = markdown2.markdown(content)\n",
    "email_content = email_content.replace(\"AUTHOR\", str(author))\n",
    "email_content = email_content.replace(\"PUBLISHED\", str(published_at))\n",
    "email_content = email_content.replace(\"TITLE\", str(title))\n",
    "email_content = email_content.replace(\"POST\", str(linkedin_url))\n",
    "email_content = email_content.replace(\"LIKES\", str(likes))\n",
    "email_content = email_content.replace(\"COMMENTS\", str(comments))\n",
    "email_content = email_content.replace(\"SHARES\", str(shares))\n",
    "email_content"
   ]
  },
  {
   "cell_type": "markdown",
   "id": "3de6ad94-6767-4881-ba40-679e297aaac3",
   "metadata": {
    "papermill": {},
    "tags": []
   },
   "source": [
    "## Output"
   ]
  },
  {
   "cell_type": "markdown",
   "id": "da91287c-45af-4e8d-ab32-f1264e52ffd2",
   "metadata": {
    "papermill": {},
    "tags": []
   },
   "source": [
    "### Send Email with Excel file attached"
   ]
  },
  {
   "cell_type": "code",
   "execution_count": null,
   "id": "96691534-fc3f-4b46-bde9-c0afc4bab7c2",
   "metadata": {
    "papermill": {},
    "tags": []
   },
   "outputs": [],
   "source": [
    "email_subject = f\"LinkedIn Post Analysis from {author}: '{title}'\"\n",
    "\n",
    "naas.notification.send(\n",
    "    email_to=email_to,\n",
    "    subject=email_subject,\n",
    "    html=email_content,\n",
    "    files=[excel_output],\n",
    ")"
   ]
  }
 ],
 "metadata": {
  "kernelspec": {
   "display_name": "Python 3",
   "language": "python",
   "name": "python3"
  },
  "language_info": {
   "codemirror_mode": {
    "name": "ipython",
    "version": 3
   },
   "file_extension": ".py",
   "mimetype": "text/x-python",
   "name": "python",
   "nbconvert_exporter": "python",
   "pygments_lexer": "ipython3",
   "version": "3.9.6"
  },
  "naas": {
   "notebook_id": "19053e54545781fea67aa4dab0b0b5a1f2eace4617dd09a1d30732a910ceeada",
   "notebook_path": "LinkedIn/LinkedIn_Get_post_interactions.ipynb"
  },
  "papermill": {
   "default_parameters": {},
   "environment_variables": {},
   "parameters": {},
   "version": "2.5.0"
  },
  "widgets": {
   "application/vnd.jupyter.widget-state+json": {
    "state": {},
    "version_major": 2,
    "version_minor": 0
   }
  }
 },
 "nbformat": 4,
 "nbformat_minor": 5
}