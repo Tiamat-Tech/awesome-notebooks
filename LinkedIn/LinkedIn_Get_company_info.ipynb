{
 "cells": [
  {
   "cell_type": "markdown",
   "id": "73e12a6d",
   "metadata": {
    "papermill": {},
    "tags": []
   },
   "source": [
    "<img width=\"8%\" alt=\"LinkedIn.png\" src=\"https://raw.githubusercontent.com/jupyter-naas/awesome-notebooks/master/.github/assets/logos/LinkedIn.png\" style=\"border-radius: 15%\">"
   ]
  },
  {
   "cell_type": "markdown",
   "id": "4de33197",
   "metadata": {
    "papermill": {},
    "tags": []
   },
   "source": [
    "# LinkedIn - Get company info\n",
    "<a href=\"https://bit.ly/3JyWIk6\">Give Feedback</a> | <a href=\"https://github.com/jupyter-naas/awesome-notebooks/issues/new?assignees=&labels=bug&template=bug_report.md&title=LinkedIn+-+Get+company+info:+Error+short+description\">Bug report</a>"
   ]
  },
  {
   "cell_type": "markdown",
   "id": "1ef3de17",
   "metadata": {
    "papermill": {},
    "tags": []
   },
   "source": [
    "**Tags:** #linkedin #company #info #naas_drivers #content #snippet #dataframe"
   ]
  },
  {
   "cell_type": "markdown",
   "id": "c6f7c746-35f0-4fe4-9c89-c822ae5a30fc",
   "metadata": {
    "papermill": {},
    "tags": []
   },
   "source": [
    "**Author:** [Florent Ravenel](https://www.linkedin.com/in/florent-ravenel/)"
   ]
  },
  {
   "cell_type": "markdown",
   "id": "26578d46-c0cc-4996-98d9-5844c6e233f3",
   "metadata": {
    "papermill": {},
    "tags": []
   },
   "source": [
    "**Last update:** 2023-11-06 (Created: 2022-03-21)"
   ]
  },
  {
   "cell_type": "markdown",
   "id": "naas-description",
   "metadata": {
    "papermill": {},
    "tags": [
     "description"
    ]
   },
   "source": [
    "**Description:** This notebook retrieves all the information about a company page on LinkedIn and returns a dataframe with the following fields:\n",
    "- COMPANY_ID: LinkedIn unique identifier for the company\n",
    "- COMPANY_URL: The URL of the company\n",
    "- COMPANY_NAME: The name of the company\n",
    "- UNIVERSAL_NAME: LinkedIn public name of the company\n",
    "- LOGO_URL: The URL of the company's logo\n",
    "- INDUSTRY_ID: The ID of the industry the company belongs to\n",
    "- INDUSTRY: The industry the company belongs to\n",
    "- WEBSITE: The website of the company\n",
    "- TAGLINE: The tagline of the company\n",
    "- SPECIALITIES: The specialities of the company\n",
    "- DESCRIPTION: The description of the company\n",
    "- COUNTRY: The country where the company is located\n",
    "- REGION: The region where the company is located\n",
    "- CITY: The city where the company is located\n",
    "- STAFF_COUNT: The number of staff in the company\n",
    "- STAFF_RANGE: The range of staff count in the company\n",
    "- FOLLOWER_COUNT: The number of followers of the company"
   ]
  },
  {
   "cell_type": "markdown",
   "id": "951eb59d-5d24-446e-be42-650a0db24880",
   "metadata": {
    "papermill": {},
    "tags": []
   },
   "source": [
    "\n",
    "<div class=\"alert alert-info\" role=\"info\" style=\"margin: 10px\">\n",
    "<b>Disclaimer:</b><br>\n",
    "This code is in no way affiliated with, authorized, maintained, sponsored or endorsed by Linkedin or any of its affiliates or subsidiaries. It uses an independent and unofficial API. Use at your own risk.\n",
    "\n",
    "This project violates Linkedin's User Agreement Section 8.2, and because of this, Linkedin may (and will) temporarily or permanently ban your account. We are not responsible for your account being banned.\n",
    "<br>\n",
    "</div>"
   ]
  },
  {
   "cell_type": "markdown",
   "id": "4b67ceeb",
   "metadata": {
    "papermill": {},
    "tags": []
   },
   "source": [
    "## Input"
   ]
  },
  {
   "cell_type": "markdown",
   "id": "cd58638c-14a7-423f-b316-001a36db9ac2",
   "metadata": {
    "papermill": {},
    "tags": []
   },
   "source": [
    "### Import libraries"
   ]
  },
  {
   "cell_type": "code",
   "execution_count": null,
   "id": "6e6724a5-9fae-4585-b02e-d5a1fee43f08",
   "metadata": {
    "papermill": {},
    "tags": []
   },
   "outputs": [],
   "source": [
    "from naas_drivers import linkedin\n",
    "import naas"
   ]
  },
  {
   "cell_type": "markdown",
   "id": "3cea44c5-d282-4717-987b-c059554f2a8f",
   "metadata": {
    "papermill": {},
    "tags": []
   },
   "source": [
    "### Setup variables\n",
    "**Mandatory**\n",
    "\n",
    "[Learn how to get your cookies on LinkedIn](https://www.notion.so/LinkedIn-driver-Get-your-cookies-d20a8e7e508e42af8a5b52e33f3dba75)\n",
    "- `li_at`: Cookie used to authenticate Members and API clients.\n",
    "- `JSESSIONID`: Cookie used for Cross Site Request Forgery (CSRF) protection and URL signature validation.\n",
    "- `linkedin_url`: LinkedIn company URL"
   ]
  },
  {
   "cell_type": "code",
   "execution_count": null,
   "id": "68e7eb38-0bc9-44bb-b571-fff87c42d1e0",
   "metadata": {
    "papermill": {},
    "tags": []
   },
   "outputs": [],
   "source": [
    "# Mandatory\n",
    "li_at = naas.secret.get(\"LINKEDIN_LI_AT\") or \"YOUR_LINKEDIN_LI_AT\" #example: AQFAzQN_PLPR4wAAAXc-FCKmgiMit5FLdY1af3-2\n",
    "JSESSIONID = naas.secret.get(\"LINKEDIN_JSESSIONID\") or \"YOUR_LINKEDIN_JSESSIONID\" #example: ajax:8379907400220387585\n",
    "linkedin_url = \"https://www.linkedin.com/company/naas-ai\""
   ]
  },
  {
   "cell_type": "markdown",
   "id": "fe12ee72",
   "metadata": {
    "papermill": {},
    "tags": []
   },
   "source": [
    "## Model"
   ]
  },
  {
   "cell_type": "markdown",
   "id": "3d70cc93",
   "metadata": {
    "papermill": {},
    "tags": []
   },
   "source": [
    "### Get company info"
   ]
  },
  {
   "cell_type": "code",
   "execution_count": null,
   "id": "b3f5e03c",
   "metadata": {
    "papermill": {},
    "tags": []
   },
   "outputs": [],
   "source": [
    "df = linkedin.connect(li_at, JSESSIONID).company.get_info(linkedin_url)\n",
    "df"
   ]
  },
  {
   "cell_type": "markdown",
   "id": "5e4ae2ee",
   "metadata": {
    "papermill": {},
    "tags": []
   },
   "source": [
    "## Output"
   ]
  },
  {
   "cell_type": "markdown",
   "id": "d46c6641",
   "metadata": {
    "papermill": {},
    "tags": []
   },
   "source": [
    "### Display result"
   ]
  },
  {
   "cell_type": "code",
   "execution_count": null,
   "id": "3be32f70",
   "metadata": {
    "papermill": {},
    "tags": []
   },
   "outputs": [],
   "source": [
    "df"
   ]
  }
 ],
 "metadata": {
  "interpreter": {
   "hash": "e7370f93d1d0cde622a1f8e1c04877d8463912d04d973331ad4851f04de6915a"
  },
  "kernelspec": {
   "display_name": "Python 3",
   "language": "python",
   "name": "python3"
  },
  "language_info": {
   "codemirror_mode": {
    "name": "ipython",
    "version": 3
   },
   "file_extension": ".py",
   "mimetype": "text/x-python",
   "name": "python",
   "nbconvert_exporter": "python",
   "pygments_lexer": "ipython3",
   "version": "3.9.6"
  },
  "naas": {
   "notebook_id": "c8d7b54b89b13d96ff3c62fd768504b13ee9256ca27e9c89d0009f5d6aac478a",
   "notebook_path": "LinkedIn/LinkedIn_Get_company_info.ipynb"
  },
  "papermill": {
   "default_parameters": {},
   "environment_variables": {},
   "parameters": {},
   "version": "2.3.3"
  }
 },
 "nbformat": 4,
 "nbformat_minor": 5
}