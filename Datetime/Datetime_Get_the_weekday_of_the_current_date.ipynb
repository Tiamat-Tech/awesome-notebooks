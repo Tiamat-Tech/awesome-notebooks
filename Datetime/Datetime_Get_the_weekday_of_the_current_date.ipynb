{
 "cells": [
  {
   "cell_type": "markdown",
   "id": "ba5d70cb-c122-4afb-950c-60ade4b4bd0d",
   "metadata": {
    "papermill": {},
    "tags": []
   },
   "source": [
    "<img width=\"8%\" alt=\"Datetime.png\" src=\"https://raw.githubusercontent.com/jupyter-naas/awesome-notebooks/master/.github/assets/logos/Datetime.png\" style=\"border-radius: 15%\">"
   ]
  },
  {
   "cell_type": "markdown",
   "id": "30770c4d-1409-4617-8355-e5f3e3e49507",
   "metadata": {
    "papermill": {},
    "tags": []
   },
   "source": [
    "# Datetime - Get the weekday of the current date\n",
    "<a href=\"https://bit.ly/3JyWIk6\">Give Feedback</a> | <a href=\"https://github.com/jupyter-naas/awesome-notebooks/issues/new?assignees=&labels=bug&template=bug_report.md&title=Datetime+-+Get+the+weekday+of+the+current+date:+Error+short+description\">Bug report</a>"
   ]
  },
  {
   "cell_type": "markdown",
   "id": "2711a1d6-a0fa-46bb-926c-98e01c8934b2",
   "metadata": {
    "papermill": {},
    "tags": []
   },
   "source": [
    "**Tags:** #datetime #weekday #python #library #get #date"
   ]
  },
  {
   "cell_type": "markdown",
   "id": "2ecbe1d1-555b-4f4b-9627-9df66293215d",
   "metadata": {
    "papermill": {},
    "tags": []
   },
   "source": [
    "**Author:** [Florent Ravenel](https://www.linkedin.com/in/florent-ravenel/)"
   ]
  },
  {
   "cell_type": "markdown",
   "id": "5a131a06-905c-4908-89d6-4f99e0facefb",
   "metadata": {
    "papermill": {},
    "tags": []
   },
   "source": [
    "**Last update:** 2023-11-16 (Created: 2023-11-16)"
   ]
  },
  {
   "cell_type": "markdown",
   "id": "6f4bdcc0-73c9-41c6-92a4-b9ae4dc8a6a7",
   "metadata": {
    "papermill": {},
    "tags": []
   },
   "source": [
    "**Description:** This notebook will get the weekday of the current date: Monday is 0 and Sunday is 6."
   ]
  },
  {
   "cell_type": "markdown",
   "id": "2a20ce27-51ab-4740-b675-a8b7bc6ce940",
   "metadata": {
    "papermill": {},
    "tags": []
   },
   "source": [
    "**References:**\n",
    "- [Python datetime library](https://docs.python.org/3/library/datetime.html)\n",
    "- [Python datetime strftime](https://docs.python.org/3/library/datetime.html#strftime-and-strptime-behavior)"
   ]
  },
  {
   "cell_type": "markdown",
   "id": "fa66c200-d713-40c2-a892-aa5d97a33d0e",
   "metadata": {
    "papermill": {},
    "tags": []
   },
   "source": [
    "## Input"
   ]
  },
  {
   "cell_type": "markdown",
   "id": "da57113a-ada5-4807-a186-1a0f4a5a6317",
   "metadata": {
    "papermill": {},
    "tags": []
   },
   "source": [
    "### Import libraries"
   ]
  },
  {
   "cell_type": "code",
   "execution_count": null,
   "id": "ac6f3ca0-ba55-4042-a57e-f9c486cdaf1f",
   "metadata": {
    "papermill": {},
    "tags": []
   },
   "outputs": [],
   "source": [
    "import datetime"
   ]
  },
  {
   "cell_type": "markdown",
   "id": "4fc2fd99-eb81-4b8c-8a4b-cd38e20a0448",
   "metadata": {
    "papermill": {},
    "tags": []
   },
   "source": [
    "### Setup variables\n",
    "- `today`: date to get the weekday from"
   ]
  },
  {
   "cell_type": "code",
   "execution_count": null,
   "id": "00a41e29-c8c0-42b3-a468-842e324d0ba0",
   "metadata": {
    "papermill": {},
    "tags": []
   },
   "outputs": [],
   "source": [
    "today = datetime.date.today()"
   ]
  },
  {
   "cell_type": "markdown",
   "id": "abbbe6bd-776e-4bcd-a5c8-f097a0d9dac7",
   "metadata": {
    "papermill": {},
    "tags": []
   },
   "source": [
    "## Model"
   ]
  },
  {
   "cell_type": "markdown",
   "id": "d7487c70-2a28-4f63-96f1-e7c96dbbdcda",
   "metadata": {
    "papermill": {},
    "tags": []
   },
   "source": [
    "### Get weekday"
   ]
  },
  {
   "cell_type": "code",
   "execution_count": null,
   "id": "0d938307-fd6c-41f7-bca6-a744a800bd6d",
   "metadata": {
    "papermill": {},
    "tags": []
   },
   "outputs": [],
   "source": [
    "weekday = today.weekday()"
   ]
  },
  {
   "cell_type": "markdown",
   "id": "8c1c7cec-a0c0-4b90-a13e-8e626b947338",
   "metadata": {
    "papermill": {},
    "tags": []
   },
   "source": [
    "## Output"
   ]
  },
  {
   "cell_type": "markdown",
   "id": "24614835-8efb-47c7-8919-9343bd09e0c1",
   "metadata": {
    "papermill": {},
    "tags": []
   },
   "source": [
    "### Display result"
   ]
  },
  {
   "cell_type": "code",
   "execution_count": null,
   "id": "ac178310-9086-4d14-be92-ae932607e480",
   "metadata": {
    "papermill": {},
    "tags": []
   },
   "outputs": [],
   "source": [
    "print(f\"The weekday of {today} is {today.strftime('%A')} ({weekday})\")"
   ]
  },
  {
   "cell_type": "markdown",
   "id": "629ad9a6-b8ea-41f3-b340-e85b62bd7b3c",
   "metadata": {
    "papermill": {},
    "tags": []
   },
   "source": [
    " "
   ]
  }
 ],
 "metadata": {
  "kernelspec": {
   "display_name": "Python 3",
   "language": "python",
   "name": "python3"
  },
  "language_info": {
   "codemirror_mode": {
    "name": "ipython",
    "version": 3
   },
   "file_extension": ".py",
   "mimetype": "text/x-python",
   "name": "python",
   "nbconvert_exporter": "python",
   "pygments_lexer": "ipython3",
   "version": "3.9.6"
  },
  "naas": {
   "notebook_id": "052c45aa3e2521bc1c3018ca599d1c9b05833d7b8b78874a613b3953d24f308c",
   "notebook_path": "Datetime/Datetime_Get_the_weekday_of_the_current_date.ipynb"
  },
  "papermill": {
   "default_parameters": {},
   "environment_variables": {},
   "parameters": {},
   "version": "2.5.0"
  },
  "widgets": {
   "application/vnd.jupyter.widget-state+json": {
    "state": {},
    "version_major": 2,
    "version_minor": 0
   }
  }
 },
 "nbformat": 4,
 "nbformat_minor": 5
}