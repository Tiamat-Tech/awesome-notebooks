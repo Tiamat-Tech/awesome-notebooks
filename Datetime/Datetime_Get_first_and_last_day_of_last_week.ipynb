{
 "cells": [
  {
   "cell_type": "markdown",
   "id": "3c388aca-cad0-4880-a8a0-c0f5a67343f0",
   "metadata": {
    "papermill": {},
    "tags": []
   },
   "source": [
    "<img width=\"8%\" alt=\"Datetime.png\" src=\"https://raw.githubusercontent.com/jupyter-naas/awesome-notebooks/master/.github/assets/logos/Datetime.png\" style=\"border-radius: 15%\">"
   ]
  },
  {
   "cell_type": "markdown",
   "id": "91ac1f47-72ea-4801-a904-96723274c53b",
   "metadata": {
    "papermill": {},
    "tags": []
   },
   "source": [
    "# Datetime - Get first and last day of last week\n",
    "<a href=\"https://bit.ly/3JyWIk6\">Give Feedback</a> | <a href=\"https://github.com/jupyter-naas/awesome-notebooks/issues/new?assignees=&labels=bug&template=bug_report.md&title=Datetime+-+Get+first+and+last+day+of+last+week:+Error+short+description\">Bug report</a>"
   ]
  },
  {
   "cell_type": "markdown",
   "id": "dee9314f-4e41-419a-bf98-2cbf574761a9",
   "metadata": {
    "papermill": {},
    "tags": []
   },
   "source": [
    "**Tags:** #datetime #python #lastweek #date #day #week"
   ]
  },
  {
   "cell_type": "markdown",
   "id": "89ffacdc-f8cd-41ab-b825-962c0daff13f",
   "metadata": {
    "papermill": {},
    "tags": []
   },
   "source": [
    "**Author:** [Florent Ravenel](https://www.linkedin.com/in/florent-ravenel/)"
   ]
  },
  {
   "cell_type": "markdown",
   "id": "6775db02-cf20-4550-a9a7-68e569474519",
   "metadata": {
    "papermill": {},
    "tags": []
   },
   "source": [
    "**Last update:** 2023-11-16 (Created: 2023-11-16)"
   ]
  },
  {
   "cell_type": "markdown",
   "id": "ea40f862-6ada-4d24-9b16-f4e068792e40",
   "metadata": {
    "papermill": {},
    "tags": []
   },
   "source": [
    "**Description:** This notebook shows how to get the first and last day of the last week using Python."
   ]
  },
  {
   "cell_type": "markdown",
   "id": "7645c6ee-1b83-468d-b03d-e3b790fa97be",
   "metadata": {
    "papermill": {},
    "tags": []
   },
   "source": [
    "**References:**\n",
    "- [Python datetime](https://docs.python.org/3/library/datetime.html)\n",
    "- [Python timedelta](https://docs.python.org/3/library/datetime.html#timedelta-objects)"
   ]
  },
  {
   "cell_type": "markdown",
   "id": "a5b49eba-cae6-46fb-b9a2-3e514433e1bd",
   "metadata": {
    "papermill": {},
    "tags": []
   },
   "source": [
    "## Input"
   ]
  },
  {
   "cell_type": "markdown",
   "id": "ec39224c-22e0-4535-b3b5-2e3ccaecf079",
   "metadata": {
    "papermill": {},
    "tags": []
   },
   "source": [
    "### Import libraries"
   ]
  },
  {
   "cell_type": "code",
   "execution_count": 1,
   "id": "b003670f-1fe7-4e8b-9618-09a738d70f8e",
   "metadata": {
    "papermill": {},
    "tags": []
   },
   "outputs": [],
   "source": [
    "import datetime"
   ]
  },
  {
   "cell_type": "markdown",
   "id": "72573650-3124-4381-bd3d-01439d098c47",
   "metadata": {
    "papermill": {},
    "tags": []
   },
   "source": [
    "### Setup variables\n",
    "- `today`: today's date"
   ]
  },
  {
   "cell_type": "code",
   "execution_count": 2,
   "id": "0e26dd71-00bb-468d-8ca5-2aeaab55f918",
   "metadata": {
    "papermill": {},
    "tags": []
   },
   "outputs": [],
   "source": [
    "today = datetime.date.today()"
   ]
  },
  {
   "cell_type": "markdown",
   "id": "c0ca2b51-9592-4130-962e-9ed46fe2ba54",
   "metadata": {
    "papermill": {},
    "tags": []
   },
   "source": [
    "## Model"
   ]
  },
  {
   "cell_type": "markdown",
   "id": "d9491d97-f06c-4301-8055-0856da75c328",
   "metadata": {
    "papermill": {},
    "tags": []
   },
   "source": [
    "### Get first and last day of last week"
   ]
  },
  {
   "cell_type": "code",
   "execution_count": 3,
   "id": "b48bb11a-c286-4d24-991d-269e1aba5f80",
   "metadata": {
    "papermill": {},
    "tags": []
   },
   "outputs": [],
   "source": [
    "# Get the first day of the last week\n",
    "first_day_last_week = today - datetime.timedelta(days=today.weekday(), weeks=1)\n",
    "# Get the last day of the last week\n",
    "last_day_last_week = today - datetime.timedelta(days=today.weekday() + 1)"
   ]
  },
  {
   "cell_type": "markdown",
   "id": "e978ae58-bc6d-412d-9297-46c9c31c2700",
   "metadata": {
    "papermill": {},
    "tags": []
   },
   "source": [
    "## Output"
   ]
  },
  {
   "cell_type": "markdown",
   "id": "28e5855c-c620-481b-81cd-a71b7ff73ac8",
   "metadata": {
    "papermill": {},
    "tags": []
   },
   "source": [
    "### Display result"
   ]
  },
  {
   "cell_type": "code",
   "execution_count": 4,
   "id": "25906172-bb6d-4dca-8fa3-ae083b0ca24f",
   "metadata": {
    "papermill": {},
    "tags": []
   },
   "outputs": [],
   "source": [
    "print(f\"First day of last week: {first_day_last_week}\")\n",
    "print(f\"Last day of last week: {last_day_last_week}\")"
   ]
  },
  {
   "cell_type": "markdown",
   "id": "dba46a88-c269-4d1d-ba1d-24767ce7307e",
   "metadata": {
    "papermill": {},
    "tags": []
   },
   "source": [
    " "
   ]
  }
 ],
 "metadata": {
  "kernelspec": {
   "display_name": "Python 3",
   "language": "python",
   "name": "python3"
  },
  "language_info": {
   "codemirror_mode": {
    "name": "ipython",
    "version": 3
   },
   "file_extension": ".py",
   "mimetype": "text/x-python",
   "name": "python",
   "nbconvert_exporter": "python",
   "pygments_lexer": "ipython3",
   "version": "3.9.6"
  },
  "naas": {
   "notebook_id": "7399811e9fe900db8306eb87561ad09513fa80c72a7c230c2438d572f1e5c844",
   "notebook_path": "Datetime/Datetime_Get_first_and_last_day_of_last_week.ipynb"
  },
  "papermill": {
   "default_parameters": {},
   "environment_variables": {},
   "parameters": {},
   "version": "2.5.0"
  },
  "widgets": {
   "application/vnd.jupyter.widget-state+json": {
    "state": {},
    "version_major": 2,
    "version_minor": 0
   }
  }
 },
 "nbformat": 4,
 "nbformat_minor": 5
}