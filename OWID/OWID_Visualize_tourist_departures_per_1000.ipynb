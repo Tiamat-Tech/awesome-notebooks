{
 "cells": [
  {
   "cell_type": "markdown",
   "id": "b1d69ab6",
   "metadata": {
    "papermill": {},
    "tags": []
   },
   "source": [
    "<img width=\"8%\" alt=\"OWID.png\" src=\"https://raw.githubusercontent.com/jupyter-naas/awesome-notebooks/master/.github/assets/logos/OWID.png\" style=\"border-radius: 15%\">"
   ]
  },
  {
   "cell_type": "markdown",
   "id": "267d5bbf",
   "metadata": {
    "papermill": {},
    "tags": []
   },
   "source": [
    "# OWID - Tourist depature per 1000\n",
    "<a href=\"https://bit.ly/3JyWIk6\">Give Feedback</a> | <a href=\"https://github.com/jupyter-naas/awesome-notebooks/issues/new?assignees=&labels=bug&template=bug_report.md&title=OWID+-+Tourist+depature+per+1000:+Error+short+description\">Bug report</a>"
   ]
  },
  {
   "cell_type": "markdown",
   "id": "5231f49b",
   "metadata": {
    "papermill": {},
    "tags": []
   },
   "source": [
    "**Tags:** #dash #dashboard #plotly #naas #asset #analytics #dropdown #callback #bootstrap #snippet"
   ]
  },
  {
   "cell_type": "markdown",
   "id": "8b9eabab",
   "metadata": {
    "papermill": {},
    "tags": []
   },
   "source": [
    "**Author:** [Zihui Ouyang](https://www.linkedin.com/in/zihui-ouyang-539626227/)"
   ]
  },
  {
   "cell_type": "markdown",
   "id": "acb27e96-54ec-49d8-8eb8-e8d94dd9ef94",
   "metadata": {
    "papermill": {},
    "tags": []
   },
   "source": [
    "**Last update:** 2023-07-31 (Created: 2023-07-31)"
   ]
  },
  {
   "cell_type": "markdown",
   "id": "ab610df3",
   "metadata": {
    "papermill": {},
    "tags": []
   },
   "source": [
    "**Description:** This notebook creates an interactive plot using Dash app infrastructure with OWID's tourist departures per 1000 data."
   ]
  },
  {
   "cell_type": "markdown",
   "id": "37a304c0",
   "metadata": {
    "papermill": {},
    "tags": []
   },
   "source": [
    "**References:**\n",
    "- https://github.com/owid/owid-datasets/tree/master/datasets/Number%20of%20tourist%20departures%20per%201000%20-%20World%20Bank%20%26%20UN%20(2019)\n",
    "- https://stackoverflow.com/questions/70886359/dash-python-making-subplots-when-multiple-parameters-are-selected\n",
    "- https://dash-example-index.herokuapp.com/line-charts"
   ]
  },
  {
   "cell_type": "markdown",
   "id": "af4fbd09",
   "metadata": {
    "papermill": {},
    "tags": []
   },
   "source": [
    "## Input"
   ]
  },
  {
   "cell_type": "markdown",
   "id": "b3dc6237-bf4b-42e6-b937-18ab7e81d64b",
   "metadata": {
    "papermill": {},
    "tags": []
   },
   "source": [
    "### Import libraries"
   ]
  },
  {
   "cell_type": "code",
   "execution_count": null,
   "id": "0649176e",
   "metadata": {
    "papermill": {},
    "tags": []
   },
   "outputs": [],
   "source": [
    "try:\n",
    "    import dash\n",
    "    import os\n",
    "except:\n",
    "    !pip install dash --user\n",
    "    import dash\n",
    "try:\n",
    "    import dash_bootstrap_components as dbc\n",
    "except:\n",
    "    !pip install dash_bootstrap_components --user\n",
    "    import dash_bootstrap_components as dbc\n",
    "import pandas as pd\n",
    "import numpy as np\n",
    "from dash import Dash, html, dcc, callback, Output, Input\n",
    "import plotly.express as px"
   ]
  },
  {
   "cell_type": "markdown",
   "id": "cabe4219",
   "metadata": {
    "papermill": {},
    "tags": []
   },
   "source": [
    "### Setup variables\n",
    "- `DASH_PORT`: specify a port number for Dash\n",
    "- `url`: URL to get data from Excel\n",
    "- `title`: App title"
   ]
  },
  {
   "cell_type": "code",
   "execution_count": null,
   "id": "c9ffa9db",
   "metadata": {
    "papermill": {},
    "tags": []
   },
   "outputs": [],
   "source": [
    "DASH_PORT = 8050\n",
    "url = \"https://raw.githubusercontent.com/owid/owid-datasets/master/datasets/Number%20of%20tourist%20departures%20per%201000%20-%20World%20Bank%20%26%20UN%20(2019)/Number%20of%20tourist%20departures%20per%201000%20-%20World%20Bank%20%26%20UN%20(2019).csv\"\n",
    "title = \"Tourist departures per 1000\""
   ]
  },
  {
   "cell_type": "markdown",
   "id": "f2d0f398",
   "metadata": {
    "papermill": {},
    "tags": []
   },
   "source": [
    "## Model"
   ]
  },
  {
   "cell_type": "markdown",
   "id": "1f81b91e",
   "metadata": {
    "papermill": {},
    "tags": []
   },
   "source": [
    "### Initialize Dash app\n",
    "The `os.environ.get(\"JUPYTERHUB_USER\")` is used to access the environment variable `JUPYTERHUB_USER` already stored into your Naas Lab."
   ]
  },
  {
   "cell_type": "code",
   "execution_count": null,
   "id": "4d1f3df3",
   "metadata": {
    "papermill": {},
    "tags": []
   },
   "outputs": [],
   "source": [
    "app = dash.Dash(\n",
    "    title=title,\n",
    "    requests_pathname_prefix=f'/user/{os.environ.get(\"JUPYTERHUB_USER\")}/proxy/{DASH_PORT}/',\n",
    "    external_stylesheets=[dbc.themes.BOOTSTRAP],\n",
    "    meta_tags=[\n",
    "        {\"name\": \"viewport\", \"content\": \"width=device-width, initial-scale=1.0\"}\n",
    "    ],\n",
    ")\n",
    "\n",
    "#app = dash.Dash(title = \"Tourist departures per 1000\") if you are not in Naas"
   ]
  },
  {
   "cell_type": "markdown",
   "id": "7d73d825",
   "metadata": {
    "papermill": {},
    "tags": []
   },
   "source": [
    "### Get Data"
   ]
  },
  {
   "cell_type": "code",
   "execution_count": null,
   "id": "aad6eb74",
   "metadata": {
    "papermill": {},
    "tags": []
   },
   "outputs": [],
   "source": [
    "contents_df = pd.read_csv(url, header = 0) "
   ]
  },
  {
   "cell_type": "markdown",
   "id": "560e3784",
   "metadata": {
    "papermill": {},
    "tags": []
   },
   "source": [
    "### Create Dash app"
   ]
  },
  {
   "cell_type": "code",
   "execution_count": null,
   "id": "c2629798",
   "metadata": {
    "papermill": {},
    "tags": []
   },
   "outputs": [],
   "source": [
    "app = Dash(title = \"Tourist departures per 1000\")\n",
    "app.layout = html.Div(\n",
    "    [\n",
    "        html.H4(\"Tourist departures per 1000 up to 2017\"),\n",
    "        html.P(\"Select country\"),\n",
    "        dcc.Dropdown(\n",
    "            id=\"country\",\n",
    "            options= contents_df.Entity.unique(),\n",
    "            value=\"United States\"\n",
    "        ),\n",
    "        dcc.RangeSlider(id='slider', min=1995, max=2017, value=[1995, 2017],\n",
    "               marks={x: str(x) for x in [1995, 2000, 2005, 2010, 2017]}),\n",
    "        dcc.Graph(id=\"Number of departures (per 1000 people)\", figure={}, style={'display': 'none'})\n",
    "    ]\n",
    ")\n",
    "\n",
    "@callback(\n",
    "    Output(\"Number of departures (per 1000 people)\", 'figure'),\n",
    "    Output(\"Number of departures (per 1000 people)\", 'style'),\n",
    "    Input('country', 'value'),\n",
    "    Input('slider', 'value')\n",
    ")\n",
    "\n",
    "def update_graph(country, year):\n",
    "    country_list = [country]\n",
    "    dff = (contents_df[\"Entity\"].isin(country_list)) & (contents_df[\"Year\"] <= year[1]) & (contents_df[\"Year\"] >= year[0])\n",
    "        \n",
    "    figures = px.line(contents_df[dff], x='Year', y=\"Number of departures (per 1000 people)\", markers = True).update_layout(\n",
    "                                plot_bgcolor='rgba(0, 0, 0, 0)', height= 600)\n",
    "    styles = {'display': 'block'}   \n",
    "    return figures, styles"
   ]
  },
  {
   "cell_type": "markdown",
   "id": "d43335ed",
   "metadata": {
    "papermill": {},
    "tags": []
   },
   "source": [
    "## Output"
   ]
  },
  {
   "cell_type": "markdown",
   "id": "4f1ab927",
   "metadata": {
    "papermill": {},
    "tags": []
   },
   "source": [
    "### Generate URL and show logs"
   ]
  },
  {
   "cell_type": "code",
   "execution_count": null,
   "id": "2cb37b0c",
   "metadata": {
    "papermill": {},
    "tags": []
   },
   "outputs": [],
   "source": [
    "if __name__ == \"__main__\":\n",
    "    app.run_server(proxy=f\"http://127.0.0.1:{DASH_PORT}::https://app.naas.ai\")"
   ]
  },
  {
   "cell_type": "code",
   "execution_count": null,
   "id": "8c8917e7-a31c-4934-b851-41ad402b502f",
   "metadata": {
    "papermill": {},
    "tags": []
   },
   "outputs": [],
   "source": []
  }
 ],
 "metadata": {
  "kernelspec": {
   "display_name": "Python 3",
   "language": "python",
   "name": "python3"
  },
  "language_info": {
   "codemirror_mode": {
    "name": "ipython",
    "version": 3
   },
   "file_extension": ".py",
   "mimetype": "text/x-python",
   "name": "python",
   "nbconvert_exporter": "python",
   "pygments_lexer": "ipython3",
   "version": "3.9.6"
  },
  "naas": {
   "notebook_id": "cdf2fb54787b4191d2516b1cc6e7000a531dfa63a2142118ccd6c91cf6435684",
   "notebook_path": "OWID/OWID_Visualize_tourist_departures_per_1000.ipynb"
  },
  "papermill": {
   "default_parameters": {},
   "environment_variables": {},
   "parameters": {},
   "version": "2.4.0"
  }
 },
 "nbformat": 4,
 "nbformat_minor": 5
}