{
 "cells": [
  {
   "cell_type": "markdown",
   "id": "28d10a4c-3c77-4088-9b67-db6e5f1ee7f0",
   "metadata": {},
   "source": [
    "<img width=\"8%\" alt=\"Naas API.png\" src=\"https://raw.githubusercontent.com/jupyter-naas/awesome-notebooks/master/.github/assets/logos/Naas%20API.png\" style=\"border-radius: 15%\">"
   ]
  },
  {
   "cell_type": "markdown",
   "id": "90cdfd58-d74b-4ec9-aea8-72fe64903f81",
   "metadata": {},
   "source": [
    "# Naas API - List Storage Objects\n",
    "<a href=\"https://bit.ly/3JyWIk6\">Give Feedback</a> | <a href=\"https://github.com/jupyter-naas/awesome-notebooks/issues/new?assignees=&labels=bug&template=bug_report.md&title=Naas+API+-+Update+Asset:+Error+short+description\">Bug report</a>"
   ]
  },
  {
   "cell_type": "markdown",
   "id": "9c897c82-4a8f-4f8c-8b00-dd66e496273b",
   "metadata": {
    "execution": {
     "iopub.execute_input": "2024-06-03T14:17:19.410802Z",
     "iopub.status.busy": "2024-06-03T14:17:19.410576Z",
     "iopub.status.idle": "2024-06-03T14:17:19.420684Z",
     "shell.execute_reply": "2024-06-03T14:17:19.419788Z",
     "shell.execute_reply.started": "2024-06-03T14:17:19.410779Z"
    }
   },
   "source": [
    "**Tags:** #naas #api #storage #list #object"
   ]
  },
  {
   "cell_type": "markdown",
   "id": "20e4f13f-d7c4-4acf-9c53-880545f0ce76",
   "metadata": {
    "execution": {
     "iopub.execute_input": "2024-06-03T14:17:27.697224Z",
     "iopub.status.busy": "2024-06-03T14:17:27.696997Z",
     "iopub.status.idle": "2024-06-03T14:17:27.705749Z",
     "shell.execute_reply": "2024-06-03T14:17:27.704763Z",
     "shell.execute_reply.started": "2024-06-03T14:17:27.697200Z"
    }
   },
   "source": [
    "**Author:** [Loic Laville](https://www.linkedin.com/in/loic-laville/)"
   ]
  },
  {
   "cell_type": "markdown",
   "id": "210c53e9",
   "metadata": {},
   "source": [
    "**Last update:** 2024-07-02 (Created: 2024-06-10)"
   ]
  },
  {
   "cell_type": "markdown",
   "id": "b3ed8dac",
   "metadata": {},
   "source": [
    "**Description:** This notebook demonstrates how to list objects inside your workspace storage."
   ]
  },
  {
   "cell_type": "markdown",
   "id": "0de8d719",
   "metadata": {},
   "source": [
    "## Input"
   ]
  },
  {
   "cell_type": "markdown",
   "id": "f9ae1bdf-49b2-4f53-9ae9-b396c4608e9d",
   "metadata": {
    "execution": {
     "iopub.execute_input": "2024-06-03T14:23:07.494752Z",
     "iopub.status.busy": "2024-06-03T14:23:07.494526Z",
     "iopub.status.idle": "2024-06-03T14:23:07.500018Z",
     "shell.execute_reply": "2024-06-03T14:23:07.497930Z",
     "shell.execute_reply.started": "2024-06-03T14:23:07.494728Z"
    }
   },
   "source": [
    "### Import libraries"
   ]
  },
  {
   "cell_type": "code",
   "execution_count": 13,
   "id": "32fa0149",
   "metadata": {},
   "outputs": [],
   "source": [
    "try:\n",
    "    import naas_python\n",
    "except:\n",
    "    %pip install naas-python --user\n",
    "    import naas_python"
   ]
  },
  {
   "cell_type": "markdown",
   "id": "245593c8",
   "metadata": {},
   "source": [
    "### Setup variables"
   ]
  },
  {
   "cell_type": "markdown",
   "id": "a0c5268d-a14d-42c5-bf93-722f6302cc0a",
   "metadata": {},
   "source": [
    "Required :\n",
    "* `workspace_id` : User Workspace ID\n",
    "* `storage_name` : User Storage\n",
    "* `storage_prefix`: The directory to list"
   ]
  },
  {
   "cell_type": "code",
   "execution_count": 14,
   "id": "97463fa6-6044-4e69-b4ea-59fc0b243dbd",
   "metadata": {
    "tags": []
   },
   "outputs": [],
   "source": [
    "# Required\n",
    "\n",
    "workspace_id = \"39e3601a-6f8e-412e-9bd7-1ae772bdc10b\"\n",
    "storage_name = \"abi\"\n",
    "storage_prefix = \"datalake\""
   ]
  },
  {
   "cell_type": "markdown",
   "id": "627f23e2",
   "metadata": {},
   "source": [
    "## Model"
   ]
  },
  {
   "cell_type": "markdown",
   "id": "482962ed",
   "metadata": {},
   "source": [
    "### List Storage Object"
   ]
  },
  {
   "cell_type": "code",
   "execution_count": 15,
   "id": "4856c7a5",
   "metadata": {},
   "outputs": [
    {
     "ename": "ServiceAuthenticationError",
     "evalue": "[ServiceAuthenticationError]: Unable to authenticate with the service. Please check your credentials and try again. Details: Not authenticated",
     "output_type": "error",
     "traceback": [
      "\u001b[1;31m---------------------------------------------------------------------------\u001b[0m",
      "\u001b[1;31mHTTPError\u001b[0m                                 Traceback (most recent call last)",
      "File \u001b[1;32m~\\AppData\\Roaming\\Python\\Python311\\site-packages\\naas_python\\utils\\domains_base\\secondary\\BaseAPIAdaptor.py:88\u001b[0m, in \u001b[0;36mBaseAPIAdaptor.make_api_request\u001b[1;34m(self, method, url, token, payload, headers)\u001b[0m\n\u001b[0;32m     87\u001b[0m api_response \u001b[38;5;241m=\u001b[39m method(url, data\u001b[38;5;241m=\u001b[39mpayload \u001b[38;5;28;01mif\u001b[39;00m \u001b[38;5;28mtype\u001b[39m(payload) \u001b[38;5;129;01mis\u001b[39;00m \u001b[38;5;28mstr\u001b[39m \u001b[38;5;28;01melse\u001b[39;00m json\u001b[38;5;241m.\u001b[39mdumps(payload), headers\u001b[38;5;241m=\u001b[39mheaders)\n\u001b[1;32m---> 88\u001b[0m api_response\u001b[38;5;241m.\u001b[39mraise_for_status()\n\u001b[0;32m     89\u001b[0m \u001b[38;5;28;01mreturn\u001b[39;00m api_response\n",
      "File \u001b[1;32mc:\\Users\\flore\\anaconda3\\Lib\\site-packages\\requests\\models.py:1021\u001b[0m, in \u001b[0;36mResponse.raise_for_status\u001b[1;34m(self)\u001b[0m\n\u001b[0;32m   1020\u001b[0m \u001b[38;5;28;01mif\u001b[39;00m http_error_msg:\n\u001b[1;32m-> 1021\u001b[0m     \u001b[38;5;28;01mraise\u001b[39;00m HTTPError(http_error_msg, response\u001b[38;5;241m=\u001b[39m\u001b[38;5;28mself\u001b[39m)\n",
      "\u001b[1;31mHTTPError\u001b[0m: 401 Client Error: Unauthorized for url: https://api.naas.ai/workspace/39e3601a-6f8e-412e-9bd7-1ae772bdc10b/storage/abi/?prefix=datalake",
      "\nDuring handling of the above exception, another exception occurred:\n",
      "\u001b[1;31mServiceAuthenticationError\u001b[0m                Traceback (most recent call last)",
      "Cell \u001b[1;32mIn[15], line 1\u001b[0m\n\u001b[1;32m----> 1\u001b[0m objects \u001b[38;5;241m=\u001b[39m naas_python\u001b[38;5;241m.\u001b[39mstorage\u001b[38;5;241m.\u001b[39mlist_workspace_storage_object(\n\u001b[0;32m      2\u001b[0m     workspace_id\u001b[38;5;241m=\u001b[39mworkspace_id,\n\u001b[0;32m      3\u001b[0m     storage_name\u001b[38;5;241m=\u001b[39mstorage_name,\n\u001b[0;32m      4\u001b[0m     storage_prefix\u001b[38;5;241m=\u001b[39mstorage_prefix,\n\u001b[0;32m      5\u001b[0m )\n\u001b[0;32m      6\u001b[0m objects\n",
      "File \u001b[1;32m~\\AppData\\Roaming\\Python\\Python311\\site-packages\\naas_python\\domains\\storage\\adaptors\\primary\\SDKStorageAdaptor.py:49\u001b[0m, in \u001b[0;36mSDKStorageAdaptor.list_workspace_storage_object\u001b[1;34m(self, workspace_id, storage_name, storage_prefix)\u001b[0m\n\u001b[0;32m     44\u001b[0m \u001b[38;5;28;01mdef\u001b[39;00m \u001b[38;5;21mlist_workspace_storage_object\u001b[39m(\u001b[38;5;28mself\u001b[39m, \n\u001b[0;32m     45\u001b[0m     workspace_id: \u001b[38;5;28mstr\u001b[39m \u001b[38;5;241m=\u001b[39m \u001b[38;5;124m\"\u001b[39m\u001b[38;5;124m\"\u001b[39m, \n\u001b[0;32m     46\u001b[0m     storage_name: \u001b[38;5;28mstr\u001b[39m \u001b[38;5;241m=\u001b[39m \u001b[38;5;124m\"\u001b[39m\u001b[38;5;124m\"\u001b[39m, \n\u001b[0;32m     47\u001b[0m     storage_prefix: \u001b[38;5;28mstr\u001b[39m \u001b[38;5;241m=\u001b[39m \u001b[38;5;124m\"\u001b[39m\u001b[38;5;124m\"\u001b[39m) \u001b[38;5;241m-\u001b[39m\u001b[38;5;241m>\u001b[39m \u001b[38;5;28mstr\u001b[39m:\n\u001b[1;32m---> 49\u001b[0m     response \u001b[38;5;241m=\u001b[39m \u001b[38;5;28mself\u001b[39m\u001b[38;5;241m.\u001b[39mdomain\u001b[38;5;241m.\u001b[39mlist_workspace_storage_object(\n\u001b[0;32m     50\u001b[0m             workspace_id\u001b[38;5;241m=\u001b[39mworkspace_id,\n\u001b[0;32m     51\u001b[0m             storage_name\u001b[38;5;241m=\u001b[39mstorage_name,\n\u001b[0;32m     52\u001b[0m             storage_prefix\u001b[38;5;241m=\u001b[39mstorage_prefix,\n\u001b[0;32m     53\u001b[0m         )\n\u001b[0;32m     54\u001b[0m     \u001b[38;5;28;01mreturn\u001b[39;00m response\n",
      "File \u001b[1;32m~\\AppData\\Roaming\\Python\\Python311\\site-packages\\naas_python\\domains\\storage\\StorageDomain.py:54\u001b[0m, in \u001b[0;36mStorageDomain.list_workspace_storage_object\u001b[1;34m(self, workspace_id, storage_name, storage_prefix)\u001b[0m\n\u001b[0;32m     49\u001b[0m \u001b[38;5;28;01mdef\u001b[39;00m \u001b[38;5;21mlist_workspace_storage_object\u001b[39m(\u001b[38;5;28mself\u001b[39m, \n\u001b[0;32m     50\u001b[0m     workspace_id: \u001b[38;5;28mstr\u001b[39m, \n\u001b[0;32m     51\u001b[0m     storage_name: Storage\u001b[38;5;241m.\u001b[39m__fields__[\u001b[38;5;124m'\u001b[39m\u001b[38;5;124mname\u001b[39m\u001b[38;5;124m'\u001b[39m],\n\u001b[0;32m     52\u001b[0m     storage_prefix: Object\u001b[38;5;241m.\u001b[39m__fields__[\u001b[38;5;124m'\u001b[39m\u001b[38;5;124mprefix\u001b[39m\u001b[38;5;124m'\u001b[39m],\n\u001b[0;32m     53\u001b[0m ) \u001b[38;5;241m-\u001b[39m\u001b[38;5;241m>\u001b[39m \u001b[38;5;28mdict\u001b[39m:\n\u001b[1;32m---> 54\u001b[0m     response \u001b[38;5;241m=\u001b[39m \u001b[38;5;28mself\u001b[39m\u001b[38;5;241m.\u001b[39madaptor\u001b[38;5;241m.\u001b[39mlist_workspace_storage_object(\n\u001b[0;32m     55\u001b[0m         workspace_id\u001b[38;5;241m=\u001b[39mworkspace_id,\n\u001b[0;32m     56\u001b[0m         storage_name\u001b[38;5;241m=\u001b[39mstorage_name,\n\u001b[0;32m     57\u001b[0m         storage_prefix\u001b[38;5;241m=\u001b[39mstorage_prefix,\n\u001b[0;32m     58\u001b[0m     )\n\u001b[0;32m     59\u001b[0m     \u001b[38;5;28;01mreturn\u001b[39;00m response\n",
      "File \u001b[1;32m~\\AppData\\Roaming\\Python\\Python311\\site-packages\\naas_python\\utils\\domains_base\\secondary\\BaseAPIAdaptor.py:63\u001b[0m, in \u001b[0;36mBaseAPIAdaptor.service_status_decorator.<locals>.wrapper\u001b[1;34m(self, *args, **kwargs)\u001b[0m\n\u001b[0;32m     61\u001b[0m \u001b[38;5;28;01mdef\u001b[39;00m \u001b[38;5;21mwrapper\u001b[39m(\u001b[38;5;28mself\u001b[39m, \u001b[38;5;241m*\u001b[39margs, \u001b[38;5;241m*\u001b[39m\u001b[38;5;241m*\u001b[39mkwargs):\n\u001b[0;32m     62\u001b[0m     \u001b[38;5;28mself\u001b[39m\u001b[38;5;241m.\u001b[39m_check_service_status()\n\u001b[1;32m---> 63\u001b[0m     \u001b[38;5;28;01mreturn\u001b[39;00m func(\u001b[38;5;28mself\u001b[39m, \u001b[38;5;241m*\u001b[39margs, \u001b[38;5;241m*\u001b[39m\u001b[38;5;241m*\u001b[39mkwargs)\n",
      "File \u001b[1;32m~\\AppData\\Roaming\\Python\\Python311\\site-packages\\naas_python\\domains\\storage\\adaptors\\secondary\\NaasStorageAPIAdaptor.py:86\u001b[0m, in \u001b[0;36mNaasStorageAPIAdaptor.list_workspace_storage_object\u001b[1;34m(self, workspace_id, storage_name, storage_prefix)\u001b[0m\n\u001b[0;32m     78\u001b[0m \u001b[38;5;129m@BaseAPIAdaptor\u001b[39m\u001b[38;5;241m.\u001b[39mservice_status_decorator\n\u001b[0;32m     79\u001b[0m \u001b[38;5;28;01mdef\u001b[39;00m \u001b[38;5;21mlist_workspace_storage_object\u001b[39m(\u001b[38;5;28mself\u001b[39m, \n\u001b[0;32m     80\u001b[0m     workspace_id: \u001b[38;5;28mstr\u001b[39m, \n\u001b[0;32m     81\u001b[0m     storage_name: \u001b[38;5;28mstr\u001b[39m,\n\u001b[0;32m     82\u001b[0m     storage_prefix: \u001b[38;5;28mstr\u001b[39m,\n\u001b[0;32m     83\u001b[0m ) \u001b[38;5;241m-\u001b[39m\u001b[38;5;241m>\u001b[39m \u001b[38;5;28mdict\u001b[39m:\n\u001b[0;32m     84\u001b[0m     _url \u001b[38;5;241m=\u001b[39m \u001b[38;5;124mf\u001b[39m\u001b[38;5;124m\"\u001b[39m\u001b[38;5;132;01m{\u001b[39;00m\u001b[38;5;28mself\u001b[39m\u001b[38;5;241m.\u001b[39mhost\u001b[38;5;132;01m}\u001b[39;00m\u001b[38;5;124m/workspace/\u001b[39m\u001b[38;5;132;01m{\u001b[39;00mworkspace_id\u001b[38;5;132;01m}\u001b[39;00m\u001b[38;5;124m/storage/\u001b[39m\u001b[38;5;132;01m{\u001b[39;00mstorage_name\u001b[38;5;132;01m}\u001b[39;00m\u001b[38;5;124m?prefix=\u001b[39m\u001b[38;5;132;01m{\u001b[39;00mstorage_prefix\u001b[38;5;132;01m}\u001b[39;00m\u001b[38;5;124m\"\u001b[39m\n\u001b[1;32m---> 86\u001b[0m     api_response \u001b[38;5;241m=\u001b[39m \u001b[38;5;28mself\u001b[39m\u001b[38;5;241m.\u001b[39mmake_api_request(\n\u001b[0;32m     87\u001b[0m         requests\u001b[38;5;241m.\u001b[39mget,\n\u001b[0;32m     88\u001b[0m         _url,\n\u001b[0;32m     89\u001b[0m     )\n\u001b[0;32m     90\u001b[0m     \u001b[38;5;28;01mreturn\u001b[39;00m \u001b[38;5;28mself\u001b[39m\u001b[38;5;241m.\u001b[39m__handle_response(api_response)\n",
      "File \u001b[1;32m~\\AppData\\Roaming\\Python\\Python311\\site-packages\\naas_python\\utils\\domains_base\\secondary\\BaseAPIAdaptor.py:101\u001b[0m, in \u001b[0;36mBaseAPIAdaptor.make_api_request\u001b[1;34m(self, method, url, token, payload, headers)\u001b[0m\n\u001b[0;32m     99\u001b[0m     \u001b[38;5;28;01melse\u001b[39;00m:\n\u001b[0;32m    100\u001b[0m         _message \u001b[38;5;241m=\u001b[39m \u001b[38;5;124m\"\u001b[39m\u001b[38;5;124mUnauthorized\u001b[39m\u001b[38;5;124m\"\u001b[39m\n\u001b[1;32m--> 101\u001b[0m     \u001b[38;5;28;01mraise\u001b[39;00m ServiceAuthenticationError(\n\u001b[0;32m    102\u001b[0m         \u001b[38;5;124mf\u001b[39m\u001b[38;5;124m\"\u001b[39m\u001b[38;5;124mUnable to authenticate with the service. Please check your credentials and try again. Details: \u001b[39m\u001b[38;5;132;01m{\u001b[39;00m_message\u001b[38;5;132;01m}\u001b[39;00m\u001b[38;5;124m\"\u001b[39m,\n\u001b[0;32m    103\u001b[0m         e,\n\u001b[0;32m    104\u001b[0m     )\n\u001b[0;32m    105\u001b[0m \u001b[38;5;28;01melif\u001b[39;00m api_response\u001b[38;5;241m.\u001b[39mstatus_code \u001b[38;5;241m==\u001b[39m \u001b[38;5;241m500\u001b[39m:\n\u001b[0;32m    106\u001b[0m     _message \u001b[38;5;241m=\u001b[39m \u001b[38;5;124m\"\u001b[39m\u001b[38;5;124m\"\u001b[39m\n",
      "\u001b[1;31mServiceAuthenticationError\u001b[0m: [ServiceAuthenticationError]: Unable to authenticate with the service. Please check your credentials and try again. Details: Not authenticated"
     ]
    }
   ],
   "source": [
    "objects = naas_python.storage.list_workspace_storage_object(\n",
    "    workspace_id=workspace_id,\n",
    "    storage_name=storage_name,\n",
    "    storage_prefix=storage_prefix,\n",
    ")\n",
    "objects"
   ]
  },
  {
   "cell_type": "markdown",
   "id": "dcfa8e9c",
   "metadata": {},
   "source": [
    "## Output"
   ]
  },
  {
   "cell_type": "markdown",
   "id": "0de0bf16",
   "metadata": {},
   "source": [
    "### Display result"
   ]
  },
  {
   "cell_type": "code",
   "execution_count": null,
   "id": "b47f4c6c",
   "metadata": {},
   "outputs": [],
   "source": [
    "objects"
   ]
  },
  {
   "cell_type": "markdown",
   "id": "1f97ea33",
   "metadata": {},
   "source": [
    "### CLI command"
   ]
  },
  {
   "cell_type": "markdown",
   "id": "41e2fbf0",
   "metadata": {},
   "source": [
    "```sh\n",
    "naas-python storage list-object --help\n",
    "```\n",
    "\n",
    "```sh\n",
    "naas-python storage list-object \\\n",
    "-w 81507a26-3644-496c-a379-4c7021434aa0 \\\n",
    "-s test-storage \\\n",
    "-p my-test-dir\n",
    "```"
   ]
  }
 ],
 "metadata": {
  "kernelspec": {
   "display_name": "Python 3",
   "language": "python",
   "name": "python3"
  },
  "language_info": {
   "codemirror_mode": {
    "name": "ipython",
    "version": 3
   },
   "file_extension": ".py",
   "mimetype": "text/x-python",
   "name": "python",
   "nbconvert_exporter": "python",
   "pygments_lexer": "ipython3",
   "version": "3.11.5"
  }
 },
 "nbformat": 4,
 "nbformat_minor": 5
}
