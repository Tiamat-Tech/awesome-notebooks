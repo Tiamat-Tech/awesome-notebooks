{
 "cells": [
  {
   "cell_type": "markdown",
   "id": "e1e0a7a1-fe9f-422e-a71f-4e5b2783b967",
   "metadata": {
    "papermill": {},
    "tags": []
   },
   "source": [
    "<img width=\"8%\" alt=\"Naas API.png\" src=\"https://raw.githubusercontent.com/jupyter-naas/awesome-notebooks/master/.github/assets/logos/Naas%20API.png\" style=\"border-radius: 15%\">"
   ]
  },
  {
   "cell_type": "markdown",
   "id": "3cb89a36-85dd-4683-ae7c-876a83c83aa7",
   "metadata": {
    "papermill": {},
    "tags": []
   },
   "source": [
    "# Naas API - Get Chat Messages\n",
    "<a href=\"https://bit.ly/3JyWIk6\">Give Feedback</a> | <a href=\"https://github.com/jupyter-naas/awesome-notebooks/issues/new?assignees=&labels=bug&template=bug_report.md&title=Naas+API+-+Get+Chat+Messages:+Error+short+description\">Bug report</a>"
   ]
  },
  {
   "cell_type": "markdown",
   "id": "9ad99017-3535-4b30-8e5d-017d3eaf3b99",
   "metadata": {
    "papermill": {},
    "tags": []
   },
   "source": [
    "**Tags:** #naas #chat #api #get #messages #snippet"
   ]
  },
  {
   "cell_type": "markdown",
   "id": "4041d80e-c67b-41b2-8405-283d1b2f2ca3",
   "metadata": {
    "papermill": {},
    "tags": []
   },
   "source": [
    "**Author:** [Florent Ravenel](https://www.linkedin.com/in/florent-ravenel/)"
   ]
  },
  {
   "cell_type": "markdown",
   "id": "604b3803-76fc-40ca-9992-c9fc5b9777a8",
   "metadata": {
    "papermill": {},
    "tags": []
   },
   "source": [
    "**Last update:** 2024-02-29 (Created: 2024-02-29)"
   ]
  },
  {
   "cell_type": "markdown",
   "id": "5852095b-0cc1-466d-99a7-736b73f7a16b",
   "metadata": {
    "papermill": {},
    "tags": []
   },
   "source": [
    "**Description:** This notebook demonstrates how to get chat messages using the Naas Chat API."
   ]
  },
  {
   "cell_type": "markdown",
   "id": "436c8561-f6d1-4bfc-89e3-299c6228ba8f",
   "metadata": {
    "papermill": {},
    "tags": []
   },
   "source": [
    "**References:**\n",
    "- [Naas Chat API Documentation](https://api.naas.ai/redoc#tag/Chat-API/operation/get_chat_messages_chat__chat_id__message_get)\n",
    "- [Naas Official Website](https://naas.ai/)"
   ]
  },
  {
   "cell_type": "markdown",
   "id": "48c519dd-2d63-4a78-b5de-a181cd4bc3da",
   "metadata": {
    "papermill": {},
    "tags": []
   },
   "source": [
    "## Input"
   ]
  },
  {
   "cell_type": "markdown",
   "id": "f54a2311-a219-49a3-8c4e-7e81847d1fdc",
   "metadata": {
    "papermill": {},
    "tags": []
   },
   "source": [
    "### Import libraries"
   ]
  },
  {
   "cell_type": "code",
   "execution_count": null,
   "id": "bb961b57-51f1-48a1-bf43-90adf7444f4a",
   "metadata": {
    "papermill": {},
    "tags": []
   },
   "outputs": [],
   "source": [
    "import requests\n",
    "import naas"
   ]
  },
  {
   "cell_type": "markdown",
   "id": "0a9dc7c7-2e0a-4573-8311-4591150f3501",
   "metadata": {
    "papermill": {},
    "tags": []
   },
   "source": [
    "### Setup variables\n",
    "- `api_key`: Naas API key.\n",
    "- `chat_id`: Chat name."
   ]
  },
  {
   "cell_type": "code",
   "execution_count": null,
   "id": "ab69f35a-d34c-464d-a4f1-b53cdc1bae9c",
   "metadata": {
    "papermill": {},
    "tags": []
   },
   "outputs": [],
   "source": [
    "api_key = naas.secret.get('NAAS_API_TOKEN')\n",
    "chat_id = 8186"
   ]
  },
  {
   "cell_type": "markdown",
   "id": "12a57027-9988-4513-9299-3b657ba410e0",
   "metadata": {
    "papermill": {},
    "tags": []
   },
   "source": [
    "## Model"
   ]
  },
  {
   "cell_type": "markdown",
   "id": "d44d5908-db17-4df1-87bd-781ee8e3eb84",
   "metadata": {
    "papermill": {},
    "tags": []
   },
   "source": [
    "### Get Chat Messages"
   ]
  },
  {
   "cell_type": "code",
   "execution_count": null,
   "id": "cee71b4f-868f-4e37-ae40-a28d8f316914",
   "metadata": {
    "papermill": {},
    "tags": []
   },
   "outputs": [],
   "source": [
    "def get_chat_messages(\n",
    "    api_key,\n",
    "    chat_id,\n",
    "):\n",
    "    url = f\"https://api.naas.ai/chat/{chat_id}/message\"\n",
    "    headers = {\n",
    "        \"Content-Type\": \"application/json\",\n",
    "        \"Authorization\": f\"Bearer {api_key}\"\n",
    "    }\n",
    "    response = requests.get(url, headers=headers)\n",
    "    return response.json()\n",
    "\n",
    "result = get_chat_messages(api_key, chat_id)\n",
    "print(result)"
   ]
  },
  {
   "cell_type": "markdown",
   "id": "18cf32ac-6cca-46c0-af62-383e2f2107f7",
   "metadata": {
    "papermill": {},
    "tags": []
   },
   "source": [
    "## Output"
   ]
  },
  {
   "cell_type": "markdown",
   "id": "1755cb46-bad0-44df-9905-08b9dfd96f9c",
   "metadata": {
    "papermill": {},
    "tags": []
   },
   "source": [
    "### Display result"
   ]
  },
  {
   "cell_type": "code",
   "execution_count": null,
   "id": "65a1e404-e999-482e-990a-f4a4ed7e69d6",
   "metadata": {
    "papermill": {},
    "tags": []
   },
   "outputs": [],
   "source": [
    "messages = result.get(\"messages\")\n",
    "print(\"Messages:\", len(messages))\n",
    "print()\n",
    "for message in messages:\n",
    "    m = messages.get(message)[0]\n",
    "    print(m.get('created_at'))\n",
    "    print(m.get('message'))\n",
    "    print()"
   ]
  },
  {
   "cell_type": "code",
   "execution_count": null,
   "id": "acb8e322-4437-4cbf-b051-a07efb0ff530",
   "metadata": {
    "papermill": {},
    "tags": []
   },
   "outputs": [],
   "source": []
  }
 ],
 "metadata": {
  "kernelspec": {
   "display_name": "Python 3",
   "language": "python",
   "name": "python3"
  },
  "language_info": {
   "codemirror_mode": {
    "name": "ipython",
    "version": 3
   },
   "file_extension": ".py",
   "mimetype": "text/x-python",
   "name": "python",
   "nbconvert_exporter": "python",
   "pygments_lexer": "ipython3",
   "version": "3.9.6"
  },
  "naas": {
   "notebook_id": "f6640002410f000c9e64687d8d97ba8d3f786b74ed40590142ce59bffc550134",
   "notebook_path": "Naas API/Naas_API_Get_Chat_Messages.ipynb"
  },
  "papermill": {
   "default_parameters": {},
   "environment_variables": {},
   "parameters": {},
   "version": "2.5.0"
  },
  "widgets": {
   "application/vnd.jupyter.widget-state+json": {
    "state": {},
    "version_major": 2,
    "version_minor": 0
   }
  }
 },
 "nbformat": 4,
 "nbformat_minor": 5
}