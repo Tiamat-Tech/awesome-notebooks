{
 "cells": [
  {
   "cell_type": "markdown",
   "id": "6627b3e6-5a15-4ce1-9358-4a98b1419795",
   "metadata": {
    "papermill": {},
    "tags": []
   },
   "source": [
    "<img width=\"8%\" alt=\"Naas API.png\" src=\"https://raw.githubusercontent.com/jupyter-naas/awesome-notebooks/master/.github/assets/logos/Naas%20API.png\" style=\"border-radius: 15%\">"
   ]
  },
  {
   "cell_type": "markdown",
   "id": "20763735-eac2-4f29-8d4f-a94946ea762e",
   "metadata": {
    "papermill": {},
    "tags": []
   },
   "source": [
    "# Naas API - List Chats\n",
    "<a href=\"https://bit.ly/3JyWIk6\">Give Feedback</a> | <a href=\"https://github.com/jupyter-naas/awesome-notebooks/issues/new?assignees=&labels=bug&template=bug_report.md&title=Naas+API+-+List+Chats:+Error+short+description\">Bug report</a>"
   ]
  },
  {
   "cell_type": "markdown",
   "id": "c6f0fe5f-5db6-41dd-89fa-ef4113a73e00",
   "metadata": {
    "papermill": {},
    "tags": []
   },
   "source": [
    "**Tags:** #naas #chat #api #list #snippet"
   ]
  },
  {
   "cell_type": "markdown",
   "id": "8dd1614c-debd-4323-b16e-0625dd3d7884",
   "metadata": {
    "papermill": {},
    "tags": []
   },
   "source": [
    "**Author:** [Florent Ravenel](https://www.linkedin.com/in/florent-ravenel/)"
   ]
  },
  {
   "cell_type": "markdown",
   "id": "53bde611-15c7-446c-81ce-2442c823c47b",
   "metadata": {
    "papermill": {},
    "tags": []
   },
   "source": [
    "**Last update:** 2024-02-29 (Created: 2024-02-29)"
   ]
  },
  {
   "cell_type": "markdown",
   "id": "adceb20b-5fc0-4a51-a39b-25da17e58874",
   "metadata": {
    "papermill": {},
    "tags": []
   },
   "source": [
    "**Description:** This notebook demonstrates how to list all your Naas chat using the Naas API."
   ]
  },
  {
   "cell_type": "markdown",
   "id": "16efbc8a-4e18-484c-9173-2fa8dad0d774",
   "metadata": {
    "papermill": {},
    "tags": []
   },
   "source": [
    "**References:**\n",
    "- [Naas API Documentation](https://api.naas.ai/redoc#tag/Chat-API/operation/)\n",
    "- [Naas Official Website](https://naas.ai/)"
   ]
  },
  {
   "cell_type": "markdown",
   "id": "1058ec08-f2ed-483a-bbf4-663deee6b7e2",
   "metadata": {
    "papermill": {},
    "tags": []
   },
   "source": [
    "## Input"
   ]
  },
  {
   "cell_type": "markdown",
   "id": "2f877bea-4bab-44df-929c-c943dd778e4c",
   "metadata": {
    "papermill": {},
    "tags": []
   },
   "source": [
    "### Import libraries"
   ]
  },
  {
   "cell_type": "code",
   "execution_count": null,
   "id": "b3e24479-5981-48b5-a41a-3b542d89d6d3",
   "metadata": {
    "papermill": {},
    "tags": []
   },
   "outputs": [],
   "source": [
    "import requests\n",
    "import naas"
   ]
  },
  {
   "cell_type": "markdown",
   "id": "dc0235d0-0df3-4de1-8231-8164a3292869",
   "metadata": {
    "papermill": {},
    "tags": []
   },
   "source": [
    "### Setup variables\n",
    "- `api_key`: Naas API key."
   ]
  },
  {
   "cell_type": "code",
   "execution_count": null,
   "id": "91304bb1-7b9c-459f-a889-6f26d5e7c6cc",
   "metadata": {
    "papermill": {},
    "tags": []
   },
   "outputs": [],
   "source": [
    "api_key = naas.secret.get('NAAS_API_TOKEN')"
   ]
  },
  {
   "cell_type": "markdown",
   "id": "838d4dc4-0e53-42d7-8ce8-9bedb8fb5bb0",
   "metadata": {
    "papermill": {},
    "tags": []
   },
   "source": [
    "## Model"
   ]
  },
  {
   "cell_type": "markdown",
   "id": "405c6510-a68c-4f55-ad0c-80bdcff0b216",
   "metadata": {
    "papermill": {},
    "tags": []
   },
   "source": [
    "### List Chats"
   ]
  },
  {
   "cell_type": "code",
   "execution_count": null,
   "id": "c4eb6895-7693-453b-a59b-09e114e565a8",
   "metadata": {
    "papermill": {},
    "tags": []
   },
   "outputs": [],
   "source": [
    "def list_chats(\n",
    "    api_key,\n",
    "):\n",
    "    url = f\"https://api.naas.ai/chat/\"\n",
    "    headers = {\n",
    "        \"Content-Type\": \"application/json\",\n",
    "        \"Authorization\": f\"Bearer {api_key}\"\n",
    "    }\n",
    "    response = requests.get(url, headers=headers)\n",
    "    return response.json()\n",
    "\n",
    "result = list_chats(api_key)\n",
    "print(result)"
   ]
  },
  {
   "cell_type": "markdown",
   "id": "50441b37-a89c-4fee-8cac-0317405ff007",
   "metadata": {
    "papermill": {},
    "tags": []
   },
   "source": [
    "## Output"
   ]
  },
  {
   "cell_type": "markdown",
   "id": "7a72c52c-2f6d-4acb-8579-3ea05fb16b87",
   "metadata": {
    "papermill": {},
    "tags": []
   },
   "source": [
    "### Display result"
   ]
  },
  {
   "cell_type": "code",
   "execution_count": null,
   "id": "bdf728fe-0ccb-44d2-87ef-4ac2e1e9b098",
   "metadata": {
    "papermill": {},
    "tags": []
   },
   "outputs": [],
   "source": [
    "result"
   ]
  },
  {
   "cell_type": "code",
   "execution_count": null,
   "id": "7162d4df-0c46-4ad1-80c4-a9f66bcf90c1",
   "metadata": {
    "papermill": {},
    "tags": []
   },
   "outputs": [],
   "source": []
  }
 ],
 "metadata": {
  "kernelspec": {
   "display_name": "Python 3",
   "language": "python",
   "name": "python3"
  },
  "language_info": {
   "codemirror_mode": {
    "name": "ipython",
    "version": 3
   },
   "file_extension": ".py",
   "mimetype": "text/x-python",
   "name": "python",
   "nbconvert_exporter": "python",
   "pygments_lexer": "ipython3",
   "version": "3.9.6"
  },
  "naas": {
   "notebook_id": "ff922bb33d951fe4f9cc47bd5b88ddf2059a953c6f2d9162880259e8c7730909",
   "notebook_path": "Naas API/Naas_API_List_Chats.ipynb"
  },
  "papermill": {
   "default_parameters": {},
   "environment_variables": {},
   "parameters": {},
   "version": "2.5.0"
  },
  "widgets": {
   "application/vnd.jupyter.widget-state+json": {
    "state": {},
    "version_major": 2,
    "version_minor": 0
   }
  }
 },
 "nbformat": 4,
 "nbformat_minor": 5
}