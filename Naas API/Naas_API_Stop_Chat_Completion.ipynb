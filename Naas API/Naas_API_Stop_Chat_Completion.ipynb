{
 "cells": [
  {
   "cell_type": "markdown",
   "id": "5502cc25-9315-46bf-871c-6b2f55e3f5ef",
   "metadata": {
    "papermill": {},
    "tags": []
   },
   "source": [
    "<img width=\"8%\" alt=\"Naas API.png\" src=\"https://raw.githubusercontent.com/jupyter-naas/awesome-notebooks/master/.github/assets/logos/Naas%20API.png\" style=\"border-radius: 15%\">"
   ]
  },
  {
   "cell_type": "markdown",
   "id": "1189ced5-6263-4fa2-a43b-0dea985bff70",
   "metadata": {
    "papermill": {},
    "tags": []
   },
   "source": [
    "# Naas API - Stop Chat Completion\n",
    "<a href=\"https://bit.ly/3JyWIk6\">Give Feedback</a> | <a href=\"https://github.com/jupyter-naas/awesome-notebooks/issues/new?assignees=&labels=bug&template=bug_report.md&title=Naas+API+-+Stop+Chat+Completion:+Error+short+description\">Bug report</a>"
   ]
  },
  {
   "cell_type": "markdown",
   "id": "2af0ebe9-4aa6-4c11-a278-45e80bdb9ddb",
   "metadata": {
    "papermill": {},
    "tags": []
   },
   "source": [
    "**Tags:** #naas #chat #api #stop #completion #snippet"
   ]
  },
  {
   "cell_type": "markdown",
   "id": "675c8def-01db-477e-96db-8a2c8566b27a",
   "metadata": {
    "papermill": {},
    "tags": []
   },
   "source": [
    "**Author:** [Florent Ravenel](https://www.linkedin.com/in/florent-ravenel/)"
   ]
  },
  {
   "cell_type": "markdown",
   "id": "92e1d042-a6f5-448f-a805-a6eb04572473",
   "metadata": {
    "papermill": {},
    "tags": []
   },
   "source": [
    "**Last update:** 2024-02-29 (Created: 2024-02-29)"
   ]
  },
  {
   "cell_type": "markdown",
   "id": "27a88216-df9d-49c4-8e38-f5533397d095",
   "metadata": {
    "papermill": {},
    "tags": []
   },
   "source": [
    "**Description:** This notebook demonstrates how to stop a chat completion using the Naas API."
   ]
  },
  {
   "cell_type": "markdown",
   "id": "35f45e85-f542-400b-9cb7-57f51a364e0d",
   "metadata": {
    "papermill": {},
    "tags": []
   },
   "source": [
    "**References:**\n",
    "- [Naas API Documentation](https://api.naas.ai/redoc#tag/Chat-API/operation/stop_completion_chat__id__completion_delete)\n",
    "- [Naas Official Website](https://naas.ai/)"
   ]
  },
  {
   "cell_type": "markdown",
   "id": "fc101467-1c06-4202-b4ca-7177100afa1e",
   "metadata": {
    "papermill": {},
    "tags": []
   },
   "source": [
    "## Input"
   ]
  },
  {
   "cell_type": "markdown",
   "id": "3d341a6e-7565-47c5-8414-cd8ae8140bb9",
   "metadata": {
    "papermill": {},
    "tags": []
   },
   "source": [
    "### Import libraries"
   ]
  },
  {
   "cell_type": "code",
   "execution_count": null,
   "id": "bbe757fc-a9f4-4c79-842b-db17fd824541",
   "metadata": {
    "papermill": {},
    "tags": []
   },
   "outputs": [],
   "source": [
    "import requests\n",
    "import naas"
   ]
  },
  {
   "cell_type": "markdown",
   "id": "1ed82d73-e5ca-45f8-b389-b39369b70b38",
   "metadata": {
    "papermill": {},
    "tags": []
   },
   "source": [
    "### Setup variables\n",
    "- `api_key`: Naas API key.\n",
    "- `chat_id`: Chat name."
   ]
  },
  {
   "cell_type": "code",
   "execution_count": null,
   "id": "500d7b3a-c779-4b02-9a8b-7650b81d6e5a",
   "metadata": {
    "papermill": {},
    "tags": []
   },
   "outputs": [],
   "source": [
    "api_key = naas.secret.get('NAAS_API_TOKEN')\n",
    "chat_id = 8186"
   ]
  },
  {
   "cell_type": "markdown",
   "id": "19c11251-1aa8-4f41-8616-0a20f6afe4e2",
   "metadata": {
    "papermill": {},
    "tags": []
   },
   "source": [
    "## Model"
   ]
  },
  {
   "cell_type": "markdown",
   "id": "f9f9ef36-5787-4bd8-8222-ae0214f194e9",
   "metadata": {
    "papermill": {},
    "tags": []
   },
   "source": [
    "### Stop Chat Completion"
   ]
  },
  {
   "cell_type": "code",
   "execution_count": null,
   "id": "54ad8acf-713d-485e-90ce-dfec7c42e6b1",
   "metadata": {
    "papermill": {},
    "tags": []
   },
   "outputs": [],
   "source": [
    "def stop_chat_completion(api_key, chat_id):\n",
    "    url = f\"https://api.naas.ai/chat/{chat_id}/completion\"\n",
    "    headers = {\n",
    "        \"Content-Type\": \"application/json\",\n",
    "        \"Authorization\": f\"Bearer {api_key}\"\n",
    "    }\n",
    "    data = {\n",
    "        \"id\": chat_id,\n",
    "    }\n",
    "    response = requests.delete(url, headers=headers, json=data)\n",
    "    print(response)\n",
    "    return response.json()\n",
    "\n",
    "result = stop_chat_completion(api_key, chat_id)\n",
    "print(result)"
   ]
  },
  {
   "cell_type": "markdown",
   "id": "b06b1cac-22b4-413d-93ad-1f8654b8bbd7",
   "metadata": {
    "papermill": {},
    "tags": []
   },
   "source": [
    "## Output"
   ]
  },
  {
   "cell_type": "markdown",
   "id": "72357c1d-d66c-4a24-bf68-8c7d3d832d9c",
   "metadata": {
    "papermill": {},
    "tags": []
   },
   "source": [
    "### Display result"
   ]
  },
  {
   "cell_type": "code",
   "execution_count": null,
   "id": "ac84849c-e3f6-4ce8-8bbe-a3a0104946c4",
   "metadata": {
    "papermill": {},
    "tags": []
   },
   "outputs": [],
   "source": [
    "result"
   ]
  }
 ],
 "metadata": {
  "kernelspec": {
   "display_name": "Python 3",
   "language": "python",
   "name": "python3"
  },
  "language_info": {
   "codemirror_mode": {
    "name": "ipython",
    "version": 3
   },
   "file_extension": ".py",
   "mimetype": "text/x-python",
   "name": "python",
   "nbconvert_exporter": "python",
   "pygments_lexer": "ipython3",
   "version": "3.9.6"
  },
  "naas": {
   "notebook_id": "20d43e52bb3e3ffc536e7d63d3e644bde417d35c3609cdee5e0e7a3a47abc317",
   "notebook_path": "Naas API/Naas_API_Stop_Chat_Completion.ipynb"
  },
  "papermill": {
   "default_parameters": {},
   "environment_variables": {},
   "parameters": {},
   "version": "2.5.0"
  },
  "widgets": {
   "application/vnd.jupyter.widget-state+json": {
    "state": {},
    "version_major": 2,
    "version_minor": 0
   }
  }
 },
 "nbformat": 4,
 "nbformat_minor": 5
}