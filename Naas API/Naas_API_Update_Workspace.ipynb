{
 "cells": [
  {
   "cell_type": "markdown",
   "id": "266cca6b-99c1-4dd8-a85a-c7227bf9105f",
   "metadata": {
    "papermill": {},
    "tags": []
   },
   "source": [
    "<img width=\"8%\" alt=\"Naas API.png\" src=\"https://raw.githubusercontent.com/jupyter-naas/awesome-notebooks/master/.github/assets/logos/Naas%20API.png\" style=\"border-radius: 15%\">"
   ]
  },
  {
   "cell_type": "markdown",
   "id": "f8ac20da-f127-42d5-b089-b07e77f1ac67",
   "metadata": {
    "papermill": {},
    "tags": []
   },
   "source": [
    "# Naas API - Update Workspace\n",
    "<a href=\"https://bit.ly/3JyWIk6\">Give Feedback</a> | <a href=\"https://github.com/jupyter-naas/awesome-notebooks/issues/new?assignees=&labels=bug&template=bug_report.md&title=Naas+API+-+Update+Workspace:+Error+short+description\">Bug report</a>"
   ]
  },
  {
   "cell_type": "markdown",
   "id": "7955211a-446d-4164-b709-6260f8b38161",
   "metadata": {
    "papermill": {},
    "tags": []
   },
   "source": [
    "**Tags:** #naas #api #workspace #update #python #snippet"
   ]
  },
  {
   "cell_type": "markdown",
   "id": "af2af999-bfbf-44bb-b5fe-d86d9d0ccbda",
   "metadata": {
    "papermill": {},
    "tags": []
   },
   "source": [
    "**Author:** [Florent Ravenel](https://www.linkedin.com/in/florent-ravenel/)"
   ]
  },
  {
   "cell_type": "markdown",
   "id": "1cef3df8-5cfd-40c1-bbfc-0ca97a872cdc",
   "metadata": {
    "papermill": {},
    "tags": []
   },
   "source": [
    "**Last update:** 2024-03-06 (Created: 2024-03-06)"
   ]
  },
  {
   "cell_type": "markdown",
   "id": "9a77c609-0a67-4424-bb80-3ccc7eb522b3",
   "metadata": {
    "papermill": {},
    "tags": []
   },
   "source": [
    "**Description:** This notebook demonstrates how to update a workspace using the Naas API."
   ]
  },
  {
   "cell_type": "markdown",
   "id": "fa95f690-c5dd-4269-bbe3-6b0d1fef2f0c",
   "metadata": {
    "papermill": {},
    "tags": []
   },
   "source": [
    "**References:**\n",
    "- [Naas API Documentation](https://api.naas.ai/redoc#tag/Workspace-API/operation/update_workspace_id_workspace__workspace_id___put)\n",
    "- [Naas Official Website](https://naas.ai/)"
   ]
  },
  {
   "cell_type": "markdown",
   "id": "846bb22a-549b-4dd5-82eb-a78556d52da0",
   "metadata": {
    "papermill": {},
    "tags": []
   },
   "source": [
    "## Input"
   ]
  },
  {
   "cell_type": "markdown",
   "id": "5f711345-c2f1-4281-b531-dcea7901d318",
   "metadata": {
    "papermill": {},
    "tags": []
   },
   "source": [
    "### Import libraries"
   ]
  },
  {
   "cell_type": "code",
   "execution_count": null,
   "id": "d20968a6-416e-4ba9-913a-eacb08dc24d8",
   "metadata": {
    "papermill": {},
    "tags": []
   },
   "outputs": [],
   "source": [
    "import requests\n",
    "import naas"
   ]
  },
  {
   "cell_type": "markdown",
   "id": "62b9a2b5-0af7-4106-a388-8639a3f87858",
   "metadata": {
    "papermill": {},
    "tags": []
   },
   "source": [
    "### Setup variables\n",
    "- `api_key`: Naas API key.\n",
    "- `uid`: Workspace ID.\n",
    "- `name`: Workspace name.\n",
    "- `logo`: Workspace logo.\n",
    "- `primary_color`: Workspace primary_color.\n",
    "- `secondary_color`: Workspace secondary_color.\n",
    "- `is_personal`: Boolean if Workspace is_personal."
   ]
  },
  {
   "cell_type": "code",
   "execution_count": null,
   "id": "0214b49d-b803-4fa5-974b-18cc6a3c98f3",
   "metadata": {
    "papermill": {},
    "tags": []
   },
   "outputs": [],
   "source": [
    "api_key = naas.secret.get('NAAS_API_TOKEN')\n",
    "uid = \"b6f18302-0a15-4535-b476-91dc61ec341b\"\n",
    "name = \"My New Workspace (API)\"\n",
    "logo = \"https://raw.githubusercontent.com/jupyter-naas/awesome-notebooks/master/.github/assets/logos/Naas.png\"\n",
    "primary_color = \"\"\n",
    "secondary_color = \"\"\n",
    "is_personal = False"
   ]
  },
  {
   "cell_type": "markdown",
   "id": "fd7aa7fb-ccdd-43dd-b7ca-93094baac635",
   "metadata": {
    "papermill": {},
    "tags": []
   },
   "source": [
    "## Model"
   ]
  },
  {
   "cell_type": "markdown",
   "id": "21808dc0-a9f3-4ddd-92e4-61168517513d",
   "metadata": {
    "papermill": {},
    "tags": []
   },
   "source": [
    "### Update Workspace"
   ]
  },
  {
   "cell_type": "code",
   "execution_count": null,
   "id": "5e02917d-ff96-430b-92f8-43d7b6fccdb1",
   "metadata": {
    "papermill": {},
    "tags": []
   },
   "outputs": [],
   "source": [
    "def update_workspace(\n",
    "    api_key,\n",
    "    uid,\n",
    "    name,\n",
    "    logo=\"\",\n",
    "    primary_color=\"\",\n",
    "    secondary_color=\"\",\n",
    "    is_personal=False,\n",
    "):\n",
    "    url = f\"https://api.naas.ai/workspace/{uid}\"\n",
    "    headers = {\n",
    "        \"Content-Type\": \"application/json\",\n",
    "        \"Authorization\": f\"Bearer {api_key}\"\n",
    "    }\n",
    "    data = {\n",
    "        'workspace_id': uid,\n",
    "        'workspace': {\n",
    "            \"name\": name,\n",
    "            \"logo\": logo,\n",
    "            \"primary_color\": primary_color,\n",
    "            \"secondary_color\": secondary_color,\n",
    "            \"is_personal\": is_personal,\n",
    "        }\n",
    "\n",
    "    }\n",
    "    response = requests.put(url, headers=headers, json=data)\n",
    "    return response.json()\n",
    "\n",
    "result = update_workspace(api_key, uid, name, logo, primary_color, secondary_color, is_personal)\n",
    "print(result)"
   ]
  },
  {
   "cell_type": "markdown",
   "id": "a12858a0-024c-4d53-9289-a561da3ee68f",
   "metadata": {
    "papermill": {},
    "tags": []
   },
   "source": [
    "## Output"
   ]
  },
  {
   "cell_type": "markdown",
   "id": "f9d646bd-2de1-41a8-9c92-83e5abf8fcf8",
   "metadata": {
    "papermill": {},
    "tags": []
   },
   "source": [
    "### Display result"
   ]
  },
  {
   "cell_type": "code",
   "execution_count": null,
   "id": "09ad0e96-4fca-4cab-b7ce-5958aea35988",
   "metadata": {
    "papermill": {},
    "tags": []
   },
   "outputs": [],
   "source": [
    "result"
   ]
  }
 ],
 "metadata": {
  "kernelspec": {
   "display_name": "Python 3",
   "language": "python",
   "name": "python3"
  },
  "language_info": {
   "codemirror_mode": {
    "name": "ipython",
    "version": 3
   },
   "file_extension": ".py",
   "mimetype": "text/x-python",
   "name": "python",
   "nbconvert_exporter": "python",
   "pygments_lexer": "ipython3",
   "version": "3.9.6"
  },
  "naas": {
   "notebook_id": "ea72ddd1965005203d64f4dd530ee9f6858b1c25595673664e3c6ab51779bdac",
   "notebook_path": "Naas API/Naas_API_Update_Workspace.ipynb"
  },
  "papermill": {
   "default_parameters": {},
   "environment_variables": {},
   "parameters": {},
   "version": "2.5.0"
  },
  "widgets": {
   "application/vnd.jupyter.widget-state+json": {
    "state": {},
    "version_major": 2,
    "version_minor": 0
   }
  }
 },
 "nbformat": 4,
 "nbformat_minor": 5
}