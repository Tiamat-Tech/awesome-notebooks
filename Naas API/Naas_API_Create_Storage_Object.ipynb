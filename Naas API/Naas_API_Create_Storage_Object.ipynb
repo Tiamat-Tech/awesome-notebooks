{
 "cells": [
  {
   "cell_type": "markdown",
   "id": "28d10a4c-3c77-4088-9b67-db6e5f1ee7f0",
   "metadata": {},
   "source": [
    "<img width=\"8%\" alt=\"Naas API.png\" src=\"https://raw.githubusercontent.com/jupyter-naas/awesome-notebooks/master/.github/assets/logos/Naas%20API.png\" style=\"border-radius: 15%\">"
   ]
  },
  {
   "cell_type": "markdown",
   "id": "90cdfd58-d74b-4ec9-aea8-72fe64903f81",
   "metadata": {},
   "source": [
    "## Naas API - Create Storage Object\n",
    "<a href=\"https://bit.ly/3JyWIk6\">Give Feedback</a> | <a href=\"https://github.com/jupyter-naas/awesome-notebooks/issues/new?assignees=&labels=bug&template=bug_report.md&title=Naas+API+-+Update+Asset:+Error+short+description\">Bug report</a>"
   ]
  },
  {
   "cell_type": "markdown",
   "id": "9c897c82-4a8f-4f8c-8b00-dd66e496273b",
   "metadata": {
    "execution": {
     "iopub.execute_input": "2024-06-03T14:17:19.410802Z",
     "iopub.status.busy": "2024-06-03T14:17:19.410576Z",
     "iopub.status.idle": "2024-06-03T14:17:19.420684Z",
     "shell.execute_reply": "2024-06-03T14:17:19.419788Z",
     "shell.execute_reply.started": "2024-06-03T14:17:19.410779Z"
    }
   },
   "source": [
    "**Tags:** #naas #api #storage #create #object"
   ]
  },
  {
   "cell_type": "markdown",
   "id": "20e4f13f-d7c4-4acf-9c53-880545f0ce76",
   "metadata": {
    "execution": {
     "iopub.execute_input": "2024-06-03T14:17:27.697224Z",
     "iopub.status.busy": "2024-06-03T14:17:27.696997Z",
     "iopub.status.idle": "2024-06-03T14:17:27.705749Z",
     "shell.execute_reply": "2024-06-03T14:17:27.704763Z",
     "shell.execute_reply.started": "2024-06-03T14:17:27.697200Z"
    }
   },
   "source": [
    "**Author:** [Loic Laville](https://www.linkedin.com/in/loic-laville/)"
   ]
  },
  {
   "cell_type": "markdown",
   "id": "210c53e9",
   "metadata": {},
   "source": [
    "**Last update:** 2024-07-02 (Created: 2024-06-10)"
   ]
  },
  {
   "cell_type": "markdown",
   "id": "b3ed8dac",
   "metadata": {},
   "source": [
    "**Description:** This notebook demonstrates how to use send your local file into a Workspace Storage."
   ]
  },
  {
   "cell_type": "markdown",
   "id": "0de8d719",
   "metadata": {},
   "source": [
    "## Input"
   ]
  },
  {
   "cell_type": "markdown",
   "id": "f9ae1bdf-49b2-4f53-9ae9-b396c4608e9d",
   "metadata": {
    "execution": {
     "iopub.execute_input": "2024-06-03T14:23:07.494752Z",
     "iopub.status.busy": "2024-06-03T14:23:07.494526Z",
     "iopub.status.idle": "2024-06-03T14:23:07.500018Z",
     "shell.execute_reply": "2024-06-03T14:23:07.497930Z",
     "shell.execute_reply.started": "2024-06-03T14:23:07.494728Z"
    }
   },
   "source": [
    "### Import library"
   ]
  },
  {
   "cell_type": "code",
   "execution_count": 10,
   "id": "32fa0149",
   "metadata": {},
   "outputs": [],
   "source": [
    "try:\n",
    "    import naas_python\n",
    "except:\n",
    "    %pip install naas-python --user\n",
    "    import naas_python"
   ]
  },
  {
   "cell_type": "markdown",
   "id": "245593c8",
   "metadata": {},
   "source": [
    "### Setup variables"
   ]
  },
  {
   "cell_type": "markdown",
   "id": "a0c5268d-a14d-42c5-bf93-722f6302cc0a",
   "metadata": {},
   "source": [
    "Required :\n",
    "* `workspace_id` : User Workspace ID\n",
    "* `storage_name` : User Storage\n",
    "* `src_file`: Local file to upload\n",
    "* `dst_file`: Destination and name in the storage. If the directory doesn't exist it will be created."
   ]
  },
  {
   "cell_type": "code",
   "execution_count": 11,
   "id": "97463fa6-6044-4e69-b4ea-59fc0b243dbd",
   "metadata": {
    "tags": []
   },
   "outputs": [],
   "source": [
    "# Required\n",
    "workspace_id = \"39e3601a-6f8e-412e-9bd7-1ae772bdc10b\"\n",
    "storage_name = \"test\"\n",
    "src_file = \"Naas_API_Create_Storage.ipynb\"\n",
    "dst_file = \"Naas_API_Create_Storage.ipynb\""
   ]
  },
  {
   "cell_type": "markdown",
   "id": "627f23e2",
   "metadata": {},
   "source": [
    "## Model"
   ]
  },
  {
   "cell_type": "markdown",
   "id": "482962ed",
   "metadata": {},
   "source": [
    "### Create Storage Object"
   ]
  },
  {
   "cell_type": "code",
   "execution_count": 12,
   "id": "4856c7a5",
   "metadata": {},
   "outputs": [
    {
     "data": {
      "text/html": [
       "<pre style=\"white-space:pre;overflow-x:auto;line-height:normal;font-family:Menlo,'DejaVu Sans Mono',consolas,'Courier New',monospace\"><span style=\"color: #7fbfbf; text-decoration-color: #7fbfbf\">[07/02/24 15:05:36] </span><span style=\"color: #800000; text-decoration-color: #800000; font-weight: bold\">ERROR   </span> Parameter validation failed:                           <a href=\"file://C:\\Users\\flore\\AppData\\Roaming\\Python\\Python311\\site-packages\\naas_python\\domains\\storage\\adaptors\\secondary\\providers\\S3StorageProviderAdaptor.py\" target=\"_blank\"><span style=\"color: #7f7f7f; text-decoration-color: #7f7f7f\">S3StorageProviderAdaptor.py</span></a><span style=\"color: #7f7f7f; text-decoration-color: #7f7f7f\">:</span><a href=\"file://C:\\Users\\flore\\AppData\\Roaming\\Python\\Python311\\site-packages\\naas_python\\domains\\storage\\adaptors\\secondary\\providers\\S3StorageProviderAdaptor.py#279\" target=\"_blank\"><span style=\"color: #7f7f7f; text-decoration-color: #7f7f7f\">279</span></a>\n",
       "<span style=\"color: #7fbfbf; text-decoration-color: #7fbfbf\">                    </span>         Invalid type for parameter ContentType, value: <span style=\"color: #800080; text-decoration-color: #800080; font-style: italic\">None</span>,   <span style=\"color: #7f7f7f; text-decoration-color: #7f7f7f\">                               </span>\n",
       "<span style=\"color: #7fbfbf; text-decoration-color: #7fbfbf\">                    </span>         type: <span style=\"font-weight: bold\">&lt;</span><span style=\"color: #ff00ff; text-decoration-color: #ff00ff; font-weight: bold\">class</span><span style=\"color: #000000; text-decoration-color: #000000\"> </span><span style=\"color: #008000; text-decoration-color: #008000\">'NoneType'</span><span style=\"color: #000000; text-decoration-color: #000000\">&gt;, valid types: &lt;class </span><span style=\"color: #008000; text-decoration-color: #008000\">'str'</span><span style=\"font-weight: bold\">&gt;</span>   <span style=\"color: #7f7f7f; text-decoration-color: #7f7f7f\">                               </span>\n",
       "</pre>\n"
      ],
      "text/plain": [
       "\u001b[2;36m[07/02/24 15:05:36]\u001b[0m\u001b[2;36m \u001b[0m\u001b[1;31mERROR   \u001b[0m Parameter validation failed:                           \u001b]8;id=474969;file://C:\\Users\\flore\\AppData\\Roaming\\Python\\Python311\\site-packages\\naas_python\\domains\\storage\\adaptors\\secondary\\providers\\S3StorageProviderAdaptor.py\u001b\\\u001b[2mS3StorageProviderAdaptor.py\u001b[0m\u001b]8;;\u001b\\\u001b[2m:\u001b[0m\u001b]8;id=752932;file://C:\\Users\\flore\\AppData\\Roaming\\Python\\Python311\\site-packages\\naas_python\\domains\\storage\\adaptors\\secondary\\providers\\S3StorageProviderAdaptor.py#279\u001b\\\u001b[2m279\u001b[0m\u001b]8;;\u001b\\\n",
       "\u001b[2;36m                    \u001b[0m         Invalid type for parameter ContentType, value: \u001b[3;35mNone\u001b[0m,   \u001b[2m                               \u001b[0m\n",
       "\u001b[2;36m                    \u001b[0m         type: \u001b[1m<\u001b[0m\u001b[1;95mclass\u001b[0m\u001b[39m \u001b[0m\u001b[32m'NoneType'\u001b[0m\u001b[39m>, valid types: <class \u001b[0m\u001b[32m'str'\u001b[0m\u001b[1m>\u001b[0m   \u001b[2m                               \u001b[0m\n"
      ]
     },
     "metadata": {},
     "output_type": "display_data"
    },
    {
     "name": "stderr",
     "output_type": "stream",
     "text": [
      "ERROR:naas_python.domains.storage.adaptors.secondary.providers.S3StorageProviderAdaptor:Parameter validation failed:\n",
      "Invalid type for parameter ContentType, value: None, type: <class 'NoneType'>, valid types: <class 'str'>\n"
     ]
    },
    {
     "ename": "Exception",
     "evalue": "Parameter validation failed:\nInvalid type for parameter ContentType, value: None, type: <class 'NoneType'>, valid types: <class 'str'>",
     "output_type": "error",
     "traceback": [
      "\u001b[1;31m---------------------------------------------------------------------------\u001b[0m",
      "\u001b[1;31mParamValidationError\u001b[0m                      Traceback (most recent call last)",
      "File \u001b[1;32m~\\AppData\\Roaming\\Python\\Python311\\site-packages\\naas_python\\domains\\storage\\adaptors\\secondary\\providers\\S3StorageProviderAdaptor.py:68\u001b[0m, in \u001b[0;36mS3StorageProviderAdaptor.post_workspace_storage_object\u001b[1;34m(self, workspace_id, storage_name, src_file, dst_file)\u001b[0m\n\u001b[0;32m     67\u001b[0m s3 \u001b[38;5;241m=\u001b[39m boto3\u001b[38;5;241m.\u001b[39mclient(\u001b[38;5;124m'\u001b[39m\u001b[38;5;124ms3\u001b[39m\u001b[38;5;124m'\u001b[39m)\n\u001b[1;32m---> 68\u001b[0m response \u001b[38;5;241m=\u001b[39m s3\u001b[38;5;241m.\u001b[39mupload_file(Filename\u001b[38;5;241m=\u001b[39msrc_file, Bucket\u001b[38;5;241m=\u001b[39m\u001b[38;5;28mself\u001b[39m\u001b[38;5;241m.\u001b[39mnaas_bucket, Key\u001b[38;5;241m=\u001b[39mkey,  ExtraArgs\u001b[38;5;241m=\u001b[39m{\u001b[38;5;124m'\u001b[39m\u001b[38;5;124mContentType\u001b[39m\u001b[38;5;124m'\u001b[39m: content_type})\n\u001b[0;32m     69\u001b[0m \u001b[38;5;28;01mreturn\u001b[39;00m response\n",
      "File \u001b[1;32m~\\AppData\\Roaming\\Python\\Python311\\site-packages\\boto3\\s3\\inject.py:145\u001b[0m, in \u001b[0;36mupload_file\u001b[1;34m(self, Filename, Bucket, Key, ExtraArgs, Callback, Config)\u001b[0m\n\u001b[0;32m    144\u001b[0m \u001b[38;5;28;01mwith\u001b[39;00m S3Transfer(\u001b[38;5;28mself\u001b[39m, Config) \u001b[38;5;28;01mas\u001b[39;00m transfer:\n\u001b[1;32m--> 145\u001b[0m     \u001b[38;5;28;01mreturn\u001b[39;00m transfer\u001b[38;5;241m.\u001b[39mupload_file(\n\u001b[0;32m    146\u001b[0m         filename\u001b[38;5;241m=\u001b[39mFilename,\n\u001b[0;32m    147\u001b[0m         bucket\u001b[38;5;241m=\u001b[39mBucket,\n\u001b[0;32m    148\u001b[0m         key\u001b[38;5;241m=\u001b[39mKey,\n\u001b[0;32m    149\u001b[0m         extra_args\u001b[38;5;241m=\u001b[39mExtraArgs,\n\u001b[0;32m    150\u001b[0m         callback\u001b[38;5;241m=\u001b[39mCallback,\n\u001b[0;32m    151\u001b[0m     )\n",
      "File \u001b[1;32m~\\AppData\\Roaming\\Python\\Python311\\site-packages\\boto3\\s3\\transfer.py:372\u001b[0m, in \u001b[0;36mS3Transfer.upload_file\u001b[1;34m(self, filename, bucket, key, callback, extra_args)\u001b[0m\n\u001b[0;32m    371\u001b[0m \u001b[38;5;28;01mtry\u001b[39;00m:\n\u001b[1;32m--> 372\u001b[0m     future\u001b[38;5;241m.\u001b[39mresult()\n\u001b[0;32m    373\u001b[0m \u001b[38;5;66;03m# If a client error was raised, add the backwards compatibility layer\u001b[39;00m\n\u001b[0;32m    374\u001b[0m \u001b[38;5;66;03m# that raises a S3UploadFailedError. These specific errors were only\u001b[39;00m\n\u001b[0;32m    375\u001b[0m \u001b[38;5;66;03m# ever thrown for upload_parts but now can be thrown for any related\u001b[39;00m\n\u001b[0;32m    376\u001b[0m \u001b[38;5;66;03m# client error.\u001b[39;00m\n",
      "File \u001b[1;32m~\\AppData\\Roaming\\Python\\Python311\\site-packages\\s3transfer\\futures.py:103\u001b[0m, in \u001b[0;36mTransferFuture.result\u001b[1;34m(self)\u001b[0m\n\u001b[0;32m     99\u001b[0m \u001b[38;5;28;01mtry\u001b[39;00m:\n\u001b[0;32m    100\u001b[0m     \u001b[38;5;66;03m# Usually the result() method blocks until the transfer is done,\u001b[39;00m\n\u001b[0;32m    101\u001b[0m     \u001b[38;5;66;03m# however if a KeyboardInterrupt is raised we want want to exit\u001b[39;00m\n\u001b[0;32m    102\u001b[0m     \u001b[38;5;66;03m# out of this and propagate the exception.\u001b[39;00m\n\u001b[1;32m--> 103\u001b[0m     \u001b[38;5;28;01mreturn\u001b[39;00m \u001b[38;5;28mself\u001b[39m\u001b[38;5;241m.\u001b[39m_coordinator\u001b[38;5;241m.\u001b[39mresult()\n\u001b[0;32m    104\u001b[0m \u001b[38;5;28;01mexcept\u001b[39;00m \u001b[38;5;167;01mKeyboardInterrupt\u001b[39;00m \u001b[38;5;28;01mas\u001b[39;00m e:\n",
      "File \u001b[1;32m~\\AppData\\Roaming\\Python\\Python311\\site-packages\\s3transfer\\futures.py:266\u001b[0m, in \u001b[0;36mTransferCoordinator.result\u001b[1;34m(self)\u001b[0m\n\u001b[0;32m    265\u001b[0m \u001b[38;5;28;01mif\u001b[39;00m \u001b[38;5;28mself\u001b[39m\u001b[38;5;241m.\u001b[39m_exception:\n\u001b[1;32m--> 266\u001b[0m     \u001b[38;5;28;01mraise\u001b[39;00m \u001b[38;5;28mself\u001b[39m\u001b[38;5;241m.\u001b[39m_exception\n\u001b[0;32m    267\u001b[0m \u001b[38;5;28;01mreturn\u001b[39;00m \u001b[38;5;28mself\u001b[39m\u001b[38;5;241m.\u001b[39m_result\n",
      "File \u001b[1;32m~\\AppData\\Roaming\\Python\\Python311\\site-packages\\s3transfer\\tasks.py:139\u001b[0m, in \u001b[0;36mTask.__call__\u001b[1;34m(self)\u001b[0m\n\u001b[0;32m    138\u001b[0m     \u001b[38;5;28;01mif\u001b[39;00m \u001b[38;5;129;01mnot\u001b[39;00m \u001b[38;5;28mself\u001b[39m\u001b[38;5;241m.\u001b[39m_transfer_coordinator\u001b[38;5;241m.\u001b[39mdone():\n\u001b[1;32m--> 139\u001b[0m         \u001b[38;5;28;01mreturn\u001b[39;00m \u001b[38;5;28mself\u001b[39m\u001b[38;5;241m.\u001b[39m_execute_main(kwargs)\n\u001b[0;32m    140\u001b[0m \u001b[38;5;28;01mexcept\u001b[39;00m \u001b[38;5;167;01mException\u001b[39;00m \u001b[38;5;28;01mas\u001b[39;00m e:\n",
      "File \u001b[1;32m~\\AppData\\Roaming\\Python\\Python311\\site-packages\\s3transfer\\tasks.py:162\u001b[0m, in \u001b[0;36mTask._execute_main\u001b[1;34m(self, kwargs)\u001b[0m\n\u001b[0;32m    160\u001b[0m logger\u001b[38;5;241m.\u001b[39mdebug(\u001b[38;5;124mf\u001b[39m\u001b[38;5;124m\"\u001b[39m\u001b[38;5;124mExecuting task \u001b[39m\u001b[38;5;132;01m{\u001b[39;00m\u001b[38;5;28mself\u001b[39m\u001b[38;5;132;01m}\u001b[39;00m\u001b[38;5;124m with kwargs \u001b[39m\u001b[38;5;132;01m{\u001b[39;00mkwargs_to_display\u001b[38;5;132;01m}\u001b[39;00m\u001b[38;5;124m\"\u001b[39m)\n\u001b[1;32m--> 162\u001b[0m return_value \u001b[38;5;241m=\u001b[39m \u001b[38;5;28mself\u001b[39m\u001b[38;5;241m.\u001b[39m_main(\u001b[38;5;241m*\u001b[39m\u001b[38;5;241m*\u001b[39mkwargs)\n\u001b[0;32m    163\u001b[0m \u001b[38;5;66;03m# If the task is the final task, then set the TransferFuture's\u001b[39;00m\n\u001b[0;32m    164\u001b[0m \u001b[38;5;66;03m# value to the return value from main().\u001b[39;00m\n",
      "File \u001b[1;32m~\\AppData\\Roaming\\Python\\Python311\\site-packages\\s3transfer\\upload.py:764\u001b[0m, in \u001b[0;36mPutObjectTask._main\u001b[1;34m(self, client, fileobj, bucket, key, extra_args)\u001b[0m\n\u001b[0;32m    763\u001b[0m \u001b[38;5;28;01mwith\u001b[39;00m fileobj \u001b[38;5;28;01mas\u001b[39;00m body:\n\u001b[1;32m--> 764\u001b[0m     client\u001b[38;5;241m.\u001b[39mput_object(Bucket\u001b[38;5;241m=\u001b[39mbucket, Key\u001b[38;5;241m=\u001b[39mkey, Body\u001b[38;5;241m=\u001b[39mbody, \u001b[38;5;241m*\u001b[39m\u001b[38;5;241m*\u001b[39mextra_args)\n",
      "File \u001b[1;32m~\\AppData\\Roaming\\Python\\Python311\\site-packages\\botocore\\client.py:565\u001b[0m, in \u001b[0;36mClientCreator._create_api_method.<locals>._api_call\u001b[1;34m(self, *args, **kwargs)\u001b[0m\n\u001b[0;32m    564\u001b[0m \u001b[38;5;66;03m# The \"self\" in this scope is referring to the BaseClient.\u001b[39;00m\n\u001b[1;32m--> 565\u001b[0m \u001b[38;5;28;01mreturn\u001b[39;00m \u001b[38;5;28mself\u001b[39m\u001b[38;5;241m.\u001b[39m_make_api_call(operation_name, kwargs)\n",
      "File \u001b[1;32m~\\AppData\\Roaming\\Python\\Python311\\site-packages\\botocore\\client.py:974\u001b[0m, in \u001b[0;36mBaseClient._make_api_call\u001b[1;34m(self, operation_name, api_params)\u001b[0m\n\u001b[0;32m    973\u001b[0m     request_context[\u001b[38;5;124m'\u001b[39m\u001b[38;5;124mendpoint_properties\u001b[39m\u001b[38;5;124m'\u001b[39m] \u001b[38;5;241m=\u001b[39m properties\n\u001b[1;32m--> 974\u001b[0m request_dict \u001b[38;5;241m=\u001b[39m \u001b[38;5;28mself\u001b[39m\u001b[38;5;241m.\u001b[39m_convert_to_request_dict(\n\u001b[0;32m    975\u001b[0m     api_params\u001b[38;5;241m=\u001b[39mapi_params,\n\u001b[0;32m    976\u001b[0m     operation_model\u001b[38;5;241m=\u001b[39moperation_model,\n\u001b[0;32m    977\u001b[0m     endpoint_url\u001b[38;5;241m=\u001b[39mendpoint_url,\n\u001b[0;32m    978\u001b[0m     context\u001b[38;5;241m=\u001b[39mrequest_context,\n\u001b[0;32m    979\u001b[0m     headers\u001b[38;5;241m=\u001b[39madditional_headers,\n\u001b[0;32m    980\u001b[0m )\n\u001b[0;32m    981\u001b[0m resolve_checksum_context(request_dict, operation_model, api_params)\n",
      "File \u001b[1;32m~\\AppData\\Roaming\\Python\\Python311\\site-packages\\botocore\\client.py:1048\u001b[0m, in \u001b[0;36mBaseClient._convert_to_request_dict\u001b[1;34m(self, api_params, operation_model, endpoint_url, context, headers, set_user_agent_header)\u001b[0m\n\u001b[0;32m   1039\u001b[0m \u001b[38;5;28;01mdef\u001b[39;00m \u001b[38;5;21m_convert_to_request_dict\u001b[39m(\n\u001b[0;32m   1040\u001b[0m     \u001b[38;5;28mself\u001b[39m,\n\u001b[0;32m   1041\u001b[0m     api_params,\n\u001b[1;32m   (...)\u001b[0m\n\u001b[0;32m   1046\u001b[0m     set_user_agent_header\u001b[38;5;241m=\u001b[39m\u001b[38;5;28;01mTrue\u001b[39;00m,\n\u001b[0;32m   1047\u001b[0m ):\n\u001b[1;32m-> 1048\u001b[0m     request_dict \u001b[38;5;241m=\u001b[39m \u001b[38;5;28mself\u001b[39m\u001b[38;5;241m.\u001b[39m_serializer\u001b[38;5;241m.\u001b[39mserialize_to_request(\n\u001b[0;32m   1049\u001b[0m         api_params, operation_model\n\u001b[0;32m   1050\u001b[0m     )\n\u001b[0;32m   1051\u001b[0m     \u001b[38;5;28;01mif\u001b[39;00m \u001b[38;5;129;01mnot\u001b[39;00m \u001b[38;5;28mself\u001b[39m\u001b[38;5;241m.\u001b[39m_client_config\u001b[38;5;241m.\u001b[39minject_host_prefix:\n",
      "File \u001b[1;32m~\\AppData\\Roaming\\Python\\Python311\\site-packages\\botocore\\validate.py:381\u001b[0m, in \u001b[0;36mParamValidationDecorator.serialize_to_request\u001b[1;34m(self, parameters, operation_model)\u001b[0m\n\u001b[0;32m    380\u001b[0m     \u001b[38;5;28;01mif\u001b[39;00m report\u001b[38;5;241m.\u001b[39mhas_errors():\n\u001b[1;32m--> 381\u001b[0m         \u001b[38;5;28;01mraise\u001b[39;00m ParamValidationError(report\u001b[38;5;241m=\u001b[39mreport\u001b[38;5;241m.\u001b[39mgenerate_report())\n\u001b[0;32m    382\u001b[0m \u001b[38;5;28;01mreturn\u001b[39;00m \u001b[38;5;28mself\u001b[39m\u001b[38;5;241m.\u001b[39m_serializer\u001b[38;5;241m.\u001b[39mserialize_to_request(\n\u001b[0;32m    383\u001b[0m     parameters, operation_model\n\u001b[0;32m    384\u001b[0m )\n",
      "\u001b[1;31mParamValidationError\u001b[0m: Parameter validation failed:\nInvalid type for parameter ContentType, value: None, type: <class 'NoneType'>, valid types: <class 'str'>",
      "\nDuring handling of the above exception, another exception occurred:\n",
      "\u001b[1;31mException\u001b[0m                                 Traceback (most recent call last)",
      "Cell \u001b[1;32mIn[12], line 1\u001b[0m\n\u001b[1;32m----> 1\u001b[0m \u001b[38;5;28mobject\u001b[39m \u001b[38;5;241m=\u001b[39m naas_python\u001b[38;5;241m.\u001b[39mstorage\u001b[38;5;241m.\u001b[39mpost_workspace_storage_object(\n\u001b[0;32m      2\u001b[0m         workspace_id\u001b[38;5;241m=\u001b[39mworkspace_id,\n\u001b[0;32m      3\u001b[0m         storage_name\u001b[38;5;241m=\u001b[39mstorage_name,\n\u001b[0;32m      4\u001b[0m         src_file\u001b[38;5;241m=\u001b[39msrc_file,\n\u001b[0;32m      5\u001b[0m         dst_file\u001b[38;5;241m=\u001b[39mdst_file\n\u001b[0;32m      6\u001b[0m )\n\u001b[0;32m      7\u001b[0m \u001b[38;5;28mobject\u001b[39m\n",
      "File \u001b[1;32m~\\AppData\\Roaming\\Python\\Python311\\site-packages\\naas_python\\domains\\storage\\adaptors\\primary\\SDKStorageAdaptor.py:77\u001b[0m, in \u001b[0;36mSDKStorageAdaptor.post_workspace_storage_object\u001b[1;34m(self, workspace_id, storage_name, src_file, dst_file)\u001b[0m\n\u001b[0;32m     70\u001b[0m \u001b[38;5;28;01mdef\u001b[39;00m \u001b[38;5;21mpost_workspace_storage_object\u001b[39m(\u001b[38;5;28mself\u001b[39m,\n\u001b[0;32m     71\u001b[0m     workspace_id: \u001b[38;5;28mstr\u001b[39m \u001b[38;5;241m=\u001b[39m \u001b[38;5;124m\"\u001b[39m\u001b[38;5;124m\"\u001b[39m, \n\u001b[0;32m     72\u001b[0m     storage_name: \u001b[38;5;28mstr\u001b[39m \u001b[38;5;241m=\u001b[39m \u001b[38;5;124m\"\u001b[39m\u001b[38;5;124m\"\u001b[39m,\n\u001b[0;32m     73\u001b[0m     src_file: \u001b[38;5;28mstr\u001b[39m \u001b[38;5;241m=\u001b[39m \u001b[38;5;124m\"\u001b[39m\u001b[38;5;124m\"\u001b[39m,\n\u001b[0;32m     74\u001b[0m     dst_file: \u001b[38;5;28mstr\u001b[39m \u001b[38;5;241m=\u001b[39m \u001b[38;5;124m\"\u001b[39m\u001b[38;5;124m\"\u001b[39m,\n\u001b[0;32m     75\u001b[0m ) \u001b[38;5;241m-\u001b[39m\u001b[38;5;241m>\u001b[39m \u001b[38;5;28mbytes\u001b[39m:\n\u001b[0;32m     76\u001b[0m     \u001b[38;5;28;01mif\u001b[39;00m os\u001b[38;5;241m.\u001b[39mpath\u001b[38;5;241m.\u001b[39misfile(src_file):\n\u001b[1;32m---> 77\u001b[0m         response \u001b[38;5;241m=\u001b[39m \u001b[38;5;28mself\u001b[39m\u001b[38;5;241m.\u001b[39mdomain\u001b[38;5;241m.\u001b[39mpost_workspace_storage_object(\n\u001b[0;32m     78\u001b[0m             workspace_id\u001b[38;5;241m=\u001b[39mworkspace_id,\n\u001b[0;32m     79\u001b[0m             storage_name\u001b[38;5;241m=\u001b[39mstorage_name,\n\u001b[0;32m     80\u001b[0m             src_file\u001b[38;5;241m=\u001b[39msrc_file,\n\u001b[0;32m     81\u001b[0m             dst_file\u001b[38;5;241m=\u001b[39mdst_file,\n\u001b[0;32m     82\u001b[0m         )\n\u001b[0;32m     83\u001b[0m         \u001b[38;5;28;01mreturn\u001b[39;00m response            \n\u001b[0;32m     84\u001b[0m     \u001b[38;5;28;01melse\u001b[39;00m:\n",
      "File \u001b[1;32m~\\AppData\\Roaming\\Python\\Python311\\site-packages\\naas_python\\domains\\storage\\StorageDomain.py:117\u001b[0m, in \u001b[0;36mStorageDomain.post_workspace_storage_object\u001b[1;34m(self, workspace_id, storage_name, src_file, dst_file)\u001b[0m\n\u001b[0;32m    114\u001b[0m     credentials \u001b[38;5;241m=\u001b[39m \u001b[38;5;28mself\u001b[39m\u001b[38;5;241m.\u001b[39madaptor\u001b[38;5;241m.\u001b[39mgenerate_credentials(workspace_id, storage_name)\n\u001b[0;32m    115\u001b[0m     storage_provider\u001b[38;5;241m.\u001b[39msave_naas_credentials(workspace_id, storage_name, credentials)\n\u001b[1;32m--> 117\u001b[0m response \u001b[38;5;241m=\u001b[39m storage_provider\u001b[38;5;241m.\u001b[39mpost_workspace_storage_object(workspace_id\u001b[38;5;241m=\u001b[39mworkspace_id, storage_name\u001b[38;5;241m=\u001b[39mstorage_name, src_file\u001b[38;5;241m=\u001b[39msrc_file, dst_file\u001b[38;5;241m=\u001b[39mdst_file)\n\u001b[0;32m    118\u001b[0m \u001b[38;5;28;01mreturn\u001b[39;00m response\n",
      "File \u001b[1;32m~\\AppData\\Roaming\\Python\\Python311\\site-packages\\naas_python\\domains\\storage\\adaptors\\secondary\\providers\\S3StorageProviderAdaptor.py:71\u001b[0m, in \u001b[0;36mS3StorageProviderAdaptor.post_workspace_storage_object\u001b[1;34m(self, workspace_id, storage_name, src_file, dst_file)\u001b[0m\n\u001b[0;32m     69\u001b[0m     \u001b[38;5;28;01mreturn\u001b[39;00m response\n\u001b[0;32m     70\u001b[0m \u001b[38;5;28;01mexcept\u001b[39;00m \u001b[38;5;167;01mException\u001b[39;00m \u001b[38;5;28;01mas\u001b[39;00m e:\n\u001b[1;32m---> 71\u001b[0m     \u001b[38;5;28mself\u001b[39m\u001b[38;5;241m.\u001b[39m__handle_exceptions(\u001b[38;5;28mstr\u001b[39m(e))\n\u001b[0;32m     72\u001b[0m \u001b[38;5;28;01mreturn\u001b[39;00m response\n",
      "File \u001b[1;32m~\\AppData\\Roaming\\Python\\Python311\\site-packages\\naas_python\\domains\\storage\\adaptors\\secondary\\providers\\S3StorageProviderAdaptor.py:280\u001b[0m, in \u001b[0;36mS3StorageProviderAdaptor.__handle_exceptions\u001b[1;34m(self, exception)\u001b[0m\n\u001b[0;32m    278\u001b[0m \u001b[38;5;28;01melse\u001b[39;00m :\n\u001b[0;32m    279\u001b[0m     logger\u001b[38;5;241m.\u001b[39merror(exception)\n\u001b[1;32m--> 280\u001b[0m     \u001b[38;5;28;01mraise\u001b[39;00m \u001b[38;5;167;01mException\u001b[39;00m(exception)\n",
      "\u001b[1;31mException\u001b[0m: Parameter validation failed:\nInvalid type for parameter ContentType, value: None, type: <class 'NoneType'>, valid types: <class 'str'>"
     ]
    }
   ],
   "source": [
    "object = naas_python.storage.post_workspace_storage_object(\n",
    "        workspace_id=workspace_id,\n",
    "        storage_name=storage_name,\n",
    "        src_file=src_file,\n",
    "        dst_file=dst_file\n",
    ")\n",
    "object"
   ]
  },
  {
   "cell_type": "markdown",
   "id": "dcfa8e9c",
   "metadata": {},
   "source": [
    "## Output"
   ]
  },
  {
   "cell_type": "markdown",
   "id": "0de0bf16",
   "metadata": {},
   "source": [
    "### Display result"
   ]
  },
  {
   "cell_type": "code",
   "execution_count": null,
   "id": "00846a42",
   "metadata": {},
   "outputs": [],
   "source": [
    "object"
   ]
  },
  {
   "cell_type": "markdown",
   "id": "5162486b",
   "metadata": {},
   "source": [
    "### CLI command"
   ]
  },
  {
   "cell_type": "markdown",
   "id": "41e2fbf0",
   "metadata": {},
   "source": [
    "```sh\n",
    "naas-python storage put-object --help\n",
    "```\n",
    "\n",
    "```sh\n",
    "naas-python storage put-object \\\n",
    "-w 81507a26-3644-496c-a379-4c7021434aa0 \\\n",
    "-s test-storage \\\n",
    "-src test.txt.zip \\\n",
    "-dst my-test-dir/my-object.txt.zip\n",
    "```"
   ]
  }
 ],
 "metadata": {
  "kernelspec": {
   "display_name": "Python 3",
   "language": "python",
   "name": "python3"
  },
  "language_info": {
   "codemirror_mode": {
    "name": "ipython",
    "version": 3
   },
   "file_extension": ".py",
   "mimetype": "text/x-python",
   "name": "python",
   "nbconvert_exporter": "python",
   "pygments_lexer": "ipython3",
   "version": "3.11.5"
  }
 },
 "nbformat": 4,
 "nbformat_minor": 5
}
