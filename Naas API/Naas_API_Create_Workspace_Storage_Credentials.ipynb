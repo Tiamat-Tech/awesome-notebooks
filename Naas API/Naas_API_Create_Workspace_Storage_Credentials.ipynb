{
 "cells": [
  {
   "cell_type": "markdown",
   "id": "6a04f99a-e16e-4087-98d1-07631df5be0a",
   "metadata": {
    "papermill": {},
    "tags": []
   },
   "source": [
    "<img width=\"8%\" alt=\"Naas API.png\" src=\"https://raw.githubusercontent.com/jupyter-naas/awesome-notebooks/master/.github/assets/logos/Naas%20API.png\" style=\"border-radius: 15%\">"
   ]
  },
  {
   "cell_type": "markdown",
   "id": "040f57d7-baa8-4f5c-8f00-2911825d7a42",
   "metadata": {
    "papermill": {},
    "tags": []
   },
   "source": [
    "# Naas API - Create Workspace Storage Credentials\n",
    "<a href=\"https://bit.ly/3JyWIk6\">Give Feedback</a> | <a href=\"https://github.com/jupyter-naas/awesome-notebooks/issues/new?assignees=&labels=bug&template=bug_report.md&title=Naas+API+-+Create+Workspace+Storage+Credentials:+Error+short+description\">Bug report</a>"
   ]
  },
  {
   "cell_type": "markdown",
   "id": "9afb388c-60b4-43ec-88a5-46c69cd1aef3",
   "metadata": {
    "papermill": {},
    "tags": []
   },
   "source": [
    "**Tags:** #naas #api #workspace #storage #create #credentials #python #snippet"
   ]
  },
  {
   "cell_type": "markdown",
   "id": "5e796b36-0f21-49fa-83e2-637df65868dd",
   "metadata": {
    "papermill": {},
    "tags": []
   },
   "source": [
    "**Author:** [Florent Ravenel](https://www.linkedin.com/in/florent-ravenel/)"
   ]
  },
  {
   "cell_type": "markdown",
   "id": "7c29836b-87f1-47f4-8f31-dc7b844b8bfa",
   "metadata": {
    "papermill": {},
    "tags": []
   },
   "source": [
    "**Last update:** 2024-06-28 (Created: 2024-06-28)"
   ]
  },
  {
   "cell_type": "markdown",
   "id": "beccc4e5-d064-4b06-94bc-23786b1a0385",
   "metadata": {
    "papermill": {},
    "tags": []
   },
   "source": [
    "**Description:** This notebook demonstrates how to create your workspace storage credentials using Naas API."
   ]
  },
  {
   "cell_type": "markdown",
   "id": "a3b9a052-36ce-45b8-a776-a090f34a3c04",
   "metadata": {
    "papermill": {},
    "tags": []
   },
   "source": [
    "**References:**\n",
    "- [Naas API Documentation](https://api.naas.ai/redoc#tag/Workspace-API/)\n",
    "- [Naas Official Website](https://naas.ai/)"
   ]
  },
  {
   "cell_type": "markdown",
   "id": "a2107faa-0d01-45ad-a74d-a7b6937bb296",
   "metadata": {
    "papermill": {},
    "tags": []
   },
   "source": [
    "## Input"
   ]
  },
  {
   "cell_type": "markdown",
   "id": "f7957d06-6d17-40d1-b5ec-b4cac0be6831",
   "metadata": {
    "papermill": {},
    "tags": []
   },
   "source": [
    "### Import libraries"
   ]
  },
  {
   "cell_type": "code",
   "execution_count": null,
   "id": "1c6184bb-dae6-4cb0-9cbe-26753bbb2f69",
   "metadata": {
    "papermill": {},
    "tags": []
   },
   "outputs": [],
   "source": [
    "import requests\n",
    "try:\n",
    "    import naas_python\n",
    "except:\n",
    "    %pip install naas-python --user\n",
    "    import naas_python"
   ]
  },
  {
   "cell_type": "markdown",
   "id": "0beb4f2a-8564-48ae-a6c1-f9411ab60150",
   "metadata": {
    "papermill": {},
    "tags": []
   },
   "source": [
    "### Setup variables\n",
    "- `workspace_id`: Naas Workspace ID"
   ]
  },
  {
   "cell_type": "code",
   "execution_count": null,
   "id": "f1e100cb-681b-4723-bc4b-864890b082f0",
   "metadata": {
    "papermill": {},
    "tags": []
   },
   "outputs": [],
   "source": [
    "workspace_id = \"f7a7e3a4-6435-48bc-8da3-88d46161c2b8\"\n",
    "storage_name = \"test\""
   ]
  },
  {
   "cell_type": "markdown",
   "id": "d88be66d-4656-48dd-9403-4ed1d2723095",
   "metadata": {
    "papermill": {},
    "tags": []
   },
   "source": [
    "## Model"
   ]
  },
  {
   "cell_type": "markdown",
   "id": "b9fa7620-5ae2-4f1e-8345-89e5f8141944",
   "metadata": {
    "papermill": {},
    "tags": []
   },
   "source": [
    "### List Workspaces"
   ]
  },
  {
   "cell_type": "code",
   "execution_count": null,
   "id": "72edcd3b-ab9c-4e39-9d53-f4698404d578",
   "metadata": {
    "papermill": {},
    "tags": []
   },
   "outputs": [],
   "source": [
    "def get_storage_credentials(\n",
    "    workspace_id,\n",
    "    storage_name,\n",
    "):\n",
    "    # List storage\n",
    "    result = naas_python.storage.list_workspace_storage(workspace_id=workspace_id)\n",
    "    storages = result.get(\"storage\")\n",
    "    storage_exist = False\n",
    "    for storage in storages:\n",
    "        if storage.get(\"name\") == storage_name:\n",
    "            storage_exist = True\n",
    "            new_storage = storage\n",
    "            \n",
    "    # Create storage\n",
    "    if not storage_exist:\n",
    "        new_storage = naas_python.storage.create_workspace_storage(workspace_id=workspace_id, storage_name=storage_name).get(\"storage\")\n",
    "        \n",
    "    # Get storage credentials\n",
    "    credentials = naas_python.storage.create_workspace_storage_credentials(workspace_id=workspace_id, storage_name=storage_name)\n",
    "    return credentials\n",
    "\n",
    "result = get_storage_credentials(workspace_id, storage_name)\n",
    "result"
   ]
  },
  {
   "cell_type": "markdown",
   "id": "ea210872-cf05-404e-9594-74c0321d2a61",
   "metadata": {
    "papermill": {},
    "tags": []
   },
   "source": [
    "## Output"
   ]
  },
  {
   "cell_type": "markdown",
   "id": "0eac2556-b0f0-446c-947d-86931508243b",
   "metadata": {
    "papermill": {},
    "tags": []
   },
   "source": [
    "### Display result"
   ]
  },
  {
   "cell_type": "code",
   "execution_count": null,
   "id": "7268aac3-8000-4ab8-a1fc-694e2081b08c",
   "metadata": {
    "papermill": {},
    "tags": []
   },
   "outputs": [],
   "source": [
    "print(\"Credentials:\", result.get(\"credentials\"))"
   ]
  },
  {
   "cell_type": "code",
   "execution_count": null,
   "id": "777515bc-b4d2-4646-b9ee-b03c3408e7f2",
   "metadata": {
    "papermill": {},
    "tags": []
   },
   "outputs": [],
   "source": []
  }
 ],
 "metadata": {
  "kernelspec": {
   "display_name": "Python 3",
   "language": "python",
   "name": "python3"
  },
  "language_info": {
   "codemirror_mode": {
    "name": "ipython",
    "version": 3
   },
   "file_extension": ".py",
   "mimetype": "text/x-python",
   "name": "python",
   "nbconvert_exporter": "python",
   "pygments_lexer": "ipython3",
   "version": "3.9.6"
  },
  "naas": {
   "notebook_id": "35b4fdd078bed86857e536c5b0d561924c25d7e8ba7da4b79dc0d830cfb437e9",
   "notebook_path": "Naas API/Naas_API_Create_Workspace_Storage_Credentials.ipynb"
  },
  "papermill": {
   "default_parameters": {},
   "environment_variables": {},
   "parameters": {},
   "version": "2.5.0"
  },
  "widgets": {
   "application/vnd.jupyter.widget-state+json": {
    "state": {},
    "version_major": 2,
    "version_minor": 0
   }
  }
 },
 "nbformat": 4,
 "nbformat_minor": 5
}