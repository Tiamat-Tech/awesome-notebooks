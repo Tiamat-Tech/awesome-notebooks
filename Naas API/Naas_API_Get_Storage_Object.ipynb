{
 "cells": [
  {
   "cell_type": "markdown",
   "id": "28d10a4c-3c77-4088-9b67-db6e5f1ee7f0",
   "metadata": {},
   "source": [
    "<img width=\"8%\" alt=\"Naas API.png\" src=\"https://raw.githubusercontent.com/jupyter-naas/awesome-notebooks/master/.github/assets/logos/Naas%20API.png\" style=\"border-radius: 15%\">"
   ]
  },
  {
   "cell_type": "markdown",
   "id": "90cdfd58-d74b-4ec9-aea8-72fe64903f81",
   "metadata": {},
   "source": [
    "# Naas API - Get Storage Object\n",
    "<a href=\"https://bit.ly/3JyWIk6\">Give Feedback</a> | <a href=\"https://github.com/jupyter-naas/awesome-notebooks/issues/new?assignees=&labels=bug&template=bug_report.md&title=Naas+API+-+Update+Asset:+Error+short+description\">Bug report</a>"
   ]
  },
  {
   "cell_type": "markdown",
   "id": "9c897c82-4a8f-4f8c-8b00-dd66e496273b",
   "metadata": {
    "execution": {
     "iopub.execute_input": "2024-06-03T14:17:19.410802Z",
     "iopub.status.busy": "2024-06-03T14:17:19.410576Z",
     "iopub.status.idle": "2024-06-03T14:17:19.420684Z",
     "shell.execute_reply": "2024-06-03T14:17:19.419788Z",
     "shell.execute_reply.started": "2024-06-03T14:17:19.410779Z"
    }
   },
   "source": [
    "**Tags:** #naas #api #storage #get #object"
   ]
  },
  {
   "cell_type": "markdown",
   "id": "20e4f13f-d7c4-4acf-9c53-880545f0ce76",
   "metadata": {
    "execution": {
     "iopub.execute_input": "2024-06-03T14:17:27.697224Z",
     "iopub.status.busy": "2024-06-03T14:17:27.696997Z",
     "iopub.status.idle": "2024-06-03T14:17:27.705749Z",
     "shell.execute_reply": "2024-06-03T14:17:27.704763Z",
     "shell.execute_reply.started": "2024-06-03T14:17:27.697200Z"
    }
   },
   "source": [
    "**Author:** [Loic Laville](https://www.linkedin.com/in/loic-laville/)"
   ]
  },
  {
   "cell_type": "markdown",
   "id": "210c53e9",
   "metadata": {},
   "source": [
    "**Last update:** 2024-07-02 (Created: 2024-06-10)"
   ]
  },
  {
   "cell_type": "markdown",
   "id": "b3ed8dac",
   "metadata": {},
   "source": [
    "**Description:** This notebook downloads an object from your Naas Storage."
   ]
  },
  {
   "cell_type": "markdown",
   "id": "0de8d719",
   "metadata": {},
   "source": [
    "## Input"
   ]
  },
  {
   "cell_type": "markdown",
   "id": "f9ae1bdf-49b2-4f53-9ae9-b396c4608e9d",
   "metadata": {
    "execution": {
     "iopub.execute_input": "2024-06-03T14:23:07.494752Z",
     "iopub.status.busy": "2024-06-03T14:23:07.494526Z",
     "iopub.status.idle": "2024-06-03T14:23:07.500018Z",
     "shell.execute_reply": "2024-06-03T14:23:07.497930Z",
     "shell.execute_reply.started": "2024-06-03T14:23:07.494728Z"
    }
   },
   "source": [
    "### Import libraries"
   ]
  },
  {
   "cell_type": "code",
   "execution_count": 1,
   "id": "32fa0149",
   "metadata": {},
   "outputs": [
    {
     "name": "stderr",
     "output_type": "stream",
     "text": [
      "ERROR:root:Failed to remove log file \\\\wsl.localhost\\Ubuntu\\home\\florentlvr\\awesome-notebooks\\Naas API\\.logs\\2024-07-02_14-42-13.log: [WinError 32] The process cannot access the file because it is being used by another process: '\\\\\\\\wsl.localhost\\\\Ubuntu\\\\home\\\\florentlvr\\\\awesome-notebooks\\\\Naas API\\\\.logs\\\\2024-07-02_14-42-13.log'\n"
     ]
    }
   ],
   "source": [
    "try:\n",
    "    import naas_python\n",
    "except:\n",
    "    %pip install naas-python --user\n",
    "    import naas_python"
   ]
  },
  {
   "cell_type": "markdown",
   "id": "245593c8",
   "metadata": {},
   "source": [
    "### Setup variables"
   ]
  },
  {
   "cell_type": "markdown",
   "id": "a0c5268d-a14d-42c5-bf93-722f6302cc0a",
   "metadata": {},
   "source": [
    "Required :\n",
    "* `workspace_id` : User Workspace ID\n",
    "* `storage_name` : User Storage\n",
    "* `src_file`: File path to into the Workspace Storage to download\n",
    "* `dst_file`: Download destination directory and filename on your computer"
   ]
  },
  {
   "cell_type": "code",
   "execution_count": 2,
   "id": "97463fa6-6044-4e69-b4ea-59fc0b243dbd",
   "metadata": {
    "tags": []
   },
   "outputs": [],
   "source": [
    "# Required\n",
    "workspace_id = \"39e3601a-6f8e-412e-9bd7-1ae772bdc10b\"\n",
    "storage_name = \"test\"\n",
    "src_file = \"Naas_API_Create_Storage.ipynb\"\n",
    "dst_file = \"Naas_API_Create_Storage.ipynb\""
   ]
  },
  {
   "cell_type": "markdown",
   "id": "627f23e2",
   "metadata": {},
   "source": [
    "## Model"
   ]
  },
  {
   "cell_type": "markdown",
   "id": "482962ed",
   "metadata": {},
   "source": [
    "### Get Storage Object"
   ]
  },
  {
   "cell_type": "code",
   "execution_count": 3,
   "id": "4856c7a5",
   "metadata": {},
   "outputs": [
    {
     "ename": "FileNotFoundError",
     "evalue": "[FileNotFoundError]: File not found.",
     "output_type": "error",
     "traceback": [
      "\u001b[1;31m---------------------------------------------------------------------------\u001b[0m",
      "\u001b[1;31mClientError\u001b[0m                               Traceback (most recent call last)",
      "File \u001b[1;32m~\\AppData\\Roaming\\Python\\Python311\\site-packages\\naas_python\\domains\\storage\\adaptors\\secondary\\providers\\S3StorageProviderAdaptor.py:98\u001b[0m, in \u001b[0;36mS3StorageProviderAdaptor.get_workspace_storage_object\u001b[1;34m(self, workspace_id, storage_name, src_file, dst_file)\u001b[0m\n\u001b[0;32m     97\u001b[0m s3 \u001b[38;5;241m=\u001b[39m boto3\u001b[38;5;241m.\u001b[39mclient(\u001b[38;5;124m'\u001b[39m\u001b[38;5;124ms3\u001b[39m\u001b[38;5;124m'\u001b[39m)\n\u001b[1;32m---> 98\u001b[0m response \u001b[38;5;241m=\u001b[39m s3\u001b[38;5;241m.\u001b[39mdownload_file(Bucket\u001b[38;5;241m=\u001b[39m\u001b[38;5;28mself\u001b[39m\u001b[38;5;241m.\u001b[39mnaas_bucket , Key\u001b[38;5;241m=\u001b[39mobject_key, Filename\u001b[38;5;241m=\u001b[39mfilename)\n\u001b[0;32m     99\u001b[0m \u001b[38;5;28;01mreturn\u001b[39;00m response\n",
      "File \u001b[1;32m~\\AppData\\Roaming\\Python\\Python311\\site-packages\\boto3\\s3\\inject.py:192\u001b[0m, in \u001b[0;36mdownload_file\u001b[1;34m(self, Bucket, Key, Filename, ExtraArgs, Callback, Config)\u001b[0m\n\u001b[0;32m    191\u001b[0m \u001b[38;5;28;01mwith\u001b[39;00m S3Transfer(\u001b[38;5;28mself\u001b[39m, Config) \u001b[38;5;28;01mas\u001b[39;00m transfer:\n\u001b[1;32m--> 192\u001b[0m     \u001b[38;5;28;01mreturn\u001b[39;00m transfer\u001b[38;5;241m.\u001b[39mdownload_file(\n\u001b[0;32m    193\u001b[0m         bucket\u001b[38;5;241m=\u001b[39mBucket,\n\u001b[0;32m    194\u001b[0m         key\u001b[38;5;241m=\u001b[39mKey,\n\u001b[0;32m    195\u001b[0m         filename\u001b[38;5;241m=\u001b[39mFilename,\n\u001b[0;32m    196\u001b[0m         extra_args\u001b[38;5;241m=\u001b[39mExtraArgs,\n\u001b[0;32m    197\u001b[0m         callback\u001b[38;5;241m=\u001b[39mCallback,\n\u001b[0;32m    198\u001b[0m     )\n",
      "File \u001b[1;32m~\\AppData\\Roaming\\Python\\Python311\\site-packages\\boto3\\s3\\transfer.py:406\u001b[0m, in \u001b[0;36mS3Transfer.download_file\u001b[1;34m(self, bucket, key, filename, extra_args, callback)\u001b[0m\n\u001b[0;32m    405\u001b[0m \u001b[38;5;28;01mtry\u001b[39;00m:\n\u001b[1;32m--> 406\u001b[0m     future\u001b[38;5;241m.\u001b[39mresult()\n\u001b[0;32m    407\u001b[0m \u001b[38;5;66;03m# This is for backwards compatibility where when retries are\u001b[39;00m\n\u001b[0;32m    408\u001b[0m \u001b[38;5;66;03m# exceeded we need to throw the same error from boto3 instead of\u001b[39;00m\n\u001b[0;32m    409\u001b[0m \u001b[38;5;66;03m# s3transfer's built in RetriesExceededError as current users are\u001b[39;00m\n\u001b[0;32m    410\u001b[0m \u001b[38;5;66;03m# catching the boto3 one instead of the s3transfer exception to do\u001b[39;00m\n\u001b[0;32m    411\u001b[0m \u001b[38;5;66;03m# their own retries.\u001b[39;00m\n",
      "File \u001b[1;32m~\\AppData\\Roaming\\Python\\Python311\\site-packages\\s3transfer\\futures.py:103\u001b[0m, in \u001b[0;36mTransferFuture.result\u001b[1;34m(self)\u001b[0m\n\u001b[0;32m     99\u001b[0m \u001b[38;5;28;01mtry\u001b[39;00m:\n\u001b[0;32m    100\u001b[0m     \u001b[38;5;66;03m# Usually the result() method blocks until the transfer is done,\u001b[39;00m\n\u001b[0;32m    101\u001b[0m     \u001b[38;5;66;03m# however if a KeyboardInterrupt is raised we want want to exit\u001b[39;00m\n\u001b[0;32m    102\u001b[0m     \u001b[38;5;66;03m# out of this and propagate the exception.\u001b[39;00m\n\u001b[1;32m--> 103\u001b[0m     \u001b[38;5;28;01mreturn\u001b[39;00m \u001b[38;5;28mself\u001b[39m\u001b[38;5;241m.\u001b[39m_coordinator\u001b[38;5;241m.\u001b[39mresult()\n\u001b[0;32m    104\u001b[0m \u001b[38;5;28;01mexcept\u001b[39;00m \u001b[38;5;167;01mKeyboardInterrupt\u001b[39;00m \u001b[38;5;28;01mas\u001b[39;00m e:\n",
      "File \u001b[1;32m~\\AppData\\Roaming\\Python\\Python311\\site-packages\\s3transfer\\futures.py:266\u001b[0m, in \u001b[0;36mTransferCoordinator.result\u001b[1;34m(self)\u001b[0m\n\u001b[0;32m    265\u001b[0m \u001b[38;5;28;01mif\u001b[39;00m \u001b[38;5;28mself\u001b[39m\u001b[38;5;241m.\u001b[39m_exception:\n\u001b[1;32m--> 266\u001b[0m     \u001b[38;5;28;01mraise\u001b[39;00m \u001b[38;5;28mself\u001b[39m\u001b[38;5;241m.\u001b[39m_exception\n\u001b[0;32m    267\u001b[0m \u001b[38;5;28;01mreturn\u001b[39;00m \u001b[38;5;28mself\u001b[39m\u001b[38;5;241m.\u001b[39m_result\n",
      "File \u001b[1;32m~\\AppData\\Roaming\\Python\\Python311\\site-packages\\s3transfer\\tasks.py:269\u001b[0m, in \u001b[0;36mSubmissionTask._main\u001b[1;34m(self, transfer_future, **kwargs)\u001b[0m\n\u001b[0;32m    267\u001b[0m     \u001b[38;5;66;03m# Call the submit method to start submitting tasks to execute the\u001b[39;00m\n\u001b[0;32m    268\u001b[0m     \u001b[38;5;66;03m# transfer.\u001b[39;00m\n\u001b[1;32m--> 269\u001b[0m     \u001b[38;5;28mself\u001b[39m\u001b[38;5;241m.\u001b[39m_submit(transfer_future\u001b[38;5;241m=\u001b[39mtransfer_future, \u001b[38;5;241m*\u001b[39m\u001b[38;5;241m*\u001b[39mkwargs)\n\u001b[0;32m    270\u001b[0m \u001b[38;5;28;01mexcept\u001b[39;00m \u001b[38;5;167;01mBaseException\u001b[39;00m \u001b[38;5;28;01mas\u001b[39;00m e:\n\u001b[0;32m    271\u001b[0m     \u001b[38;5;66;03m# If there was an exception raised during the submission of task\u001b[39;00m\n\u001b[0;32m    272\u001b[0m     \u001b[38;5;66;03m# there is a chance that the final task that signals if a transfer\u001b[39;00m\n\u001b[1;32m   (...)\u001b[0m\n\u001b[0;32m    281\u001b[0m \n\u001b[0;32m    282\u001b[0m     \u001b[38;5;66;03m# Set the exception, that caused the process to fail.\u001b[39;00m\n",
      "File \u001b[1;32m~\\AppData\\Roaming\\Python\\Python311\\site-packages\\s3transfer\\download.py:354\u001b[0m, in \u001b[0;36mDownloadSubmissionTask._submit\u001b[1;34m(self, client, config, osutil, request_executor, io_executor, transfer_future, bandwidth_limiter)\u001b[0m\n\u001b[0;32m    351\u001b[0m \u001b[38;5;28;01mif\u001b[39;00m transfer_future\u001b[38;5;241m.\u001b[39mmeta\u001b[38;5;241m.\u001b[39msize \u001b[38;5;129;01mis\u001b[39;00m \u001b[38;5;28;01mNone\u001b[39;00m:\n\u001b[0;32m    352\u001b[0m     \u001b[38;5;66;03m# If a size was not provided figure out the size for the\u001b[39;00m\n\u001b[0;32m    353\u001b[0m     \u001b[38;5;66;03m# user.\u001b[39;00m\n\u001b[1;32m--> 354\u001b[0m     response \u001b[38;5;241m=\u001b[39m client\u001b[38;5;241m.\u001b[39mhead_object(\n\u001b[0;32m    355\u001b[0m         Bucket\u001b[38;5;241m=\u001b[39mtransfer_future\u001b[38;5;241m.\u001b[39mmeta\u001b[38;5;241m.\u001b[39mcall_args\u001b[38;5;241m.\u001b[39mbucket,\n\u001b[0;32m    356\u001b[0m         Key\u001b[38;5;241m=\u001b[39mtransfer_future\u001b[38;5;241m.\u001b[39mmeta\u001b[38;5;241m.\u001b[39mcall_args\u001b[38;5;241m.\u001b[39mkey,\n\u001b[0;32m    357\u001b[0m         \u001b[38;5;241m*\u001b[39m\u001b[38;5;241m*\u001b[39mtransfer_future\u001b[38;5;241m.\u001b[39mmeta\u001b[38;5;241m.\u001b[39mcall_args\u001b[38;5;241m.\u001b[39mextra_args,\n\u001b[0;32m    358\u001b[0m     )\n\u001b[0;32m    359\u001b[0m     transfer_future\u001b[38;5;241m.\u001b[39mmeta\u001b[38;5;241m.\u001b[39mprovide_transfer_size(\n\u001b[0;32m    360\u001b[0m         response[\u001b[38;5;124m'\u001b[39m\u001b[38;5;124mContentLength\u001b[39m\u001b[38;5;124m'\u001b[39m]\n\u001b[0;32m    361\u001b[0m     )\n",
      "File \u001b[1;32m~\\AppData\\Roaming\\Python\\Python311\\site-packages\\botocore\\client.py:565\u001b[0m, in \u001b[0;36mClientCreator._create_api_method.<locals>._api_call\u001b[1;34m(self, *args, **kwargs)\u001b[0m\n\u001b[0;32m    564\u001b[0m \u001b[38;5;66;03m# The \"self\" in this scope is referring to the BaseClient.\u001b[39;00m\n\u001b[1;32m--> 565\u001b[0m \u001b[38;5;28;01mreturn\u001b[39;00m \u001b[38;5;28mself\u001b[39m\u001b[38;5;241m.\u001b[39m_make_api_call(operation_name, kwargs)\n",
      "File \u001b[1;32m~\\AppData\\Roaming\\Python\\Python311\\site-packages\\botocore\\client.py:1021\u001b[0m, in \u001b[0;36mBaseClient._make_api_call\u001b[1;34m(self, operation_name, api_params)\u001b[0m\n\u001b[0;32m   1020\u001b[0m     error_class \u001b[38;5;241m=\u001b[39m \u001b[38;5;28mself\u001b[39m\u001b[38;5;241m.\u001b[39mexceptions\u001b[38;5;241m.\u001b[39mfrom_code(error_code)\n\u001b[1;32m-> 1021\u001b[0m     \u001b[38;5;28;01mraise\u001b[39;00m error_class(parsed_response, operation_name)\n\u001b[0;32m   1022\u001b[0m \u001b[38;5;28;01melse\u001b[39;00m:\n",
      "\u001b[1;31mClientError\u001b[0m: An error occurred (404) when calling the HeadObject operation: Not Found",
      "\nDuring handling of the above exception, another exception occurred:\n",
      "\u001b[1;31mFileNotFoundError\u001b[0m                         Traceback (most recent call last)",
      "Cell \u001b[1;32mIn[3], line 1\u001b[0m\n\u001b[1;32m----> 1\u001b[0m \u001b[38;5;28mobject\u001b[39m \u001b[38;5;241m=\u001b[39m naas_python\u001b[38;5;241m.\u001b[39mstorage\u001b[38;5;241m.\u001b[39mget_workspace_storage_object(\n\u001b[0;32m      2\u001b[0m         workspace_id\u001b[38;5;241m=\u001b[39mworkspace_id,\n\u001b[0;32m      3\u001b[0m         storage_name\u001b[38;5;241m=\u001b[39mstorage_name,\n\u001b[0;32m      4\u001b[0m         src_file\u001b[38;5;241m=\u001b[39msrc_file,\n\u001b[0;32m      5\u001b[0m         dst_file\u001b[38;5;241m=\u001b[39mdst_file\n\u001b[0;32m      6\u001b[0m )\n\u001b[0;32m      7\u001b[0m \u001b[38;5;28mobject\u001b[39m\n",
      "File \u001b[1;32m~\\AppData\\Roaming\\Python\\Python311\\site-packages\\naas_python\\domains\\storage\\adaptors\\primary\\SDKStorageAdaptor.py:94\u001b[0m, in \u001b[0;36mSDKStorageAdaptor.get_workspace_storage_object\u001b[1;34m(self, workspace_id, storage_name, src_file, dst_file)\u001b[0m\n\u001b[0;32m     87\u001b[0m \u001b[38;5;28;01mdef\u001b[39;00m \u001b[38;5;21mget_workspace_storage_object\u001b[39m(\u001b[38;5;28mself\u001b[39m, \n\u001b[0;32m     88\u001b[0m     workspace_id: \u001b[38;5;28mstr\u001b[39m \u001b[38;5;241m=\u001b[39m \u001b[38;5;124m\"\u001b[39m\u001b[38;5;124m\"\u001b[39m, \n\u001b[0;32m     89\u001b[0m     storage_name: \u001b[38;5;28mstr\u001b[39m \u001b[38;5;241m=\u001b[39m \u001b[38;5;124m\"\u001b[39m\u001b[38;5;124m\"\u001b[39m,\n\u001b[0;32m     90\u001b[0m     src_file: \u001b[38;5;28mstr\u001b[39m \u001b[38;5;241m=\u001b[39m \u001b[38;5;124m\"\u001b[39m\u001b[38;5;124m\"\u001b[39m,\n\u001b[0;32m     91\u001b[0m     dst_file: \u001b[38;5;28mstr\u001b[39m \u001b[38;5;241m=\u001b[39m \u001b[38;5;124m\"\u001b[39m\u001b[38;5;124m\"\u001b[39m,\n\u001b[0;32m     92\u001b[0m     ) \u001b[38;5;241m-\u001b[39m\u001b[38;5;241m>\u001b[39m \u001b[38;5;28mbytes\u001b[39m:\n\u001b[1;32m---> 94\u001b[0m     response \u001b[38;5;241m=\u001b[39m \u001b[38;5;28mself\u001b[39m\u001b[38;5;241m.\u001b[39mdomain\u001b[38;5;241m.\u001b[39mget_workspace_storage_object(\n\u001b[0;32m     95\u001b[0m             workspace_id\u001b[38;5;241m=\u001b[39mworkspace_id,\n\u001b[0;32m     96\u001b[0m             storage_name\u001b[38;5;241m=\u001b[39mstorage_name,\n\u001b[0;32m     97\u001b[0m             src_file\u001b[38;5;241m=\u001b[39msrc_file,\n\u001b[0;32m     98\u001b[0m             dst_file\u001b[38;5;241m=\u001b[39mdst_file,\n\u001b[0;32m     99\u001b[0m         )\n\u001b[0;32m    100\u001b[0m     \u001b[38;5;28;01mreturn\u001b[39;00m response\n",
      "File \u001b[1;32m~\\AppData\\Roaming\\Python\\Python311\\site-packages\\naas_python\\domains\\storage\\StorageDomain.py:138\u001b[0m, in \u001b[0;36mStorageDomain.get_workspace_storage_object\u001b[1;34m(self, workspace_id, storage_name, src_file, dst_file)\u001b[0m\n\u001b[0;32m    135\u001b[0m     credentials \u001b[38;5;241m=\u001b[39m \u001b[38;5;28mself\u001b[39m\u001b[38;5;241m.\u001b[39madaptor\u001b[38;5;241m.\u001b[39mgenerate_credentials(workspace_id, storage_name)\n\u001b[0;32m    136\u001b[0m     storage_provider\u001b[38;5;241m.\u001b[39msave_naas_credentials(workspace_id, storage_name, credentials)\n\u001b[1;32m--> 138\u001b[0m response \u001b[38;5;241m=\u001b[39m storage_provider\u001b[38;5;241m.\u001b[39mget_workspace_storage_object(workspace_id\u001b[38;5;241m=\u001b[39mworkspace_id, storage_name\u001b[38;5;241m=\u001b[39mstorage_name, src_file\u001b[38;5;241m=\u001b[39msrc_file, dst_file\u001b[38;5;241m=\u001b[39mdst_file)\n\u001b[0;32m    139\u001b[0m \u001b[38;5;28;01mreturn\u001b[39;00m response\n",
      "File \u001b[1;32m~\\AppData\\Roaming\\Python\\Python311\\site-packages\\naas_python\\domains\\storage\\adaptors\\secondary\\providers\\S3StorageProviderAdaptor.py:102\u001b[0m, in \u001b[0;36mS3StorageProviderAdaptor.get_workspace_storage_object\u001b[1;34m(self, workspace_id, storage_name, src_file, dst_file)\u001b[0m\n\u001b[0;32m     99\u001b[0m     \u001b[38;5;28;01mreturn\u001b[39;00m response\n\u001b[0;32m    101\u001b[0m \u001b[38;5;28;01mexcept\u001b[39;00m \u001b[38;5;167;01mException\u001b[39;00m \u001b[38;5;28;01mas\u001b[39;00m e:\n\u001b[1;32m--> 102\u001b[0m     \u001b[38;5;28mself\u001b[39m\u001b[38;5;241m.\u001b[39m__handle_exceptions(\u001b[38;5;28mstr\u001b[39m(e))\n\u001b[0;32m    103\u001b[0m \u001b[38;5;28;01mreturn\u001b[39;00m response\n",
      "File \u001b[1;32m~\\AppData\\Roaming\\Python\\Python311\\site-packages\\naas_python\\domains\\storage\\adaptors\\secondary\\providers\\S3StorageProviderAdaptor.py:265\u001b[0m, in \u001b[0;36mS3StorageProviderAdaptor.__handle_exceptions\u001b[1;34m(self, exception)\u001b[0m\n\u001b[0;32m    263\u001b[0m     \u001b[38;5;28;01mraise\u001b[39;00m BadRequest(\u001b[38;5;124mf\u001b[39m\u001b[38;5;124m\"\u001b[39m\u001b[38;5;124mBad request. Please retry in few seconds.\u001b[39m\u001b[38;5;124m\"\u001b[39m)\n\u001b[0;32m    264\u001b[0m \u001b[38;5;28;01melif\u001b[39;00m \u001b[38;5;124m\"\u001b[39m\u001b[38;5;124mAn error occurred (404)\u001b[39m\u001b[38;5;124m\"\u001b[39m \u001b[38;5;129;01min\u001b[39;00m exception \u001b[38;5;129;01mand\u001b[39;00m \u001b[38;5;124m\"\u001b[39m\u001b[38;5;124mNot Found\u001b[39m\u001b[38;5;124m\"\u001b[39m \u001b[38;5;129;01min\u001b[39;00m exception:\n\u001b[1;32m--> 265\u001b[0m     \u001b[38;5;28;01mraise\u001b[39;00m \u001b[38;5;167;01mFileNotFoundError\u001b[39;00m(\u001b[38;5;124mf\u001b[39m\u001b[38;5;124m\"\u001b[39m\u001b[38;5;124mFile not found.\u001b[39m\u001b[38;5;124m\"\u001b[39m)            \n\u001b[0;32m    266\u001b[0m \u001b[38;5;28;01melif\u001b[39;00m \u001b[38;5;124m\"\u001b[39m\u001b[38;5;124mFilename must be a string or a path-like object\u001b[39m\u001b[38;5;124m\"\u001b[39m \u001b[38;5;129;01min\u001b[39;00m exception:\n\u001b[0;32m    267\u001b[0m     \u001b[38;5;28;01mraise\u001b[39;00m \u001b[38;5;167;01mFileNotFoundError\u001b[39;00m(\u001b[38;5;124mf\u001b[39m\u001b[38;5;124m\"\u001b[39m\u001b[38;5;124mFile not found. Must be a string or a path-like object\u001b[39m\u001b[38;5;124m\"\u001b[39m)\n",
      "\u001b[1;31mFileNotFoundError\u001b[0m: [FileNotFoundError]: File not found."
     ]
    }
   ],
   "source": [
    "object = naas_python.storage.get_workspace_storage_object(\n",
    "        workspace_id=workspace_id,\n",
    "        storage_name=storage_name,\n",
    "        src_file=src_file,\n",
    "        dst_file=dst_file\n",
    ")\n",
    "object"
   ]
  },
  {
   "cell_type": "markdown",
   "id": "dcfa8e9c",
   "metadata": {},
   "source": [
    "## Output"
   ]
  },
  {
   "cell_type": "markdown",
   "id": "0de0bf16",
   "metadata": {},
   "source": [
    "### Display result"
   ]
  },
  {
   "cell_type": "code",
   "execution_count": null,
   "id": "53a76c73",
   "metadata": {},
   "outputs": [],
   "source": [
    "object"
   ]
  },
  {
   "cell_type": "markdown",
   "id": "bdf35940",
   "metadata": {},
   "source": [
    "### CLI command"
   ]
  },
  {
   "cell_type": "markdown",
   "id": "41e2fbf0",
   "metadata": {},
   "source": [
    "```sh\n",
    "naas-python storage get-object --help\n",
    "```\n",
    "\n",
    "```sh\n",
    "naas-python storage get-object \\\n",
    "--workspace 81507a26-3644-496c-a379-4c7021434aa0 \\\n",
    "--storage test-storage \\\n",
    "--source \"my-test-dir/my-object.txt.zip\" \\\n",
    "--destination \"test.local.txt.zip\"\n",
    "```"
   ]
  }
 ],
 "metadata": {
  "kernelspec": {
   "display_name": "Python 3",
   "language": "python",
   "name": "python3"
  },
  "language_info": {
   "codemirror_mode": {
    "name": "ipython",
    "version": 3
   },
   "file_extension": ".py",
   "mimetype": "text/x-python",
   "name": "python",
   "nbconvert_exporter": "python",
   "pygments_lexer": "ipython3",
   "version": "3.11.5"
  }
 },
 "nbformat": 4,
 "nbformat_minor": 5
}
