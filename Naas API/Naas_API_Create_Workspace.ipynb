{
 "cells": [
  {
   "cell_type": "markdown",
   "id": "dc38b9aa-abaa-48d5-84a7-a8e824ecdf7a",
   "metadata": {
    "papermill": {},
    "tags": []
   },
   "source": [
    "<img width=\"8%\" alt=\"Naas API.png\" src=\"https://raw.githubusercontent.com/jupyter-naas/awesome-notebooks/master/.github/assets/logos/Naas%20API.png\" style=\"border-radius: 15%\">"
   ]
  },
  {
   "cell_type": "markdown",
   "id": "f796d9b3-e0f9-42e9-8df1-af9d6d2bae92",
   "metadata": {
    "papermill": {},
    "tags": []
   },
   "source": [
    "# Naas API - Create Workspace\n",
    "<a href=\"https://bit.ly/3JyWIk6\">Give Feedback</a> | <a href=\"https://github.com/jupyter-naas/awesome-notebooks/issues/new?assignees=&labels=bug&template=bug_report.md&title=Naas+API+-+Create+Workspace:+Error+short+description\">Bug report</a>"
   ]
  },
  {
   "cell_type": "markdown",
   "id": "5e848dd8-9b58-438e-a72a-32353ac18967",
   "metadata": {
    "papermill": {},
    "tags": []
   },
   "source": [
    "**Tags:** #naas #api #workspace #create #python #snippet"
   ]
  },
  {
   "cell_type": "markdown",
   "id": "859fc114-dba0-401b-bcb1-d33b42d013b7",
   "metadata": {
    "papermill": {},
    "tags": []
   },
   "source": [
    "**Author:** [Florent Ravenel](https://www.linkedin.com/in/florent-ravenel/)"
   ]
  },
  {
   "cell_type": "markdown",
   "id": "120617a4-953d-44a1-b76f-6322bf150c19",
   "metadata": {
    "papermill": {},
    "tags": []
   },
   "source": [
    "**Last update:** 2024-03-06 (Created: 2024-03-06)"
   ]
  },
  {
   "cell_type": "markdown",
   "id": "4eb7d773-2a21-4013-af7b-134d6b67bb4c",
   "metadata": {
    "papermill": {},
    "tags": []
   },
   "source": [
    "**Description:** This notebook demonstrates how to create a workspace using the Naas API."
   ]
  },
  {
   "cell_type": "markdown",
   "id": "5f20db04-6d51-4e90-85fd-31655d27e06b",
   "metadata": {
    "papermill": {},
    "tags": []
   },
   "source": [
    "**References:**\n",
    "- [Naas API Documentation](https://api.naas.ai/redoc#tag/Workspace-API/operation/create_workspace_workspace_post)\n",
    "- [Naas Official Website](https://naas.ai/)"
   ]
  },
  {
   "cell_type": "markdown",
   "id": "2063af86-bdd4-4c25-978e-adf34344e798",
   "metadata": {
    "papermill": {},
    "tags": []
   },
   "source": [
    "## Input"
   ]
  },
  {
   "cell_type": "markdown",
   "id": "8e9c9591-e971-467d-9376-3e1df2de2168",
   "metadata": {
    "papermill": {},
    "tags": []
   },
   "source": [
    "### Import libraries"
   ]
  },
  {
   "cell_type": "code",
   "execution_count": null,
   "id": "f48bb1e4-badf-4698-b890-f04fc8e347d7",
   "metadata": {
    "papermill": {},
    "tags": []
   },
   "outputs": [],
   "source": [
    "import requests\n",
    "import naas"
   ]
  },
  {
   "cell_type": "markdown",
   "id": "cefc2bea-6028-473f-b6e9-e563f811e4ea",
   "metadata": {
    "papermill": {},
    "tags": []
   },
   "source": [
    "### Setup variables\n",
    "- `api_key`: Naas API key.\n",
    "- `user_id`: Workspace ID.\n",
    "- `data`: Workspace JSON."
   ]
  },
  {
   "cell_type": "code",
   "execution_count": null,
   "id": "8dcf4897-ddae-4c7c-a4aa-d8f05c0916fa",
   "metadata": {
    "papermill": {},
    "tags": []
   },
   "outputs": [],
   "source": [
    "api_key = naas.secret.get('NAAS_API_TOKEN')\n",
    "user_id = \"2b9ac8af-4026-4173-8796-xxxxxxx\"\n",
    "data = {\n",
    "    \"user_id\": user_id,\n",
    "    \"workspace\": {\n",
    "       'name': 'Naas',\n",
    "       'fav_icon': '',\n",
    "       'large_logo': '/assets/nass-logo-big-Bgh_HbfS.png',\n",
    "       'small_logo': 'https://raw.githubusercontent.com/jupyter-naas/awesome-notebooks/master/.github/assets/logos/Naas%20API.png',\n",
    "       'primary_color': '#48DD82',\n",
    "       'secondary_color': '#181a1c',\n",
    "       'tertiary_color': '#3c3f40',\n",
    "       'text_primary_color': '#fff',\n",
    "       'text_secondary_color': '#747677',\n",
    "       'is_personal': False,\n",
    "    }   \n",
    "}"
   ]
  },
  {
   "cell_type": "markdown",
   "id": "28b23fc5-4f1b-417d-8320-c4ed09af93cf",
   "metadata": {
    "papermill": {},
    "tags": []
   },
   "source": [
    "## Model"
   ]
  },
  {
   "cell_type": "markdown",
   "id": "14339f1d-5239-42c4-9e14-5d9033e70661",
   "metadata": {
    "papermill": {},
    "tags": []
   },
   "source": [
    "### Create Workspace"
   ]
  },
  {
   "cell_type": "code",
   "execution_count": null,
   "id": "dd4b57ee-4a65-4225-b675-2beb1866c42a",
   "metadata": {
    "papermill": {},
    "tags": []
   },
   "outputs": [],
   "source": [
    "def create_workspace(\n",
    "    api_key,\n",
    "    data,\n",
    "):\n",
    "    url = \"https://api.naas.ai/workspace\"\n",
    "    headers = {\n",
    "        \"Content-Type\": \"application/json\",\n",
    "        \"Authorization\": f\"Bearer {api_key}\"\n",
    "    }\n",
    "    response = requests.post(url, headers=headers, json=data)\n",
    "    return response.json()\n",
    "\n",
    "result = create_workspace(api_key, data)\n",
    "print(result)"
   ]
  },
  {
   "cell_type": "markdown",
   "id": "d8221630-6289-4b26-a003-a43f55d990ae",
   "metadata": {
    "papermill": {},
    "tags": []
   },
   "source": [
    "## Output"
   ]
  },
  {
   "cell_type": "markdown",
   "id": "4737eef4-98e4-478d-b8c1-029bf174b61d",
   "metadata": {
    "papermill": {},
    "tags": []
   },
   "source": [
    "### Display result"
   ]
  },
  {
   "cell_type": "code",
   "execution_count": null,
   "id": "0d7a4c73-2d60-4eb8-bf39-a249c255e209",
   "metadata": {
    "papermill": {},
    "tags": []
   },
   "outputs": [],
   "source": [
    "result"
   ]
  },
  {
   "cell_type": "code",
   "execution_count": null,
   "id": "cb166def-e1f8-4d21-bcbe-0bc7f2ca2999",
   "metadata": {
    "papermill": {},
    "tags": []
   },
   "outputs": [],
   "source": []
  }
 ],
 "metadata": {
  "kernelspec": {
   "display_name": "Python 3",
   "language": "python",
   "name": "python3"
  },
  "language_info": {
   "codemirror_mode": {
    "name": "ipython",
    "version": 3
   },
   "file_extension": ".py",
   "mimetype": "text/x-python",
   "name": "python",
   "nbconvert_exporter": "python",
   "pygments_lexer": "ipython3",
   "version": "3.9.6"
  },
  "naas": {
   "notebook_id": "45ea68c33760b0a7809857b8aa6211224177b7df588f555976463045b69b2a81",
   "notebook_path": "Naas API/Naas_API_Create_Workspace.ipynb"
  },
  "papermill": {
   "default_parameters": {},
   "environment_variables": {},
   "parameters": {},
   "version": "2.5.0"
  },
  "widgets": {
   "application/vnd.jupyter.widget-state+json": {
    "state": {},
    "version_major": 2,
    "version_minor": 0
   }
  }
 },
 "nbformat": 4,
 "nbformat_minor": 5
}
