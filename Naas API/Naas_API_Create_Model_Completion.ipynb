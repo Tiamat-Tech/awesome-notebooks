{
 "cells": [
  {
   "cell_type": "markdown",
   "id": "23e584cc-72b0-4a6b-95ac-5af26a73ad6b",
   "metadata": {
    "papermill": {},
    "tags": []
   },
   "source": [
    "<img width=\"8%\" alt=\"Naas API.png\" src=\"https://raw.githubusercontent.com/jupyter-naas/awesome-notebooks/master/.github/assets/logos/Naas%20API.png\" style=\"border-radius: 15%\">"
   ]
  },
  {
   "cell_type": "markdown",
   "id": "86ba80ab-0710-45cf-9c89-9693e776dfd7",
   "metadata": {
    "papermill": {},
    "tags": []
   },
   "source": [
    "# Naas API - Create Model Completion\n",
    "<a href=\"https://bit.ly/3JyWIk6\">Give Feedback</a> | <a href=\"https://github.com/jupyter-naas/awesome-notebooks/issues/new?assignees=&labels=bug&template=bug_report.md&title=Naas+API+-+Create+Model+Completion:+Error+short+description\">Bug report</a>"
   ]
  },
  {
   "cell_type": "markdown",
   "id": "20bac73b-555f-4407-b82f-7ade158c5001",
   "metadata": {
    "papermill": {},
    "tags": []
   },
   "source": [
    "**Tags:** #naas #chat #api #model #snippet"
   ]
  },
  {
   "cell_type": "markdown",
   "id": "10426b29-e197-4efb-923f-3efe877c4336",
   "metadata": {
    "papermill": {},
    "tags": []
   },
   "source": [
    "**Author:** [Florent Ravenel](https://www.linkedin.com/in/florent-ravenel/)"
   ]
  },
  {
   "cell_type": "markdown",
   "id": "a77eb3f7-068c-4799-ac0d-c194f5e62b10",
   "metadata": {
    "papermill": {},
    "tags": []
   },
   "source": [
    "**Last update:** 2024-02-29 (Created: 2024-02-29)"
   ]
  },
  {
   "cell_type": "markdown",
   "id": "6a0c4c4f-d60e-45d8-94f5-d04c2aa5f4e3",
   "metadata": {
    "papermill": {},
    "tags": []
   },
   "source": [
    "**Description:** This notebook demonstrates how to create a model completion using the Naas API."
   ]
  },
  {
   "cell_type": "markdown",
   "id": "d4f7453a-98cf-4e65-a65e-d7e2affa3bd4",
   "metadata": {
    "papermill": {},
    "tags": []
   },
   "source": [
    "**References:**\n",
    "- [Naas API Documentation](https://api.naas.ai/redoc#tag/AI-Model-API/operation/aimodel_completion_model__id__completion_post)\n",
    "- [Naas Official Website](https://naas.ai/)"
   ]
  },
  {
   "cell_type": "markdown",
   "id": "9916728c-b400-47f3-a5c6-613cbbcbe479",
   "metadata": {
    "papermill": {},
    "tags": []
   },
   "source": [
    "## Input"
   ]
  },
  {
   "cell_type": "markdown",
   "id": "9d9941df-c763-4945-b992-c61c24bc474c",
   "metadata": {
    "papermill": {},
    "tags": []
   },
   "source": [
    "### Import libraries"
   ]
  },
  {
   "cell_type": "code",
   "execution_count": null,
   "id": "c272c307-e590-484a-a3a8-1a39867fc9e2",
   "metadata": {
    "papermill": {},
    "tags": []
   },
   "outputs": [],
   "source": [
    "import requests\n",
    "import json\n",
    "import naas"
   ]
  },
  {
   "cell_type": "markdown",
   "id": "47fffab3-5811-4698-b7c6-d9a5eb95ca98",
   "metadata": {
    "papermill": {},
    "tags": []
   },
   "source": [
    "### Setup variables\n",
    "- `api_key`: Naas API key.\n",
    "- `model_id`: AI Model ID.\n",
    "- `prompt`: Prompt to be used as guidelines for the LLM.\n",
    "- `message`: Message to be sent."
   ]
  },
  {
   "cell_type": "code",
   "execution_count": null,
   "id": "56c5cf1c-c3bd-4611-b77f-9b1d86686a0b",
   "metadata": {
    "papermill": {},
    "tags": []
   },
   "outputs": [],
   "source": [
    "api_key = naas.secret.get('NAAS_API_TOKEN')\n",
    "model_id = \"507dbbc5-88a1-4bd7-8c35-28cea3faaf1f\"\n",
    "prompt = \"Create code block in python for every request\"\n",
    "message = \"Save JSON file\""
   ]
  },
  {
   "cell_type": "markdown",
   "id": "d76fae0c-7d9e-4b37-97f2-7cc9f864247f",
   "metadata": {
    "papermill": {},
    "tags": []
   },
   "source": [
    "## Model"
   ]
  },
  {
   "cell_type": "markdown",
   "id": "660d17c1-2ceb-467f-b9fc-a9dcf6fa8408",
   "metadata": {
    "papermill": {},
    "tags": []
   },
   "source": [
    "### Create Model Completion"
   ]
  },
  {
   "cell_type": "code",
   "execution_count": null,
   "id": "0acfc15d-069c-42f1-9b55-648892e4dc02",
   "metadata": {
    "papermill": {},
    "tags": []
   },
   "outputs": [],
   "source": [
    "def create_model_completion(\n",
    "    api_key,\n",
    "    model_id=\"507dbbc5-88a1-4bd7-8c35-28cea3faaf1f\",\n",
    "    prompt=\"\",\n",
    "    message=\"\",\n",
    "):\n",
    "    # Requests\n",
    "    url = f\"https://api.naas.ai/model/{model_id}/completion\"\n",
    "    payload = json.dumps(\n",
    "        {\n",
    "            \"id\": model_id,\n",
    "            \"payload\": json.dumps(\n",
    "                {\n",
    "                    \"messages\": \n",
    "                    [\n",
    "                        {\n",
    "                            \"role\": \"system\",\n",
    "                            \"content\": prompt\n",
    "                        },\n",
    "                        {\n",
    "                            \"role\": \"user\",\n",
    "                            \"content\": message\n",
    "                        }\n",
    "                    ]\n",
    "                }\n",
    "            )\n",
    "        }\n",
    "    )\n",
    "    headers = {\n",
    "      'Content-Type': 'application/json',\n",
    "      'Authorization': f'Bearer {api_key}'\n",
    "    }\n",
    "    result = None\n",
    "    retry = 0\n",
    "    while True:\n",
    "        try:\n",
    "            response = requests.post(url, headers=headers, data=payload)\n",
    "            result = response.json()['completion']['completions'][0]\n",
    "            break\n",
    "        except Exception as e:\n",
    "            print(e)\n",
    "        retry += 1\n",
    "        if retry > 3:\n",
    "            break\n",
    "    return result\n",
    "\n",
    "result = create_model_completion(api_key, model_id, prompt, message)\n",
    "print(result)"
   ]
  },
  {
   "cell_type": "markdown",
   "id": "efaca776-ae51-4740-9ce7-dcd4c89ba313",
   "metadata": {
    "papermill": {},
    "tags": []
   },
   "source": [
    "## Output"
   ]
  },
  {
   "cell_type": "markdown",
   "id": "7222042f-f395-4525-aa4c-4d74470ec1a5",
   "metadata": {
    "papermill": {},
    "tags": []
   },
   "source": [
    "### Display result"
   ]
  },
  {
   "cell_type": "code",
   "execution_count": null,
   "id": "eb6ec245-a146-484e-ab0c-a33d7a058247",
   "metadata": {
    "papermill": {},
    "tags": []
   },
   "outputs": [],
   "source": [
    "result"
   ]
  }
 ],
 "metadata": {
  "kernelspec": {
   "display_name": "Python 3",
   "language": "python",
   "name": "python3"
  },
  "language_info": {
   "codemirror_mode": {
    "name": "ipython",
    "version": 3
   },
   "file_extension": ".py",
   "mimetype": "text/x-python",
   "name": "python",
   "nbconvert_exporter": "python",
   "pygments_lexer": "ipython3",
   "version": "3.9.6"
  },
  "naas": {
   "notebook_id": "1b9c13eaf66c98570d225994fc55cb5d65fd210c9fb9b59bbef4206780b218d4",
   "notebook_path": "Naas API/Naas_API_Create_Model_Completion.ipynb"
  },
  "papermill": {
   "default_parameters": {},
   "environment_variables": {},
   "parameters": {},
   "version": "2.5.0"
  },
  "widgets": {
   "application/vnd.jupyter.widget-state+json": {
    "state": {},
    "version_major": 2,
    "version_minor": 0
   }
  }
 },
 "nbformat": 4,
 "nbformat_minor": 5
}