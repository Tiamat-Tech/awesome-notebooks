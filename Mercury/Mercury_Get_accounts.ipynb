{
 "cells": [
  {
   "cell_type": "markdown",
   "id": "896e6736-d05f-4d37-807b-4ec9b1bcd0fb",
   "metadata": {
    "papermill": {},
    "tags": []
   },
   "source": [
    "<img width=\"8%\" alt=\"Mercury.jpeg\" src=\"https://raw.githubusercontent.com/jupyter-naas/awesome-notebooks/master/.github/assets/logos/Mercury.jpeg\" style=\"border-radius: 15%\">"
   ]
  },
  {
   "cell_type": "markdown",
   "id": "a2ea9e0f-c0d9-4264-b536-deb0aa44deba",
   "metadata": {
    "papermill": {},
    "tags": []
   },
   "source": [
    "# Mercury - Get accounts\n",
    "<a href=\"https://bit.ly/3JyWIk6\">Give Feedback</a> | <a href=\"https://github.com/jupyter-naas/awesome-notebooks/issues/new?assignees=&labels=bug&template=bug_report.md&title=Mercury+-+Get+accounts:+Error+short+description\">Bug report</a>"
   ]
  },
  {
   "cell_type": "markdown",
   "id": "f96734f9-b73b-4b32-902b-6e9145d91fac",
   "metadata": {
    "papermill": {},
    "tags": []
   },
   "source": [
    "**Tags:** #mercury #accounts #get #bank #api #snippet"
   ]
  },
  {
   "cell_type": "markdown",
   "id": "0ed26574-e865-4ba0-9f90-3d3d12fe2d33",
   "metadata": {
    "papermill": {},
    "tags": []
   },
   "source": [
    "**Author:** [Florent Ravenel](https://www.linkedin.com/in/florent-ravenel/)"
   ]
  },
  {
   "cell_type": "markdown",
   "id": "72387e75-46fc-4d2d-b9c4-b3bd01b70c1c",
   "metadata": {
    "papermill": {},
    "tags": []
   },
   "source": [
    "**Last update:** 2023-11-22 (Created: 2023-11-22)"
   ]
  },
  {
   "cell_type": "markdown",
   "id": "c5f737ea-ce34-460a-a7c4-61b464af7a59",
   "metadata": {
    "papermill": {},
    "tags": []
   },
   "source": [
    "**Description:** This notebook retrieves information about all your bank accounts using Mercury API."
   ]
  },
  {
   "cell_type": "markdown",
   "id": "18577d6f-f855-41d3-bb14-d81b7dc6a0f0",
   "metadata": {
    "papermill": {},
    "tags": []
   },
   "source": [
    "**References:**\n",
    "- [Mercury - Get started](https://docs.mercury.com/reference/getting-started-with-your-api)\n",
    "- [Mercury API Documentation - Accounts](https://docs.mercury.com/reference/accounts)"
   ]
  },
  {
   "cell_type": "markdown",
   "id": "d3a17e89-a88f-4e55-be4b-4ad97494bc00",
   "metadata": {
    "papermill": {},
    "tags": []
   },
   "source": [
    "## Input"
   ]
  },
  {
   "cell_type": "markdown",
   "id": "d2b41a4a-62bd-4811-b91c-9059e341309f",
   "metadata": {
    "papermill": {},
    "tags": []
   },
   "source": [
    "### Import libraries"
   ]
  },
  {
   "cell_type": "code",
   "execution_count": 10,
   "id": "f7dd9dd0-bcda-4168-a27e-c23c7447d107",
   "metadata": {
    "papermill": {},
    "tags": []
   },
   "outputs": [],
   "source": [
    "import naas\n",
    "import requests"
   ]
  },
  {
   "cell_type": "markdown",
   "id": "8c27af53-80ff-47e4-8215-a5ae726c4a21",
   "metadata": {
    "papermill": {},
    "tags": []
   },
   "source": [
    "### Setup variables\n",
    "[Create your Mercury API token](https://app.mercury.com/settings/tokens)\n",
    "- `api_token`: API token provided by Mercury. "
   ]
  },
  {
   "cell_type": "code",
   "execution_count": 11,
   "id": "1f576234-39c4-4415-8d55-26989dc788a8",
   "metadata": {
    "papermill": {},
    "tags": []
   },
   "outputs": [],
   "source": [
    "api_token = naas.secret.get(\"MERCURY_API_TOKEN\")"
   ]
  },
  {
   "cell_type": "markdown",
   "id": "0dc57fb7-d164-4be6-95b5-b86876ba92c7",
   "metadata": {
    "papermill": {},
    "tags": []
   },
   "source": [
    "## Model"
   ]
  },
  {
   "cell_type": "markdown",
   "id": "4e980868-986e-411e-ac88-4d3efef5d6d2",
   "metadata": {
    "papermill": {},
    "tags": []
   },
   "source": [
    "### Retrieve accounts"
   ]
  },
  {
   "cell_type": "code",
   "execution_count": 8,
   "id": "1fc10915-fa97-4154-9390-45df034b865c",
   "metadata": {
    "papermill": {},
    "tags": []
   },
   "outputs": [],
   "source": [
    "def retrieve_accounts(api_token):\n",
    "    url = \"https://api.mercury.com/api/v1/accounts\"\n",
    "    headers = {\n",
    "        \"accept\": \"application/json\",\n",
    "        \"Authorization\": f\"Bearer {api_token}\"\n",
    "    }\n",
    "    response = requests.get(url, headers=headers)\n",
    "    return response\n",
    "\n",
    "response = retrieve_accounts(api_token)\n",
    "response"
   ]
  },
  {
   "cell_type": "markdown",
   "id": "3debdf74-6be3-4240-aaf8-91ff3e62d699",
   "metadata": {
    "papermill": {},
    "tags": []
   },
   "source": [
    "## Output"
   ]
  },
  {
   "cell_type": "markdown",
   "id": "931cff78-601b-4e2d-8df7-cc9e8d800628",
   "metadata": {
    "papermill": {},
    "tags": []
   },
   "source": [
    "### Display result"
   ]
  },
  {
   "cell_type": "code",
   "execution_count": 9,
   "id": "d109a907-68ee-4a29-9334-b31b5ccf9e46",
   "metadata": {
    "papermill": {},
    "tags": []
   },
   "outputs": [],
   "source": [
    "response.json()"
   ]
  },
  {
   "cell_type": "markdown",
   "id": "39c1f339-e73b-44fd-919e-41864bd5791a",
   "metadata": {
    "papermill": {},
    "tags": []
   },
   "source": [
    " "
   ]
  }
 ],
 "metadata": {
  "kernelspec": {
   "display_name": "Python 3",
   "language": "python",
   "name": "python3"
  },
  "language_info": {
   "codemirror_mode": {
    "name": "ipython",
    "version": 3
   },
   "file_extension": ".py",
   "mimetype": "text/x-python",
   "name": "python",
   "nbconvert_exporter": "python",
   "pygments_lexer": "ipython3",
   "version": "3.9.6"
  },
  "naas": {
   "notebook_id": "750efdad13a509c51772dc73620d95f2538a6c58435b5de50ddf79f21c6e0ad1",
   "notebook_path": "Mercury/Mercury_Get_accounts.ipynb"
  },
  "papermill": {
   "default_parameters": {},
   "environment_variables": {},
   "parameters": {},
   "version": "2.5.0"
  },
  "widgets": {
   "application/vnd.jupyter.widget-state+json": {
    "state": {},
    "version_major": 2,
    "version_minor": 0
   }
  }
 },
 "nbformat": 4,
 "nbformat_minor": 5
}