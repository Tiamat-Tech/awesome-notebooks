{
 "cells": [
  {
   "cell_type": "markdown",
   "id": "896e6736-d05f-4d37-807b-4ec9b1bcd0fb",
   "metadata": {
    "papermill": {},
    "tags": []
   },
   "source": [
    "<img width=\"8%\" alt=\"Mercury.jpeg\" src=\"https://raw.githubusercontent.com/jupyter-naas/awesome-notebooks/master/.github/assets/logos/Mercury.jpeg\" style=\"border-radius: 15%\">"
   ]
  },
  {
   "cell_type": "markdown",
   "id": "a2ea9e0f-c0d9-4264-b536-deb0aa44deba",
   "metadata": {
    "papermill": {},
    "tags": []
   },
   "source": [
    "# Mercury - Get transactions\n",
    "<a href=\"https://bit.ly/3JyWIk6\">Give Feedback</a> | <a href=\"https://github.com/jupyter-naas/awesome-notebooks/issues/new?assignees=&labels=bug&template=bug_report.md&title=Mercury+-+Get+transactions:+Error+short+description\">Bug report</a>"
   ]
  },
  {
   "cell_type": "markdown",
   "id": "f96734f9-b73b-4b32-902b-6e9145d91fac",
   "metadata": {
    "papermill": {},
    "tags": []
   },
   "source": [
    "**Tags:** #mercury #transactoins #get #bank #api #snippet"
   ]
  },
  {
   "cell_type": "markdown",
   "id": "0ed26574-e865-4ba0-9f90-3d3d12fe2d33",
   "metadata": {
    "papermill": {},
    "tags": []
   },
   "source": [
    "**Author:** [Florent Ravenel](https://www.linkedin.com/in/florent-ravenel/)"
   ]
  },
  {
   "cell_type": "markdown",
   "id": "72387e75-46fc-4d2d-b9c4-b3bd01b70c1c",
   "metadata": {
    "papermill": {},
    "tags": []
   },
   "source": [
    "**Last update:** 2023-11-22 (Created: 2023-11-22)"
   ]
  },
  {
   "cell_type": "markdown",
   "id": "c5f737ea-ce34-460a-a7c4-61b464af7a59",
   "metadata": {
    "papermill": {},
    "tags": []
   },
   "source": [
    "**Description:** This notebook retrieves information about your transactions for a specific account using Mercury API."
   ]
  },
  {
   "cell_type": "markdown",
   "id": "18577d6f-f855-41d3-bb14-d81b7dc6a0f0",
   "metadata": {
    "papermill": {},
    "tags": []
   },
   "source": [
    "**References:**\n",
    "- [Mercury - Get started](https://docs.mercury.com/reference/getting-started-with-your-api)\n",
    "- [Mercury API Documentation - Transactions](https://docs.mercury.com/reference/transactions-1)"
   ]
  },
  {
   "cell_type": "markdown",
   "id": "d3a17e89-a88f-4e55-be4b-4ad97494bc00",
   "metadata": {
    "papermill": {},
    "tags": []
   },
   "source": [
    "## Input"
   ]
  },
  {
   "cell_type": "markdown",
   "id": "d2b41a4a-62bd-4811-b91c-9059e341309f",
   "metadata": {
    "papermill": {},
    "tags": []
   },
   "source": [
    "### Import libraries"
   ]
  },
  {
   "cell_type": "code",
   "execution_count": null,
   "id": "f7dd9dd0-bcda-4168-a27e-c23c7447d107",
   "metadata": {
    "papermill": {},
    "tags": []
   },
   "outputs": [],
   "source": [
    "import naas\n",
    "import requests"
   ]
  },
  {
   "cell_type": "markdown",
   "id": "8c27af53-80ff-47e4-8215-a5ae726c4a21",
   "metadata": {
    "papermill": {},
    "tags": []
   },
   "source": [
    "### Setup variables\n",
    "**Mandatory**\n",
    "[Create your Mercury API token](https://app.mercury.com/settings/tokens)\n",
    "- `api_token`: API token provided by Mercury. \n",
    "- `account_id`: Your 36-character account uuid.\n",
    "- `limit`: Limit how many transactions you want to retrieve. \n",
    "- `offset`: The number of most recent transactions you want to omit.\n",
    "\n",
    "**Optional**\n",
    "- `status`: \"pending\" | \"sent\" | \"cancelled\" | \"failed\"\n",
    "- `start`: Earliest createdAt date to filter for. If it's not provided, it defaults to 30 days ago. Format: YYYY-MM-DD or an ISO 8601 string. Please note that your Mercury transactions on your Dashboard might have their postedAt date displayed, as opposed to createdAt.\n",
    "- `end`: Latest createdAt date fo filter for. If it's not provided, it defaults to current day. Format: YYYY-MM-DD or an ISO 8601 string. Please note that your Mercury transactions on your Dashboard might have their postedAt date displayed, as opposed to createdAt\n",
    "- `search`: Search term to look for in transaction descriptions."
   ]
  },
  {
   "cell_type": "code",
   "execution_count": null,
   "id": "1f576234-39c4-4415-8d55-26989dc788a8",
   "metadata": {
    "papermill": {},
    "tags": []
   },
   "outputs": [],
   "source": [
    "# Mandatory\n",
    "api_token = naas.secret.get(\"MERCURY_API_TOKEN\")\n",
    "account_id = \"1cbb9430-cce8-11ed-92eb-xxxxxxxxxx\"\n",
    "limit = 500\n",
    "offset = 0\n",
    "\n",
    "# Optional\n",
    "status = None\n",
    "start = None\n",
    "end = None\n",
    "search = None"
   ]
  },
  {
   "cell_type": "markdown",
   "id": "0dc57fb7-d164-4be6-95b5-b86876ba92c7",
   "metadata": {
    "papermill": {},
    "tags": []
   },
   "source": [
    "## Model"
   ]
  },
  {
   "cell_type": "markdown",
   "id": "4e980868-986e-411e-ac88-4d3efef5d6d2",
   "metadata": {
    "papermill": {},
    "tags": []
   },
   "source": [
    "### Retrieve transactions"
   ]
  },
  {
   "cell_type": "code",
   "execution_count": null,
   "id": "1fc10915-fa97-4154-9390-45df034b865c",
   "metadata": {
    "papermill": {},
    "tags": []
   },
   "outputs": [],
   "source": [
    "def retrieve_transactions(\n",
    "    api_token,\n",
    "    account_id,\n",
    "    limit=500,\n",
    "    offset=0,\n",
    "    status=None,\n",
    "    start=None,\n",
    "    end=None,\n",
    "    search=None\n",
    "):\n",
    "    params = {\n",
    "        \"offset\": offset,\n",
    "        \"limit\": limit,\n",
    "        \"status\": status,\n",
    "        \"start\": start,\n",
    "        \"end\": end,\n",
    "        \"search\": search,\n",
    "    }\n",
    "    url = f\"https://api.mercury.com/api/v1/account/{account_id}/transactions?\"\n",
    "    headers = {\n",
    "        \"accept\": \"application/json\",\n",
    "        \"Authorization\": f\"Bearer {api_token}\"\n",
    "    }\n",
    "    response = requests.get(url, headers=headers, params=params)\n",
    "    return response\n",
    "\n",
    "response = retrieve_transactions(\n",
    "    api_token,\n",
    "    account_id,\n",
    "    limit,\n",
    "    offset,\n",
    "    start=start\n",
    ")\n",
    "response"
   ]
  },
  {
   "cell_type": "markdown",
   "id": "3debdf74-6be3-4240-aaf8-91ff3e62d699",
   "metadata": {
    "papermill": {},
    "tags": []
   },
   "source": [
    "## Output"
   ]
  },
  {
   "cell_type": "markdown",
   "id": "931cff78-601b-4e2d-8df7-cc9e8d800628",
   "metadata": {
    "papermill": {},
    "tags": []
   },
   "source": [
    "### Display result"
   ]
  },
  {
   "cell_type": "code",
   "execution_count": null,
   "id": "d109a907-68ee-4a29-9334-b31b5ccf9e46",
   "metadata": {
    "papermill": {},
    "tags": []
   },
   "outputs": [],
   "source": [
    "response.json()"
   ]
  },
  {
   "cell_type": "markdown",
   "id": "39c1f339-e73b-44fd-919e-41864bd5791a",
   "metadata": {
    "papermill": {},
    "tags": []
   },
   "source": [
    " "
   ]
  }
 ],
 "metadata": {
  "kernelspec": {
   "display_name": "Python 3",
   "language": "python",
   "name": "python3"
  },
  "language_info": {
   "codemirror_mode": {
    "name": "ipython",
    "version": 3
   },
   "file_extension": ".py",
   "mimetype": "text/x-python",
   "name": "python",
   "nbconvert_exporter": "python",
   "pygments_lexer": "ipython3",
   "version": "3.9.6"
  },
  "naas": {
   "notebook_id": "a261f0c8fcd31260c2c2b683d8e3cf06c128dc397b5030c0e60ef58c92be7ed8",
   "notebook_path": "Mercury/Mercury_Get_transactions.ipynb"
  },
  "papermill": {
   "default_parameters": {},
   "environment_variables": {},
   "parameters": {},
   "version": "2.5.0"
  },
  "widgets": {
   "application/vnd.jupyter.widget-state+json": {
    "state": {},
    "version_major": 2,
    "version_minor": 0
   }
  }
 },
 "nbformat": 4,
 "nbformat_minor": 5
}