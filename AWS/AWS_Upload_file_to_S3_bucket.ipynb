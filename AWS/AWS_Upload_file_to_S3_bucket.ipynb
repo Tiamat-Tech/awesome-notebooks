{
 "cells": [
  {
   "cell_type": "markdown",
   "id": "828a64a7-80b5-46a7-aadc-0ec2c045e2cd",
   "metadata": {
    "papermill": {},
    "tags": []
   },
   "source": [
    "<img width=\"8%\" alt=\"AWS.png\" src=\"https://raw.githubusercontent.com/jupyter-naas/awesome-notebooks/master/.github/assets/logos/AWS.png\" style=\"border-radius: 15%\">"
   ]
  },
  {
   "cell_type": "markdown",
   "id": "1cc559f7-2265-4cd4-81a6-ec2627011e03",
   "metadata": {
    "papermill": {},
    "tags": []
   },
   "source": [
    "# AWS - Upload file to S3 bucket\n",
    "<a href=\"https://bit.ly/3JyWIk6\">Give Feedback</a> | <a href=\"https://github.com/jupyter-naas/awesome-notebooks/issues/new?assignees=&labels=bug&template=bug_report.md&title=AWS+-+Upload+file+to+S3+bucket:+Error+short+description\">Bug report</a>"
   ]
  },
  {
   "cell_type": "markdown",
   "id": "b807e0d3-47af-47a7-999f-a9afe30dff65",
   "metadata": {
    "papermill": {},
    "tags": []
   },
   "source": [
    "**Tags:** #aws #cloud #storage #S3bucket #snippet #operations# AWS - Upload file to S3 bucket"
   ]
  },
  {
   "cell_type": "markdown",
   "id": "bd986ed1-1c08-4750-9529-0ff8ca9ce963",
   "metadata": {
    "papermill": {},
    "tags": []
   },
   "source": [
    "**Author:** [Maxime Jublou](https://www.linkedin.com/in/maximejublou/)"
   ]
  },
  {
   "cell_type": "markdown",
   "id": "ecc601cc-2304-4971-ac22-8e3f2c6140f8",
   "metadata": {
    "papermill": {},
    "tags": []
   },
   "source": [
    "**Last update:** 2023-11-20 (Created: 2021-08-03)"
   ]
  },
  {
   "cell_type": "markdown",
   "id": "naas-description",
   "metadata": {
    "papermill": {},
    "tags": [
     "description"
    ]
   },
   "source": [
    "**Description:** This notebook upload a file to an Amazon Web Services (AWS) S3 bucket, allowing for secure storage and easy access to the file. It is a simple and efficient way to store and manage data in the cloud."
   ]
  },
  {
   "cell_type": "markdown",
   "id": "08d8c826-3ae1-49e4-917a-018fee7799af",
   "metadata": {
    "papermill": {},
    "tags": []
   },
   "source": [
    "## Input"
   ]
  },
  {
   "cell_type": "markdown",
   "id": "2d8cd5a8-aed2-4ab8-828d-b110a0b9b622",
   "metadata": {
    "papermill": {},
    "tags": []
   },
   "source": [
    "### Import libraries"
   ]
  },
  {
   "cell_type": "code",
   "execution_count": null,
   "id": "1f885967-ac8d-4a5c-bf64-07a12c2cfb45",
   "metadata": {
    "papermill": {},
    "tags": []
   },
   "outputs": [],
   "source": [
    "import naas\n",
    "try:\n",
    "    import boto3\n",
    "except:\n",
    "    !pip install boto3 getpass4\n",
    "    import boto3"
   ]
  },
  {
   "cell_type": "markdown",
   "id": "5afa5cd7-6f2f-439c-90d9-45939b97e3ff",
   "metadata": {
    "papermill": {},
    "tags": []
   },
   "source": [
    "### Setup variables\n",
    "**Mandatory**\n",
    "- `aws_access_key_id`: This variable is used to store the AWS access key ID.\n",
    "- `aws_secret_access_key`: This variable is used to store the AWS secret access key.\n",
    "- `bucket_name`: The name of the S3 bucket from which you want to list the files.\n",
    "- `file_path`: The path of the file to be uploaded."
   ]
  },
  {
   "cell_type": "code",
   "execution_count": null,
   "id": "c5ce14c8-50f7-498a-941f-18819ca90315",
   "metadata": {
    "papermill": {},
    "tags": []
   },
   "outputs": [],
   "source": [
    "# Mandatory\n",
    "aws_access_key_id = naas.secret.get(\"AWS_ACCESS_KEY_ID\") or \"YOUR_AWS_ACCESS_KEY_ID\"\n",
    "aws_secret_access_key = naas.secret.get(\"AWS_SECRET_ACCESS_KEY\") or \"YOUR_AWS_SECRET_ACCESS_KEY\"\n",
    "bucket_name = \"naas-example\"\n",
    "file_path = \"AWS_Upload_file_to_S3_bucket.ipynb\""
   ]
  },
  {
   "cell_type": "markdown",
   "id": "bd3b4101-8482-4a38-a03c-02fe7e3ca1f5",
   "metadata": {
    "papermill": {},
    "tags": []
   },
   "source": [
    "## Model"
   ]
  },
  {
   "cell_type": "markdown",
   "id": "e642ba95-c4c0-4fcd-926c-f7309153e133",
   "metadata": {
    "papermill": {},
    "tags": []
   },
   "source": [
    "### Connect to AWS"
   ]
  },
  {
   "cell_type": "code",
   "execution_count": null,
   "id": "cb0a92e1-429f-468d-9f97-d08c13a6f058",
   "metadata": {
    "papermill": {},
    "tags": []
   },
   "outputs": [],
   "source": [
    "s3 = boto3.client(\n",
    "    \"s3\",\n",
    "    aws_access_key_id=aws_access_key_id,\n",
    "    aws_secret_access_key=aws_secret_access_key\n",
    ")"
   ]
  },
  {
   "cell_type": "markdown",
   "id": "1b13e10a-303b-4f3e-bf53-5e6a2a4acc69",
   "metadata": {
    "papermill": {},
    "tags": []
   },
   "source": [
    "## Output"
   ]
  },
  {
   "cell_type": "markdown",
   "id": "33eea148-a0d8-450a-bf64-1c70d148b9f5",
   "metadata": {
    "papermill": {},
    "tags": []
   },
   "source": [
    "### Upload data"
   ]
  },
  {
   "cell_type": "code",
   "execution_count": null,
   "id": "147fd0ab-e160-4187-91b8-f4c3c6feeeea",
   "metadata": {
    "papermill": {},
    "tags": []
   },
   "outputs": [],
   "source": [
    "with open(file_path, \"rb\") as f:\n",
    "    s3.upload_fileobj(f, bucket_name, file_path)"
   ]
  },
  {
   "cell_type": "code",
   "execution_count": null,
   "id": "5e0a3288-6c4e-413f-a5a5-a4277d01628a",
   "metadata": {
    "papermill": {},
    "tags": []
   },
   "outputs": [],
   "source": []
  }
 ],
 "metadata": {
  "kernelspec": {
   "display_name": "Python 3",
   "language": "python",
   "name": "python3"
  },
  "language_info": {
   "codemirror_mode": {
    "name": "ipython",
    "version": 3
   },
   "file_extension": ".py",
   "mimetype": "text/x-python",
   "name": "python",
   "nbconvert_exporter": "python",
   "pygments_lexer": "ipython3",
   "version": "3.9.6"
  },
  "naas": {
   "notebook_id": "f5955b1a7c1209b77d470bfeb5eb20bcdf6ecf7fcba22a304dd0ea03164a0539",
   "notebook_path": "AWS/AWS_Upload_file_to_S3_bucket.ipynb"
  },
  "papermill": {
   "default_parameters": {},
   "environment_variables": {},
   "parameters": {},
   "version": "2.4.0"
  }
 },
 "nbformat": 4,
 "nbformat_minor": 5
}