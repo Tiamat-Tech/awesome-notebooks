{
 "cells": [
  {
   "cell_type": "markdown",
   "id": "266852e3",
   "metadata": {
    "execution": {
     "iopub.execute_input": "2021-09-14T08:04:28.994722Z",
     "iopub.status.busy": "2021-09-14T08:04:28.994452Z",
     "iopub.status.idle": "2021-09-14T08:04:29.005991Z",
     "shell.execute_reply": "2021-09-14T08:04:29.005065Z",
     "shell.execute_reply.started": "2021-09-14T08:04:28.994658Z"
    },
    "papermill": {},
    "tags": [
     "awesome-notebooks/AWS/AWS_Daily_biling_notification_to_slack.ipynb"
    ]
   },
   "source": [
    "<img width=\"8%\" alt=\"AWS.png\" src=\"https://raw.githubusercontent.com/jupyter-naas/awesome-notebooks/master/.github/assets/logos/AWS.png\" style=\"border-radius: 15%\">"
   ]
  },
  {
   "cell_type": "markdown",
   "id": "b6c7847d",
   "metadata": {
    "papermill": {},
    "tags": [
     "awesome-notebooks/AWS/AWS_Daily_biling_notification_to_slack.ipynb"
    ]
   },
   "source": [
    "# AWS - Get cost forecast\n",
    "<a href=\"https://bit.ly/3JyWIk6\">Give Feedback</a> | <a href=\"https://github.com/jupyter-naas/awesome-notebooks/issues/new?assignees=&labels=bug&template=bug_report.md&title=AWS+-+Get+cost+forecast:+Error+short+description\">Bug report</a>"
   ]
  },
  {
   "cell_type": "markdown",
   "id": "f5907052",
   "metadata": {
    "execution": {
     "iopub.execute_input": "2021-09-14T08:05:41.428494Z",
     "iopub.status.busy": "2021-09-14T08:05:41.428138Z",
     "iopub.status.idle": "2021-09-14T08:05:41.432127Z",
     "shell.execute_reply": "2021-09-14T08:05:41.430935Z",
     "shell.execute_reply.started": "2021-09-14T08:05:41.428433Z"
    },
    "papermill": {},
    "tags": [
     "awesome-notebooks/AWS/AWS_Daily_biling_notification_to_slack.ipynb"
    ]
   },
   "source": [
    "**Tags:** #aws #cloud #ce #operations #snippet"
   ]
  },
  {
   "cell_type": "markdown",
   "id": "ce780499-ecc8-40d6-997a-43f92b60e0ce",
   "metadata": {
    "papermill": {},
    "tags": [
     "awesome-notebooks/AWS/AWS_Daily_biling_notification_to_slack.ipynb"
    ]
   },
   "source": [
    "**Author:** [Florent Ravenel](https://www.linkedin.com/in/florent-ravenel/)"
   ]
  },
  {
   "cell_type": "markdown",
   "id": "dba1251e-f724-4d58-935a-54f5b6c9447b",
   "metadata": {
    "papermill": {},
    "tags": []
   },
   "source": [
    "**Last update:** 2023-11-20 (Created: 2021-09-14)"
   ]
  },
  {
   "cell_type": "markdown",
   "id": "naas-description",
   "metadata": {
    "papermill": {},
    "tags": [
     "description"
    ]
   },
   "source": [
    "**Description:** This notebook utilizes the AWS Cost Explorer to retrieve accurate cost forecasts from an AWS account. By leveraging the Cost Explorer's forecasting capabilities, users can proactively plan and estimate their future AWS costs. Stay ahead of your budget with this notebook's integration of the AWS Cost Explorer, enabling you to make informed decisions and optimize your AWS spending."
   ]
  },
  {
   "cell_type": "markdown",
   "id": "b4afd1ce-6ede-45aa-8db2-9624bfb24a87",
   "metadata": {
    "papermill": {},
    "tags": [
     "description"
    ]
   },
   "source": [
    "**References:**\n",
    "- [Using the AWS Cost Explorer API](https://docs.aws.amazon.com/cost-management/latest/userguide/ce-api.html)"
   ]
  },
  {
   "cell_type": "markdown",
   "id": "825a5464",
   "metadata": {
    "papermill": {},
    "tags": [
     "awesome-notebooks/AWS/AWS_Daily_biling_notification_to_slack.ipynb"
    ]
   },
   "source": [
    "## Input"
   ]
  },
  {
   "cell_type": "markdown",
   "id": "589e943d",
   "metadata": {
    "papermill": {},
    "tags": [
     "awesome-notebooks/AWS/AWS_Daily_biling_notification_to_slack.ipynb"
    ]
   },
   "source": [
    "### Import libraries"
   ]
  },
  {
   "cell_type": "code",
   "execution_count": null,
   "id": "bbbd2c53",
   "metadata": {
    "papermill": {},
    "tags": [
     "awesome-notebooks/AWS/AWS_Daily_biling_notification_to_slack.ipynb"
    ]
   },
   "outputs": [],
   "source": [
    "import naas\n",
    "from datetime import date\n",
    "try:\n",
    "    import boto3\n",
    "except:\n",
    "    !pip install boto3\n",
    "    import boto3\n",
    "import pandas as pd"
   ]
  },
  {
   "cell_type": "markdown",
   "id": "10278504",
   "metadata": {
    "papermill": {},
    "tags": [
     "awesome-notebooks/AWS/AWS_Daily_biling_notification_to_slack.ipynb"
    ]
   },
   "source": [
    "### Setup variables\n",
    "**Mandatory**\n",
    "- `aws_access_key_id`: This variable is used to store the AWS access key ID.\n",
    "- `aws_secret_access_key`: This variable is used to store the AWS secret access key.\n",
    "- `start_date`: This variable is used to store the first date to get the data from.\n",
    "- `end_date`: This variable is used to store the last date to get the data from. It must be the first of a month.\n",
    "\n",
    "**Optional**\n",
    "- `granularity`: This variable is used to define cost granularity by date. Granularity can only be MONTHLY, DAILY or HOURLY.\n",
    "- `file_path`: This variable is used to define csv file path to be stored in local with billing details."
   ]
  },
  {
   "cell_type": "code",
   "execution_count": null,
   "id": "9fe47224",
   "metadata": {
    "papermill": {},
    "tags": [
     "awesome-notebooks/AWS/AWS_Daily_biling_notification_to_slack.ipynb"
    ]
   },
   "outputs": [],
   "source": [
    "# Mandatory\n",
    "aws_access_key_id = naas.secret.get(\"AWS_ACCESS_KEY_ID\") or \"YOUR_AWS_ACCESS_KEY_ID\"\n",
    "aws_secret_access_key = naas.secret.get(\"AWS_SECRET_ACCESS_KEY\") or \"YOUR_AWS_SECRET_ACCESS_KEY\"\n",
    "start_date = date.today().isoformat()\n",
    "end_date = \"2023-11-30\"\n",
    "\n",
    "# Optional\n",
    "granularity = \"MONTHLY\"\n",
    "file_path = \"billing_aws.csv\""
   ]
  },
  {
   "cell_type": "markdown",
   "id": "4eb03b12",
   "metadata": {
    "papermill": {},
    "tags": [
     "awesome-notebooks/AWS/AWS_Daily_biling_notification_to_slack.ipynb"
    ]
   },
   "source": [
    "## Model"
   ]
  },
  {
   "cell_type": "markdown",
   "id": "8aa2658d",
   "metadata": {
    "papermill": {},
    "tags": [
     "awesome-notebooks/AWS/AWS_Daily_biling_notification_to_slack.ipynb"
    ]
   },
   "source": [
    "### Connect to AWS"
   ]
  },
  {
   "cell_type": "code",
   "execution_count": null,
   "id": "ded6a696",
   "metadata": {
    "papermill": {},
    "tags": [
     "awesome-notebooks/AWS/AWS_Daily_biling_notification_to_slack.ipynb"
    ]
   },
   "outputs": [],
   "source": [
    "client = boto3.client(\n",
    "    \"ce\",\n",
    "    aws_access_key_id=aws_access_key_id,\n",
    "    aws_secret_access_key=aws_secret_access_key,\n",
    ")"
   ]
  },
  {
   "cell_type": "markdown",
   "id": "37b38254-1ad3-4c5e-8fa6-482e39c073ab",
   "metadata": {
    "papermill": {},
    "tags": [
     "awesome-notebooks/AWS/AWS_Daily_biling_notification_to_slack.ipynb"
    ]
   },
   "source": [
    "### Get forecast from AWS"
   ]
  },
  {
   "cell_type": "code",
   "execution_count": null,
   "id": "8b5220e2-15f0-44ec-8ed4-1c4bc2a546bf",
   "metadata": {
    "papermill": {},
    "tags": [
     "awesome-notebooks/AWS/AWS_Daily_biling_notification_to_slack.ipynb"
    ]
   },
   "outputs": [],
   "source": [
    "ce_forecast = client.get_cost_forecast(\n",
    "    TimePeriod={\"Start\": start_date, \"End\": end_date},\n",
    "    Metric=\"BLENDED_COST\",\n",
    "    Granularity=granularity,\n",
    ")"
   ]
  },
  {
   "cell_type": "markdown",
   "id": "64bb4d94",
   "metadata": {
    "execution": {
     "iopub.execute_input": "2021-06-15T17:13:04.069988Z",
     "iopub.status.busy": "2021-06-15T17:13:04.069748Z",
     "iopub.status.idle": "2021-06-15T17:13:04.092911Z",
     "shell.execute_reply": "2021-06-15T17:13:04.091872Z",
     "shell.execute_reply.started": "2021-06-15T17:13:04.069964Z"
    },
    "papermill": {},
    "tags": [
     "awesome-notebooks/AWS/AWS_Daily_biling_notification_to_slack.ipynb"
    ]
   },
   "source": [
    "## Output"
   ]
  },
  {
   "cell_type": "markdown",
   "id": "8e03dcf1",
   "metadata": {
    "papermill": {},
    "tags": [
     "awesome-notebooks/AWS/AWS_Daily_biling_notification_to_slack.ipynb"
    ]
   },
   "source": [
    "### Display result"
   ]
  },
  {
   "cell_type": "code",
   "execution_count": null,
   "id": "2d676c8d",
   "metadata": {
    "papermill": {},
    "tags": [
     "awesome-notebooks/AWS/AWS_Daily_biling_notification_to_slack.ipynb"
    ]
   },
   "outputs": [],
   "source": [
    "forecast = float(ce_forecast[\"Total\"][\"Amount\"])\n",
    "print(\"Forecast Amount:\", round(forecast, 2))"
   ]
  },
  {
   "cell_type": "code",
   "execution_count": null,
   "id": "16deb3cd-1cdb-475a-a879-e6ddf6dead1d",
   "metadata": {
    "papermill": {},
    "tags": []
   },
   "outputs": [],
   "source": []
  }
 ],
 "metadata": {
  "kernelspec": {
   "display_name": "Python 3",
   "language": "python",
   "name": "python3"
  },
  "language_info": {
   "codemirror_mode": {
    "name": "ipython",
    "version": 3
   },
   "file_extension": ".py",
   "mimetype": "text/x-python",
   "name": "python",
   "nbconvert_exporter": "python",
   "pygments_lexer": "ipython3",
   "version": "3.9.6"
  },
  "naas": {
   "notebook_id": "83a58cbb6cf19711ed3f7cfa23b6bb1776ee43e2c12caa19e98991af81e1e94e",
   "notebook_path": "AWS/AWS_Get_cost_forecast.ipynb"
  },
  "papermill": {
   "default_parameters": {},
   "environment_variables": {},
   "parameters": {},
   "version": "2.3.3"
  },
  "widgets": {
   "application/vnd.jupyter.widget-state+json": {
    "state": {
     "15369ba21db1460284b7b8e9cb622d06": {
      "model_module": "@jupyter-widgets/controls",
      "model_module_version": "1.5.0",
      "model_name": "ButtonModel",
      "state": {
       "button_style": "primary",
       "description": "Copy URL",
       "layout": "IPY_MODEL_4bb52491f55641b4b62c32aa7e0679e1",
       "style": "IPY_MODEL_7c0a38e90d65465fb0b6193a4146f9a6"
      }
     },
     "1aae19e8ce9a49049642ea9c5fd522e4": {
      "model_module": "@jupyter-widgets/controls",
      "model_module_version": "1.5.0",
      "model_name": "ButtonStyleModel",
      "state": {}
     },
     "237ff9b58a114ce69a1db5d8d4693e6a": {
      "model_module": "@jupyter-widgets/controls",
      "model_module_version": "1.5.0",
      "model_name": "ButtonModel",
      "state": {
       "button_style": "primary",
       "description": "Copy URL",
       "layout": "IPY_MODEL_8908e36294e149c68f2bc6fa1637a0b4",
       "style": "IPY_MODEL_c9dd15482da84e72b2a09ba479a75245"
      }
     },
     "2a26fb87acca44beb611cbb56bc70c09": {
      "model_module": "@jupyter-widgets/base",
      "model_module_version": "1.2.0",
      "model_name": "LayoutModel",
      "state": {}
     },
     "2b2660a06a2446bd842fa3e9c9c6fe08": {
      "model_module": "@jupyter-widgets/base",
      "model_module_version": "1.2.0",
      "model_name": "LayoutModel",
      "state": {}
     },
     "3a7f05b1cac74dc2a203ba8bf2f1fe17": {
      "model_module": "@jupyter-widgets/base",
      "model_module_version": "1.2.0",
      "model_name": "LayoutModel",
      "state": {}
     },
     "3a7f3ca1a92240efa7896385485671fb": {
      "model_module": "@jupyter-widgets/output",
      "model_module_version": "1.0.0",
      "model_name": "OutputModel",
      "state": {
       "layout": "IPY_MODEL_843aeeced14c4d94a613d8ac1cfa1797"
      }
     },
     "4bb52491f55641b4b62c32aa7e0679e1": {
      "model_module": "@jupyter-widgets/base",
      "model_module_version": "1.2.0",
      "model_name": "LayoutModel",
      "state": {}
     },
     "4d73c28b4d304c5f9657f9934ef4adc5": {
      "model_module": "@jupyter-widgets/controls",
      "model_module_version": "1.5.0",
      "model_name": "ButtonStyleModel",
      "state": {}
     },
     "568ff82a25a64bfba3610d451acbcc26": {
      "model_module": "@jupyter-widgets/output",
      "model_module_version": "1.0.0",
      "model_name": "OutputModel",
      "state": {
       "layout": "IPY_MODEL_3a7f05b1cac74dc2a203ba8bf2f1fe17"
      }
     },
     "58d8487f8bf5487d9bfb521438adb0f2": {
      "model_module": "@jupyter-widgets/base",
      "model_module_version": "1.2.0",
      "model_name": "LayoutModel",
      "state": {}
     },
     "78c774bb848a47efb2556442ca642233": {
      "model_module": "@jupyter-widgets/controls",
      "model_module_version": "1.5.0",
      "model_name": "ButtonModel",
      "state": {
       "button_style": "primary",
       "description": "Copy URL",
       "layout": "IPY_MODEL_d7e1ad37e7954862af3449f27cae11a0",
       "style": "IPY_MODEL_f338980fb865425eb18b14d5fb8a5e9f"
      }
     },
     "7c0a38e90d65465fb0b6193a4146f9a6": {
      "model_module": "@jupyter-widgets/controls",
      "model_module_version": "1.5.0",
      "model_name": "ButtonStyleModel",
      "state": {}
     },
     "825f9fb5a2234ffaaaea0deaf86b206d": {
      "model_module": "@jupyter-widgets/controls",
      "model_module_version": "1.5.0",
      "model_name": "ButtonModel",
      "state": {
       "button_style": "primary",
       "description": "Copy URL",
       "layout": "IPY_MODEL_58d8487f8bf5487d9bfb521438adb0f2",
       "style": "IPY_MODEL_e4362a71f75649bf93d3d919b63f23ad"
      }
     },
     "843aeeced14c4d94a613d8ac1cfa1797": {
      "model_module": "@jupyter-widgets/base",
      "model_module_version": "1.2.0",
      "model_name": "LayoutModel",
      "state": {}
     },
     "8908e36294e149c68f2bc6fa1637a0b4": {
      "model_module": "@jupyter-widgets/base",
      "model_module_version": "1.2.0",
      "model_name": "LayoutModel",
      "state": {}
     },
     "8da4a28960ea418abebd4f3115fde42b": {
      "model_module": "@jupyter-widgets/output",
      "model_module_version": "1.0.0",
      "model_name": "OutputModel",
      "state": {
       "layout": "IPY_MODEL_ae604bbf2607454b8aa2366a0beeb88d",
       "outputs": [
        {
         "data": {
          "text/html": "<script>window.copyToClipboard(\"https://public.naas.ai/amVyZW15LTJFcmF2ZW5lbC00MGNhc2hzdG9yeS0yRWNvbQ==/asset/2c5e1d18d20f7279df7e9edef9faf334026c5285333df3442b630c39a4f5\");</script><div id=\"pasting_to_clipboard\">✅ Copied !</div>",
          "text/plain": "<IPython.core.display.HTML object>"
         },
         "metadata": {},
         "output_type": "display_data"
        }
       ]
      }
     },
     "966ac94ef1b44754a7bcf80c42ef6940": {
      "model_module": "@jupyter-widgets/output",
      "model_module_version": "1.0.0",
      "model_name": "OutputModel",
      "state": {
       "layout": "IPY_MODEL_eed4098f55ec4f2bb3176be711254168"
      }
     },
     "ae604bbf2607454b8aa2366a0beeb88d": {
      "model_module": "@jupyter-widgets/base",
      "model_module_version": "1.2.0",
      "model_name": "LayoutModel",
      "state": {}
     },
     "b00a2988bfde49b7844768963db33daf": {
      "model_module": "@jupyter-widgets/controls",
      "model_module_version": "1.5.0",
      "model_name": "ButtonModel",
      "state": {
       "button_style": "primary",
       "description": "Copy URL",
       "layout": "IPY_MODEL_e26a69e9d8b04eb5a4f96b33ecce581d",
       "style": "IPY_MODEL_1aae19e8ce9a49049642ea9c5fd522e4"
      }
     },
     "c9dd15482da84e72b2a09ba479a75245": {
      "model_module": "@jupyter-widgets/controls",
      "model_module_version": "1.5.0",
      "model_name": "ButtonStyleModel",
      "state": {}
     },
     "ca9237340fa04e7888f382da12da4732": {
      "model_module": "@jupyter-widgets/controls",
      "model_module_version": "1.5.0",
      "model_name": "ButtonModel",
      "state": {
       "button_style": "primary",
       "description": "Copy URL",
       "layout": "IPY_MODEL_caa17a7ee7ea4b78b1b0c50bb2962e84",
       "style": "IPY_MODEL_4d73c28b4d304c5f9657f9934ef4adc5"
      }
     },
     "caa17a7ee7ea4b78b1b0c50bb2962e84": {
      "model_module": "@jupyter-widgets/base",
      "model_module_version": "1.2.0",
      "model_name": "LayoutModel",
      "state": {}
     },
     "d7b09bb706544af1a4d8b9806dadd5f7": {
      "model_module": "@jupyter-widgets/output",
      "model_module_version": "1.0.0",
      "model_name": "OutputModel",
      "state": {
       "layout": "IPY_MODEL_2a26fb87acca44beb611cbb56bc70c09"
      }
     },
     "d7e1ad37e7954862af3449f27cae11a0": {
      "model_module": "@jupyter-widgets/base",
      "model_module_version": "1.2.0",
      "model_name": "LayoutModel",
      "state": {}
     },
     "e26a69e9d8b04eb5a4f96b33ecce581d": {
      "model_module": "@jupyter-widgets/base",
      "model_module_version": "1.2.0",
      "model_name": "LayoutModel",
      "state": {}
     },
     "e4362a71f75649bf93d3d919b63f23ad": {
      "model_module": "@jupyter-widgets/controls",
      "model_module_version": "1.5.0",
      "model_name": "ButtonStyleModel",
      "state": {}
     },
     "eed4098f55ec4f2bb3176be711254168": {
      "model_module": "@jupyter-widgets/base",
      "model_module_version": "1.2.0",
      "model_name": "LayoutModel",
      "state": {}
     },
     "ef0da7f8494748e284cb1fead6471e1b": {
      "model_module": "@jupyter-widgets/output",
      "model_module_version": "1.0.0",
      "model_name": "OutputModel",
      "state": {
       "layout": "IPY_MODEL_2b2660a06a2446bd842fa3e9c9c6fe08"
      }
     },
     "f338980fb865425eb18b14d5fb8a5e9f": {
      "model_module": "@jupyter-widgets/controls",
      "model_module_version": "1.5.0",
      "model_name": "ButtonStyleModel",
      "state": {}
     }
    },
    "version_major": 2,
    "version_minor": 0
   }
  }
 },
 "nbformat": 4,
 "nbformat_minor": 5
}