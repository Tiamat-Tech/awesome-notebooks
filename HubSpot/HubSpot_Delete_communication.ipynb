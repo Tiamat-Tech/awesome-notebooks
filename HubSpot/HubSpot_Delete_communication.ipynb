{
 "cells": [
  {
   "cell_type": "markdown",
   "id": "41701675-6c02-45d5-adc9-f4d25e675d93",
   "metadata": {
    "papermill": {},
    "tags": []
   },
   "source": [
    "<img width=\"8%\" alt=\"HubSpot.png\" src=\"https://raw.githubusercontent.com/jupyter-naas/awesome-notebooks/master/.github/assets/logos/HubSpot.png\" style=\"border-radius: 15%\">"
   ]
  },
  {
   "cell_type": "markdown",
   "id": "cd48954d-be6f-4871-8c98-5c583536bc8e",
   "metadata": {
    "papermill": {},
    "tags": []
   },
   "source": [
    "# HubSpot - Delete communication\n",
    "<a href=\"https://bit.ly/3JyWIk6\">Give Feedback</a> | <a href=\"https://github.com/jupyter-naas/awesome-notebooks/issues/new?assignees=&labels=bug&template=bug_report.md&title=HubSpot+-+Delete+communication:+Error+short+description\">Bug report</a>"
   ]
  },
  {
   "cell_type": "markdown",
   "id": "560cebbf-0383-48b4-9028-fb51527dbfd3",
   "metadata": {
    "papermill": {},
    "tags": []
   },
   "source": [
    "**Tags:** #hubspot #communications #snippet #delete"
   ]
  },
  {
   "cell_type": "markdown",
   "id": "c37bd3a4-e8ee-4f73-983a-76a70c4d2b0b",
   "metadata": {
    "papermill": {},
    "tags": []
   },
   "source": [
    "**Author:** [Florent Ravenel](https://www.linkedin.com/in/florent-ravenel)"
   ]
  },
  {
   "cell_type": "markdown",
   "id": "4f8d1619-eec0-496d-b143-e05362d16095",
   "metadata": {
    "papermill": {},
    "tags": []
   },
   "source": [
    "**Last update:** 2023-08-17 (Created: 2023-08-17)"
   ]
  },
  {
   "cell_type": "markdown",
   "id": "17dd1212-48d4-4add-b721-9dc79df07be7",
   "metadata": {
    "papermill": {},
    "tags": []
   },
   "source": [
    "**Description:** This notebook demonstrates how to delete a communication using its ID using HubSpot API."
   ]
  },
  {
   "cell_type": "markdown",
   "id": "42d15859-c77b-44b6-a381-4bd29ae6d431",
   "metadata": {
    "papermill": {},
    "tags": []
   },
   "source": [
    "**References:**\n",
    "- [HubSpot API - Communications](https://developers.hubspot.com/docs/api/crm/communications)"
   ]
  },
  {
   "cell_type": "markdown",
   "id": "0a7fcd20-b42d-419f-ad8b-3fe000b75dd3",
   "metadata": {
    "papermill": {},
    "tags": []
   },
   "source": [
    "## Input"
   ]
  },
  {
   "cell_type": "markdown",
   "id": "f67b8d68-5af9-4317-a5c3-e2362852c115",
   "metadata": {
    "papermill": {},
    "tags": []
   },
   "source": [
    "### Import libraries"
   ]
  },
  {
   "cell_type": "code",
   "execution_count": null,
   "id": "c78fcd5f-5320-4285-abd2-c111229a10c3",
   "metadata": {
    "papermill": {},
    "tags": []
   },
   "outputs": [],
   "source": [
    "import requests\n",
    "import naas"
   ]
  },
  {
   "cell_type": "markdown",
   "id": "3fa1db25-a349-45f2-8a3b-f02f2613ec56",
   "metadata": {
    "papermill": {},
    "tags": []
   },
   "source": [
    "### Setup variables\n",
    "[Get your HubSpot Access token](https://knowledge.hubspot.com/articles/kcs_article/integrations/how-do-i-get-my-hubspot-api-key)\n",
    "- `hs_access_token`: This variable stores an access token used for accessing the HubSpot API.\n",
    "- `object_id`: This variable stores the object ID."
   ]
  },
  {
   "cell_type": "code",
   "execution_count": null,
   "id": "cfc59bad-a1ee-46e0-8135-a8400f796c03",
   "metadata": {
    "papermill": {},
    "tags": []
   },
   "outputs": [],
   "source": [
    "hs_access_token = naas.secret.get(\"HS_ACCESS_TOKEN\") or \"YOUR_HS_ACCESS_TOKEN\"\n",
    "object_id = 38797358764"
   ]
  },
  {
   "cell_type": "markdown",
   "id": "a5af4540-050a-442a-b6a1-8d7c0837ecc1",
   "metadata": {
    "papermill": {},
    "tags": []
   },
   "source": [
    "## Model"
   ]
  },
  {
   "cell_type": "markdown",
   "id": "b858a58a-af59-44ff-94cd-5c4a47046be0",
   "metadata": {
    "papermill": {},
    "tags": []
   },
   "source": [
    "### Delete communication"
   ]
  },
  {
   "cell_type": "code",
   "execution_count": null,
   "id": "2fa3158b-52b8-4019-a5ef-010ee70928c2",
   "metadata": {
    "papermill": {},
    "tags": []
   },
   "outputs": [],
   "source": [
    "def delete_communication(\n",
    "    token,\n",
    "    object_id,\n",
    "\n",
    "):\n",
    "    # Requests\n",
    "    headers = {\n",
    "        \"Content-Type\": \"application/json\",\n",
    "        \"Authorization\": f\"Bearer {token}\"\n",
    "    }\n",
    "    url = f\"https://api.hubapi.com/crm/v3/objects/Communications/{object_id}\"\n",
    "\n",
    "    # Response\n",
    "    res = requests.delete(url, headers=headers)\n",
    "    if res.status_code == 204:\n",
    "        print(f\"Communication '{object_id}' successfully deleted!\")\n",
    "    else:\n",
    "        print(res.text)\n",
    "    return res\n",
    "\n",
    "res = delete_communication(hs_access_token, object_id)"
   ]
  },
  {
   "cell_type": "markdown",
   "id": "81fb8701-4143-49d1-87b3-5db07242ce58",
   "metadata": {
    "papermill": {},
    "tags": []
   },
   "source": [
    "## Output"
   ]
  },
  {
   "cell_type": "markdown",
   "id": "56ff3568-f3fc-4157-8e46-e5eaeb23e9b9",
   "metadata": {
    "papermill": {},
    "tags": []
   },
   "source": [
    "### Display result"
   ]
  },
  {
   "cell_type": "code",
   "execution_count": null,
   "id": "6e35ea6b-32fd-4e11-a6b3-8614e7ae749a",
   "metadata": {
    "papermill": {},
    "tags": []
   },
   "outputs": [],
   "source": [
    "res"
   ]
  },
  {
   "cell_type": "markdown",
   "id": "60d2a2c5-0b58-4069-947c-39427572135c",
   "metadata": {
    "papermill": {},
    "tags": []
   },
   "source": [
    " "
   ]
  }
 ],
 "metadata": {
  "kernelspec": {
   "display_name": "Python 3",
   "language": "python",
   "name": "python3"
  },
  "language_info": {
   "codemirror_mode": {
    "name": "ipython",
    "version": 3
   },
   "file_extension": ".py",
   "mimetype": "text/x-python",
   "name": "python",
   "nbconvert_exporter": "python",
   "pygments_lexer": "ipython3",
   "version": "3.9.6"
  },
  "naas": {
   "notebook_id": "18ba61523d3000719630fd0b6bc6b478568078713221a8163f89e7eadeb10dee",
   "notebook_path": "HubSpot/HubSpot_Delete_communication.ipynb"
  },
  "papermill": {
   "default_parameters": {},
   "environment_variables": {},
   "parameters": {},
   "version": "2.4.0"
  },
  "widgets": {
   "application/vnd.jupyter.widget-state+json": {
    "state": {},
    "version_major": 2,
    "version_minor": 0
   }
  }
 },
 "nbformat": 4,
 "nbformat_minor": 5
}