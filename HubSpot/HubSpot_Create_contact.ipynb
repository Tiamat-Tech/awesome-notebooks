{
 "cells": [
  {
   "cell_type": "markdown",
   "id": "breeding-classic",
   "metadata": {
    "papermill": {},
    "tags": []
   },
   "source": [
    "<img width=\"8%\" alt=\"HubSpot.png\" src=\"https://raw.githubusercontent.com/jupyter-naas/awesome-notebooks/master/.github/assets/logos/HubSpot.png\" style=\"border-radius: 15%\">"
   ]
  },
  {
   "cell_type": "markdown",
   "id": "inside-tattoo",
   "metadata": {
    "papermill": {},
    "tags": []
   },
   "source": [
    "# HubSpot - Create contact\n",
    "<a href=\"https://bit.ly/3JyWIk6\">Give Feedback</a> | <a href=\"https://github.com/jupyter-naas/awesome-notebooks/issues/new?assignees=&labels=bug&template=bug_report.md&title=HubSpot+-+Create+contact:+Error+short+description\">Bug report</a>"
   ]
  },
  {
   "cell_type": "markdown",
   "id": "detected-mobility",
   "metadata": {
    "papermill": {},
    "tags": []
   },
   "source": [
    "**Tags:** #hubspot #crm #sales #contact #naas_drivers #snippet #create"
   ]
  },
  {
   "cell_type": "markdown",
   "id": "727e4fb0-7aa7-47d1-b56f-0d34ec5f4b80",
   "metadata": {
    "papermill": {},
    "tags": []
   },
   "source": [
    "**Author:** [Florent Ravenel](https://www.linkedin.com/in/florent-ravenel/)"
   ]
  },
  {
   "cell_type": "markdown",
   "id": "202a9157-9d18-404d-a4e0-33cd8508571a",
   "metadata": {
    "papermill": {},
    "tags": []
   },
   "source": [
    "**Last update:** 2023-08-29 (Created: 2022-02-21)"
   ]
  },
  {
   "cell_type": "markdown",
   "id": "naas-description",
   "metadata": {
    "papermill": {},
    "tags": [
     "description"
    ]
   },
   "source": [
    "**Description:** This notebook demonstrates how to create a contact in HubSpot using HubSpot default properties."
   ]
  },
  {
   "cell_type": "markdown",
   "id": "c89b52b3-aa8e-4dc8-b14a-ea4f0be4099d",
   "metadata": {
    "papermill": {},
    "tags": []
   },
   "source": [
    "**References:**\n",
    "- [HubSpot API - Contacts](https://developers.hubspot.com/docs/api/crm/contacts)"
   ]
  },
  {
   "cell_type": "markdown",
   "id": "sensitive-proof",
   "metadata": {
    "papermill": {},
    "tags": []
   },
   "source": [
    "## Input"
   ]
  },
  {
   "cell_type": "markdown",
   "id": "literary-supplier",
   "metadata": {
    "papermill": {},
    "tags": []
   },
   "source": [
    "### Import libraries"
   ]
  },
  {
   "cell_type": "code",
   "execution_count": null,
   "id": "ranging-concentrate",
   "metadata": {
    "papermill": {},
    "tags": []
   },
   "outputs": [],
   "source": [
    "from naas_drivers import hubspot\n",
    "import naas"
   ]
  },
  {
   "cell_type": "markdown",
   "id": "adcb1498-5bf9-4c9d-a066-81de302c992e",
   "metadata": {
    "papermill": {},
    "tags": []
   },
   "source": [
    "### Setup variables\n",
    "[Get your HubSpot Access token](https://knowledge.hubspot.com/articles/kcs_article/integrations/how-do-i-get-my-hubspot-api-key)\n",
    "- `hs_access_token`: This variable stores an access token used for accessing the HubSpot API.\n",
    "- `email`: This stores the contact's email address.\n",
    "- `firstname`: This stores the contact's first name.\n",
    "- `lastname`: This stores the contact's last name.\n",
    "- `phone`: This stores the contact's phone number.\n",
    "- `jobtitle`: This stores the contact's job title.\n",
    "- `website`: This stores the contact's website.\n",
    "- `company`: This stores the name of the company the contact works for.\n",
    "- `hubspot_owner_id`: This is likely to store the ID of the HubSpot user who owns this contact."
   ]
  },
  {
   "cell_type": "code",
   "execution_count": null,
   "id": "fb185a07-ee37-4065-9f0c-034f5f5120f7",
   "metadata": {
    "papermill": {},
    "tags": []
   },
   "outputs": [],
   "source": [
    "hs_access_token = naas.secret.get(\"HS_ACCESS_TOKEN\") or \"YOUR_HS_ACCESS_TOKEN\"\n",
    "email = \"test@cashstory.com\"\n",
    "firstname = \"Test\"\n",
    "lastname = \"CASHSTORY\"\n",
    "phone = \"+33600000000\"\n",
    "jobtitle = \"Consultant\"\n",
    "website = \"www.cashstory.com\"\n",
    "company = \"CASHSTORY\"\n",
    "hubspot_owner_id = None"
   ]
  },
  {
   "cell_type": "markdown",
   "id": "blind-dover",
   "metadata": {
    "papermill": {},
    "tags": []
   },
   "source": [
    "## Model"
   ]
  },
  {
   "cell_type": "markdown",
   "id": "noted-midnight",
   "metadata": {
    "papermill": {},
    "tags": []
   },
   "source": [
    "### Create contact"
   ]
  },
  {
   "cell_type": "code",
   "execution_count": null,
   "id": "radical-tract",
   "metadata": {
    "papermill": {},
    "tags": []
   },
   "outputs": [],
   "source": [
    "contact = hubspot.connect(hs_access_token).contacts.create(\n",
    "    email,\n",
    "    firstname,\n",
    "    lastname,\n",
    "    phone,\n",
    "    jobtitle,\n",
    "    website,\n",
    "    company,\n",
    "    hubspot_owner_id\n",
    ")"
   ]
  },
  {
   "cell_type": "markdown",
   "id": "solved-mattress",
   "metadata": {
    "papermill": {},
    "tags": []
   },
   "source": [
    "## Output"
   ]
  },
  {
   "cell_type": "markdown",
   "id": "a107cb6e-08d7-43d1-be71-52e4db695367",
   "metadata": {
    "papermill": {},
    "tags": []
   },
   "source": [
    "### Display result"
   ]
  },
  {
   "cell_type": "code",
   "execution_count": null,
   "id": "445283ca-9985-488e-b042-c8b40cd82c42",
   "metadata": {
    "papermill": {},
    "tags": []
   },
   "outputs": [],
   "source": [
    "contact"
   ]
  }
 ],
 "metadata": {
  "kernelspec": {
   "display_name": "Python 3",
   "language": "python",
   "name": "python3"
  },
  "language_info": {
   "codemirror_mode": {
    "name": "ipython",
    "version": 3
   },
   "file_extension": ".py",
   "mimetype": "text/x-python",
   "name": "python",
   "nbconvert_exporter": "python",
   "pygments_lexer": "ipython3",
   "version": "3.9.6"
  },
  "naas": {
   "notebook_id": "41a54dd1b30076c3f50da00bf2b549912f8c38f2209b3752b0c22bd5c465df00",
   "notebook_path": "HubSpot/HubSpot_Create_contact.ipynb"
  },
  "papermill": {
   "default_parameters": {},
   "environment_variables": {},
   "parameters": {},
   "version": "2.3.3"
  }
 },
 "nbformat": 4,
 "nbformat_minor": 5
}