{
 "cells": [
  {
   "cell_type": "markdown",
   "id": "expressed-daisy",
   "metadata": {
    "papermill": {},
    "tags": []
   },
   "source": [
    "<img width=\"8%\" alt=\"HubSpot.png\" src=\"https://raw.githubusercontent.com/jupyter-naas/awesome-notebooks/master/.github/assets/logos/HubSpot.png\" style=\"border-radius: 15%\">"
   ]
  },
  {
   "cell_type": "markdown",
   "id": "prospective-parker",
   "metadata": {
    "papermill": {},
    "tags": []
   },
   "source": [
    "# HubSpot - Delete a company\n",
    "<a href=\"https://bit.ly/3JyWIk6\">Give Feedback</a> | <a href=\"https://github.com/jupyter-naas/awesome-notebooks/issues/new?assignees=&labels=bug&template=bug_report.md&title=HubSpot+-+Delete+a+company:+Error+short+description\">Bug report</a>"
   ]
  },
  {
   "cell_type": "markdown",
   "id": "accessory-burke",
   "metadata": {
    "papermill": {},
    "tags": []
   },
   "source": [
    "**Tags:** #hubspot #crm #sales #company #naas_drivers #snippet #delete"
   ]
  },
  {
   "cell_type": "markdown",
   "id": "6caf958a-6ed9-4ae5-8555-c17676566d8d",
   "metadata": {
    "papermill": {},
    "tags": []
   },
   "source": [
    "**Author:** [Florent Ravenel](https://www.linkedin.com/in/florent-ravenel/)"
   ]
  },
  {
   "cell_type": "markdown",
   "id": "4ecd37b0-d515-4c84-b3ab-c1ab4c5149d4",
   "metadata": {
    "papermill": {},
    "tags": []
   },
   "source": [
    "**Last update:** 2023-09-25 (Created: 2023-09-25)"
   ]
  },
  {
   "cell_type": "markdown",
   "id": "naas-description",
   "metadata": {
    "papermill": {},
    "tags": [
     "description"
    ]
   },
   "source": [
    "**Description:** This notebook demonstrates how to delete a given company in HubSpot using its HubSpot ID."
   ]
  },
  {
   "cell_type": "markdown",
   "id": "42dbddd2-fd20-45b4-a0e6-7fa6e78d367b",
   "metadata": {
    "papermill": {},
    "tags": []
   },
   "source": [
    "**References:**\n",
    "- [HubSpot CRM API - Companies](https://developers.hubspot.com/docs/api/crm/companies)"
   ]
  },
  {
   "cell_type": "markdown",
   "id": "625a155e-110f-41c9-9ecd-dd5d5e78556d",
   "metadata": {
    "papermill": {},
    "tags": []
   },
   "source": [
    "## Input"
   ]
  },
  {
   "cell_type": "markdown",
   "id": "ebea7cbc-254b-4d88-bed0-8051d4a58856",
   "metadata": {
    "papermill": {},
    "tags": []
   },
   "source": [
    "### Import libraries"
   ]
  },
  {
   "cell_type": "code",
   "execution_count": null,
   "id": "f34eed5c-38ec-4589-91f6-1e091507d9b9",
   "metadata": {
    "papermill": {},
    "tags": []
   },
   "outputs": [],
   "source": [
    "from naas_drivers import hubspot\n",
    "import naas"
   ]
  },
  {
   "cell_type": "markdown",
   "id": "4408903b-084e-4a84-8945-9fa9b56b5b06",
   "metadata": {
    "papermill": {},
    "tags": []
   },
   "source": [
    "### Setup variables\n",
    "**Mandatory**\n",
    "\n",
    "[Get your HubSpot Access token](https://knowledge.hubspot.com/articles/kcs_article/integrations/how-do-i-get-my-hubspot-api-key)\n",
    "- `hs_access_token`: This variable stores an access token used for accessing the HubSpot API.\n",
    "- `hubspot_id`: This variable stores the HubSpot company ID"
   ]
  },
  {
   "cell_type": "code",
   "execution_count": null,
   "id": "6ab9199f-b054-459b-8bf0-bb23e941de67",
   "metadata": {
    "papermill": {},
    "tags": []
   },
   "outputs": [],
   "source": [
    "# Mandatory\n",
    "hs_access_token = naas.secret.get(\"HS_ACCESS_TOKEN\") or \"YOUR_HS_ACCESS_TOKEN\"\n",
    "hubspot_id = \"17450148694\""
   ]
  },
  {
   "cell_type": "markdown",
   "id": "3899ae6e-1e2b-4309-b87d-b9969feddef1",
   "metadata": {
    "papermill": {},
    "tags": []
   },
   "source": [
    "## Model"
   ]
  },
  {
   "cell_type": "markdown",
   "id": "1e734f5f-8b99-40a7-81d9-4d3a653d4e25",
   "metadata": {
    "papermill": {},
    "tags": []
   },
   "source": [
    "### Delete a company"
   ]
  },
  {
   "cell_type": "code",
   "execution_count": null,
   "id": "355d61fe-19cf-496a-9453-3ca41bcf1bc7",
   "metadata": {
    "papermill": {},
    "tags": []
   },
   "outputs": [],
   "source": [
    "obj = hubspot.connect(hs_access_token).companies.delete(hubspot_id)"
   ]
  },
  {
   "cell_type": "markdown",
   "id": "a5f649e9-2cff-4706-8fec-fdd9b7b8f882",
   "metadata": {
    "papermill": {},
    "tags": []
   },
   "source": [
    "## Output"
   ]
  },
  {
   "cell_type": "markdown",
   "id": "f0a8524d-8580-407b-93f8-a5613dff4cf5",
   "metadata": {
    "papermill": {},
    "tags": []
   },
   "source": [
    "### Display result"
   ]
  },
  {
   "cell_type": "code",
   "execution_count": null,
   "id": "336db21f-0533-47d2-8258-ad460c822e81",
   "metadata": {
    "papermill": {},
    "tags": []
   },
   "outputs": [],
   "source": [
    "obj"
   ]
  },
  {
   "cell_type": "code",
   "execution_count": null,
   "id": "38adb765-f897-45d8-a937-52555f116183",
   "metadata": {
    "papermill": {},
    "tags": []
   },
   "outputs": [],
   "source": []
  }
 ],
 "metadata": {
  "kernelspec": {
   "display_name": "Python 3",
   "language": "python",
   "name": "python3"
  },
  "language_info": {
   "codemirror_mode": {
    "name": "ipython",
    "version": 3
   },
   "file_extension": ".py",
   "mimetype": "text/x-python",
   "name": "python",
   "nbconvert_exporter": "python",
   "pygments_lexer": "ipython3",
   "version": "3.9.6"
  },
  "naas": {
   "notebook_id": "c3a6736f70c48fb0c868fcc904e64f39fe1621cf5cf416d13654970ce52cafa6",
   "notebook_path": "HubSpot/HubSpot_Delete_company.ipynb"
  },
  "papermill": {
   "default_parameters": {},
   "environment_variables": {},
   "parameters": {},
   "version": "2.3.3"
  }
 },
 "nbformat": 4,
 "nbformat_minor": 5
}