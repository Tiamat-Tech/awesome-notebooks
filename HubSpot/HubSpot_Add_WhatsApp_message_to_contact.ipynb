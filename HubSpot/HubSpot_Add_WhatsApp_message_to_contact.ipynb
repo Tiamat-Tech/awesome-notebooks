{
 "cells": [
  {
   "cell_type": "markdown",
   "id": "41701675-6c02-45d5-adc9-f4d25e675d93",
   "metadata": {
    "papermill": {},
    "tags": []
   },
   "source": [
    "<img width=\"8%\" alt=\"HubSpot.png\" src=\"https://raw.githubusercontent.com/jupyter-naas/awesome-notebooks/master/.github/assets/logos/HubSpot.png\" style=\"border-radius: 15%\">"
   ]
  },
  {
   "cell_type": "markdown",
   "id": "cd48954d-be6f-4871-8c98-5c583536bc8e",
   "metadata": {
    "papermill": {},
    "tags": []
   },
   "source": [
    "# HubSpot - Add WhatsApp message to contact\n",
    "<a href=\"https://bit.ly/3JyWIk6\">Give Feedback</a> | <a href=\"https://github.com/jupyter-naas/awesome-notebooks/issues/new?assignees=&labels=bug&template=bug_report.md&title=HubSpot+-+Add+WhatsApp+message+to+contact:+Error+short+description\">Bug report</a>"
   ]
  },
  {
   "cell_type": "markdown",
   "id": "560cebbf-0383-48b4-9028-fb51527dbfd3",
   "metadata": {
    "papermill": {},
    "tags": []
   },
   "source": [
    "**Tags:** #hubspot #communications #whatsapp #snippet #contact #association"
   ]
  },
  {
   "cell_type": "markdown",
   "id": "c37bd3a4-e8ee-4f73-983a-76a70c4d2b0b",
   "metadata": {
    "papermill": {},
    "tags": []
   },
   "source": [
    "**Author:** [Florent Ravenel](https://www.linkedin.com/in/florent-ravenel)"
   ]
  },
  {
   "cell_type": "markdown",
   "id": "4f8d1619-eec0-496d-b143-e05362d16095",
   "metadata": {
    "papermill": {},
    "tags": []
   },
   "source": [
    "**Last update:** 2023-08-17 (Created: 2023-08-17)"
   ]
  },
  {
   "cell_type": "markdown",
   "id": "17dd1212-48d4-4add-b721-9dc79df07be7",
   "metadata": {
    "papermill": {},
    "tags": []
   },
   "source": [
    "**Description:** This notebook demonstrates how to add WhatsApp message to a given contact in HubSpot. It uses the communication endpoint in HubSpot."
   ]
  },
  {
   "cell_type": "markdown",
   "id": "42d15859-c77b-44b6-a381-4bd29ae6d431",
   "metadata": {
    "papermill": {},
    "tags": []
   },
   "source": [
    "**References:**\n",
    "- [HubSpot API - Communications](https://developers.hubspot.com/docs/api/crm/communications)\n",
    "- [HubSpot API - Associations v4](https://developers.hubspot.com/docs/api/crm/associations)"
   ]
  },
  {
   "cell_type": "markdown",
   "id": "0a7fcd20-b42d-419f-ad8b-3fe000b75dd3",
   "metadata": {
    "papermill": {},
    "tags": []
   },
   "source": [
    "## Input"
   ]
  },
  {
   "cell_type": "markdown",
   "id": "f67b8d68-5af9-4317-a5c3-e2362852c115",
   "metadata": {
    "papermill": {},
    "tags": []
   },
   "source": [
    "### Import libraries"
   ]
  },
  {
   "cell_type": "code",
   "execution_count": 1,
   "id": "c78fcd5f-5320-4285-abd2-c111229a10c3",
   "metadata": {
    "papermill": {},
    "tags": []
   },
   "outputs": [],
   "source": [
    "import requests\n",
    "import naas\n",
    "from datetime import datetime, date, timezone\n",
    "from pprint import pprint"
   ]
  },
  {
   "cell_type": "markdown",
   "id": "3fa1db25-a349-45f2-8a3b-f02f2613ec56",
   "metadata": {
    "papermill": {},
    "tags": []
   },
   "source": [
    "### Setup variables\n",
    "[Get your HubSpot Access token](https://knowledge.hubspot.com/articles/kcs_article/integrations/how-do-i-get-my-hubspot-api-key)\n",
    "- `hs_access_token`: This variable stores an access token used for accessing the HubSpot API.\n",
    "- `communication_body`: This variable stores the message that will be added to the communication.\n",
    "- `contact_id`: This variable stores the HubSpot contact ID that will be associated to the communication.\n",
    "- `communication_datetime`: This variable stores date and time of the communication. If None communication date will be now."
   ]
  },
  {
   "cell_type": "code",
   "execution_count": 2,
   "id": "cfc59bad-a1ee-46e0-8135-a8400f796c03",
   "metadata": {
    "papermill": {},
    "tags": []
   },
   "outputs": [],
   "source": [
    "api_key = naas.secret.get(\"HS_ACCESS_TOKEN\") or \"YOUR_HS_ACCESS_TOKEN\"\n",
    "communication_body = \"My First WhatsApp message\"\n",
    "contact_id = \"308551\"\n",
    "communication_datetime = None or datetime(2023, 8, 17, 16, 5, 5)"
   ]
  },
  {
   "cell_type": "markdown",
   "id": "a5af4540-050a-442a-b6a1-8d7c0837ecc1",
   "metadata": {
    "papermill": {},
    "tags": []
   },
   "source": [
    "## Model"
   ]
  },
  {
   "cell_type": "markdown",
   "id": "b858a58a-af59-44ff-94cd-5c4a47046be0",
   "metadata": {
    "papermill": {},
    "tags": []
   },
   "source": [
    "### Create communication"
   ]
  },
  {
   "cell_type": "code",
   "execution_count": 3,
   "id": "2fa3158b-52b8-4019-a5ef-010ee70928c2",
   "metadata": {
    "papermill": {},
    "tags": []
   },
   "outputs": [],
   "source": [
    "def create_communication(\n",
    "    api_key,\n",
    "    communication_body,\n",
    "    contact_id,\n",
    "    communication_datetime=None,\n",
    "    channel_type=None,\n",
    "):\n",
    "    # Init\n",
    "    data = []\n",
    "    \n",
    "    # Get the current timestamp in UTC\n",
    "    if not communication_datetime:\n",
    "        communication_datetime = datetime.utcnow()\n",
    "        \n",
    "    hs_timestamp = communication_datetime.replace(tzinfo=timezone.utc).strftime(\"%s\") + \"000\"\n",
    "    \n",
    "    # Requests\n",
    "    url = \"https://api.hubapi.com/crm/v3/objects/Communications\"\n",
    "    payload = {\n",
    "        \"properties\":\n",
    "        {\n",
    "            \"hs_communication_channel_type\": channel_type,\n",
    "            \"hs_communication_logged_from\": \"CRM\",\n",
    "            \"hs_communication_body\": communication_body,\n",
    "            \"hs_timestamp\": hs_timestamp\n",
    "        },\n",
    "        \"associations\": [\n",
    "            {\n",
    "                \"to\": {\"id\": contact_id},\n",
    "                \"types\": [\n",
    "                    {\n",
    "                        \"associationCategory\": \"HUBSPOT_DEFINED\",\n",
    "                        \"associationTypeId\": 81 #contact\n",
    "                    }\n",
    "                ]\n",
    "            }\n",
    "        ]\n",
    "    }\n",
    "\n",
    "    headers = {\n",
    "        'accept': \"application/json\",\n",
    "        'content-type': \"application/json\",\n",
    "        'authorization': f\"Bearer {api_key}\"\n",
    "    }\n",
    "\n",
    "    # Response\n",
    "    res = requests.post(url, headers=headers, json=payload)\n",
    "    if res.status_code == 201:\n",
    "        data = res.json()\n",
    "    else:\n",
    "        print(res.text)\n",
    "    return data\n",
    "\n",
    "data = create_communication(api_key, communication_body, contact_id, communication_datetime, \"WHATS_APP\")\n",
    "data"
   ]
  },
  {
   "cell_type": "markdown",
   "id": "81fb8701-4143-49d1-87b3-5db07242ce58",
   "metadata": {
    "papermill": {},
    "tags": []
   },
   "source": [
    "## Output"
   ]
  },
  {
   "cell_type": "markdown",
   "id": "56ff3568-f3fc-4157-8e46-e5eaeb23e9b9",
   "metadata": {
    "papermill": {},
    "tags": []
   },
   "source": [
    "### Display result"
   ]
  },
  {
   "cell_type": "code",
   "execution_count": 4,
   "id": "6e35ea6b-32fd-4e11-a6b3-8614e7ae749a",
   "metadata": {
    "papermill": {},
    "tags": []
   },
   "outputs": [],
   "source": [
    "if len(data) > 0:\n",
    "    pprint(data.get(\"properties\"))"
   ]
  },
  {
   "cell_type": "markdown",
   "id": "60d2a2c5-0b58-4069-947c-39427572135c",
   "metadata": {
    "papermill": {},
    "tags": []
   },
   "source": [
    " "
   ]
  }
 ],
 "metadata": {
  "kernelspec": {
   "display_name": "Python 3",
   "language": "python",
   "name": "python3"
  },
  "language_info": {
   "codemirror_mode": {
    "name": "ipython",
    "version": 3
   },
   "file_extension": ".py",
   "mimetype": "text/x-python",
   "name": "python",
   "nbconvert_exporter": "python",
   "pygments_lexer": "ipython3",
   "version": "3.9.6"
  },
  "naas": {
   "notebook_id": "09a2fdd2c66a2ffb4736afbf1c4347feac6703273eccc90780482835a14a7760",
   "notebook_path": "HubSpot/HubSpot_Add_WhatsApp_message_to_contact.ipynb"
  },
  "papermill": {
   "default_parameters": {},
   "environment_variables": {},
   "parameters": {},
   "version": "2.4.0"
  },
  "widgets": {
   "application/vnd.jupyter.widget-state+json": {
    "state": {},
    "version_major": 2,
    "version_minor": 0
   }
  }
 },
 "nbformat": 4,
 "nbformat_minor": 5
}