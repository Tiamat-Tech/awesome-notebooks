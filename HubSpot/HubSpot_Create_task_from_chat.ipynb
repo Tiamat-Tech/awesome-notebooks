{
 "cells": [
  {
   "cell_type": "markdown",
   "id": "latin-packing",
   "metadata": {
    "execution": {
     "iopub.execute_input": "2021-02-23T14:22:16.610471Z",
     "iopub.status.busy": "2021-02-23T14:22:16.610129Z",
     "iopub.status.idle": "2021-02-23T14:22:16.627784Z",
     "shell.execute_reply": "2021-02-23T14:22:16.626866Z",
     "shell.execute_reply.started": "2021-02-23T14:22:16.610384Z"
    },
    "papermill": {},
    "tags": []
   },
   "source": [
    "<img width=\"8%\" alt=\"HubSpot.png\" src=\"https://raw.githubusercontent.com/jupyter-naas/awesome-notebooks/master/.github/assets/logos/HubSpot.png\" style=\"border-radius: 15%\">"
   ]
  },
  {
   "cell_type": "markdown",
   "id": "compressed-wilson",
   "metadata": {
    "papermill": {},
    "tags": []
   },
   "source": [
    "# HubSpot - Create task from Chat\n",
    "<a href=\"https://bit.ly/3JyWIk6\">Give Feedback</a> | <a href=\"https://github.com/jupyter-naas/awesome-notebooks/issues/new?assignees=&labels=bug&template=bug_report.md&title=HubSpot+-+Create+task+from+Chat:+Error+short+description\">Bug report</a>"
   ]
  },
  {
   "cell_type": "markdown",
   "id": "religious-programmer",
   "metadata": {
    "papermill": {},
    "tags": []
   },
   "source": [
    "**Tags:** #hubspot #sales #crm #engagements #task #command"
   ]
  },
  {
   "cell_type": "markdown",
   "id": "1fe9f56e-561c-4f52-aef8-b861c9462107",
   "metadata": {
    "papermill": {},
    "tags": []
   },
   "source": [
    "**Author:** [Florent Ravenel](https://www.linkedin.com/in/florent-ravenel/)"
   ]
  },
  {
   "cell_type": "markdown",
   "id": "0112a822-dc60-4dea-b7da-8327faa2f450",
   "metadata": {
    "papermill": {},
    "tags": []
   },
   "source": [
    "**Last update:** 2023-11-22 (Created: 2023-11-22)"
   ]
  },
  {
   "cell_type": "markdown",
   "id": "d32b7007-cc10-4c8c-b688-7192a37a46a9",
   "metadata": {
    "execution": {
     "iopub.execute_input": "2022-05-31T06:20:54.776282Z",
     "iopub.status.busy": "2022-05-31T06:20:54.776003Z",
     "iopub.status.idle": "2022-05-31T06:20:54.787094Z",
     "shell.execute_reply": "2022-05-31T06:20:54.786154Z",
     "shell.execute_reply.started": "2022-05-31T06:20:54.776252Z"
    },
    "papermill": {},
    "tags": []
   },
   "source": [
    "**Description:** This notebook demonstrates how to create a task in HubSpot from Naas Chat."
   ]
  },
  {
   "cell_type": "markdown",
   "id": "1f18a59c-2267-4fff-a465-47fff958b6fb",
   "metadata": {
    "papermill": {},
    "tags": []
   },
   "source": [
    "**References:**\n",
    "- [HubSpot API - Tasks](https://developers.hubspot.com/docs/api/crm/tasks)\n",
    "- [Get your HubSpot Access token](https://knowledge.hubspot.com/articles/kcs_article/integrations/how-do-i-get-my-hubspot-api-key)"
   ]
  },
  {
   "cell_type": "markdown",
   "id": "26a58e08-2903-4964-85f8-b31eccdec795",
   "metadata": {
    "papermill": {},
    "tags": []
   },
   "source": [
    "## Input"
   ]
  },
  {
   "cell_type": "markdown",
   "id": "da0a62d3-9d51-46e1-93a2-bcdbc85e70e0",
   "metadata": {
    "papermill": {},
    "tags": []
   },
   "source": [
    "### Import libraries"
   ]
  },
  {
   "cell_type": "code",
   "execution_count": null,
   "id": "32f63482-6e90-45b8-8829-03e3c51b63bd",
   "metadata": {
    "papermill": {},
    "tags": []
   },
   "outputs": [],
   "source": [
    "import requests\n",
    "import naas\n",
    "from datetime import datetime, date, timezone, timedelta"
   ]
  },
  {
   "cell_type": "markdown",
   "id": "73e85cc9-2bae-4304-8798-41fc900518ac",
   "metadata": {
    "papermill": {},
    "tags": []
   },
   "source": [
    "### Setup variables\n",
    "- `hs_access_token`: This variable stores an access token used for accessing the HubSpot API.\n",
    "- `task_subject`: The title of the task.\n",
    "- `task_type`: The type of task. Values include EMAIL, CALL, or TODO.\n",
    "- `task_body`: The task notes.\n",
    "- `task_priority`: The priority of the task. Values include LOW, MEDIUM, or HIGH.\n",
    "- `task_status`: The status of the task, either NOT_STARTED, COMPLETED, IN_PROGRESS, WAITING, DEFERRED\n",
    "- `owner_email`: Email of the owner name of the task.\n",
    "- `due_date`: Due date in format YYYY-MM-DD or integer between current date. By default, the hour set will be 9:00 AM.\n",
    "- `body`: This variable stores the body to be send by the webhook."
   ]
  },
  {
   "cell_type": "code",
   "execution_count": null,
   "id": "6792e153-e82d-4010-9874-a29c7313b47a",
   "metadata": {
    "papermill": {},
    "tags": []
   },
   "outputs": [],
   "source": [
    "hs_access_token = naas.secret.get(\"HS_ACCESS_TOKEN\") or \"YOUR_HS_ACCESS_TOKEN\"\n",
    "task_subject = \"Connect\"\n",
    "task_type = \"TODO\"\n",
    "task_body = \"\"\n",
    "task_priority = \"MEDIUM\"\n",
    "task_status = \"NOT_STARTED\"\n",
    "owner_email = None\n",
    "due_date = None\n",
    "body = {}"
   ]
  },
  {
   "cell_type": "markdown",
   "id": "4ca171f4-2341-49a2-b296-ec9b588aa165",
   "metadata": {
    "execution": {
     "iopub.execute_input": "2023-09-26T17:20:36.759189Z",
     "iopub.status.busy": "2023-09-26T17:20:36.758881Z",
     "iopub.status.idle": "2023-09-26T17:20:36.765546Z",
     "shell.execute_reply": "2023-09-26T17:20:36.764836Z",
     "shell.execute_reply.started": "2023-09-26T17:20:36.759155Z"
    },
    "papermill": {},
    "tags": [
     "parameters"
    ]
   },
   "source": [
    "### Setup parameters\n",
    "The webhook body will be injected below this cell when the webhook is triggered. \n",
    "Therefore, it is important to set up how you will handle the injected variable from the body in order to make your script work.\n",
    "To receive the body from the webhook, please ensure that this cell is tagged as \"parameters\"."
   ]
  },
  {
   "cell_type": "code",
   "execution_count": null,
   "id": "b60bc0f7-f805-40ac-814d-f27f45151af7",
   "metadata": {
    "papermill": {},
    "tags": []
   },
   "outputs": [],
   "source": [
    "# Parameters\n",
    "if len(body) > 0:\n",
    "    task_subject = body.get(\"task_subject\")\n",
    "    task_body = body.get(\"task_body\")\n",
    "    task_type = body.get(\"task_type\")\n",
    "    task_priority = body.get(\"task_priority\")\n",
    "    owner_email = body.get(\"owner_email\")\n",
    "    due_date = body.get(\"due_date\")"
   ]
  },
  {
   "cell_type": "markdown",
   "id": "48a57a95-b974-4e15-9b54-b1bb680b69bf",
   "metadata": {
    "papermill": {},
    "tags": []
   },
   "source": [
    "## Model"
   ]
  },
  {
   "cell_type": "markdown",
   "id": "15d70c62-c01c-4a0c-9e81-22618c8c5c96",
   "metadata": {
    "papermill": {},
    "tags": []
   },
   "source": [
    "### Get HubSpot owner ID from owner name"
   ]
  },
  {
   "cell_type": "code",
   "execution_count": null,
   "id": "e4cfa89b-a877-49e4-b76c-b7ae902a0705",
   "metadata": {
    "papermill": {},
    "tags": []
   },
   "outputs": [],
   "source": [
    "def get_owners(hs_access_token):\n",
    "    # Request\n",
    "    headers = {\n",
    "        'accept': \"application/json\",\n",
    "        'content-type': \"application/json\",\n",
    "        'authorization': f\"Bearer {hs_access_token}\"\n",
    "    }\n",
    "    url = \"https://api.hubapi.com/crm/v3/owners\"\n",
    "\n",
    "    # Response\n",
    "    res = requests.get(url, headers=headers)\n",
    "    return res.json()['results']\n",
    "\n",
    "hubspot_owner_id = None\n",
    "for owner in get_owners(hs_access_token):\n",
    "    email = owner.get(\"email\")\n",
    "    if email == owner_email:\n",
    "        hubspot_owner_id = owner.get(\"id\")\n",
    "        break\n",
    "        \n",
    "print(\"Owner ID:\", hubspot_owner_id)"
   ]
  },
  {
   "cell_type": "markdown",
   "id": "829b48ae-899a-4cce-8aa3-ef9af318669e",
   "metadata": {
    "papermill": {},
    "tags": []
   },
   "source": [
    "### Transform due date to timestamp"
   ]
  },
  {
   "cell_type": "code",
   "execution_count": null,
   "id": "6216979c-bf7a-4cc6-b680-9ac64a8a3392",
   "metadata": {
    "papermill": {},
    "tags": []
   },
   "outputs": [],
   "source": [
    "hs_timestamp = None\n",
    "due_date = 1\n",
    "try:\n",
    "    date_object = datetime.strptime(due_date, \"%Y-%m-%d\")\n",
    "    print(\"The string matches the ISO format for a date.\")\n",
    "except:\n",
    "    date_object = datetime.now() + timedelta(days=1)\n",
    "    print(\"The string does not match the ISO format for a date.\")\n",
    "    \n",
    "hs_timestamp = date_object.replace(tzinfo=timezone.utc, hour=9, minute=0, second=0, microsecond=0).strftime(\"%s\") + \"000\"\n",
    "print(\"Timestamp:\", hs_timestamp)"
   ]
  },
  {
   "cell_type": "markdown",
   "id": "cc95a2de-8e1b-4aa3-bdbe-90d9898de1ad",
   "metadata": {
    "papermill": {},
    "tags": []
   },
   "source": [
    "### Create task"
   ]
  },
  {
   "cell_type": "code",
   "execution_count": null,
   "id": "18448f9d-e20a-42e8-a03a-976d8d4370ab",
   "metadata": {
    "papermill": {},
    "tags": []
   },
   "outputs": [],
   "source": [
    "def create_task(\n",
    "    hs_access_token,\n",
    "    hs_task_subject,\n",
    "    hs_task_type=\"TODO\",\n",
    "    hs_task_body=None,\n",
    "    hs_task_priority=None,\n",
    "    hs_task_status=None,\n",
    "    hs_timestamp=None,\n",
    "    hubspot_owner_id=None,\n",
    "    contact_ids=[],\n",
    "    company_ids=[],\n",
    "    deal_ids=[]\n",
    "):\n",
    "    # Init\n",
    "    status = \"ok\"\n",
    "    message = \"\"\n",
    "    data = []\n",
    "    associations = []\n",
    "    \n",
    "    try:    \n",
    "        # Get the current timestamp in UTC\n",
    "        if not hs_timestamp:\n",
    "            hs_timestamp = datetime.utcnow().replace(tzinfo=timezone.utc).strftime(\"%s\") + \"000\"\n",
    "\n",
    "        # Create contact associations\n",
    "        contacts = []\n",
    "        for object_id in contact_ids:\n",
    "            contacts.append(\n",
    "                {\n",
    "                    \"to\": {\"id\": object_id},\n",
    "                    \"types\": [\n",
    "                        {\n",
    "                            \"associationCategory\": \"HUBSPOT_DEFINED\",\n",
    "                            \"associationTypeId\": 204\n",
    "                        }\n",
    "                    ]\n",
    "                }\n",
    "            )\n",
    "\n",
    "        # Create contact asso\n",
    "        companies = []\n",
    "        for object_id in company_ids:\n",
    "            companies.append(\n",
    "                {\n",
    "                    \"to\": {\"id\": object_id},\n",
    "                    \"types\": [\n",
    "                        {\n",
    "                            \"associationCategory\": \"HUBSPOT_DEFINED\",\n",
    "                            \"associationTypeId\": 192\n",
    "                        }\n",
    "                    ]\n",
    "                }\n",
    "            )\n",
    "\n",
    "        # Create contact asso\n",
    "        deals = []\n",
    "        for object_id in deal_ids:\n",
    "            deals.append(\n",
    "                {\n",
    "                    \"to\": {\"id\": object_id},\n",
    "                    \"types\": [\n",
    "                        {\n",
    "                            \"associationCategory\": \"HUBSPOT_DEFINED\",\n",
    "                            \"associationTypeId\": 216\n",
    "                        }\n",
    "                    ]\n",
    "                }\n",
    "            )\n",
    "\n",
    "        # Requests\n",
    "        associations = contacts + companies + deals\n",
    "        payload = {\n",
    "            \"properties\":\n",
    "            {\n",
    "                \"hs_task_subject\": hs_task_subject,\n",
    "                \"hs_task_type\": hs_task_type,\n",
    "                \"hs_task_body\": hs_task_body,\n",
    "                \"hs_task_status\": hs_task_status,\n",
    "                \"hs_task_priority\": hs_task_priority,\n",
    "                \"hs_timestamp\": hs_timestamp,\n",
    "                \"hubspot_owner_id\": hubspot_owner_id,\n",
    "            },\n",
    "            \"associations\": associations\n",
    "        }\n",
    "        headers = {\n",
    "            'accept': \"application/json\",\n",
    "            'content-type': \"application/json\",\n",
    "            'authorization': f\"Bearer {hs_access_token}\"\n",
    "        }\n",
    "        url = \"https://api.hubapi.com/crm/v3/objects/tasks\"\n",
    "\n",
    "        # Response\n",
    "        res = requests.post(url, headers=headers, json=payload)\n",
    "        if res.status_code == 201:\n",
    "            data = res.json()\n",
    "            message = f\"✅ Task successfully created: {data.get('id')}\"\n",
    "        else:\n",
    "            print(res)\n",
    "            message = res.text\n",
    "        print(message)\n",
    "    except Exception as e:\n",
    "            message = f\"Template error: {e}\"\n",
    "    return status, message\n",
    "\n",
    "status, message = create_task(\n",
    "    hs_access_token,\n",
    "    task_subject,\n",
    "    hs_task_type=task_type,\n",
    "    hs_task_body=task_body,\n",
    "    hs_task_priority=task_priority,\n",
    "    hs_task_status=task_status,\n",
    "    hs_timestamp=hs_timestamp,\n",
    "    hubspot_owner_id=hubspot_owner_id,\n",
    ")"
   ]
  },
  {
   "cell_type": "markdown",
   "id": "8df8bbdf-b013-4b64-ac9a-f640a8e49c1d",
   "metadata": {
    "papermill": {},
    "tags": []
   },
   "source": [
    "## Output"
   ]
  },
  {
   "cell_type": "markdown",
   "id": "b9688da2-6a78-44e3-a781-9d66e8b3bcb7",
   "metadata": {
    "papermill": {},
    "tags": []
   },
   "source": [
    "### Create or update Webhook"
   ]
  },
  {
   "cell_type": "code",
   "execution_count": null,
   "id": "c3fdfcdc-1394-4837-a832-e769364bb0ec",
   "metadata": {
    "papermill": {},
    "tags": []
   },
   "outputs": [],
   "source": [
    "naas.webhook.add()"
   ]
  },
  {
   "cell_type": "markdown",
   "id": "25e3f960-7546-47e0-8324-1ed935c01b2c",
   "metadata": {
    "execution": {
     "iopub.execute_input": "2023-09-26T15:15:09.022426Z",
     "iopub.status.busy": "2023-09-26T15:15:09.022118Z",
     "iopub.status.idle": "2023-09-26T15:15:09.025782Z",
     "shell.execute_reply": "2023-09-26T15:15:09.025087Z",
     "shell.execute_reply.started": "2023-09-26T15:15:09.022389Z"
    },
    "papermill": {},
    "tags": []
   },
   "source": [
    "### Return JSON response\n",
    "Response sent to the browser before displayed in Chat UI."
   ]
  },
  {
   "cell_type": "code",
   "execution_count": null,
   "id": "8ce8cfc2-3d85-4a1d-b36b-83bda225c059",
   "metadata": {
    "papermill": {},
    "tags": []
   },
   "outputs": [],
   "source": [
    "naas.webhook.respond_json(\n",
    "    {\n",
    "        \"status\": status, \n",
    "        \"message\": message\n",
    "    }\n",
    ")"
   ]
  }
 ],
 "metadata": {
  "kernelspec": {
   "display_name": "Python 3",
   "language": "python",
   "name": "python3"
  },
  "language_info": {
   "codemirror_mode": {
    "name": "ipython",
    "version": 3
   },
   "file_extension": ".py",
   "mimetype": "text/x-python",
   "name": "python",
   "nbconvert_exporter": "python",
   "pygments_lexer": "ipython3",
   "version": "3.9.6"
  },
  "naas": {
   "notebook_id": "5d99dd64ea7993bda20c41d601cc30b24e9fb539ac95d0079a1aa495d7e63520",
   "notebook_path": "HubSpot/HubSpot_Create_task_from_chat.ipynb"
  },
  "papermill": {
   "default_parameters": {},
   "environment_variables": {},
   "parameters": {},
   "version": "2.3.3"
  },
  "widgets": {
   "application/vnd.jupyter.widget-state+json": {
    "state": {},
    "version_major": 2,
    "version_minor": 0
   }
  }
 },
 "nbformat": 4,
 "nbformat_minor": 5
}