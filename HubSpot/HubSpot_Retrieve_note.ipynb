{
 "cells": [
  {
   "cell_type": "markdown",
   "id": "27486f01-77c3-4774-a098-29c706202d62",
   "metadata": {
    "papermill": {},
    "tags": []
   },
   "source": [
    "<img width=\"8%\" alt=\"HubSpot.png\" src=\"https://raw.githubusercontent.com/jupyter-naas/awesome-notebooks/master/.github/assets/logos/HubSpot.png\" style=\"border-radius: 15%\">"
   ]
  },
  {
   "cell_type": "markdown",
   "id": "85c6497e-923f-41fa-b85b-81f47a5ab9c7",
   "metadata": {
    "papermill": {},
    "tags": []
   },
   "source": [
    "# HubSpot - Retrieve note details\n",
    "<a href=\"https://bit.ly/3JyWIk6\">Give Feedback</a> | <a href=\"https://github.com/jupyter-naas/awesome-notebooks/issues/new?assignees=&labels=bug&template=bug_report.md&title=HubSpot+-+Retrieve+note+details:+Error+short+description\">Bug report</a>"
   ]
  },
  {
   "cell_type": "markdown",
   "id": "661f554e-7065-4101-81c2-9e799a812b67",
   "metadata": {
    "papermill": {},
    "tags": []
   },
   "source": [
    "**Tags:** #hubspot #get #read #communication #snippet"
   ]
  },
  {
   "cell_type": "markdown",
   "id": "a852a18f-e277-4aa5-bdec-8dd1fccb57d2",
   "metadata": {
    "papermill": {},
    "tags": []
   },
   "source": [
    "**Author:** [Florent Ravenel](https://www.linkedin.com/in/florent-ravenel)"
   ]
  },
  {
   "cell_type": "markdown",
   "id": "6dd7c05c-17ed-459f-88a8-3c6629b80cde",
   "metadata": {
    "papermill": {},
    "tags": []
   },
   "source": [
    "**Last update:** 2023-08-17 (Created: 2023-08-17)"
   ]
  },
  {
   "cell_type": "markdown",
   "id": "7dcfd269-589b-4199-b521-6884053ff935",
   "metadata": {
    "papermill": {},
    "tags": []
   },
   "source": [
    "**Description:** This notebook fetches detailed information for a specific note. It can be helpful in obtaining further details from a note ID, which can be acquired by extraction from a contact."
   ]
  },
  {
   "cell_type": "markdown",
   "id": "0da5ca2d-a6a1-424c-b41f-391428555503",
   "metadata": {
    "papermill": {},
    "tags": []
   },
   "source": [
    "**References:**\n",
    "- [HubSpot API - Communications](https://developers.hubspot.com/docs/api/crm/communications)\n",
    "- [HubSpot API - Notes](https://developers.hubspot.com/docs/api/crm/notes)"
   ]
  },
  {
   "cell_type": "markdown",
   "id": "8c6e5050-800a-4f05-a1d2-5a682c54e069",
   "metadata": {
    "papermill": {},
    "tags": []
   },
   "source": [
    "## Input"
   ]
  },
  {
   "cell_type": "markdown",
   "id": "6c27222b-7468-4daa-9a77-c446aaf66f72",
   "metadata": {
    "papermill": {},
    "tags": []
   },
   "source": [
    "### Import libraries"
   ]
  },
  {
   "cell_type": "code",
   "execution_count": 1,
   "id": "a3fad6df-27f3-4e13-a934-083468860bf3",
   "metadata": {
    "papermill": {},
    "tags": []
   },
   "outputs": [],
   "source": [
    "import requests\n",
    "import naas\n",
    "from pprint import pprint"
   ]
  },
  {
   "cell_type": "markdown",
   "id": "6c6ed6b8-90b8-4de6-9b34-9f306d01f574",
   "metadata": {
    "papermill": {},
    "tags": []
   },
   "source": [
    "### Setup variables\n",
    "**Mandatory**\n",
    "\n",
    "[Get your HubSpot Access token](https://knowledge.hubspot.com/articles/kcs_article/integrations/how-do-i-get-my-hubspot-api-key)\n",
    "- `hs_access_token`: This variable stores an access token used for accessing the HubSpot API.\n",
    "- `object_id`: This variable stores the object ID.\n",
    "\n",
    "**Optional**\n",
    "- `properties`: This variable stores the list of properties to be retrieve from the meeting."
   ]
  },
  {
   "cell_type": "code",
   "execution_count": 2,
   "id": "c89143dd-3769-4167-b397-09f2d4095fe9",
   "metadata": {
    "papermill": {},
    "tags": []
   },
   "outputs": [],
   "source": [
    "# Mandatory\n",
    "hs_access_token = naas.secret.get(\"HS_ACCESS_TOKEN\") or \"YOUR_HS_ACCESS_TOKEN\"\n",
    "object_id = 21944694549\n",
    "\n",
    "# Optional\n",
    "properties = [\"hs_object_id\", \"hs_lastmodifieddate\", \"hs_body_preview\", \"hs_body_preview_html\"]"
   ]
  },
  {
   "cell_type": "markdown",
   "id": "1ff5c82c-f9bb-4591-bbe4-e683317da3df",
   "metadata": {
    "papermill": {},
    "tags": []
   },
   "source": [
    "## Model"
   ]
  },
  {
   "cell_type": "markdown",
   "id": "7b5fa0c9-ea58-4117-9445-a421a3189015",
   "metadata": {
    "papermill": {},
    "tags": []
   },
   "source": [
    "### Retrieve details"
   ]
  },
  {
   "cell_type": "code",
   "execution_count": 3,
   "id": "e765ab29-08d9-4647-995a-1101289e2047",
   "metadata": {
    "papermill": {},
    "tags": []
   },
   "outputs": [],
   "source": [
    "def retrieve_object_details(\n",
    "    hs_access_token,\n",
    "    object_id,\n",
    "    object_type,\n",
    "    properties=None,\n",
    "):\n",
    "    # Init\n",
    "    data = []\n",
    "    params = {\n",
    "        \"archived\": \"false\"\n",
    "    }\n",
    "    \n",
    "    # Requests\n",
    "    if properties:\n",
    "        params[\"properties\"] = properties\n",
    "    headers = {\n",
    "        \"Content-Type\": \"application/json\",\n",
    "        \"Authorization\": f\"Bearer {hs_access_token}\"\n",
    "    }\n",
    "    url = f\"https://api.hubapi.com/crm/v3/objects/{object_type}/{object_id}\"\n",
    "    \n",
    "    # Response\n",
    "    res = requests.get(url, headers=headers, params=params)\n",
    "    if res.status_code == 200:\n",
    "        data = res.json()\n",
    "    else:\n",
    "        print(res.text)\n",
    "    return data\n",
    "\n",
    "data = retrieve_object_details(hs_access_token, object_id, \"notes\", properties)\n",
    "data"
   ]
  },
  {
   "cell_type": "markdown",
   "id": "6e9729cd-8e75-4c13-a06c-87afb9923e53",
   "metadata": {
    "papermill": {},
    "tags": []
   },
   "source": [
    "## Output"
   ]
  },
  {
   "cell_type": "markdown",
   "id": "63a8e638-dafd-45ea-9f7e-a0aec60a8a7d",
   "metadata": {
    "papermill": {},
    "tags": []
   },
   "source": [
    "### Display result"
   ]
  },
  {
   "cell_type": "code",
   "execution_count": 4,
   "id": "128d8d7f-f053-40d1-bf45-c8bcfb0ca5f9",
   "metadata": {
    "papermill": {},
    "tags": []
   },
   "outputs": [],
   "source": [
    "if len(data) > 0:\n",
    "    pprint(data.get(\"properties\"))"
   ]
  },
  {
   "cell_type": "markdown",
   "id": "d12c841e-5924-4e79-b565-88295343ba0c",
   "metadata": {
    "papermill": {},
    "tags": []
   },
   "source": [
    " "
   ]
  }
 ],
 "metadata": {
  "kernelspec": {
   "display_name": "Python 3",
   "language": "python",
   "name": "python3"
  },
  "language_info": {
   "codemirror_mode": {
    "name": "ipython",
    "version": 3
   },
   "file_extension": ".py",
   "mimetype": "text/x-python",
   "name": "python",
   "nbconvert_exporter": "python",
   "pygments_lexer": "ipython3",
   "version": "3.9.6"
  },
  "naas": {
   "notebook_id": "000268b50a5a3408219513347b6002498b5f3680bb09035bc7ea4bdd502916a3",
   "notebook_path": "HubSpot/HubSpot_Retrieve_note.ipynb"
  },
  "papermill": {
   "default_parameters": {},
   "environment_variables": {},
   "parameters": {},
   "version": "2.4.0"
  },
  "widgets": {
   "application/vnd.jupyter.widget-state+json": {
    "state": {},
    "version_major": 2,
    "version_minor": 0
   }
  }
 },
 "nbformat": 4,
 "nbformat_minor": 5
}