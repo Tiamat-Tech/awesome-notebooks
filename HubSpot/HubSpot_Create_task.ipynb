{
 "cells": [
  {
   "cell_type": "markdown",
   "id": "latin-packing",
   "metadata": {
    "execution": {
     "iopub.execute_input": "2021-02-23T14:22:16.610471Z",
     "iopub.status.busy": "2021-02-23T14:22:16.610129Z",
     "iopub.status.idle": "2021-02-23T14:22:16.627784Z",
     "shell.execute_reply": "2021-02-23T14:22:16.626866Z",
     "shell.execute_reply.started": "2021-02-23T14:22:16.610384Z"
    },
    "papermill": {},
    "tags": []
   },
   "source": [
    "<img width=\"8%\" alt=\"HubSpot.png\" src=\"https://raw.githubusercontent.com/jupyter-naas/awesome-notebooks/master/.github/assets/logos/HubSpot.png\" style=\"border-radius: 15%\">"
   ]
  },
  {
   "cell_type": "markdown",
   "id": "compressed-wilson",
   "metadata": {
    "papermill": {},
    "tags": []
   },
   "source": [
    "# HubSpot - Create task\n",
    "<a href=\"https://bit.ly/3JyWIk6\">Give Feedback</a> | <a href=\"https://github.com/jupyter-naas/awesome-notebooks/issues/new?assignees=&labels=bug&template=bug_report.md&title=HubSpot+-+Create+task:+Error+short+description\">Bug report</a>"
   ]
  },
  {
   "cell_type": "markdown",
   "id": "religious-programmer",
   "metadata": {
    "papermill": {},
    "tags": []
   },
   "source": [
    "**Tags:** #hubspot #sales #crm #engagements #task #snippet"
   ]
  },
  {
   "cell_type": "markdown",
   "id": "1fe9f56e-561c-4f52-aef8-b861c9462107",
   "metadata": {
    "papermill": {},
    "tags": []
   },
   "source": [
    "**Author:** [Florent Ravenel](https://www.linkedin.com/in/florent-ravenel/)"
   ]
  },
  {
   "cell_type": "markdown",
   "id": "0112a822-dc60-4dea-b7da-8327faa2f450",
   "metadata": {
    "papermill": {},
    "tags": []
   },
   "source": [
    "**Last update:** 2023-11-21 (Created: 2023-11-21)"
   ]
  },
  {
   "cell_type": "markdown",
   "id": "d32b7007-cc10-4c8c-b688-7192a37a46a9",
   "metadata": {
    "execution": {
     "iopub.execute_input": "2022-05-31T06:20:54.776282Z",
     "iopub.status.busy": "2022-05-31T06:20:54.776003Z",
     "iopub.status.idle": "2022-05-31T06:20:54.787094Z",
     "shell.execute_reply": "2022-05-31T06:20:54.786154Z",
     "shell.execute_reply.started": "2022-05-31T06:20:54.776252Z"
    },
    "papermill": {},
    "tags": []
   },
   "source": [
    "**Description:** This notebook demonstrates how to create a task in HubSpot associated with contacts, companies or deals."
   ]
  },
  {
   "cell_type": "markdown",
   "id": "1f18a59c-2267-4fff-a465-47fff958b6fb",
   "metadata": {
    "papermill": {},
    "tags": []
   },
   "source": [
    "**References:**\n",
    "- [HubSpot API - Tasks](https://developers.hubspot.com/docs/api/crm/tasks)\n",
    "- [Get your HubSpot Access token](https://knowledge.hubspot.com/articles/kcs_article/integrations/how-do-i-get-my-hubspot-api-key)"
   ]
  },
  {
   "cell_type": "markdown",
   "id": "26a58e08-2903-4964-85f8-b31eccdec795",
   "metadata": {
    "papermill": {},
    "tags": []
   },
   "source": [
    "## Input"
   ]
  },
  {
   "cell_type": "markdown",
   "id": "da0a62d3-9d51-46e1-93a2-bcdbc85e70e0",
   "metadata": {
    "papermill": {},
    "tags": []
   },
   "source": [
    "### Import libraries"
   ]
  },
  {
   "cell_type": "code",
   "execution_count": null,
   "id": "32f63482-6e90-45b8-8829-03e3c51b63bd",
   "metadata": {
    "papermill": {},
    "tags": []
   },
   "outputs": [],
   "source": [
    "import requests\n",
    "import naas\n",
    "from datetime import datetime, date, timezone"
   ]
  },
  {
   "cell_type": "markdown",
   "id": "73e85cc9-2bae-4304-8798-41fc900518ac",
   "metadata": {
    "papermill": {},
    "tags": []
   },
   "source": [
    "### Setup variables\n",
    "- `hs_access_token`: This variable stores an access token used for accessing the HubSpot API.\n",
    "- `hs_task_subject`: The title of the task.\n",
    "- `hs_task_type`: The type of task. Values include EMAIL, CALL, or TODO.\n",
    "- `hs_task_body`: The task notes.\n",
    "- `hs_task_priority`: The priority of the task. Values include LOW, MEDIUM, or HIGH.\n",
    "- `hs_task_status`: The status of the task, either NOT_STARTED, COMPLETED, IN_PROGRESS, WAITING, DEFERRED\n",
    "- `hs_timestamp`: Required. This field marks the task's due date. You can use either a Unix timestamp in milliseconds or UTC format.\n",
    "- `hubspot_owner_id`: The owner ID of the user assigned to the task.\n",
    "- `contact_associations`: The list of contact IDs associated to the task.\n",
    "- `company_associations`: The list of company IDs associated to the task.\n",
    "- `deal_associations`: The list of deal IDs associated to the task."
   ]
  },
  {
   "cell_type": "code",
   "execution_count": null,
   "id": "6792e153-e82d-4010-9874-a29c7313b47a",
   "metadata": {
    "papermill": {},
    "tags": []
   },
   "outputs": [],
   "source": [
    "hs_access_token = naas.secret.get(\"HS_ACCESS_TOKEN\") or \"YOUR_HS_ACCESS_TOKEN\"\n",
    "hs_task_subject = \"My new task\"\n",
    "hs_task_type = \"TODO\"\n",
    "hs_task_body = \"Perform the following actions: ....\"\n",
    "hs_task_priority = \"HIGH\"\n",
    "hs_task_status = \"NOT_STARTED\"\n",
    "hs_timestamp = None\n",
    "hubspot_owner_id = None\n",
    "contact_associations = [\"693551\"]\n",
    "company_associations = [\"16009427212\"]\n",
    "deal_associations = [\"15020814750\"]"
   ]
  },
  {
   "cell_type": "markdown",
   "id": "48a57a95-b974-4e15-9b54-b1bb680b69bf",
   "metadata": {
    "papermill": {},
    "tags": []
   },
   "source": [
    "## Model"
   ]
  },
  {
   "cell_type": "markdown",
   "id": "cc95a2de-8e1b-4aa3-bdbe-90d9898de1ad",
   "metadata": {
    "papermill": {},
    "tags": []
   },
   "source": [
    "### Create task"
   ]
  },
  {
   "cell_type": "code",
   "execution_count": null,
   "id": "18448f9d-e20a-42e8-a03a-976d8d4370ab",
   "metadata": {
    "papermill": {},
    "tags": []
   },
   "outputs": [],
   "source": [
    "def create_task(\n",
    "    hs_access_token,\n",
    "    hs_task_subject,\n",
    "    hs_task_type=\"TODO\",\n",
    "    hs_task_body=None,\n",
    "    hs_task_priority=None,\n",
    "    hs_task_status=None,\n",
    "    hs_timestamp=None,\n",
    "    hubspot_owner_id=None,\n",
    "    contact_ids=[],\n",
    "    company_ids=[],\n",
    "    deal_ids=[]\n",
    "):\n",
    "    # Init\n",
    "    data = []\n",
    "    associations = []\n",
    "    \n",
    "    # Get the current timestamp in UTC\n",
    "    if not hs_timestamp:\n",
    "        hs_timestamp = datetime.utcnow().replace(tzinfo=timezone.utc).strftime(\"%s\") + \"000\"\n",
    "        \n",
    "    # Create contact associations\n",
    "    contacts = []\n",
    "    for object_id in contact_ids:\n",
    "        contacts.append(\n",
    "            {\n",
    "                \"to\": {\"id\": object_id},\n",
    "                \"types\": [\n",
    "                    {\n",
    "                        \"associationCategory\": \"HUBSPOT_DEFINED\",\n",
    "                        \"associationTypeId\": 204\n",
    "                    }\n",
    "                ]\n",
    "            }\n",
    "        )\n",
    "        \n",
    "    # Create contact asso\n",
    "    companies = []\n",
    "    for object_id in company_ids:\n",
    "        companies.append(\n",
    "            {\n",
    "                \"to\": {\"id\": object_id},\n",
    "                \"types\": [\n",
    "                    {\n",
    "                        \"associationCategory\": \"HUBSPOT_DEFINED\",\n",
    "                        \"associationTypeId\": 192\n",
    "                    }\n",
    "                ]\n",
    "            }\n",
    "        )\n",
    "        \n",
    "    # Create contact asso\n",
    "    deals = []\n",
    "    for object_id in deal_ids:\n",
    "        deals.append(\n",
    "            {\n",
    "                \"to\": {\"id\": object_id},\n",
    "                \"types\": [\n",
    "                    {\n",
    "                        \"associationCategory\": \"HUBSPOT_DEFINED\",\n",
    "                        \"associationTypeId\": 216\n",
    "                    }\n",
    "                ]\n",
    "            }\n",
    "        )\n",
    "        \n",
    "    # Requests\n",
    "    associations = contacts + companies + deals\n",
    "    payload = {\n",
    "        \"properties\":\n",
    "        {\n",
    "            \"hs_task_subject\": hs_task_subject,\n",
    "            \"hs_task_type\": hs_task_type,\n",
    "            \"hs_task_body\": hs_task_body,\n",
    "            \"hs_task_status\": hs_task_status,\n",
    "            \"hs_task_priority\": hs_task_priority,\n",
    "            \"hs_timestamp\": hs_timestamp,\n",
    "            \"hubspot_owner_id\": hubspot_owner_id,\n",
    "        },\n",
    "        \"associations\": associations\n",
    "    }\n",
    "    headers = {\n",
    "        'accept': \"application/json\",\n",
    "        'content-type': \"application/json\",\n",
    "        'authorization': f\"Bearer {hs_access_token}\"\n",
    "    }\n",
    "    url = \"https://api.hubapi.com/crm/v3/objects/tasks\"\n",
    "    \n",
    "    # Response\n",
    "    res = requests.post(url, headers=headers, json=payload)\n",
    "    if res.status_code == 201:\n",
    "        data = res.json()\n",
    "        print(\"✅ Task successfully created:\", data.get('id'))\n",
    "    else:\n",
    "        print(res)\n",
    "        print(res.text)\n",
    "    return data\n",
    "\n",
    "task = create_task(\n",
    "    hs_access_token,\n",
    "    hs_task_subject,\n",
    "    hs_task_type=hs_task_type,\n",
    "    hs_task_body=hs_task_body,\n",
    "    hs_task_priority=hs_task_priority,\n",
    "    hs_task_status=hs_task_status,\n",
    "    hs_timestamp=hs_timestamp,\n",
    "    hubspot_owner_id=hubspot_owner_id,\n",
    "    contact_ids=contact_associations,\n",
    "    company_ids=company_associations,\n",
    "    deal_ids=deal_associations,\n",
    ")"
   ]
  },
  {
   "cell_type": "markdown",
   "id": "1595374b-bf8a-4d54-9984-f8e9d593ab6e",
   "metadata": {
    "execution": {
     "iopub.execute_input": "2021-07-02T23:32:10.789097Z",
     "iopub.status.busy": "2021-07-02T23:32:10.788829Z",
     "iopub.status.idle": "2021-07-02T23:32:10.796900Z",
     "shell.execute_reply": "2021-07-02T23:32:10.796358Z",
     "shell.execute_reply.started": "2021-07-02T23:32:10.789033Z"
    },
    "papermill": {},
    "tags": []
   },
   "source": [
    "## Output"
   ]
  },
  {
   "cell_type": "markdown",
   "id": "1f5013be-2080-45f4-af1d-0ab576b0257b",
   "metadata": {
    "papermill": {},
    "tags": []
   },
   "source": [
    "### Display result"
   ]
  },
  {
   "cell_type": "code",
   "execution_count": null,
   "id": "3f5089b2-a6e9-4ca1-bede-382f70e9df04",
   "metadata": {
    "papermill": {},
    "tags": []
   },
   "outputs": [],
   "source": [
    "task"
   ]
  },
  {
   "cell_type": "code",
   "execution_count": null,
   "id": "1375912f-82d4-486b-8b51-532899758868",
   "metadata": {
    "papermill": {},
    "tags": []
   },
   "outputs": [],
   "source": []
  }
 ],
 "metadata": {
  "kernelspec": {
   "display_name": "Python 3",
   "language": "python",
   "name": "python3"
  },
  "language_info": {
   "codemirror_mode": {
    "name": "ipython",
    "version": 3
   },
   "file_extension": ".py",
   "mimetype": "text/x-python",
   "name": "python",
   "nbconvert_exporter": "python",
   "pygments_lexer": "ipython3",
   "version": "3.9.6"
  },
  "naas": {
   "notebook_id": "63aeeae50e8ed33337ecae83961e7a4d231d735b54281f19264f1939c3bdb2b4",
   "notebook_path": "HubSpot/HubSpot_Create_task.ipynb"
  },
  "papermill": {
   "default_parameters": {},
   "environment_variables": {},
   "parameters": {},
   "version": "2.3.3"
  },
  "widgets": {
   "application/vnd.jupyter.widget-state+json": {
    "state": {},
    "version_major": 2,
    "version_minor": 0
   }
  }
 },
 "nbformat": 4,
 "nbformat_minor": 5
}