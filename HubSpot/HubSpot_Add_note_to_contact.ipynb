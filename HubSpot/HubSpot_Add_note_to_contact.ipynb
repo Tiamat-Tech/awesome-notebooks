{
 "cells": [
  {
   "cell_type": "markdown",
   "id": "latin-packing",
   "metadata": {
    "execution": {
     "iopub.execute_input": "2021-02-23T14:22:16.610471Z",
     "iopub.status.busy": "2021-02-23T14:22:16.610129Z",
     "iopub.status.idle": "2021-02-23T14:22:16.627784Z",
     "shell.execute_reply": "2021-02-23T14:22:16.626866Z",
     "shell.execute_reply.started": "2021-02-23T14:22:16.610384Z"
    },
    "papermill": {},
    "tags": []
   },
   "source": [
    "<img width=\"8%\" alt=\"HubSpot.png\" src=\"https://raw.githubusercontent.com/jupyter-naas/awesome-notebooks/master/.github/assets/logos/HubSpot.png\" style=\"border-radius: 15%\">"
   ]
  },
  {
   "cell_type": "markdown",
   "id": "compressed-wilson",
   "metadata": {
    "papermill": {},
    "tags": []
   },
   "source": [
    "# HubSpot - Add note to contact\n",
    "<a href=\"https://bit.ly/3JyWIk6\">Give Feedback</a> | <a href=\"https://github.com/jupyter-naas/awesome-notebooks/issues/new?assignees=&labels=bug&template=bug_report.md&title=HubSpot+-+Add+note+to+contact:+Error+short+description\">Bug report</a>"
   ]
  },
  {
   "cell_type": "markdown",
   "id": "religious-programmer",
   "metadata": {
    "papermill": {},
    "tags": []
   },
   "source": [
    "**Tags:** #hubspot #sales #crm #engagements #notes #snippet"
   ]
  },
  {
   "cell_type": "markdown",
   "id": "1fe9f56e-561c-4f52-aef8-b861c9462107",
   "metadata": {
    "papermill": {},
    "tags": []
   },
   "source": [
    "**Author:** [Florent Ravenel](https://www.linkedin.com/in/florent-ravenel/)"
   ]
  },
  {
   "cell_type": "markdown",
   "id": "d6e68008-eba4-40c6-95fd-4e5510b910b4",
   "metadata": {
    "papermill": {},
    "tags": []
   },
   "source": [
    "**Last update:** 2023-08-29 (Created: 2023-08-29)"
   ]
  },
  {
   "cell_type": "markdown",
   "id": "0588e448-9df5-4cb4-be75-fe669a7c03b8",
   "metadata": {
    "execution": {
     "iopub.execute_input": "2022-05-31T06:20:54.776282Z",
     "iopub.status.busy": "2022-05-31T06:20:54.776003Z",
     "iopub.status.idle": "2022-05-31T06:20:54.787094Z",
     "shell.execute_reply": "2022-05-31T06:20:54.786154Z",
     "shell.execute_reply.started": "2022-05-31T06:20:54.776252Z"
    },
    "papermill": {},
    "tags": []
   },
   "source": [
    "**Description:** This notebook demonstrates how to add a note to one a several contacts in HubSpot using their contact ID. This can be particularly useful for recording details about a contact's engagement with your published content or their usage of your product."
   ]
  },
  {
   "cell_type": "markdown",
   "id": "c2fab42b-a8c2-4cde-bc79-1305540f4904",
   "metadata": {
    "papermill": {},
    "tags": []
   },
   "source": [
    "**References:**\n",
    "- [HubSpot API - Notes](https://developers.hubspot.com/docs/api/crm/notes)"
   ]
  },
  {
   "cell_type": "markdown",
   "id": "distinguished-truth",
   "metadata": {
    "papermill": {},
    "tags": []
   },
   "source": [
    "## Input"
   ]
  },
  {
   "cell_type": "markdown",
   "id": "numeric-mediterranean",
   "metadata": {
    "papermill": {},
    "tags": []
   },
   "source": [
    "### Import libraries"
   ]
  },
  {
   "cell_type": "code",
   "execution_count": null,
   "id": "potential-surfing",
   "metadata": {
    "papermill": {},
    "tags": []
   },
   "outputs": [],
   "source": [
    "import requests\n",
    "import naas\n",
    "from datetime import datetime, date, timezone"
   ]
  },
  {
   "cell_type": "markdown",
   "id": "fbebcc95-75e8-4e9a-b592-3a4b9d2fc3b5",
   "metadata": {
    "papermill": {},
    "tags": []
   },
   "source": [
    "### Setup variables\n",
    "[Get your HubSpot Access token](https://knowledge.hubspot.com/articles/kcs_article/integrations/how-do-i-get-my-hubspot-api-key)\n",
    "- `hs_access_token`: This variable stores an access token used for accessing the HubSpot API.\n",
    "- `body`: This variable stores the message that will be added to the note.\n",
    "- `contact_ids`: This variable stores the list of HubSpot contact ID that will be associated to the note.\n",
    "- `note_datetime`: This variable stores the datetime object of the note. If None 'note' date will be now."
   ]
  },
  {
   "cell_type": "code",
   "execution_count": null,
   "id": "0c61e90b-f2e7-4824-ad6d-80d80213a26e",
   "metadata": {
    "papermill": {},
    "tags": []
   },
   "outputs": [],
   "source": [
    "hs_access_token = naas.secret.get(\"HS_ACCESS_TOKEN\") or \"YOUR_HS_ACCESS_TOKEN\"\n",
    "body = \"My new note!\"\n",
    "contact_id = ['307851']\n",
    "note_timestamp = datetime.strptime('2023-08-24 03:54:57', \"%Y-%m-%d %H:%M:%S\") or datetime(2023, 8, 17, 16, 5, 5)"
   ]
  },
  {
   "cell_type": "markdown",
   "id": "registered-showcase",
   "metadata": {
    "papermill": {},
    "tags": []
   },
   "source": [
    "## Model"
   ]
  },
  {
   "cell_type": "markdown",
   "id": "321e0cc4-7648-48d2-989c-6250a6f3a9a0",
   "metadata": {
    "papermill": {},
    "tags": []
   },
   "source": [
    "### Create note associated to contact"
   ]
  },
  {
   "cell_type": "code",
   "execution_count": null,
   "id": "dff59c04-748c-4604-9b2f-d16e8553bf29",
   "metadata": {
    "papermill": {},
    "tags": []
   },
   "outputs": [],
   "source": [
    "def create_note(\n",
    "    api_key,\n",
    "    body,\n",
    "    object_datetime=None,\n",
    "    contact_ids=[],\n",
    "):\n",
    "    # Init\n",
    "    data = []\n",
    "    \n",
    "    # Get the current timestamp in UTC\n",
    "    if not object_datetime:\n",
    "        object_datetime = datetime.utcnow()\n",
    "        \n",
    "    hs_timestamp = object_datetime.replace(tzinfo=timezone.utc).strftime(\"%s\") + \"000\"\n",
    "    \n",
    "    # Create contact asso\n",
    "    contacts = []\n",
    "    for contact_id in contact_ids:\n",
    "        contacts.append(\n",
    "            {\n",
    "                \"to\": {\"id\": contact_id},\n",
    "                \"types\": [\n",
    "                    {\n",
    "                        \"associationCategory\": \"HUBSPOT_DEFINED\",\n",
    "                        \"associationTypeId\": 202\n",
    "                    }\n",
    "                ]\n",
    "            }\n",
    "        )\n",
    "                \n",
    "    # Requests\n",
    "    payload = {\n",
    "        \"properties\":\n",
    "        {\n",
    "            \"hs_note_body\": body,\n",
    "            \"hs_timestamp\": hs_timestamp\n",
    "        },\n",
    "        \"associations\": contacts\n",
    "    }\n",
    "    headers = {\n",
    "        'accept': \"application/json\",\n",
    "        'content-type': \"application/json\",\n",
    "        'authorization': f\"Bearer {api_key}\"\n",
    "    }\n",
    "    url = \"https://api.hubapi.com/crm/v3/objects/notes\"\n",
    "    \n",
    "    # Response\n",
    "    res = requests.post(url, headers=headers, json=payload)\n",
    "    if res.status_code == 201:\n",
    "        data = res.json()\n",
    "        print(\"✅ Note successfully created:\", data.get('id'))\n",
    "    else:\n",
    "        print(res)\n",
    "        print(res.text)\n",
    "    return data\n",
    "\n",
    "\n",
    "note = create_note(\n",
    "    hs_access_token,\n",
    "    body,\n",
    "    note_timestamp,\n",
    "    contact_id\n",
    ")\n",
    "note"
   ]
  },
  {
   "cell_type": "markdown",
   "id": "lonely-pacific",
   "metadata": {
    "execution": {
     "iopub.execute_input": "2021-07-02T23:32:10.789097Z",
     "iopub.status.busy": "2021-07-02T23:32:10.788829Z",
     "iopub.status.idle": "2021-07-02T23:32:10.796900Z",
     "shell.execute_reply": "2021-07-02T23:32:10.796358Z",
     "shell.execute_reply.started": "2021-07-02T23:32:10.789033Z"
    },
    "papermill": {},
    "tags": []
   },
   "source": [
    "## Output"
   ]
  },
  {
   "cell_type": "markdown",
   "id": "linear-address",
   "metadata": {
    "papermill": {},
    "tags": []
   },
   "source": [
    "### Display result"
   ]
  },
  {
   "cell_type": "code",
   "execution_count": null,
   "id": "ea94a4e6-a6e7-4bf2-beee-faab5ce9f5a4",
   "metadata": {
    "papermill": {},
    "tags": []
   },
   "outputs": [],
   "source": [
    "note"
   ]
  }
 ],
 "metadata": {
  "kernelspec": {
   "display_name": "Python 3",
   "language": "python",
   "name": "python3"
  },
  "language_info": {
   "codemirror_mode": {
    "name": "ipython",
    "version": 3
   },
   "file_extension": ".py",
   "mimetype": "text/x-python",
   "name": "python",
   "nbconvert_exporter": "python",
   "pygments_lexer": "ipython3",
   "version": "3.9.6"
  },
  "naas": {
   "notebook_id": "fffe7caf1ac0d096638c4e57e74ede411114700e1924b295ad76e864a1104f36",
   "notebook_path": "HubSpot/HubSpot_Add_note_to_contact.ipynb"
  },
  "papermill": {
   "default_parameters": {},
   "environment_variables": {},
   "parameters": {},
   "version": "2.3.3"
  },
  "widgets": {
   "application/vnd.jupyter.widget-state+json": {
    "state": {},
    "version_major": 2,
    "version_minor": 0
   }
  }
 },
 "nbformat": 4,
 "nbformat_minor": 5
}