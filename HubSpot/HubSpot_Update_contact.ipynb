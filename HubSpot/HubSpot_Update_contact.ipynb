{
 "cells": [
  {
   "cell_type": "markdown",
   "id": "african-pavilion",
   "metadata": {
    "papermill": {},
    "tags": []
   },
   "source": [
    "<img width=\"8%\" alt=\"HubSpot.png\" src=\"https://raw.githubusercontent.com/jupyter-naas/awesome-notebooks/master/.github/assets/logos/HubSpot.png\" style=\"border-radius: 15%\">"
   ]
  },
  {
   "cell_type": "markdown",
   "id": "frequent-pittsburgh",
   "metadata": {
    "papermill": {},
    "tags": []
   },
   "source": [
    "# HubSpot - Update contact\n",
    "<a href=\"https://bit.ly/3JyWIk6\">Give Feedback</a> | <a href=\"https://github.com/jupyter-naas/awesome-notebooks/issues/new?assignees=&labels=bug&template=bug_report.md&title=HubSpot+-+Update+contact:+Error+short+description\">Bug report</a>"
   ]
  },
  {
   "cell_type": "markdown",
   "id": "genuine-poland",
   "metadata": {
    "papermill": {},
    "tags": []
   },
   "source": [
    "**Tags:** #hubspot #crm #sales #contact #naas_drivers #snippet #update"
   ]
  },
  {
   "cell_type": "markdown",
   "id": "1ca9ae0b-0121-49dd-ab85-246f17d69448",
   "metadata": {
    "papermill": {},
    "tags": []
   },
   "source": [
    "**Author:** [Florent Ravenel](https://www.linkedin.com/in/florent-ravenel/)"
   ]
  },
  {
   "cell_type": "markdown",
   "id": "5b791f1e-d0ae-4a21-94fb-291a1418f35f",
   "metadata": {
    "papermill": {},
    "tags": []
   },
   "source": [
    "**Last update:** 2023-08-29 (Created: 2022-02-21)"
   ]
  },
  {
   "cell_type": "markdown",
   "id": "naas-description",
   "metadata": {
    "papermill": {},
    "tags": [
     "description"
    ]
   },
   "source": [
    "**Description:** This notebook allows users to update contact information in HubSpot."
   ]
  },
  {
   "cell_type": "markdown",
   "id": "e21a0313-39aa-4470-a804-c641659b755d",
   "metadata": {
    "papermill": {},
    "tags": []
   },
   "source": [
    "**References:**\n",
    "- [HubSpot API - Contacts](https://developers.hubspot.com/docs/api/crm/contacts)"
   ]
  },
  {
   "cell_type": "markdown",
   "id": "decreased-discovery",
   "metadata": {
    "papermill": {},
    "tags": []
   },
   "source": [
    "## Input"
   ]
  },
  {
   "cell_type": "markdown",
   "id": "outer-mechanism",
   "metadata": {
    "papermill": {},
    "tags": []
   },
   "source": [
    "### Import libraries"
   ]
  },
  {
   "cell_type": "code",
   "execution_count": null,
   "id": "obvious-surgery",
   "metadata": {
    "papermill": {},
    "tags": []
   },
   "outputs": [],
   "source": [
    "from naas_drivers import hubspot\n",
    "import naas"
   ]
  },
  {
   "cell_type": "markdown",
   "id": "bcf071a5-f2a8-4952-803b-d1abce07ca7d",
   "metadata": {
    "papermill": {},
    "tags": []
   },
   "source": [
    "### Setup variables\n",
    "[Get your HubSpot Access token](https://knowledge.hubspot.com/articles/kcs_article/integrations/how-do-i-get-my-hubspot-api-key)\n",
    "- `hs_access_token`: This variable stores an access token used for accessing the HubSpot API.\n",
    "- `contact_id`: This variable stores the HubSpot contact ID\n",
    "- `email`: This stores the contact's email address.\n",
    "- `firstname`: This stores the contact's first name.\n",
    "- `lastname`: This stores the contact's last name.\n",
    "- `phone`: This stores the contact's phone number.\n",
    "- `jobtitle`: This stores the contact's job title.\n",
    "- `website`: This stores the contact's website.\n",
    "- `company`: This stores the name of the company the contact works for.\n",
    "- `hubspot_owner_id`: This is likely to store the ID of the HubSpot user who owns this contact."
   ]
  },
  {
   "cell_type": "code",
   "execution_count": null,
   "id": "5a2f148d-7443-4ba0-9c3d-261a67003423",
   "metadata": {
    "papermill": {},
    "tags": []
   },
   "outputs": [],
   "source": [
    "hs_access_token = naas.secret.get(\"HS_ACCESS_TOKEN\") or \"YOUR_HS_ACCESS_TOKEN\"\n",
    "contact_id = \"715201\"\n",
    "email = \"test@cashstory.com\"\n",
    "firstname = \"Test\"\n",
    "lastname = \"CASHSTORY\"\n",
    "phone = \"+33600000000\"\n",
    "jobtitle = \"Consultant\"\n",
    "website = \"www.cashstory.com\"\n",
    "company = \"CASHSTORY\"\n",
    "hubspot_owner_id = None"
   ]
  },
  {
   "cell_type": "markdown",
   "id": "minor-white",
   "metadata": {
    "papermill": {},
    "tags": []
   },
   "source": [
    "## Model"
   ]
  },
  {
   "cell_type": "markdown",
   "id": "young-messaging",
   "metadata": {
    "papermill": {},
    "tags": []
   },
   "source": [
    "### Update contact using update method"
   ]
  },
  {
   "cell_type": "code",
   "execution_count": null,
   "id": "stupid-baker",
   "metadata": {
    "papermill": {},
    "tags": []
   },
   "outputs": [],
   "source": [
    "contact = hubspot.connect(hs_access_token).contacts.update(\n",
    "    contact_id,\n",
    "    email,\n",
    "    firstname,\n",
    "    lastname,\n",
    "    phone,\n",
    "    jobtitle,\n",
    "    website,\n",
    "    company,\n",
    "    hubspot_owner_id,\n",
    ")"
   ]
  },
  {
   "cell_type": "markdown",
   "id": "compressed-target",
   "metadata": {
    "papermill": {},
    "tags": []
   },
   "source": [
    "## Output"
   ]
  },
  {
   "cell_type": "markdown",
   "id": "4d39601c-e21c-4a3f-a0a4-f60b9354d490",
   "metadata": {
    "papermill": {},
    "tags": []
   },
   "source": [
    "### Display result"
   ]
  },
  {
   "cell_type": "code",
   "execution_count": null,
   "id": "38410b82-6f46-48d4-8cd1-533f5a83f7fc",
   "metadata": {
    "papermill": {},
    "tags": []
   },
   "outputs": [],
   "source": [
    "contact"
   ]
  }
 ],
 "metadata": {
  "kernelspec": {
   "display_name": "Python 3",
   "language": "python",
   "name": "python3"
  },
  "language_info": {
   "codemirror_mode": {
    "name": "ipython",
    "version": 3
   },
   "file_extension": ".py",
   "mimetype": "text/x-python",
   "name": "python",
   "nbconvert_exporter": "python",
   "pygments_lexer": "ipython3",
   "version": "3.9.6"
  },
  "naas": {
   "notebook_id": "8a175a5d458b09dfe5dbc8c5e40f3a0bbd41192e6a77aa6f922960b017c043e1",
   "notebook_path": "HubSpot/HubSpot_Update_contact.ipynb"
  },
  "papermill": {
   "default_parameters": {},
   "environment_variables": {},
   "parameters": {},
   "version": "2.3.3"
  }
 },
 "nbformat": 4,
 "nbformat_minor": 5
}