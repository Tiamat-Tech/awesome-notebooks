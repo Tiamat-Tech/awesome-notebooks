{
 "cells": [
  {
   "cell_type": "markdown",
   "id": "latin-packing",
   "metadata": {
    "execution": {
     "iopub.execute_input": "2021-02-23T14:22:16.610471Z",
     "iopub.status.busy": "2021-02-23T14:22:16.610129Z",
     "iopub.status.idle": "2021-02-23T14:22:16.627784Z",
     "shell.execute_reply": "2021-02-23T14:22:16.626866Z",
     "shell.execute_reply.started": "2021-02-23T14:22:16.610384Z"
    },
    "papermill": {},
    "tags": []
   },
   "source": [
    "<img width=\"8%\" alt=\"HubSpot.png\" src=\"https://raw.githubusercontent.com/jupyter-naas/awesome-notebooks/master/.github/assets/logos/HubSpot.png\" style=\"border-radius: 15%\">"
   ]
  },
  {
   "cell_type": "markdown",
   "id": "compressed-wilson",
   "metadata": {
    "papermill": {},
    "tags": []
   },
   "source": [
    "# HubSpot - Get notes associated to contact\n",
    "<a href=\"https://bit.ly/3JyWIk6\">Give Feedback</a> | <a href=\"https://github.com/jupyter-naas/awesome-notebooks/issues/new?assignees=&labels=bug&template=bug_report.md&title=HubSpot+-+Get+notes+associated+to+contact:+Error+short+description\">Bug report</a>"
   ]
  },
  {
   "cell_type": "markdown",
   "id": "religious-programmer",
   "metadata": {
    "papermill": {},
    "tags": []
   },
   "source": [
    "**Tags:** #hubspot #sales #crm #engagements #notes #snippet #json #contacts"
   ]
  },
  {
   "cell_type": "markdown",
   "id": "1fe9f56e-561c-4f52-aef8-b861c9462107",
   "metadata": {
    "papermill": {},
    "tags": []
   },
   "source": [
    "**Author:** [Florent Ravenel](https://www.linkedin.com/in/florent-ravenel/)"
   ]
  },
  {
   "cell_type": "markdown",
   "id": "781669b7-5302-4575-b50f-faaf4fecbf81",
   "metadata": {
    "papermill": {},
    "tags": []
   },
   "source": [
    "**Last update:** 2023-08-29 (Created: 2023-08-29)"
   ]
  },
  {
   "cell_type": "markdown",
   "id": "fc8ca211-950c-4d69-9a99-0cd55b42a007",
   "metadata": {
    "papermill": {},
    "tags": []
   },
   "source": [
    "**Description:** This notebook demonstrates how to retrieve all notes associated to a contact in HubSpot."
   ]
  },
  {
   "cell_type": "markdown",
   "id": "cb36ae70-e5a3-436e-9f2c-8be1f59db714",
   "metadata": {
    "papermill": {},
    "tags": []
   },
   "source": [
    "**References:**\n",
    "- [HubSpot API - Associations v4](https://developers.hubspot.com/docs/api/crm/associations)\n",
    "- [HubSpot API - Notes](https://developers.hubspot.com/docs/api/crm/notes)"
   ]
  },
  {
   "cell_type": "markdown",
   "id": "175f8e10-1992-4166-a8a3-fa7864d327a7",
   "metadata": {
    "papermill": {},
    "tags": []
   },
   "source": [
    "## Input"
   ]
  },
  {
   "cell_type": "markdown",
   "id": "8cf570fd-69e8-4767-aa35-76f0801264df",
   "metadata": {
    "papermill": {},
    "tags": []
   },
   "source": [
    "### Import libraries"
   ]
  },
  {
   "cell_type": "code",
   "execution_count": null,
   "id": "a49dd6be-6ed0-4cd8-8a85-165171817bfd",
   "metadata": {
    "papermill": {},
    "tags": []
   },
   "outputs": [],
   "source": [
    "import requests\n",
    "import naas"
   ]
  },
  {
   "cell_type": "markdown",
   "id": "00c9b1d0-7827-4676-930c-9cd110aeaa30",
   "metadata": {
    "papermill": {},
    "tags": []
   },
   "source": [
    "### Setup variables\n",
    "**Mandatory**\n",
    "\n",
    "[Get your HubSpot Access token](https://knowledge.hubspot.com/articles/kcs_article/integrations/how-do-i-get-my-hubspot-api-key)\n",
    "- `hs_access_token`: This variable stores an access token used for accessing the HubSpot API.\n",
    "- `contact_id`: This variable stores the HubSpot contact ID"
   ]
  },
  {
   "cell_type": "code",
   "execution_count": null,
   "id": "51607cee-f452-48b7-b2cf-9de941398d53",
   "metadata": {
    "papermill": {},
    "tags": []
   },
   "outputs": [],
   "source": [
    "# Mandatory\n",
    "hs_access_token = naas.secret.get(\"HS_ACCESS_TOKEN\") or \"YOUR_HS_ACCESS_TOKEN\"\n",
    "contact_id = 307851"
   ]
  },
  {
   "cell_type": "markdown",
   "id": "8cc8dee7-fefd-40ae-8a19-7983d2005f3c",
   "metadata": {
    "papermill": {},
    "tags": []
   },
   "source": [
    "## Model"
   ]
  },
  {
   "cell_type": "markdown",
   "id": "4f40acfc-e156-431d-a424-a5a2f7f3df37",
   "metadata": {
    "papermill": {},
    "tags": []
   },
   "source": [
    "### Get notes associated to contact"
   ]
  },
  {
   "cell_type": "code",
   "execution_count": null,
   "id": "78ca6fc6-80f7-45cd-a9a9-603d053f5081",
   "metadata": {
    "papermill": {},
    "tags": []
   },
   "outputs": [],
   "source": [
    "def get_association_from_contact(\n",
    "    token,\n",
    "    contact_id,\n",
    "    endpoint,\n",
    "):\n",
    "    # Init\n",
    "    results = []\n",
    "    \n",
    "    # Requests\n",
    "    headers = {\n",
    "        \"Content-Type\": \"application/json\",\n",
    "        \"Authorization\": f\"Bearer {token}\"\n",
    "    }\n",
    "    url = f\"https://api.hubapi.com/crm/v4/objects/contacts/{contact_id}/associations/{endpoint}\"\n",
    "    \n",
    "    # Response\n",
    "    res = requests.get(url, headers=headers)\n",
    "    if res.status_code == 200:\n",
    "        results = res.json().get(\"results\")\n",
    "    return results\n",
    "\n",
    "data = get_association_from_contact(\n",
    "    hs_access_token,\n",
    "    contact_id,\n",
    "    \"notes\"\n",
    ")\n",
    "print(\"Row fetched:\", len(data))"
   ]
  },
  {
   "cell_type": "markdown",
   "id": "11ffda0d-9a37-4790-abca-dfbe470210cf",
   "metadata": {
    "papermill": {},
    "tags": []
   },
   "source": [
    "## Output"
   ]
  },
  {
   "cell_type": "markdown",
   "id": "3b90e812-6e87-4b44-a2bc-8bb9d5a32eed",
   "metadata": {
    "papermill": {},
    "tags": []
   },
   "source": [
    "### Display result"
   ]
  },
  {
   "cell_type": "code",
   "execution_count": null,
   "id": "2fc9e0e8-0b46-41c1-9dba-a3d8ceaeecbb",
   "metadata": {
    "papermill": {},
    "tags": []
   },
   "outputs": [],
   "source": [
    "data"
   ]
  }
 ],
 "metadata": {
  "kernelspec": {
   "display_name": "Python 3",
   "language": "python",
   "name": "python3"
  },
  "language_info": {
   "codemirror_mode": {
    "name": "ipython",
    "version": 3
   },
   "file_extension": ".py",
   "mimetype": "text/x-python",
   "name": "python",
   "nbconvert_exporter": "python",
   "pygments_lexer": "ipython3",
   "version": "3.9.6"
  },
  "naas": {
   "notebook_id": "c79e3c28a55e8062cd77c414c2edb9668bd1840467f3586806e81547276cecb5",
   "notebook_path": "HubSpot/HubSpot_Get_notes_associated_to_contact.ipynb"
  },
  "papermill": {
   "default_parameters": {},
   "environment_variables": {},
   "parameters": {},
   "version": "2.3.3"
  },
  "widgets": {
   "application/vnd.jupyter.widget-state+json": {
    "state": {},
    "version_major": 2,
    "version_minor": 0
   }
  }
 },
 "nbformat": 4,
 "nbformat_minor": 5
}