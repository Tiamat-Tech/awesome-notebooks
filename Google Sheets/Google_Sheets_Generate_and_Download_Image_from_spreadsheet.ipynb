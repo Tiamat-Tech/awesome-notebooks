{
 "cells": [
  {
   "cell_type": "markdown",
   "id": "7ddf1412-6ae7-4845-8245-99a9e0c0ec09",
   "metadata": {
    "papermill": {},
    "tags": []
   },
   "source": [
    "<img width=\"8%\" alt=\"Google Sheets.png\" src=\"https://raw.githubusercontent.com/jupyter-naas/awesome-notebooks/master/.github/assets/logos/Google%20Sheets.png\" style=\"border-radius: 15%\">"
   ]
  },
  {
   "cell_type": "markdown",
   "id": "d7f3a80b-6616-4bfc-ad5b-b4ef958fa8db",
   "metadata": {
    "papermill": {},
    "tags": []
   },
   "source": [
    "# Google Sheets - Generate and Download Image from spreadsheet\n",
    "<a href=\"https://bit.ly/3JyWIk6\">Give Feedback</a> | <a href=\"https://github.com/jupyter-naas/awesome-notebooks/issues/new?assignees=&labels=bug&template=bug_report.md&title=Google+Sheets+-+Generate+and+Download+Image+from+spreadsheet:+Error+short+description\">Bug report</a>"
   ]
  },
  {
   "cell_type": "markdown",
   "id": "f7de975d-92c5-4c12-9a13-bc99e0c8641d",
   "metadata": {
    "papermill": {},
    "tags": []
   },
   "source": [
    "**Tags:** #googlesheet #gsheet #midjourney #naas_drivers #imaginedev"
   ]
  },
  {
   "cell_type": "markdown",
   "id": "30622b3a-7547-4de3-a2ea-1cc4e92e0ada",
   "metadata": {
    "papermill": {},
    "tags": []
   },
   "source": [
    "**Author:** [Florent Ravenel](https://www.linkedin.com/in/florent-ravenel/)"
   ]
  },
  {
   "cell_type": "markdown",
   "id": "cb7f7eaa-c287-45c7-84a6-4cab47c8bfd9",
   "metadata": {
    "papermill": {},
    "tags": []
   },
   "source": [
    "**Last update:** 2023-11-13 (Created: 2023-11-13)"
   ]
  },
  {
   "cell_type": "markdown",
   "id": "6f94abc4-02a4-4f90-85c6-59f8c718d8ac",
   "metadata": {
    "papermill": {},
    "tags": []
   },
   "source": [
    "**Description:** This notebook will generate images and download them in your local from a Google Sheets spreadsheet."
   ]
  },
  {
   "cell_type": "markdown",
   "id": "6bc61dff-888f-4a9a-be32-86b858f134cc",
   "metadata": {
    "papermill": {},
    "tags": []
   },
   "source": [
    "**References:**\n",
    "- [ImagineAPI.dev Documentation](https://docs.imagineapi.dev/aypeeeye/image)"
   ]
  },
  {
   "cell_type": "markdown",
   "id": "ed297bf1-9fa1-4ca1-ba4d-9cd243b65302",
   "metadata": {
    "papermill": {},
    "tags": []
   },
   "source": [
    "## Input"
   ]
  },
  {
   "cell_type": "markdown",
   "id": "8093ec6f-823b-4d20-9b48-c673788e54d3",
   "metadata": {
    "papermill": {},
    "tags": []
   },
   "source": [
    "### Import libraries"
   ]
  },
  {
   "cell_type": "code",
   "execution_count": null,
   "id": "4a3db93f-11d2-4628-9b7c-531607657c62",
   "metadata": {
    "papermill": {},
    "tags": []
   },
   "outputs": [],
   "source": [
    "from naas_drivers import gsheet\n",
    "import urllib.parse\n",
    "import requests\n",
    "import os\n",
    "import naas\n",
    "import pydash as py\n",
    "import time\n",
    "from IPython.display import Image, display"
   ]
  },
  {
   "cell_type": "markdown",
   "id": "14b42145-22ee-4ad2-abb6-316777fe52ca",
   "metadata": {
    "papermill": {},
    "tags": []
   },
   "source": [
    "### Setup variables\n",
    "- `spreadsheet_url`: This variable stores the URL of a Google Sheets spreadsheet.\n",
    "- `sheet_name`: This variable stores the name of a specific sheet within the Google Sheets spreadsheet.\n",
    "- `api_key`: API key provided by ImagineAPI.dev. [Get your API key](https://docs.imagineapi.dev/aypeeeye/authentication)\n",
    "- `imagineapi_url`: Your ImagineAPI URL\n",
    "- `output_dir`: This variable stores the output directory to store images."
   ]
  },
  {
   "cell_type": "code",
   "execution_count": null,
   "id": "4b1fad6f-e7d1-4753-89a0-68088d56650d",
   "metadata": {
    "papermill": {},
    "tags": []
   },
   "outputs": [],
   "source": [
    "spreadsheet_url = \"https://docs.google.com/spreadsheets/d/\"\n",
    "sheet_name = \"Ref\"\n",
    "col_image_name = \"Character\"\n",
    "col_image_url = \"Avatar\"\n",
    "\n",
    "api_key = naas.secret.get(\"IMAGINEAPI_API_KEY\")\n",
    "imagineapi_url = \"https://cl-151.imagineapi.dev/admin/login\"\n",
    "prompt = \" profile picture\"\n",
    "\n",
    "output_dir = \"../.github/assets/characters\""
   ]
  },
  {
   "cell_type": "markdown",
   "id": "cda269c3-b283-4bf8-956f-7a4f4fb54367",
   "metadata": {
    "papermill": {},
    "tags": []
   },
   "source": [
    "## Model"
   ]
  },
  {
   "cell_type": "markdown",
   "id": "32e8e505-3cf0-4afd-8db2-c52ba8bb4662",
   "metadata": {
    "papermill": {},
    "tags": []
   },
   "source": [
    "### Get image from output directory"
   ]
  },
  {
   "cell_type": "code",
   "execution_count": null,
   "id": "45205973-f102-4d86-adcc-0ba79df52033",
   "metadata": {
    "papermill": {},
    "tags": []
   },
   "outputs": [],
   "source": [
    "output_dir = \"../.github/assets/characters\"\n",
    "os.makedirs(output_dir, exist_ok=True)\n",
    "images = sorted(os.listdir(output_dir))\n",
    "print(images)"
   ]
  },
  {
   "cell_type": "markdown",
   "id": "d18711cf-becf-4c5b-93d3-ba655324f85a",
   "metadata": {
    "papermill": {},
    "tags": []
   },
   "source": [
    "### Get data from Google Sheets spreadsheet"
   ]
  },
  {
   "cell_type": "code",
   "execution_count": null,
   "id": "330f4d8a-9b65-452c-9629-04b20d94775b",
   "metadata": {
    "papermill": {},
    "tags": []
   },
   "outputs": [],
   "source": [
    "df_input = gsheet.connect(spreadsheet_url).get(sheet_name=sheet_name)\n",
    "print(\"Row fetched:\", len(df_input))\n",
    "df_input.head(1)"
   ]
  },
  {
   "cell_type": "markdown",
   "id": "56f0d08e-604a-49f8-bdfb-afc0a34c0ad9",
   "metadata": {
    "papermill": {},
    "tags": []
   },
   "source": [
    "### Generate and Download images"
   ]
  },
  {
   "cell_type": "code",
   "execution_count": null,
   "id": "5662f1c0-2c4e-4a1b-880f-0c99b7942365",
   "metadata": {
    "papermill": {},
    "tags": []
   },
   "outputs": [],
   "source": [
    "def create_image(\n",
    "    api_key,\n",
    "    base_url,\n",
    "    prompt\n",
    "):\n",
    "    data = {\n",
    "        \"prompt\": prompt,\n",
    "    }\n",
    "    headers = {\n",
    "        'Authorization': f'Bearer {api_key}',\n",
    "        'Content-Type': 'application/json'\n",
    "    }\n",
    "    domain = base_url.split(\"https://\")[1].split(\"/\")[0]\n",
    "    url  = f\"https://{domain}/items/images/\"\n",
    "    res = requests.post(url, json=data, headers=headers)\n",
    "    res.raise_for_status\n",
    "    return py.get(res.json(), \"data.id\")\n",
    "\n",
    "def get_image(\n",
    "    api_key,\n",
    "    base_url,\n",
    "    image_id\n",
    "):\n",
    "    headers = {\n",
    "        'Authorization': f'Bearer {api_key}',\n",
    "        'Content-Type': 'application/json'\n",
    "    }\n",
    "    domain = base_url.split(\"https://\")[1].split(\"/\")[0]\n",
    "    url  = f\"https://{domain}/items/images/{image_id}\"\n",
    "    res = requests.get(url, headers=headers)\n",
    "    res.raise_for_status\n",
    "    return res.json()\n",
    "\n",
    "def generate_image(\n",
    "    api_key,\n",
    "    base_url,\n",
    "    prompt\n",
    "):\n",
    "    # Init\n",
    "    data = {}\n",
    "    \n",
    "    # Create Image\n",
    "    image_id = create_image(\n",
    "        api_key,\n",
    "        base_url,\n",
    "        prompt\n",
    "    )\n",
    "    \n",
    "    while True:\n",
    "        # Check status\n",
    "        data = get_image(\n",
    "            api_key,\n",
    "            base_url,\n",
    "            image_id\n",
    "        )\n",
    "        status = py.get(data, \"data.status\")\n",
    "        progress = py.get(data, \"data.progress\")\n",
    "        if status == \"pending\":\n",
    "            progress = 0\n",
    "        if status == \"completed\":\n",
    "            progress = 100\n",
    "        print(f\"- Status: {status}\")\n",
    "        print(f\"- Progress: {progress}%\")\n",
    "        print()\n",
    "        if status in [\"completed\", \"failed\"]:\n",
    "            break\n",
    "        time.sleep(7)\n",
    "    return data\n",
    "\n",
    "def dowload_image(\n",
    "    image_url, \n",
    "    image_path\n",
    "):\n",
    "    # Send a GET request to the image URL\n",
    "    response = requests.get(image_url)\n",
    "\n",
    "    # Check if the request was successful\n",
    "    if response.status_code == 200:\n",
    "        # Get the content of the response\n",
    "        image_content = response.content\n",
    "\n",
    "        # Save the image to a file\n",
    "        with open(image_path, \"wb\") as file:\n",
    "            file.write(image_content)\n",
    "        print(\"✅ Image downloaded successfully.\")\n",
    "    else:\n",
    "        print(f\"Failed to download image. Error: {response.text}\")\n",
    "\n",
    "for i, row in df_input.iterrows():\n",
    "    # Init\n",
    "    image_name = row[col_image_name]\n",
    "    image_url = row[col_image_url]\n",
    "    image_name_ext = image_name + \".png\"\n",
    "    image_path = os.path.join(output_dir, image_name_ext)\n",
    "    print(f\"{i+1} - Started with:\", image_name)\n",
    "    \n",
    "    # Generate Image\n",
    "    if image_name_ext in images:\n",
    "        print(f\"✅ Image already exists in: {output_dir}\")\n",
    "    elif not str(image_url).startswith(\"https://\") or str(image_url) == \"None\":\n",
    "        image_prompt = image_name + prompt\n",
    "        print(f\"Prompt: {image_prompt}\")\n",
    "        image_data = generate_image(api_key, imagineapi_url, image_prompt)\n",
    "        time.sleep(10)\n",
    "        urls = py.get(image_data, \"data.upscaled_urls\")\n",
    "        for j, url in enumerate(urls):\n",
    "            print(\"URL:\", url)\n",
    "            display(Image(url=url, width=400, height=400))\n",
    "            if j == 0:\n",
    "                image_name_ext = image_name + \".png\"\n",
    "            else:\n",
    "                image_name_ext = image_name + f'_{str(j)}' + \".png\"\n",
    "            image_path = os.path.join(output_dir, image_name_ext)\n",
    "            dowload_image(\n",
    "                url, \n",
    "                image_path\n",
    "            )\n",
    "    elif image_name_ext not in images:\n",
    "        dowload_image(\n",
    "            image_url, \n",
    "            image_path\n",
    "        )\n",
    "        \n",
    "    # Update dataframe\n",
    "    df_input.loc[i, col_image_url] = f\"https://raw.githubusercontent.com/jupyter-naas/awesome-notebooks/master/.github/assets/characters/{urllib.parse.quote(image_name_ext)}\"\n",
    "\n",
    "df_input"
   ]
  },
  {
   "cell_type": "markdown",
   "id": "b6c44f79-3b50-4649-9828-166ecf3ae74c",
   "metadata": {
    "papermill": {},
    "tags": []
   },
   "source": [
    "## Output"
   ]
  },
  {
   "cell_type": "markdown",
   "id": "b6e89416-0cde-4730-ada1-e25ff43a5af4",
   "metadata": {
    "papermill": {},
    "tags": []
   },
   "source": [
    "### Send data to Google Sheets"
   ]
  },
  {
   "cell_type": "code",
   "execution_count": null,
   "id": "55ab072e-87dc-45d6-8ecb-0a146da9112b",
   "metadata": {
    "papermill": {},
    "tags": []
   },
   "outputs": [],
   "source": [
    "gsheet.connect(spreadsheet_url).send(data=df_input, sheet_name=sheet_name, append=False)"
   ]
  },
  {
   "cell_type": "code",
   "execution_count": null,
   "id": "35258050-1ac9-42a3-807c-0cb90764ee2b",
   "metadata": {
    "papermill": {},
    "tags": []
   },
   "outputs": [],
   "source": []
  }
 ],
 "metadata": {
  "kernelspec": {
   "display_name": "Python 3",
   "language": "python",
   "name": "python3"
  },
  "language_info": {
   "codemirror_mode": {
    "name": "ipython",
    "version": 3
   },
   "file_extension": ".py",
   "mimetype": "text/x-python",
   "name": "python",
   "nbconvert_exporter": "python",
   "pygments_lexer": "ipython3",
   "version": "3.9.6"
  },
  "naas": {
   "notebook_id": "8ac7e2693a8b84f5c342b676e4472340a4de542d6601527f44714858a90b6efe",
   "notebook_path": "Google Sheets/Google_Sheets_Generate_and_Download_Image_from_spreadsheet.ipynb"
  },
  "papermill": {
   "default_parameters": {},
   "environment_variables": {},
   "parameters": {},
   "version": "2.4.0"
  }
 },
 "nbformat": 4,
 "nbformat_minor": 5
}