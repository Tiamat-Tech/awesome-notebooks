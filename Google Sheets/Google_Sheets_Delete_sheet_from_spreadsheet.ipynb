{
 "cells": [
  {
   "cell_type": "markdown",
   "id": "9716775a-3588-46a7-8591-15c84c841cdb",
   "metadata": {
    "papermill": {},
    "tags": []
   },
   "source": [
    "<img width=\"8%\" alt=\"Google Sheets.png\" src=\"https://raw.githubusercontent.com/jupyter-naas/awesome-notebooks/master/.github/assets/logos/Google%20Sheets.png\" style=\"border-radius: 15%\">"
   ]
  },
  {
   "cell_type": "markdown",
   "id": "54b1b3a9-7cff-40b3-9834-5bda5c6c02a6",
   "metadata": {
    "papermill": {},
    "tags": []
   },
   "source": [
    "# Google Sheets - Delete sheet from spreadsheet\n",
    "<a href=\"https://bit.ly/3JyWIk6\">Give Feedback</a> | <a href=\"https://github.com/jupyter-naas/awesome-notebooks/issues/new?assignees=&labels=bug&template=bug_report.md&title=Google+Sheets+-+Delete+sheet+from+spreadsheet:+Error+short+description\">Bug report</a>"
   ]
  },
  {
   "cell_type": "markdown",
   "id": "6767de75-0c52-48b8-af93-031ab138fa33",
   "metadata": {
    "papermill": {},
    "tags": []
   },
   "source": [
    "**Tags:** #googlesheets #spreadsheet #delete #sheet #python #gspread"
   ]
  },
  {
   "cell_type": "markdown",
   "id": "273cca37-e850-4092-afbe-3a117635f917",
   "metadata": {
    "papermill": {},
    "tags": []
   },
   "source": [
    "**Author:** [SaiKiran M](https://www.linkedin.com/in/msaikiran9/)"
   ]
  },
  {
   "cell_type": "markdown",
   "id": "1733da15-21e6-4946-8df0-54eae25d74ce",
   "metadata": {
    "papermill": {},
    "tags": []
   },
   "source": [
    "**Last update:** 2023-10-31 (Created: 2023-10-31)"
   ]
  },
  {
   "cell_type": "markdown",
   "id": "d6cc7816-53b4-45c4-a897-6c59ab81d13c",
   "metadata": {
    "papermill": {},
    "tags": []
   },
   "source": [
    "**Description:** This notebook will delete a sheet with \"sheet_id\" from a Google Sheets spreadsheet."
   ]
  },
  {
   "cell_type": "markdown",
   "id": "c0c154d7-863d-4504-a351-4a1e6c305e88",
   "metadata": {
    "papermill": {},
    "tags": []
   },
   "source": [
    "**References:**\n",
    "- [gspread Documentation](https://gspread.readthedocs.io/en/latest/)\n",
    "- [Google Sheets API Documentation](https://developers.google.com/sheets/api/reference/rest/)"
   ]
  },
  {
   "cell_type": "markdown",
   "id": "11f6b2d0-3df2-4e80-8e3a-d77fa551d590",
   "metadata": {
    "papermill": {},
    "tags": []
   },
   "source": [
    "## Input"
   ]
  },
  {
   "cell_type": "markdown",
   "id": "69c46922-7f5e-405d-9833-8ff52e18f2f8",
   "metadata": {
    "papermill": {},
    "tags": []
   },
   "source": [
    "### Import libraries"
   ]
  },
  {
   "cell_type": "code",
   "execution_count": 20,
   "id": "673c8195-ccbf-40b0-b672-019e67b8aeb1",
   "metadata": {
    "papermill": {},
    "tags": []
   },
   "outputs": [],
   "source": [
    "try:\n",
    "    import gspread\n",
    "    from oauth2client.service_account import ServiceAccountCredentials\n",
    "except ImportError:\n",
    "    !pip install gspread oauth2client\n",
    "    import gspread\n",
    "    from oauth2client.service_account import ServiceAccountCredentials"
   ]
  },
  {
   "cell_type": "markdown",
   "id": "8fdcfba9-6bb7-424e-807a-12db5b98f5b8",
   "metadata": {
    "papermill": {},
    "tags": []
   },
   "source": [
    "### Setup variables\n",
    "**Pre-requisite**\n",
    "- [Create a service account and download JSON](https://cloud.google.com/iam/docs/service-accounts-create)\n",
    "- [Enable Google Sheets API](https://console.cloud.google.com/apis/library/sheets.googleapis.com)\n",
    "- Share your Google Sheet spreadsheet with service account client email\n",
    "**Mandatory**\n",
    "- `scope`: list of strings that define the access rights of the application\n",
    "- `credential_path`: credential.json path .\n",
    "- `spreadsheet_id`: spreadsheet to be used to access and delete the sheet required.\n",
    "- `sheet_name`: name of the sheet to be deleted"
   ]
  },
  {
   "cell_type": "code",
   "execution_count": 21,
   "id": "ca9a08de-69e8-4d32-8bb8-bb12fd892695",
   "metadata": {
    "papermill": {},
    "tags": []
   },
   "outputs": [],
   "source": [
    "credential_path = \"./credentials.json\"\n",
    "spreadsheet_id = '1bt2D7DPsmPYTQI0IOziAxYMbI9eRADN8gxTKMSmE7aw'  # Replace with the id of your existing spreadsheet\n",
    "sheet_name=\"Sheet5\""
   ]
  },
  {
   "cell_type": "markdown",
   "id": "8a9f18a0-957b-46e7-a1b3-de98b0844bc7",
   "metadata": {
    "papermill": {},
    "tags": []
   },
   "source": [
    "## Model"
   ]
  },
  {
   "cell_type": "markdown",
   "id": "0ec98635-70dc-40b5-b412-12f41b82fc5d",
   "metadata": {
    "papermill": {},
    "tags": []
   },
   "source": [
    "### Delete sheet"
   ]
  },
  {
   "cell_type": "markdown",
   "id": "f7572a48-6e3f-4740-8cb5-215c412c813f",
   "metadata": {
    "papermill": {},
    "tags": []
   },
   "source": [
    "This function deletes a sheet from a Google Sheets spreadsheet."
   ]
  },
  {
   "cell_type": "code",
   "execution_count": 22,
   "id": "d4fc15e6-1418-464f-acd0-4d0f8cb71c58",
   "metadata": {
    "papermill": {},
    "tags": []
   },
   "outputs": [],
   "source": [
    "scope = [\n",
    "    \"https://spreadsheets.google.com/feeds\",\n",
    "    \"https://www.googleapis.com/auth/drive\",\n",
    "]\n",
    "try:\n",
    "    credentials = ServiceAccountCredentials.from_json_keyfile_name(\n",
    "    \"credentials.json\", scope)\n",
    "    client = gspread.authorize(credentials)\n",
    "    spreadsheet = client.open_by_key(spreadsheet_id)\n",
    "except Exception as e:\n",
    "    print(\"An exception occurred:\", e)"
   ]
  },
  {
   "cell_type": "markdown",
   "id": "2cc43be9-ba83-4667-b849-c70dd77bdf57",
   "metadata": {
    "papermill": {},
    "tags": []
   },
   "source": [
    "## Output"
   ]
  },
  {
   "cell_type": "markdown",
   "id": "e9291825-af69-4a73-9334-04c04df1903e",
   "metadata": {
    "papermill": {},
    "tags": []
   },
   "source": [
    "### Display result"
   ]
  },
  {
   "cell_type": "markdown",
   "id": "46c09243-bdb8-446e-ae0a-11676461244a",
   "metadata": {
    "papermill": {},
    "tags": []
   },
   "source": [
    "The sheet has been deleted from the spreadsheet."
   ]
  },
  {
   "cell_type": "code",
   "execution_count": null,
   "id": "7a2780fb-1c0e-4a25-8b06-66671561a076",
   "metadata": {
    "papermill": {},
    "tags": []
   },
   "outputs": [],
   "source": [
    "try:\n",
    "    sheet_id=spreadsheet.del_worksheet(spreadsheet.worksheet(sheet_name))[\"spreadsheetId\"]\n",
    "    print(f\"Spreadsheet {sheet_id}'s , {sheet_name} is deleted !\")\n",
    "except Exception as e:\n",
    "    print(\"An exception occurred:\", e)"
   ]
  }
 ],
 "metadata": {
  "kernelspec": {
   "display_name": "Python 3",
   "language": "python",
   "name": "python3"
  },
  "language_info": {
   "codemirror_mode": {
    "name": "ipython",
    "version": 3
   },
   "file_extension": ".py",
   "mimetype": "text/x-python",
   "name": "python",
   "nbconvert_exporter": "python",
   "pygments_lexer": "ipython3",
   "version": "3.9.6"
  },
  "naas": {
   "notebook_id": "e3f14a3a595cc1176ae10550fe9e768868c614648432c4f6c29087048f8a3a99",
   "notebook_path": "Google Sheets/Google_Sheets_Delete_sheet_from_spreadsheet.ipynb"
  },
  "papermill": {
   "default_parameters": {},
   "environment_variables": {},
   "parameters": {},
   "version": "2.5.0"
  },
  "widgets": {
   "application/vnd.jupyter.widget-state+json": {
    "state": {},
    "version_major": 2,
    "version_minor": 0
   }
  }
 },
 "nbformat": 4,
 "nbformat_minor": 5
}