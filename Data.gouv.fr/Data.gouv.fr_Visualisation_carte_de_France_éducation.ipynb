{
 "cells": [
  {
   "cell_type": "markdown",
   "id": "88c104cc-bf08-4242-821b-b3a40908152a",
   "metadata": {
    "papermill": {},
    "tags": []
   },
   "source": [
    "<img width=\"8%\" alt=\"Data.gouv.fr.png\" src=\"https://raw.githubusercontent.com/jupyter-naas/awesome-notebooks/master/.github/assets/logos/Data.gouv.fr.png\" style=\"border-radius: 15%\">"
   ]
  },
  {
   "cell_type": "markdown",
   "id": "compressed-wilson",
   "metadata": {
    "papermill": {},
    "tags": []
   },
   "source": [
    "# Data.gouv.fr - Visualisation de la carte de France des établissements éducatifs\n",
    "<a href=\"https://bit.ly/3JyWIk6\">Give Feedback</a> | <a href=\"https://github.com/jupyter-naas/awesome-notebooks/issues/new?assignees=&labels=bug&template=bug_report.md&title=Data.gouv.fr+-+Visualisation+de+la+carte+de+France+des+établissements+éducatifs:+Error+short+description\">Bug report</a>"
   ]
  },
  {
   "cell_type": "markdown",
   "id": "religious-programmer",
   "metadata": {
    "papermill": {},
    "tags": []
   },
   "source": [
    "**Tags:** #Data.gouv.fr"
   ]
  },
  {
   "cell_type": "markdown",
   "id": "1fe9f56e-561c-4f52-aef8-b861c9462107",
   "metadata": {
    "papermill": {},
    "tags": []
   },
   "source": [
    "**Author:** [Paul Gilbert](https://www.linkedin.com/in/paul-gilbert-410783aa/)"
   ]
  },
  {
   "cell_type": "markdown",
   "id": "0de144be-594d-463e-9849-696fb2f6d1a8",
   "metadata": {
    "papermill": {},
    "tags": []
   },
   "source": [
    "**Last update:** 2024-02-29 (Created: 2024-02-29)"
   ]
  },
  {
   "cell_type": "markdown",
   "id": "31ea7cdb-e10d-43fc-b026-f69249a59736",
   "metadata": {
    "papermill": {},
    "tags": []
   },
   "source": [
    "**Description:** This notebook demonstrates how to extract schools information (\"identifiant\", \"latitude\" and \"longitude\" from Data.gouv.fr API and then visualize it on a map with plotly.express."
   ]
  },
  {
   "cell_type": "markdown",
   "id": "d4b89388-5cd5-409a-8169-c53cc8dfab96",
   "metadata": {
    "papermill": {},
    "tags": []
   },
   "source": [
    "**References:**\n",
    "- [Data education.gouv.fr](https://data.education.gouv.fr/explore/dataset/fr-en-annuaire-education/table/?disjunctive.type_etablissement&disjunctive.code_postal&disjunctive.nom_commune&disjunctive.appartenance_education_prioritaire&disjunctive.libelle_academie&disjunctive.libelle_region&disjunctive.ministere_tutelle)\n",
    "- [Naas Documentation](https://site.naas.ai/)"
   ]
  },
  {
   "cell_type": "markdown",
   "id": "distinguished-truth",
   "metadata": {
    "papermill": {},
    "tags": []
   },
   "source": [
    "## Input"
   ]
  },
  {
   "cell_type": "markdown",
   "id": "numeric-mediterranean",
   "metadata": {
    "papermill": {},
    "tags": []
   },
   "source": [
    "### Import libraries"
   ]
  },
  {
   "cell_type": "code",
   "execution_count": null,
   "id": "potential-surfing",
   "metadata": {
    "papermill": {},
    "tags": []
   },
   "outputs": [],
   "source": [
    "import pandas as pd\n",
    "import requests\n",
    "import json\n",
    "import plotly.express as px\n",
    "import ipywidgets as widgets\n",
    "from IPython.display import display"
   ]
  },
  {
   "cell_type": "markdown",
   "id": "aggressive-trustee",
   "metadata": {
    "papermill": {},
    "tags": []
   },
   "source": [
    "### Setup variables\n",
    "- `url`: Link to data source in JSON.\n",
    "- `output_csv`: CSV output path."
   ]
  },
  {
   "cell_type": "code",
   "execution_count": null,
   "id": "dccc4460-b0d0-40e4-b575-1ba743c631a4",
   "metadata": {
    "papermill": {},
    "tags": []
   },
   "outputs": [],
   "source": [
    "url = 'https://data.education.gouv.fr/api/explore/v2.1/catalog/datasets/fr-en-annuaire-education/exports/json'\n",
    "output_csv = \"Education_France.csv\""
   ]
  },
  {
   "cell_type": "markdown",
   "id": "registered-showcase",
   "metadata": {
    "papermill": {},
    "tags": []
   },
   "source": [
    "## Model"
   ]
  },
  {
   "cell_type": "markdown",
   "id": "9a01c57f-889f-4036-8ecd-a1c77a23d5b3",
   "metadata": {
    "execution": {
     "iopub.execute_input": "2024-02-29T10:13:39.341069Z",
     "iopub.status.busy": "2024-02-29T10:13:39.340761Z",
     "iopub.status.idle": "2024-02-29T10:13:39.344019Z",
     "shell.execute_reply": "2024-02-29T10:13:39.343416Z",
     "shell.execute_reply.started": "2024-02-29T10:13:39.341036Z"
    },
    "papermill": {},
    "tags": []
   },
   "source": [
    "### Get data from 'data.education.gouv.fr'"
   ]
  },
  {
   "cell_type": "code",
   "execution_count": null,
   "id": "continuous-melbourne",
   "metadata": {
    "papermill": {},
    "tags": []
   },
   "outputs": [],
   "source": [
    "def get_data(url):                                                                            \n",
    "    res = requests.get(url)\n",
    "    if res.status_code == 200:\n",
    "        return pd.DataFrame(res.json())\n",
    "    \n",
    "df = get_data(url)\n",
    "print('Etablissements:', len(df))\n",
    "df.head(3)"
   ]
  },
  {
   "cell_type": "markdown",
   "id": "779d08a1-8c4c-4e25-a753-62deecd65266",
   "metadata": {
    "execution": {
     "iopub.status.busy": "2024-02-29T14:05:13.073201Z",
     "iopub.status.idle": "2024-02-29T14:05:13.073617Z",
     "shell.execute_reply": "2024-02-29T14:05:13.073444Z"
    },
    "papermill": {},
    "tags": []
   },
   "source": [
    "### Visualize the schools on a map with plotly.express"
   ]
  },
  {
   "cell_type": "code",
   "execution_count": null,
   "id": "6c046cfe-f9d3-463e-966a-d4d1a79edce2",
   "metadata": {
    "papermill": {},
    "tags": []
   },
   "outputs": [],
   "source": [
    "# Create dropdown widget\n",
    "dropdown_type = widgets.Dropdown(\n",
    "    options=df['type_etablissement'].unique().tolist(),\n",
    "    value='Ecole',\n",
    "    description=\"Type d'établissement\"\n",
    ")\n",
    "\n",
    "dropdown_region = widgets.Dropdown(\n",
    "    options=sorted(df.libelle_region.unique().tolist()),\n",
    "    value='Ile-de-France',\n",
    "    description=\"Région\"\n",
    ")\n",
    "\n",
    "# Function to update plot\n",
    "def update_plot(\n",
    "    type_etablissement,\n",
    "    region,\n",
    "):\n",
    "    filtered_df = df[(df['type_etablissement'] == type_etablissement) & (df['libelle_region'] == region)]\n",
    "    fig = px.scatter_mapbox(\n",
    "        filtered_df, \n",
    "        lat=\"latitude\", \n",
    "        lon=\"longitude\",\n",
    "        color=\"nombre_d_eleves\",\n",
    "        color_continuous_scale=px.colors.cyclical.IceFire,\n",
    "        zoom=6, \n",
    "        height=1200,\n",
    "        width=1200\n",
    "    )\n",
    "    \n",
    "    fig.update_layout(mapbox_style=\"open-street-map\")\n",
    "    fig.update_layout(margin={\"r\":0,\"t\":0,\"l\":0,\"b\":0})\n",
    "    fig.show()\n",
    "\n",
    "# Use widgets.interact to create the interactive plot\n",
    "widgets.interact(update_plot, type_etablissement=dropdown_type, region=dropdown_region)"
   ]
  },
  {
   "cell_type": "markdown",
   "id": "lonely-pacific",
   "metadata": {
    "execution": {
     "iopub.execute_input": "2021-07-02T23:32:10.789097Z",
     "iopub.status.busy": "2021-07-02T23:32:10.788829Z",
     "iopub.status.idle": "2021-07-02T23:32:10.796900Z",
     "shell.execute_reply": "2021-07-02T23:32:10.796358Z",
     "shell.execute_reply.started": "2021-07-02T23:32:10.789033Z"
    },
    "papermill": {},
    "tags": []
   },
   "source": [
    "## Output"
   ]
  },
  {
   "cell_type": "markdown",
   "id": "890f7c86-b7bb-4f5d-9a1b-e492dd9580fd",
   "metadata": {
    "papermill": {},
    "tags": []
   },
   "source": [
    "### Save DataFrame to csv"
   ]
  },
  {
   "cell_type": "code",
   "execution_count": null,
   "id": "9c4e3b7b-6440-4844-8054-265f1aec65eb",
   "metadata": {
    "papermill": {},
    "tags": []
   },
   "outputs": [],
   "source": [
    "df.to_csv(output_csv, index=False)"
   ]
  }
 ],
 "metadata": {
  "kernelspec": {
   "display_name": "Python 3",
   "language": "python",
   "name": "python3"
  },
  "language_info": {
   "codemirror_mode": {
    "name": "ipython",
    "version": 3
   },
   "file_extension": ".py",
   "mimetype": "text/x-python",
   "name": "python",
   "nbconvert_exporter": "python",
   "pygments_lexer": "ipython3",
   "version": "3.9.6"
  },
  "naas": {
   "notebook_id": "e67a1e07d6b2bf4b1340515e56a6fedc2449af7681457e606b32047596f9b7a3",
   "notebook_path": "Data.gouv.fr/Data.gouv.fr_Visualisation_carte_de_France_éducation.ipynb"
  },
  "papermill": {
   "default_parameters": {},
   "environment_variables": {},
   "parameters": {},
   "version": "2.3.3"
  },
  "widgets": {
   "application/vnd.jupyter.widget-state+json": {
    "state": {},
    "version_major": 2,
    "version_minor": 0
   }
  }
 },
 "nbformat": 4,
 "nbformat_minor": 5
}